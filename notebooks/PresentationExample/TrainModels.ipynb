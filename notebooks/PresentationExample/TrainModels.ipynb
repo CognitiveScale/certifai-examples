{
 "cells": [
  {
   "cell_type": "markdown",
   "metadata": {},
   "source": [
    "# Introduction\n",
    "This series of notebooks illustrates how to interface a model to Certifai, run a scan and perform some simple analyses\n",
    "\n",
    "## Part 1 - Train models\n",
    "The first notebook in the series (this one) does necessary data preprocessing for model building and trains a couple of simple models on the `German Credit` dataset.\n",
    "\n",
    "This dataset was sourced from Kaggle: https://www.kaggle.com/uciml/german-credit\n",
    "The original source is: https://archive.ics.uci.edu/ml/datasets/Statlog+%28German+Credit+Data%29\n",
    "\n",
    "Note - this notebook really has nothing to do with Certifai - it is just here to generate some models to work\n",
    "with for example purposes"
   ]
  },
  {
   "cell_type": "code",
   "execution_count": 1,
   "metadata": {},
   "outputs": [],
   "source": [
    "import pandas as pd\n",
    "from sklearn.model_selection import train_test_split\n",
    "from sklearn import preprocessing\n",
    "import numpy as np\n",
    "import random\n",
    "import pickle\n",
    "from sklearn.preprocessing import StandardScaler\n",
    "from sklearn.linear_model import LogisticRegression\n",
    "from sklearn.tree import DecisionTreeClassifier\n",
    "from sklearn.pipeline import Pipeline\n",
    "from sklearn.compose import ColumnTransformer\n",
    "\n",
    "# Set random seeds so we have a deterministic result\n",
    "random.seed(42)\n",
    "np.random.seed(42)"
   ]
  },
  {
   "cell_type": "markdown",
   "metadata": {},
   "source": [
    "# Data Preparation\n",
    "\n",
    "Import the data and separate the label column"
   ]
  },
  {
   "cell_type": "code",
   "execution_count": 2,
   "metadata": {},
   "outputs": [],
   "source": [
    "base_path = '..'\n",
    "all_data_file = f\"{base_path}/datasets/german_credit_eval.csv\"\n",
    "\n",
    "df = pd.read_csv(all_data_file)\n",
    "\n",
    "cat_columns = [\n",
    "    'checkingstatus',\n",
    "    'history',\n",
    "    'purpose',\n",
    "    'savings',\n",
    "    'employ',\n",
    "    'status',\n",
    "    'others',\n",
    "    'property',\n",
    "    'age',\n",
    "    'otherplans',\n",
    "    'housing',\n",
    "    'job',\n",
    "    'telephone',\n",
    "    'foreign'\n",
    "    ]\n",
    "\n",
    "label_column = 'outcome'\n",
    "\n",
    "# Separate outcome\n",
    "y = df[label_column]\n",
    "X = df.drop(label_column, axis=1)"
   ]
  },
  {
   "cell_type": "markdown",
   "metadata": {},
   "source": [
    "# Train Models\n",
    "Train a couple of simple models (we'll use a logistic  classifier and a decision tree for the sake of example, but any model family is fine).\n",
    "\n",
    "*Note* - we put the one-hot encoding in the model pipeline so that we wind up with models that take unpreprocessed input.  In a real pipeline we might instead choose to preprocess the data and work always on pre-encoded data, but to minimize the number of intermediary assets we generate we'll wrap it all in the model pipeline for this example."
   ]
  },
  {
   "cell_type": "code",
   "execution_count": 3,
   "metadata": {},
   "outputs": [
    {
     "name": "stdout",
     "output_type": "stream",
     "text": [
      "Model Logistic accuracy on holdout set: 0.77\n",
      "Model Decision tree accuracy on holdout set: 0.69\n"
     ]
    }
   ],
   "source": [
    "cat_cols = [\n",
    "    'checkingstatus',\n",
    "    'history',\n",
    "    'purpose',\n",
    "    'savings',\n",
    "    'employ',\n",
    "    'status',\n",
    "    'others',\n",
    "    'property',\n",
    "    'age',\n",
    "    'otherplans',\n",
    "    'housing',\n",
    "    'job',\n",
    "    'telephone',\n",
    "    'foreign'\n",
    "    ]\n",
    "\n",
    "categorical_features = [X.columns.get_loc(c) for c in cat_cols]\n",
    "numeric_features = [X.columns.get_loc(c) for c in X.columns if c not in cat_cols]\n",
    "numeric_transformer = StandardScaler()\n",
    "categorical_transformer = preprocessing.OneHotEncoder(sparse=False)\n",
    "\n",
    "preprocessor = ColumnTransformer(\n",
    "    transformers=[\n",
    "        ('num', numeric_transformer, numeric_features),\n",
    "        ('cat', categorical_transformer, categorical_features)])\n",
    "\n",
    "preprocessor.fit(X)\n",
    "\n",
    "def build_model(train_data, train_labels, test_data, test_labels, model, name):\n",
    "    pipe = Pipeline([('encoder', preprocessor), (name, model)])\n",
    "    pipe.fit(train_data, train_labels)\n",
    "    print(f\"Model {name} accuracy on holdout set: {pipe.score(test_data, test_labels)}\")\n",
    "    return pipe\n",
    "\n",
    "X_train, X_test, y_train, y_test = train_test_split(X, y, test_size=0.20, random_state=42)\n",
    "\n",
    "logistic_model = build_model(X_train, y_train, X_test, y_test, LogisticRegression(), 'Logistic')\n",
    "dtree_model = build_model(X_train, y_train, X_test, y_test, DecisionTreeClassifier(), 'Decision tree')"
   ]
  },
  {
   "cell_type": "markdown",
   "metadata": {},
   "source": [
    "# Save the trained models\n",
    "\n",
    "We will just pickle the models for use in subsequent notebooks"
   ]
  },
  {
   "cell_type": "code",
   "execution_count": 4,
   "metadata": {},
   "outputs": [],
   "source": [
    "model_dict = {\n",
    "    'logistic': logistic_model,\n",
    "    'dtree': dtree_model\n",
    "}\n",
    "\n",
    "with open('models.pkl', 'wb') as f:\n",
    "    pickle.dump(model_dict, f)"
   ]
  },
  {
   "cell_type": "code",
   "execution_count": null,
   "metadata": {},
   "outputs": [],
   "source": []
  }
 ],
 "metadata": {
  "kernelspec": {
   "display_name": "Python 3",
   "language": "python",
   "name": "python3"
  },
  "language_info": {
   "codemirror_mode": {
    "name": "ipython",
    "version": 3
   },
   "file_extension": ".py",
   "mimetype": "text/x-python",
   "name": "python",
   "nbconvert_exporter": "python",
   "pygments_lexer": "ipython3",
   "version": "3.6.9"
  }
 },
 "nbformat": 4,
 "nbformat_minor": 2
}
