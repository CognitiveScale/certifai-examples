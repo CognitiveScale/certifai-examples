{
 "cells": [
  {
   "cell_type": "markdown",
   "metadata": {},
   "source": [
    "# Running Cortex Certifai Scan on Azure ML Model with authentication\n"
   ]
  },
  {
   "cell_type": "markdown",
   "metadata": {},
   "source": [
    "## CONTENTS\n",
    "\n",
    "1. In this tutorial we will create sklearn models to classify [german credit loan risk](https://archive.ics.uci.edu/ml/datasets/Statlog+%28German+Credit+Data%29) (predict whether loan will be granted or not)\n",
    "\n",
    "2. Register model and deploy as webservice in ACI (AZURE CONTAINER INSTANCE) with authentication\n",
    "\n",
    "3. Test the deployed webservice\n",
    "\n",
    "4. Run Certifai Scan on the model deployed as webservice"
   ]
  },
  {
   "cell_type": "markdown",
   "metadata": {},
   "source": [
    "## Prerequisites\n",
    "\n",
    "If you are using an Azure Machine Learning Notebook VM, you are all set. Otherwise, make sure you go through the \n",
    "[configuration-notebook](https://github.com/Azure/MachineLearningNotebooks/blob/c520bd1d4130d9a01ee46e0937459e2de95d15ec/configuration.ipynb) to create an Azure workspace. Creating local and remote environments/dependencies will be covered in the notebook\n",
    "\n",
    "**PleaseNote**: to step through this notebook, make sure you have necessary dependencies installed locally\n",
    "\n",
    "- python>=3.6.2,<3.7\n",
    "- scikit-learn=0.20.3\n",
    "- numpy=1.16.2\n",
    "- pandas\n",
    "- azureml-sdk=1.4.0\n",
    "- ipython\n",
    "- matplotlib\n",
    "- jupyter\n",
    "\n",
    "You can also use [Conda](https://docs.conda.io/projects/conda/en/latest/user-guide/install/) to create the local environment using the `certifai_azure_model_env.yml` file provided with the notebook\n",
    "\n",
    "Open your favorite terminal and cd into folder where this notebook is located to execute the below commands\n",
    "\n",
    "- `conda env create -f certifai_azure_model_env.yml` : will create local conda env with the necessary python packages for working through the notebook\n",
    "- `jupyter-notebook` : to launch jupyter notebook sesssion. \n",
    "\n",
    "\n",
    "**Note**: Installing `Cortex-Certifai` packages will be covered separately"
   ]
  },
  {
   "cell_type": "markdown",
   "metadata": {},
   "source": [
    "### Set Cortex Certifai Toolkit path\n",
    "- update the `certifai_toolkit_path` to point your downloaded toolkit\n",
    "- this will be used later to install cortex certifai python packages"
   ]
  },
  {
   "cell_type": "code",
   "execution_count": 51,
   "metadata": {},
   "outputs": [
    {
     "data": {
      "text/plain": [
       "'/Users/akumar/Downloads/certifai_toolkit_v1.2.13'"
      ]
     },
     "execution_count": 51,
     "metadata": {},
     "output_type": "execute_result"
    }
   ],
   "source": [
    "from os.path import expanduser\n",
    "home = expanduser(\"~\")\n",
    "certifai_toolkit_path = f'{home}/Downloads/toolkit'\n",
    "certifai_toolkit_path"
   ]
  },
  {
   "cell_type": "markdown",
   "metadata": {},
   "source": [
    "## Creating a [german credit](https://archive.ics.uci.edu/ml/datasets/Statlog+%28German+Credit+Data%29) prediction model using sklearn"
   ]
  },
  {
   "cell_type": "code",
   "execution_count": 6,
   "metadata": {},
   "outputs": [],
   "source": [
    "# required imports for model building and persistance \n",
    "\n",
    "import pandas as pd\n",
    "import numpy as np\n",
    "from sklearn.linear_model import LogisticRegression\n",
    "from sklearn import svm\n",
    "from sklearn.model_selection import GridSearchCV\n",
    "from sklearn.model_selection import train_test_split\n",
    "import random\n",
    "from sklearn.externals import joblib"
   ]
  },
  {
   "cell_type": "markdown",
   "metadata": {},
   "source": [
    "### Test to confirm correct version of scikit-learn and numpy are installed"
   ]
  },
  {
   "cell_type": "code",
   "execution_count": 44,
   "metadata": {},
   "outputs": [],
   "source": [
    "import sklearn as sklearn_version_test\n",
    "assert sklearn_version_test.__version__ == '0.20.3', 'scikit-learn version mismatch, `pip install scikit-learn==0.20.3` to install right sklearn version for this notebook'\n",
    "assert np.__version__                   == '1.16.2', 'numpy version mismatch, `pip install numpy==1.16.2` to install right numpy version for this notebook'"
   ]
  },
  {
   "cell_type": "code",
   "execution_count": 7,
   "metadata": {},
   "outputs": [],
   "source": [
    "# special import - \n",
    "# for multiprocessing to work in a Notebook,  pickled classes must be in a separate package or notebook\n",
    "# hence, the model encoder class has to be somewhere other than the current notebook\n",
    "\n",
    "import os\n",
    "import sys\n",
    "sys.path.insert(0, os.path.abspath(os.path.join('.')))\n",
    "from scripts.cat_encoder import CatEncoder"
   ]
  },
  {
   "cell_type": "markdown",
   "metadata": {},
   "source": [
    "###  load data in dataframe"
   ]
  },
  {
   "cell_type": "code",
   "execution_count": 8,
   "metadata": {},
   "outputs": [],
   "source": [
    "# load the dataset into memory\n",
    "df = pd.read_csv('data/german_credit_eval.csv')"
   ]
  },
  {
   "cell_type": "markdown",
   "metadata": {},
   "source": [
    "### define features "
   ]
  },
  {
   "cell_type": "code",
   "execution_count": 9,
   "metadata": {},
   "outputs": [],
   "source": [
    "cat_columns = [\n",
    "    'checkingstatus',\n",
    "    'history',\n",
    "    'purpose',\n",
    "    'savings',\n",
    "    'employ',\n",
    "    'status',\n",
    "    'others',\n",
    "    'property',\n",
    "    'age',\n",
    "    'otherplans',\n",
    "    'housing',\n",
    "    'job',\n",
    "    'telephone',\n",
    "    'foreign'\n",
    "    ]\n",
    "\n",
    "label_column = 'outcome'"
   ]
  },
  {
   "cell_type": "markdown",
   "metadata": {},
   "source": [
    "### separate features and target variable"
   ]
  },
  {
   "cell_type": "code",
   "execution_count": 10,
   "metadata": {},
   "outputs": [],
   "source": [
    "y = df[label_column]\n",
    "X = df.drop(label_column, axis=1)"
   ]
  },
  {
   "cell_type": "markdown",
   "metadata": {},
   "source": [
    "### split dataset into the training and test set"
   ]
  },
  {
   "cell_type": "code",
   "execution_count": 11,
   "metadata": {},
   "outputs": [],
   "source": [
    "X_train, X_test, y_train, y_test = train_test_split(X, y, test_size=0.20, random_state=42)"
   ]
  },
  {
   "cell_type": "markdown",
   "metadata": {},
   "source": [
    "### encode and scale features"
   ]
  },
  {
   "cell_type": "code",
   "execution_count": 12,
   "metadata": {},
   "outputs": [],
   "source": [
    "encoder = CatEncoder(cat_columns, X)"
   ]
  },
  {
   "cell_type": "markdown",
   "metadata": {},
   "source": [
    "### build and train model using sklearn"
   ]
  },
  {
   "cell_type": "code",
   "execution_count": 13,
   "metadata": {},
   "outputs": [
    {
     "name": "stdout",
     "output_type": "stream",
     "text": [
      "Model 'german_credit_svm' accuracy is 0.77\n",
      "Model 'german_credit_logit' accuracy is 0.76\n"
     ]
    }
   ],
   "source": [
    "def build_model(data, name, model_family, test=None):\n",
    "    if test is None:\n",
    "        test = data\n",
    "        \n",
    "    if model_family == 'SVM':\n",
    "        parameters = {'kernel':('linear', 'rbf', 'poly'), 'C':[0.1, .5, 1, 2, 4, 10], 'gamma':['auto']}\n",
    "        m = svm.SVC()\n",
    "    elif model_family == 'logistic':\n",
    "        parameters = {'C': (0.5, 1.0, 2.0), 'solver': ['lbfgs'], 'max_iter': [1000]}\n",
    "        m = LogisticRegression()\n",
    "    model = GridSearchCV(m, parameters, cv=3)\n",
    "    model.fit(data[0], data[1])\n",
    "\n",
    "    # Assess on the test data\n",
    "    accuracy = model.score(test[0], test[1].values)\n",
    "    print(f\"Model '{name}' accuracy is {accuracy}\")\n",
    "    return model\n",
    "\n",
    "svm_model_name      = 'german_credit_svm'\n",
    "logistic_model_name = 'german_credit_logit'\n",
    "\n",
    "svm_model = build_model((encoder(X_train.values), y_train),\n",
    "                        svm_model_name,\n",
    "                        'SVM',\n",
    "                        test=(encoder(X_test.values), y_test))\n",
    "\n",
    "logistic_model = build_model((encoder(X_train.values), y_train),\n",
    "                        logistic_model_name,\n",
    "                        'logistic',\n",
    "                        test=(encoder(X_test.values), y_test))"
   ]
  },
  {
   "cell_type": "markdown",
   "metadata": {},
   "source": [
    "### dump the trained models (along with corresponding encoder object) to disk "
   ]
  },
  {
   "cell_type": "code",
   "execution_count": 14,
   "metadata": {},
   "outputs": [
    {
     "name": "stdout",
     "output_type": "stream",
     "text": [
      "model saved on disk {'model': GridSearchCV(cv=3, error_score='raise-deprecating',\n",
      "       estimator=SVC(C=1.0, cache_size=200, class_weight=None, coef0=0.0,\n",
      "  decision_function_shape='ovr', degree=3, gamma='auto_deprecated',\n",
      "  kernel='rbf', max_iter=-1, probability=False, random_state=None,\n",
      "  shrinking=True, tol=0.001, verbose=False),\n",
      "       fit_params=None, iid='warn', n_jobs=None,\n",
      "       param_grid={'kernel': ('linear', 'rbf', 'poly'), 'C': [0.1, 0.5, 1, 2, 4, 10], 'gamma': ['auto']},\n",
      "       pre_dispatch='2*n_jobs', refit=True, return_train_score='warn',\n",
      "       scoring=None, verbose=0), 'encoder': <scripts.cat_encoder.CatEncoder object at 0x1a16fd57f0>}\n",
      "model saved on disk {'model': GridSearchCV(cv=3, error_score='raise-deprecating',\n",
      "       estimator=LogisticRegression(C=1.0, class_weight=None, dual=False, fit_intercept=True,\n",
      "          intercept_scaling=1, max_iter=100, multi_class='warn',\n",
      "          n_jobs=None, penalty='l2', random_state=None, solver='warn',\n",
      "          tol=0.0001, verbose=0, warm_start=False),\n",
      "       fit_params=None, iid='warn', n_jobs=None,\n",
      "       param_grid={'C': (0.5, 1.0, 2.0), 'solver': ['lbfgs'], 'max_iter': [1000]},\n",
      "       pre_dispatch='2*n_jobs', refit=True, return_train_score='warn',\n",
      "       scoring=None, verbose=0), 'encoder': <scripts.cat_encoder.CatEncoder object at 0x1a16fd57f0>}\n"
     ]
    }
   ],
   "source": [
    "# encoder object is dumped(along with trained model) to apply same transformation during prediction\n",
    "def dump_model(model_name,model_obj,encoder_obj=encoder):\n",
    "    model_path = f'{model_name}.pkl'\n",
    "    model_obj = {\n",
    "        \"model\":model_obj,\n",
    "        \"encoder\":encoder_obj\n",
    "    }\n",
    "    joblib.dump(value=model_obj, filename=model_path)\n",
    "    print(f'model saved on disk {model_obj}')\n",
    "    return model_path\n",
    "\n",
    "# persist models to disk\n",
    "svm_model_disk_path      = dump_model(svm_model_name,svm_model)\n",
    "logistic_model_disk_path = dump_model(logistic_model_name,logistic_model)"
   ]
  },
  {
   "cell_type": "markdown",
   "metadata": {},
   "source": [
    "## In the section below we will:\n",
    "\n",
    "1. Configure Azure workspace\n",
    "2. Register models (built above) to the workspace\n",
    "3. Create a prediction environment in the remote Azure workspace (created above) and\n",
    "4. Deploy models (predict) as web service"
   ]
  },
  {
   "cell_type": "markdown",
   "metadata": {},
   "source": [
    "### Configure and Initialize Azure workspace\n",
    "\n",
    "- Follow the instructions listed here [creating and managing azure-ml workspace](https://docs.microsoft.com/en-us/azure/machine-learning/how-to-manage-workspace) to create an azure-ml workspace\n",
    "\n",
    "**Once you have the workspace created easiest way to run through remaining steps is to download the `config.json` to the current directory and replace the exisiting config.json**"
   ]
  },
  {
   "cell_type": "markdown",
   "metadata": {},
   "source": [
    "### Create a [Workspace](https://docs.microsoft.com/en-us/python/api/azureml-core/azureml.core.workspace%28class%29?view=azure-ml-py) object from the persisted configuration."
   ]
  },
  {
   "cell_type": "code",
   "execution_count": 16,
   "metadata": {},
   "outputs": [],
   "source": [
    "from azureml.core import Workspace\n",
    "ws = Workspace.from_config()"
   ]
  },
  {
   "cell_type": "markdown",
   "metadata": {},
   "source": [
    "### Register models to created  workspace\n",
    "\n",
    "Register a file or folder as a model by calling [Model.register()](https://docs.microsoft.com/en-us/python/api/azureml-core/azureml.core.model.model?view=azure-ml-py#register-workspace--model-path--model-name--tags-none--properties-none--description-none--datasets-none--model-framework-none--model-framework-version-none--child-paths-none-).\n",
    "\n",
    "In addition to the content of the model file itself (model + scaler object), our registered model will also store model metadata like model description, tags, etc. -- that will be useful when managing and deploying models in our workspace."
   ]
  },
  {
   "cell_type": "code",
   "execution_count": 17,
   "metadata": {},
   "outputs": [
    {
     "name": "stdout",
     "output_type": "stream",
     "text": [
      "Registering model german_credit_logit\n",
      "Registering model german_credit_svm\n"
     ]
    }
   ],
   "source": [
    "from azureml.core.model import Model\n",
    "\n",
    "logistic_model_azure = Model.register(model_path=logistic_model_disk_path,\n",
    "                       model_name=logistic_model_name,\n",
    "                       tags={'area': \"banking credit risk\", 'type': \"classification\"},\n",
    "                       description=\"Logistic Classifier model to predict credit loan approval\",\n",
    "                       workspace=ws)\n",
    "\n",
    "svm_model_azure = Model.register(model_path=svm_model_disk_path,\n",
    "                       model_name=svm_model_name,\n",
    "                       tags={'area': \"banking credit risk\", 'type': \"classification\"},\n",
    "                       description=\"Support Vector Machine Classifier model to predict credit loan approval\",\n",
    "                       workspace=ws)"
   ]
  },
  {
   "cell_type": "markdown",
   "metadata": {},
   "source": [
    "### Create a custom prediction environment inside azure-ml workspace\n",
    "\n",
    "If we want control over how our model is run, if it uses another framework, or if it has special runtime requirements, we can instead specify our own environment and scoring method. Custom environments can be used for any model we want to deploy.\n",
    "\n",
    "Specify the model's runtime environment by creating an [Environment](https://docs.microsoft.com/en-us/python/api/azureml-core/azureml.core.environment%28class%29?view=azure-ml-py) object and providing the [CondaDependencies](https://docs.microsoft.com/en-us/python/api/azureml-core/azureml.core.conda_dependencies.condadependencies?view=azure-ml-py) needed by the model\n",
    "\n",
    "In this example we will create a conda environment for our german credit model from file **myenv.yml** and register it to our workspace\n"
   ]
  },
  {
   "cell_type": "code",
   "execution_count": 20,
   "metadata": {},
   "outputs": [
    {
     "name": "stdout",
     "output_type": "stream",
     "text": [
      "name: project_environment\n",
      "dependencies:\n",
      "  - python=3.6.2\n",
      "  - scikit-learn==0.20.3\n",
      "  - numpy==1.16.2\n",
      "  - pip:\n",
      "    - azureml-defaults\n",
      "    - inference-schema[numpy-support]\n",
      "    \n"
     ]
    }
   ],
   "source": [
    "with open(\"myenv.yml\", 'r') as f:\n",
    "    print(f.read())"
   ]
  },
  {
   "cell_type": "code",
   "execution_count": 21,
   "metadata": {},
   "outputs": [
    {
     "data": {
      "text/plain": [
       "{\n",
       "    \"databricks\": {\n",
       "        \"eggLibraries\": [],\n",
       "        \"jarLibraries\": [],\n",
       "        \"mavenLibraries\": [],\n",
       "        \"pypiLibraries\": [],\n",
       "        \"rcranLibraries\": []\n",
       "    },\n",
       "    \"docker\": {\n",
       "        \"arguments\": [],\n",
       "        \"baseDockerfile\": null,\n",
       "        \"baseImage\": \"mcr.microsoft.com/azureml/base:intelmpi2018.3-ubuntu16.04\",\n",
       "        \"baseImageRegistry\": {\n",
       "            \"address\": null,\n",
       "            \"password\": null,\n",
       "            \"username\": null\n",
       "        },\n",
       "        \"enabled\": false,\n",
       "        \"sharedVolumes\": true,\n",
       "        \"shmSize\": null\n",
       "    },\n",
       "    \"environmentVariables\": {\n",
       "        \"EXAMPLE_ENV_VAR\": \"EXAMPLE_VALUE\"\n",
       "    },\n",
       "    \"inferencingStackVersion\": null,\n",
       "    \"name\": \"german-credit-env\",\n",
       "    \"python\": {\n",
       "        \"baseCondaEnvironment\": null,\n",
       "        \"condaDependencies\": {\n",
       "            \"dependencies\": [\n",
       "                \"python=3.6.2\",\n",
       "                \"scikit-learn==0.20.3\",\n",
       "                \"numpy==1.16.2\",\n",
       "                {\n",
       "                    \"pip\": [\n",
       "                        \"azureml-defaults\",\n",
       "                        \"inference-schema[numpy-support]\"\n",
       "                    ]\n",
       "                }\n",
       "            ],\n",
       "            \"name\": \"azureml_8886e94cb6ef338133bc34a3312292b8\"\n",
       "        },\n",
       "        \"condaDependenciesFile\": null,\n",
       "        \"interpreterPath\": \"python\",\n",
       "        \"userManagedDependencies\": false\n",
       "    },\n",
       "    \"r\": null,\n",
       "    \"spark\": {\n",
       "        \"packages\": [],\n",
       "        \"precachePackages\": true,\n",
       "        \"repositories\": []\n",
       "    },\n",
       "    \"version\": \"2\"\n",
       "}"
      ]
     },
     "execution_count": 21,
     "metadata": {},
     "output_type": "execute_result"
    }
   ],
   "source": [
    "from azureml.core.conda_dependencies import CondaDependencies\n",
    "from azureml.core.environment import Environment\n",
    "\n",
    "environment = Environment(\"german-credit-env\")\n",
    "environment.python.conda_dependencies = CondaDependencies(\"myenv.yml\")\n",
    "environment.register(workspace=ws)"
   ]
  },
  {
   "cell_type": "markdown",
   "metadata": {},
   "source": [
    "\n",
    "## Create Inference Configuration and deploy webservice\n",
    "\n",
    "**Inference Configuration** will contain:\n",
    "\n",
    "1. Scoring script\n",
    "2. Environment (created above)\n",
    "\n",
    "We create the scoring script, called **score.py**. The web service call uses this script to show how to use the model.\n",
    "\n",
    "We include below two required functions in the scoring script:\n",
    "\n",
    "1. The `init()` function, which typically loads the model into a global object. This function is run only once when the Docker container is started.\n",
    "\n",
    "2. The `run(data)` function uses the model to predict a value based on the input data. Inputs and outputs to the run typically use JSON for serialization and de-serialization, but other formats are also supported.\n",
    "\n",
    "\n",
    "\n",
    "\n",
    "Deploy the registered model in the custom environment by providing an [InferenceConfig](https://docs.microsoft.com/en-us/python/api/azureml-core/azureml.core.model.inferenceconfig?view=azure-ml-py) object to [Model.deploy()](https://docs.microsoft.com/en-us/python/api/azureml-core/azureml.core.model.model?view=azure-ml-py#deploy-workspace--name--models--inference-config--deployment-config-none--deployment-target-none-). In this case we are also using the [AciWebservice.deploy_configuration()](https://docs.microsoft.com/python/api/azureml-core/azureml.core.webservice.aci.aciwebservice#deploy-configuration-cpu-cores-none--memory-gb-none--tags-none--properties-none--description-none--location-none--auth-enabled-none--ssl-enabled-none--enable-app-insights-none--ssl-cert-pem-file-none--ssl-key-pem-file-none--ssl-cname-none--dns-name-label-none--) method to generate a custom deploy configuration\n",
    "        \n",
    "**Note**: This step can take several minutes.\n"
   ]
  },
  {
   "cell_type": "code",
   "execution_count": 26,
   "metadata": {},
   "outputs": [
    {
     "name": "stdout",
     "output_type": "stream",
     "text": [
      "import os\n",
      "import json\n",
      "import numpy as np\n",
      "from sklearn.externals import joblib\n",
      "import traceback\n",
      "\n",
      "\n",
      "def init():\n",
      "    global model\n",
      "    global encoder\n",
      "    # AZUREML_MODEL_DIR is an environment variable created during deployment.\n",
      "    # It is the path to the model folder (./azureml-models/$MODEL_NAME/$VERSION)\n",
      "    # For multiple models, it points to the folder containing all deployed models (./azureml-models)\n",
      "    model_path = os.path.join(os.getenv('AZUREML_MODEL_DIR'), 'german_credit_svm.pkl')\n",
      "    # deserialize the model_obj file back into a sklearn model and scaler object\n",
      "    model_obj  = joblib.load(model_path)\n",
      "    model      = model_obj.get('model')\n",
      "    encoder    = model_obj.get('encoder')\n",
      "\n",
      "\n",
      "def run(data):\n",
      "    try: \n",
      "        # certifai invokes model with the json schema -> {\"payload\": {\"instances\": [ [6,107,88,0,0,36.8,0.727,31], [5,100,80,0,0,31.9,0.61,33] ]}}\n",
      "        data  = json.loads(data).get('payload', {}).get('instances', [])\n",
      "        data  = np.array(data, dtype=object)\n",
      "        data  = data if data.ndim == 2 else np.reshape(data, (1, -1))\n",
      "        if encoder:\n",
      "            data = encoder(data)\n",
      "        result = model.predict(data)\n",
      "        # you can return any datatype as long as it is JSON-serializable\n",
      "        # certifai expects model response with the json schema -> {\"payload\": {\"predictions\": [1,0]} }\n",
      "\n",
      "        return {\"payload\":{ \"predictions\": result.tolist()} }\n",
      "    except Exception as e:\n",
      "        error = str(e)\n",
      "        print(traceback.format_exc())\n",
      "        return error\n"
     ]
    }
   ],
   "source": [
    "with open('scripts/svm_score.py') as f:\n",
    "    print(f.read())"
   ]
  },
  {
   "cell_type": "code",
   "execution_count": 27,
   "metadata": {},
   "outputs": [
    {
     "name": "stdout",
     "output_type": "stream",
     "text": [
      "Running...................................................................................\n",
      "Succeeded\n",
      "ACI service creation operation finished, operation \"Succeeded\"\n",
      "Running.\n",
      "Succeeded\n",
      "ACI service creation operation finished, operation \"Succeeded\"\n"
     ]
    }
   ],
   "source": [
    "from azureml.core.model import InferenceConfig\n",
    "from azureml.core import Webservice\n",
    "from azureml.exceptions import WebserviceException\n",
    "from azureml.core.webservice import AciWebservice\n",
    "\n",
    "inference_config_logistic = InferenceConfig(entry_script=\"logistic_score.py\",\n",
    "                                   environment=environment,source_directory=\"scripts\")\n",
    "inference_config_svm = InferenceConfig(entry_script=\"svm_score.py\",\n",
    "                                   environment=environment,source_directory=\"scripts\")\n",
    "\n",
    "logistic_service_name = 'german-credit-logistic-service'\n",
    "svm_service_name = 'german-credit-svm-service'\n",
    "\n",
    "aci_deployment_config = AciWebservice.deploy_configuration(auth_enabled=True)\n",
    "\n",
    "# Remove any existing services under the same name.\n",
    "try:\n",
    "    Webservice(ws, logistic_service_name).delete()\n",
    "except WebserviceException:\n",
    "    pass\n",
    "\n",
    "try:\n",
    "    Webservice(ws, svm_service_name).delete()\n",
    "except WebserviceException:\n",
    "    pass\n",
    "\n",
    "\n",
    "service_logistic = Model.deploy(ws, logistic_service_name, [logistic_model_azure],inference_config=inference_config_logistic,deployment_config=aci_deployment_config)\n",
    "service_svm      = Model.deploy(ws, svm_service_name,      [svm_model_azure],     inference_config=inference_config_svm,     deployment_config=aci_deployment_config)\n",
    "service_logistic.wait_for_deployment(show_output=True)\n",
    "service_svm.wait_for_deployment(show_output=True)"
   ]
  },
  {
   "cell_type": "markdown",
   "metadata": {},
   "source": [
    "## Test the webservice\n",
    "\n",
    "1. Get the webservice endpoint using `service.scoring_uri` :: string\n",
    "2. Get the authentication headers usinh `service.get_keys()` :: tuple\n"
   ]
  },
  {
   "cell_type": "code",
   "execution_count": 28,
   "metadata": {},
   "outputs": [],
   "source": [
    "service_logistic_uri  = service_logistic.scoring_uri\n",
    "service_logistic_keys = service_logistic.get_keys()\n",
    "\n",
    "service_svm_uri       = service_svm.scoring_uri\n",
    "service_svm_keys      = service_svm.get_keys()"
   ]
  },
  {
   "cell_type": "code",
   "execution_count": 29,
   "metadata": {},
   "outputs": [
    {
     "data": {
      "text/plain": [
       "'{\"payload\": {\"instances\": [[\"... < 0 DM\", 6, \"critical account/ other credits existing (not at this bank)\", \"radio/television\", 1169, \"unknown/ no savings account\", \".. >= 7 years\", 4, \"male : single\", \"others - none\", 4, \"real estate\", \"> 25 years\", \"none\", \"own\", 2, \"skilled employee / official\", 1, \"phone - yes, registered under the customers name\", \"foreign - yes\"]]}}'"
      ]
     },
     "execution_count": 29,
     "metadata": {},
     "output_type": "execute_result"
    }
   ],
   "source": [
    "# create json test data sample(from csv)\n",
    "\n",
    "import json\n",
    "sample_input = json.dumps({\n",
    "\"payload\": {\n",
    "    \"instances\": [\n",
    "        [\n",
    "            \"... < 0 DM\",\n",
    "            6,\n",
    "            \"critical account/ other credits existing (not at this bank)\",\n",
    "            \"radio/television\",\n",
    "            1169,\n",
    "            \"unknown/ no savings account\",\n",
    "            \".. >= 7 years\",\n",
    "            4,\n",
    "            \"male : single\",\n",
    "            \"others - none\",\n",
    "            4,\n",
    "            \"real estate\",\n",
    "            \"> 25 years\",\n",
    "            \"none\",\n",
    "            \"own\",\n",
    "            2,\n",
    "            \"skilled employee / official\",\n",
    "            1,\n",
    "            \"phone - yes, registered under the customers name\",\n",
    "            \"foreign - yes\"\n",
    "        ]\n",
    "    ]\n",
    "}\n",
    "})\n",
    "sample_input"
   ]
  },
  {
   "cell_type": "code",
   "execution_count": 30,
   "metadata": {},
   "outputs": [
    {
     "name": "stdout",
     "output_type": "stream",
     "text": [
      "200\n",
      "0:00:00.710408\n",
      "{'payload': {'predictions': [1]}}\n"
     ]
    }
   ],
   "source": [
    "import requests\n",
    "import json\n",
    "\n",
    "headers = {\n",
    "    'Content-Type': 'application/json',\n",
    "    'Authorization': f'Bearer {service_svm_keys[0]}'          \n",
    "          }\n",
    "\n",
    "response = requests.post(\n",
    "    service_svm_uri, data=sample_input, headers=headers)\n",
    "print(response.status_code)\n",
    "print(response.elapsed)\n",
    "print(response.json())"
   ]
  },
  {
   "cell_type": "markdown",
   "metadata": {},
   "source": [
    "## Running Cortex Certifai Scan locally\n",
    "\n",
    "1. Install the cortex certifai packages required to initiate model scan\n",
    "\n",
    "2. Configure scan details and execute\n"
   ]
  },
  {
   "cell_type": "markdown",
   "metadata": {},
   "source": [
    "## Installing Cortex Certifai python packages\n",
    "\n",
    "initiating a Cortex Certifai scan requires following python packages to be installed in the current local environment\n",
    "\n",
    "`required-packages`\n",
    "\n",
    "- cortex-certifai-scanner\n",
    "- cortex-certifai-engine\n",
    "- cortex-certifai-common\n",
    "\n",
    "`optional-packages`\n",
    "\n",
    "- cortex-certifai-client\n",
    "- cortex-certifai-console\n",
    "\n",
    "Download [certifai toolkit](https://www.cognitivescale.com/download-certifai) and follow instructions in the `Readme.md` to install the python-packages in the current environment"
   ]
  },
  {
   "cell_type": "markdown",
   "metadata": {},
   "source": [
    "### Install required certifai packages (optional packages are left for user to install)\n"
   ]
  },
  {
   "cell_type": "code",
   "execution_count": 84,
   "metadata": {},
   "outputs": [
    {
     "name": "stdout",
     "output_type": "stream",
     "text": [
      "Processing /Users/akumar/Downloads/certifai_toolkit_v1.2.13/packages/all/cortex-certifai-common-1.2.13-102-ge0e7c71e.zip\n",
      "Requirement already satisfied: requests<3.0,>=2.12.4 in /Users/akumar/miniconda/envs/certifai-azure-model-env/lib/python3.6/site-packages (from cortex-certifai-common==1.2.13) (2.23.0)\n",
      "Requirement already satisfied: urllib3<2.0,>=1.24.3 in /Users/akumar/miniconda/envs/certifai-azure-model-env/lib/python3.6/site-packages (from cortex-certifai-common==1.2.13) (1.25.9)\n",
      "Requirement already satisfied: numpy<1.19,>=1.16.2 in /Users/akumar/miniconda/envs/certifai-azure-model-env/lib/python3.6/site-packages (from cortex-certifai-common==1.2.13) (1.16.2)\n",
      "Requirement already satisfied: pandas<=1.0.3,>=0.23.4 in /Users/akumar/miniconda/envs/certifai-azure-model-env/lib/python3.6/site-packages (from cortex-certifai-common==1.2.13) (1.0.3)\n",
      "Requirement already satisfied: scipy<2.0,>=1.1.0 in /Users/akumar/miniconda/envs/certifai-azure-model-env/lib/python3.6/site-packages (from cortex-certifai-common==1.2.13) (1.4.1)\n",
      "Requirement already satisfied: python-dateutil<3.0,>=2.6.1 in /Users/akumar/miniconda/envs/certifai-azure-model-env/lib/python3.6/site-packages (from cortex-certifai-common==1.2.13) (2.8.1)\n",
      "Requirement already satisfied: toolz<1.0,>=0.10.0 in /Users/akumar/miniconda/envs/certifai-azure-model-env/lib/python3.6/site-packages (from cortex-certifai-common==1.2.13) (0.10.0)\n",
      "Requirement already satisfied: typing_extensions<4.0,>=3.6.6 in /Users/akumar/miniconda/envs/certifai-azure-model-env/lib/python3.6/site-packages (from cortex-certifai-common==1.2.13) (3.7.4.2)\n",
      "Requirement already satisfied: hypothesis<5.0,>=4.55.2 in /Users/akumar/miniconda/envs/certifai-azure-model-env/lib/python3.6/site-packages (from cortex-certifai-common==1.2.13) (4.57.1)\n",
      "Requirement already satisfied: certifi>=2017.4.17 in /Users/akumar/miniconda/envs/certifai-azure-model-env/lib/python3.6/site-packages (from requests<3.0,>=2.12.4->cortex-certifai-common==1.2.13) (2020.4.5.1)\n",
      "Requirement already satisfied: chardet<4,>=3.0.2 in /Users/akumar/miniconda/envs/certifai-azure-model-env/lib/python3.6/site-packages (from requests<3.0,>=2.12.4->cortex-certifai-common==1.2.13) (3.0.4)\n",
      "Requirement already satisfied: idna<3,>=2.5 in /Users/akumar/miniconda/envs/certifai-azure-model-env/lib/python3.6/site-packages (from requests<3.0,>=2.12.4->cortex-certifai-common==1.2.13) (2.9)\n",
      "Requirement already satisfied: pytz>=2017.2 in /Users/akumar/miniconda/envs/certifai-azure-model-env/lib/python3.6/site-packages (from pandas<=1.0.3,>=0.23.4->cortex-certifai-common==1.2.13) (2020.1)\n",
      "Requirement already satisfied: six>=1.5 in /Users/akumar/miniconda/envs/certifai-azure-model-env/lib/python3.6/site-packages (from python-dateutil<3.0,>=2.6.1->cortex-certifai-common==1.2.13) (1.14.0)\n",
      "Requirement already satisfied: sortedcontainers<3.0.0,>=2.1.0 in /Users/akumar/miniconda/envs/certifai-azure-model-env/lib/python3.6/site-packages (from hypothesis<5.0,>=4.55.2->cortex-certifai-common==1.2.13) (2.1.0)\n",
      "Requirement already satisfied: attrs>=19.2.0 in /Users/akumar/miniconda/envs/certifai-azure-model-env/lib/python3.6/site-packages (from hypothesis<5.0,>=4.55.2->cortex-certifai-common==1.2.13) (19.3.0)\n",
      "Building wheels for collected packages: cortex-certifai-common\n",
      "  Building wheel for cortex-certifai-common (setup.py) ... \u001b[?25ldone\n",
      "\u001b[?25h  Created wheel for cortex-certifai-common: filename=cortex_certifai_common-1.2.13-py3-none-any.whl size=58126 sha256=341d207c0a96458f508b682af1d868f8db2862536614da765cb6fd502535d7da\n",
      "  Stored in directory: /Users/akumar/Library/Caches/pip/wheels/40/8a/de/36a62fb459e5d741203bf3a1411438e9c46270a386f55a86b5\n",
      "Successfully built cortex-certifai-common\n",
      "Installing collected packages: cortex-certifai-common\n",
      "  Attempting uninstall: cortex-certifai-common\n",
      "    Found existing installation: cortex-certifai-common 1.2.13\n",
      "    Uninstalling cortex-certifai-common-1.2.13:\n",
      "      Successfully uninstalled cortex-certifai-common-1.2.13\n",
      "Successfully installed cortex-certifai-common-1.2.13\n",
      "Processing /Users/akumar/Downloads/certifai_toolkit_v1.2.13/packages/all/cortex-certifai-scanner-1.2.13-102-ge0e7c71e.zip\n",
      "Requirement already satisfied: numpy<1.19,>=1.16.2 in /Users/akumar/miniconda/envs/certifai-azure-model-env/lib/python3.6/site-packages (from cortex-certifai-scanner==1.2.13) (1.16.2)\n",
      "Requirement already satisfied: pandas<=1.0.3,>=0.23.4 in /Users/akumar/miniconda/envs/certifai-azure-model-env/lib/python3.6/site-packages (from cortex-certifai-scanner==1.2.13) (1.0.3)\n",
      "Requirement already satisfied: marshmallow<4.0,>=3.0.0 in /Users/akumar/miniconda/envs/certifai-azure-model-env/lib/python3.6/site-packages (from cortex-certifai-scanner==1.2.13) (3.5.2)\n",
      "Requirement already satisfied: pyyaml<6.0,>=3.13 in /Users/akumar/miniconda/envs/certifai-azure-model-env/lib/python3.6/site-packages (from cortex-certifai-scanner==1.2.13) (5.3.1)\n",
      "Requirement already satisfied: python-dateutil<3.0,>=2.6.1 in /Users/akumar/miniconda/envs/certifai-azure-model-env/lib/python3.6/site-packages (from cortex-certifai-scanner==1.2.13) (2.8.1)\n",
      "Requirement already satisfied: Jinja2<3.0,>=2.10.3 in /Users/akumar/miniconda/envs/certifai-azure-model-env/lib/python3.6/site-packages (from cortex-certifai-scanner==1.2.13) (2.11.2)\n",
      "Requirement already satisfied: dataclasses<1.0,>=0.6 in /Users/akumar/miniconda/envs/certifai-azure-model-env/lib/python3.6/site-packages (from cortex-certifai-scanner==1.2.13) (0.7)\n",
      "Requirement already satisfied: pytz>=2017.2 in /Users/akumar/miniconda/envs/certifai-azure-model-env/lib/python3.6/site-packages (from pandas<=1.0.3,>=0.23.4->cortex-certifai-scanner==1.2.13) (2020.1)\n",
      "Requirement already satisfied: six>=1.5 in /Users/akumar/miniconda/envs/certifai-azure-model-env/lib/python3.6/site-packages (from python-dateutil<3.0,>=2.6.1->cortex-certifai-scanner==1.2.13) (1.14.0)\n",
      "Requirement already satisfied: MarkupSafe>=0.23 in /Users/akumar/miniconda/envs/certifai-azure-model-env/lib/python3.6/site-packages (from Jinja2<3.0,>=2.10.3->cortex-certifai-scanner==1.2.13) (1.1.1)\n",
      "Building wheels for collected packages: cortex-certifai-scanner\n",
      "  Building wheel for cortex-certifai-scanner (setup.py) ... \u001b[?25ldone\n",
      "\u001b[?25h  Created wheel for cortex-certifai-scanner: filename=cortex_certifai_scanner-1.2.13-py3-none-any.whl size=67689 sha256=19bfff0783fc2e7b2ff9ecd65bf8e6a65d77da9325dd79caa75243da3333c25f\n",
      "  Stored in directory: /Users/akumar/Library/Caches/pip/wheels/8d/c9/9f/6a043c6b5e7f0f8e83a0ff13292524c0773499ab194e4ee41a\n",
      "Successfully built cortex-certifai-scanner\n",
      "Installing collected packages: cortex-certifai-scanner\n",
      "  Attempting uninstall: cortex-certifai-scanner\n",
      "    Found existing installation: cortex-certifai-scanner 1.2.13\n",
      "    Uninstalling cortex-certifai-scanner-1.2.13:\n",
      "      Successfully uninstalled cortex-certifai-scanner-1.2.13\n",
      "Successfully installed cortex-certifai-scanner-1.2.13\n",
      "Processing /Users/akumar/Downloads/certifai_toolkit_v1.2.13/packages/python3.6/cortex-certifai-engine-1.2.13-102-ge0e7c71e-py3.6.10.zip\n",
      "Requirement already satisfied: numpy<1.19,>=1.16.2 in /Users/akumar/miniconda/envs/certifai-azure-model-env/lib/python3.6/site-packages (from cortex-certifai-engine==1.2.13) (1.16.2)\n",
      "Requirement already satisfied: pandas<=1.0.3,>=0.23.4 in /Users/akumar/miniconda/envs/certifai-azure-model-env/lib/python3.6/site-packages (from cortex-certifai-engine==1.2.13) (1.0.3)\n",
      "Requirement already satisfied: scikit-learn<0.23,>=0.20.3 in /Users/akumar/miniconda/envs/certifai-azure-model-env/lib/python3.6/site-packages (from cortex-certifai-engine==1.2.13) (0.20.3)\n",
      "Requirement already satisfied: scipy<2.0,>=1.1.0 in /Users/akumar/miniconda/envs/certifai-azure-model-env/lib/python3.6/site-packages (from cortex-certifai-engine==1.2.13) (1.4.1)\n",
      "Requirement already satisfied: toolz<1.0,>=0.10.0 in /Users/akumar/miniconda/envs/certifai-azure-model-env/lib/python3.6/site-packages (from cortex-certifai-engine==1.2.13) (0.10.0)\n",
      "Requirement already satisfied: rsa<5.0,>=4.0 in /Users/akumar/miniconda/envs/certifai-azure-model-env/lib/python3.6/site-packages (from cortex-certifai-engine==1.2.13) (4.0)\n",
      "Requirement already satisfied: cuid<0.4,>=0.3 in /Users/akumar/miniconda/envs/certifai-azure-model-env/lib/python3.6/site-packages (from cortex-certifai-engine==1.2.13) (0.3)\n",
      "Requirement already satisfied: pyyaml<6.0,>=3.13 in /Users/akumar/miniconda/envs/certifai-azure-model-env/lib/python3.6/site-packages (from cortex-certifai-engine==1.2.13) (5.3.1)\n",
      "Requirement already satisfied: shap>=0.31.0 in /Users/akumar/miniconda/envs/certifai-azure-model-env/lib/python3.6/site-packages (from cortex-certifai-engine==1.2.13) (0.35.0)\n",
      "Requirement already satisfied: pytz>=2017.2 in /Users/akumar/miniconda/envs/certifai-azure-model-env/lib/python3.6/site-packages (from pandas<=1.0.3,>=0.23.4->cortex-certifai-engine==1.2.13) (2020.1)\n",
      "Requirement already satisfied: python-dateutil>=2.6.1 in /Users/akumar/miniconda/envs/certifai-azure-model-env/lib/python3.6/site-packages (from pandas<=1.0.3,>=0.23.4->cortex-certifai-engine==1.2.13) (2.8.1)\n"
     ]
    },
    {
     "name": "stdout",
     "output_type": "stream",
     "text": [
      "Requirement already satisfied: pyasn1>=0.1.3 in /Users/akumar/miniconda/envs/certifai-azure-model-env/lib/python3.6/site-packages (from rsa<5.0,>=4.0->cortex-certifai-engine==1.2.13) (0.4.8)\n",
      "Requirement already satisfied: tqdm>4.25.0 in /Users/akumar/miniconda/envs/certifai-azure-model-env/lib/python3.6/site-packages (from shap>=0.31.0->cortex-certifai-engine==1.2.13) (4.46.0)\n",
      "Requirement already satisfied: six>=1.5 in /Users/akumar/miniconda/envs/certifai-azure-model-env/lib/python3.6/site-packages (from python-dateutil>=2.6.1->pandas<=1.0.3,>=0.23.4->cortex-certifai-engine==1.2.13) (1.14.0)\n",
      "Building wheels for collected packages: cortex-certifai-engine\n",
      "  Building wheel for cortex-certifai-engine (setup.py) ... \u001b[?25ldone\n",
      "\u001b[?25h  Created wheel for cortex-certifai-engine: filename=cortex_certifai_engine-1.2.13-py3-none-any.whl size=2242150 sha256=c3df76928b1ce2eaad74ca84bbe97b6d529c44a932a9e475e5d6cdcbfae45951\n",
      "  Stored in directory: /Users/akumar/Library/Caches/pip/wheels/19/9c/b7/715ab8325e1bd62ee9dc6b18f441c4ca217414c1c938b5454e\n",
      "Successfully built cortex-certifai-engine\n",
      "Installing collected packages: cortex-certifai-engine\n",
      "  Attempting uninstall: cortex-certifai-engine\n",
      "    Found existing installation: cortex-certifai-engine 1.2.13\n",
      "    Uninstalling cortex-certifai-engine-1.2.13:\n",
      "      Successfully uninstalled cortex-certifai-engine-1.2.13\n",
      "Successfully installed cortex-certifai-engine-1.2.13\n"
     ]
    }
   ],
   "source": [
    "!find $certifai_toolkit_path/packages/all       -type f ! -name \"*console-*\" ! -name \"*client-*\" | xargs -I % sh -c 'pip install % ' ;\n",
    "!find $certifai_toolkit_path/packages/python3.6 -type f   -name \"*engine-*\"                      | xargs -I % sh -c 'pip install % ' ;\n"
   ]
  },
  {
   "cell_type": "code",
   "execution_count": 86,
   "metadata": {},
   "outputs": [
    {
     "data": {
      "text/plain": [
       "'1.2.13'"
      ]
     },
     "execution_count": 86,
     "metadata": {},
     "output_type": "execute_result"
    }
   ],
   "source": [
    "# make sure certifai package was installed correctly\n",
    "from certifai.scanner.version import get_version\n",
    "get_version()"
   ]
  },
  {
   "cell_type": "markdown",
   "metadata": {},
   "source": [
    "### Using Cortex Certifai python-package to launch a scan"
   ]
  },
  {
   "cell_type": "code",
   "execution_count": 33,
   "metadata": {},
   "outputs": [],
   "source": [
    "# necessary imports for creating a scan\n",
    "\n",
    "from certifai.scanner.builder import (CertifaiScanBuilder, CertifaiModel, CertifaiModelMetric,\n",
    "                                      CertifaiDataset, CertifaiGroupingFeature, CertifaiDatasetSource,\n",
    "                                      CertifaiPredictionTask, CertifaiTaskOutcomes, CertifaiOutcomeValue)\n",
    "from certifai.scanner.report_utils import scores, construct_scores_dataframe\n",
    "\n"
   ]
  },
  {
   "cell_type": "markdown",
   "metadata": {},
   "source": [
    "### define cortex certifai task type\n",
    "\n",
    "- `CertifaiTaskOutcomes` : cortex certifai supports classification as well as regression models. here we have an example of binary-classification (e.g. predict whether loan should be granted or not)\n",
    "- `CertifaiOutcomeValue` : define the different outcomes possible from the model predictions. here we have a model that predicts either 1(loan granted) or 2(loan denied)\n",
    "\n",
    "**Note**: Please refer to [Certifai Api Docs](https://cognitivescale.github.io/cortex-certifai/certifai-api-ref/certifai.scanner.builder.html) for more details"
   ]
  },
  {
   "cell_type": "code",
   "execution_count": 34,
   "metadata": {},
   "outputs": [],
   "source": [
    "# Create the scan object from scratch using the ScanBuilder class with tasks and outcomes\n",
    "\n",
    "# First define the possible prediction outcomes\n",
    "task = CertifaiPredictionTask(CertifaiTaskOutcomes.classification(\n",
    "    [\n",
    "        CertifaiOutcomeValue(1, name='Loan granted', favorable=True),\n",
    "        CertifaiOutcomeValue(2, name='Loan denied')\n",
    "    ]),\n",
    "    prediction_description='Determine whether a loan should be granted')\n",
    "\n",
    "#  create a certifai scan object and add the certifai task created above\n",
    "scan = CertifaiScanBuilder.create('model_auth_demo',\n",
    "                                  prediction_task=task)\n"
   ]
  },
  {
   "cell_type": "markdown",
   "metadata": {},
   "source": [
    "### add logistic and svm models (created above) to scan object"
   ]
  },
  {
   "cell_type": "code",
   "execution_count": 35,
   "metadata": {},
   "outputs": [],
   "source": [
    "# Create a Certifai Model Object using the web service (from earlier) by passing the deployed web service url\n",
    "first_model = CertifaiModel('SVM',\n",
    "                            predict_endpoint=service_svm_uri)\n",
    "scan.add_model(first_model)\n",
    "\n",
    "second_model = CertifaiModel('logistic',\n",
    "                            predict_endpoint=service_logistic_uri)\n",
    "scan.add_model(second_model)\n",
    "\n",
    "# Add corresponding model headers for service authentication and content-type\n",
    "\n",
    "# add the default headers applicable to all models\n",
    "scan.add_model_header(header_name='Content-Type',header_value='application/json')\n",
    "\n",
    "# add defined headers corresponding to auth keys for respective model services\n",
    "scan.add_model_header(header_name='Authorization', header_value=f'Bearer {service_svm_keys[0]}', model_id='SVM')\n",
    "scan.add_model_header(header_name='Authorization', header_value=f'Bearer {service_logistic_keys[0]}', model_id='logistic')\n",
    "\n"
   ]
  },
  {
   "cell_type": "markdown",
   "metadata": {},
   "source": [
    "### add the evaluation dataset to scan object\n",
    "\n",
    "- `evaluation dataset` dataset to be used by cortex certifai to evaluate the model against"
   ]
  },
  {
   "cell_type": "code",
   "execution_count": 36,
   "metadata": {},
   "outputs": [],
   "source": [
    "# create an evaluation object and pass the evaluation dataset(csv) here \n",
    "german_credit_eval_data_file = \"data/german_credit_eval.csv\"\n",
    "eval_dataset = CertifaiDataset('evaluation',\n",
    "                               CertifaiDatasetSource.csv(german_credit_eval_data_file))\n",
    "scan.add_dataset(eval_dataset)"
   ]
  },
  {
   "cell_type": "markdown",
   "metadata": {},
   "source": [
    "### evaluating model fairness \n",
    "\n",
    "- add `fairness` as evaluation type to scan object\n",
    "- create an `evaluation_dataset_id` to refer to added evaluation datset"
   ]
  },
  {
   "cell_type": "code",
   "execution_count": 37,
   "metadata": {},
   "outputs": [],
   "source": [
    "# Setup an evaluation for fairness on the above dataset using the model\n",
    "# We'll look at disparity between groups defined by marital status and age\n",
    "scan.add_fairness_grouping_feature(CertifaiGroupingFeature('age'))\n",
    "scan.add_fairness_grouping_feature(CertifaiGroupingFeature('status'))\n",
    "scan.add_evaluation_type('fairness')\n",
    "scan.evaluation_dataset_id = 'evaluation'"
   ]
  },
  {
   "cell_type": "code",
   "execution_count": 38,
   "metadata": {},
   "outputs": [],
   "source": [
    "# Because the dataset contains a ground truth outcome column which the model does not\n",
    "# expect to receive as input we need to state that in the dataset schema (since it cannot\n",
    "# be inferred from the CSV)\n",
    "scan.dataset_schema.outcome_feature_name = 'outcome'"
   ]
  },
  {
   "cell_type": "code",
   "execution_count": 39,
   "metadata": {},
   "outputs": [
    {
     "name": "stderr",
     "output_type": "stream",
     "text": [
      "2020-05-06 13:54:52,948 root   INFO     Validating license...\n",
      "2020-05-06 13:54:52,950 root   INFO     License is valid - expires: n/a\n",
      "2020-05-06 13:54:52,970 root   INFO     Generated unique scan id: 4d13d83bbed7\n",
      "2020-05-06 13:54:52,971 root   INFO     Validating input data...\n",
      "2020-05-06 13:54:52,973 root   INFO     Creating dataset with id: evaluation\n",
      "2020-05-06 13:54:53,014 root   INFO     Inferring dataset features and applying user overrides\n",
      "2020-05-06 13:54:53,017 root   INFO     Reading configs from: /Users/akumar/.certifai/certifai_config.ini\n",
      "2020-05-06 13:54:53,019 root   INFO     Reading default config (fallback) from: /Users/akumar/miniconda/envs/certifai-azure-model-env/lib/python3.6/site-packages/certifai/common/utils/default_certifai_config.ini\n",
      "2020-05-06 13:54:53,021 root   INFO     Read config marker: config['default']['marker'] = 0.1\n",
      "2020-05-06 13:54:53,024 root   INFO     Integer-valued feature 'duration' inferred to be numeric (sample cardinality 33)\n",
      "2020-05-06 13:54:53,028 root   INFO     Integer-valued feature 'amount' inferred to be numeric (sample cardinality 921)\n",
      "2020-05-06 13:54:53,037 root   INFO     Integer-valued feature 'installment' inferred to be categorical (sample cardinality 4)\n",
      "2020-05-06 13:54:53,039 root   INFO     Integer-valued feature 'residence' inferred to be categorical (sample cardinality 4)\n",
      "2020-05-06 13:54:53,042 root   INFO     Integer-valued feature 'cards' inferred to be categorical (sample cardinality 4)\n",
      "2020-05-06 13:54:53,043 root   INFO     Integer-valued feature 'liable' inferred to be categorical (sample cardinality 2)\n",
      "2020-05-06 13:54:53,045 root   INFO     Integer-valued feature 'outcome' inferred to be categorical (sample cardinality 2)\n",
      "2020-05-06 13:54:53,047 root   WARNING  Couldn't find column by label as index: `outcome`, in df.columns: `Index(['checkingstatus', 'duration', 'history', 'purpose', 'amount', 'savings',\n",
      "       'employ', 'installment', 'status', 'others', 'residence', 'property',\n",
      "       'age', 'otherplans', 'housing', 'cards', 'job', 'liable', 'telephone',\n",
      "       'foreign'],\n",
      "      dtype='object')`.\n",
      "2020-05-06 13:54:53,048 root   INFO     Inferring dataset features and applying user overrides\n",
      "2020-05-06 13:54:53,050 root   INFO     Integer-valued feature 'duration' inferred to be numeric (sample cardinality 33)\n",
      "2020-05-06 13:54:53,052 root   INFO     Integer-valued feature 'amount' inferred to be numeric (sample cardinality 921)\n",
      "2020-05-06 13:54:53,054 root   INFO     Integer-valued feature 'installment' inferred to be categorical (sample cardinality 4)\n",
      "2020-05-06 13:54:53,056 root   INFO     Integer-valued feature 'residence' inferred to be categorical (sample cardinality 4)\n",
      "2020-05-06 13:54:53,058 root   INFO     Integer-valued feature 'cards' inferred to be categorical (sample cardinality 4)\n",
      "2020-05-06 13:54:53,060 root   INFO     Integer-valued feature 'liable' inferred to be categorical (sample cardinality 2)\n",
      "2020-05-06 13:54:53,073 root   INFO     Input validation complete\n",
      "2020-05-06 13:54:53,077 root   INFO     Beginning to perform evaluations\n",
      "2020-05-06 13:54:53,079 root   INFO     performing evaluation: fairness, for model: SVM\n",
      "2020-05-06 13:54:53,123 root   INFO     Validating license...\n",
      "2020-05-06 13:54:53,133 root   INFO     License is valid - expires: n/a\n",
      "2020-05-06 13:54:53,137 root   INFO     Running counterfactual analysis for multiclass classification with class structure ClassStructure.PARTITIONED (analysis = Fairness)\n",
      "2020-05-06 13:54:53,139 root   INFO     Hyper-params for experiment: {'tournsize': 3, 'population': 4000, 'indpb': 0.05, 'CXPB': 0.5, 'MUTPB': 0.2, 'generation': 180, 'evolution': 100, 'N_CYCLES': 1, 'early_stopping_delta': 0.0001, 'early_stopping_epochs': 3, 'percent_class_seeding': 5, 'sampling_Z': 1.96, 'sampling_boundary': 0.01, 'sampling_min_n': 100, '2pt_orig_weight': 0.025, 'shrinkage_weight': 0.5, 'annealing_weight': 0.45, 'annealing_rate': 1.25, 'elitism': 0.04, 'dimensional_normalization': True, 'num_counterfactuals': 1}\n",
      "2020-05-06 13:54:53,140 root   INFO     Running without scaler, using identity scaler.\n",
      "2020-05-06 13:54:53,176 root   WARNING  Insufficient examples of some fairness classes to guarantee convergence (smallest class size is for 'male : divorced/separated' with 50 samples)\n",
      "2020-05-06 13:54:53,193 root   INFO     Running analysis variant 'prediction more beneficial'\n",
      "2020-05-06 13:54:58,068 root   INFO     Running with explanation reduction ON\n",
      "2020-05-06 13:54:58,068 root   INFO     Total dataset size is 1000\n",
      "2020-05-06 14:03:33,918 root   INFO     Batch run time per generation for instances 0 to 134: 2.21866\n",
      "2020-05-06 14:03:33,926 root   INFO     Current max sampling error 0.4780914007055314 (max for early stop 0.005102040816326531)\n",
      "2020-05-06 14:03:33,928 root   INFO     Current min non-exhausted protected class samples 30 (min for early stop 100)\n",
      "2020-05-06 14:11:58,256 root   INFO     Batch run time per generation for instances 135 to 290: 2.17872\n",
      "2020-05-06 14:11:58,262 root   WARNING  Examples of protected class (8, 'male : divorced/separated') exhausted before convergence after 50 samples\n",
      "2020-05-06 14:11:58,263 root   INFO     Current max sampling error 0.3351400019751681 (max for early stop 0.005102040816326531)\n",
      "2020-05-06 14:11:58,264 root   INFO     Current min non-exhausted protected class samples 70 (min for early stop 100)\n",
      "2020-05-06 14:19:53,268 root   INFO     Batch run time per generation for instances 291 to 454: 2.07798\n",
      "2020-05-06 14:19:53,270 root   WARNING  Examples of protected class (8, 'male : married/widowed') exhausted before convergence after 92 samples\n",
      "2020-05-06 14:19:53,271 root   INFO     Current max sampling error 0.22841372636808982 (max for early stop 0.005102040816326531)\n",
      "2020-05-06 14:19:53,272 root   INFO     Current min non-exhausted protected class samples 141 (min for early stop 100)\n",
      "2020-05-06 14:28:12,590 root   INFO     Batch run time per generation for instances 455 to 546: 2.17587\n",
      "2020-05-06 14:28:12,599 root   INFO     Current max sampling error 0.17409131269609734 (max for early stop 0.005102040816326531)\n",
      "2020-05-06 14:28:12,601 root   INFO     Current min non-exhausted protected class samples 173 (min for early stop 100)\n",
      "2020-05-06 14:37:01,246 root   INFO     Batch run time per generation for instances 547 to 751: 2.14445\n",
      "2020-05-06 14:37:01,256 root   WARNING  Examples of protected class (12, '<= 25 years') exhausted before convergence after 190 samples\n",
      "2020-05-06 14:37:01,257 root   INFO     Current max sampling error 0.1472335194867233 (max for early stop 0.005102040816326531)\n",
      "2020-05-06 14:37:01,258 root   INFO     Current min non-exhausted protected class samples 296 (min for early stop 100)\n",
      "2020-05-06 14:45:08,880 root   INFO     Batch run time per generation for instances 752 to 983: 2.07020\n",
      "2020-05-06 14:45:08,884 root   WARNING  Examples of protected class (8, 'female : divorced/separated/married') exhausted before convergence after 310 samples\n",
      "2020-05-06 14:45:08,885 root   INFO     Current max sampling error 0.11357861944179357 (max for early stop 0.005102040816326531)\n",
      "2020-05-06 14:45:08,886 root   INFO     Current min non-exhausted protected class samples 532 (min for early stop 100)\n",
      "2020-05-06 14:46:03,397 root   INFO     Batch run time per generation for instances 984 to 999: 2.07429\n",
      "2020-05-06 14:46:03,398 root   WARNING  Examples of protected class (12, '> 25 years') exhausted before convergence after 810 samples\n",
      "2020-05-06 14:46:03,400 root   WARNING  Examples of protected class (8, 'male : single') exhausted before convergence after 548 samples\n",
      "2020-05-06 14:46:03,401 root   INFO     Early stopping after running 1000 instances\n",
      "2020-05-06 14:46:03,445 root   INFO     Estimating sample variance (2001 bags)\n",
      "2020-05-06 14:46:18,045 root   INFO     Group Burden is [{'feature': 'age', 'groups': [{'label': '<= 25 years', 'value': 0.09455958549222798, 'value_confidence_95_lower': 0.08, 'value_confidence_95_upper': 0.11004784688995216, 'values': [0.09455958549222798], 'values_confidence_95_lower': [0.08], 'values_confidence_95_upper': [0.11004784688995216], 'values_names': ['burden']}, {'label': '> 25 years', 'value': 0.041666666666666664, 'value_confidence_95_lower': 0.03593556381660471, 'value_confidence_95_upper': 0.047418967587034816, 'values': [0.041666666666666664], 'values_confidence_95_lower': [0.03593556381660471], 'values_confidence_95_upper': [0.047418967587034816], 'values_names': ['burden']}]}, {'feature': 'status', 'groups': [{'label': 'female : divorced/separated/married', 'value': 0.08388704318936877, 'value_confidence_95_lower': 0.0725, 'value_confidence_95_upper': 0.09632352941176471, 'values': [0.08388704318936877], 'values_confidence_95_lower': [0.0725], 'values_confidence_95_upper': [0.09632352941176471], 'values_names': ['burden']}, {'label': 'male : divorced/separated', 'value': 0.06976744186046512, 'value_confidence_95_lower': 0.0425531914893617, 'value_confidence_95_upper': 0.1, 'values': [0.06976744186046512], 'values_confidence_95_lower': [0.0425531914893617], 'values_confidence_95_upper': [0.1], 'values_names': ['burden']}, {'label': 'male : married/widowed', 'value': 0.026595744680851064, 'value_confidence_95_lower': 0.014534883720930232, 'value_confidence_95_upper': 0.04076086956521739, 'values': [0.026595744680851064], 'values_confidence_95_lower': [0.014534883720930232], 'values_confidence_95_upper': [0.04076086956521739], 'values_names': ['burden']}, {'label': 'male : single', 'value': 0.03590425531914894, 'value_confidence_95_lower': 0.029383429672447014, 'value_confidence_95_upper': 0.042495479204339964, 'values': [0.03590425531914894], 'values_confidence_95_lower': [0.029383429672447014], 'values_confidence_95_upper': [0.042495479204339964], 'values_names': ['burden']}]}]\n"
     ]
    },
    {
     "name": "stderr",
     "output_type": "stream",
     "text": [
      "2020-05-06 14:46:18,046 root   INFO     Feature fairnesses are [{'feature': 'age', 'value': 61.15883350659299, 'value_confidence_95_lower': 52.73618538324422, 'value_confidence_95_upper': 70.64524765729585}, {'feature': 'status', 'value': 67.34984041646437, 'value_confidence_95_lower': 58.24331066587458, 'value_confidence_95_upper': 76.12839810454786}]\n",
      "2020-05-06 14:46:18,047 root   INFO     Model used: SVM\n",
      "2020-05-06 14:46:18,048 root   INFO     CERScore is 1.0615384615384615\n",
      "2020-05-06 14:46:18,049 root   INFO     NCERScore is 0.07820962780049875\n",
      "2020-05-06 14:46:18,049 root   INFO     Normalization constant is 13.572989558859554\n",
      "2020-05-06 14:46:18,050 root   INFO     Total run time in seconds: 3070.2763526439667\n",
      "2020-05-06 14:46:18,052 root   INFO     Total Samples: 1622\n",
      "2020-05-06 14:46:18,053 root   INFO     Average feature reduction applied to counterfactuals: 0.0\n",
      "2020-05-06 14:46:18,206 root   INFO     Completed fairness report for model SVM\n",
      "2020-05-06 14:46:18,210 root   INFO     Creating ATX report for model: SVM\n",
      "2020-05-06 14:46:18,212 root   INFO     performing evaluation: fairness, for model: logistic\n",
      "2020-05-06 14:46:18,239 root   INFO     Validating license...\n",
      "2020-05-06 14:46:18,241 root   INFO     License is valid - expires: n/a\n",
      "2020-05-06 14:46:18,242 root   INFO     Running counterfactual analysis for multiclass classification with class structure ClassStructure.PARTITIONED (analysis = Fairness)\n",
      "2020-05-06 14:46:18,243 root   INFO     Hyper-params for experiment: {'tournsize': 3, 'population': 4000, 'indpb': 0.05, 'CXPB': 0.5, 'MUTPB': 0.2, 'generation': 180, 'evolution': 100, 'N_CYCLES': 1, 'early_stopping_delta': 0.0001, 'early_stopping_epochs': 3, 'percent_class_seeding': 5, 'sampling_Z': 1.96, 'sampling_boundary': 0.01, 'sampling_min_n': 100, '2pt_orig_weight': 0.025, 'shrinkage_weight': 0.5, 'annealing_weight': 0.45, 'annealing_rate': 1.25, 'elitism': 0.04, 'dimensional_normalization': True, 'num_counterfactuals': 1}\n",
      "2020-05-06 14:46:18,245 root   INFO     Running without scaler, using identity scaler.\n",
      "2020-05-06 14:46:18,262 root   WARNING  Insufficient examples of some fairness classes to guarantee convergence (smallest class size is for 'male : divorced/separated' with 50 samples)\n",
      "2020-05-06 14:46:18,275 root   INFO     Running analysis variant 'prediction more beneficial'\n",
      "2020-05-06 14:46:23,464 root   INFO     Running with explanation reduction ON\n",
      "2020-05-06 14:46:23,465 root   INFO     Total dataset size is 1000\n",
      "2020-05-06 14:52:39,842 root   INFO     Batch run time per generation for instances 0 to 119: 1.60444\n",
      "2020-05-06 14:52:39,844 root   INFO     Current max sampling error 0.3749999793750012 (max for early stop 0.005102040816326531)\n",
      "2020-05-06 14:52:39,844 root   INFO     Current min non-exhausted protected class samples 27 (min for early stop 100)\n",
      "2020-05-06 14:58:27,923 root   INFO     Batch run time per generation for instances 120 to 256: 1.56936\n",
      "2020-05-06 14:58:27,926 root   WARNING  Examples of protected class (8, 'male : divorced/separated') exhausted before convergence after 50 samples\n",
      "2020-05-06 14:58:27,927 root   INFO     Current max sampling error 0.31031642438453 (max for early stop 0.005102040816326531)\n",
      "2020-05-06 14:58:27,928 root   INFO     Current min non-exhausted protected class samples 61 (min for early stop 100)\n",
      "2020-05-06 15:04:23,839 root   INFO     Batch run time per generation for instances 257 to 416: 1.57663\n",
      "2020-05-06 15:04:23,841 root   WARNING  Examples of protected class (8, 'male : married/widowed') exhausted before convergence after 92 samples\n",
      "2020-05-06 15:04:23,841 root   INFO     Current max sampling error 0.2068770298848812 (max for early stop 0.005102040816326531)\n",
      "2020-05-06 15:04:23,843 root   INFO     Current min non-exhausted protected class samples 128 (min for early stop 100)\n",
      "2020-05-06 15:10:43,568 root   INFO     Batch run time per generation for instances 417 to 507: 1.65385\n",
      "2020-05-06 15:10:43,575 root   INFO     Current max sampling error 0.15953065063372715 (max for early stop 0.005102040816326531)\n",
      "2020-05-06 15:10:43,576 root   INFO     Current min non-exhausted protected class samples 158 (min for early stop 100)\n",
      "2020-05-06 15:16:53,202 root   INFO     Batch run time per generation for instances 508 to 628: 1.67512\n",
      "2020-05-06 15:16:53,206 root   WARNING  Examples of protected class (12, '<= 25 years') exhausted before convergence after 190 samples\n",
      "2020-05-06 15:16:53,207 root   INFO     Current max sampling error 0.13428744550517044 (max for early stop 0.005102040816326531)\n",
      "2020-05-06 15:16:53,207 root   INFO     Current min non-exhausted protected class samples 243 (min for early stop 100)\n",
      "2020-05-06 15:23:08,971 root   INFO     Batch run time per generation for instances 629 to 773: 1.56073\n",
      "2020-05-06 15:23:08,978 root   INFO     Current max sampling error 0.12022695360352868 (max for early stop 0.005102040816326531)\n",
      "2020-05-06 15:23:08,980 root   INFO     Current min non-exhausted protected class samples 305 (min for early stop 100)\n",
      "2020-05-06 15:28:54,369 root   INFO     Batch run time per generation for instances 774 to 982: 1.59405\n",
      "2020-05-06 15:28:54,377 root   WARNING  Examples of protected class (8, 'female : divorced/separated/married') exhausted before convergence after 310 samples\n",
      "2020-05-06 15:28:54,378 root   INFO     Current max sampling error 0.0985571025511247 (max for early stop 0.005102040816326531)\n",
      "2020-05-06 15:28:54,378 root   INFO     Current min non-exhausted protected class samples 531 (min for early stop 100)\n",
      "2020-05-06 15:29:44,964 root   INFO     Batch run time per generation for instances 983 to 999: 2.00415\n",
      "2020-05-06 15:29:44,966 root   WARNING  Examples of protected class (12, '> 25 years') exhausted before convergence after 810 samples\n",
      "2020-05-06 15:29:44,966 root   WARNING  Examples of protected class (8, 'male : single') exhausted before convergence after 548 samples\n",
      "2020-05-06 15:29:44,968 root   INFO     Early stopping after running 1000 instances\n",
      "2020-05-06 15:29:45,000 root   INFO     Estimating sample variance (2001 bags)\n",
      "2020-05-06 15:30:01,374 root   INFO     Group Burden is [{'feature': 'age', 'groups': [{'label': '<= 25 years', 'value': 0.09065934065934066, 'value_confidence_95_lower': 0.07535885167464115, 'value_confidence_95_upper': 0.10657894736842105, 'values': [0.09065934065934066], 'values_confidence_95_lower': [0.07535885167464115], 'values_confidence_95_upper': [0.10657894736842105], 'values_names': ['burden']}, {'label': '> 25 years', 'value': 0.05319148936170213, 'value_confidence_95_lower': 0.046625766871165646, 'value_confidence_95_upper': 0.0594944512946979, 'values': [0.05319148936170213], 'values_confidence_95_lower': [0.046625766871165646], 'values_confidence_95_upper': [0.0594944512946979], 'values_names': ['burden']}]}, {'feature': 'status', 'groups': [{'label': 'female : divorced/separated/married', 'value': 0.08883647798742138, 'value_confidence_95_lower': 0.07653061224489796, 'value_confidence_95_upper': 0.10096153846153846, 'values': [0.08883647798742138], 'values_confidence_95_lower': [0.07653061224489796], 'values_confidence_95_upper': [0.10096153846153846], 'values_names': ['burden']}, {'label': 'male : divorced/separated', 'value': 0.105, 'value_confidence_95_lower': 0.07407407407407407, 'value_confidence_95_upper': 0.13679245283018868, 'values': [0.105], 'values_confidence_95_lower': [0.07407407407407407], 'values_confidence_95_upper': [0.13679245283018868], 'values_names': ['burden']}, {'label': 'male : married/widowed', 'value': 0.03529411764705882, 'value_confidence_95_lower': 0.020348837209302327, 'value_confidence_95_upper': 0.05, 'values': [0.03529411764705882], 'values_confidence_95_lower': [0.020348837209302327], 'values_confidence_95_upper': [0.05], 'values_names': ['burden']}, {'label': 'male : single', 'value': 0.044144144144144144, 'value_confidence_95_lower': 0.03742802303262956, 'value_confidence_95_upper': 0.05136363636363636, 'values': [0.044144144144144144], 'values_confidence_95_lower': [0.03742802303262956], 'values_confidence_95_upper': [0.05136363636363636], 'values_names': ['burden']}]}]\n",
      "2020-05-06 15:30:01,375 root   INFO     Feature fairnesses are [{'feature': 'age', 'value': 74.07772574151672, 'value_confidence_95_lower': 64.34474349710983, 'value_confidence_95_upper': 84.42549371633751}, {'feature': 'status', 'value': 68.38787882659712, 'value_confidence_95_lower': 58.80694951727081, 'value_confidence_95_upper': 77.8514438311028}]\n"
     ]
    },
    {
     "name": "stderr",
     "output_type": "stream",
     "text": [
      "2020-05-06 15:30:01,376 root   INFO     Model used: logistic\n",
      "2020-05-06 15:30:01,377 root   INFO     CERScore is 1.0570175438596492\n",
      "2020-05-06 15:30:01,378 root   INFO     NCERScore is 0.07723889367830424\n",
      "2020-05-06 15:30:01,379 root   INFO     Normalization constant is 13.685042515783168\n",
      "2020-05-06 15:30:01,380 root   INFO     Total run time in seconds: 2606.7361268997192\n",
      "2020-05-06 15:30:01,381 root   INFO     Total Samples: 1838\n",
      "2020-05-06 15:30:01,383 root   INFO     Average feature reduction applied to counterfactuals: 0.0\n",
      "2020-05-06 15:30:01,513 root   INFO     Completed fairness report for model logistic\n",
      "2020-05-06 15:30:01,517 root   INFO     Creating ATX report for model: logistic\n",
      "2020-05-06 15:30:01,520 root   INFO     Completed all evaluations\n"
     ]
    }
   ],
   "source": [
    "# Run the scan.\n",
    "# By default this will write the results into individual report files (one per model and evaluation\n",
    "# type) in the 'reports' directory relative to the Jupyter root.  This may be disabled by specifying\n",
    "# `write_reports=False` as below\n",
    "# The result is a dictionary of dictionaries of reports.  The top level dict key is the evaluation type\n",
    "# and the second level key is model id.\n",
    "# Reports saved as JSON (which `write_reports=True` will do) may be visualized in the console app\n",
    "result = scan.run(write_reports=False)"
   ]
  },
  {
   "cell_type": "markdown",
   "metadata": {},
   "source": [
    "## Analayze Fairness Results"
   ]
  },
  {
   "cell_type": "code",
   "execution_count": 87,
   "metadata": {},
   "outputs": [
    {
     "name": "stdout",
     "output_type": "stream",
     "text": [
      "<class 'list'>\n"
     ]
    },
    {
     "data": {
      "text/html": [
       "<div>\n",
       "<style scoped>\n",
       "    .dataframe tbody tr th:only-of-type {\n",
       "        vertical-align: middle;\n",
       "    }\n",
       "\n",
       "    .dataframe tbody tr th {\n",
       "        vertical-align: top;\n",
       "    }\n",
       "\n",
       "    .dataframe thead th {\n",
       "        text-align: right;\n",
       "    }\n",
       "</style>\n",
       "<table border=\"1\" class=\"dataframe\">\n",
       "  <thead>\n",
       "    <tr style=\"text-align: right;\">\n",
       "      <th></th>\n",
       "      <th>context</th>\n",
       "      <th>type</th>\n",
       "      <th>overall fairness</th>\n",
       "      <th>Feature (age)</th>\n",
       "      <th>Group details (&lt;= 25 years)</th>\n",
       "      <th>Group details (&gt; 25 years)</th>\n",
       "      <th>Feature (status)</th>\n",
       "      <th>Group details (female : divorced/separated/married)</th>\n",
       "      <th>Group details (male : divorced/separated)</th>\n",
       "      <th>Group details (male : married/widowed)</th>\n",
       "      <th>Group details (male : single)</th>\n",
       "    </tr>\n",
       "  </thead>\n",
       "  <tbody>\n",
       "    <tr>\n",
       "      <th>SVM (burden)</th>\n",
       "      <td>SVM</td>\n",
       "      <td>burden</td>\n",
       "      <td>60.381495</td>\n",
       "      <td>61.158834</td>\n",
       "      <td>0.094560</td>\n",
       "      <td>0.041667</td>\n",
       "      <td>67.349840</td>\n",
       "      <td>0.083887</td>\n",
       "      <td>0.069767</td>\n",
       "      <td>0.026596</td>\n",
       "      <td>0.035904</td>\n",
       "    </tr>\n",
       "    <tr>\n",
       "      <th>logistic (burden)</th>\n",
       "      <td>logistic</td>\n",
       "      <td>burden</td>\n",
       "      <td>67.319983</td>\n",
       "      <td>74.077726</td>\n",
       "      <td>0.090659</td>\n",
       "      <td>0.053191</td>\n",
       "      <td>68.387879</td>\n",
       "      <td>0.088836</td>\n",
       "      <td>0.105000</td>\n",
       "      <td>0.035294</td>\n",
       "      <td>0.044144</td>\n",
       "    </tr>\n",
       "  </tbody>\n",
       "</table>\n",
       "</div>"
      ],
      "text/plain": [
       "                    context    type  overall fairness  Feature (age)  \\\n",
       "SVM (burden)            SVM  burden         60.381495      61.158834   \n",
       "logistic (burden)  logistic  burden         67.319983      74.077726   \n",
       "\n",
       "                   Group details (<= 25 years)  Group details (> 25 years)  \\\n",
       "SVM (burden)                          0.094560                    0.041667   \n",
       "logistic (burden)                     0.090659                    0.053191   \n",
       "\n",
       "                   Feature (status)  \\\n",
       "SVM (burden)              67.349840   \n",
       "logistic (burden)         68.387879   \n",
       "\n",
       "                   Group details (female : divorced/separated/married)  \\\n",
       "SVM (burden)                                                0.083887     \n",
       "logistic (burden)                                           0.088836     \n",
       "\n",
       "                   Group details (male : divorced/separated)  \\\n",
       "SVM (burden)                                        0.069767   \n",
       "logistic (burden)                                   0.105000   \n",
       "\n",
       "                   Group details (male : married/widowed)  \\\n",
       "SVM (burden)                                     0.026596   \n",
       "logistic (burden)                                0.035294   \n",
       "\n",
       "                   Group details (male : single)  \n",
       "SVM (burden)                            0.035904  \n",
       "logistic (burden)                       0.044144  "
      ]
     },
     "metadata": {},
     "output_type": "display_data"
    }
   ],
   "source": [
    "# The result is a dictionary keyed on analysis, containing reports keyed on model id\n",
    "# The console app is the recommended way to view these, by saving the results to file\n",
    "# (see previous cell), but programmatic analysis of the result here is also possible\n",
    "print(type(result['fairness']['SVM']['fairness']['secondary_scores']))\n",
    "df = construct_scores_dataframe(scores('fairness', result), include_confidence=False)\n",
    "display(df)"
   ]
  },
  {
   "cell_type": "markdown",
   "metadata": {},
   "source": [
    "##  fairness by model"
   ]
  },
  {
   "cell_type": "code",
   "execution_count": 88,
   "metadata": {},
   "outputs": [
    {
     "data": {
      "text/html": [
       "<div>\n",
       "<style scoped>\n",
       "    .dataframe tbody tr th:only-of-type {\n",
       "        vertical-align: middle;\n",
       "    }\n",
       "\n",
       "    .dataframe tbody tr th {\n",
       "        vertical-align: top;\n",
       "    }\n",
       "\n",
       "    .dataframe thead th {\n",
       "        text-align: right;\n",
       "    }\n",
       "</style>\n",
       "<table border=\"1\" class=\"dataframe\">\n",
       "  <thead>\n",
       "    <tr style=\"text-align: right;\">\n",
       "      <th></th>\n",
       "      <th>context</th>\n",
       "      <th>type</th>\n",
       "      <th>overall fairness</th>\n",
       "      <th>overall fairness lower bound</th>\n",
       "      <th>overall fairness upper bound</th>\n",
       "      <th>Feature (age)</th>\n",
       "      <th>Feature (age) lower bound</th>\n",
       "      <th>Feature (age) upper bound</th>\n",
       "      <th>Group details (&lt;= 25 years)</th>\n",
       "      <th>Group details (&lt;= 25 years) lower bound</th>\n",
       "      <th>...</th>\n",
       "      <th>Group details (female : divorced/separated/married) upper bound</th>\n",
       "      <th>Group details (male : divorced/separated)</th>\n",
       "      <th>Group details (male : divorced/separated) lower bound</th>\n",
       "      <th>Group details (male : divorced/separated) upper bound</th>\n",
       "      <th>Group details (male : married/widowed)</th>\n",
       "      <th>Group details (male : married/widowed) lower bound</th>\n",
       "      <th>Group details (male : married/widowed) upper bound</th>\n",
       "      <th>Group details (male : single)</th>\n",
       "      <th>Group details (male : single) lower bound</th>\n",
       "      <th>Group details (male : single) upper bound</th>\n",
       "    </tr>\n",
       "  </thead>\n",
       "  <tbody>\n",
       "    <tr>\n",
       "      <th>SVM (burden)</th>\n",
       "      <td>SVM</td>\n",
       "      <td>burden</td>\n",
       "      <td>60.381495</td>\n",
       "      <td>52.491527</td>\n",
       "      <td>68.290408</td>\n",
       "      <td>61.158834</td>\n",
       "      <td>52.736185</td>\n",
       "      <td>70.645248</td>\n",
       "      <td>0.094560</td>\n",
       "      <td>0.080000</td>\n",
       "      <td>...</td>\n",
       "      <td>0.096324</td>\n",
       "      <td>0.069767</td>\n",
       "      <td>0.042553</td>\n",
       "      <td>0.100000</td>\n",
       "      <td>0.026596</td>\n",
       "      <td>0.014535</td>\n",
       "      <td>0.040761</td>\n",
       "      <td>0.035904</td>\n",
       "      <td>0.029383</td>\n",
       "      <td>0.042495</td>\n",
       "    </tr>\n",
       "    <tr>\n",
       "      <th>logistic (burden)</th>\n",
       "      <td>logistic</td>\n",
       "      <td>burden</td>\n",
       "      <td>67.319983</td>\n",
       "      <td>58.620645</td>\n",
       "      <td>74.782701</td>\n",
       "      <td>74.077726</td>\n",
       "      <td>64.344743</td>\n",
       "      <td>84.425494</td>\n",
       "      <td>0.090659</td>\n",
       "      <td>0.075359</td>\n",
       "      <td>...</td>\n",
       "      <td>0.100962</td>\n",
       "      <td>0.105000</td>\n",
       "      <td>0.074074</td>\n",
       "      <td>0.136792</td>\n",
       "      <td>0.035294</td>\n",
       "      <td>0.020349</td>\n",
       "      <td>0.050000</td>\n",
       "      <td>0.044144</td>\n",
       "      <td>0.037428</td>\n",
       "      <td>0.051364</td>\n",
       "    </tr>\n",
       "  </tbody>\n",
       "</table>\n",
       "<p>2 rows × 29 columns</p>\n",
       "</div>"
      ],
      "text/plain": [
       "                    context    type  overall fairness  \\\n",
       "SVM (burden)            SVM  burden         60.381495   \n",
       "logistic (burden)  logistic  burden         67.319983   \n",
       "\n",
       "                   overall fairness lower bound  overall fairness upper bound  \\\n",
       "SVM (burden)                          52.491527                     68.290408   \n",
       "logistic (burden)                     58.620645                     74.782701   \n",
       "\n",
       "                   Feature (age)  Feature (age) lower bound  \\\n",
       "SVM (burden)           61.158834                  52.736185   \n",
       "logistic (burden)      74.077726                  64.344743   \n",
       "\n",
       "                   Feature (age) upper bound  Group details (<= 25 years)  \\\n",
       "SVM (burden)                       70.645248                     0.094560   \n",
       "logistic (burden)                  84.425494                     0.090659   \n",
       "\n",
       "                   Group details (<= 25 years) lower bound  ...  \\\n",
       "SVM (burden)                                      0.080000  ...   \n",
       "logistic (burden)                                 0.075359  ...   \n",
       "\n",
       "                   Group details (female : divorced/separated/married) upper bound  \\\n",
       "SVM (burden)                                                0.096324                 \n",
       "logistic (burden)                                           0.100962                 \n",
       "\n",
       "                   Group details (male : divorced/separated)  \\\n",
       "SVM (burden)                                        0.069767   \n",
       "logistic (burden)                                   0.105000   \n",
       "\n",
       "                   Group details (male : divorced/separated) lower bound  \\\n",
       "SVM (burden)                                                0.042553       \n",
       "logistic (burden)                                           0.074074       \n",
       "\n",
       "                   Group details (male : divorced/separated) upper bound  \\\n",
       "SVM (burden)                                                0.100000       \n",
       "logistic (burden)                                           0.136792       \n",
       "\n",
       "                   Group details (male : married/widowed)  \\\n",
       "SVM (burden)                                     0.026596   \n",
       "logistic (burden)                                0.035294   \n",
       "\n",
       "                   Group details (male : married/widowed) lower bound  \\\n",
       "SVM (burden)                                                0.014535    \n",
       "logistic (burden)                                           0.020349    \n",
       "\n",
       "                   Group details (male : married/widowed) upper bound  \\\n",
       "SVM (burden)                                                0.040761    \n",
       "logistic (burden)                                           0.050000    \n",
       "\n",
       "                   Group details (male : single)  \\\n",
       "SVM (burden)                            0.035904   \n",
       "logistic (burden)                       0.044144   \n",
       "\n",
       "                   Group details (male : single) lower bound  \\\n",
       "SVM (burden)                                        0.029383   \n",
       "logistic (burden)                                   0.037428   \n",
       "\n",
       "                   Group details (male : single) upper bound  \n",
       "SVM (burden)                                        0.042495  \n",
       "logistic (burden)                                   0.051364  \n",
       "\n",
       "[2 rows x 29 columns]"
      ]
     },
     "metadata": {},
     "output_type": "display_data"
    },
    {
     "name": "stdout",
     "output_type": "stream",
     "text": [
      "\n",
      "\n"
     ]
    },
    {
     "data": {
      "image/png": "[encoded data removed]",
      "text/plain": [
       "<Figure size 864x288 with 1 Axes>"
      ]
     },
     "metadata": {
      "needs_background": "light"
     },
     "output_type": "display_data"
    }
   ],
   "source": [
    "# Many scores also come with 95% confidence bounds, which we omitted above for the sake of brevity, but\n",
    "# we can include those also.  In the example here we include the confidence bounds but only display the scores\n",
    "# to a reduced level of detail to keep a smallish table for display purposes\n",
    "df = construct_scores_dataframe(scores('fairness', result, max_depth=1))\n",
    "display(df)\n",
    "\n",
    "print(\"\\n\")\n",
    "\n",
    "# Let's chart the fairness measure by feature for each model together with its confidence bounds for\n",
    "# easier visual comparison:\n",
    "%matplotlib inline\n",
    "import matplotlib.pyplot as plt\n",
    "\n",
    "features = ['Feature (status)', 'Feature (age)']\n",
    "feature_scores = df[features]\n",
    "feature_lower_bounds = df[[f + ' lower bound' for f in features]]\n",
    "feature_upper_bounds = df[[f + ' upper bound' for f in features]]\n",
    "\n",
    "fig, ax = plt.subplots(figsize=[12,4])\n",
    "ax.set_title('Feature fairness by model', fontsize=20)\n",
    "colors = ['tab:blue', 'tab:orange', 'tab:green', 'tab:red', 'tab:pink']\n",
    "width = 0.4\n",
    "\n",
    "ax.set_xticks(np.arange(len(features))+width)\n",
    "ax.set_xticklabels(features)\n",
    "\n",
    "for idx in range(len(df)):\n",
    "    central_values = list(feature_scores.iloc[idx])\n",
    "    lower_bounds = list(feature_lower_bounds.iloc[idx])\n",
    "    upper_bounds = list(feature_upper_bounds.iloc[idx])\n",
    "    lower_errors = [central_values[i] - lower_bounds[i] for i in range(len(central_values))]\n",
    "    upper_errors = [upper_bounds[i] - central_values[i] for i in range(len(central_values))]\n",
    "\n",
    "    ax.bar([width/2+idx*width+f_idx for f_idx in range(len(features))],\n",
    "            central_values,\n",
    "            width,\n",
    "            yerr=[lower_errors, upper_errors],\n",
    "            color=colors[idx],\n",
    "            label=df.index[idx],\n",
    "            capsize=10)\n",
    "\n",
    "fig.legend(fontsize=14, bbox_to_anchor=(1.1,.6))\n",
    "fig.tight_layout()\n",
    "fig.subplots_adjust(right=0.8) \n",
    "plt.show()"
   ]
  },
  {
   "cell_type": "markdown",
   "metadata": {},
   "source": [
    "\n",
    "## Resource Cleanup\n"
   ]
  },
  {
   "cell_type": "markdown",
   "metadata": {},
   "source": [
    "- In this tutorial we\n",
    " - created and registered `logistic_model_azure` and `svm_model_azure` models to our Azure workspace\n",
    " - created `german-credit-logistic-service` and `german-credit-svm-service` ACI (Azure Container Instance) webservices \n",
    "\n",
    "- Once Cortex Certifai evaluation is complete, make sure to clear all azure resources in order to avoid cost\n",
    "- Follow the [Azure Ml resource cleanup docs][1] to remove all resources created above\n",
    "\n",
    "[1]:https://docs.microsoft.com/en-us/azure/machine-learning/tutorial-1st-experiment-sdk-train#clean-up-resources"
   ]
  },
  {
   "cell_type": "code",
   "execution_count": null,
   "metadata": {},
   "outputs": [],
   "source": []
  }
 ],
 "metadata": {
  "kernelspec": {
   "display_name": "Python 3",
   "language": "python",
   "name": "python3"
  },
  "language_info": {
   "codemirror_mode": {
    "name": "ipython",
    "version": 3
   },
   "file_extension": ".py",
   "mimetype": "text/x-python",
   "name": "python",
   "nbconvert_exporter": "python",
   "pygments_lexer": "ipython3",
   "version": "3.6.2"
  }
 },
 "nbformat": 4,
 "nbformat_minor": 4
}