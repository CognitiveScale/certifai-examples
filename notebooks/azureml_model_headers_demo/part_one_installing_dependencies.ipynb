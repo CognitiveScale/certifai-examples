{
 "cells": [
  {
   "cell_type": "markdown",
   "id": "928f997e",
   "metadata": {},
   "source": [
    "## Installing Cortex Certifai and Pre-requisite Dependencies"
   ]
  },
  {
   "cell_type": "markdown",
   "id": "b84bbe94",
   "metadata": {},
   "source": [
    "Creating local and remote environments/dependencies will be covered in the notebook\n",
    "\n",
    "**Please Note**: To run this notebook, make sure you have the following necessary dependencies installed\n",
    "\n",
    "- python=3.8\n",
    "- scikit-learn=1.0.2\n",
    "- numpy=1.21.6\n",
    "- pandas\n",
    "- azureml-sdk=1.47.0\n",
    "- ipython\n",
    "- matplotlib\n",
    "- jupyter\n",
    "\n",
    "You can alternatively use [Conda](https://docs.conda.io/projects/conda/en/latest/user-guide/install/) to create the local environment with the `certifai_azure_model_env.yml` file provided with the notebook.\n",
    "\n",
    "Open your favorite terminal and cd into the  folder where this notebook is located to execute the below commands\n",
    "\n",
    "- `conda env create -f certifai_azure_model_env.yml`: will create local conda env with the necessary python packages for working through the notebook\n",
    "- `jupyter-notebook`: to launch jupyter notebook sesssion. \n",
    "\n",
    "\n",
    "**Note**: Installing Cortex Certifai packages will be covered below."
   ]
  },
  {
   "cell_type": "markdown",
   "id": "a2d1867a",
   "metadata": {},
   "source": [
    "### Set Cortex Certifai Toolkit path\n",
    "- Update the `certifai_toolkit_path` variable to point your downloaded toolkit\n",
    "- This will be used later to install the Cortex Certifai python packages"
   ]
  },
  {
   "cell_type": "code",
   "execution_count": 1,
   "id": "8cb22d29",
   "metadata": {
    "execution": {
     "iopub.execute_input": "2023-01-25T21:14:18.205236Z",
     "iopub.status.busy": "2023-01-25T21:14:18.204899Z",
     "iopub.status.idle": "2023-01-25T21:14:18.221414Z",
     "shell.execute_reply": "2023-01-25T21:14:18.220476Z"
    }
   },
   "outputs": [
    {
     "name": "stdout",
     "output_type": "stream",
     "text": [
      "Toolkit Path: /Users/laguirre/cortex/cortex-certifai-examples/artifacts/toolkit\n"
     ]
    }
   ],
   "source": [
    "import os\n",
    "\n",
    "home = os.path.expanduser(\"~\")\n",
    "default_certifai_toolkit_path = os.path.join(home, 'Downloads', 'toolkit')\n",
    "certifai_toolkit_path = os.getenv('TOOLKIT_WORK_DIR', default_certifai_toolkit_path)\n",
    "print(f'Toolkit Path: {certifai_toolkit_path}')"
   ]
  },
  {
   "cell_type": "markdown",
   "id": "cd397369",
   "metadata": {},
   "source": [
    "Install a matching scikit-learn version for model reproducibility in local, hosted Azure ML notebook, and container environments. "
   ]
  },
  {
   "cell_type": "code",
   "execution_count": 2,
   "id": "a976a855",
   "metadata": {
    "execution": {
     "iopub.execute_input": "2023-01-25T21:14:18.225540Z",
     "iopub.status.busy": "2023-01-25T21:14:18.225236Z",
     "iopub.status.idle": "2023-01-25T21:14:20.514905Z",
     "shell.execute_reply": "2023-01-25T21:14:20.513728Z"
    }
   },
   "outputs": [
    {
     "name": "stdout",
     "output_type": "stream",
     "text": [
      "Requirement already satisfied: scikit-learn==1.0.2 in /Users/laguirre/miniconda3/envs/certifai-azure-model-env/lib/python3.8/site-packages (1.0.2)\r\n",
      "Requirement already satisfied: joblib>=0.11 in /Users/laguirre/miniconda3/envs/certifai-azure-model-env/lib/python3.8/site-packages (from scikit-learn==1.0.2) (1.1.1)\r\n",
      "Requirement already satisfied: numpy>=1.14.6 in /Users/laguirre/miniconda3/envs/certifai-azure-model-env/lib/python3.8/site-packages (from scikit-learn==1.0.2) (1.21.5)\r\n",
      "Requirement already satisfied: scipy>=1.1.0 in /Users/laguirre/miniconda3/envs/certifai-azure-model-env/lib/python3.8/site-packages (from scikit-learn==1.0.2) (1.10.0)\r\n",
      "Requirement already satisfied: threadpoolctl>=2.0.0 in /Users/laguirre/miniconda3/envs/certifai-azure-model-env/lib/python3.8/site-packages (from scikit-learn==1.0.2) (3.1.0)\r\n",
      "Note: you may need to restart the kernel to use updated packages.\n"
     ]
    }
   ],
   "source": [
    "#!pip install scikit-learn==1.0.2\n",
    "\n",
    "# If you are using an Azure ML Notebook or a different python version, then it is recommended to activate the respective conda environment,\n",
    "# select it as a kernel, and use the following command. Refer to: https://learn.microsoft.com/en-us/azure/machine-learning/how-to-access-terminal#add-new-kernels\n",
    "%pip install scikit-learn==1.0.2"
   ]
  },
  {
   "cell_type": "markdown",
   "id": "f6620b73",
   "metadata": {},
   "source": [
    "## Installing Cortex Certifai python packages\n",
    "\n",
    "Initiating a Cortex Certifai scan requires following python packages to be installed in the current local environment.\n",
    "\n",
    "`required-packages`:\n",
    "\n",
    "- cortex-certifai-scanner\n",
    "- cortex-certifai-engine\n",
    "- cortex-certifai-common\n",
    "\n",
    "`optional-packages`:\n",
    "\n",
    "- cortex-certifai-client\n",
    "- cortex-certifai-console\n",
    "\n",
    "Download the [Certifai toolkit](https://cognitivescale.github.io/cortex-certifai/) and follow instructions in the `README.md` to install the python-packages in the current environment"
   ]
  },
  {
   "cell_type": "markdown",
   "id": "4ecb6181",
   "metadata": {},
   "source": [
    "### Install required certifai packages (optional packages are left for user to install)\n",
    "\n",
    "The following installation assumes you are using Python 3.8. If you are using a different version, then update the file path used below."
   ]
  },
  {
   "cell_type": "code",
   "execution_count": 3,
   "id": "a723c6d1",
   "metadata": {
    "execution": {
     "iopub.execute_input": "2023-01-25T21:14:20.519612Z",
     "iopub.status.busy": "2023-01-25T21:14:20.519196Z",
     "iopub.status.idle": "2023-01-25T21:15:07.698378Z",
     "shell.execute_reply": "2023-01-25T21:15:07.696569Z"
    }
   },
   "outputs": [
    {
     "name": "stdout",
     "output_type": "stream",
     "text": [
      "Processing /Users/laguirre/cortex/cortex-certifai-examples/artifacts/toolkit/packages/all/cortex-certifai-common-1.3.16-22-g6c7acbb6.zip\r\n",
      "  Preparing metadata (setup.py) ... \u001b[?25l-\b \bdone\r\n",
      "\u001b[?25hRequirement already satisfied: requests<3.0,>=2.20.0 in /Users/laguirre/miniconda3/envs/certifai-azure-model-env/lib/python3.8/site-packages (from cortex-certifai-common==1.3.16) (2.28.2)\r\n",
      "Requirement already satisfied: urllib3<1.27.0,>=1.24.3 in /Users/laguirre/miniconda3/envs/certifai-azure-model-env/lib/python3.8/site-packages (from cortex-certifai-common==1.3.16) (1.26.14)\r\n",
      "Requirement already satisfied: numpy<1.22,>=1.16.2 in /Users/laguirre/miniconda3/envs/certifai-azure-model-env/lib/python3.8/site-packages (from cortex-certifai-common==1.3.16) (1.21.5)\r\n",
      "Collecting pandas<1.5,>=0.23.4\r\n",
      "  Using cached pandas-1.4.4-cp38-cp38-macosx_10_9_x86_64.whl (11.4 MB)\r\n",
      "Collecting scipy<1.8,>=1.1.0\r\n",
      "  Using cached scipy-1.7.3-cp38-cp38-macosx_10_9_x86_64.whl (33.0 MB)\r\n",
      "Requirement already satisfied: python-dateutil<3.0,>=2.6.1 in /Users/laguirre/miniconda3/envs/certifai-azure-model-env/lib/python3.8/site-packages (from cortex-certifai-common==1.3.16) (2.8.2)\r\n",
      "Collecting toolz<1.0,>=0.10.0\r\n",
      "  Using cached toolz-0.12.0-py3-none-any.whl (55 kB)\r\n",
      "Requirement already satisfied: typing_extensions<5.0,>=3.6.6 in /Users/laguirre/miniconda3/envs/certifai-azure-model-env/lib/python3.8/site-packages (from cortex-certifai-common==1.3.16) (4.4.0)\r\n",
      "Requirement already satisfied: scikit-learn<1.1,>=0.20.3 in /Users/laguirre/miniconda3/envs/certifai-azure-model-env/lib/python3.8/site-packages (from cortex-certifai-common==1.3.16) (1.0.2)\r\n",
      "Collecting pyyaml<6.0,>=3.13\r\n",
      "  Using cached PyYAML-5.4.1-cp38-cp38-macosx_10_9_x86_64.whl (253 kB)\r\n",
      "Collecting pygtrie==2.4.2\r\n",
      "  Using cached pygtrie-2.4.2.tar.gz (35 kB)\r\n",
      "  Preparing metadata (setup.py) ... \u001b[?25l-\b \bdone\r\n",
      "\u001b[?25hRequirement already satisfied: pytz>=2020.1 in /Users/laguirre/miniconda3/envs/certifai-azure-model-env/lib/python3.8/site-packages (from pandas<1.5,>=0.23.4->cortex-certifai-common==1.3.16) (2022.7.1)\r\n",
      "Requirement already satisfied: six>=1.5 in /Users/laguirre/miniconda3/envs/certifai-azure-model-env/lib/python3.8/site-packages (from python-dateutil<3.0,>=2.6.1->cortex-certifai-common==1.3.16) (1.16.0)\r\n",
      "Requirement already satisfied: idna<4,>=2.5 in /Users/laguirre/miniconda3/envs/certifai-azure-model-env/lib/python3.8/site-packages (from requests<3.0,>=2.20.0->cortex-certifai-common==1.3.16) (3.4)\r\n",
      "Requirement already satisfied: charset-normalizer<4,>=2 in /Users/laguirre/miniconda3/envs/certifai-azure-model-env/lib/python3.8/site-packages (from requests<3.0,>=2.20.0->cortex-certifai-common==1.3.16) (2.1.1)\r\n",
      "Requirement already satisfied: certifi>=2017.4.17 in /Users/laguirre/miniconda3/envs/certifai-azure-model-env/lib/python3.8/site-packages (from requests<3.0,>=2.20.0->cortex-certifai-common==1.3.16) (2022.12.7)\r\n",
      "Requirement already satisfied: threadpoolctl>=2.0.0 in /Users/laguirre/miniconda3/envs/certifai-azure-model-env/lib/python3.8/site-packages (from scikit-learn<1.1,>=0.20.3->cortex-certifai-common==1.3.16) (3.1.0)\r\n",
      "Requirement already satisfied: joblib>=0.11 in /Users/laguirre/miniconda3/envs/certifai-azure-model-env/lib/python3.8/site-packages (from scikit-learn<1.1,>=0.20.3->cortex-certifai-common==1.3.16) (1.1.1)\r\n",
      "Building wheels for collected packages: cortex-certifai-common, pygtrie\r\n",
      "  Building wheel for cortex-certifai-common (setup.py) ... \u001b[?25l-\b \b\\\b \b|\b \bdone\r\n",
      "\u001b[?25h  Created wheel for cortex-certifai-common: filename=cortex_certifai_common-1.3.16-py3-none-any.whl size=117640 sha256=943d2e1e4d0aa498af129567c9cdcd793f4ec53cfeb9e1e560f662bad5c4a0e2\r\n",
      "  Stored in directory: /Users/laguirre/Library/Caches/pip/wheels/35/15/e7/d526793f859fe7e78144a03ff3263a8242dae434aba492b07c\r\n",
      "  Building wheel for pygtrie (setup.py) ... \u001b[?25l-\b \bdone\r\n",
      "\u001b[?25h  Created wheel for pygtrie: filename=pygtrie-2.4.2-py3-none-any.whl size=19062 sha256=0e3e8e28661ca2431875b3b2ac2f8397325d840f86d4fd8e56412a00186e3e75\r\n",
      "  Stored in directory: /Users/laguirre/Library/Caches/pip/wheels/31/03/7b/f685b394a937bc97d2d40908d45aa31f3d9473bca6e9019153\r\n",
      "Successfully built cortex-certifai-common pygtrie\r\n",
      "Installing collected packages: pygtrie, toolz, scipy, pyyaml, pandas, cortex-certifai-common\r\n",
      "  Attempting uninstall: scipy\r\n",
      "    Found existing installation: scipy 1.10.0\r\n",
      "    Uninstalling scipy-1.10.0:\r\n",
      "      Successfully uninstalled scipy-1.10.0\r\n",
      "  Attempting uninstall: pyyaml\r\n",
      "    Found existing installation: PyYAML 6.0\r\n",
      "    Uninstalling PyYAML-6.0:\r\n",
      "      Successfully uninstalled PyYAML-6.0\r\n",
      "  Attempting uninstall: pandas\r\n",
      "    Found existing installation: pandas 1.5.3\r\n",
      "    Uninstalling pandas-1.5.3:\r\n",
      "      Successfully uninstalled pandas-1.5.3\r\n",
      "Successfully installed cortex-certifai-common-1.3.16 pandas-1.4.4 pygtrie-2.4.2 pyyaml-5.4.1 scipy-1.7.3 toolz-0.12.0\r\n",
      "Processing /Users/laguirre/cortex/cortex-certifai-examples/artifacts/toolkit/packages/all/cortex-certifai-connectors-1.3.16-22-g6c7acbb6.zip\r\n",
      "  Preparing metadata (setup.py) ... \u001b[?25l-\b \bdone\r\n",
      "\u001b[?25hCollecting boto3<2.0.0,>=1.0.0\r\n",
      "  Using cached boto3-1.26.57-py3-none-any.whl (132 kB)\r\n",
      "Collecting pydantic>=1.5.1\r\n",
      "  Using cached pydantic-1.10.4-cp38-cp38-macosx_10_9_x86_64.whl (2.9 MB)\r\n",
      "Requirement already satisfied: numpy<1.22,>=1.16.2 in /Users/laguirre/miniconda3/envs/certifai-azure-model-env/lib/python3.8/site-packages (from cortex-certifai-connectors==1.3.16) (1.21.5)\r\n",
      "Collecting botocore<1.30.0,>=1.29.57\r\n",
      "  Using cached botocore-1.29.57-py3-none-any.whl (10.4 MB)\r\n",
      "Collecting s3transfer<0.7.0,>=0.6.0\r\n",
      "  Using cached s3transfer-0.6.0-py3-none-any.whl (79 kB)\r\n",
      "Requirement already satisfied: jmespath<2.0.0,>=0.7.1 in /Users/laguirre/miniconda3/envs/certifai-azure-model-env/lib/python3.8/site-packages (from boto3<2.0.0,>=1.0.0->cortex-certifai-connectors==1.3.16) (1.0.1)\r\n",
      "Requirement already satisfied: typing-extensions>=4.2.0 in /Users/laguirre/miniconda3/envs/certifai-azure-model-env/lib/python3.8/site-packages (from pydantic>=1.5.1->cortex-certifai-connectors==1.3.16) (4.4.0)\r\n",
      "Requirement already satisfied: urllib3<1.27,>=1.25.4 in /Users/laguirre/miniconda3/envs/certifai-azure-model-env/lib/python3.8/site-packages (from botocore<1.30.0,>=1.29.57->boto3<2.0.0,>=1.0.0->cortex-certifai-connectors==1.3.16) (1.26.14)\r\n",
      "Requirement already satisfied: python-dateutil<3.0.0,>=2.1 in /Users/laguirre/miniconda3/envs/certifai-azure-model-env/lib/python3.8/site-packages (from botocore<1.30.0,>=1.29.57->boto3<2.0.0,>=1.0.0->cortex-certifai-connectors==1.3.16) (2.8.2)\r\n",
      "Requirement already satisfied: six>=1.5 in /Users/laguirre/miniconda3/envs/certifai-azure-model-env/lib/python3.8/site-packages (from python-dateutil<3.0.0,>=2.1->botocore<1.30.0,>=1.29.57->boto3<2.0.0,>=1.0.0->cortex-certifai-connectors==1.3.16) (1.16.0)\r\n",
      "Building wheels for collected packages: cortex-certifai-connectors\r\n",
      "  Building wheel for cortex-certifai-connectors (setup.py) ... \u001b[?25l-\b \b\\\b \bdone\r\n",
      "\u001b[?25h  Created wheel for cortex-certifai-connectors: filename=cortex_certifai_connectors-1.3.16-py3-none-any.whl size=14878 sha256=e950f2b48e814a72828a71f7761e1419966c720a608ed96c775fd059ba389857\r\n",
      "  Stored in directory: /Users/laguirre/Library/Caches/pip/wheels/39/b4/ba/9dd327d3e34afc7812ace53936cda3d9542a5ac11403ee9220\r\n",
      "Successfully built cortex-certifai-connectors\r\n",
      "Installing collected packages: pydantic, botocore, s3transfer, boto3, cortex-certifai-connectors\r\n",
      "Successfully installed boto3-1.26.57 botocore-1.29.57 cortex-certifai-connectors-1.3.16 pydantic-1.10.4 s3transfer-0.6.0\r\n",
      "Processing /Users/laguirre/cortex/cortex-certifai-examples/artifacts/toolkit/packages/all/cortex-certifai-scanner-1.3.16-22-g6c7acbb6.zip\r\n",
      "  Preparing metadata (setup.py) ... \u001b[?25l-\b \bdone\r\n",
      "\u001b[?25hRequirement already satisfied: numpy<1.22,>=1.16.2 in /Users/laguirre/miniconda3/envs/certifai-azure-model-env/lib/python3.8/site-packages (from cortex-certifai-scanner==1.3.16) (1.21.5)\r\n",
      "Requirement already satisfied: pandas<1.5,>=0.23.4 in /Users/laguirre/miniconda3/envs/certifai-azure-model-env/lib/python3.8/site-packages (from cortex-certifai-scanner==1.3.16) (1.4.4)\r\n",
      "Collecting marshmallow<4.0,>=3.13.0\r\n",
      "  Using cached marshmallow-3.19.0-py3-none-any.whl (49 kB)\r\n",
      "Requirement already satisfied: pyyaml<6.0,>=3.13 in /Users/laguirre/miniconda3/envs/certifai-azure-model-env/lib/python3.8/site-packages (from cortex-certifai-scanner==1.3.16) (5.4.1)\r\n",
      "Requirement already satisfied: python-dateutil<3.0,>=2.6.1 in /Users/laguirre/miniconda3/envs/certifai-azure-model-env/lib/python3.8/site-packages (from cortex-certifai-scanner==1.3.16) (2.8.2)\r\n",
      "Requirement already satisfied: Jinja2>=2.10.3 in /Users/laguirre/miniconda3/envs/certifai-azure-model-env/lib/python3.8/site-packages (from cortex-certifai-scanner==1.3.16) (3.1.2)\r\n",
      "Requirement already satisfied: MarkupSafe>=2.0 in /Users/laguirre/miniconda3/envs/certifai-azure-model-env/lib/python3.8/site-packages (from Jinja2>=2.10.3->cortex-certifai-scanner==1.3.16) (2.1.2)\r\n",
      "Requirement already satisfied: packaging>=17.0 in /Users/laguirre/miniconda3/envs/certifai-azure-model-env/lib/python3.8/site-packages (from marshmallow<4.0,>=3.13.0->cortex-certifai-scanner==1.3.16) (21.3)\r\n",
      "Requirement already satisfied: pytz>=2020.1 in /Users/laguirre/miniconda3/envs/certifai-azure-model-env/lib/python3.8/site-packages (from pandas<1.5,>=0.23.4->cortex-certifai-scanner==1.3.16) (2022.7.1)\r\n",
      "Requirement already satisfied: six>=1.5 in /Users/laguirre/miniconda3/envs/certifai-azure-model-env/lib/python3.8/site-packages (from python-dateutil<3.0,>=2.6.1->cortex-certifai-scanner==1.3.16) (1.16.0)\r\n",
      "Requirement already satisfied: pyparsing!=3.0.5,>=2.0.2 in /Users/laguirre/miniconda3/envs/certifai-azure-model-env/lib/python3.8/site-packages (from packaging>=17.0->marshmallow<4.0,>=3.13.0->cortex-certifai-scanner==1.3.16) (3.0.9)\r\n",
      "Building wheels for collected packages: cortex-certifai-scanner\r\n",
      "  Building wheel for cortex-certifai-scanner (setup.py) ... \u001b[?25l-\b \b\\\b \b|\b \bdone\r\n",
      "\u001b[?25h  Created wheel for cortex-certifai-scanner: filename=cortex_certifai_scanner-1.3.16-py3-none-any.whl size=147194 sha256=bef0307f45b2e9a3097a6c9ca861abf9af98b61b10663d0568719834fd38f81c\r\n",
      "  Stored in directory: /Users/laguirre/Library/Caches/pip/wheels/f1/7e/a6/d6adb10ffbeaa13c637672f3920cc485b3b08d48634ea5ce98\r\n",
      "Successfully built cortex-certifai-scanner\r\n",
      "Installing collected packages: marshmallow, cortex-certifai-scanner\r\n",
      "Successfully installed cortex-certifai-scanner-1.3.16 marshmallow-3.19.0\r\n",
      "Processing /Users/laguirre/cortex/cortex-certifai-examples/artifacts/toolkit/packages/all/cortex-certifai-policy-1.3.16-22-g6c7acbb6.zip\r\n",
      "  Preparing metadata (setup.py) ... \u001b[?25l-\b \bdone\r\n",
      "\u001b[?25hRequirement already satisfied: marshmallow<4.0,>=3.0.0 in /Users/laguirre/miniconda3/envs/certifai-azure-model-env/lib/python3.8/site-packages (from cortex-certifai-policy==1.3.16) (3.19.0)\r\n",
      "Requirement already satisfied: packaging>=17.0 in /Users/laguirre/miniconda3/envs/certifai-azure-model-env/lib/python3.8/site-packages (from marshmallow<4.0,>=3.0.0->cortex-certifai-policy==1.3.16) (21.3)\r\n",
      "Requirement already satisfied: pyparsing!=3.0.5,>=2.0.2 in /Users/laguirre/miniconda3/envs/certifai-azure-model-env/lib/python3.8/site-packages (from packaging>=17.0->marshmallow<4.0,>=3.0.0->cortex-certifai-policy==1.3.16) (3.0.9)\r\n",
      "Building wheels for collected packages: cortex-certifai-policy\r\n",
      "  Building wheel for cortex-certifai-policy (setup.py) ... \u001b[?25l-\b \b\\\b \b|\b \bdone\r\n",
      "\u001b[?25h  Created wheel for cortex-certifai-policy: filename=cortex_certifai_policy-1.3.16-py3-none-any.whl size=25397 sha256=17c6972d1148fbdfa9db5d9c706c14137acee7a3e0992043b00553b6d1873bb5\r\n",
      "  Stored in directory: /Users/laguirre/Library/Caches/pip/wheels/d6/11/33/7aa49b355b621822fd29d4704a36710fcf4ff91306f54422d0\r\n",
      "Successfully built cortex-certifai-policy\r\n",
      "Installing collected packages: cortex-certifai-policy\r\n",
      "Successfully installed cortex-certifai-policy-1.3.16\r\n",
      "Processing /Users/laguirre/cortex/cortex-certifai-examples/artifacts/toolkit/packages/all/cortex-certifai-model-sdk-1.3.16-22-g6c7acbb6.zip\r\n",
      "  Preparing metadata (setup.py) ... \u001b[?25l-\b \bdone\r\n",
      "\u001b[?25hCollecting flask\r\n",
      "  Using cached Flask-2.2.2-py3-none-any.whl (101 kB)\r\n",
      "Requirement already satisfied: numpy in /Users/laguirre/miniconda3/envs/certifai-azure-model-env/lib/python3.8/site-packages (from cortex-certifai-model-sdk==1.3.16) (1.21.5)\r\n",
      "Collecting werkzeug<2.1,>=0.15\r\n",
      "  Using cached Werkzeug-2.0.3-py3-none-any.whl (289 kB)\r\n",
      "Collecting dill<=0.3.4\r\n",
      "  Using cached dill-0.3.4-py2.py3-none-any.whl (86 kB)\r\n",
      "Collecting gevent==21.12.0\r\n",
      "  Using cached gevent-21.12.0-cp38-cp38-macosx_10_14_x86_64.whl (1.9 MB)\r\n",
      "Collecting greenlet<2.0,>=1.1.0\r\n",
      "  Using cached greenlet-1.1.3.post0-cp38-cp38-macosx_10_15_x86_64.whl (93 kB)\r\n",
      "Collecting gunicorn==20.1.0\r\n",
      "  Using cached gunicorn-20.1.0-py3-none-any.whl (79 kB)\r\n",
      "Collecting zope.event\r\n",
      "  Using cached zope.event-4.6-py2.py3-none-any.whl (6.8 kB)\r\n",
      "Collecting zope.interface\r\n",
      "  Using cached zope.interface-5.5.2-cp38-cp38-macosx_10_9_x86_64.whl (209 kB)\r\n",
      "Requirement already satisfied: setuptools in /Users/laguirre/miniconda3/envs/certifai-azure-model-env/lib/python3.8/site-packages (from gevent==21.12.0->cortex-certifai-model-sdk==1.3.16) (66.1.1)\r\n",
      "Collecting click>=8.0\r\n",
      "  Using cached click-8.1.3-py3-none-any.whl (96 kB)\r\n",
      "Requirement already satisfied: importlib-metadata>=3.6.0 in /Users/laguirre/miniconda3/envs/certifai-azure-model-env/lib/python3.8/site-packages (from flask->cortex-certifai-model-sdk==1.3.16) (6.0.0)\r\n",
      "Collecting flask\r\n",
      "  Using cached Flask-2.2.1-py3-none-any.whl (101 kB)\r\n",
      "  Using cached Flask-2.2.0-py3-none-any.whl (101 kB)\r\n",
      "  Using cached Flask-2.1.3-py3-none-any.whl (95 kB)\r\n",
      "Requirement already satisfied: Jinja2>=3.0 in /Users/laguirre/miniconda3/envs/certifai-azure-model-env/lib/python3.8/site-packages (from flask->cortex-certifai-model-sdk==1.3.16) (3.1.2)\r\n",
      "Collecting itsdangerous>=2.0\r\n",
      "  Using cached itsdangerous-2.1.2-py3-none-any.whl (15 kB)\r\n",
      "Requirement already satisfied: zipp>=0.5 in /Users/laguirre/miniconda3/envs/certifai-azure-model-env/lib/python3.8/site-packages (from importlib-metadata>=3.6.0->flask->cortex-certifai-model-sdk==1.3.16) (3.11.0)\r\n",
      "Requirement already satisfied: MarkupSafe>=2.0 in /Users/laguirre/miniconda3/envs/certifai-azure-model-env/lib/python3.8/site-packages (from Jinja2>=3.0->flask->cortex-certifai-model-sdk==1.3.16) (2.1.2)\r\n",
      "Building wheels for collected packages: cortex-certifai-model-sdk\r\n",
      "  Building wheel for cortex-certifai-model-sdk (setup.py) ... \u001b[?25l-\b \b\\\b \bdone\r\n",
      "\u001b[?25h  Created wheel for cortex-certifai-model-sdk: filename=cortex_certifai_model_sdk-1.3.16-py3-none-any.whl size=20605 sha256=7935c949cc1375aeb1ff4360adb178f9126d1808821e635251d17b8bb96710db\r\n",
      "  Stored in directory: /Users/laguirre/Library/Caches/pip/wheels/67/23/11/6c908526949c6ee171115806f3b48c7dc1cd3bffeba40aec14\r\n",
      "Successfully built cortex-certifai-model-sdk\r\n",
      "Installing collected packages: zope.interface, zope.event, werkzeug, itsdangerous, gunicorn, greenlet, dill, click, gevent, flask, cortex-certifai-model-sdk\r\n",
      "Successfully installed click-8.1.3 cortex-certifai-model-sdk-1.3.16 dill-0.3.4 flask-2.1.3 gevent-21.12.0 greenlet-1.1.3.post0 gunicorn-20.1.0 itsdangerous-2.1.2 werkzeug-2.0.3 zope.event-4.6 zope.interface-5.5.2\r\n",
      "Processing /Users/laguirre/cortex/cortex-certifai-examples/artifacts/toolkit/packages/python3.8/cortex-certifai-engine-1.3.16-22-g6c7acbb6-py3.8.15.zip\r\n",
      "  Preparing metadata (setup.py) ... \u001b[?25l-\b \bdone\r\n",
      "\u001b[?25hRequirement already satisfied: numpy<1.22,>=1.16.2 in /Users/laguirre/miniconda3/envs/certifai-azure-model-env/lib/python3.8/site-packages (from cortex-certifai-engine==1.3.16) (1.21.5)\r\n",
      "Requirement already satisfied: pandas<1.5,>=0.23.4 in /Users/laguirre/miniconda3/envs/certifai-azure-model-env/lib/python3.8/site-packages (from cortex-certifai-engine==1.3.16) (1.4.4)\r\n",
      "Requirement already satisfied: scikit-learn<1.1,>=0.20.3 in /Users/laguirre/miniconda3/envs/certifai-azure-model-env/lib/python3.8/site-packages (from cortex-certifai-engine==1.3.16) (1.0.2)\r\n",
      "Requirement already satisfied: scipy<1.8,>=1.1.0 in /Users/laguirre/miniconda3/envs/certifai-azure-model-env/lib/python3.8/site-packages (from cortex-certifai-engine==1.3.16) (1.7.3)\r\n",
      "Requirement already satisfied: toolz<1.0,>=0.10.0 in /Users/laguirre/miniconda3/envs/certifai-azure-model-env/lib/python3.8/site-packages (from cortex-certifai-engine==1.3.16) (0.12.0)\r\n",
      "Collecting rsa<5.0,>=4.0\r\n",
      "  Using cached rsa-4.9-py3-none-any.whl (34 kB)\r\n",
      "Collecting cuid<0.4,>=0.3\r\n",
      "  Using cached cuid-0.3.tar.gz (3.9 kB)\r\n",
      "  Preparing metadata (setup.py) ... \u001b[?25l-\b \bdone\r\n",
      "\u001b[?25hRequirement already satisfied: pyyaml<6.0,>=3.13 in /Users/laguirre/miniconda3/envs/certifai-azure-model-env/lib/python3.8/site-packages (from cortex-certifai-engine==1.3.16) (5.4.1)\r\n",
      "Collecting shap>=0.31.0\r\n",
      "  Using cached shap-0.41.0-cp38-cp38-macosx_10_9_x86_64.whl (436 kB)\r\n",
      "Requirement already satisfied: python-dateutil>=2.8.1 in /Users/laguirre/miniconda3/envs/certifai-azure-model-env/lib/python3.8/site-packages (from pandas<1.5,>=0.23.4->cortex-certifai-engine==1.3.16) (2.8.2)\r\n",
      "Requirement already satisfied: pytz>=2020.1 in /Users/laguirre/miniconda3/envs/certifai-azure-model-env/lib/python3.8/site-packages (from pandas<1.5,>=0.23.4->cortex-certifai-engine==1.3.16) (2022.7.1)\r\n",
      "Requirement already satisfied: pyasn1>=0.1.3 in /Users/laguirre/miniconda3/envs/certifai-azure-model-env/lib/python3.8/site-packages (from rsa<5.0,>=4.0->cortex-certifai-engine==1.3.16) (0.4.8)\r\n",
      "Requirement already satisfied: joblib>=0.11 in /Users/laguirre/miniconda3/envs/certifai-azure-model-env/lib/python3.8/site-packages (from scikit-learn<1.1,>=0.20.3->cortex-certifai-engine==1.3.16) (1.1.1)\r\n",
      "Requirement already satisfied: threadpoolctl>=2.0.0 in /Users/laguirre/miniconda3/envs/certifai-azure-model-env/lib/python3.8/site-packages (from scikit-learn<1.1,>=0.20.3->cortex-certifai-engine==1.3.16) (3.1.0)\r\n",
      "Collecting slicer==0.0.7\r\n",
      "  Using cached slicer-0.0.7-py3-none-any.whl (14 kB)\r\n",
      "Collecting numba\r\n",
      "  Using cached numba-0.56.4-cp38-cp38-macosx_10_14_x86_64.whl (2.4 MB)\r\n",
      "Requirement already satisfied: packaging>20.9 in /Users/laguirre/miniconda3/envs/certifai-azure-model-env/lib/python3.8/site-packages (from shap>=0.31.0->cortex-certifai-engine==1.3.16) (21.3)\r\n",
      "Collecting tqdm>4.25.0\r\n",
      "  Using cached tqdm-4.64.1-py2.py3-none-any.whl (78 kB)\r\n",
      "Requirement already satisfied: cloudpickle in /Users/laguirre/miniconda3/envs/certifai-azure-model-env/lib/python3.8/site-packages (from shap>=0.31.0->cortex-certifai-engine==1.3.16) (2.2.1)\r\n",
      "Requirement already satisfied: pyparsing!=3.0.5,>=2.0.2 in /Users/laguirre/miniconda3/envs/certifai-azure-model-env/lib/python3.8/site-packages (from packaging>20.9->shap>=0.31.0->cortex-certifai-engine==1.3.16) (3.0.9)\r\n",
      "Requirement already satisfied: six>=1.5 in /Users/laguirre/miniconda3/envs/certifai-azure-model-env/lib/python3.8/site-packages (from python-dateutil>=2.8.1->pandas<1.5,>=0.23.4->cortex-certifai-engine==1.3.16) (1.16.0)\r\n",
      "Collecting llvmlite<0.40,>=0.39.0dev0\r\n",
      "  Using cached llvmlite-0.39.1-cp38-cp38-macosx_10_9_x86_64.whl (25.5 MB)\r\n",
      "Requirement already satisfied: setuptools in /Users/laguirre/miniconda3/envs/certifai-azure-model-env/lib/python3.8/site-packages (from numba->shap>=0.31.0->cortex-certifai-engine==1.3.16) (66.1.1)\r\n",
      "Requirement already satisfied: importlib-metadata in /Users/laguirre/miniconda3/envs/certifai-azure-model-env/lib/python3.8/site-packages (from numba->shap>=0.31.0->cortex-certifai-engine==1.3.16) (6.0.0)\r\n",
      "Requirement already satisfied: zipp>=0.5 in /Users/laguirre/miniconda3/envs/certifai-azure-model-env/lib/python3.8/site-packages (from importlib-metadata->numba->shap>=0.31.0->cortex-certifai-engine==1.3.16) (3.11.0)\r\n",
      "Building wheels for collected packages: cortex-certifai-engine, cuid\r\n",
      "  Building wheel for cortex-certifai-engine (setup.py) ... \u001b[?25l-\b \b\\\b \b|\b \b/\b \b-\b \b\\\b \bdone\r\n",
      "\u001b[?25h  Created wheel for cortex-certifai-engine: filename=cortex_certifai_engine-1.3.16-py3-none-any.whl size=2656606 sha256=550963d43b09985e75729026b758991034fa8492bdde35d418e99fd028446889\r\n",
      "  Stored in directory: /Users/laguirre/Library/Caches/pip/wheels/be/7e/99/efd15b71d84121c40e16738588420efffeb496f7deee74d74f\r\n",
      "  Building wheel for cuid (setup.py) ... \u001b[?25l-\b \b\\\b \bdone\r\n",
      "\u001b[?25h  Created wheel for cuid: filename=cuid-0.3-py2.py3-none-any.whl size=3630 sha256=4a109d61d437558d67c76ac8366d04bca3991b995038f45fb8ef1589dcd081fa\r\n",
      "  Stored in directory: /Users/laguirre/Library/Caches/pip/wheels/d8/67/df/45fe0bf1f2d05dff6af2620447844b976762df80b3d2b8b565\r\n",
      "Successfully built cortex-certifai-engine cuid\r\n",
      "Installing collected packages: cuid, tqdm, slicer, rsa, llvmlite, numba, shap, cortex-certifai-engine\r\n",
      "Successfully installed cortex-certifai-engine-1.3.16 cuid-0.3 llvmlite-0.39.1 numba-0.56.4 rsa-4.9 shap-0.41.0 slicer-0.0.7 tqdm-4.64.1\r\n"
     ]
    }
   ],
   "source": [
    "!find $certifai_toolkit_path/packages/all       -type f ! -name \"*console-*\" ! -name \"*client-*\" | xargs -I % sh -c 'pip install % ' ;\n",
    "!find $certifai_toolkit_path/packages/python3.8 -type f   -name \"*engine-*\"                      | xargs -I % sh -c 'pip install % ' ;\n",
    "\n",
    "# Note: If using different Python versions activate the relevant conda env and kernel and use below steps to install packages\n",
    "# %cd /path to toolkit\n",
    "# %pip install packages/all/*\n",
    "# %pip install scikit-learn==1.0.2\n",
    "# %pip install packages/python<#version, e.g 3.7/3.8>/*"
   ]
  },
  {
   "cell_type": "code",
   "execution_count": 4,
   "id": "1cf62edc",
   "metadata": {
    "execution": {
     "iopub.execute_input": "2023-01-25T21:15:07.703428Z",
     "iopub.status.busy": "2023-01-25T21:15:07.702859Z",
     "iopub.status.idle": "2023-01-25T21:15:07.713120Z",
     "shell.execute_reply": "2023-01-25T21:15:07.712514Z"
    }
   },
   "outputs": [
    {
     "data": {
      "text/plain": [
       "'1.3.16'"
      ]
     },
     "execution_count": 4,
     "metadata": {},
     "output_type": "execute_result"
    }
   ],
   "source": [
    "# make sure certifai package was installed correctly\n",
    "from certifai.scanner.version import get_version\n",
    "get_version()"
   ]
  }
 ],
 "metadata": {
  "kernelspec": {
   "display_name": "Python 3 (ipykernel)",
   "language": "python",
   "name": "python3"
  },
  "language_info": {
   "codemirror_mode": {
    "name": "ipython",
    "version": 3
   },
   "file_extension": ".py",
   "mimetype": "text/x-python",
   "name": "python",
   "nbconvert_exporter": "python",
   "pygments_lexer": "ipython3",
   "version": "3.8.13"
  }
 },
 "nbformat": 4,
 "nbformat_minor": 5
}
