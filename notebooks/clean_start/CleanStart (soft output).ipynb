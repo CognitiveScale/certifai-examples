{
 "cells": [
  {
   "cell_type": "markdown",
   "metadata": {},
   "source": [
    "# Building a scan programatically\n",
    "\n",
    "In this notebook we'll build up a scan definition from first principles, against a local model trained within the\n",
    "notebook.  We will then run that scan and save its results.  Finally we will extract the scan defintion as YAML, which could be used to run the same scan (potentially on revised models or datasets) via the Certifai stand-alone scanner."
   ]
  },
  {
   "cell_type": "code",
   "execution_count": 1,
   "metadata": {},
   "outputs": [],
   "source": [
    "import pandas as pd\n",
    "import pprint\n",
    "import matplotlib as plt\n",
    "from IPython.display import display\n",
    "from sklearn.model_selection import train_test_split\n",
    "from sklearn import preprocessing\n",
    "import numpy as np\n",
    "import random\n",
    "from sklearn.linear_model import LogisticRegression\n",
    "from sklearn.model_selection import GridSearchCV\n",
    "from sklearn import svm\n",
    "from copy import copy\n",
    "\n",
    "from certifai.scanner.builder import (CertifaiScanBuilder, CertifaiPredictorWrapper, CertifaiModel, CertifaiModelMetric,\n",
    "                                      CertifaiDataset, CertifaiGroupingFeature, CertifaiDatasetSource,\n",
    "                                      CertifaiPredictionTask, CertifaiTaskOutcomes, CertifaiOutcomeValue)\n",
    "from certifai.scanner.report_utils import scores, construct_scores_dataframe"
   ]
  },
  {
   "cell_type": "code",
   "execution_count": 2,
   "metadata": {},
   "outputs": [],
   "source": [
    "# special import - \n",
    "# for multiprocessing to work in a Notebook,  pickled classes must be in a separate package or notebook\n",
    "# hence, the encoder class has to be somewhere other than the current notebook\n",
    "# from ipynb.fs.defs.cat_encoder import CatEncoder # <- doesn't work on Azure Notebooks\n",
    "# %run cat_encoder.py # <- doesn't work because code doesn't remain external\n",
    "\n",
    "# Azure Notebooks workaround - \n",
    "import os\n",
    "import sys\n",
    "sys.path.append(\"../utils\")\n",
    "from cat_encoder import CatEncoder\n",
    "from sklearn_soft_wrapper import SkLearnSoftWrapper"
   ]
  },
  {
   "cell_type": "code",
   "execution_count": 3,
   "metadata": {},
   "outputs": [
    {
     "name": "stdout",
     "output_type": "stream",
     "text": [
      "Model 'Support Vector Machine' accuracy is 0.77\n",
      "Model 'Logistic classifier' accuracy is 0.77\n"
     ]
    }
   ],
   "source": [
    "# Example will use a simple logistic classifier on the German Credit dataset\n",
    "base_path = '..'\n",
    "all_data_file = f\"{base_path}/datasets/german_credit_eval.csv\"\n",
    "\n",
    "df = pd.read_csv(all_data_file)\n",
    "\n",
    "cat_columns = [\n",
    "    'checkingstatus',\n",
    "    'history',\n",
    "    'purpose',\n",
    "    'savings',\n",
    "    'employ',\n",
    "    'status',\n",
    "    'others',\n",
    "    'property',\n",
    "    'age',\n",
    "    'otherplans',\n",
    "    'housing',\n",
    "    'job',\n",
    "    'telephone',\n",
    "    'foreign'\n",
    "    ]\n",
    "\n",
    "label_column = 'outcome'\n",
    "\n",
    "# Separate outcome\n",
    "y = df[label_column]\n",
    "X = df.drop(label_column, axis=1)\n",
    "\n",
    "X_train, X_test, y_train, y_test = train_test_split(X, y, test_size=0.20, random_state=42)\n",
    "\n",
    "# Note - to support python multi-processing in the context of a notebook the encoder MUST\n",
    "# be in a separate file, which is why `CatEncoder` is defined outside of this notebook\n",
    "encoder = CatEncoder(cat_columns, X)\n",
    "\n",
    "def build_model(data, name, model_family, test=None):\n",
    "    if test is None:\n",
    "        test = data\n",
    "        \n",
    "    if model_family == 'SVM':\n",
    "        parameters = {'probability': [True], 'kernel':('linear', 'rbf', 'poly'), 'C':[0.1, .5, 1, 2, 4, 10], 'gamma':['auto']}\n",
    "        m = svm.SVC()\n",
    "    elif model_family == 'logistic':\n",
    "        parameters = {'C': (0.5, 1.0, 2.0), 'solver': ['lbfgs'], 'max_iter': [1000]}\n",
    "        m = LogisticRegression()\n",
    "    model = GridSearchCV(m, parameters, cv=3)\n",
    "    model.fit(data[0], data[1])\n",
    "\n",
    "    # Assess on the test data\n",
    "    accuracy = model.score(test[0], test[1].values)\n",
    "    print(f\"Model '{name}' accuracy is {accuracy}\")\n",
    "    return model\n",
    "\n",
    "svm_model = build_model((encoder(X_train.to_numpy()), y_train),\n",
    "                        'Support Vector Machine',\n",
    "                        'SVM',\n",
    "                        test=(encoder(X_test.to_numpy()), y_test))\n",
    "\n",
    "logistic_model = build_model((encoder(X_train.to_numpy()), y_train),\n",
    "                        'Logistic classifier',\n",
    "                        'logistic',\n",
    "                        test=(encoder(X_test.to_numpy()), y_test))"
   ]
  },
  {
   "cell_type": "code",
   "execution_count": 4,
   "metadata": {},
   "outputs": [],
   "source": [
    "# Wrap the models using their soft outputs for Certifai\n",
    "\n",
    "def _wrap_sklearn_classifier(classifier, encoder=None) -> CertifaiPredictorWrapper:\n",
    "    return CertifaiPredictorWrapper(SkLearnSoftWrapper(classifier),\n",
    "                                    soft_predictions=True,\n",
    "                                    encoder=encoder,\n",
    "                                    label_ordering=classifier.classes_)\n",
    "\n",
    "svm_model_proxy = _wrap_sklearn_classifier(svm_model, encoder=encoder)\n",
    "logistic_model_proxy = _wrap_sklearn_classifier(logistic_model, encoder=encoder)"
   ]
  },
  {
   "cell_type": "code",
   "execution_count": 5,
   "metadata": {},
   "outputs": [],
   "source": [
    "# Create the scan object from scratch using the ScanBuilder class\n",
    "\n",
    "# First define the possible prediction outcomes\n",
    "task = CertifaiPredictionTask(CertifaiTaskOutcomes.classification(\n",
    "    [\n",
    "        CertifaiOutcomeValue(1, name='Loan granted', favorable=True),\n",
    "        CertifaiOutcomeValue(2, name='Loan denied')\n",
    "    ]),\n",
    "    prediction_description='Determine whether a loan should be granted')\n",
    "\n",
    "scan = CertifaiScanBuilder.create('test_user_case',\n",
    "                                  prediction_task=task)\n",
    "\n",
    "# Add our local models\n",
    "first_model = CertifaiModel('SVM',\n",
    "                            local_predictor=svm_model_proxy)\n",
    "scan.add_model(first_model)\n",
    "second_model = CertifaiModel('logistic',\n",
    "                            local_predictor=logistic_model_proxy)\n",
    "scan.add_model(second_model)\n",
    "\n",
    "# Add the eval dataset\n",
    "eval_dataset = CertifaiDataset('evaluation',\n",
    "                               CertifaiDatasetSource.csv(all_data_file))\n",
    "scan.add_dataset(eval_dataset)\n",
    "\n",
    "# Setup an evaluation for fairness on the above dataset using the model\n",
    "# We'll look at disparity between groups defined by marital status and age\n",
    "scan.add_fairness_grouping_feature(CertifaiGroupingFeature('age'))\n",
    "scan.add_fairness_grouping_feature(CertifaiGroupingFeature('status'))\n",
    "scan.add_evaluation_type('fairness')\n",
    "scan.evaluation_dataset_id = 'evaluation'\n",
    "\n",
    "# Because the dataset contains a ground truth outcome column which the model does not\n",
    "# expect to receive as input we need to state that in the dataset schema (since it cannot\n",
    "# be inferred from the CSV)\n",
    "scan.dataset_schema.outcome_feature_name = 'outcome'\n",
    "\n",
    "# Set the output path that reports should be written to\n",
    "scan.output_path = '../local_reports'"
   ]
  },
  {
   "cell_type": "code",
   "execution_count": 6,
   "metadata": {},
   "outputs": [
    {
     "name": "stderr",
     "output_type": "stream",
     "text": [
      "2020-08-24 13:10:05,541 root   WARNING  Insufficient examples of some fairness classes to guarantee convergence (smallest class size is for 'male : divorced/separated' with 50 samples)\n"
     ]
    },
    {
     "name": "stdout",
     "output_type": "stream",
     "text": [
      "Starting Preflight Scan\n",
      "[--------------------] 2020-08-24 13:10:05.477672 - 0 of 8 checks (0.0% complete) - Running model nondeterminism preflight check for model SVM\n",
      "[##------------------] 2020-08-24 13:10:05.528005 - 1 of 8 checks (12.5% complete) - Running unknown outcome class preflight check for model SVM\n",
      "[#####---------------] 2020-08-24 13:10:05.531824 - 2 of 8 checks (25.0% complete) - Running scan time estimate preflight check for model SVM\n"
     ]
    },
    {
     "name": "stderr",
     "output_type": "stream",
     "text": [
      "2020-08-24 13:11:17,096 root   WARNING  Insufficient examples of some fairness classes to guarantee convergence (smallest class size is for 'male : divorced/separated' with 50 samples)\n"
     ]
    },
    {
     "name": "stdout",
     "output_type": "stream",
     "text": [
      "[#######-------------] 2020-08-24 13:11:17.027167 - 3 of 8 checks (37.5% complete) - Running fairness class samples preflight check for model SVM\n",
      "[##########----------] 2020-08-24 13:11:17.034968 - 4 of 8 checks (50.0% complete) - Finished all preflight checks for model SVM\n",
      "[##########----------] 2020-08-24 13:11:17.035078 - 4 of 8 checks (50.0% complete) - Running model nondeterminism preflight check for model logistic\n",
      "[############--------] 2020-08-24 13:11:17.084440 - 5 of 8 checks (62.5% complete) - Running unknown outcome class preflight check for model logistic\n",
      "[###############-----] 2020-08-24 13:11:17.087353 - 6 of 8 checks (75.0% complete) - Running scan time estimate preflight check for model logistic\n",
      "[#################---] 2020-08-24 13:11:49.883602 - 7 of 8 checks (87.5% complete) - Running fairness class samples preflight check for model logistic\n",
      "[####################] 2020-08-24 13:11:49.889984 - 8 of 8 checks (100.0% complete) - Finished all preflight checks for model logistic\n",
      "{'SVM': {'errors': [],\n",
      "         'messages': ['Passed model non determinism check',\n",
      "                      'Passed unknown outcome classes check',\n",
      "                      'Expected time for fairness analysis is 216 seconds',\n",
      "                      'Model SVM passed time estimation check'],\n",
      "         'warnings': [\"Fairness grouping attribute 'status' has small sample \"\n",
      "                      \"size for some values (smallest 'male : single' with 50 \"\n",
      "                      'examples)']},\n",
      " 'logistic': {'errors': [],\n",
      "              'messages': ['Passed model non determinism check',\n",
      "                           'Passed unknown outcome classes check',\n",
      "                           'Expected time for fairness analysis is 111 seconds',\n",
      "                           'Model logistic passed time estimation check'],\n",
      "              'warnings': [\"Fairness grouping attribute 'status' has small \"\n",
      "                           \"sample size for some values (smallest 'male : \"\n",
      "                           \"single' with 50 examples)\"]}}\n"
     ]
    }
   ],
   "source": [
    "# Run a preflight scan\n",
    "# The preflight scan will run various checks against each model to alert about possible situations\n",
    "# that may impact your scan, as well as produce a time estimate for your scan. A preflight report\n",
    "# will be written per model that contains various data from the preflight scan, which will be\n",
    "# used to offer time estimates when running future scans.\n",
    "preflight_result = scan.run_preflight()\n",
    "\n",
    "# The result is a dictionary of dictionaries of observations from the preflight scan. The top\n",
    "# level dict key is the model id and the second level is the type of observation (e.g. messages, warnings, errors)\n",
    "pprint.pprint(preflight_result)"
   ]
  },
  {
   "cell_type": "code",
   "execution_count": 7,
   "metadata": {},
   "outputs": [
    {
     "name": "stderr",
     "output_type": "stream",
     "text": [
      "2020-08-24 13:11:49,980 root   WARNING  Insufficient examples of some fairness classes to guarantee convergence (smallest class size is for 'male : divorced/separated' with 50 samples)\n"
     ]
    },
    {
     "name": "stdout",
     "output_type": "stream",
     "text": [
      "Starting scan with model_use_case_id: 'test_user_case' and scan_id: '066071ea44f1', total estimated time is 6 minutes\n",
      "[--------------------] 2020-08-24 13:11:49.969023 - 0 of 2 reports (0.0% complete) - Running fairness evaluation for model: SVM, estimated time is 216 seconds\n"
     ]
    },
    {
     "name": "stderr",
     "output_type": "stream",
     "text": [
      "2020-08-24 13:12:30,729 root   WARNING  Examples of protected class ('status', 'male : divorced/separated') exhausted before convergence after 50 samples\n",
      "2020-08-24 13:12:48,319 root   WARNING  Examples of protected class ('status', 'male : married/widowed') exhausted before convergence after 92 samples\n",
      "2020-08-24 13:13:26,676 root   WARNING  Examples of protected class ('age', '<= 25 years') exhausted before convergence after 190 samples\n",
      "2020-08-24 13:14:03,232 root   WARNING  Examples of protected class ('status', 'female : divorced/separated/married') exhausted before convergence after 310 samples\n",
      "2020-08-24 13:14:06,920 root   WARNING  Examples of protected class ('status', 'male : single') exhausted before convergence after 548 samples\n",
      "2020-08-24 13:14:06,921 root   WARNING  Examples of protected class ('age', '> 25 years') exhausted before convergence after 810 samples\n",
      "2020-08-24 13:14:17,739 root   WARNING  Insufficient examples of some fairness classes to guarantee convergence (smallest class size is for 'male : divorced/separated' with 50 samples)\n"
     ]
    },
    {
     "name": "stdout",
     "output_type": "stream",
     "text": [
      "[##########----------] 2020-08-24 13:14:17.729313 - 1 of 2 reports (50.0% complete) - Running fairness evaluation for model: logistic, estimated time is 111 seconds\n"
     ]
    },
    {
     "name": "stderr",
     "output_type": "stream",
     "text": [
      "2020-08-24 13:14:56,505 root   WARNING  Examples of protected class ('status', 'male : divorced/separated') exhausted before convergence after 50 samples\n",
      "2020-08-24 13:15:08,368 root   WARNING  Examples of protected class ('status', 'male : married/widowed') exhausted before convergence after 92 samples\n",
      "2020-08-24 13:15:20,624 root   WARNING  Examples of protected class ('age', '<= 25 years') exhausted before convergence after 190 samples\n",
      "2020-08-24 13:15:46,056 root   WARNING  Examples of protected class ('status', 'female : divorced/separated/married') exhausted before convergence after 310 samples\n",
      "2020-08-24 13:15:49,151 root   WARNING  Examples of protected class ('status', 'male : single') exhausted before convergence after 548 samples\n",
      "2020-08-24 13:15:49,152 root   WARNING  Examples of protected class ('age', '> 25 years') exhausted before convergence after 810 samples\n"
     ]
    },
    {
     "name": "stdout",
     "output_type": "stream",
     "text": [
      "[####################] 2020-08-24 13:16:00.429391 - 2 of 2 reports (100.0% complete) - Completed all evaluations\n"
     ]
    }
   ],
   "source": [
    "# Run the scan.\n",
    "# By default this will write the results into individual report files (one per model and evaluation\n",
    "# type) in the 'reports' directory relative to the Jupyter root.  This may be disabled by specifying\n",
    "# `write_reports=False` as below\n",
    "# The result is a dictionary of dictionaries of reports.  The top level dict key is the evaluation type\n",
    "# and the second level key is model id.\n",
    "# Reports saved as JSON (which `write_reports=True` will do) may be visualized in the console app\n",
    "result = scan.run(write_reports=False)"
   ]
  },
  {
   "cell_type": "code",
   "execution_count": 8,
   "metadata": {},
   "outputs": [
    {
     "name": "stdout",
     "output_type": "stream",
     "text": [
      "dict_keys(['scan', 'model_use_case', 'model', 'dataset', 'dataset_schema', 'status', 'engine_stats', 'detailed_scores', 'feature_restrictions', 'prediction_description', 'prediction_favorability', 'prediction_values', 'fairness', 'reports_written'])\n"
     ]
    },
    {
     "data": {
      "text/html": [
       "<div>\n",
       "<style scoped>\n",
       "    .dataframe tbody tr th:only-of-type {\n",
       "        vertical-align: middle;\n",
       "    }\n",
       "\n",
       "    .dataframe tbody tr th {\n",
       "        vertical-align: top;\n",
       "    }\n",
       "\n",
       "    .dataframe thead th {\n",
       "        text-align: right;\n",
       "    }\n",
       "</style>\n",
       "<table border=\"1\" class=\"dataframe\">\n",
       "  <thead>\n",
       "    <tr style=\"text-align: right;\">\n",
       "      <th></th>\n",
       "      <th>context</th>\n",
       "      <th>type</th>\n",
       "      <th>overall fairness</th>\n",
       "      <th>Feature (age)</th>\n",
       "      <th>Group details (&lt;= 25 years)</th>\n",
       "      <th>Group details (&gt; 25 years)</th>\n",
       "      <th>Feature (status)</th>\n",
       "      <th>Group details (female : divorced/separated/married)</th>\n",
       "      <th>Group details (male : divorced/separated)</th>\n",
       "      <th>Group details (male : married/widowed)</th>\n",
       "      <th>Group details (male : single)</th>\n",
       "    </tr>\n",
       "  </thead>\n",
       "  <tbody>\n",
       "    <tr>\n",
       "      <th>SVM (burden)</th>\n",
       "      <td>SVM</td>\n",
       "      <td>burden</td>\n",
       "      <td>68.745641</td>\n",
       "      <td>74.380287</td>\n",
       "      <td>0.072704</td>\n",
       "      <td>0.042841</td>\n",
       "      <td>70.490189</td>\n",
       "      <td>0.069163</td>\n",
       "      <td>0.063473</td>\n",
       "      <td>0.022972</td>\n",
       "      <td>0.039389</td>\n",
       "    </tr>\n",
       "    <tr>\n",
       "      <th>logistic (burden)</th>\n",
       "      <td>logistic</td>\n",
       "      <td>burden</td>\n",
       "      <td>66.986178</td>\n",
       "      <td>68.847741</td>\n",
       "      <td>0.080435</td>\n",
       "      <td>0.042320</td>\n",
       "      <td>71.373645</td>\n",
       "      <td>0.074194</td>\n",
       "      <td>0.074780</td>\n",
       "      <td>0.030370</td>\n",
       "      <td>0.036758</td>\n",
       "    </tr>\n",
       "  </tbody>\n",
       "</table>\n",
       "</div>"
      ],
      "text/plain": [
       "                    context    type  overall fairness  Feature (age)  \\\n",
       "SVM (burden)            SVM  burden         68.745641      74.380287   \n",
       "logistic (burden)  logistic  burden         66.986178      68.847741   \n",
       "\n",
       "                   Group details (<= 25 years)  Group details (> 25 years)  \\\n",
       "SVM (burden)                          0.072704                    0.042841   \n",
       "logistic (burden)                     0.080435                    0.042320   \n",
       "\n",
       "                   Feature (status)  \\\n",
       "SVM (burden)              70.490189   \n",
       "logistic (burden)         71.373645   \n",
       "\n",
       "                   Group details (female : divorced/separated/married)  \\\n",
       "SVM (burden)                                                0.069163     \n",
       "logistic (burden)                                           0.074194     \n",
       "\n",
       "                   Group details (male : divorced/separated)  \\\n",
       "SVM (burden)                                        0.063473   \n",
       "logistic (burden)                                   0.074780   \n",
       "\n",
       "                   Group details (male : married/widowed)  \\\n",
       "SVM (burden)                                     0.022972   \n",
       "logistic (burden)                                0.030370   \n",
       "\n",
       "                   Group details (male : single)  \n",
       "SVM (burden)                            0.039389  \n",
       "logistic (burden)                       0.036758  "
      ]
     },
     "metadata": {},
     "output_type": "display_data"
    }
   ],
   "source": [
    "# The result is a dictionary keyed on analysis, containing reports keyed on model id\n",
    "# The console app is the recommended way to view these, by saving the results to file\n",
    "# (see previous cell), but programmatic analysis of the result here is also possible\n",
    "print(result['fairness']['SVM'].keys())\n",
    "df = construct_scores_dataframe(scores('fairness', result), include_confidence=False)\n",
    "display(df)"
   ]
  },
  {
   "cell_type": "code",
   "execution_count": 9,
   "metadata": {},
   "outputs": [
    {
     "data": {
      "text/html": [
       "<div>\n",
       "<style scoped>\n",
       "    .dataframe tbody tr th:only-of-type {\n",
       "        vertical-align: middle;\n",
       "    }\n",
       "\n",
       "    .dataframe tbody tr th {\n",
       "        vertical-align: top;\n",
       "    }\n",
       "\n",
       "    .dataframe thead th {\n",
       "        text-align: right;\n",
       "    }\n",
       "</style>\n",
       "<table border=\"1\" class=\"dataframe\">\n",
       "  <thead>\n",
       "    <tr style=\"text-align: right;\">\n",
       "      <th></th>\n",
       "      <th>context</th>\n",
       "      <th>type</th>\n",
       "      <th>overall fairness</th>\n",
       "      <th>overall fairness lower bound</th>\n",
       "      <th>overall fairness upper bound</th>\n",
       "      <th>Feature (age)</th>\n",
       "      <th>Feature (age) lower bound</th>\n",
       "      <th>Feature (age) upper bound</th>\n",
       "      <th>Group details (&lt;= 25 years)</th>\n",
       "      <th>Group details (&lt;= 25 years) lower bound</th>\n",
       "      <th>...</th>\n",
       "      <th>Group details (female : divorced/separated/married) upper bound</th>\n",
       "      <th>Group details (male : divorced/separated)</th>\n",
       "      <th>Group details (male : divorced/separated) lower bound</th>\n",
       "      <th>Group details (male : divorced/separated) upper bound</th>\n",
       "      <th>Group details (male : married/widowed)</th>\n",
       "      <th>Group details (male : married/widowed) lower bound</th>\n",
       "      <th>Group details (male : married/widowed) upper bound</th>\n",
       "      <th>Group details (male : single)</th>\n",
       "      <th>Group details (male : single) lower bound</th>\n",
       "      <th>Group details (male : single) upper bound</th>\n",
       "    </tr>\n",
       "  </thead>\n",
       "  <tbody>\n",
       "    <tr>\n",
       "      <th>SVM (burden)</th>\n",
       "      <td>SVM</td>\n",
       "      <td>burden</td>\n",
       "      <td>68.745641</td>\n",
       "      <td>60.328621</td>\n",
       "      <td>76.488860</td>\n",
       "      <td>74.380287</td>\n",
       "      <td>64.664447</td>\n",
       "      <td>85.755109</td>\n",
       "      <td>0.072704</td>\n",
       "      <td>0.058893</td>\n",
       "      <td>...</td>\n",
       "      <td>0.080193</td>\n",
       "      <td>0.063473</td>\n",
       "      <td>0.035556</td>\n",
       "      <td>0.095781</td>\n",
       "      <td>0.022972</td>\n",
       "      <td>0.013316</td>\n",
       "      <td>0.033996</td>\n",
       "      <td>0.039389</td>\n",
       "      <td>0.032867</td>\n",
       "      <td>0.046002</td>\n",
       "    </tr>\n",
       "    <tr>\n",
       "      <th>logistic (burden)</th>\n",
       "      <td>logistic</td>\n",
       "      <td>burden</td>\n",
       "      <td>66.986178</td>\n",
       "      <td>58.697525</td>\n",
       "      <td>74.386651</td>\n",
       "      <td>68.847741</td>\n",
       "      <td>59.849426</td>\n",
       "      <td>79.206170</td>\n",
       "      <td>0.080435</td>\n",
       "      <td>0.067304</td>\n",
       "      <td>...</td>\n",
       "      <td>0.085084</td>\n",
       "      <td>0.074780</td>\n",
       "      <td>0.049227</td>\n",
       "      <td>0.103604</td>\n",
       "      <td>0.030370</td>\n",
       "      <td>0.018664</td>\n",
       "      <td>0.043599</td>\n",
       "      <td>0.036758</td>\n",
       "      <td>0.030973</td>\n",
       "      <td>0.043121</td>\n",
       "    </tr>\n",
       "  </tbody>\n",
       "</table>\n",
       "<p>2 rows × 29 columns</p>\n",
       "</div>"
      ],
      "text/plain": [
       "                    context    type  overall fairness  \\\n",
       "SVM (burden)            SVM  burden         68.745641   \n",
       "logistic (burden)  logistic  burden         66.986178   \n",
       "\n",
       "                   overall fairness lower bound  overall fairness upper bound  \\\n",
       "SVM (burden)                          60.328621                     76.488860   \n",
       "logistic (burden)                     58.697525                     74.386651   \n",
       "\n",
       "                   Feature (age)  Feature (age) lower bound  \\\n",
       "SVM (burden)           74.380287                  64.664447   \n",
       "logistic (burden)      68.847741                  59.849426   \n",
       "\n",
       "                   Feature (age) upper bound  Group details (<= 25 years)  \\\n",
       "SVM (burden)                       85.755109                     0.072704   \n",
       "logistic (burden)                  79.206170                     0.080435   \n",
       "\n",
       "                   Group details (<= 25 years) lower bound  ...  \\\n",
       "SVM (burden)                                      0.058893  ...   \n",
       "logistic (burden)                                 0.067304  ...   \n",
       "\n",
       "                   Group details (female : divorced/separated/married) upper bound  \\\n",
       "SVM (burden)                                                0.080193                 \n",
       "logistic (burden)                                           0.085084                 \n",
       "\n",
       "                   Group details (male : divorced/separated)  \\\n",
       "SVM (burden)                                        0.063473   \n",
       "logistic (burden)                                   0.074780   \n",
       "\n",
       "                   Group details (male : divorced/separated) lower bound  \\\n",
       "SVM (burden)                                                0.035556       \n",
       "logistic (burden)                                           0.049227       \n",
       "\n",
       "                   Group details (male : divorced/separated) upper bound  \\\n",
       "SVM (burden)                                                0.095781       \n",
       "logistic (burden)                                           0.103604       \n",
       "\n",
       "                   Group details (male : married/widowed)  \\\n",
       "SVM (burden)                                     0.022972   \n",
       "logistic (burden)                                0.030370   \n",
       "\n",
       "                   Group details (male : married/widowed) lower bound  \\\n",
       "SVM (burden)                                                0.013316    \n",
       "logistic (burden)                                           0.018664    \n",
       "\n",
       "                   Group details (male : married/widowed) upper bound  \\\n",
       "SVM (burden)                                                0.033996    \n",
       "logistic (burden)                                           0.043599    \n",
       "\n",
       "                   Group details (male : single)  \\\n",
       "SVM (burden)                            0.039389   \n",
       "logistic (burden)                       0.036758   \n",
       "\n",
       "                   Group details (male : single) lower bound  \\\n",
       "SVM (burden)                                        0.032867   \n",
       "logistic (burden)                                   0.030973   \n",
       "\n",
       "                   Group details (male : single) upper bound  \n",
       "SVM (burden)                                        0.046002  \n",
       "logistic (burden)                                   0.043121  \n",
       "\n",
       "[2 rows x 29 columns]"
      ]
     },
     "metadata": {},
     "output_type": "display_data"
    },
    {
     "name": "stdout",
     "output_type": "stream",
     "text": [
      "\n",
      "\n"
     ]
    },
    {
     "data": {
      "image/png": "[encoded data removed]",
      "text/plain": [
       "<Figure size 864x288 with 1 Axes>"
      ]
     },
     "metadata": {
      "needs_background": "light"
     },
     "output_type": "display_data"
    }
   ],
   "source": [
    "# Many scores also come with 95% confidence bounds, which we omitted above for the sake of brevity, but\n",
    "# we can include those also.  In the example here we include the confidence bounds but only display the scores\n",
    "# to a reduced level of detail to keep a smallish table for display purposes\n",
    "df = construct_scores_dataframe(scores('fairness', result, max_depth=1))\n",
    "\n",
    "display(df)\n",
    "\n",
    "print(\"\\n\")\n",
    "\n",
    "# Let's chart the fairness measure by feature for each model together with its confidence bounds for\n",
    "# easier visual comparison:\n",
    "%matplotlib inline\n",
    "import matplotlib.pyplot as plt\n",
    "\n",
    "features = ['Feature (status)', 'Feature (age)']\n",
    "feature_scores = df[features]\n",
    "feature_lower_bounds = df[[f + ' lower bound' for f in features]]\n",
    "feature_upper_bounds = df[[f + ' upper bound' for f in features]]\n",
    "\n",
    "fig, ax = plt.subplots(figsize=[12,4])\n",
    "ax.set_title('Feature fairness by model', fontsize=20)\n",
    "colors = ['tab:blue', 'tab:orange', 'tab:green', 'tab:red', 'tab:pink']\n",
    "width = 0.4\n",
    "\n",
    "ax.set_xticks(np.arange(len(features))+width)\n",
    "ax.set_xticklabels(features)\n",
    "\n",
    "for idx in range(len(df)):\n",
    "    central_values = list(feature_scores.iloc[idx])\n",
    "    lower_bounds = list(feature_lower_bounds.iloc[idx])\n",
    "    upper_bounds = list(feature_upper_bounds.iloc[idx])\n",
    "    lower_errors = [central_values[i] - lower_bounds[i] for i in range(len(central_values))]\n",
    "    upper_errors = [upper_bounds[i] - central_values[i] for i in range(len(central_values))]\n",
    "\n",
    "    ax.bar([width/2+idx*width+f_idx for f_idx in range(len(features))],\n",
    "            central_values,\n",
    "            width,\n",
    "            yerr=[lower_errors, upper_errors],\n",
    "            color=colors[idx],\n",
    "            label=df.index[idx],\n",
    "            capsize=10)\n",
    "\n",
    "ax.legend()\n",
    "plt.show()"
   ]
  },
  {
   "cell_type": "code",
   "execution_count": 10,
   "metadata": {},
   "outputs": [
    {
     "name": "stdout",
     "output_type": "stream",
     "text": [
      "Saved template to: /var/folders/lr/q254tmzd7c38_j135rswd3gmg2w8ml/T/tmpjmfkq_y8\n"
     ]
    }
   ],
   "source": [
    "# We can also persist the template we built and reuse it later as illustrated here\n",
    "import tempfile\n",
    "import yaml\n",
    "\n",
    "temp_file = tempfile.mktemp()\n",
    "with open(temp_file, \"w\") as f:\n",
    "    scan.save(f)\n",
    "    print(f\"Saved template to: {temp_file}\")"
   ]
  },
  {
   "cell_type": "code",
   "execution_count": 11,
   "metadata": {},
   "outputs": [],
   "source": [
    "reloaded = CertifaiScanBuilder.from_file(temp_file)\n",
    "\n",
    "# The persisted scan won't contain the model itself, so we'll need to reconnect that\n",
    "for model in reloaded.models:\n",
    "    if model.id == 'logistic':\n",
    "        model.local_predictor=logistic_model_proxy\n",
    "    elif model.id == 'SVM':\n",
    "        model.local_predictor=svm_model_proxy"
   ]
  },
  {
   "cell_type": "code",
   "execution_count": 12,
   "metadata": {},
   "outputs": [
    {
     "name": "stderr",
     "output_type": "stream",
     "text": [
      "2020-08-24 13:16:00,764 root   WARNING  Insufficient examples of some fairness classes to guarantee convergence (smallest class size is for 'male : divorced/separated' with 50 samples)\n"
     ]
    },
    {
     "name": "stdout",
     "output_type": "stream",
     "text": [
      "[--------------------] 2020-08-24 13:16:00.754484 - 0 of 2 reports (0.0% complete) - Starting scan with model_use_case_id: 'test_user_case' and scan_id: '28b6e6d32fb9', total estimated time is 6 minutes\n",
      "[--------------------] 2020-08-24 13:16:00.754664 - 0 of 2 reports (0.0% complete) - Running fairness evaluation for model: SVM, estimated time is 216 seconds\n"
     ]
    },
    {
     "name": "stderr",
     "output_type": "stream",
     "text": [
      "2020-08-24 13:16:44,886 root   WARNING  Examples of protected class ('status', 'male : divorced/separated') exhausted before convergence after 50 samples\n",
      "2020-08-24 13:17:02,958 root   WARNING  Examples of protected class ('status', 'male : married/widowed') exhausted before convergence after 92 samples\n",
      "2020-08-24 13:17:39,756 root   WARNING  Examples of protected class ('age', '<= 25 years') exhausted before convergence after 190 samples\n",
      "2020-08-24 13:18:15,645 root   WARNING  Examples of protected class ('status', 'female : divorced/separated/married') exhausted before convergence after 310 samples\n",
      "2020-08-24 13:18:19,328 root   WARNING  Examples of protected class ('status', 'male : single') exhausted before convergence after 548 samples\n",
      "2020-08-24 13:18:19,329 root   WARNING  Examples of protected class ('age', '> 25 years') exhausted before convergence after 810 samples\n",
      "2020-08-24 13:18:30,135 root   WARNING  Insufficient examples of some fairness classes to guarantee convergence (smallest class size is for 'male : divorced/separated' with 50 samples)\n"
     ]
    },
    {
     "name": "stdout",
     "output_type": "stream",
     "text": [
      "[##########----------] 2020-08-24 13:18:30.125353 - 1 of 2 reports (50.0% complete) - Running fairness evaluation for model: logistic, estimated time is 111 seconds\n"
     ]
    },
    {
     "name": "stderr",
     "output_type": "stream",
     "text": [
      "2020-08-24 13:19:10,164 root   WARNING  Examples of protected class ('status', 'male : divorced/separated') exhausted before convergence after 50 samples\n",
      "2020-08-24 13:19:22,011 root   WARNING  Examples of protected class ('status', 'male : married/widowed') exhausted before convergence after 92 samples\n",
      "2020-08-24 13:19:35,975 root   WARNING  Examples of protected class ('age', '<= 25 years') exhausted before convergence after 190 samples\n",
      "2020-08-24 13:20:02,370 root   WARNING  Examples of protected class ('status', 'female : divorced/separated/married') exhausted before convergence after 310 samples\n",
      "2020-08-24 13:20:05,745 root   WARNING  Examples of protected class ('status', 'male : single') exhausted before convergence after 548 samples\n",
      "2020-08-24 13:20:05,747 root   WARNING  Examples of protected class ('age', '> 25 years') exhausted before convergence after 810 samples\n"
     ]
    },
    {
     "name": "stdout",
     "output_type": "stream",
     "text": [
      "[####################] 2020-08-24 13:20:18.357974 - 2 of 2 reports (100.0% complete) - Completed all evaluations\n"
     ]
    }
   ],
   "source": [
    "result = reloaded.run(write_reports=False)"
   ]
  },
  {
   "cell_type": "code",
   "execution_count": 13,
   "metadata": {},
   "outputs": [
    {
     "data": {
      "text/html": [
       "<div>\n",
       "<style scoped>\n",
       "    .dataframe tbody tr th:only-of-type {\n",
       "        vertical-align: middle;\n",
       "    }\n",
       "\n",
       "    .dataframe tbody tr th {\n",
       "        vertical-align: top;\n",
       "    }\n",
       "\n",
       "    .dataframe thead th {\n",
       "        text-align: right;\n",
       "    }\n",
       "</style>\n",
       "<table border=\"1\" class=\"dataframe\">\n",
       "  <thead>\n",
       "    <tr style=\"text-align: right;\">\n",
       "      <th></th>\n",
       "      <th>context</th>\n",
       "      <th>type</th>\n",
       "      <th>overall fairness</th>\n",
       "      <th>Feature (age)</th>\n",
       "      <th>Group details (&lt;= 25 years)</th>\n",
       "      <th>Group details (&gt; 25 years)</th>\n",
       "      <th>Feature (status)</th>\n",
       "      <th>Group details (female : divorced/separated/married)</th>\n",
       "      <th>Group details (male : divorced/separated)</th>\n",
       "      <th>Group details (male : married/widowed)</th>\n",
       "      <th>Group details (male : single)</th>\n",
       "    </tr>\n",
       "  </thead>\n",
       "  <tbody>\n",
       "    <tr>\n",
       "      <th>SVM (burden)</th>\n",
       "      <td>SVM</td>\n",
       "      <td>burden</td>\n",
       "      <td>68.745641</td>\n",
       "      <td>74.380287</td>\n",
       "      <td>0.072704</td>\n",
       "      <td>0.042841</td>\n",
       "      <td>70.490189</td>\n",
       "      <td>0.069163</td>\n",
       "      <td>0.063473</td>\n",
       "      <td>0.022972</td>\n",
       "      <td>0.039389</td>\n",
       "    </tr>\n",
       "    <tr>\n",
       "      <th>logistic (burden)</th>\n",
       "      <td>logistic</td>\n",
       "      <td>burden</td>\n",
       "      <td>66.986178</td>\n",
       "      <td>68.847741</td>\n",
       "      <td>0.080435</td>\n",
       "      <td>0.042320</td>\n",
       "      <td>71.373645</td>\n",
       "      <td>0.074194</td>\n",
       "      <td>0.074780</td>\n",
       "      <td>0.030370</td>\n",
       "      <td>0.036758</td>\n",
       "    </tr>\n",
       "  </tbody>\n",
       "</table>\n",
       "</div>"
      ],
      "text/plain": [
       "                    context    type  overall fairness  Feature (age)  \\\n",
       "SVM (burden)            SVM  burden         68.745641      74.380287   \n",
       "logistic (burden)  logistic  burden         66.986178      68.847741   \n",
       "\n",
       "                   Group details (<= 25 years)  Group details (> 25 years)  \\\n",
       "SVM (burden)                          0.072704                    0.042841   \n",
       "logistic (burden)                     0.080435                    0.042320   \n",
       "\n",
       "                   Feature (status)  \\\n",
       "SVM (burden)              70.490189   \n",
       "logistic (burden)         71.373645   \n",
       "\n",
       "                   Group details (female : divorced/separated/married)  \\\n",
       "SVM (burden)                                                0.069163     \n",
       "logistic (burden)                                           0.074194     \n",
       "\n",
       "                   Group details (male : divorced/separated)  \\\n",
       "SVM (burden)                                        0.063473   \n",
       "logistic (burden)                                   0.074780   \n",
       "\n",
       "                   Group details (male : married/widowed)  \\\n",
       "SVM (burden)                                     0.022972   \n",
       "logistic (burden)                                0.030370   \n",
       "\n",
       "                   Group details (male : single)  \n",
       "SVM (burden)                            0.039389  \n",
       "logistic (burden)                       0.036758  "
      ]
     },
     "execution_count": 13,
     "metadata": {},
     "output_type": "execute_result"
    }
   ],
   "source": [
    "construct_scores_dataframe(scores('fairness', result), include_confidence=False)"
   ]
  },
  {
   "cell_type": "code",
   "execution_count": 14,
   "metadata": {},
   "outputs": [
    {
     "name": "stderr",
     "output_type": "stream",
     "text": [
      "2020-08-24 13:20:18,436 root   WARNING  Insufficient examples of some fairness classes to guarantee convergence (smallest class size is for 'male : divorced/separated' with 50 samples)\n"
     ]
    },
    {
     "name": "stdout",
     "output_type": "stream",
     "text": [
      "[--------------------] 2020-08-24 13:20:18.425511 - 0 of 2 reports (0.0% complete) - Starting scan with model_use_case_id: 'test_user_case' and scan_id: '72ac62c392d6', total estimated time is 6 minutes\n",
      "[--------------------] 2020-08-24 13:20:18.425649 - 0 of 2 reports (0.0% complete) - Running fairness evaluation for model: SVM, estimated time is 216 seconds\n"
     ]
    },
    {
     "name": "stderr",
     "output_type": "stream",
     "text": [
      "2020-08-24 13:21:12,539 root   WARNING  Examples of protected class ('status', 'male : divorced/separated') exhausted before convergence after 50 samples\n",
      "2020-08-24 13:21:35,889 root   WARNING  Examples of protected class ('status', 'male : married/widowed') exhausted before convergence after 92 samples\n",
      "2020-08-24 13:22:21,442 root   WARNING  Examples of protected class ('age', '<= 25 years') exhausted before convergence after 190 samples\n",
      "2020-08-24 13:23:01,345 root   WARNING  Examples of protected class ('status', 'female : divorced/separated/married') exhausted before convergence after 310 samples\n",
      "2020-08-24 13:23:05,590 root   WARNING  Examples of protected class ('status', 'male : single') exhausted before convergence after 548 samples\n",
      "2020-08-24 13:23:05,591 root   WARNING  Examples of protected class ('age', '> 25 years') exhausted before convergence after 810 samples\n",
      "2020-08-24 13:23:18,083 root   WARNING  Insufficient examples of some fairness classes to guarantee convergence (smallest class size is for 'male : divorced/separated' with 50 samples)\n"
     ]
    },
    {
     "name": "stdout",
     "output_type": "stream",
     "text": [
      "[##########----------] 2020-08-24 13:23:18.072532 - 1 of 2 reports (50.0% complete) - Running fairness evaluation for model: logistic, estimated time is 111 seconds\n"
     ]
    },
    {
     "name": "stderr",
     "output_type": "stream",
     "text": [
      "2020-08-24 13:24:01,356 root   WARNING  Examples of protected class ('status', 'male : divorced/separated') exhausted before convergence after 50 samples\n",
      "2020-08-24 13:24:14,112 root   WARNING  Examples of protected class ('status', 'male : married/widowed') exhausted before convergence after 92 samples\n",
      "2020-08-24 13:24:29,345 root   WARNING  Examples of protected class ('age', '<= 25 years') exhausted before convergence after 190 samples\n",
      "2020-08-24 13:24:55,437 root   WARNING  Examples of protected class ('status', 'female : divorced/separated/married') exhausted before convergence after 310 samples\n",
      "2020-08-24 13:24:58,478 root   WARNING  Examples of protected class ('status', 'male : single') exhausted before convergence after 548 samples\n",
      "2020-08-24 13:24:58,480 root   WARNING  Examples of protected class ('age', '> 25 years') exhausted before convergence after 810 samples\n"
     ]
    },
    {
     "name": "stdout",
     "output_type": "stream",
     "text": [
      "[####################] 2020-08-24 13:25:10.069698 - 2 of 2 reports (100.0% complete) - Completed all evaluations\n"
     ]
    }
   ],
   "source": [
    "# We can also process dataframes we have locally already loaded in Pandas rather than\n",
    "# requiring them to initially be saved off as CSV/JSON files\n",
    "df2 = pd.read_csv(all_data_file)\n",
    "\n",
    "# Add this already loaded data as a new dataset and switch to evaluate it\n",
    "loaded_dataset = CertifaiDataset('loaded', CertifaiDatasetSource.dataframe(df2))\n",
    "reloaded.add_dataset(loaded_dataset)\n",
    "reloaded.evaluation_dataset_id = 'loaded'\n",
    "reloaded.output_path = '../local_reports'\n",
    "\n",
    "result = reloaded.run()"
   ]
  },
  {
   "cell_type": "code",
   "execution_count": 15,
   "metadata": {},
   "outputs": [
    {
     "data": {
      "text/html": [
       "<div>\n",
       "<style scoped>\n",
       "    .dataframe tbody tr th:only-of-type {\n",
       "        vertical-align: middle;\n",
       "    }\n",
       "\n",
       "    .dataframe tbody tr th {\n",
       "        vertical-align: top;\n",
       "    }\n",
       "\n",
       "    .dataframe thead th {\n",
       "        text-align: right;\n",
       "    }\n",
       "</style>\n",
       "<table border=\"1\" class=\"dataframe\">\n",
       "  <thead>\n",
       "    <tr style=\"text-align: right;\">\n",
       "      <th></th>\n",
       "      <th>context</th>\n",
       "      <th>type</th>\n",
       "      <th>overall fairness</th>\n",
       "      <th>Feature (age)</th>\n",
       "      <th>Group details (&lt;= 25 years)</th>\n",
       "      <th>Group details (&gt; 25 years)</th>\n",
       "      <th>Feature (status)</th>\n",
       "      <th>Group details (female : divorced/separated/married)</th>\n",
       "      <th>Group details (male : divorced/separated)</th>\n",
       "      <th>Group details (male : married/widowed)</th>\n",
       "      <th>Group details (male : single)</th>\n",
       "    </tr>\n",
       "  </thead>\n",
       "  <tbody>\n",
       "    <tr>\n",
       "      <th>SVM (burden)</th>\n",
       "      <td>SVM</td>\n",
       "      <td>burden</td>\n",
       "      <td>68.745641</td>\n",
       "      <td>74.380287</td>\n",
       "      <td>0.072704</td>\n",
       "      <td>0.042841</td>\n",
       "      <td>70.490189</td>\n",
       "      <td>0.069163</td>\n",
       "      <td>0.063473</td>\n",
       "      <td>0.022972</td>\n",
       "      <td>0.039389</td>\n",
       "    </tr>\n",
       "    <tr>\n",
       "      <th>logistic (burden)</th>\n",
       "      <td>logistic</td>\n",
       "      <td>burden</td>\n",
       "      <td>66.986178</td>\n",
       "      <td>68.847741</td>\n",
       "      <td>0.080435</td>\n",
       "      <td>0.042320</td>\n",
       "      <td>71.373645</td>\n",
       "      <td>0.074194</td>\n",
       "      <td>0.074780</td>\n",
       "      <td>0.030370</td>\n",
       "      <td>0.036758</td>\n",
       "    </tr>\n",
       "  </tbody>\n",
       "</table>\n",
       "</div>"
      ],
      "text/plain": [
       "                    context    type  overall fairness  Feature (age)  \\\n",
       "SVM (burden)            SVM  burden         68.745641      74.380287   \n",
       "logistic (burden)  logistic  burden         66.986178      68.847741   \n",
       "\n",
       "                   Group details (<= 25 years)  Group details (> 25 years)  \\\n",
       "SVM (burden)                          0.072704                    0.042841   \n",
       "logistic (burden)                     0.080435                    0.042320   \n",
       "\n",
       "                   Feature (status)  \\\n",
       "SVM (burden)              70.490189   \n",
       "logistic (burden)         71.373645   \n",
       "\n",
       "                   Group details (female : divorced/separated/married)  \\\n",
       "SVM (burden)                                                0.069163     \n",
       "logistic (burden)                                           0.074194     \n",
       "\n",
       "                   Group details (male : divorced/separated)  \\\n",
       "SVM (burden)                                        0.063473   \n",
       "logistic (burden)                                   0.074780   \n",
       "\n",
       "                   Group details (male : married/widowed)  \\\n",
       "SVM (burden)                                     0.022972   \n",
       "logistic (burden)                                0.030370   \n",
       "\n",
       "                   Group details (male : single)  \n",
       "SVM (burden)                            0.039389  \n",
       "logistic (burden)                       0.036758  "
      ]
     },
     "execution_count": 15,
     "metadata": {},
     "output_type": "execute_result"
    }
   ],
   "source": [
    "construct_scores_dataframe(scores('fairness', result), include_confidence=False)"
   ]
  },
  {
   "cell_type": "code",
   "execution_count": 16,
   "metadata": {},
   "outputs": [
    {
     "name": "stdout",
     "output_type": "stream",
     "text": [
      "dataset_schema:\n",
      "  outcome_column: outcome\n",
      "datasets:\n",
      "- dataset_id: evaluation\n",
      "  delimiter: ','\n",
      "  file_type: csv\n",
      "  has_header: true\n",
      "  quote_character: '\"'\n",
      "  url: somefile.csv\n",
      "evaluation:\n",
      "  evaluation_dataset_id: evaluation\n",
      "  evaluation_types:\n",
      "  - fairness\n",
      "  fairness_grouping_features:\n",
      "  - name: age\n",
      "  - name: status\n",
      "  name: test_user_case\n",
      "  prediction_description: Determine whether a loan should be granted\n",
      "  prediction_favorability: explicit\n",
      "  prediction_values:\n",
      "  - favorable: true\n",
      "    name: Loan granted\n",
      "    value: 1\n",
      "  - favorable: false\n",
      "    name: Loan denied\n",
      "    value: 2\n",
      "model_use_case:\n",
      "  model_use_case_id: test_user_case\n",
      "  name: test_user_case\n",
      "  task_type: binary-classification\n",
      "models:\n",
      "- model_id: SVM\n",
      "  name: SVM\n",
      "  predict_endpoint: http://mymodel/predict\n",
      "  prediction_value_order:\n",
      "  - 1\n",
      "  - 2\n",
      "  supports_soft_scoring: true\n",
      "- model_id: logistic\n",
      "  name: logistic\n",
      "  prediction_value_order:\n",
      "  - 1\n",
      "  - 2\n",
      "  supports_soft_scoring: true\n",
      "scan:\n",
      "  output:\n",
      "    path: ../local_reports\n",
      "\n"
     ]
    }
   ],
   "source": [
    "# Having developed a scan definition we'll eventually want to be able to export it for use in\n",
    "# scans of a deployed model.  The main differences then will be:\n",
    "#  * The model won't be local to the scanner, but will be accessed via the network\n",
    "#  * The dataset won't be in a local DataFrame but will always be read from (possibly network attached) storage\n",
    "# This means that the scan template used by the scanner will need dataset sourcing details filling in, and model\n",
    "# endpoint address specifying.  This can either be done by a post-hoc hand edit of the produced YAML (the file we\n",
    "# saved off earlier to illustrate persisting the template), or we can add those details programatically prior to\n",
    "# exporting as illustrated below\n",
    "exportable_scan = CertifaiScanBuilder.from_file(temp_file)  # reload the scan we've been using in the notebook\n",
    "exportable_scan.models[0].predict_endpoint = 'http://mymodel/predict'\n",
    "exportable_scan.datasets[0].source = CertifaiDatasetSource.csv('somefile.csv')\n",
    "\n",
    "# Export the updated scan as YAML for use by the scanner (we won't actually save it here - just print it)\n",
    "scan_yaml = exportable_scan.extract_yaml() # could use the method `save` to write direct to a file\n",
    "print(scan_yaml)"
   ]
  }
 ],
 "metadata": {
  "kernelspec": {
   "display_name": "Python 3",
   "language": "python",
   "name": "python3"
  },
  "language_info": {
   "codemirror_mode": {
    "name": "ipython",
    "version": 3
   },
   "file_extension": ".py",
   "mimetype": "text/x-python",
   "name": "python",
   "nbconvert_exporter": "python",
   "pygments_lexer": "ipython3",
   "version": "3.6.11"
  }
 },
 "nbformat": 4,
 "nbformat_minor": 4
}
