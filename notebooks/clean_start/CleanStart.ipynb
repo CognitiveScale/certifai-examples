{
 "cells": [
  {
   "cell_type": "markdown",
   "metadata": {},
   "source": [
    "Copyright (c) 2020. Cognitive Scale Inc. All rights reserved.\n",
    "Licensed under CognitiveScale Example Code [License](https://github.com/CognitiveScale/cortex-certifai-examples/blob/master/LICENSE.md)\n"
   ]
  },
  {
   "cell_type": "markdown",
   "metadata": {},
   "source": [
    "# Building a scan programatically\n",
    "\n",
    "In this notebook we'll build up a scan definition from first principles, against a local model trained within the\n",
    "notebook.  We will then run that scan and save its results.  Finally we will extract the scan defintion as YAML, which could be used to run the same scan (potentially on revised models or datasets) via the Certifai stand-alone scanner."
   ]
  },
  {
   "cell_type": "code",
   "execution_count": 1,
   "metadata": {
    "execution": {
     "iopub.execute_input": "2023-01-04T23:58:31.535494Z",
     "iopub.status.busy": "2023-01-04T23:58:31.535179Z",
     "iopub.status.idle": "2023-01-04T23:58:33.230490Z",
     "shell.execute_reply": "2023-01-04T23:58:33.229653Z"
    }
   },
   "outputs": [],
   "source": [
    "import pandas as pd\n",
    "import pprint\n",
    "import matplotlib as plt\n",
    "from IPython.display import display\n",
    "from sklearn.model_selection import train_test_split\n",
    "from sklearn import preprocessing\n",
    "import numpy as np\n",
    "import random\n",
    "from sklearn.linear_model import LogisticRegression\n",
    "from sklearn.model_selection import GridSearchCV\n",
    "from sklearn import svm\n",
    "from copy import copy\n",
    "\n",
    "from certifai.scanner.builder import (CertifaiScanBuilder, CertifaiPredictorWrapper, CertifaiModel, CertifaiModelMetric,\n",
    "                                      CertifaiDataset, CertifaiGroupingFeature, CertifaiDatasetSource,\n",
    "                                      CertifaiPredictionTask, CertifaiTaskOutcomes, CertifaiOutcomeValue)\n",
    "from certifai.scanner.report_utils import scores, construct_scores_dataframe\n",
    "from certifai.common.utils.encoding import CatEncoder"
   ]
  },
  {
   "cell_type": "code",
   "execution_count": 2,
   "metadata": {
    "execution": {
     "iopub.execute_input": "2023-01-04T23:58:33.234014Z",
     "iopub.status.busy": "2023-01-04T23:58:33.233768Z",
     "iopub.status.idle": "2023-01-04T23:58:34.855107Z",
     "shell.execute_reply": "2023-01-04T23:58:34.854476Z"
    }
   },
   "outputs": [
    {
     "name": "stdout",
     "output_type": "stream",
     "text": [
      "Model 'Support Vector Machine' accuracy is 0.77\n",
      "Model 'Logistic classifier' accuracy is 0.77\n"
     ]
    }
   ],
   "source": [
    "# Example will use a simple logistic classifier on the German Credit dataset\n",
    "base_path = '..'\n",
    "all_data_file = f\"{base_path}/datasets/german_credit_eval.csv\"\n",
    "\n",
    "df = pd.read_csv(all_data_file)\n",
    "\n",
    "cat_columns = [\n",
    "    'checkingstatus',\n",
    "    'history',\n",
    "    'purpose',\n",
    "    'savings',\n",
    "    'employ',\n",
    "    'status',\n",
    "    'others',\n",
    "    'property',\n",
    "    'age',\n",
    "    'otherplans',\n",
    "    'housing',\n",
    "    'job',\n",
    "    'telephone',\n",
    "    'foreign'\n",
    "    ]\n",
    "\n",
    "label_column = 'outcome'\n",
    "\n",
    "# Separate outcome\n",
    "y = df[label_column]\n",
    "X = df.drop(label_column, axis=1)\n",
    "\n",
    "X_train, X_test, y_train, y_test = train_test_split(X, y, test_size=0.20, random_state=42)\n",
    "\n",
    "# Note - to support python multi-processing in the context of a notebook the encoder MUST\n",
    "# be in a separate file, which is why `CatEncoder` is defined outside of this notebook\n",
    "encoder = CatEncoder(cat_columns, X)\n",
    "\n",
    "def build_model(data, name, model_family, test=None):\n",
    "    if test is None:\n",
    "        test = data\n",
    "        \n",
    "    if model_family == 'SVM':\n",
    "        parameters = {'kernel':('linear', 'rbf', 'poly'), 'C':[0.1, .5, 1, 2, 4, 10], 'gamma':['auto']}\n",
    "        m = svm.SVC()\n",
    "    elif model_family == 'logistic':\n",
    "        parameters = {'C': (0.5, 1.0, 2.0), 'solver': ['lbfgs'], 'max_iter': [1000]}\n",
    "        m = LogisticRegression()\n",
    "    model = GridSearchCV(m, parameters, cv=3)\n",
    "    model.fit(data[0], data[1])\n",
    "\n",
    "    # Assess on the test data\n",
    "    accuracy = model.score(test[0], test[1].values)\n",
    "    print(f\"Model '{name}' accuracy is {accuracy}\")\n",
    "    return model\n",
    "\n",
    "svm_model = build_model((encoder(X_train.values), y_train),\n",
    "                        'Support Vector Machine',\n",
    "                        'SVM',\n",
    "                        test=(encoder(X_test.values), y_test))\n",
    "\n",
    "logistic_model = build_model((encoder(X_train.values), y_train),\n",
    "                        'Logistic classifier',\n",
    "                        'logistic',\n",
    "                        test=(encoder(X_test.values), y_test))"
   ]
  },
  {
   "cell_type": "code",
   "execution_count": 3,
   "metadata": {
    "execution": {
     "iopub.execute_input": "2023-01-04T23:58:34.858193Z",
     "iopub.status.busy": "2023-01-04T23:58:34.858009Z",
     "iopub.status.idle": "2023-01-04T23:58:34.861443Z",
     "shell.execute_reply": "2023-01-04T23:58:34.860767Z"
    }
   },
   "outputs": [],
   "source": [
    "# Wrap the model up for use by Certifai as a local model\n",
    "svm_model_proxy = CertifaiPredictorWrapper(svm_model, encoder=encoder)\n",
    "logistic_model_proxy = CertifaiPredictorWrapper(logistic_model, encoder=encoder)"
   ]
  },
  {
   "cell_type": "code",
   "execution_count": 4,
   "metadata": {
    "execution": {
     "iopub.execute_input": "2023-01-04T23:58:34.864395Z",
     "iopub.status.busy": "2023-01-04T23:58:34.864233Z",
     "iopub.status.idle": "2023-01-04T23:58:34.869546Z",
     "shell.execute_reply": "2023-01-04T23:58:34.868879Z"
    }
   },
   "outputs": [],
   "source": [
    "# Create the scan object from scratch using the ScanBuilder class\n",
    "\n",
    "# First define the possible prediction outcomes\n",
    "task = CertifaiPredictionTask(CertifaiTaskOutcomes.classification(\n",
    "    [\n",
    "        CertifaiOutcomeValue(1, name='Loan granted', favorable=True),\n",
    "        CertifaiOutcomeValue(2, name='Loan denied')\n",
    "    ]),\n",
    "    prediction_description='Determine whether a loan should be granted')\n",
    "\n",
    "scan = CertifaiScanBuilder.create('test_use_case',\n",
    "                                  prediction_task=task)\n",
    "\n",
    "# Add our local models\n",
    "first_model = CertifaiModel('SVM',\n",
    "                            local_predictor=svm_model_proxy)\n",
    "scan.add_model(first_model)\n",
    "second_model = CertifaiModel('logistic',\n",
    "                            local_predictor=logistic_model_proxy)\n",
    "scan.add_model(second_model)\n",
    "\n",
    "# Add the eval dataset\n",
    "eval_dataset = CertifaiDataset('evaluation',\n",
    "                               CertifaiDatasetSource.csv(all_data_file))\n",
    "scan.add_dataset(eval_dataset)\n",
    "\n",
    "# Setup an evaluation for fairness on the above dataset using the model\n",
    "# We'll look at disparity between groups defined by marital status and age\n",
    "scan.add_fairness_grouping_feature(CertifaiGroupingFeature('age'))\n",
    "scan.add_fairness_grouping_feature(CertifaiGroupingFeature('status'))\n",
    "scan.add_evaluation_type('fairness')\n",
    "scan.evaluation_dataset_id = 'evaluation'\n",
    "\n",
    "# Because the dataset contains a ground truth outcome column which the model does not\n",
    "# expect to receive as input we need to state that in the dataset schema (since it cannot\n",
    "# be inferred from the CSV)\n",
    "scan.dataset_schema.outcome_feature_name = 'outcome'"
   ]
  },
  {
   "cell_type": "code",
   "execution_count": 5,
   "metadata": {
    "execution": {
     "iopub.execute_input": "2023-01-04T23:58:34.872349Z",
     "iopub.status.busy": "2023-01-04T23:58:34.872173Z",
     "iopub.status.idle": "2023-01-05T00:01:53.772577Z",
     "shell.execute_reply": "2023-01-05T00:01:53.771829Z"
    }
   },
   "outputs": [
    {
     "name": "stderr",
     "output_type": "stream",
     "text": [
      "2023-01-04 17:58:34,959 root   WARNING  Insufficient examples of some fairness classes to guarantee convergence (smallest included class size is for status='male : divorced/separated' with 50 samples)\n"
     ]
    },
    {
     "name": "stdout",
     "output_type": "stream",
     "text": [
      "Starting Preflight Scan\n",
      "[--------------------] 2023-01-04 17:58:34.917041 - 0 of 10 checks (0.0% complete) - Running model nondeterminism preflight check for model SVM\n",
      "[##------------------] 2023-01-04 17:58:34.949056 - 1 of 10 checks (10.0% complete) - Running scan time estimate preflight check for model SVM\n"
     ]
    },
    {
     "name": "stderr",
     "output_type": "stream",
     "text": [
      "2023-01-04 18:01:06,913 root   WARNING  Insufficient examples of some fairness classes to guarantee convergence (smallest included class size is for status='male : divorced/separated' with 50 samples)\n"
     ]
    },
    {
     "name": "stdout",
     "output_type": "stream",
     "text": [
      "[####----------------] 2023-01-04 18:01:06.868127 - 2 of 10 checks (20.0% complete) - Running one hot checker class preflight check for model SVM\n",
      "[######--------------] 2023-01-04 18:01:06.868317 - 3 of 10 checks (30.0% complete) - Running unknown outcome class preflight check for model SVM\n",
      "[########------------] 2023-01-04 18:01:06.875923 - 4 of 10 checks (40.0% complete) - Running fairness class samples preflight check for model SVM\n",
      "[##########----------] 2023-01-04 18:01:06.879113 - 5 of 10 checks (50.0% complete) - Finished all preflight checks for model SVM\n",
      "[##########----------] 2023-01-04 18:01:06.879160 - 5 of 10 checks (50.0% complete) - Running model nondeterminism preflight check for model logistic\n",
      "[############--------] 2023-01-04 18:01:06.902483 - 6 of 10 checks (60.0% complete) - Running scan time estimate preflight check for model logistic\n",
      "[##############------] 2023-01-04 18:01:53.761191 - 7 of 10 checks (70.0% complete) - Running one hot checker class preflight check for model logistic\n",
      "[################----] 2023-01-04 18:01:53.761449 - 8 of 10 checks (80.0% complete) - Running unknown outcome class preflight check for model logistic\n",
      "[##################--] 2023-01-04 18:01:53.764132 - 9 of 10 checks (90.0% complete) - Running fairness class samples preflight check for model logistic\n",
      "[####################] 2023-01-04 18:01:53.767579 - 10 of 10 checks (100.0% complete) - Finished all preflight checks for model logistic\n",
      "{'SVM': {'errors': [],\n",
      "         'messages': ['Passed model non determinism check',\n",
      "                      'Expected time for fairness analysis is 463 seconds',\n",
      "                      'Model SVM passed time estimation check',\n",
      "                      'Passed unknown outcome classes check'],\n",
      "         'warnings': [\"Fairness grouping attribute 'status' has small sample \"\n",
      "                      \"size for 'male : divorced/separated' with 50 examples\",\n",
      "                      \"Fairness grouping attribute 'status' has small sample \"\n",
      "                      \"size for 'male : married/widowed' with 92 examples\"]},\n",
      " 'logistic': {'errors': [],\n",
      "              'messages': ['Passed model non determinism check',\n",
      "                           'Expected time for fairness analysis is 153 seconds',\n",
      "                           'Model logistic passed time estimation check',\n",
      "                           'Passed unknown outcome classes check'],\n",
      "              'warnings': [\"Fairness grouping attribute 'status' has small \"\n",
      "                           \"sample size for 'male : divorced/separated' with \"\n",
      "                           '50 examples',\n",
      "                           \"Fairness grouping attribute 'status' has small \"\n",
      "                           \"sample size for 'male : married/widowed' with 92 \"\n",
      "                           'examples']}}\n"
     ]
    }
   ],
   "source": [
    "# Run a preflight scan\n",
    "# The preflight scan will run various checks against each model to alert about possible situations\n",
    "# that may impact your scan, as well as produce a time estimate for your scan. A preflight report\n",
    "# will be written per model that contains various data from the preflight scan, which will be\n",
    "# used to offer time estimates when running future scans.\n",
    "preflight_result = scan.run_preflight()\n",
    "\n",
    "# The result is a dictionary of dictionaries of observations from the preflight scan. The top\n",
    "# level dict key is the model id and the second level is the type of observation (e.g. messages, warnings, errors)\n",
    "pprint.pprint(preflight_result)"
   ]
  },
  {
   "cell_type": "code",
   "execution_count": 6,
   "metadata": {
    "execution": {
     "iopub.execute_input": "2023-01-05T00:01:53.776167Z",
     "iopub.status.busy": "2023-01-05T00:01:53.775928Z",
     "iopub.status.idle": "2023-01-05T00:08:14.126900Z",
     "shell.execute_reply": "2023-01-05T00:08:14.126174Z"
    }
   },
   "outputs": [
    {
     "name": "stderr",
     "output_type": "stream",
     "text": [
      "2023-01-04 18:01:53,836 root   WARNING  Insufficient examples of some fairness classes to guarantee convergence (smallest included class size is for status='male : divorced/separated' with 50 samples)\n"
     ]
    },
    {
     "name": "stdout",
     "output_type": "stream",
     "text": [
      "Starting scan with model_use_case_id: 'test_use_case' and scan_id: '177840c13e04', total estimated time is 11 minutes\n",
      "[--------------------] 2023-01-04 18:01:53.823763 - 0 of 4 reports (0.0% complete) - Running fairness evaluation for model: SVM, estimated time is 463 seconds\n"
     ]
    },
    {
     "name": "stderr",
     "output_type": "stream",
     "text": [
      "2023-01-04 18:03:13,347 root   WARNING  Examples of protected class ('status', 'male : divorced/separated') exhausted before convergence after 50 samples\n",
      "2023-01-04 18:03:45,646 root   WARNING  Examples of protected class ('status', 'male : married/widowed') exhausted before convergence after 92 samples\n",
      "2023-01-04 18:05:06,870 root   WARNING  Examples of protected class ('age', '<= 25 years') exhausted before convergence after 190 samples\n",
      "2023-01-04 18:06:12,643 root   WARNING  Examples of protected class ('status', 'female : divorced/separated/married') exhausted before convergence after 310 samples\n",
      "2023-01-04 18:06:19,642 root   WARNING  Examples of protected class ('age', '> 25 years') exhausted before convergence after 810 samples\n",
      "2023-01-04 18:06:19,643 root   WARNING  Examples of protected class ('status', 'male : single') exhausted before convergence after 548 samples\n",
      "2023-01-04 18:06:31,717 root   WARNING  Insufficient examples of some fairness classes to guarantee convergence (smallest included class size is for status='male : divorced/separated' with 50 samples)\n"
     ]
    },
    {
     "name": "stdout",
     "output_type": "stream",
     "text": [
      "[#####---------------] 2023-01-04 18:06:31.704480 - 1 of 4 reports (25.0% complete) - Running atx evaluation for model: SVM\n",
      "[##########----------] 2023-01-04 18:06:31.706458 - 2 of 4 reports (50.0% complete) - Running fairness evaluation for model: logistic, estimated time is 153 seconds\n"
     ]
    },
    {
     "name": "stderr",
     "output_type": "stream",
     "text": [
      "2023-01-04 18:07:01,378 root   WARNING  Examples of protected class ('status', 'male : divorced/separated') exhausted before convergence after 50 samples\n",
      "2023-01-04 18:07:23,908 root   WARNING  Examples of protected class ('status', 'male : married/widowed') exhausted before convergence after 92 samples\n",
      "2023-01-04 18:07:36,432 root   WARNING  Examples of protected class ('age', '<= 25 years') exhausted before convergence after 190 samples\n",
      "2023-01-04 18:07:59,070 root   WARNING  Examples of protected class ('status', 'female : divorced/separated/married') exhausted before convergence after 310 samples\n",
      "2023-01-04 18:08:01,972 root   WARNING  Examples of protected class ('age', '> 25 years') exhausted before convergence after 810 samples\n",
      "2023-01-04 18:08:01,973 root   WARNING  Examples of protected class ('status', 'male : single') exhausted before convergence after 548 samples\n"
     ]
    },
    {
     "name": "stdout",
     "output_type": "stream",
     "text": [
      "[###############-----] 2023-01-04 18:08:14.121980 - 3 of 4 reports (75.0% complete) - Running atx evaluation for model: logistic\n",
      "[####################] 2023-01-04 18:08:14.123639 - 4 of 4 reports (100.0% complete) - Completed all evaluations\n"
     ]
    }
   ],
   "source": [
    "# Run the scan.\n",
    "# By default this will write the results into individual report files (one per model and evaluation\n",
    "# type) in the 'reports' directory relative to the Jupyter root.  This may be disabled by specifying\n",
    "# `write_reports=False` as below\n",
    "# The result is a dictionary of dictionaries of reports.  The top level dict key is the evaluation type\n",
    "# and the second level key is model id.\n",
    "# Reports saved as JSON (which `write_reports=True` will do) may be visualized in the console app\n",
    "result = scan.run(write_reports=False)"
   ]
  },
  {
   "cell_type": "code",
   "execution_count": 7,
   "metadata": {
    "execution": {
     "iopub.execute_input": "2023-01-05T00:08:14.130178Z",
     "iopub.status.busy": "2023-01-05T00:08:14.129959Z",
     "iopub.status.idle": "2023-01-05T00:08:14.156287Z",
     "shell.execute_reply": "2023-01-05T00:08:14.155725Z"
    }
   },
   "outputs": [
    {
     "name": "stdout",
     "output_type": "stream",
     "text": [
      "<class 'list'>\n"
     ]
    },
    {
     "data": {
      "text/html": [
       "<div>\n",
       "<style scoped>\n",
       "    .dataframe tbody tr th:only-of-type {\n",
       "        vertical-align: middle;\n",
       "    }\n",
       "\n",
       "    .dataframe tbody tr th {\n",
       "        vertical-align: top;\n",
       "    }\n",
       "\n",
       "    .dataframe thead th {\n",
       "        text-align: right;\n",
       "    }\n",
       "</style>\n",
       "<table border=\"1\" class=\"dataframe\">\n",
       "  <thead>\n",
       "    <tr style=\"text-align: right;\">\n",
       "      <th></th>\n",
       "      <th>context</th>\n",
       "      <th>type</th>\n",
       "      <th>fairness</th>\n",
       "      <th>Feature (age)</th>\n",
       "      <th>type in Feature (age)</th>\n",
       "      <th>Group details (&lt;= 25 years)</th>\n",
       "      <th>type in Feature (age)</th>\n",
       "      <th>Group details (&gt; 25 years)</th>\n",
       "      <th>Feature (status)</th>\n",
       "      <th>type in Feature (status)</th>\n",
       "      <th>Group details (female : divorced/separated/married)</th>\n",
       "      <th>type in Feature (status)</th>\n",
       "      <th>Group details (male : divorced/separated)</th>\n",
       "      <th>type in Feature (status)</th>\n",
       "      <th>Group details (male : married/widowed)</th>\n",
       "      <th>type in Feature (status)</th>\n",
       "      <th>Group details (male : single)</th>\n",
       "    </tr>\n",
       "  </thead>\n",
       "  <tbody>\n",
       "    <tr>\n",
       "      <th>SVM (burden)</th>\n",
       "      <td>SVM</td>\n",
       "      <td>burden</td>\n",
       "      <td>71.136681</td>\n",
       "      <td>73.583428</td>\n",
       "      <td>burden</td>\n",
       "      <td>0.074341</td>\n",
       "      <td>burden</td>\n",
       "      <td>0.043153</td>\n",
       "      <td>71.136681</td>\n",
       "      <td>burden</td>\n",
       "      <td>0.070199</td>\n",
       "      <td>burden</td>\n",
       "      <td>0.062857</td>\n",
       "      <td>burden</td>\n",
       "      <td>0.024193</td>\n",
       "      <td>burden</td>\n",
       "      <td>0.039666</td>\n",
       "    </tr>\n",
       "    <tr>\n",
       "      <th>logistic (burden)</th>\n",
       "      <td>logistic</td>\n",
       "      <td>burden</td>\n",
       "      <td>68.744011</td>\n",
       "      <td>68.744011</td>\n",
       "      <td>burden</td>\n",
       "      <td>0.081351</td>\n",
       "      <td>burden</td>\n",
       "      <td>0.042567</td>\n",
       "      <td>72.706751</td>\n",
       "      <td>burden</td>\n",
       "      <td>0.074222</td>\n",
       "      <td>burden</td>\n",
       "      <td>0.074287</td>\n",
       "      <td>burden</td>\n",
       "      <td>0.032653</td>\n",
       "      <td>burden</td>\n",
       "      <td>0.036696</td>\n",
       "    </tr>\n",
       "  </tbody>\n",
       "</table>\n",
       "</div>"
      ],
      "text/plain": [
       "                    context    type   fairness  Feature (age)  \\\n",
       "SVM (burden)            SVM  burden  71.136681      73.583428   \n",
       "logistic (burden)  logistic  burden  68.744011      68.744011   \n",
       "\n",
       "                  type in Feature (age)  Group details (<= 25 years)  \\\n",
       "SVM (burden)                     burden                     0.074341   \n",
       "logistic (burden)                burden                     0.081351   \n",
       "\n",
       "                  type in Feature (age)  Group details (> 25 years)  \\\n",
       "SVM (burden)                     burden                    0.043153   \n",
       "logistic (burden)                burden                    0.042567   \n",
       "\n",
       "                   Feature (status) type in Feature (status)  \\\n",
       "SVM (burden)              71.136681                   burden   \n",
       "logistic (burden)         72.706751                   burden   \n",
       "\n",
       "                   Group details (female : divorced/separated/married)  \\\n",
       "SVM (burden)                                                0.070199     \n",
       "logistic (burden)                                           0.074222     \n",
       "\n",
       "                  type in Feature (status)  \\\n",
       "SVM (burden)                        burden   \n",
       "logistic (burden)                   burden   \n",
       "\n",
       "                   Group details (male : divorced/separated)  \\\n",
       "SVM (burden)                                        0.062857   \n",
       "logistic (burden)                                   0.074287   \n",
       "\n",
       "                  type in Feature (status)  \\\n",
       "SVM (burden)                        burden   \n",
       "logistic (burden)                   burden   \n",
       "\n",
       "                   Group details (male : married/widowed)  \\\n",
       "SVM (burden)                                     0.024193   \n",
       "logistic (burden)                                0.032653   \n",
       "\n",
       "                  type in Feature (status)  Group details (male : single)  \n",
       "SVM (burden)                        burden                       0.039666  \n",
       "logistic (burden)                   burden                       0.036696  "
      ]
     },
     "metadata": {},
     "output_type": "display_data"
    }
   ],
   "source": [
    "# The result is a dictionary keyed on analysis, containing reports keyed on model id\n",
    "# The console app is the recommended way to view these, by saving the results to file\n",
    "# (see previous cell), but programmatic analysis of the result here is also possible\n",
    "print(type(result['fairness']['SVM']['fairness']['secondary_scores']))\n",
    "df = construct_scores_dataframe(scores('fairness', result), include_confidence=False)\n",
    "display(df)"
   ]
  },
  {
   "cell_type": "code",
   "execution_count": 8,
   "metadata": {
    "execution": {
     "iopub.execute_input": "2023-01-05T00:08:14.159562Z",
     "iopub.status.busy": "2023-01-05T00:08:14.159352Z",
     "iopub.status.idle": "2023-01-05T00:08:14.363575Z",
     "shell.execute_reply": "2023-01-05T00:08:14.363012Z"
    }
   },
   "outputs": [
    {
     "data": {
      "text/html": [
       "<div>\n",
       "<style scoped>\n",
       "    .dataframe tbody tr th:only-of-type {\n",
       "        vertical-align: middle;\n",
       "    }\n",
       "\n",
       "    .dataframe tbody tr th {\n",
       "        vertical-align: top;\n",
       "    }\n",
       "\n",
       "    .dataframe thead th {\n",
       "        text-align: right;\n",
       "    }\n",
       "</style>\n",
       "<table border=\"1\" class=\"dataframe\">\n",
       "  <thead>\n",
       "    <tr style=\"text-align: right;\">\n",
       "      <th></th>\n",
       "      <th>context</th>\n",
       "      <th>type</th>\n",
       "      <th>fairness</th>\n",
       "      <th>Feature (age)</th>\n",
       "      <th>Feature (age) lower bound</th>\n",
       "      <th>Feature (age) upper bound</th>\n",
       "      <th>type in Feature (age)</th>\n",
       "      <th>Group details (&lt;= 25 years)</th>\n",
       "      <th>Group details (&lt;= 25 years) lower bound</th>\n",
       "      <th>Group details (&lt;= 25 years) upper bound</th>\n",
       "      <th>...</th>\n",
       "      <th>Group details (male : divorced/separated) lower bound</th>\n",
       "      <th>Group details (male : divorced/separated) upper bound</th>\n",
       "      <th>type in Feature (status)</th>\n",
       "      <th>Group details (male : married/widowed)</th>\n",
       "      <th>Group details (male : married/widowed) lower bound</th>\n",
       "      <th>Group details (male : married/widowed) upper bound</th>\n",
       "      <th>type in Feature (status)</th>\n",
       "      <th>Group details (male : single)</th>\n",
       "      <th>Group details (male : single) lower bound</th>\n",
       "      <th>Group details (male : single) upper bound</th>\n",
       "    </tr>\n",
       "  </thead>\n",
       "  <tbody>\n",
       "    <tr>\n",
       "      <th>SVM (burden)</th>\n",
       "      <td>SVM</td>\n",
       "      <td>burden</td>\n",
       "      <td>71.136681</td>\n",
       "      <td>73.583428</td>\n",
       "      <td>63.750788</td>\n",
       "      <td>84.781690</td>\n",
       "      <td>burden</td>\n",
       "      <td>0.074341</td>\n",
       "      <td>0.060661</td>\n",
       "      <td>0.088053</td>\n",
       "      <td>...</td>\n",
       "      <td>0.037037</td>\n",
       "      <td>0.093617</td>\n",
       "      <td>burden</td>\n",
       "      <td>0.024193</td>\n",
       "      <td>0.014351</td>\n",
       "      <td>0.035274</td>\n",
       "      <td>burden</td>\n",
       "      <td>0.039666</td>\n",
       "      <td>0.033515</td>\n",
       "      <td>0.046266</td>\n",
       "    </tr>\n",
       "    <tr>\n",
       "      <th>logistic (burden)</th>\n",
       "      <td>logistic</td>\n",
       "      <td>burden</td>\n",
       "      <td>68.744011</td>\n",
       "      <td>68.744011</td>\n",
       "      <td>59.408830</td>\n",
       "      <td>78.548514</td>\n",
       "      <td>burden</td>\n",
       "      <td>0.081351</td>\n",
       "      <td>0.067989</td>\n",
       "      <td>0.095596</td>\n",
       "      <td>...</td>\n",
       "      <td>0.049132</td>\n",
       "      <td>0.102472</td>\n",
       "      <td>burden</td>\n",
       "      <td>0.032653</td>\n",
       "      <td>0.020000</td>\n",
       "      <td>0.046073</td>\n",
       "      <td>burden</td>\n",
       "      <td>0.036696</td>\n",
       "      <td>0.030438</td>\n",
       "      <td>0.043301</td>\n",
       "    </tr>\n",
       "  </tbody>\n",
       "</table>\n",
       "<p>2 rows × 33 columns</p>\n",
       "</div>"
      ],
      "text/plain": [
       "                    context    type   fairness  Feature (age)  \\\n",
       "SVM (burden)            SVM  burden  71.136681      73.583428   \n",
       "logistic (burden)  logistic  burden  68.744011      68.744011   \n",
       "\n",
       "                   Feature (age) lower bound  Feature (age) upper bound  \\\n",
       "SVM (burden)                       63.750788                  84.781690   \n",
       "logistic (burden)                  59.408830                  78.548514   \n",
       "\n",
       "                  type in Feature (age)  Group details (<= 25 years)  \\\n",
       "SVM (burden)                     burden                     0.074341   \n",
       "logistic (burden)                burden                     0.081351   \n",
       "\n",
       "                   Group details (<= 25 years) lower bound  \\\n",
       "SVM (burden)                                      0.060661   \n",
       "logistic (burden)                                 0.067989   \n",
       "\n",
       "                   Group details (<= 25 years) upper bound  ...  \\\n",
       "SVM (burden)                                      0.088053  ...   \n",
       "logistic (burden)                                 0.095596  ...   \n",
       "\n",
       "                  Group details (male : divorced/separated) lower bound  \\\n",
       "SVM (burden)                                                0.037037      \n",
       "logistic (burden)                                           0.049132      \n",
       "\n",
       "                   Group details (male : divorced/separated) upper bound  \\\n",
       "SVM (burden)                                                0.093617       \n",
       "logistic (burden)                                           0.102472       \n",
       "\n",
       "                   type in Feature (status)  \\\n",
       "SVM (burden)                         burden   \n",
       "logistic (burden)                    burden   \n",
       "\n",
       "                   Group details (male : married/widowed)  \\\n",
       "SVM (burden)                                     0.024193   \n",
       "logistic (burden)                                0.032653   \n",
       "\n",
       "                   Group details (male : married/widowed) lower bound  \\\n",
       "SVM (burden)                                                0.014351    \n",
       "logistic (burden)                                           0.020000    \n",
       "\n",
       "                   Group details (male : married/widowed) upper bound  \\\n",
       "SVM (burden)                                                0.035274    \n",
       "logistic (burden)                                           0.046073    \n",
       "\n",
       "                   type in Feature (status) Group details (male : single)  \\\n",
       "SVM (burden)                         burden                      0.039666   \n",
       "logistic (burden)                    burden                      0.036696   \n",
       "\n",
       "                   Group details (male : single) lower bound  \\\n",
       "SVM (burden)                                        0.033515   \n",
       "logistic (burden)                                   0.030438   \n",
       "\n",
       "                   Group details (male : single) upper bound  \n",
       "SVM (burden)                                        0.046266  \n",
       "logistic (burden)                                   0.043301  \n",
       "\n",
       "[2 rows x 33 columns]"
      ]
     },
     "metadata": {},
     "output_type": "display_data"
    },
    {
     "name": "stdout",
     "output_type": "stream",
     "text": [
      "\n",
      "\n"
     ]
    },
    {
     "data": {
      "image/png": "[encoded data removed]",
      "text/plain": [
       "<Figure size 1200x400 with 1 Axes>"
      ]
     },
     "metadata": {},
     "output_type": "display_data"
    }
   ],
   "source": [
    "# Many scores also come with 95% confidence bounds, which we omitted above for the sake of brevity, but\n",
    "# we can include those also.  In the example here we include the confidence bounds but only display the scores\n",
    "# to a reduced level of detail to keep a smallish table for display purposes\n",
    "df = construct_scores_dataframe(scores('fairness', result, max_depth=1))\n",
    "\n",
    "display(df)\n",
    "\n",
    "print(\"\\n\")\n",
    "\n",
    "# Let's chart the fairness measure by feature for each model together with its confidence bounds for\n",
    "# easier visual comparison:\n",
    "%matplotlib inline\n",
    "import matplotlib.pyplot as plt\n",
    "\n",
    "features = ['Feature (status)', 'Feature (age)']\n",
    "feature_scores = df[features]\n",
    "feature_lower_bounds = df[[f + ' lower bound' for f in features]]\n",
    "feature_upper_bounds = df[[f + ' upper bound' for f in features]]\n",
    "\n",
    "fig, ax = plt.subplots(figsize=[12,4])\n",
    "ax.set_title('Feature fairness by model', fontsize=20)\n",
    "colors = ['tab:blue', 'tab:orange', 'tab:green', 'tab:red', 'tab:pink']\n",
    "width = 0.4\n",
    "\n",
    "ax.set_xticks(np.arange(len(features))+width)\n",
    "ax.set_xticklabels(features)\n",
    "\n",
    "for idx in range(len(df)):\n",
    "    central_values = list(feature_scores.iloc[idx])\n",
    "    lower_bounds = list(feature_lower_bounds.iloc[idx])\n",
    "    upper_bounds = list(feature_upper_bounds.iloc[idx])\n",
    "    lower_errors = [central_values[i] - lower_bounds[i] for i in range(len(central_values))]\n",
    "    upper_errors = [upper_bounds[i] - central_values[i] for i in range(len(central_values))]\n",
    "\n",
    "    ax.bar([width/2+idx*width+f_idx for f_idx in range(len(features))],\n",
    "            central_values,\n",
    "            width,\n",
    "            yerr=[lower_errors, upper_errors],\n",
    "            color=colors[idx],\n",
    "            label=df.index[idx],\n",
    "            capsize=10)\n",
    "\n",
    "fig.legend(fontsize=14, bbox_to_anchor=(1.1,.6))\n",
    "fig.tight_layout()\n",
    "fig.subplots_adjust(right=0.8) \n",
    "plt.show()"
   ]
  },
  {
   "cell_type": "code",
   "execution_count": 9,
   "metadata": {
    "execution": {
     "iopub.execute_input": "2023-01-05T00:08:14.366713Z",
     "iopub.status.busy": "2023-01-05T00:08:14.366516Z",
     "iopub.status.idle": "2023-01-05T00:08:14.380836Z",
     "shell.execute_reply": "2023-01-05T00:08:14.380225Z"
    }
   },
   "outputs": [
    {
     "name": "stderr",
     "output_type": "stream",
     "text": [
      "2023-01-04 18:08:14,370 root   WARNING  The model 'SVM' was locally defined and cannot be represented within a scan definition because it doesn't have a 'predict_endpoint'. A default value of '<UNKNOWN_ENDPOINT>' will be used in the exported YAML for the models 'predict_endpoint'. Before running a scan with the exported YAML, you should deploy the model and update the 'SVM' models metadata in the scan definition.\n",
      "2023-01-04 18:08:14,371 root   WARNING  The model 'logistic' was locally defined and cannot be represented within a scan definition because it doesn't have a 'predict_endpoint'. A default value of '<UNKNOWN_ENDPOINT>' will be used in the exported YAML for the models 'predict_endpoint'. Before running a scan with the exported YAML, you should deploy the model and update the 'logistic' models metadata in the scan definition.\n"
     ]
    },
    {
     "name": "stdout",
     "output_type": "stream",
     "text": [
      "Saved template to: /var/folders/fp/61zjyp_54tv05lfbp3vwp72c0000gq/T/tmpkiz29if_\n"
     ]
    }
   ],
   "source": [
    "# We can also persist the template we built and reuse it later as illustrated here\n",
    "import tempfile\n",
    "import yaml\n",
    "\n",
    "temp_file = tempfile.mktemp()\n",
    "with open(temp_file, \"w\") as f:\n",
    "    scan.save(f)\n",
    "    print(f\"Saved template to: {temp_file}\")"
   ]
  },
  {
   "cell_type": "code",
   "execution_count": 10,
   "metadata": {
    "execution": {
     "iopub.execute_input": "2023-01-05T00:08:14.383919Z",
     "iopub.status.busy": "2023-01-05T00:08:14.383712Z",
     "iopub.status.idle": "2023-01-05T00:08:14.397077Z",
     "shell.execute_reply": "2023-01-05T00:08:14.396518Z"
    }
   },
   "outputs": [
    {
     "name": "stderr",
     "output_type": "stream",
     "text": [
      "2023-01-04 18:08:14,393 root   WARNING  The model 'SVM' was locally defined and doesn't have a valid 'predict_endpoint'. Before running a scan with this model, you should deploy the model and update the 'SVM' models metadata in the scan definition.\n",
      "2023-01-04 18:08:14,394 root   WARNING  The model 'logistic' was locally defined and doesn't have a valid 'predict_endpoint'. Before running a scan with this model, you should deploy the model and update the 'logistic' models metadata in the scan definition.\n"
     ]
    }
   ],
   "source": [
    "reloaded = CertifaiScanBuilder.from_file(temp_file)\n",
    "\n",
    "# The persisted scan won't contain the model itself, so we'll need to reconnect that\n",
    "for model in reloaded.models:\n",
    "    if model.id == 'logistic':\n",
    "        model.local_predictor=logistic_model_proxy\n",
    "    elif model.id == 'SVM':\n",
    "        model.local_predictor=svm_model_proxy"
   ]
  },
  {
   "cell_type": "code",
   "execution_count": 11,
   "metadata": {
    "execution": {
     "iopub.execute_input": "2023-01-05T00:08:14.400160Z",
     "iopub.status.busy": "2023-01-05T00:08:14.399963Z",
     "iopub.status.idle": "2023-01-05T00:14:21.230775Z",
     "shell.execute_reply": "2023-01-05T00:14:21.230124Z"
    }
   },
   "outputs": [
    {
     "name": "stderr",
     "output_type": "stream",
     "text": [
      "2023-01-04 18:08:14,454 root   WARNING  Insufficient examples of some fairness classes to guarantee convergence (smallest included class size is for status='male : divorced/separated' with 50 samples)\n"
     ]
    },
    {
     "name": "stdout",
     "output_type": "stream",
     "text": [
      "[--------------------] 2023-01-04 18:08:14.442335 - 0 of 4 reports (0.0% complete) - Starting scan with model_use_case_id: 'test_use_case' and scan_id: '8f29b073bed7', total estimated time is 11 minutes\n",
      "[--------------------] 2023-01-04 18:08:14.442494 - 0 of 4 reports (0.0% complete) - Running fairness evaluation for model: SVM, estimated time is 463 seconds\n"
     ]
    },
    {
     "name": "stderr",
     "output_type": "stream",
     "text": [
      "2023-01-04 18:09:35,420 root   WARNING  Examples of protected class ('status', 'male : divorced/separated') exhausted before convergence after 50 samples\n",
      "2023-01-04 18:10:07,524 root   WARNING  Examples of protected class ('status', 'male : married/widowed') exhausted before convergence after 92 samples\n",
      "2023-01-04 18:11:14,726 root   WARNING  Examples of protected class ('age', '<= 25 years') exhausted before convergence after 190 samples\n",
      "2023-01-04 18:12:19,501 root   WARNING  Examples of protected class ('status', 'female : divorced/separated/married') exhausted before convergence after 310 samples\n",
      "2023-01-04 18:12:26,852 root   WARNING  Examples of protected class ('age', '> 25 years') exhausted before convergence after 810 samples\n",
      "2023-01-04 18:12:26,853 root   WARNING  Examples of protected class ('status', 'male : single') exhausted before convergence after 548 samples\n",
      "2023-01-04 18:12:39,205 root   WARNING  Insufficient examples of some fairness classes to guarantee convergence (smallest included class size is for status='male : divorced/separated' with 50 samples)\n"
     ]
    },
    {
     "name": "stdout",
     "output_type": "stream",
     "text": [
      "[#####---------------] 2023-01-04 18:12:39.193556 - 1 of 4 reports (25.0% complete) - Running atx evaluation for model: SVM\n",
      "[##########----------] 2023-01-04 18:12:39.195557 - 2 of 4 reports (50.0% complete) - Running fairness evaluation for model: logistic, estimated time is 153 seconds\n"
     ]
    },
    {
     "name": "stderr",
     "output_type": "stream",
     "text": [
      "2023-01-04 18:13:09,309 root   WARNING  Examples of protected class ('status', 'male : divorced/separated') exhausted before convergence after 50 samples\n",
      "2023-01-04 18:13:31,680 root   WARNING  Examples of protected class ('status', 'male : married/widowed') exhausted before convergence after 92 samples\n",
      "2023-01-04 18:13:43,901 root   WARNING  Examples of protected class ('age', '<= 25 years') exhausted before convergence after 190 samples\n",
      "2023-01-04 18:14:06,437 root   WARNING  Examples of protected class ('status', 'female : divorced/separated/married') exhausted before convergence after 310 samples\n",
      "2023-01-04 18:14:09,321 root   WARNING  Examples of protected class ('age', '> 25 years') exhausted before convergence after 810 samples\n",
      "2023-01-04 18:14:09,322 root   WARNING  Examples of protected class ('status', 'male : single') exhausted before convergence after 548 samples\n"
     ]
    },
    {
     "name": "stdout",
     "output_type": "stream",
     "text": [
      "[###############-----] 2023-01-04 18:14:21.225232 - 3 of 4 reports (75.0% complete) - Running atx evaluation for model: logistic\n",
      "[####################] 2023-01-04 18:14:21.227036 - 4 of 4 reports (100.0% complete) - Completed all evaluations\n"
     ]
    }
   ],
   "source": [
    "result = reloaded.run(write_reports=False)"
   ]
  },
  {
   "cell_type": "code",
   "execution_count": 12,
   "metadata": {
    "execution": {
     "iopub.execute_input": "2023-01-05T00:14:21.233949Z",
     "iopub.status.busy": "2023-01-05T00:14:21.233730Z",
     "iopub.status.idle": "2023-01-05T00:14:21.250097Z",
     "shell.execute_reply": "2023-01-05T00:14:21.249446Z"
    }
   },
   "outputs": [
    {
     "data": {
      "text/html": [
       "<div>\n",
       "<style scoped>\n",
       "    .dataframe tbody tr th:only-of-type {\n",
       "        vertical-align: middle;\n",
       "    }\n",
       "\n",
       "    .dataframe tbody tr th {\n",
       "        vertical-align: top;\n",
       "    }\n",
       "\n",
       "    .dataframe thead th {\n",
       "        text-align: right;\n",
       "    }\n",
       "</style>\n",
       "<table border=\"1\" class=\"dataframe\">\n",
       "  <thead>\n",
       "    <tr style=\"text-align: right;\">\n",
       "      <th></th>\n",
       "      <th>context</th>\n",
       "      <th>type</th>\n",
       "      <th>fairness</th>\n",
       "      <th>Feature (age)</th>\n",
       "      <th>type in Feature (age)</th>\n",
       "      <th>Group details (&lt;= 25 years)</th>\n",
       "      <th>type in Feature (age)</th>\n",
       "      <th>Group details (&gt; 25 years)</th>\n",
       "      <th>Feature (status)</th>\n",
       "      <th>type in Feature (status)</th>\n",
       "      <th>Group details (female : divorced/separated/married)</th>\n",
       "      <th>type in Feature (status)</th>\n",
       "      <th>Group details (male : divorced/separated)</th>\n",
       "      <th>type in Feature (status)</th>\n",
       "      <th>Group details (male : married/widowed)</th>\n",
       "      <th>type in Feature (status)</th>\n",
       "      <th>Group details (male : single)</th>\n",
       "    </tr>\n",
       "  </thead>\n",
       "  <tbody>\n",
       "    <tr>\n",
       "      <th>SVM (burden)</th>\n",
       "      <td>SVM</td>\n",
       "      <td>burden</td>\n",
       "      <td>71.136681</td>\n",
       "      <td>73.583428</td>\n",
       "      <td>burden</td>\n",
       "      <td>0.074341</td>\n",
       "      <td>burden</td>\n",
       "      <td>0.043153</td>\n",
       "      <td>71.136681</td>\n",
       "      <td>burden</td>\n",
       "      <td>0.070199</td>\n",
       "      <td>burden</td>\n",
       "      <td>0.062857</td>\n",
       "      <td>burden</td>\n",
       "      <td>0.024193</td>\n",
       "      <td>burden</td>\n",
       "      <td>0.039666</td>\n",
       "    </tr>\n",
       "    <tr>\n",
       "      <th>logistic (burden)</th>\n",
       "      <td>logistic</td>\n",
       "      <td>burden</td>\n",
       "      <td>68.744011</td>\n",
       "      <td>68.744011</td>\n",
       "      <td>burden</td>\n",
       "      <td>0.081351</td>\n",
       "      <td>burden</td>\n",
       "      <td>0.042567</td>\n",
       "      <td>72.706751</td>\n",
       "      <td>burden</td>\n",
       "      <td>0.074222</td>\n",
       "      <td>burden</td>\n",
       "      <td>0.074287</td>\n",
       "      <td>burden</td>\n",
       "      <td>0.032653</td>\n",
       "      <td>burden</td>\n",
       "      <td>0.036696</td>\n",
       "    </tr>\n",
       "  </tbody>\n",
       "</table>\n",
       "</div>"
      ],
      "text/plain": [
       "                    context    type   fairness  Feature (age)  \\\n",
       "SVM (burden)            SVM  burden  71.136681      73.583428   \n",
       "logistic (burden)  logistic  burden  68.744011      68.744011   \n",
       "\n",
       "                  type in Feature (age)  Group details (<= 25 years)  \\\n",
       "SVM (burden)                     burden                     0.074341   \n",
       "logistic (burden)                burden                     0.081351   \n",
       "\n",
       "                  type in Feature (age)  Group details (> 25 years)  \\\n",
       "SVM (burden)                     burden                    0.043153   \n",
       "logistic (burden)                burden                    0.042567   \n",
       "\n",
       "                   Feature (status) type in Feature (status)  \\\n",
       "SVM (burden)              71.136681                   burden   \n",
       "logistic (burden)         72.706751                   burden   \n",
       "\n",
       "                   Group details (female : divorced/separated/married)  \\\n",
       "SVM (burden)                                                0.070199     \n",
       "logistic (burden)                                           0.074222     \n",
       "\n",
       "                  type in Feature (status)  \\\n",
       "SVM (burden)                        burden   \n",
       "logistic (burden)                   burden   \n",
       "\n",
       "                   Group details (male : divorced/separated)  \\\n",
       "SVM (burden)                                        0.062857   \n",
       "logistic (burden)                                   0.074287   \n",
       "\n",
       "                  type in Feature (status)  \\\n",
       "SVM (burden)                        burden   \n",
       "logistic (burden)                   burden   \n",
       "\n",
       "                   Group details (male : married/widowed)  \\\n",
       "SVM (burden)                                     0.024193   \n",
       "logistic (burden)                                0.032653   \n",
       "\n",
       "                  type in Feature (status)  Group details (male : single)  \n",
       "SVM (burden)                        burden                       0.039666  \n",
       "logistic (burden)                   burden                       0.036696  "
      ]
     },
     "execution_count": 12,
     "metadata": {},
     "output_type": "execute_result"
    }
   ],
   "source": [
    "construct_scores_dataframe(scores('fairness', result), include_confidence=False)"
   ]
  },
  {
   "cell_type": "code",
   "execution_count": 13,
   "metadata": {
    "execution": {
     "iopub.execute_input": "2023-01-05T00:14:21.252971Z",
     "iopub.status.busy": "2023-01-05T00:14:21.252786Z",
     "iopub.status.idle": "2023-01-05T00:20:31.875610Z",
     "shell.execute_reply": "2023-01-05T00:20:31.874811Z"
    }
   },
   "outputs": [
    {
     "name": "stderr",
     "output_type": "stream",
     "text": [
      "2023-01-04 18:14:21,302 root   WARNING  Insufficient examples of some fairness classes to guarantee convergence (smallest included class size is for status='male : divorced/separated' with 50 samples)\n"
     ]
    },
    {
     "name": "stdout",
     "output_type": "stream",
     "text": [
      "[--------------------] 2023-01-04 18:14:21.292462 - 0 of 4 reports (0.0% complete) - Starting scan with model_use_case_id: 'test_use_case' and scan_id: 'f38985b0b102', total estimated time is 11 minutes\n",
      "[--------------------] 2023-01-04 18:14:21.292643 - 0 of 4 reports (0.0% complete) - Running fairness evaluation for model: SVM, estimated time is 463 seconds\n"
     ]
    },
    {
     "name": "stderr",
     "output_type": "stream",
     "text": [
      "2023-01-04 18:15:41,396 root   WARNING  Examples of protected class ('status', 'male : divorced/separated') exhausted before convergence after 50 samples\n",
      "2023-01-04 18:16:13,870 root   WARNING  Examples of protected class ('status', 'male : married/widowed') exhausted before convergence after 92 samples\n",
      "2023-01-04 18:17:23,136 root   WARNING  Examples of protected class ('age', '<= 25 years') exhausted before convergence after 190 samples\n",
      "2023-01-04 18:18:29,081 root   WARNING  Examples of protected class ('status', 'female : divorced/separated/married') exhausted before convergence after 310 samples\n",
      "2023-01-04 18:18:36,186 root   WARNING  Examples of protected class ('age', '> 25 years') exhausted before convergence after 810 samples\n",
      "2023-01-04 18:18:36,187 root   WARNING  Examples of protected class ('status', 'male : single') exhausted before convergence after 548 samples\n",
      "2023-01-04 18:18:48,234 root   WARNING  Insufficient examples of some fairness classes to guarantee convergence (smallest included class size is for status='male : divorced/separated' with 50 samples)\n"
     ]
    },
    {
     "name": "stdout",
     "output_type": "stream",
     "text": [
      "[#####---------------] 2023-01-04 18:18:48.221905 - 1 of 4 reports (25.0% complete) - Running atx evaluation for model: SVM\n",
      "[##########----------] 2023-01-04 18:18:48.224778 - 2 of 4 reports (50.0% complete) - Running fairness evaluation for model: logistic, estimated time is 153 seconds\n"
     ]
    },
    {
     "name": "stderr",
     "output_type": "stream",
     "text": [
      "2023-01-04 18:19:18,733 root   WARNING  Examples of protected class ('status', 'male : divorced/separated') exhausted before convergence after 50 samples\n",
      "2023-01-04 18:19:41,359 root   WARNING  Examples of protected class ('status', 'male : married/widowed') exhausted before convergence after 92 samples\n",
      "2023-01-04 18:19:53,738 root   WARNING  Examples of protected class ('age', '<= 25 years') exhausted before convergence after 190 samples\n",
      "2023-01-04 18:20:16,711 root   WARNING  Examples of protected class ('status', 'female : divorced/separated/married') exhausted before convergence after 310 samples\n",
      "2023-01-04 18:20:19,655 root   WARNING  Examples of protected class ('age', '> 25 years') exhausted before convergence after 810 samples\n",
      "2023-01-04 18:20:19,656 root   WARNING  Examples of protected class ('status', 'male : single') exhausted before convergence after 548 samples\n"
     ]
    },
    {
     "name": "stdout",
     "output_type": "stream",
     "text": [
      "[###############-----] 2023-01-04 18:20:31.869805 - 3 of 4 reports (75.0% complete) - Running atx evaluation for model: logistic\n",
      "[####################] 2023-01-04 18:20:31.872244 - 4 of 4 reports (100.0% complete) - Completed all evaluations\n"
     ]
    }
   ],
   "source": [
    "# We can also process dataframes we have locally already loaded in Pandas rather than\n",
    "# requiring them to initially be saved off as CSV/JSON files\n",
    "df2 = pd.read_csv(all_data_file)\n",
    "\n",
    "# Add this already loaded data as a new dataset and switch to evaluate it\n",
    "loaded_dataset = CertifaiDataset('loaded', CertifaiDatasetSource.dataframe(df2))\n",
    "reloaded.add_dataset(loaded_dataset)\n",
    "reloaded.evaluation_dataset_id = 'loaded'\n",
    "\n",
    "result = reloaded.run()"
   ]
  },
  {
   "cell_type": "code",
   "execution_count": 14,
   "metadata": {
    "execution": {
     "iopub.execute_input": "2023-01-05T00:20:31.878631Z",
     "iopub.status.busy": "2023-01-05T00:20:31.878406Z",
     "iopub.status.idle": "2023-01-05T00:20:31.893235Z",
     "shell.execute_reply": "2023-01-05T00:20:31.892674Z"
    }
   },
   "outputs": [
    {
     "data": {
      "text/html": [
       "<div>\n",
       "<style scoped>\n",
       "    .dataframe tbody tr th:only-of-type {\n",
       "        vertical-align: middle;\n",
       "    }\n",
       "\n",
       "    .dataframe tbody tr th {\n",
       "        vertical-align: top;\n",
       "    }\n",
       "\n",
       "    .dataframe thead th {\n",
       "        text-align: right;\n",
       "    }\n",
       "</style>\n",
       "<table border=\"1\" class=\"dataframe\">\n",
       "  <thead>\n",
       "    <tr style=\"text-align: right;\">\n",
       "      <th></th>\n",
       "      <th>context</th>\n",
       "      <th>type</th>\n",
       "      <th>fairness</th>\n",
       "      <th>Feature (age)</th>\n",
       "      <th>type in Feature (age)</th>\n",
       "      <th>Group details (&lt;= 25 years)</th>\n",
       "      <th>type in Feature (age)</th>\n",
       "      <th>Group details (&gt; 25 years)</th>\n",
       "      <th>Feature (status)</th>\n",
       "      <th>type in Feature (status)</th>\n",
       "      <th>Group details (female : divorced/separated/married)</th>\n",
       "      <th>type in Feature (status)</th>\n",
       "      <th>Group details (male : divorced/separated)</th>\n",
       "      <th>type in Feature (status)</th>\n",
       "      <th>Group details (male : married/widowed)</th>\n",
       "      <th>type in Feature (status)</th>\n",
       "      <th>Group details (male : single)</th>\n",
       "    </tr>\n",
       "  </thead>\n",
       "  <tbody>\n",
       "    <tr>\n",
       "      <th>SVM (burden)</th>\n",
       "      <td>SVM</td>\n",
       "      <td>burden</td>\n",
       "      <td>71.136681</td>\n",
       "      <td>73.583428</td>\n",
       "      <td>burden</td>\n",
       "      <td>0.074341</td>\n",
       "      <td>burden</td>\n",
       "      <td>0.043153</td>\n",
       "      <td>71.136681</td>\n",
       "      <td>burden</td>\n",
       "      <td>0.070199</td>\n",
       "      <td>burden</td>\n",
       "      <td>0.062857</td>\n",
       "      <td>burden</td>\n",
       "      <td>0.024193</td>\n",
       "      <td>burden</td>\n",
       "      <td>0.039666</td>\n",
       "    </tr>\n",
       "    <tr>\n",
       "      <th>logistic (burden)</th>\n",
       "      <td>logistic</td>\n",
       "      <td>burden</td>\n",
       "      <td>68.744011</td>\n",
       "      <td>68.744011</td>\n",
       "      <td>burden</td>\n",
       "      <td>0.081351</td>\n",
       "      <td>burden</td>\n",
       "      <td>0.042567</td>\n",
       "      <td>72.706751</td>\n",
       "      <td>burden</td>\n",
       "      <td>0.074222</td>\n",
       "      <td>burden</td>\n",
       "      <td>0.074287</td>\n",
       "      <td>burden</td>\n",
       "      <td>0.032653</td>\n",
       "      <td>burden</td>\n",
       "      <td>0.036696</td>\n",
       "    </tr>\n",
       "  </tbody>\n",
       "</table>\n",
       "</div>"
      ],
      "text/plain": [
       "                    context    type   fairness  Feature (age)  \\\n",
       "SVM (burden)            SVM  burden  71.136681      73.583428   \n",
       "logistic (burden)  logistic  burden  68.744011      68.744011   \n",
       "\n",
       "                  type in Feature (age)  Group details (<= 25 years)  \\\n",
       "SVM (burden)                     burden                     0.074341   \n",
       "logistic (burden)                burden                     0.081351   \n",
       "\n",
       "                  type in Feature (age)  Group details (> 25 years)  \\\n",
       "SVM (burden)                     burden                    0.043153   \n",
       "logistic (burden)                burden                    0.042567   \n",
       "\n",
       "                   Feature (status) type in Feature (status)  \\\n",
       "SVM (burden)              71.136681                   burden   \n",
       "logistic (burden)         72.706751                   burden   \n",
       "\n",
       "                   Group details (female : divorced/separated/married)  \\\n",
       "SVM (burden)                                                0.070199     \n",
       "logistic (burden)                                           0.074222     \n",
       "\n",
       "                  type in Feature (status)  \\\n",
       "SVM (burden)                        burden   \n",
       "logistic (burden)                   burden   \n",
       "\n",
       "                   Group details (male : divorced/separated)  \\\n",
       "SVM (burden)                                        0.062857   \n",
       "logistic (burden)                                   0.074287   \n",
       "\n",
       "                  type in Feature (status)  \\\n",
       "SVM (burden)                        burden   \n",
       "logistic (burden)                   burden   \n",
       "\n",
       "                   Group details (male : married/widowed)  \\\n",
       "SVM (burden)                                     0.024193   \n",
       "logistic (burden)                                0.032653   \n",
       "\n",
       "                  type in Feature (status)  Group details (male : single)  \n",
       "SVM (burden)                        burden                       0.039666  \n",
       "logistic (burden)                   burden                       0.036696  "
      ]
     },
     "execution_count": 14,
     "metadata": {},
     "output_type": "execute_result"
    }
   ],
   "source": [
    "construct_scores_dataframe(scores('fairness', result), include_confidence=False)"
   ]
  },
  {
   "cell_type": "code",
   "execution_count": 15,
   "metadata": {
    "execution": {
     "iopub.execute_input": "2023-01-05T00:20:31.896243Z",
     "iopub.status.busy": "2023-01-05T00:20:31.896057Z",
     "iopub.status.idle": "2023-01-05T00:20:31.918693Z",
     "shell.execute_reply": "2023-01-05T00:20:31.918077Z"
    }
   },
   "outputs": [
    {
     "name": "stderr",
     "output_type": "stream",
     "text": [
      "2023-01-04 18:20:31,906 root   WARNING  The model 'SVM' was locally defined and doesn't have a valid 'predict_endpoint'. Before running a scan with this model, you should deploy the model and update the 'SVM' models metadata in the scan definition.\n",
      "2023-01-04 18:20:31,907 root   WARNING  The model 'logistic' was locally defined and doesn't have a valid 'predict_endpoint'. Before running a scan with this model, you should deploy the model and update the 'logistic' models metadata in the scan definition.\n"
     ]
    },
    {
     "name": "stdout",
     "output_type": "stream",
     "text": [
      "datasets:\n",
      "- dataset_id: evaluation\n",
      "  url: somefile.csv\n",
      "  has_header: true\n",
      "  file_type: csv\n",
      "  delimiter: ','\n",
      "  quote_character: '\"'\n",
      "models:\n",
      "- model_id: SVM\n",
      "  name: SVM\n",
      "  predict_endpoint: http://mymodel/predict\n",
      "  prediction_value_order:\n",
      "  - 1\n",
      "  - 2\n",
      "- model_id: logistic\n",
      "  name: logistic\n",
      "  predict_endpoint: <UNKNOWN_ENDPOINT>\n",
      "  prediction_value_order:\n",
      "  - 1\n",
      "  - 2\n",
      "model_use_case:\n",
      "  name: test_use_case\n",
      "  model_use_case_id: test_use_case\n",
      "  task_type: binary-classification\n",
      "evaluation:\n",
      "  evaluation_dataset_id: evaluation\n",
      "  evaluation_types:\n",
      "  - fairness\n",
      "  fairness_grouping_features:\n",
      "  - name: age\n",
      "  - name: status\n",
      "  prediction_values:\n",
      "  - name: Loan granted\n",
      "    value: 1\n",
      "    favorable: true\n",
      "  - name: Loan denied\n",
      "    value: 2\n",
      "    favorable: false\n",
      "  prediction_favorability: explicit\n",
      "  name: test_use_case\n",
      "  prediction_description: Determine whether a loan should be granted\n",
      "dataset_schema:\n",
      "  outcome_column: outcome\n",
      "\n"
     ]
    }
   ],
   "source": [
    "# Having developed a scan definition we'll eventually want to be able to export it for use in\n",
    "# scans of a deployed model.  The main differences then will be:\n",
    "#  * The model won't be local to the scanner, but will be accessed via the network\n",
    "#  * The dataset won't be in a local DataFrame but will always be read from (possibly network attached) storage\n",
    "# This means that the scan template used by the scanner will need dataset sourcing details filling in, and model\n",
    "# endpoint address specifying.  This can either be done by a post-hoc hand edit of the produced YAML (the file we\n",
    "# saved off earlier to illustrate persisting the template), or we can add those details programatically prior to\n",
    "# exporting as illustrated below\n",
    "exportable_scan = CertifaiScanBuilder.from_file(temp_file)  # reload the scan we've been using in the notebook\n",
    "exportable_scan.models[0].predict_endpoint = 'http://mymodel/predict'\n",
    "exportable_scan.datasets[0].source = CertifaiDatasetSource.csv('somefile.csv')\n",
    "\n",
    "# Export the updated scan as YAML for use by the scanner (we won't actually save it here - just print it)\n",
    "scan_yaml = exportable_scan.extract_yaml() # could use the method `save` to write direct to a file\n",
    "print(scan_yaml)"
   ]
  },
  {
   "cell_type": "code",
   "execution_count": null,
   "metadata": {},
   "outputs": [],
   "source": []
  }
 ],
 "metadata": {
  "kernelspec": {
   "display_name": "Python 3 (ipykernel)",
   "language": "python",
   "name": "python3"
  },
  "language_info": {
   "codemirror_mode": {
    "name": "ipython",
    "version": 3
   },
   "file_extension": ".py",
   "mimetype": "text/x-python",
   "name": "python",
   "nbconvert_exporter": "python",
   "pygments_lexer": "ipython3",
   "version": "3.8.15"
  }
 },
 "nbformat": 4,
 "nbformat_minor": 4
}
