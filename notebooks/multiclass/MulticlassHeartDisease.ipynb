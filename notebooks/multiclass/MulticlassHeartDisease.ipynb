{
 "cells": [
  {
   "cell_type": "markdown",
   "metadata": {},
   "source": [
    "Copyright (c) 2020. Cognitive Scale Inc. All rights reserved.\n",
    "Licensed under CognitiveScale Example Code [License](https://github.com/CognitiveScale/cortex-certifai-examples/blob/master/LICENSE.md)\n"
   ]
  },
  {
   "cell_type": "markdown",
   "metadata": {},
   "source": [
    "# Building a scan programmatically for a multiclass classification use case\n",
    "\n",
    "In this notebook we will build local multiclass classification models that predict the presence of heart disease (angiographic disease status), and we will run two scans framing the use case as a partitioned and ordered multiclass classification tasks respectively. Each scan will include Robustness, Fairness, Explainability, Explanation, and Performance. \n",
    "\n",
    "The dataset used in this notebook is originally from: http://archive.ics.uci.edu/ml/datasets/Heart+Disease"
   ]
  },
  {
   "cell_type": "code",
   "execution_count": 1,
   "metadata": {},
   "outputs": [],
   "source": [
    "import pandas as pd\n",
    "import matplotlib.pyplot as plt\n",
    "from IPython.display import display\n",
    "from sklearn.model_selection import train_test_split\n",
    "import numpy as np\n",
    "import random\n",
    "import pprint\n",
    "\n",
    "from sklearn.svm import SVC\n",
    "from sklearn.linear_model import LogisticRegression\n",
    "from sklearn.model_selection import GridSearchCV\n",
    "\n",
    "from certifai.common.utils.encoding import CatEncoder\n",
    "from certifai.scanner.builder import (CertifaiScanBuilder, CertifaiPredictorWrapper, CertifaiModel, CertifaiModelMetric,\n",
    "                                      CertifaiDataset, CertifaiGroupingFeature, CertifaiDatasetSource, CertifaiGroupingBucket,\n",
    "                                      CertifaiPredictionTask, CertifaiTaskOutcomes, CertifaiOutcomeValue)\n",
    "from certifai.scanner.report_utils import scores, construct_scores_dataframe\n",
    "from certifai.scanner.explanation_utils import explanations, construct_explanations_dataframe"
   ]
  },
  {
   "cell_type": "code",
   "execution_count": 2,
   "metadata": {},
   "outputs": [
    {
     "name": "stdout",
     "output_type": "stream",
     "text": [
      "Model 'SVM' accuracy is 0.6166666666666667\n",
      "Model 'logistic' accuracy is 0.6166666666666667\n"
     ]
    }
   ],
   "source": [
    "# Prepare datasets for test/train split\n",
    "base_path = '..'\n",
    "all_data_file = f\"{base_path}/datasets/heart_disease_multiclass-prepped.csv\"\n",
    "RANDOM_SEED = 42\n",
    "\n",
    "df = pd.read_csv(all_data_file)\n",
    "\n",
    "cat_columns = [\n",
    "    \"sex\",\n",
    "    \"fbs\",\n",
    "    \"exang\"\n",
    "]\n",
    "label_column = \"class_att\"\n",
    "\n",
    "\n",
    "Y = df[label_column]\n",
    "X = df.drop(label_column, axis=1)\n",
    "\n",
    "X_train, X_test, Y_train, Y_test = train_test_split(X, Y, test_size=0.20, random_state=RANDOM_SEED)\n",
    "\n",
    "encoder = CatEncoder(cat_columns, X)\n",
    "\n",
    "# Train models\n",
    "\n",
    "def build_model(data, name, model_family, test=None):\n",
    "    if test is None:\n",
    "        test = data\n",
    "        \n",
    "    if model_family == 'SVM':\n",
    "        parameters = {'kernel':('linear', 'rbf', 'poly'), 'C':[0.1, .5, 1, 2, 4, 10], 'gamma':['auto']}\n",
    "        m = SVC()\n",
    "    elif model_family == 'logistic':\n",
    "        parameters = {'C': (0.5, 1.0, 2.0), 'solver': ['lbfgs'], 'max_iter': [1000]}\n",
    "        m = LogisticRegression()\n",
    "    model = GridSearchCV(m, parameters, cv=3)\n",
    "    model.fit(data[0], data[1])\n",
    "\n",
    "    # Assess on the test data\n",
    "    accuracy = model.score(test[0], test[1].values)\n",
    "    print(f\"Model '{name}' accuracy is {accuracy}\")\n",
    "    return model\n",
    "\n",
    "\n",
    "svm_model = build_model((encoder(X_train.values), Y_train),\n",
    "                          \"SVM\",\n",
    "                          \"SVM\",\n",
    "                          (encoder(X_test.values), Y_test))\n",
    "\n",
    "logistic_model = build_model((encoder(X_train.values), Y_train),\n",
    "                          \"logistic\",\n",
    "                          \"logistic\",\n",
    "                          (encoder(X_test.values), Y_test))"
   ]
  },
  {
   "cell_type": "code",
   "execution_count": 3,
   "metadata": {},
   "outputs": [],
   "source": [
    "# Wrap the model up for use by Certifai as a local model\n",
    "svm_model_proxy = CertifaiPredictorWrapper(svm_model, encoder=encoder)\n",
    "logistic_model_proxy = CertifaiPredictorWrapper(logistic_model, encoder=encoder)"
   ]
  },
  {
   "cell_type": "markdown",
   "metadata": {},
   "source": [
    "## Running a scan as a partitioned multiclass classification use case\n",
    "\n",
    "In a partitioned multiclass classfication use case, prediction outcomes are explictly labeled as either favorable or unfavorable and are thusly partitioned into two groups. Similar to binary-classification, at most a single counterfactual will be produced per observation in the explanation report with a changing prediction from the favorable group to the unfavorable group or vice-versa.\n",
    "\n",
    "For this scan we will consider the prediction outcome of 0 (\"Heart disease not detected\") in the favorable group and prediction outcomes 1,2,3,4 as being in the unfavorable group."
   ]
  },
  {
   "cell_type": "code",
   "execution_count": 4,
   "metadata": {},
   "outputs": [],
   "source": [
    "# Create the scan object from scratch using the ScanBuilder class\n",
    "\n",
    "# Below we create the prediction task, and set the `prediction_favorability` to `explicit`. This specifies\n",
    "# that individual outcomes will be labeled as favorable or unfavorable. We also set names for the favorable and\n",
    "# unfavorable outcome groups.\n",
    "partitioned_task = CertifaiPredictionTask(CertifaiTaskOutcomes.classification(\n",
    "    [\n",
    "        CertifaiOutcomeValue(0, name=\"Heart disease not detected\", favorable=True),\n",
    "        CertifaiOutcomeValue(1, name='Stage 1: > 50% diameter narrowing in a major vessel'),\n",
    "        CertifaiOutcomeValue(2, name='Stage 2: > 50% diameter narrowing in a major vessel'),\n",
    "        CertifaiOutcomeValue(3, name='Stage 3: > 50% diameter narrowing in a major vessel'),\n",
    "        CertifaiOutcomeValue(4, name='Stage 4: > 50% diameter narrowing in a major vessel'),\n",
    "    ],\n",
    "    prediction_favorability='explicit',\n",
    "    favorable_outcome_group_name=\"Heart disease not detected\",\n",
    "    unfavorable_outcome_group_name=\"Heart disease detected\"),\n",
    "    prediction_description='Indicator of heart disease level (angiographic disease status)')\n",
    "\n",
    "scan = CertifaiScanBuilder.create(\"multiclass_test_use_case\",\n",
    "                                  prediction_task=partitioned_task)\n",
    "\n",
    "## Add models\n",
    "first_model = CertifaiModel('SVM', local_predictor=svm_model_proxy)\n",
    "scan.add_model(first_model)\n",
    "\n",
    "second_model = CertifaiModel('logistic', local_predictor=logistic_model_proxy)\n",
    "scan.add_model(second_model)\n",
    "\n",
    "## Add datasets\n",
    "eval_dataset = CertifaiDataset('evaluation', CertifaiDatasetSource.csv(all_data_file))\n",
    "scan.add_dataset(eval_dataset)\n",
    "scan.evaluation_dataset_id = 'evaluation'\n",
    "\n",
    "# Use a small sample from the evaluation dataset as our explanation dataset\n",
    "expl_df = df.sample(n=10, random_state=RANDOM_SEED)\n",
    "explan_dataset = CertifaiDataset('explanation', CertifaiDatasetSource.dataframe(expl_df))\n",
    "scan.add_dataset(explan_dataset)\n",
    "scan.explanation_dataset_id = 'explanation'\n",
    "\n",
    "test_df = pd.concat([X_test, Y_test], axis=1)\n",
    "test_dataset = CertifaiDataset('test', CertifaiDatasetSource.dataframe(test_df))\n",
    "scan.add_dataset(test_dataset)\n",
    "scan.test_dataset_id = 'test'\n",
    "\n",
    "# Because the dataset contains a ground truth outcome column which the model does not\n",
    "# expect to receive as input we need to state that in the dataset schema (since it cannot\n",
    "# be inferred from the CSV)\n",
    "scan.dataset_schema.outcome_feature_name = 'class_att'\n",
    "\n",
    "## Add evaluation types\n",
    "scan.add_evaluation_type('robustness')\n",
    "scan.add_evaluation_type('explainability')\n",
    "scan.add_evaluation_type('explanation')\n",
    "\n",
    "# We'll look at disparity between groups defined by 'sex' in the fairness evaluation\n",
    "scan.add_evaluation_type('fairness')\n",
    "scan.add_fairness_grouping_feature(CertifaiGroupingFeature('sex'))\n",
    "\n",
    "scan.add_evaluation_type('performance')\n",
    "scan.add_metric(CertifaiModelMetric('accuracy', 'accuracy'))\n",
    "scan.atx_performance_metric = 'accuracy'"
   ]
  },
  {
   "cell_type": "code",
   "execution_count": 5,
   "metadata": {},
   "outputs": [
    {
     "name": "stdout",
     "output_type": "stream",
     "text": [
      "Starting scan with model_use_case_id: 'multiclass_test_use_case' and scan_id: '436f4ab7a9c3'\n",
      "[--------------------] 2020-10-22 20:07:30.205899 - 0 of 10 reports (0.0% complete) - Running robustness evaluation for model: SVM\n",
      "[##------------------] 2020-10-22 20:08:16.594123 - 1 of 10 reports (10.0% complete) - Running explainability evaluation for model: SVM\n",
      "[####----------------] 2020-10-22 20:09:04.282377 - 2 of 10 reports (20.0% complete) - Running explanation evaluation for model: SVM\n"
     ]
    },
    {
     "name": "stderr",
     "output_type": "stream",
     "text": [
      "2020-10-22 20:09:10,144 root   WARNING  Insufficient examples of some fairness classes to guarantee convergence (smallest class size is for 'sex_female' with 96 samples)\n"
     ]
    },
    {
     "name": "stdout",
     "output_type": "stream",
     "text": [
      "[######--------------] 2020-10-22 20:09:10.138699 - 3 of 10 reports (30.0% complete) - Running fairness evaluation for model: SVM\n"
     ]
    },
    {
     "name": "stderr",
     "output_type": "stream",
     "text": [
      "2020-10-22 20:09:35,293 root   WARNING  Examples of protected class ('sex', 'sex_female') exhausted before convergence after 96 samples\n",
      "2020-10-22 20:09:49,903 root   WARNING  Examples of protected class ('sex', 'sex_male') exhausted before convergence after 201 samples\n"
     ]
    },
    {
     "name": "stdout",
     "output_type": "stream",
     "text": [
      "[########------------] 2020-10-22 20:09:51.905751 - 4 of 10 reports (40.0% complete) - Running performance evaluation for model: SVM\n",
      "[##########----------] 2020-10-22 20:09:51.911672 - 5 of 10 reports (50.0% complete) - Running robustness evaluation for model: logistic\n",
      "[############--------] 2020-10-22 20:10:43.584439 - 6 of 10 reports (60.0% complete) - Running explainability evaluation for model: logistic\n",
      "[##############------] 2020-10-22 20:11:28.512049 - 7 of 10 reports (70.0% complete) - Running explanation evaluation for model: logistic\n"
     ]
    },
    {
     "name": "stderr",
     "output_type": "stream",
     "text": [
      "2020-10-22 20:11:34,601 root   WARNING  Insufficient examples of some fairness classes to guarantee convergence (smallest class size is for 'sex_female' with 96 samples)\n"
     ]
    },
    {
     "name": "stdout",
     "output_type": "stream",
     "text": [
      "[################----] 2020-10-22 20:11:34.596168 - 8 of 10 reports (80.0% complete) - Running fairness evaluation for model: logistic\n"
     ]
    },
    {
     "name": "stderr",
     "output_type": "stream",
     "text": [
      "2020-10-22 20:12:00,267 root   WARNING  Examples of protected class ('sex', 'sex_female') exhausted before convergence after 96 samples\n",
      "2020-10-22 20:12:16,082 root   WARNING  Examples of protected class ('sex', 'sex_male') exhausted before convergence after 201 samples\n"
     ]
    },
    {
     "name": "stdout",
     "output_type": "stream",
     "text": [
      "[##################--] 2020-10-22 20:12:18.302682 - 9 of 10 reports (90.0% complete) - Running performance evaluation for model: logistic\n",
      "[####################] 2020-10-22 20:12:18.307086 - 10 of 10 reports (100.0% complete) - Completed all evaluations\n"
     ]
    }
   ],
   "source": [
    "# Run the scan.\n",
    "# By default this will write the results into individual report files (one per model and evaluation\n",
    "# type) in the 'local_reports' directory relative to this notebook. This may be disabled by specifying\n",
    "# `write_reports=False` as below\n",
    "# The result is a dictionary of dictionaries of reports.  The top level dict key is the evaluation type\n",
    "# and the second level key is model id.\n",
    "partitioned_results = scan.run(write_reports=False)"
   ]
  },
  {
   "cell_type": "markdown",
   "metadata": {},
   "source": [
    "### Notes on the partitioned multiclass scan\n",
    "\n",
    "The above scan produced various warnings related to the classes within the fairness grouping feature `sex`. These warnings are to be expected for this use case, and can be attributed to the small size of the evaluation dataset (almost 300 rows) as well as the feature distributions within the dataset. The above warnings are alerting that there were not enough samples of each protected class within the `sex` feature for Certifai's genetic algorithm to converge towards the optimal counterfactuals during the fairness evaluation, which will affect the fairness scores and confidence intervals.\n",
    "\n",
    "These warnings will also be produced when re-running this scan as an ordered multiclass classification use case."
   ]
  },
  {
   "cell_type": "code",
   "execution_count": 6,
   "metadata": {},
   "outputs": [
    {
     "data": {
      "text/html": [
       "<div>\n",
       "<style scoped>\n",
       "    .dataframe tbody tr th:only-of-type {\n",
       "        vertical-align: middle;\n",
       "    }\n",
       "\n",
       "    .dataframe tbody tr th {\n",
       "        vertical-align: top;\n",
       "    }\n",
       "\n",
       "    .dataframe thead th {\n",
       "        text-align: right;\n",
       "    }\n",
       "</style>\n",
       "<table border=\"1\" class=\"dataframe\">\n",
       "  <thead>\n",
       "    <tr style=\"text-align: right;\">\n",
       "      <th></th>\n",
       "      <th>context</th>\n",
       "      <th>robustness</th>\n",
       "      <th>robustness lower bound</th>\n",
       "      <th>robustness upper bound</th>\n",
       "    </tr>\n",
       "  </thead>\n",
       "  <tbody>\n",
       "    <tr>\n",
       "      <th>SVM</th>\n",
       "      <td>SVM</td>\n",
       "      <td>57.700632</td>\n",
       "      <td>53.628532</td>\n",
       "      <td>61.576806</td>\n",
       "    </tr>\n",
       "    <tr>\n",
       "      <th>logistic</th>\n",
       "      <td>logistic</td>\n",
       "      <td>64.089915</td>\n",
       "      <td>60.529876</td>\n",
       "      <td>67.734335</td>\n",
       "    </tr>\n",
       "  </tbody>\n",
       "</table>\n",
       "</div>"
      ],
      "text/plain": [
       "           context  robustness  robustness lower bound  robustness upper bound\n",
       "SVM            SVM   57.700632               53.628532               61.576806\n",
       "logistic  logistic   64.089915               60.529876               67.734335"
      ]
     },
     "metadata": {},
     "output_type": "display_data"
    },
    {
     "data": {
      "image/png": "[encoded data removed]",
      "text/plain": [
       "<Figure size 576x360 with 1 Axes>"
      ]
     },
     "metadata": {
      "needs_background": "light"
     },
     "output_type": "display_data"
    }
   ],
   "source": [
    "partitioned_robustness_df = construct_scores_dataframe(scores(\"robustness\", partitioned_results))\n",
    "display(partitioned_robustness_df)\n",
    "\n",
    "%matplotlib inline\n",
    "\n",
    "def plot_robustness_scores(robustness_df):\n",
    "    labels = robustness_df['context'].values\n",
    "    robustness_scores = robustness_df.iloc[:, 1].values\n",
    "    lower_errors = robustness_scores - robustness_df.iloc[:, 2].values\n",
    "    upper_errors = robustness_df.iloc[:, 3].values - robustness_scores\n",
    "    x = np.arange(len(labels))\n",
    "\n",
    "    fig, axs = plt.subplots(figsize=[8,5])\n",
    "    axs.set_title(\"Robustness Scores by Model\", fontsize=20)\n",
    "    width = 0.8\n",
    "\n",
    "    rect1 = axs.bar(x, robustness_scores, width, yerr=[lower_errors, upper_errors], capsize=7)\n",
    "    rect1[1].set_color('orange')\n",
    "\n",
    "    axs.set_ylim(top=100)\n",
    "    axs.set_ylabel('Robustness Score')\n",
    "    axs.set_xticks(x)\n",
    "    axs.set_xticklabels(labels)\n",
    "\n",
    "    fig.tight_layout()\n",
    "    plt.show()\n",
    "\n",
    "plot_robustness_scores(partitioned_robustness_df)"
   ]
  },
  {
   "cell_type": "code",
   "execution_count": 7,
   "metadata": {},
   "outputs": [
    {
     "data": {
      "text/html": [
       "<div>\n",
       "<style scoped>\n",
       "    .dataframe tbody tr th:only-of-type {\n",
       "        vertical-align: middle;\n",
       "    }\n",
       "\n",
       "    .dataframe tbody tr th {\n",
       "        vertical-align: top;\n",
       "    }\n",
       "\n",
       "    .dataframe thead th {\n",
       "        text-align: right;\n",
       "    }\n",
       "</style>\n",
       "<table border=\"1\" class=\"dataframe\">\n",
       "  <thead>\n",
       "    <tr style=\"text-align: right;\">\n",
       "      <th></th>\n",
       "      <th>context</th>\n",
       "      <th>explainability</th>\n",
       "      <th>Num features (1)</th>\n",
       "      <th>Num features (10)</th>\n",
       "      <th>Num features (2)</th>\n",
       "      <th>Num features (3)</th>\n",
       "      <th>Num features (4)</th>\n",
       "      <th>Num features (5)</th>\n",
       "      <th>Num features (6)</th>\n",
       "      <th>Num features (7)</th>\n",
       "      <th>Num features (8)</th>\n",
       "      <th>Num features (9)</th>\n",
       "    </tr>\n",
       "  </thead>\n",
       "  <tbody>\n",
       "    <tr>\n",
       "      <th>SVM</th>\n",
       "      <td>SVM</td>\n",
       "      <td>87.617188</td>\n",
       "      <td>43.75000</td>\n",
       "      <td>0.78125</td>\n",
       "      <td>33.59375</td>\n",
       "      <td>13.28125</td>\n",
       "      <td>7.03125</td>\n",
       "      <td>0.78125</td>\n",
       "      <td>0.00000</td>\n",
       "      <td>0.0</td>\n",
       "      <td>0.78125</td>\n",
       "      <td>0.0</td>\n",
       "    </tr>\n",
       "    <tr>\n",
       "      <th>logistic</th>\n",
       "      <td>logistic</td>\n",
       "      <td>87.617188</td>\n",
       "      <td>33.59375</td>\n",
       "      <td>0.00000</td>\n",
       "      <td>41.40625</td>\n",
       "      <td>19.53125</td>\n",
       "      <td>3.90625</td>\n",
       "      <td>0.78125</td>\n",
       "      <td>0.78125</td>\n",
       "      <td>0.0</td>\n",
       "      <td>0.00000</td>\n",
       "      <td>0.0</td>\n",
       "    </tr>\n",
       "  </tbody>\n",
       "</table>\n",
       "</div>"
      ],
      "text/plain": [
       "           context  explainability  Num features (1)  Num features (10)  \\\n",
       "SVM            SVM       87.617188          43.75000            0.78125   \n",
       "logistic  logistic       87.617188          33.59375            0.00000   \n",
       "\n",
       "          Num features (2)  Num features (3)  Num features (4)  \\\n",
       "SVM               33.59375          13.28125           7.03125   \n",
       "logistic          41.40625          19.53125           3.90625   \n",
       "\n",
       "          Num features (5)  Num features (6)  Num features (7)  \\\n",
       "SVM                0.78125           0.00000               0.0   \n",
       "logistic           0.78125           0.78125               0.0   \n",
       "\n",
       "          Num features (8)  Num features (9)  \n",
       "SVM                0.78125               0.0  \n",
       "logistic           0.00000               0.0  "
      ]
     },
     "metadata": {},
     "output_type": "display_data"
    },
    {
     "data": {
      "image/png": "[encoded data removed]",
      "text/plain": [
       "<Figure size 1080x360 with 2 Axes>"
      ]
     },
     "metadata": {
      "needs_background": "light"
     },
     "output_type": "display_data"
    }
   ],
   "source": [
    "partitioned_explainability_df = construct_scores_dataframe(scores('explainability', partitioned_results))\n",
    "display(partitioned_explainability_df)\n",
    "\n",
    "%matplotlib inline\n",
    "\n",
    "def plot_histogram(axs, explainability_df, model_id):\n",
    "    num_features = list(range(1, 11))\n",
    "    columns = [f\"Num features ({i})\" for i in num_features]\n",
    "    percentages = explainability_df.loc[model_id, columns].values\n",
    "    \n",
    "    axs.bar(num_features, percentages)\n",
    "    axs.set_xticks(num_features)\n",
    "    axs.set_xlabel('Number of features', fontsize=15)\n",
    "    axs.set_title(f\"Model {model_id}\", fontsize=15)\n",
    "    axs.set_ylabel('Distributions', fontsize=15)\n",
    "    axs.set_ylim(top=100)\n",
    "\n",
    "def plot_explainability_histograms(explainability_df):\n",
    "    labels = explainability_df['context'].values\n",
    "    \n",
    "    fig, (axs1, axs2) = plt.subplots(1, 2, figsize=[15,5])\n",
    "    fig.suptitle('Explainability results by model', fontsize=20)\n",
    "    \n",
    "    plot_histogram(axs1, explainability_df, labels[0])\n",
    "    plot_histogram(axs2, explainability_df, labels[1])\n",
    "    \n",
    "    fig.tight_layout()\n",
    "    plt.show()\n",
    "    \n",
    "plot_explainability_histograms(partitioned_explainability_df)"
   ]
  },
  {
   "cell_type": "code",
   "execution_count": 8,
   "metadata": {},
   "outputs": [
    {
     "data": {
      "text/html": [
       "<div>\n",
       "<style scoped>\n",
       "    .dataframe tbody tr th:only-of-type {\n",
       "        vertical-align: middle;\n",
       "    }\n",
       "\n",
       "    .dataframe tbody tr th {\n",
       "        vertical-align: top;\n",
       "    }\n",
       "\n",
       "    .dataframe thead th {\n",
       "        text-align: right;\n",
       "    }\n",
       "</style>\n",
       "<table border=\"1\" class=\"dataframe\">\n",
       "  <thead>\n",
       "    <tr style=\"text-align: right;\">\n",
       "      <th></th>\n",
       "      <th>context</th>\n",
       "      <th>type in []</th>\n",
       "      <th>fairness</th>\n",
       "      <th>fairness lower bound</th>\n",
       "      <th>fairness upper bound</th>\n",
       "      <th>Feature (sex)</th>\n",
       "      <th>Feature (sex) lower bound</th>\n",
       "      <th>Feature (sex) upper bound</th>\n",
       "      <th>type in Feature (sex)</th>\n",
       "      <th>Group details (sex_female)</th>\n",
       "      <th>Group details (sex_female) lower bound</th>\n",
       "      <th>Group details (sex_female) upper bound</th>\n",
       "      <th>type in Feature (sex)</th>\n",
       "      <th>Group details (sex_male)</th>\n",
       "      <th>Group details (sex_male) lower bound</th>\n",
       "      <th>Group details (sex_male) upper bound</th>\n",
       "    </tr>\n",
       "  </thead>\n",
       "  <tbody>\n",
       "    <tr>\n",
       "      <th>SVM (burden)</th>\n",
       "      <td>SVM</td>\n",
       "      <td>burden</td>\n",
       "      <td>65.086147</td>\n",
       "      <td>43.541297</td>\n",
       "      <td>86.681331</td>\n",
       "      <td>65.086147</td>\n",
       "      <td>43.541297</td>\n",
       "      <td>86.681331</td>\n",
       "      <td>burden</td>\n",
       "      <td>0.048014</td>\n",
       "      <td>0.028592</td>\n",
       "      <td>0.073959</td>\n",
       "      <td>burden</td>\n",
       "      <td>0.099278</td>\n",
       "      <td>0.081769</td>\n",
       "      <td>0.119286</td>\n",
       "    </tr>\n",
       "    <tr>\n",
       "      <th>logistic (burden)</th>\n",
       "      <td>logistic</td>\n",
       "      <td>burden</td>\n",
       "      <td>50.822802</td>\n",
       "      <td>29.815479</td>\n",
       "      <td>70.975525</td>\n",
       "      <td>50.822802</td>\n",
       "      <td>29.815479</td>\n",
       "      <td>70.975525</td>\n",
       "      <td>burden</td>\n",
       "      <td>0.037112</td>\n",
       "      <td>0.019593</td>\n",
       "      <td>0.058831</td>\n",
       "      <td>burden</td>\n",
       "      <td>0.108886</td>\n",
       "      <td>0.092038</td>\n",
       "      <td>0.130711</td>\n",
       "    </tr>\n",
       "  </tbody>\n",
       "</table>\n",
       "</div>"
      ],
      "text/plain": [
       "                    context type in []   fairness  fairness lower bound  \\\n",
       "SVM (burden)            SVM     burden  65.086147             43.541297   \n",
       "logistic (burden)  logistic     burden  50.822802             29.815479   \n",
       "\n",
       "                   fairness upper bound  Feature (sex)  \\\n",
       "SVM (burden)                  86.681331      65.086147   \n",
       "logistic (burden)             70.975525      50.822802   \n",
       "\n",
       "                   Feature (sex) lower bound  Feature (sex) upper bound  \\\n",
       "SVM (burden)                       43.541297                  86.681331   \n",
       "logistic (burden)                  29.815479                  70.975525   \n",
       "\n",
       "                  type in Feature (sex)  Group details (sex_female)  \\\n",
       "SVM (burden)                     burden                    0.048014   \n",
       "logistic (burden)                burden                    0.037112   \n",
       "\n",
       "                   Group details (sex_female) lower bound  \\\n",
       "SVM (burden)                                     0.028592   \n",
       "logistic (burden)                                0.019593   \n",
       "\n",
       "                   Group details (sex_female) upper bound  \\\n",
       "SVM (burden)                                     0.073959   \n",
       "logistic (burden)                                0.058831   \n",
       "\n",
       "                  type in Feature (sex)  Group details (sex_male)  \\\n",
       "SVM (burden)                     burden                  0.099278   \n",
       "logistic (burden)                burden                  0.108886   \n",
       "\n",
       "                   Group details (sex_male) lower bound  \\\n",
       "SVM (burden)                                   0.081769   \n",
       "logistic (burden)                              0.092038   \n",
       "\n",
       "                   Group details (sex_male) upper bound  \n",
       "SVM (burden)                                   0.119286  \n",
       "logistic (burden)                              0.130711  "
      ]
     },
     "metadata": {},
     "output_type": "display_data"
    },
    {
     "data": {
      "image/png": "[encoded data removed]",
      "text/plain": [
       "<Figure size 1080x360 with 1 Axes>"
      ]
     },
     "metadata": {
      "needs_background": "light"
     },
     "output_type": "display_data"
    }
   ],
   "source": [
    "# Display the fairness results of fairness evaluation for both models\n",
    "partitioned_fairness_df = construct_scores_dataframe(scores(\"fairness\", partitioned_results))\n",
    "display(partitioned_fairness_df)\n",
    "\n",
    "%matplotlib inline\n",
    "\n",
    "def plot_feature_fairness(fairness_df):\n",
    "    features = ['Feature (sex)']\n",
    "    feature_scores = fairness_df[features]\n",
    "    feature_lower_bounds = fairness_df[[f + ' lower bound' for f in features]]\n",
    "    feature_upper_bounds = fairness_df[[f + ' upper bound' for f in features]]\n",
    "\n",
    "    fig, ax = plt.subplots(figsize=[15,5])\n",
    "    ax.set_title('Feature fairness by model', fontsize=20)\n",
    "    colors = ['tab:blue', 'tab:orange', 'tab:green', 'tab:red', 'tab:pink']\n",
    "    width = 0.4\n",
    "\n",
    "    ax.set_xticks(np.arange(len(features))+width)\n",
    "    ax.set_xticklabels(features)\n",
    "\n",
    "    for idx in range(len(fairness_df)):\n",
    "        central_values = list(feature_scores.iloc[idx])\n",
    "        lower_bounds = list(feature_lower_bounds.iloc[idx])\n",
    "        upper_bounds = list(feature_upper_bounds.iloc[idx])\n",
    "        lower_errors = [central_values[i] - lower_bounds[i] for i in range(len(central_values))]\n",
    "        upper_errors = [upper_bounds[i] - central_values[i] for i in range(len(central_values))]\n",
    "\n",
    "        ax.bar([width/2+idx*width+f_idx for f_idx in range(len(features))],\n",
    "                central_values,\n",
    "                width,\n",
    "                yerr=[lower_errors, upper_errors],\n",
    "                color=colors[idx],\n",
    "                label=fairness_df.index[idx],\n",
    "                capsize=10)\n",
    "\n",
    "    fig.legend(fontsize=14, bbox_to_anchor=(1.1,.6))\n",
    "    fig.tight_layout()\n",
    "    fig.subplots_adjust(right=0.8) \n",
    "    plt.show()\n",
    "    \n",
    "plot_feature_fairness(partitioned_fairness_df)"
   ]
  },
  {
   "cell_type": "code",
   "execution_count": 9,
   "metadata": {},
   "outputs": [
    {
     "name": "stdout",
     "output_type": "stream",
     "text": [
      "logistic Accuracy:  0.6166666666666667\n",
      "SVM Accuracy:  0.6166666666666667\n"
     ]
    }
   ],
   "source": [
    "# Below we will display the Accuracy value computed during the performance evaluation\n",
    "print('logistic Accuracy: ', partitioned_results['performance']['logistic']['performance_metrics'][0]['value'])\n",
    "print('SVM Accuracy: ', partitioned_results['performance']['SVM']['performance_metrics'][0]['value'])"
   ]
  },
  {
   "cell_type": "code",
   "execution_count": 14,
   "metadata": {},
   "outputs": [],
   "source": [
    "# Using Certifai's explanation utilities we can programmatically explore counterfactuals produced\n",
    "# during the explanation evaluation. Below we examine only a single explanation for each model\n",
    "# by displaying the original input data followed by what features were changed by each\n",
    "# counterfactual\n",
    "logistic_explanations = construct_explanations_dataframe(explanations(partitioned_results, model_id='logistic'))\n",
    "svm_explanations = construct_explanations_dataframe(explanations(partitioned_results, model_id='SVM'))\n",
    "\n",
    "def display_explanation(df):\n",
    "    df_original = df[df['instance']=='original'].reset_index(drop=True)\n",
    "    display(df_original)\n",
    "    df_cfs = df[df['instance']=='counterfactual'].reset_index(drop=True)\n",
    "    cf_changes = df_cfs.where(df_cfs != df_original).dropna(axis=1)\n",
    "    display(pd.concat([df_original[cf_changes.columns], cf_changes]))"
   ]
  },
  {
   "cell_type": "markdown",
   "metadata": {},
   "source": [
    "### Explanations for logistic Model:"
   ]
  },
  {
   "cell_type": "code",
   "execution_count": 15,
   "metadata": {},
   "outputs": [
    {
     "data": {
      "text/html": [
       "<div>\n",
       "<style scoped>\n",
       "    .dataframe tbody tr th:only-of-type {\n",
       "        vertical-align: middle;\n",
       "    }\n",
       "\n",
       "    .dataframe tbody tr th {\n",
       "        vertical-align: top;\n",
       "    }\n",
       "\n",
       "    .dataframe thead th {\n",
       "        text-align: right;\n",
       "    }\n",
       "</style>\n",
       "<table border=\"1\" class=\"dataframe\">\n",
       "  <thead>\n",
       "    <tr style=\"text-align: right;\">\n",
       "      <th></th>\n",
       "      <th>model</th>\n",
       "      <th>row</th>\n",
       "      <th>instance</th>\n",
       "      <th>cf_num</th>\n",
       "      <th>cf_type</th>\n",
       "      <th>prediction</th>\n",
       "      <th>fitness</th>\n",
       "      <th>age</th>\n",
       "      <th>sex</th>\n",
       "      <th>cp</th>\n",
       "      <th>trestbps</th>\n",
       "      <th>chol</th>\n",
       "      <th>fbs</th>\n",
       "      <th>restecg</th>\n",
       "      <th>thalach</th>\n",
       "      <th>exang</th>\n",
       "      <th>oldpeak</th>\n",
       "      <th>slope</th>\n",
       "      <th>ca</th>\n",
       "      <th>thal</th>\n",
       "    </tr>\n",
       "  </thead>\n",
       "  <tbody>\n",
       "    <tr>\n",
       "      <th>0</th>\n",
       "      <td>logistic</td>\n",
       "      <td>1</td>\n",
       "      <td>original</td>\n",
       "      <td>0</td>\n",
       "      <td>original prediction</td>\n",
       "      <td>0</td>\n",
       "      <td>0.0</td>\n",
       "      <td>45.0</td>\n",
       "      <td>sex_female</td>\n",
       "      <td>2.0</td>\n",
       "      <td>112.0</td>\n",
       "      <td>160.0</td>\n",
       "      <td>fbs_less_than_120mg/dl</td>\n",
       "      <td>0.0</td>\n",
       "      <td>138.0</td>\n",
       "      <td>exang_no</td>\n",
       "      <td>0.0</td>\n",
       "      <td>2.0</td>\n",
       "      <td>0.0</td>\n",
       "      <td>3.0</td>\n",
       "    </tr>\n",
       "  </tbody>\n",
       "</table>\n",
       "</div>"
      ],
      "text/plain": [
       "      model  row  instance  cf_num              cf_type  prediction  fitness  \\\n",
       "0  logistic    1  original       0  original prediction           0      0.0   \n",
       "\n",
       "    age         sex   cp  trestbps   chol                     fbs  restecg  \\\n",
       "0  45.0  sex_female  2.0     112.0  160.0  fbs_less_than_120mg/dl      0.0   \n",
       "\n",
       "   thalach     exang  oldpeak  slope   ca  thal  \n",
       "0    138.0  exang_no      0.0    2.0  0.0   3.0  "
      ]
     },
     "metadata": {},
     "output_type": "display_data"
    },
    {
     "data": {
      "text/html": [
       "<div>\n",
       "<style scoped>\n",
       "    .dataframe tbody tr th:only-of-type {\n",
       "        vertical-align: middle;\n",
       "    }\n",
       "\n",
       "    .dataframe tbody tr th {\n",
       "        vertical-align: top;\n",
       "    }\n",
       "\n",
       "    .dataframe thead th {\n",
       "        text-align: right;\n",
       "    }\n",
       "</style>\n",
       "<table border=\"1\" class=\"dataframe\">\n",
       "  <thead>\n",
       "    <tr style=\"text-align: right;\">\n",
       "      <th></th>\n",
       "      <th>instance</th>\n",
       "      <th>cf_num</th>\n",
       "      <th>cf_type</th>\n",
       "      <th>prediction</th>\n",
       "      <th>fitness</th>\n",
       "      <th>sex</th>\n",
       "      <th>ca</th>\n",
       "    </tr>\n",
       "  </thead>\n",
       "  <tbody>\n",
       "    <tr>\n",
       "      <th>0</th>\n",
       "      <td>original</td>\n",
       "      <td>0</td>\n",
       "      <td>original prediction</td>\n",
       "      <td>0</td>\n",
       "      <td>0.000000</td>\n",
       "      <td>sex_female</td>\n",
       "      <td>0.000000</td>\n",
       "    </tr>\n",
       "    <tr>\n",
       "      <th>0</th>\n",
       "      <td>counterfactual</td>\n",
       "      <td>1</td>\n",
       "      <td>prediction changed</td>\n",
       "      <td>1</td>\n",
       "      <td>0.271549</td>\n",
       "      <td>sex_male</td>\n",
       "      <td>2.498713</td>\n",
       "    </tr>\n",
       "  </tbody>\n",
       "</table>\n",
       "</div>"
      ],
      "text/plain": [
       "         instance  cf_num              cf_type  prediction   fitness  \\\n",
       "0        original       0  original prediction           0  0.000000   \n",
       "0  counterfactual       1   prediction changed           1  0.271549   \n",
       "\n",
       "          sex        ca  \n",
       "0  sex_female  0.000000  \n",
       "0    sex_male  2.498713  "
      ]
     },
     "metadata": {},
     "output_type": "display_data"
    }
   ],
   "source": [
    "display_explanation(logistic_explanations[logistic_explanations['row'] == 1]) "
   ]
  },
  {
   "cell_type": "markdown",
   "metadata": {},
   "source": [
    "### Explanations for SVM Model:"
   ]
  },
  {
   "cell_type": "code",
   "execution_count": 17,
   "metadata": {},
   "outputs": [
    {
     "data": {
      "text/html": [
       "<div>\n",
       "<style scoped>\n",
       "    .dataframe tbody tr th:only-of-type {\n",
       "        vertical-align: middle;\n",
       "    }\n",
       "\n",
       "    .dataframe tbody tr th {\n",
       "        vertical-align: top;\n",
       "    }\n",
       "\n",
       "    .dataframe thead th {\n",
       "        text-align: right;\n",
       "    }\n",
       "</style>\n",
       "<table border=\"1\" class=\"dataframe\">\n",
       "  <thead>\n",
       "    <tr style=\"text-align: right;\">\n",
       "      <th></th>\n",
       "      <th>model</th>\n",
       "      <th>row</th>\n",
       "      <th>instance</th>\n",
       "      <th>cf_num</th>\n",
       "      <th>cf_type</th>\n",
       "      <th>prediction</th>\n",
       "      <th>fitness</th>\n",
       "      <th>age</th>\n",
       "      <th>sex</th>\n",
       "      <th>cp</th>\n",
       "      <th>trestbps</th>\n",
       "      <th>chol</th>\n",
       "      <th>fbs</th>\n",
       "      <th>restecg</th>\n",
       "      <th>thalach</th>\n",
       "      <th>exang</th>\n",
       "      <th>oldpeak</th>\n",
       "      <th>slope</th>\n",
       "      <th>ca</th>\n",
       "      <th>thal</th>\n",
       "    </tr>\n",
       "  </thead>\n",
       "  <tbody>\n",
       "    <tr>\n",
       "      <th>0</th>\n",
       "      <td>SVM</td>\n",
       "      <td>2</td>\n",
       "      <td>original</td>\n",
       "      <td>0</td>\n",
       "      <td>original prediction</td>\n",
       "      <td>0</td>\n",
       "      <td>0.0</td>\n",
       "      <td>52.0</td>\n",
       "      <td>sex_male</td>\n",
       "      <td>4.0</td>\n",
       "      <td>112.0</td>\n",
       "      <td>230.0</td>\n",
       "      <td>fbs_less_than_120mg/dl</td>\n",
       "      <td>0.0</td>\n",
       "      <td>160.0</td>\n",
       "      <td>exang_no</td>\n",
       "      <td>0.0</td>\n",
       "      <td>1.0</td>\n",
       "      <td>1.0</td>\n",
       "      <td>3.0</td>\n",
       "    </tr>\n",
       "  </tbody>\n",
       "</table>\n",
       "</div>"
      ],
      "text/plain": [
       "  model  row  instance  cf_num              cf_type  prediction  fitness  \\\n",
       "0   SVM    2  original       0  original prediction           0      0.0   \n",
       "\n",
       "    age       sex   cp  trestbps   chol                     fbs  restecg  \\\n",
       "0  52.0  sex_male  4.0     112.0  230.0  fbs_less_than_120mg/dl      0.0   \n",
       "\n",
       "   thalach     exang  oldpeak  slope   ca  thal  \n",
       "0    160.0  exang_no      0.0    1.0  1.0   3.0  "
      ]
     },
     "metadata": {},
     "output_type": "display_data"
    },
    {
     "data": {
      "text/html": [
       "<div>\n",
       "<style scoped>\n",
       "    .dataframe tbody tr th:only-of-type {\n",
       "        vertical-align: middle;\n",
       "    }\n",
       "\n",
       "    .dataframe tbody tr th {\n",
       "        vertical-align: top;\n",
       "    }\n",
       "\n",
       "    .dataframe thead th {\n",
       "        text-align: right;\n",
       "    }\n",
       "</style>\n",
       "<table border=\"1\" class=\"dataframe\">\n",
       "  <thead>\n",
       "    <tr style=\"text-align: right;\">\n",
       "      <th></th>\n",
       "      <th>instance</th>\n",
       "      <th>cf_num</th>\n",
       "      <th>cf_type</th>\n",
       "      <th>prediction</th>\n",
       "      <th>fitness</th>\n",
       "      <th>exang</th>\n",
       "      <th>ca</th>\n",
       "    </tr>\n",
       "  </thead>\n",
       "  <tbody>\n",
       "    <tr>\n",
       "      <th>0</th>\n",
       "      <td>original</td>\n",
       "      <td>0</td>\n",
       "      <td>original prediction</td>\n",
       "      <td>0</td>\n",
       "      <td>0.000000</td>\n",
       "      <td>exang_no</td>\n",
       "      <td>1.000000</td>\n",
       "    </tr>\n",
       "    <tr>\n",
       "      <th>0</th>\n",
       "      <td>counterfactual</td>\n",
       "      <td>1</td>\n",
       "      <td>prediction changed</td>\n",
       "      <td>1</td>\n",
       "      <td>0.660476</td>\n",
       "      <td>exang_yes</td>\n",
       "      <td>1.478824</td>\n",
       "    </tr>\n",
       "  </tbody>\n",
       "</table>\n",
       "</div>"
      ],
      "text/plain": [
       "         instance  cf_num              cf_type  prediction   fitness  \\\n",
       "0        original       0  original prediction           0  0.000000   \n",
       "0  counterfactual       1   prediction changed           1  0.660476   \n",
       "\n",
       "       exang        ca  \n",
       "0   exang_no  1.000000  \n",
       "0  exang_yes  1.478824  "
      ]
     },
     "metadata": {},
     "output_type": "display_data"
    }
   ],
   "source": [
    "display_explanation(svm_explanations[svm_explanations['row'] == 2]) "
   ]
  },
  {
   "cell_type": "markdown",
   "metadata": {},
   "source": [
    "## Running a scan as an ordered multiclass classification use case\n",
    "\n",
    "In an ordered multiclass classification use case prediction outcomes are ordered from most to least favorable. Similar to regression, up to two counterfactuals will be produced per observation in the explanation report, one with increasing favorability and one with decreasing favorability.\n",
    "\n",
    "For this next scan we will re-use the existing ScanBuilder instance from the last scan and only update prediction task as we'll be performing the same evaluations. We will order the prediction outcomes with the most favorable being 0 (\"Heart disease not detected\") followed by outcome values 1 - 4 (varying stages of heart disease)."
   ]
  },
  {
   "cell_type": "code",
   "execution_count": 18,
   "metadata": {},
   "outputs": [],
   "source": [
    "# Below we build the scan for an ordered multiclass classification task\n",
    "# To do this we set the prediction_favorability to the 'ordered' - this specifies\n",
    "# that prediction outcomes are ordered MOST to LEAST favorable. We also specify\n",
    "# the `last_favorable_prediction` value to be only the first possible outcome (no heart disease detected)\n",
    "prediction_outcomes = [\n",
    "    CertifaiOutcomeValue(0, name=\"Heart disease not detected\"),\n",
    "    CertifaiOutcomeValue(1, name='Stage 1: > 50% diameter narrowing in a major vessel'),\n",
    "    CertifaiOutcomeValue(2, name='Stage 2: > 50% diameter narrowing in a major vessel'),\n",
    "    CertifaiOutcomeValue(3, name='Stage 3: > 50% diameter narrowing in a major vessel'),\n",
    "    CertifaiOutcomeValue(4, name='Stage 4: > 50% diameter narrowing in a major vessel'),\n",
    "]\n",
    "\n",
    "ordered_task = CertifaiPredictionTask(CertifaiTaskOutcomes.classification(\n",
    "        prediction_outcomes,\n",
    "        prediction_favorability='ordered',\n",
    "        last_favorable_prediction=prediction_outcomes[0]),\n",
    "    prediction_description='Indicator of heart disease level (angiographic disease status)')\n",
    "\n",
    "scan.prediction_task = ordered_task"
   ]
  },
  {
   "cell_type": "code",
   "execution_count": 19,
   "metadata": {},
   "outputs": [
    {
     "name": "stdout",
     "output_type": "stream",
     "text": [
      "[--------------------] 2020-10-22 20:16:15.861848 - 0 of 10 reports (0.0% complete) - Starting scan with model_use_case_id: 'multiclass_test_use_case' and scan_id: '4d2c009b9f38'\n",
      "[--------------------] 2020-10-22 20:16:15.862015 - 0 of 10 reports (0.0% complete) - Running robustness evaluation for model: SVM\n",
      "[##------------------] 2020-10-22 20:17:01.413428 - 1 of 10 reports (10.0% complete) - Running explainability evaluation for model: SVM\n",
      "[####----------------] 2020-10-22 20:18:32.379479 - 2 of 10 reports (20.0% complete) - Running explanation evaluation for model: SVM\n"
     ]
    },
    {
     "name": "stderr",
     "output_type": "stream",
     "text": [
      "2020-10-22 20:18:39,915 root   WARNING  Insufficient examples of some fairness classes to guarantee convergence (smallest class size is for 'sex_female' with 96 samples)\n"
     ]
    },
    {
     "name": "stdout",
     "output_type": "stream",
     "text": [
      "[######--------------] 2020-10-22 20:18:39.910524 - 3 of 10 reports (30.0% complete) - Running fairness evaluation for model: SVM\n"
     ]
    },
    {
     "name": "stderr",
     "output_type": "stream",
     "text": [
      "2020-10-22 20:19:09,283 root   WARNING  Examples of protected class ('sex', 'sex_female') exhausted before convergence after 96 samples\n",
      "2020-10-22 20:19:26,836 root   WARNING  Examples of protected class ('sex', 'sex_male') exhausted before convergence after 201 samples\n"
     ]
    },
    {
     "name": "stdout",
     "output_type": "stream",
     "text": [
      "[########------------] 2020-10-22 20:19:28.678505 - 4 of 10 reports (40.0% complete) - Running performance evaluation for model: SVM\n",
      "[##########----------] 2020-10-22 20:19:28.682805 - 5 of 10 reports (50.0% complete) - Running robustness evaluation for model: logistic\n",
      "[############--------] 2020-10-22 20:20:21.914152 - 6 of 10 reports (60.0% complete) - Running explainability evaluation for model: logistic\n",
      "[##############------] 2020-10-22 20:22:07.798623 - 7 of 10 reports (70.0% complete) - Running explanation evaluation for model: logistic\n"
     ]
    },
    {
     "name": "stderr",
     "output_type": "stream",
     "text": [
      "2020-10-22 20:22:17,217 root   WARNING  Insufficient examples of some fairness classes to guarantee convergence (smallest class size is for 'sex_female' with 96 samples)\n"
     ]
    },
    {
     "name": "stdout",
     "output_type": "stream",
     "text": [
      "[################----] 2020-10-22 20:22:17.211972 - 8 of 10 reports (80.0% complete) - Running fairness evaluation for model: logistic\n"
     ]
    },
    {
     "name": "stderr",
     "output_type": "stream",
     "text": [
      "2020-10-22 20:22:49,607 root   WARNING  Examples of protected class ('sex', 'sex_female') exhausted before convergence after 96 samples\n",
      "2020-10-22 20:23:08,621 root   WARNING  Examples of protected class ('sex', 'sex_male') exhausted before convergence after 201 samples\n"
     ]
    },
    {
     "name": "stdout",
     "output_type": "stream",
     "text": [
      "[##################--] 2020-10-22 20:23:10.758833 - 9 of 10 reports (90.0% complete) - Running performance evaluation for model: logistic\n",
      "[####################] 2020-10-22 20:23:10.763974 - 10 of 10 reports (100.0% complete) - Completed all evaluations\n"
     ]
    }
   ],
   "source": [
    "ordered_results = scan.run(write_reports=False)"
   ]
  },
  {
   "cell_type": "code",
   "execution_count": 20,
   "metadata": {},
   "outputs": [
    {
     "data": {
      "text/html": [
       "<div>\n",
       "<style scoped>\n",
       "    .dataframe tbody tr th:only-of-type {\n",
       "        vertical-align: middle;\n",
       "    }\n",
       "\n",
       "    .dataframe tbody tr th {\n",
       "        vertical-align: top;\n",
       "    }\n",
       "\n",
       "    .dataframe thead th {\n",
       "        text-align: right;\n",
       "    }\n",
       "</style>\n",
       "<table border=\"1\" class=\"dataframe\">\n",
       "  <thead>\n",
       "    <tr style=\"text-align: right;\">\n",
       "      <th></th>\n",
       "      <th>context</th>\n",
       "      <th>robustness</th>\n",
       "      <th>robustness lower bound</th>\n",
       "      <th>robustness upper bound</th>\n",
       "    </tr>\n",
       "  </thead>\n",
       "  <tbody>\n",
       "    <tr>\n",
       "      <th>SVM</th>\n",
       "      <td>SVM</td>\n",
       "      <td>57.700632</td>\n",
       "      <td>53.628532</td>\n",
       "      <td>61.576806</td>\n",
       "    </tr>\n",
       "    <tr>\n",
       "      <th>logistic</th>\n",
       "      <td>logistic</td>\n",
       "      <td>64.089915</td>\n",
       "      <td>60.529876</td>\n",
       "      <td>67.734335</td>\n",
       "    </tr>\n",
       "  </tbody>\n",
       "</table>\n",
       "</div>"
      ],
      "text/plain": [
       "           context  robustness  robustness lower bound  robustness upper bound\n",
       "SVM            SVM   57.700632               53.628532               61.576806\n",
       "logistic  logistic   64.089915               60.529876               67.734335"
      ]
     },
     "metadata": {},
     "output_type": "display_data"
    },
    {
     "data": {
      "image/png": "[encoded data removed]",
      "text/plain": [
       "<Figure size 576x360 with 1 Axes>"
      ]
     },
     "metadata": {
      "needs_background": "light"
     },
     "output_type": "display_data"
    }
   ],
   "source": [
    "ordered_robustness_df = construct_scores_dataframe(scores(\"robustness\", ordered_results))\n",
    "display(ordered_robustness_df)\n",
    "\n",
    "plot_robustness_scores(ordered_robustness_df)"
   ]
  },
  {
   "cell_type": "code",
   "execution_count": 21,
   "metadata": {},
   "outputs": [
    {
     "data": {
      "text/html": [
       "<div>\n",
       "<style scoped>\n",
       "    .dataframe tbody tr th:only-of-type {\n",
       "        vertical-align: middle;\n",
       "    }\n",
       "\n",
       "    .dataframe tbody tr th {\n",
       "        vertical-align: top;\n",
       "    }\n",
       "\n",
       "    .dataframe thead th {\n",
       "        text-align: right;\n",
       "    }\n",
       "</style>\n",
       "<table border=\"1\" class=\"dataframe\">\n",
       "  <thead>\n",
       "    <tr style=\"text-align: right;\">\n",
       "      <th></th>\n",
       "      <th>context</th>\n",
       "      <th>explainability</th>\n",
       "      <th>Num features (1)</th>\n",
       "      <th>Num features (10)</th>\n",
       "      <th>Num features (2)</th>\n",
       "      <th>Num features (3)</th>\n",
       "      <th>Num features (4)</th>\n",
       "      <th>Num features (5)</th>\n",
       "      <th>Num features (6)</th>\n",
       "      <th>Num features (7)</th>\n",
       "      <th>Num features (8)</th>\n",
       "      <th>Num features (9)</th>\n",
       "    </tr>\n",
       "  </thead>\n",
       "  <tbody>\n",
       "    <tr>\n",
       "      <th>SVM</th>\n",
       "      <td>SVM</td>\n",
       "      <td>85.358852</td>\n",
       "      <td>41.148325</td>\n",
       "      <td>0.0</td>\n",
       "      <td>33.014354</td>\n",
       "      <td>15.311005</td>\n",
       "      <td>5.263158</td>\n",
       "      <td>1.913876</td>\n",
       "      <td>1.913876</td>\n",
       "      <td>0.956938</td>\n",
       "      <td>0.00000</td>\n",
       "      <td>0.478469</td>\n",
       "    </tr>\n",
       "    <tr>\n",
       "      <th>logistic</th>\n",
       "      <td>logistic</td>\n",
       "      <td>86.523810</td>\n",
       "      <td>52.380952</td>\n",
       "      <td>0.0</td>\n",
       "      <td>22.380952</td>\n",
       "      <td>14.285714</td>\n",
       "      <td>6.190476</td>\n",
       "      <td>0.952381</td>\n",
       "      <td>2.857143</td>\n",
       "      <td>0.476190</td>\n",
       "      <td>0.47619</td>\n",
       "      <td>0.000000</td>\n",
       "    </tr>\n",
       "  </tbody>\n",
       "</table>\n",
       "</div>"
      ],
      "text/plain": [
       "           context  explainability  Num features (1)  Num features (10)  \\\n",
       "SVM            SVM       85.358852         41.148325                0.0   \n",
       "logistic  logistic       86.523810         52.380952                0.0   \n",
       "\n",
       "          Num features (2)  Num features (3)  Num features (4)  \\\n",
       "SVM              33.014354         15.311005          5.263158   \n",
       "logistic         22.380952         14.285714          6.190476   \n",
       "\n",
       "          Num features (5)  Num features (6)  Num features (7)  \\\n",
       "SVM               1.913876          1.913876          0.956938   \n",
       "logistic          0.952381          2.857143          0.476190   \n",
       "\n",
       "          Num features (8)  Num features (9)  \n",
       "SVM                0.00000          0.478469  \n",
       "logistic           0.47619          0.000000  "
      ]
     },
     "metadata": {},
     "output_type": "display_data"
    },
    {
     "data": {
      "image/png": "[encoded data removed]",
      "text/plain": [
       "<Figure size 1080x360 with 2 Axes>"
      ]
     },
     "metadata": {
      "needs_background": "light"
     },
     "output_type": "display_data"
    }
   ],
   "source": [
    "ordered_explainability_df = construct_scores_dataframe(scores('explainability', ordered_results))\n",
    "display(ordered_explainability_df)\n",
    "\n",
    "plot_explainability_histograms(ordered_explainability_df)"
   ]
  },
  {
   "cell_type": "code",
   "execution_count": 22,
   "metadata": {},
   "outputs": [
    {
     "data": {
      "text/html": [
       "<div>\n",
       "<style scoped>\n",
       "    .dataframe tbody tr th:only-of-type {\n",
       "        vertical-align: middle;\n",
       "    }\n",
       "\n",
       "    .dataframe tbody tr th {\n",
       "        vertical-align: top;\n",
       "    }\n",
       "\n",
       "    .dataframe thead th {\n",
       "        text-align: right;\n",
       "    }\n",
       "</style>\n",
       "<table border=\"1\" class=\"dataframe\">\n",
       "  <thead>\n",
       "    <tr style=\"text-align: right;\">\n",
       "      <th></th>\n",
       "      <th>context</th>\n",
       "      <th>type in []</th>\n",
       "      <th>fairness</th>\n",
       "      <th>fairness lower bound</th>\n",
       "      <th>fairness upper bound</th>\n",
       "      <th>Feature (sex)</th>\n",
       "      <th>Feature (sex) lower bound</th>\n",
       "      <th>Feature (sex) upper bound</th>\n",
       "      <th>type in Feature (sex)</th>\n",
       "      <th>Group details (sex_female)</th>\n",
       "      <th>Group details (sex_female) lower bound</th>\n",
       "      <th>Group details (sex_female) upper bound</th>\n",
       "      <th>type in Feature (sex)</th>\n",
       "      <th>Group details (sex_male)</th>\n",
       "      <th>Group details (sex_male) lower bound</th>\n",
       "      <th>Group details (sex_male) upper bound</th>\n",
       "    </tr>\n",
       "  </thead>\n",
       "  <tbody>\n",
       "    <tr>\n",
       "      <th>SVM (burden)</th>\n",
       "      <td>SVM</td>\n",
       "      <td>burden</td>\n",
       "      <td>64.813946</td>\n",
       "      <td>42.275234</td>\n",
       "      <td>87.129827</td>\n",
       "      <td>64.813946</td>\n",
       "      <td>42.275234</td>\n",
       "      <td>87.129827</td>\n",
       "      <td>burden</td>\n",
       "      <td>0.043936</td>\n",
       "      <td>0.025621</td>\n",
       "      <td>0.067908</td>\n",
       "      <td>burden</td>\n",
       "      <td>0.092120</td>\n",
       "      <td>0.077723</td>\n",
       "      <td>0.108148</td>\n",
       "    </tr>\n",
       "    <tr>\n",
       "      <th>logistic (burden)</th>\n",
       "      <td>logistic</td>\n",
       "      <td>burden</td>\n",
       "      <td>48.035892</td>\n",
       "      <td>28.237602</td>\n",
       "      <td>69.733297</td>\n",
       "      <td>48.035892</td>\n",
       "      <td>28.237602</td>\n",
       "      <td>69.733297</td>\n",
       "      <td>burden</td>\n",
       "      <td>0.035046</td>\n",
       "      <td>0.018733</td>\n",
       "      <td>0.057114</td>\n",
       "      <td>burden</td>\n",
       "      <td>0.110655</td>\n",
       "      <td>0.093037</td>\n",
       "      <td>0.129904</td>\n",
       "    </tr>\n",
       "  </tbody>\n",
       "</table>\n",
       "</div>"
      ],
      "text/plain": [
       "                    context type in []   fairness  fairness lower bound  \\\n",
       "SVM (burden)            SVM     burden  64.813946             42.275234   \n",
       "logistic (burden)  logistic     burden  48.035892             28.237602   \n",
       "\n",
       "                   fairness upper bound  Feature (sex)  \\\n",
       "SVM (burden)                  87.129827      64.813946   \n",
       "logistic (burden)             69.733297      48.035892   \n",
       "\n",
       "                   Feature (sex) lower bound  Feature (sex) upper bound  \\\n",
       "SVM (burden)                       42.275234                  87.129827   \n",
       "logistic (burden)                  28.237602                  69.733297   \n",
       "\n",
       "                  type in Feature (sex)  Group details (sex_female)  \\\n",
       "SVM (burden)                     burden                    0.043936   \n",
       "logistic (burden)                burden                    0.035046   \n",
       "\n",
       "                   Group details (sex_female) lower bound  \\\n",
       "SVM (burden)                                     0.025621   \n",
       "logistic (burden)                                0.018733   \n",
       "\n",
       "                   Group details (sex_female) upper bound  \\\n",
       "SVM (burden)                                     0.067908   \n",
       "logistic (burden)                                0.057114   \n",
       "\n",
       "                  type in Feature (sex)  Group details (sex_male)  \\\n",
       "SVM (burden)                     burden                  0.092120   \n",
       "logistic (burden)                burden                  0.110655   \n",
       "\n",
       "                   Group details (sex_male) lower bound  \\\n",
       "SVM (burden)                                   0.077723   \n",
       "logistic (burden)                              0.093037   \n",
       "\n",
       "                   Group details (sex_male) upper bound  \n",
       "SVM (burden)                                   0.108148  \n",
       "logistic (burden)                              0.129904  "
      ]
     },
     "metadata": {},
     "output_type": "display_data"
    },
    {
     "data": {
      "image/png": "[encoded data removed]",
      "text/plain": [
       "<Figure size 1080x360 with 1 Axes>"
      ]
     },
     "metadata": {
      "needs_background": "light"
     },
     "output_type": "display_data"
    }
   ],
   "source": [
    "ordered_fairness_df = construct_scores_dataframe(scores(\"fairness\", ordered_results))\n",
    "display(ordered_fairness_df)\n",
    "\n",
    "plot_feature_fairness(partitioned_fairness_df)"
   ]
  },
  {
   "cell_type": "code",
   "execution_count": 23,
   "metadata": {},
   "outputs": [
    {
     "name": "stdout",
     "output_type": "stream",
     "text": [
      "logistic Accuracy:  0.6166666666666667\n",
      "SVM Accuracy:  0.6166666666666667\n"
     ]
    }
   ],
   "source": [
    "# Below we will display the Accuracy value computed during the performance evaluation\n",
    "print('logistic Accuracy: ', partitioned_results['performance']['logistic']['performance_metrics'][0]['value'])\n",
    "print('SVM Accuracy: ', partitioned_results['performance']['SVM']['performance_metrics'][0]['value'])"
   ]
  },
  {
   "cell_type": "code",
   "execution_count": 26,
   "metadata": {},
   "outputs": [],
   "source": [
    "# For the ordered multiclass use case at most two counterfactuals will produced, one in the\n",
    "# favorable direction and in the unfavorable direction\n",
    "logistic_explanations = construct_explanations_dataframe(explanations(partitioned_results, model_id='logistic'))\n",
    "svm_explanations = construct_explanations_dataframe(explanations(partitioned_results, model_id='SVM'))"
   ]
  },
  {
   "cell_type": "markdown",
   "metadata": {},
   "source": [
    "### Explanations for logistic Model:"
   ]
  },
  {
   "cell_type": "code",
   "execution_count": 27,
   "metadata": {},
   "outputs": [
    {
     "data": {
      "text/html": [
       "<div>\n",
       "<style scoped>\n",
       "    .dataframe tbody tr th:only-of-type {\n",
       "        vertical-align: middle;\n",
       "    }\n",
       "\n",
       "    .dataframe tbody tr th {\n",
       "        vertical-align: top;\n",
       "    }\n",
       "\n",
       "    .dataframe thead th {\n",
       "        text-align: right;\n",
       "    }\n",
       "</style>\n",
       "<table border=\"1\" class=\"dataframe\">\n",
       "  <thead>\n",
       "    <tr style=\"text-align: right;\">\n",
       "      <th></th>\n",
       "      <th>model</th>\n",
       "      <th>row</th>\n",
       "      <th>instance</th>\n",
       "      <th>cf_num</th>\n",
       "      <th>cf_type</th>\n",
       "      <th>prediction</th>\n",
       "      <th>fitness</th>\n",
       "      <th>age</th>\n",
       "      <th>sex</th>\n",
       "      <th>cp</th>\n",
       "      <th>trestbps</th>\n",
       "      <th>chol</th>\n",
       "      <th>fbs</th>\n",
       "      <th>restecg</th>\n",
       "      <th>thalach</th>\n",
       "      <th>exang</th>\n",
       "      <th>oldpeak</th>\n",
       "      <th>slope</th>\n",
       "      <th>ca</th>\n",
       "      <th>thal</th>\n",
       "    </tr>\n",
       "  </thead>\n",
       "  <tbody>\n",
       "    <tr>\n",
       "      <th>0</th>\n",
       "      <td>logistic</td>\n",
       "      <td>1</td>\n",
       "      <td>original</td>\n",
       "      <td>0</td>\n",
       "      <td>original prediction</td>\n",
       "      <td>0</td>\n",
       "      <td>0.0</td>\n",
       "      <td>45.0</td>\n",
       "      <td>sex_female</td>\n",
       "      <td>2.0</td>\n",
       "      <td>112.0</td>\n",
       "      <td>160.0</td>\n",
       "      <td>fbs_less_than_120mg/dl</td>\n",
       "      <td>0.0</td>\n",
       "      <td>138.0</td>\n",
       "      <td>exang_no</td>\n",
       "      <td>0.0</td>\n",
       "      <td>2.0</td>\n",
       "      <td>0.0</td>\n",
       "      <td>3.0</td>\n",
       "    </tr>\n",
       "  </tbody>\n",
       "</table>\n",
       "</div>"
      ],
      "text/plain": [
       "      model  row  instance  cf_num              cf_type  prediction  fitness  \\\n",
       "0  logistic    1  original       0  original prediction           0      0.0   \n",
       "\n",
       "    age         sex   cp  trestbps   chol                     fbs  restecg  \\\n",
       "0  45.0  sex_female  2.0     112.0  160.0  fbs_less_than_120mg/dl      0.0   \n",
       "\n",
       "   thalach     exang  oldpeak  slope   ca  thal  \n",
       "0    138.0  exang_no      0.0    2.0  0.0   3.0  "
      ]
     },
     "metadata": {},
     "output_type": "display_data"
    },
    {
     "data": {
      "text/html": [
       "<div>\n",
       "<style scoped>\n",
       "    .dataframe tbody tr th:only-of-type {\n",
       "        vertical-align: middle;\n",
       "    }\n",
       "\n",
       "    .dataframe tbody tr th {\n",
       "        vertical-align: top;\n",
       "    }\n",
       "\n",
       "    .dataframe thead th {\n",
       "        text-align: right;\n",
       "    }\n",
       "</style>\n",
       "<table border=\"1\" class=\"dataframe\">\n",
       "  <thead>\n",
       "    <tr style=\"text-align: right;\">\n",
       "      <th></th>\n",
       "      <th>instance</th>\n",
       "      <th>cf_num</th>\n",
       "      <th>cf_type</th>\n",
       "      <th>prediction</th>\n",
       "      <th>fitness</th>\n",
       "      <th>sex</th>\n",
       "      <th>ca</th>\n",
       "    </tr>\n",
       "  </thead>\n",
       "  <tbody>\n",
       "    <tr>\n",
       "      <th>0</th>\n",
       "      <td>original</td>\n",
       "      <td>0</td>\n",
       "      <td>original prediction</td>\n",
       "      <td>0</td>\n",
       "      <td>0.000000</td>\n",
       "      <td>sex_female</td>\n",
       "      <td>0.000000</td>\n",
       "    </tr>\n",
       "    <tr>\n",
       "      <th>0</th>\n",
       "      <td>counterfactual</td>\n",
       "      <td>1</td>\n",
       "      <td>prediction changed</td>\n",
       "      <td>1</td>\n",
       "      <td>0.271549</td>\n",
       "      <td>sex_male</td>\n",
       "      <td>2.498713</td>\n",
       "    </tr>\n",
       "  </tbody>\n",
       "</table>\n",
       "</div>"
      ],
      "text/plain": [
       "         instance  cf_num              cf_type  prediction   fitness  \\\n",
       "0        original       0  original prediction           0  0.000000   \n",
       "0  counterfactual       1   prediction changed           1  0.271549   \n",
       "\n",
       "          sex        ca  \n",
       "0  sex_female  0.000000  \n",
       "0    sex_male  2.498713  "
      ]
     },
     "metadata": {},
     "output_type": "display_data"
    }
   ],
   "source": [
    "display_explanation(logistic_explanations[logistic_explanations['row'] == 1]) "
   ]
  },
  {
   "cell_type": "markdown",
   "metadata": {},
   "source": [
    "### Explanations for SVM Model:"
   ]
  },
  {
   "cell_type": "code",
   "execution_count": 28,
   "metadata": {},
   "outputs": [
    {
     "data": {
      "text/html": [
       "<div>\n",
       "<style scoped>\n",
       "    .dataframe tbody tr th:only-of-type {\n",
       "        vertical-align: middle;\n",
       "    }\n",
       "\n",
       "    .dataframe tbody tr th {\n",
       "        vertical-align: top;\n",
       "    }\n",
       "\n",
       "    .dataframe thead th {\n",
       "        text-align: right;\n",
       "    }\n",
       "</style>\n",
       "<table border=\"1\" class=\"dataframe\">\n",
       "  <thead>\n",
       "    <tr style=\"text-align: right;\">\n",
       "      <th></th>\n",
       "      <th>model</th>\n",
       "      <th>row</th>\n",
       "      <th>instance</th>\n",
       "      <th>cf_num</th>\n",
       "      <th>cf_type</th>\n",
       "      <th>prediction</th>\n",
       "      <th>fitness</th>\n",
       "      <th>age</th>\n",
       "      <th>sex</th>\n",
       "      <th>cp</th>\n",
       "      <th>trestbps</th>\n",
       "      <th>chol</th>\n",
       "      <th>fbs</th>\n",
       "      <th>restecg</th>\n",
       "      <th>thalach</th>\n",
       "      <th>exang</th>\n",
       "      <th>oldpeak</th>\n",
       "      <th>slope</th>\n",
       "      <th>ca</th>\n",
       "      <th>thal</th>\n",
       "    </tr>\n",
       "  </thead>\n",
       "  <tbody>\n",
       "    <tr>\n",
       "      <th>0</th>\n",
       "      <td>SVM</td>\n",
       "      <td>2</td>\n",
       "      <td>original</td>\n",
       "      <td>0</td>\n",
       "      <td>original prediction</td>\n",
       "      <td>0</td>\n",
       "      <td>0.0</td>\n",
       "      <td>52.0</td>\n",
       "      <td>sex_male</td>\n",
       "      <td>4.0</td>\n",
       "      <td>112.0</td>\n",
       "      <td>230.0</td>\n",
       "      <td>fbs_less_than_120mg/dl</td>\n",
       "      <td>0.0</td>\n",
       "      <td>160.0</td>\n",
       "      <td>exang_no</td>\n",
       "      <td>0.0</td>\n",
       "      <td>1.0</td>\n",
       "      <td>1.0</td>\n",
       "      <td>3.0</td>\n",
       "    </tr>\n",
       "  </tbody>\n",
       "</table>\n",
       "</div>"
      ],
      "text/plain": [
       "  model  row  instance  cf_num              cf_type  prediction  fitness  \\\n",
       "0   SVM    2  original       0  original prediction           0      0.0   \n",
       "\n",
       "    age       sex   cp  trestbps   chol                     fbs  restecg  \\\n",
       "0  52.0  sex_male  4.0     112.0  230.0  fbs_less_than_120mg/dl      0.0   \n",
       "\n",
       "   thalach     exang  oldpeak  slope   ca  thal  \n",
       "0    160.0  exang_no      0.0    1.0  1.0   3.0  "
      ]
     },
     "metadata": {},
     "output_type": "display_data"
    },
    {
     "data": {
      "text/html": [
       "<div>\n",
       "<style scoped>\n",
       "    .dataframe tbody tr th:only-of-type {\n",
       "        vertical-align: middle;\n",
       "    }\n",
       "\n",
       "    .dataframe tbody tr th {\n",
       "        vertical-align: top;\n",
       "    }\n",
       "\n",
       "    .dataframe thead th {\n",
       "        text-align: right;\n",
       "    }\n",
       "</style>\n",
       "<table border=\"1\" class=\"dataframe\">\n",
       "  <thead>\n",
       "    <tr style=\"text-align: right;\">\n",
       "      <th></th>\n",
       "      <th>instance</th>\n",
       "      <th>cf_num</th>\n",
       "      <th>cf_type</th>\n",
       "      <th>prediction</th>\n",
       "      <th>fitness</th>\n",
       "      <th>exang</th>\n",
       "      <th>ca</th>\n",
       "    </tr>\n",
       "  </thead>\n",
       "  <tbody>\n",
       "    <tr>\n",
       "      <th>0</th>\n",
       "      <td>original</td>\n",
       "      <td>0</td>\n",
       "      <td>original prediction</td>\n",
       "      <td>0</td>\n",
       "      <td>0.000000</td>\n",
       "      <td>exang_no</td>\n",
       "      <td>1.000000</td>\n",
       "    </tr>\n",
       "    <tr>\n",
       "      <th>0</th>\n",
       "      <td>counterfactual</td>\n",
       "      <td>1</td>\n",
       "      <td>prediction changed</td>\n",
       "      <td>1</td>\n",
       "      <td>0.660476</td>\n",
       "      <td>exang_yes</td>\n",
       "      <td>1.478824</td>\n",
       "    </tr>\n",
       "  </tbody>\n",
       "</table>\n",
       "</div>"
      ],
      "text/plain": [
       "         instance  cf_num              cf_type  prediction   fitness  \\\n",
       "0        original       0  original prediction           0  0.000000   \n",
       "0  counterfactual       1   prediction changed           1  0.660476   \n",
       "\n",
       "       exang        ca  \n",
       "0   exang_no  1.000000  \n",
       "0  exang_yes  1.478824  "
      ]
     },
     "metadata": {},
     "output_type": "display_data"
    }
   ],
   "source": [
    "display_explanation(svm_explanations[svm_explanations['row'] == 2]) "
   ]
  },
  {
   "cell_type": "markdown",
   "metadata": {},
   "source": [
    "### Notes on the ordered multiclass scan \n",
    "\n",
    "Although this scan consisted of the same model and datasets as the partitioned multiclass scan, there are differing results between various evaluation due to the different formulations. For example, when comparing the explainability results between scans for the `logistic` model we can notice that counterfactuals generally required fewer feature changes in the ordered scan. This is likely because counterfactuals in the ordered formulation only need to change the predicted outcome to be more or less favorable (e.g. from 3 to 2), whereas in the partitioned formulation counterfactuals need to change the prediction outcome from the favorable group `{0}` to the unfavorable group `{1,2,3,4}` or vice-versa (e.g. from 3 to 0). The smaller changes in the prediction outcomes likely require fewer feature changes, which then explains the difference in explainabily results between scans.\n",
    "\n",
    "Note, that the difference in formulation doesn't apply to the robustness because robustness is a measure of how well a model retains a specific outcome given small changes in data feature values. Hence, why the robustness scores for both models are consistent between scans. "
   ]
  },
  {
   "cell_type": "code",
   "execution_count": null,
   "metadata": {},
   "outputs": [],
   "source": []
  }
 ],
 "metadata": {
  "kernelspec": {
   "display_name": "Python 3",
   "language": "python",
   "name": "python3"
  },
  "language_info": {
   "codemirror_mode": {
    "name": "ipython",
    "version": 3
   },
   "file_extension": ".py",
   "mimetype": "text/x-python",
   "name": "python",
   "nbconvert_exporter": "python",
   "pygments_lexer": "ipython3",
   "version": "3.6.12"
  }
 },
 "nbformat": 4,
 "nbformat_minor": 4
}
