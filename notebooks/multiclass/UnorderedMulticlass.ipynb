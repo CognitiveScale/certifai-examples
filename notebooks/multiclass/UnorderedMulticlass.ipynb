{
 "cells": [
  {
   "cell_type": "markdown",
   "metadata": {},
   "source": [
    "Copyright (c) 2020. Cognitive Scale Inc. All rights reserved.\n",
    "Licensed under CognitiveScale Example Code [License](https://github.com/CognitiveScale/cortex-certifai-examples/blob/master/LICENSE.md)\n"
   ]
  },
  {
   "cell_type": "markdown",
   "metadata": {},
   "source": [
    "# Unordered Multiclass Classification\n",
    "\n",
    "In this notebook we'll go through the process of building local multiclass classification models for the [Iris dataset](https://scikit-learn.org/stable/auto_examples/datasets/plot_iris_dataset.html) included with scikit-learn. We will then run a Certifai scan on said models to analyze Robustness, Explainability, and Performance.\n",
    "\n",
    "This is an example of an unordered multiclass classification use case because the outcome classes (e.g. species of iris flower) are neither favorable nor unfavorable. Consequently, fairness is not applicable in this scan."
   ]
  },
  {
   "cell_type": "code",
   "execution_count": 1,
   "metadata": {},
   "outputs": [],
   "source": [
    "import pandas as pd\n",
    "import matplotlib.pyplot as plt\n",
    "from IPython.display import display\n",
    "from sklearn.model_selection import train_test_split\n",
    "import numpy as np\n",
    "import random\n",
    "import pprint\n",
    "\n",
    "from sklearn.svm import SVC\n",
    "from sklearn.linear_model import LogisticRegression\n",
    "from sklearn.model_selection import GridSearchCV\n",
    "from sklearn.pipeline import Pipeline\n",
    "from sklearn.preprocessing import StandardScaler\n",
    "from sklearn.datasets import load_iris\n",
    "\n",
    "from certifai.scanner.builder import (CertifaiScanBuilder, CertifaiPredictorWrapper, CertifaiModel, CertifaiModelMetric,\n",
    "                                      CertifaiDataset, CertifaiGroupingFeature, CertifaiDatasetSource,\n",
    "                                      CertifaiPredictionTask, CertifaiTaskOutcomes, CertifaiOutcomeValue)\n",
    "from certifai.scanner.report_utils import scores, construct_scores_dataframe"
   ]
  },
  {
   "cell_type": "code",
   "execution_count": 2,
   "metadata": {},
   "outputs": [
    {
     "name": "stdout",
     "output_type": "stream",
     "text": [
      "Model 'SVM' accuracy is 1.0\n",
      "Model 'logistic' accuracy is 1.0\n"
     ]
    }
   ],
   "source": [
    "# Load and prepare iris dataset to train a logistic regression and svm model\n",
    "\n",
    "RANDOM_SEED = 42\n",
    "iris = load_iris()\n",
    "X = pd.DataFrame(iris.data, columns=iris.feature_names)\n",
    "Y = pd.Series(iris.target, name='target')\n",
    "\n",
    "X_train, X_test, Y_train, Y_test = train_test_split(X, Y, test_size=0.20, random_state=RANDOM_SEED)\n",
    "\n",
    "# Train models\n",
    "\n",
    "def build_model(data, name, model_family, test=None):\n",
    "    if test is None:\n",
    "        test = data\n",
    "        \n",
    "    def scaled_model(model):\n",
    "        scaler = StandardScaler()\n",
    "        return Pipeline([(\"scaler\", scaler), (model_family, model)])\n",
    "        \n",
    "    if model_family == 'SVM':\n",
    "        parameters = {'SVM__kernel':('linear', 'rbf', 'poly'), 'SVM__C':[0.1, .5, 1, 2, 4, 10], 'SVM__gamma':['auto']}\n",
    "        m = scaled_model(SVC())\n",
    "    elif model_family == 'logistic':\n",
    "        parameters = {'logistic__C': (0.5, 1.0, 2.0), 'logistic__solver': ['lbfgs'], 'logistic__max_iter': [1000]}\n",
    "        m = scaled_model(LogisticRegression())\n",
    "    model = GridSearchCV(m, parameters, cv=3)\n",
    "    model.fit(data[0], data[1])\n",
    "\n",
    "    # Assess on the test data\n",
    "    accuracy = model.score(test[0], test[1].values)\n",
    "    print(f\"Model '{name}' accuracy is {accuracy}\")\n",
    "    return model\n",
    "\n",
    "\n",
    "svm_model = build_model((X_train.values, Y_train),\n",
    "                        \"SVM\",\n",
    "                        \"SVM\",\n",
    "                        (X_test.values, Y_test))\n",
    "\n",
    "logistic_model = build_model((X_train.values, Y_train),\n",
    "                          \"logistic\",\n",
    "                          \"logistic\",\n",
    "                          (X_test.values, Y_test))"
   ]
  },
  {
   "cell_type": "code",
   "execution_count": 3,
   "metadata": {},
   "outputs": [],
   "source": [
    "# Wrap the model up for use by Certifai as a local model\n",
    "svm_model_proxy = CertifaiPredictorWrapper(svm_model)\n",
    "logistic_model_proxy = CertifaiPredictorWrapper(logistic_model)"
   ]
  },
  {
   "cell_type": "code",
   "execution_count": 4,
   "metadata": {},
   "outputs": [
    {
     "name": "stdout",
     "output_type": "stream",
     "text": [
      "None\n"
     ]
    }
   ],
   "source": [
    "# Create the scan object from scratch using the ScanBuilder class\n",
    "\n",
    "# Below we create the prediction task, and set the `prediction_favorability` to `none` to specify that\n",
    "# the outcome classes are neither favorable or unfavorable. Similarly none of the prediction outcomes\n",
    "# below are marked as favorable.\n",
    "unordered_task = CertifaiPredictionTask(CertifaiTaskOutcomes.classification(\n",
    "    [\n",
    "        CertifaiOutcomeValue(0, \"Iris - setosa\"),\n",
    "        CertifaiOutcomeValue(1, \"Iris - versicolor\"),\n",
    "        CertifaiOutcomeValue(2, \"Iris - virginica\")\n",
    "    ],\n",
    "    prediction_favorability='none'),\n",
    "    prediction_description='Iris species')\n",
    "\n",
    "scan = CertifaiScanBuilder.create(\"unordered_multiclass_test_use_case\",\n",
    "                                  prediction_task=unordered_task)\n",
    "\n",
    "## Add models\n",
    "first_model = CertifaiModel('SVM', local_predictor=svm_model_proxy)\n",
    "scan.add_model(first_model)\n",
    "\n",
    "second_model = CertifaiModel('logistic', local_predictor=logistic_model_proxy)\n",
    "scan.add_model(second_model)\n",
    "\n",
    "## Add datasets\n",
    "eval_df = pd.concat([X, Y], axis=1)\n",
    "eval_dataset = CertifaiDataset('evaluation', CertifaiDatasetSource.dataframe(eval_df))\n",
    "scan.add_dataset(eval_dataset)\n",
    "scan.evaluation_dataset_id = 'evaluation'\n",
    "\n",
    "test_df = pd.concat([X_test, Y_test], axis=1)\n",
    "test_dataset = CertifaiDataset('test', CertifaiDatasetSource.dataframe(test_df))\n",
    "scan.add_dataset(test_dataset)\n",
    "scan.test_dataset_id = 'test'\n",
    "\n",
    "# Because the dataset contains a ground truth outcome column which the model does not\n",
    "# expect to receive as input we need to state that in the dataset schema (since it cannot\n",
    "# be inferred from the CSV)\n",
    "scan.dataset_schema.outcome_feature_name = 'target'\n",
    "\n",
    "## Add evaluation types\n",
    "scan.add_evaluation_type('robustness')\n",
    "scan.add_evaluation_type('explainability')\n",
    "scan.add_evaluation_type('performance')\n",
    "scan.add_metric(CertifaiModelMetric('accuracy', 'accuracy'))\n",
    "scan.atx_performance_metric = 'accuracy'\n",
    "print(scan.explanation_dataset_id)"
   ]
  },
  {
   "cell_type": "code",
   "execution_count": 5,
   "metadata": {},
   "outputs": [
    {
     "name": "stdout",
     "output_type": "stream",
     "text": [
      "Starting scan with model_use_case_id: 'unordered_multiclass_test_use_case' and scan_id: 'fc264cbf1ab1'\n",
      "[--------------------] 2020-10-22 21:05:27.933605 - 0 of 6 reports (0.0% complete) - Running robustness evaluation for model: SVM\n",
      "[###-----------------] 2020-10-22 21:05:41.070518 - 1 of 6 reports (16.67% complete) - Running explainability evaluation for model: SVM\n",
      "[######--------------] 2020-10-22 21:05:51.940853 - 2 of 6 reports (33.33% complete) - Running performance evaluation for model: SVM\n",
      "[##########----------] 2020-10-22 21:05:51.947048 - 3 of 6 reports (50.0% complete) - Running robustness evaluation for model: logistic\n",
      "[#############-------] 2020-10-22 21:06:03.421849 - 4 of 6 reports (66.67% complete) - Running explainability evaluation for model: logistic\n",
      "[################----] 2020-10-22 21:06:13.696281 - 5 of 6 reports (83.33% complete) - Running performance evaluation for model: logistic\n",
      "[####################] 2020-10-22 21:06:13.701346 - 6 of 6 reports (100.0% complete) - Completed all evaluations\n"
     ]
    }
   ],
   "source": [
    "# Run the scan.\n",
    "# By default this will write the results into individual report files (one per model and evaluation\n",
    "# type) in the 'local_reports' directory relative to this notebook. This may be disabled by specifying\n",
    "# `write_reports=False` as below\n",
    "# The result is a dictionary of dictionaries of reports.  The top level dict key is the evaluation type\n",
    "# and the second level key is model id.\n",
    "results = scan.run(write_reports=False)"
   ]
  },
  {
   "cell_type": "code",
   "execution_count": 6,
   "metadata": {},
   "outputs": [
    {
     "data": {
      "text/html": [
       "<div>\n",
       "<style scoped>\n",
       "    .dataframe tbody tr th:only-of-type {\n",
       "        vertical-align: middle;\n",
       "    }\n",
       "\n",
       "    .dataframe tbody tr th {\n",
       "        vertical-align: top;\n",
       "    }\n",
       "\n",
       "    .dataframe thead th {\n",
       "        text-align: right;\n",
       "    }\n",
       "</style>\n",
       "<table border=\"1\" class=\"dataframe\">\n",
       "  <thead>\n",
       "    <tr style=\"text-align: right;\">\n",
       "      <th></th>\n",
       "      <th>context</th>\n",
       "      <th>robustness</th>\n",
       "      <th>robustness lower bound</th>\n",
       "      <th>robustness upper bound</th>\n",
       "    </tr>\n",
       "  </thead>\n",
       "  <tbody>\n",
       "    <tr>\n",
       "      <th>SVM</th>\n",
       "      <td>SVM</td>\n",
       "      <td>72.406198</td>\n",
       "      <td>68.040058</td>\n",
       "      <td>76.505996</td>\n",
       "    </tr>\n",
       "    <tr>\n",
       "      <th>logistic</th>\n",
       "      <td>logistic</td>\n",
       "      <td>72.812032</td>\n",
       "      <td>68.779293</td>\n",
       "      <td>76.826114</td>\n",
       "    </tr>\n",
       "  </tbody>\n",
       "</table>\n",
       "</div>"
      ],
      "text/plain": [
       "           context  robustness  robustness lower bound  robustness upper bound\n",
       "SVM            SVM   72.406198               68.040058               76.505996\n",
       "logistic  logistic   72.812032               68.779293               76.826114"
      ]
     },
     "metadata": {},
     "output_type": "display_data"
    },
    {
     "data": {
      "image/png": "[encoded data removed]",
      "text/plain": [
       "<Figure size 576x360 with 1 Axes>"
      ]
     },
     "metadata": {
      "needs_background": "light"
     },
     "output_type": "display_data"
    }
   ],
   "source": [
    "# Display the results of the robustness evaluation for both models\n",
    "robustness_df = construct_scores_dataframe(scores(\"robustness\", results))\n",
    "display(robustness_df)\n",
    "\n",
    "%matplotlib inline\n",
    "\n",
    "def plot_robustness_scores():\n",
    "    labels = robustness_df['context'].values\n",
    "    robustness_scores = robustness_df.iloc[:, 1].values\n",
    "    lower_errors = robustness_scores - robustness_df.iloc[:, 2].values\n",
    "    upper_errors = robustness_df.iloc[:, 3].values - robustness_scores\n",
    "    x = np.arange(len(labels))\n",
    "\n",
    "    fig, axs = plt.subplots(figsize=[8,5])\n",
    "    axs.set_title(\"Robustness Scores by Model\", fontsize=20)\n",
    "    width = 0.8\n",
    "\n",
    "    rect1 = axs.bar(x, robustness_scores, width, yerr=[lower_errors, upper_errors], capsize=7)\n",
    "    rect1[1].set_color('orange')\n",
    "\n",
    "    axs.set_ylim(top=100)\n",
    "    axs.set_ylabel('Robustness Score')\n",
    "    axs.set_xticks(x)\n",
    "    axs.set_xticklabels(labels)\n",
    "\n",
    "    fig.tight_layout()\n",
    "    plt.show()\n",
    "\n",
    "plot_robustness_scores()"
   ]
  },
  {
   "cell_type": "code",
   "execution_count": 7,
   "metadata": {},
   "outputs": [
    {
     "data": {
      "text/html": [
       "<div>\n",
       "<style scoped>\n",
       "    .dataframe tbody tr th:only-of-type {\n",
       "        vertical-align: middle;\n",
       "    }\n",
       "\n",
       "    .dataframe tbody tr th {\n",
       "        vertical-align: top;\n",
       "    }\n",
       "\n",
       "    .dataframe thead th {\n",
       "        text-align: right;\n",
       "    }\n",
       "</style>\n",
       "<table border=\"1\" class=\"dataframe\">\n",
       "  <thead>\n",
       "    <tr style=\"text-align: right;\">\n",
       "      <th></th>\n",
       "      <th>context</th>\n",
       "      <th>explainability</th>\n",
       "      <th>Num features (1)</th>\n",
       "      <th>Num features (10)</th>\n",
       "      <th>Num features (2)</th>\n",
       "      <th>Num features (3)</th>\n",
       "      <th>Num features (4)</th>\n",
       "      <th>Num features (5)</th>\n",
       "      <th>Num features (6)</th>\n",
       "      <th>Num features (7)</th>\n",
       "      <th>Num features (8)</th>\n",
       "      <th>Num features (9)</th>\n",
       "    </tr>\n",
       "  </thead>\n",
       "  <tbody>\n",
       "    <tr>\n",
       "      <th>SVM</th>\n",
       "      <td>SVM</td>\n",
       "      <td>97.539062</td>\n",
       "      <td>78.90625</td>\n",
       "      <td>0.0</td>\n",
       "      <td>18.75000</td>\n",
       "      <td>2.34375</td>\n",
       "      <td>0.0</td>\n",
       "      <td>0.0</td>\n",
       "      <td>0.0</td>\n",
       "      <td>0.0</td>\n",
       "      <td>0.0</td>\n",
       "      <td>0.0</td>\n",
       "    </tr>\n",
       "    <tr>\n",
       "      <th>logistic</th>\n",
       "      <td>logistic</td>\n",
       "      <td>96.367188</td>\n",
       "      <td>76.56250</td>\n",
       "      <td>0.0</td>\n",
       "      <td>14.84375</td>\n",
       "      <td>8.59375</td>\n",
       "      <td>0.0</td>\n",
       "      <td>0.0</td>\n",
       "      <td>0.0</td>\n",
       "      <td>0.0</td>\n",
       "      <td>0.0</td>\n",
       "      <td>0.0</td>\n",
       "    </tr>\n",
       "  </tbody>\n",
       "</table>\n",
       "</div>"
      ],
      "text/plain": [
       "           context  explainability  Num features (1)  Num features (10)  \\\n",
       "SVM            SVM       97.539062          78.90625                0.0   \n",
       "logistic  logistic       96.367188          76.56250                0.0   \n",
       "\n",
       "          Num features (2)  Num features (3)  Num features (4)  \\\n",
       "SVM               18.75000           2.34375               0.0   \n",
       "logistic          14.84375           8.59375               0.0   \n",
       "\n",
       "          Num features (5)  Num features (6)  Num features (7)  \\\n",
       "SVM                    0.0               0.0               0.0   \n",
       "logistic               0.0               0.0               0.0   \n",
       "\n",
       "          Num features (8)  Num features (9)  \n",
       "SVM                    0.0               0.0  \n",
       "logistic               0.0               0.0  "
      ]
     },
     "metadata": {},
     "output_type": "display_data"
    },
    {
     "data": {
      "image/png": "[encoded data removed]",
      "text/plain": [
       "<Figure size 1080x360 with 2 Axes>"
      ]
     },
     "metadata": {
      "needs_background": "light"
     },
     "output_type": "display_data"
    }
   ],
   "source": [
    "# Display the results of the explainability evaluation for both models\n",
    "# The table displays the distributions over the number of features that must be changed to alter predictions\n",
    "explainability_df = construct_scores_dataframe(scores('explainability', results))\n",
    "display(explainability_df)\n",
    "\n",
    "%matplotlib inline\n",
    "\n",
    "def plot_histogram(axs, model_id):\n",
    "    num_features = list(range(1, 11))\n",
    "    columns = [f\"Num features ({i})\" for i in num_features]\n",
    "    percentages = explainability_df.loc[model_id, columns].values\n",
    "    \n",
    "    axs.bar(num_features, percentages)\n",
    "    axs.set_xticks(num_features)\n",
    "    axs.set_xlabel('Number of features', fontsize=15)\n",
    "    axs.set_title(f\"Model {model_id}\", fontsize=15)\n",
    "    axs.set_ylabel('Distributions', fontsize=15)\n",
    "    axs.set_ylim(top=100)\n",
    "\n",
    "def plot_explainability_histograms():\n",
    "    labels = explainability_df['context'].values\n",
    "    \n",
    "    fig, (axs1, axs2) = plt.subplots(1, 2, figsize=[15,5])\n",
    "    fig.suptitle('Explainability results by model', fontsize=20)\n",
    "    \n",
    "    plot_histogram(axs1, labels[0])\n",
    "    plot_histogram(axs2, labels[1])\n",
    "    \n",
    "    fig.tight_layout()\n",
    "    plt.show()\n",
    "    \n",
    "plot_explainability_histograms()"
   ]
  },
  {
   "cell_type": "code",
   "execution_count": 8,
   "metadata": {},
   "outputs": [
    {
     "name": "stdout",
     "output_type": "stream",
     "text": [
      "logistic Accuracy:  1.0\n",
      "SVM Accuracy:  1.0\n"
     ]
    }
   ],
   "source": [
    "# Below we will display the Accuracy value computed during the performance evaluation\n",
    "print('logistic Accuracy: ', results['performance']['logistic']['performance_metrics'][0]['value'])\n",
    "print('SVM Accuracy: ', results['performance']['SVM']['performance_metrics'][0]['value'])"
   ]
  },
  {
   "cell_type": "code",
   "execution_count": null,
   "metadata": {},
   "outputs": [],
   "source": []
  }
 ],
 "metadata": {
  "kernelspec": {
   "display_name": "Python 3",
   "language": "python",
   "name": "python3"
  },
  "language_info": {
   "codemirror_mode": {
    "name": "ipython",
    "version": 3
   },
   "file_extension": ".py",
   "mimetype": "text/x-python",
   "name": "python",
   "nbconvert_exporter": "python",
   "pygments_lexer": "ipython3",
   "version": "3.6.8"
  }
 },
 "nbformat": 4,
 "nbformat_minor": 4
}
