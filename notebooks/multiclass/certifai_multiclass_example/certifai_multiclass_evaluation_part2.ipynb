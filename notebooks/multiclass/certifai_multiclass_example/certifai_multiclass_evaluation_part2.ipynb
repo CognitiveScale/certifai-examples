{
 "cells": [
  {
   "cell_type": "markdown",
   "metadata": {},
   "source": [
    "## Building a Cortex Certifai scan programatically\n",
    "\n",
    "In this notebook we'll build up a scan definition from first principles, against a local model trained within the notebook. We will then run that scan and save its results. \n",
    "\n",
    "- Load the dataset and model from disk\n",
    "- Create scan defintion using Certifai Builder Api\n",
    "- Refer to the [Cortex Certifai documentation](https://cognitivescale.github.io/cortex-certifai/docs/about) for detailed information about Cortex Certifai.\n",
    "- Refer to [Cortex Certifai Examples Github](https://github.com/CognitiveScale/cortex-certifai-examples) for more self start tutorials\n",
    "\n",
    "*Please Note*: this notebook assumes: \n",
    "- trained model and dataset is available within the the environment\n",
    "- Cortex Certifai toolkit and model dependencies are installed\n"
   ]
  },
  {
   "cell_type": "code",
   "execution_count": 1,
   "metadata": {},
   "outputs": [],
   "source": [
    "import pandas as pd\n",
    "import matplotlib.pyplot as plt\n",
    "from IPython.display import display\n",
    "import numpy as np\n",
    "from certifai.scanner.builder import (CertifaiScanBuilder, CertifaiPredictorWrapper, CertifaiModel, CertifaiModelMetric,\n",
    "                                      CertifaiDataset, CertifaiGroupingFeature, CertifaiDatasetSource,\n",
    "                                      CertifaiPredictionTask, CertifaiTaskOutcomes, CertifaiOutcomeValue, CertifaiModelMetric,\n",
    "                                      CertifaiFeatureDataType,CertifaiFeatureSchema, CertifaiDataSchema,CertifaiFeatureRestriction)\n",
    "from certifai.scanner.report_utils import scores, construct_scores_dataframe\n",
    "from certifai.common.utils.encoding import CatEncoder\n",
    "import joblib"
   ]
  },
  {
   "cell_type": "code",
   "execution_count": 2,
   "metadata": {},
   "outputs": [
    {
     "name": "stdout",
     "output_type": "stream",
     "text": [
      "sklearn version is 0.23.1\n",
      "numpy version is 1.19.1 \n",
      "Certifai version: 1.3.3\n",
      "Scanner build: 1.3.3-159-ga98e943b\n",
      "Console build: 1.3.3-192-ge7163f9\n"
     ]
    }
   ],
   "source": [
    "# check required packages and their version\n",
    "import sklearn as scikit\n",
    "print(f'sklearn version is {scikit.__version__}')\n",
    "print(f'numpy version is {np.__version__} ')\n",
    "!certifai --version"
   ]
  },
  {
   "cell_type": "code",
   "execution_count": 3,
   "metadata": {},
   "outputs": [],
   "source": [
    "seed = 42\n",
    "np.random.seed(seed)"
   ]
  },
  {
   "cell_type": "markdown",
   "metadata": {},
   "source": [
    "\n",
    "### Load pre-trained model from disk along with encoder (if present)\n",
    "\n",
    "- replace model_path variable below to point to stored model binary on disk\n"
   ]
  },
  {
   "cell_type": "code",
   "execution_count": 4,
   "metadata": {},
   "outputs": [
    {
     "name": "stdout",
     "output_type": "stream",
     "text": [
      "loading models/german_credit_multiclass.joblib\n",
      "Pipeline(steps=[('full_pipeline',\n",
      "                 Pipeline(steps=[('transformer',\n",
      "                                  TransformerCustom(cat_columns=None,\n",
      "                                                    data_encoded=None,\n",
      "                                                    normalize=None,\n",
      "                                                    string_equivalence=None))])),\n",
      "                ('model',\n",
      "                 GridSearchCV(cv=5, estimator=LogisticRegression(),\n",
      "                              param_grid={'C': (0.5, 1.0, 2.0),\n",
      "                                          'max_iter': [1000],\n",
      "                                          'solver': ['lbfgs']}))])\n"
     ]
    },
    {
     "name": "stderr",
     "output_type": "stream",
     "text": [
      "From version 0.24, get_params will raise an AttributeError if a parameter cannot be retrieved as an instance attribute. Previously it would return None.\n"
     ]
    }
   ],
   "source": [
    "# load model \n",
    "model_path = 'models/german_credit_multiclass.joblib'\n",
    "print(f'loading {model_path}')\n",
    "try:\n",
    "    model = joblib.load(model_path)\n",
    "except FileNotFoundError as e:\n",
    "    print(f'model `{model_path}` not found. Looks like model has not been trained or file location is wrong')\n",
    "    raise Exception(str(e))\n",
    "print(model)"
   ]
  },
  {
   "cell_type": "code",
   "execution_count": 5,
   "metadata": {},
   "outputs": [],
   "source": [
    "base_path = '../..'\n",
    "all_data_file = f\"{base_path}/datasets/german_credit_eval_multiclass_encoded.csv\"\n",
    "\n",
    "df = pd.read_csv(all_data_file)\n",
    "\n",
    "one_hot_encoded_cat_cols = [\n",
    "         'checkingstatus',\n",
    "         'others',\n",
    "         'age',\n",
    "         'job',\n",
    "         'employ',\n",
    "         'property',\n",
    "         'foreign',\n",
    "         'history',\n",
    "         'savings',\n",
    "         'purpose',\n",
    "         'housing'       \n",
    "        ]\n",
    "\n",
    "target_encoded_cat_cols = ['otherplans', 'status', 'telephone']\n",
    "value_encoded_cat_cols =  []\n",
    "label_column = 'outcome'\n"
   ]
  },
  {
   "cell_type": "code",
   "execution_count": 6,
   "metadata": {},
   "outputs": [],
   "source": [
    "# currently Certifai doesn't natively support TargetEncoded categoricals features, \n",
    "# built-in support will be added in the next release\n",
    "# this is a workaround for time being\n",
    "# for Certifai to deal with floating point categoricals(target encoded),\n",
    "# we need to covert targeted encoded cols to string\n",
    "# we will be passing this dataframe to certifai for evaluation(see Adding Certifai Evaluation section below)\n",
    "\n",
    "df_st = df.copy()\n",
    "decimals = 3    \n",
    "df_st[target_encoded_cat_cols] = df[target_encoded_cat_cols].apply(lambda x: round(x, decimals)).astype(str)"
   ]
  },
  {
   "cell_type": "markdown",
   "metadata": {},
   "source": [
    "###  target_encoded string categorical to floating point encoding"
   ]
  },
  {
   "cell_type": "code",
   "execution_count": 7,
   "metadata": {},
   "outputs": [
    {
     "name": "stdout",
     "output_type": "stream",
     "text": [
      "Overwriting encoder.py\n"
     ]
    }
   ],
   "source": [
    "%%writefile encoder.py\n",
    "class Encoder:\n",
    "    def __init__(self, X, target_encoded_cols):\n",
    "        self.indx = [X.columns.get_loc(c) for c in target_encoded_cols]\n",
    "    \n",
    "    def __call__(self,X):\n",
    "        X[:,self.indx] = X[:,self.indx].astype(float)\n",
    "        return X"
   ]
  },
  {
   "cell_type": "code",
   "execution_count": 8,
   "metadata": {},
   "outputs": [],
   "source": [
    "# create the encoder callable(on the new dataFrame) to be passed to certifai\n",
    "# this is to convert target_encoded strings in new dataframe back to floating points \n",
    "# since model is trained on target encoded features(floating points)\n",
    "from encoder import Encoder\n",
    "y = df_st[label_column]\n",
    "X = df_st.drop(label_column,axis=1)\n",
    "encoder = Encoder(X,target_encoded_cat_cols)"
   ]
  },
  {
   "cell_type": "markdown",
   "metadata": {},
   "source": [
    "### Load Dataset and create one-hot feature-value mappings dict\n",
    "\n",
    "- our dataset has one-hot feature values encoded as dataset columns along with target_encoded categoricals\n",
    "- these one-hot encoded features present as column have column names delimited using `_` e.g. `age_<= 25 years`  `age_> 25 years` etc.\n",
    "- we create one hot value mappings for each  one-hot encoded feature below\n",
    "(e.g. `feature`: {`column_name_correponding_to_feature`: `features_value_in_column_for_given_feature`} )\n",
    "    ```\n",
    "    'age': {'age_<= 25 years': '<= 25 years', \n",
    "    'age_> 25 years': '> 25 years'}\n",
    "   ```\n",
    "- `one_hot_value_mappings` created above will be used later used to create `CertifaiDatasetSchema` \n",
    "> **Please Note**: this is only needed in-case dataset already has one-hot encoded feature as columns. Also if you already have the persisted mappings with same schema you can use that as well"
   ]
  },
  {
   "cell_type": "code",
   "execution_count": 9,
   "metadata": {},
   "outputs": [],
   "source": [
    "from collections import defaultdict\n",
    "mappings = defaultdict(list)\n",
    "for col in df_st.columns.to_list():\n",
    "    col_list = []\n",
    "    feature_name,feature_value = col.split('_')[0], col.split('_')[1:]\n",
    "    if feature_name in one_hot_encoded_cat_cols:\n",
    "        if feature_value:\n",
    "            mappings[feature_name].append('_'.join(feature_value))\n",
    "\n",
    "# create a mapping from {feature -> {1-hot_column_name_in_csv: feature_value }} using the feature `mapping` list\n",
    "\n",
    "\"\"\"\n",
    "workclass:\n",
    "     workclass_Local-gov -> Local-gov\n",
    "     workclass_Self-emp-inc -> Self-emp-inc\n",
    "\"\"\"\n",
    "one_hot_value_mappings = {}\n",
    "for k,v in mappings.items():\n",
    "    one_hot_value_mappings[k] = { f'{k}_{cols}':cols  for cols in v} "
   ]
  },
  {
   "cell_type": "markdown",
   "metadata": {},
   "source": [
    "### Construct target encoder mappings \n",
    "- to generate target_mappings using `category_encoders.target_encoder.TargetEncoder` (from category-encoders package) `te` object we can use the below snippet\n",
    "```\n",
    "target_mappings = {}\n",
    "for feature in target_encode_cat_cols:\n",
    "    feature_mappings = {}\n",
    "    for ordinal_mapping in te.ordinal_encoder.category_mapping:\n",
    "        if ordinal_mapping['col'] == feature:\n",
    "            mapping = ordinal_mapping['mapping']\n",
    "            for idx, ordinal in enumerate(mapping):\n",
    "                label = mapping.index[idx]\n",
    "                if not (isinstance(label, float) and np.isnan(label)):\n",
    "                    feature_mappings[label] = te.mapping[feature][ordinal]\n",
    "            break\n",
    "    target_mappings[feature] = feature_mappings\n",
    "```    "
   ]
  },
  {
   "cell_type": "code",
   "execution_count": 10,
   "metadata": {},
   "outputs": [
    {
     "name": "stdout",
     "output_type": "stream",
     "text": [
      "dict_keys(['one_hot_encoded_mappings', 'target_encoded_mappings'])\n",
      "---------\n",
      "target encoded value mappings ->\n",
      "{'status': {'male : single': 1.594890510948905, 'female : divorced/separated/married': 1.706451612903226, 'male : married/widowed': 1.608695652173913, 'male : divorced/separated': 1.72}, 'telephone': {'phone - none': 1.7080536912751678, 'phone - yes, registered under the customers name': 1.5321782178217822}, 'otherplans': {'none': 1.628992628992629, 'stores': 1.6808510638297873, 'bank': 1.669064748201439}}\n"
     ]
    }
   ],
   "source": [
    "# above cell demonstrates how to create the mappings\n",
    "# we use the persisted value mappings created using same code from above\n",
    "# we also get the target_encoded mappings\n",
    "import json\n",
    "with open('../dataset_generation/cat_mappings.json', 'r') as fl:\n",
    "    mappings = json.load(fl)   \n",
    "print(mappings.keys())\n",
    "one_hot_value_mappings = mappings.get('one_hot_encoded_mappings')\n",
    "target_mappings = mappings.get('target_encoded_mappings')\n",
    "print(f'---------\\ntarget encoded value mappings ->\\n{target_mappings}')\n"
   ]
  },
  {
   "cell_type": "markdown",
   "metadata": {},
   "source": [
    "## Certifai Evaluation Setup"
   ]
  },
  {
   "cell_type": "markdown",
   "metadata": {},
   "source": [
    "### create Certifai model proxy\n",
    "\n",
    "- [CertifaiPredictorWrapper](https://cognitivescale.github.io/cortex-certifai/certifai-api-ref-1.3.2/certifai.scanner.builder.html?highlight=certifaipredictorwrapper#certifai.scanner.builder.CertifaiPredictorWrapper) api is used to wrap model objects with encoder/decoder callables\n",
    "- if model has encoding, decoding capabilities built into it, `encoder`/`decoder` kwargs need not be provided"
   ]
  },
  {
   "cell_type": "code",
   "execution_count": 11,
   "metadata": {},
   "outputs": [],
   "source": [
    "model_proxy = CertifaiPredictorWrapper(model,encoder=encoder)"
   ]
  },
  {
   "cell_type": "markdown",
   "metadata": {},
   "source": [
    "### test wrapped model_proxy predicts"
   ]
  },
  {
   "cell_type": "code",
   "execution_count": 12,
   "metadata": {},
   "outputs": [],
   "source": [
    "# # test to assert wrapped certifai model predicts == raw model predicts\n",
    "assert (model_proxy.model.predict(encoder(X[:10].values)) == \n",
    "        model.predict(df.drop(label_column, axis=1)[:10].values)).all"
   ]
  },
  {
   "cell_type": "markdown",
   "metadata": {},
   "source": [
    "\n",
    "### define  Certifai task type\n",
    "\n",
    "- CertifaiTaskOutcomes : Cortex Certifai supports classification as well as regression models. Here we have an example of multiclass classificaton (e.g. Determine whether a loan should be granted)\n",
    "- CertifaiOutcomeValue : define the outcomes possible from the model predictions. here we have a multiclass classification model that predicts whether loan will be \n",
    "- `granted`,\n",
    "- `denied` or sent for\n",
    "- `further inspection`\n",
    "\n",
    "\n",
    "Note: Please refer to Certifai Api [docs](https://cognitivescale.github.io/cortex-certifai/certifai-api-ref/certifai.scanner.builder.html) for more details"
   ]
  },
  {
   "cell_type": "code",
   "execution_count": 13,
   "metadata": {},
   "outputs": [],
   "source": [
    "# Create Certifai evaluation task and add that to scan object\n",
    "# First define the possible prediction outcomes\n",
    "\n",
    "task = CertifaiPredictionTask(CertifaiTaskOutcomes.classification(\n",
    "    [\n",
    "        CertifaiOutcomeValue(1, name='Loan granted', favorable=True),\n",
    "        CertifaiOutcomeValue(2, name='Loan denied', favorable=False),\n",
    "        CertifaiOutcomeValue(3, name='further inspection', favorable=False)\n",
    "    ],\n",
    "    favorable_outcome_group_name = 'Loan Granted',\n",
    "    unfavorable_outcome_group_name = 'Loan Denied of subject to futher inspection'\n",
    "),\n",
    "                     \n",
    "    prediction_description='Determine whether a loan should be granted')\n",
    "\n",
    "scan = CertifaiScanBuilder.create('german_credit_multiclass',\n",
    "                                  prediction_task=task)"
   ]
  },
  {
   "cell_type": "markdown",
   "metadata": {},
   "source": [
    "### add the model to be evaluated from above"
   ]
  },
  {
   "cell_type": "code",
   "execution_count": 14,
   "metadata": {},
   "outputs": [],
   "source": [
    "first_model = CertifaiModel('german_credit_multiclass', local_predictor=model_proxy)\n",
    "scan.add_model(first_model)"
   ]
  },
  {
   "cell_type": "markdown",
   "metadata": {},
   "source": [
    "### create `CertifaiFeatureSchema` using categorical mappings dict from above\n",
    "\n",
    "- for one-hot encoded features we use `one_hot_value_mappings` from above to let Certifai know the different features values along with data types for that particular feature\n",
    "- for target encoded and value encoded features we let Certifai know their unique sets of values\n",
    "- define [CertifaiFeatureDataType](https://cognitivescale.github.io/cortex-certifai/certifai-api-ref-1.3.2/certifai.scanner.builder.html?highlight=certifaifeaturedatatype#certifai.scanner.builder.CertifaiFeatureDataType) for categorical features\n",
    "- define [CertifaiFeatureSchema](https://cognitivescale.github.io/cortex-certifai/certifai-api-ref-1.3.2/certifai.scanner.builder.html?highlight=certifaifeatureschema#certifai.scanner.builder.CertifaiFeatureSchema) for the datatype created above\n",
    "- add the schema to [CertifaiDataSchema](https://cognitivescale.github.io/cortex-certifai/certifai-api-ref-1.3.2/certifai.scanner.builder.html?highlight=certifaidataschema#certifai.scanner.builder.CertifaiDataSchema)"
   ]
  },
  {
   "cell_type": "code",
   "execution_count": 15,
   "metadata": {},
   "outputs": [],
   "source": [
    "cat_features = []\n",
    "for feature in one_hot_encoded_cat_cols + target_encoded_cat_cols + value_encoded_cat_cols:\n",
    "    if feature in one_hot_value_mappings:\n",
    "        data_type = CertifaiFeatureDataType.categorical(value_columns=one_hot_value_mappings[feature].items())\n",
    "        feature_schema = CertifaiFeatureSchema(name=feature,\n",
    "                                               data_type=data_type)\n",
    "        cat_features.append(feature_schema)\n",
    "\n",
    "    elif feature in target_encoded_cat_cols:\n",
    "        data_type = CertifaiFeatureDataType.categorical(values=sorted(list(map(lambda x: str(round(x,decimals)) ,target_mappings[feature].values()))))\n",
    "        feature_schema = CertifaiFeatureSchema(name=feature,\n",
    "                                               data_type=data_type)\n",
    "    elif feature in df_st.columns:\n",
    "        print(feature)\n",
    "        data_type = CertifaiFeatureDataType.categorical(values=sorted(df_st[feature].unique().tolist()))\n",
    "        feature_schema = CertifaiFeatureSchema(name=feature,\n",
    "                                               data_type=data_type)\n",
    "        cat_features.append(feature_schema)\n",
    "        \n",
    "# certifai dataset schema combining numerical categorical features and 1-hot features\n",
    "schema = CertifaiDataSchema(features=cat_features)\n",
    "scan.dataset_schema = schema   "
   ]
  },
  {
   "cell_type": "markdown",
   "metadata": {},
   "source": [
    "### Add Certifai Evaluation "
   ]
  },
  {
   "cell_type": "code",
   "execution_count": 16,
   "metadata": {},
   "outputs": [],
   "source": [
    "# certifai evaluation setup\n",
    "\n",
    "# Add the explanation dataset. Here we run explanations for first 100 rows from the dataset\n",
    "\n",
    "expn_dataset = CertifaiDataset('explanation',\n",
    "                               CertifaiDatasetSource.dataframe(df_st[:100]))\n",
    "scan.add_dataset(expn_dataset)\n",
    "scan.explanation_dataset_id = 'explanation'\n",
    "\n",
    "\n",
    "# add the evaluation for performance, explainability, robustness, fairness\n",
    "scan.add_evaluation_type('explanation')\n",
    "scan.add_evaluation_type('explainability')\n",
    "scan.add_evaluation_type('robustness')\n",
    "scan.add_evaluation_type('fairness')\n",
    "scan.add_metric(CertifaiModelMetric('accuracy', certifai_metric='accuracy'))\n",
    "scan.atx_performance_metric = 'accuracy'\n",
    "scan.add_evaluation_type('performance')\n",
    "\n",
    "\n",
    "# add fairness features\n",
    "\n",
    "# set fairness features\n",
    "fairness_fields = ['status', 'age']\n",
    "\n",
    "for feature in fairness_fields:\n",
    "    scan.add_fairness_grouping_feature(CertifaiGroupingFeature(feature))\n",
    "\n",
    "# add the evaluation dataset from dataframe loaded at the start of the notebook        \n",
    "eval_dataset = CertifaiDataset('evaluation',\n",
    "                           CertifaiDatasetSource.dataframe(df_st))\n",
    "scan.add_dataset(eval_dataset)\n",
    "scan.evaluation_dataset_id = 'evaluation'\n",
    "scan.test_dataset_id = 'evaluation'"
   ]
  },
  {
   "cell_type": "markdown",
   "metadata": {},
   "source": [
    "### specify target column if present in dataset"
   ]
  },
  {
   "cell_type": "code",
   "execution_count": 17,
   "metadata": {},
   "outputs": [],
   "source": [
    "# since dataset has ground truth or `target` variable present in it we let certifai know of the outcome column\n",
    "scan.dataset_schema.outcome_feature_name = label_column"
   ]
  },
  {
   "cell_type": "markdown",
   "metadata": {},
   "source": [
    "### Initiate scan"
   ]
  },
  {
   "cell_type": "code",
   "execution_count": 18,
   "metadata": {},
   "outputs": [
    {
     "name": "stdout",
     "output_type": "stream",
     "text": [
      "Starting scan with model_use_case_id: 'german_credit_multiclass' and scan_id: '9c83d4358ef5'\n",
      "[--------------------] 2020-08-10 19:51:45.289159 - 0 of 5 reports (0.0% complete) - Running explanation evaluation for model: german_credit_multiclass\n",
      "[####----------------] 2020-08-10 19:52:17.742042 - 1 of 5 reports (20.0% complete) - Running explainability evaluation for model: german_credit_multiclass\n",
      "[########------------] 2020-08-10 19:53:03.490293 - 2 of 5 reports (40.0% complete) - Running robustness evaluation for model: german_credit_multiclass\n"
     ]
    },
    {
     "name": "stderr",
     "output_type": "stream",
     "text": [
      "2020-08-10 19:53:33,495 root   WARNING  Insufficient examples of some fairness classes to guarantee convergence (smallest class size is for '1.72' with 50 samples)\n"
     ]
    },
    {
     "name": "stdout",
     "output_type": "stream",
     "text": [
      "[############--------] 2020-08-10 19:53:33.480843 - 3 of 5 reports (60.0% complete) - Running fairness evaluation for model: german_credit_multiclass\n"
     ]
    },
    {
     "name": "stderr",
     "output_type": "stream",
     "text": [
      "2020-08-10 19:54:05,415 root   WARNING  Examples of protected class (3, '1.72') exhausted before convergence after 50 samples\n",
      "2020-08-10 19:54:22,163 root   WARNING  Examples of protected class (3, '1.609') exhausted before convergence after 92 samples\n",
      "2020-08-10 19:54:47,183 root   WARNING  Examples of protected class (11, '<= 25 years') exhausted before convergence after 190 samples\n",
      "2020-08-10 19:55:05,024 root   WARNING  Examples of protected class (3, '1.706') exhausted before convergence after 310 samples\n",
      "2020-08-10 19:55:18,084 root   WARNING  Examples of protected class (11, '> 25 years') exhausted before convergence after 810 samples\n",
      "2020-08-10 19:55:18,093 root   WARNING  Examples of protected class (3, '1.595') exhausted before convergence after 548 samples\n"
     ]
    },
    {
     "name": "stdout",
     "output_type": "stream",
     "text": [
      "[################----] 2020-08-10 19:55:32.445018 - 4 of 5 reports (80.0% complete) - Running performance evaluation for model: german_credit_multiclass\n",
      "[####################] 2020-08-10 19:55:32.457704 - 5 of 5 reports (100.0% complete) - Completed all evaluations\n"
     ]
    }
   ],
   "source": [
    "# start the scan\n",
    "result = scan.run(base_path='.' , write_reports=True)"
   ]
  },
  {
   "cell_type": "markdown",
   "metadata": {},
   "source": [
    "## Visualize Results"
   ]
  },
  {
   "cell_type": "markdown",
   "metadata": {},
   "source": [
    "### fairness"
   ]
  },
  {
   "cell_type": "code",
   "execution_count": 19,
   "metadata": {},
   "outputs": [
    {
     "data": {
      "text/html": [
       "<div>\n",
       "<style scoped>\n",
       "    .dataframe tbody tr th:only-of-type {\n",
       "        vertical-align: middle;\n",
       "    }\n",
       "\n",
       "    .dataframe tbody tr th {\n",
       "        vertical-align: top;\n",
       "    }\n",
       "\n",
       "    .dataframe thead th {\n",
       "        text-align: right;\n",
       "    }\n",
       "</style>\n",
       "<table border=\"1\" class=\"dataframe\">\n",
       "  <thead>\n",
       "    <tr style=\"text-align: right;\">\n",
       "      <th></th>\n",
       "      <th>context</th>\n",
       "      <th>type</th>\n",
       "      <th>overall fairness</th>\n",
       "      <th>overall fairness lower bound</th>\n",
       "      <th>overall fairness upper bound</th>\n",
       "      <th>Feature (age)</th>\n",
       "      <th>Feature (age) lower bound</th>\n",
       "      <th>Feature (age) upper bound</th>\n",
       "      <th>Group details (&lt;= 25 years)</th>\n",
       "      <th>Group details (&lt;= 25 years) lower bound</th>\n",
       "      <th>...</th>\n",
       "      <th>Group details (1.595) upper bound</th>\n",
       "      <th>Group details (1.609)</th>\n",
       "      <th>Group details (1.609) lower bound</th>\n",
       "      <th>Group details (1.609) upper bound</th>\n",
       "      <th>Group details (1.706)</th>\n",
       "      <th>Group details (1.706) lower bound</th>\n",
       "      <th>Group details (1.706) upper bound</th>\n",
       "      <th>Group details (1.72)</th>\n",
       "      <th>Group details (1.72) lower bound</th>\n",
       "      <th>Group details (1.72) upper bound</th>\n",
       "    </tr>\n",
       "  </thead>\n",
       "  <tbody>\n",
       "    <tr>\n",
       "      <th>german_credit_multiclass (burden)</th>\n",
       "      <td>german_credit_multiclass</td>\n",
       "      <td>burden</td>\n",
       "      <td>70.83216</td>\n",
       "      <td>64.767297</td>\n",
       "      <td>76.690575</td>\n",
       "      <td>70.981655</td>\n",
       "      <td>64.815911</td>\n",
       "      <td>77.099945</td>\n",
       "      <td>0.110067</td>\n",
       "      <td>0.099192</td>\n",
       "      <td>...</td>\n",
       "      <td>0.065188</td>\n",
       "      <td>0.050742</td>\n",
       "      <td>0.03571</td>\n",
       "      <td>0.065869</td>\n",
       "      <td>0.090405</td>\n",
       "      <td>0.08136</td>\n",
       "      <td>0.099903</td>\n",
       "      <td>0.098874</td>\n",
       "      <td>0.076323</td>\n",
       "      <td>0.121234</td>\n",
       "    </tr>\n",
       "  </tbody>\n",
       "</table>\n",
       "<p>1 rows × 29 columns</p>\n",
       "</div>"
      ],
      "text/plain": [
       "                                                    context    type  \\\n",
       "german_credit_multiclass (burden)  german_credit_multiclass  burden   \n",
       "\n",
       "                                   overall fairness  \\\n",
       "german_credit_multiclass (burden)          70.83216   \n",
       "\n",
       "                                   overall fairness lower bound  \\\n",
       "german_credit_multiclass (burden)                     64.767297   \n",
       "\n",
       "                                   overall fairness upper bound  \\\n",
       "german_credit_multiclass (burden)                     76.690575   \n",
       "\n",
       "                                   Feature (age)  Feature (age) lower bound  \\\n",
       "german_credit_multiclass (burden)      70.981655                  64.815911   \n",
       "\n",
       "                                   Feature (age) upper bound  \\\n",
       "german_credit_multiclass (burden)                  77.099945   \n",
       "\n",
       "                                   Group details (<= 25 years)  \\\n",
       "german_credit_multiclass (burden)                     0.110067   \n",
       "\n",
       "                                   Group details (<= 25 years) lower bound  \\\n",
       "german_credit_multiclass (burden)                                 0.099192   \n",
       "\n",
       "                                   ...  Group details (1.595) upper bound  \\\n",
       "german_credit_multiclass (burden)  ...                           0.065188   \n",
       "\n",
       "                                   Group details (1.609)  \\\n",
       "german_credit_multiclass (burden)               0.050742   \n",
       "\n",
       "                                   Group details (1.609) lower bound  \\\n",
       "german_credit_multiclass (burden)                            0.03571   \n",
       "\n",
       "                                   Group details (1.609) upper bound  \\\n",
       "german_credit_multiclass (burden)                           0.065869   \n",
       "\n",
       "                                   Group details (1.706)  \\\n",
       "german_credit_multiclass (burden)               0.090405   \n",
       "\n",
       "                                   Group details (1.706) lower bound  \\\n",
       "german_credit_multiclass (burden)                            0.08136   \n",
       "\n",
       "                                   Group details (1.706) upper bound  \\\n",
       "german_credit_multiclass (burden)                           0.099903   \n",
       "\n",
       "                                   Group details (1.72)  \\\n",
       "german_credit_multiclass (burden)              0.098874   \n",
       "\n",
       "                                   Group details (1.72) lower bound  \\\n",
       "german_credit_multiclass (burden)                          0.076323   \n",
       "\n",
       "                                   Group details (1.72) upper bound  \n",
       "german_credit_multiclass (burden)                          0.121234  \n",
       "\n",
       "[1 rows x 29 columns]"
      ]
     },
     "metadata": {},
     "output_type": "display_data"
    }
   ],
   "source": [
    "df_fairness = construct_scores_dataframe(scores('fairness', result), include_confidence=True)\n",
    "display(df_fairness)"
   ]
  },
  {
   "cell_type": "markdown",
   "metadata": {},
   "source": [
    "###  (fairness) status burdens by model"
   ]
  },
  {
   "cell_type": "code",
   "execution_count": 20,
   "metadata": {},
   "outputs": [
    {
     "data": {
      "text/html": [
       "<div>\n",
       "<style scoped>\n",
       "    .dataframe tbody tr th:only-of-type {\n",
       "        vertical-align: middle;\n",
       "    }\n",
       "\n",
       "    .dataframe tbody tr th {\n",
       "        vertical-align: top;\n",
       "    }\n",
       "\n",
       "    .dataframe thead th {\n",
       "        text-align: right;\n",
       "    }\n",
       "</style>\n",
       "<table border=\"1\" class=\"dataframe\">\n",
       "  <thead>\n",
       "    <tr style=\"text-align: right;\">\n",
       "      <th></th>\n",
       "      <th>context</th>\n",
       "      <th>type</th>\n",
       "      <th>overall fairness</th>\n",
       "      <th>overall fairness lower bound</th>\n",
       "      <th>overall fairness upper bound</th>\n",
       "      <th>Feature (age)</th>\n",
       "      <th>Feature (age) lower bound</th>\n",
       "      <th>Feature (age) upper bound</th>\n",
       "      <th>Group details (&lt;= 25 years)</th>\n",
       "      <th>Group details (&lt;= 25 years) lower bound</th>\n",
       "      <th>...</th>\n",
       "      <th>Group details (1.595) upper bound</th>\n",
       "      <th>Group details (1.609)</th>\n",
       "      <th>Group details (1.609) lower bound</th>\n",
       "      <th>Group details (1.609) upper bound</th>\n",
       "      <th>Group details (1.706)</th>\n",
       "      <th>Group details (1.706) lower bound</th>\n",
       "      <th>Group details (1.706) upper bound</th>\n",
       "      <th>Group details (1.72)</th>\n",
       "      <th>Group details (1.72) lower bound</th>\n",
       "      <th>Group details (1.72) upper bound</th>\n",
       "    </tr>\n",
       "  </thead>\n",
       "  <tbody>\n",
       "    <tr>\n",
       "      <th>german_credit_multiclass (burden)</th>\n",
       "      <td>german_credit_multiclass</td>\n",
       "      <td>burden</td>\n",
       "      <td>70.83216</td>\n",
       "      <td>64.767297</td>\n",
       "      <td>76.690575</td>\n",
       "      <td>70.981655</td>\n",
       "      <td>64.815911</td>\n",
       "      <td>77.099945</td>\n",
       "      <td>0.110067</td>\n",
       "      <td>0.099192</td>\n",
       "      <td>...</td>\n",
       "      <td>0.065188</td>\n",
       "      <td>0.050742</td>\n",
       "      <td>0.03571</td>\n",
       "      <td>0.065869</td>\n",
       "      <td>0.090405</td>\n",
       "      <td>0.08136</td>\n",
       "      <td>0.099903</td>\n",
       "      <td>0.098874</td>\n",
       "      <td>0.076323</td>\n",
       "      <td>0.121234</td>\n",
       "    </tr>\n",
       "  </tbody>\n",
       "</table>\n",
       "<p>1 rows × 29 columns</p>\n",
       "</div>"
      ],
      "text/plain": [
       "                                                    context    type  \\\n",
       "german_credit_multiclass (burden)  german_credit_multiclass  burden   \n",
       "\n",
       "                                   overall fairness  \\\n",
       "german_credit_multiclass (burden)          70.83216   \n",
       "\n",
       "                                   overall fairness lower bound  \\\n",
       "german_credit_multiclass (burden)                     64.767297   \n",
       "\n",
       "                                   overall fairness upper bound  \\\n",
       "german_credit_multiclass (burden)                     76.690575   \n",
       "\n",
       "                                   Feature (age)  Feature (age) lower bound  \\\n",
       "german_credit_multiclass (burden)      70.981655                  64.815911   \n",
       "\n",
       "                                   Feature (age) upper bound  \\\n",
       "german_credit_multiclass (burden)                  77.099945   \n",
       "\n",
       "                                   Group details (<= 25 years)  \\\n",
       "german_credit_multiclass (burden)                     0.110067   \n",
       "\n",
       "                                   Group details (<= 25 years) lower bound  \\\n",
       "german_credit_multiclass (burden)                                 0.099192   \n",
       "\n",
       "                                   ...  Group details (1.595) upper bound  \\\n",
       "german_credit_multiclass (burden)  ...                           0.065188   \n",
       "\n",
       "                                   Group details (1.609)  \\\n",
       "german_credit_multiclass (burden)               0.050742   \n",
       "\n",
       "                                   Group details (1.609) lower bound  \\\n",
       "german_credit_multiclass (burden)                            0.03571   \n",
       "\n",
       "                                   Group details (1.609) upper bound  \\\n",
       "german_credit_multiclass (burden)                           0.065869   \n",
       "\n",
       "                                   Group details (1.706)  \\\n",
       "german_credit_multiclass (burden)               0.090405   \n",
       "\n",
       "                                   Group details (1.706) lower bound  \\\n",
       "german_credit_multiclass (burden)                            0.08136   \n",
       "\n",
       "                                   Group details (1.706) upper bound  \\\n",
       "german_credit_multiclass (burden)                           0.099903   \n",
       "\n",
       "                                   Group details (1.72)  \\\n",
       "german_credit_multiclass (burden)              0.098874   \n",
       "\n",
       "                                   Group details (1.72) lower bound  \\\n",
       "german_credit_multiclass (burden)                          0.076323   \n",
       "\n",
       "                                   Group details (1.72) upper bound  \n",
       "german_credit_multiclass (burden)                          0.121234  \n",
       "\n",
       "[1 rows x 29 columns]"
      ]
     },
     "metadata": {},
     "output_type": "display_data"
    },
    {
     "data": {
      "image/png": "[encoded data removed]",
      "text/plain": [
       "<Figure size 864x288 with 1 Axes>"
      ]
     },
     "metadata": {
      "needs_background": "light"
     },
     "output_type": "display_data"
    }
   ],
   "source": [
    "%matplotlib inline\n",
    "display(df_fairness)\n",
    "\n",
    "# since status is a target encoded variable;\n",
    "# for plotting values in non-encoded space we make use of the `target_mappings` dict\n",
    "\n",
    "\n",
    "groups_disp, groups  = list(target_mappings['status'].keys()), list(map(lambda x: round(x,decimals),target_mappings['status'].values()))\n",
    "\n",
    "\n",
    "\n",
    "feature_scores = df_fairness[[f\"Group details ({g})\" for g in groups]]\n",
    "feature_lower_bounds = df_fairness[[f + ' lower bound' for f in feature_scores]]\n",
    "feature_upper_bounds = df_fairness[[f + ' upper bound' for f in feature_scores]]\n",
    "\n",
    "fig, ax = plt.subplots(figsize=[12,4])\n",
    "ax.set_title('status burdens by model', fontsize=20)\n",
    "colors = ['tab:blue', 'tab:orange', 'tab:green', 'tab:red', 'tab:pink']\n",
    "width = 0.4\n",
    "\n",
    "ax.set_xticks(np.arange(len(groups))+width)\n",
    "ax.set_xticklabels(groups_disp)\n",
    "\n",
    "for idx in range(len(df_fairness)):\n",
    "    central_values = list(feature_scores.iloc[idx])\n",
    "    lower_bounds = list(feature_lower_bounds.iloc[idx])\n",
    "    upper_bounds = list(feature_upper_bounds.iloc[idx])\n",
    "    lower_errors = [central_values[i] - lower_bounds[i] for i in range(len(central_values))]\n",
    "    upper_errors = [upper_bounds[i] - central_values[i] for i in range(len(central_values))]\n",
    "\n",
    "    ax.bar([width/2+idx*width+f_idx for f_idx in range(len(groups))],\n",
    "            central_values,\n",
    "            width,\n",
    "            yerr=[lower_errors, upper_errors],\n",
    "            color=colors[idx],\n",
    "            label=df_fairness.index[idx],\n",
    "            capsize=10)\n",
    "\n",
    "fig.legend(fontsize=14, bbox_to_anchor=(1.1,.6))\n",
    "fig.tight_layout()\n",
    "fig.subplots_adjust(right=0.8) \n",
    "plt.show()"
   ]
  },
  {
   "cell_type": "markdown",
   "metadata": {},
   "source": [
    "### (fairness) age burdens by model"
   ]
  },
  {
   "cell_type": "code",
   "execution_count": 21,
   "metadata": {
    "scrolled": false
   },
   "outputs": [
    {
     "data": {
      "text/html": [
       "<div>\n",
       "<style scoped>\n",
       "    .dataframe tbody tr th:only-of-type {\n",
       "        vertical-align: middle;\n",
       "    }\n",
       "\n",
       "    .dataframe tbody tr th {\n",
       "        vertical-align: top;\n",
       "    }\n",
       "\n",
       "    .dataframe thead th {\n",
       "        text-align: right;\n",
       "    }\n",
       "</style>\n",
       "<table border=\"1\" class=\"dataframe\">\n",
       "  <thead>\n",
       "    <tr style=\"text-align: right;\">\n",
       "      <th></th>\n",
       "      <th>context</th>\n",
       "      <th>type</th>\n",
       "      <th>overall fairness</th>\n",
       "      <th>overall fairness lower bound</th>\n",
       "      <th>overall fairness upper bound</th>\n",
       "      <th>Feature (age)</th>\n",
       "      <th>Feature (age) lower bound</th>\n",
       "      <th>Feature (age) upper bound</th>\n",
       "      <th>Group details (&lt;= 25 years)</th>\n",
       "      <th>Group details (&lt;= 25 years) lower bound</th>\n",
       "      <th>...</th>\n",
       "      <th>Group details (1.595) upper bound</th>\n",
       "      <th>Group details (1.609)</th>\n",
       "      <th>Group details (1.609) lower bound</th>\n",
       "      <th>Group details (1.609) upper bound</th>\n",
       "      <th>Group details (1.706)</th>\n",
       "      <th>Group details (1.706) lower bound</th>\n",
       "      <th>Group details (1.706) upper bound</th>\n",
       "      <th>Group details (1.72)</th>\n",
       "      <th>Group details (1.72) lower bound</th>\n",
       "      <th>Group details (1.72) upper bound</th>\n",
       "    </tr>\n",
       "  </thead>\n",
       "  <tbody>\n",
       "    <tr>\n",
       "      <th>german_credit_multiclass (burden)</th>\n",
       "      <td>german_credit_multiclass</td>\n",
       "      <td>burden</td>\n",
       "      <td>70.83216</td>\n",
       "      <td>64.767297</td>\n",
       "      <td>76.690575</td>\n",
       "      <td>70.981655</td>\n",
       "      <td>64.815911</td>\n",
       "      <td>77.099945</td>\n",
       "      <td>0.110067</td>\n",
       "      <td>0.099192</td>\n",
       "      <td>...</td>\n",
       "      <td>0.065188</td>\n",
       "      <td>0.050742</td>\n",
       "      <td>0.03571</td>\n",
       "      <td>0.065869</td>\n",
       "      <td>0.090405</td>\n",
       "      <td>0.08136</td>\n",
       "      <td>0.099903</td>\n",
       "      <td>0.098874</td>\n",
       "      <td>0.076323</td>\n",
       "      <td>0.121234</td>\n",
       "    </tr>\n",
       "  </tbody>\n",
       "</table>\n",
       "<p>1 rows × 29 columns</p>\n",
       "</div>"
      ],
      "text/plain": [
       "                                                    context    type  \\\n",
       "german_credit_multiclass (burden)  german_credit_multiclass  burden   \n",
       "\n",
       "                                   overall fairness  \\\n",
       "german_credit_multiclass (burden)          70.83216   \n",
       "\n",
       "                                   overall fairness lower bound  \\\n",
       "german_credit_multiclass (burden)                     64.767297   \n",
       "\n",
       "                                   overall fairness upper bound  \\\n",
       "german_credit_multiclass (burden)                     76.690575   \n",
       "\n",
       "                                   Feature (age)  Feature (age) lower bound  \\\n",
       "german_credit_multiclass (burden)      70.981655                  64.815911   \n",
       "\n",
       "                                   Feature (age) upper bound  \\\n",
       "german_credit_multiclass (burden)                  77.099945   \n",
       "\n",
       "                                   Group details (<= 25 years)  \\\n",
       "german_credit_multiclass (burden)                     0.110067   \n",
       "\n",
       "                                   Group details (<= 25 years) lower bound  \\\n",
       "german_credit_multiclass (burden)                                 0.099192   \n",
       "\n",
       "                                   ...  Group details (1.595) upper bound  \\\n",
       "german_credit_multiclass (burden)  ...                           0.065188   \n",
       "\n",
       "                                   Group details (1.609)  \\\n",
       "german_credit_multiclass (burden)               0.050742   \n",
       "\n",
       "                                   Group details (1.609) lower bound  \\\n",
       "german_credit_multiclass (burden)                            0.03571   \n",
       "\n",
       "                                   Group details (1.609) upper bound  \\\n",
       "german_credit_multiclass (burden)                           0.065869   \n",
       "\n",
       "                                   Group details (1.706)  \\\n",
       "german_credit_multiclass (burden)               0.090405   \n",
       "\n",
       "                                   Group details (1.706) lower bound  \\\n",
       "german_credit_multiclass (burden)                            0.08136   \n",
       "\n",
       "                                   Group details (1.706) upper bound  \\\n",
       "german_credit_multiclass (burden)                           0.099903   \n",
       "\n",
       "                                   Group details (1.72)  \\\n",
       "german_credit_multiclass (burden)              0.098874   \n",
       "\n",
       "                                   Group details (1.72) lower bound  \\\n",
       "german_credit_multiclass (burden)                          0.076323   \n",
       "\n",
       "                                   Group details (1.72) upper bound  \n",
       "german_credit_multiclass (burden)                          0.121234  \n",
       "\n",
       "[1 rows x 29 columns]"
      ]
     },
     "metadata": {},
     "output_type": "display_data"
    },
    {
     "data": {
      "image/png": "[encoded data removed]",
      "text/plain": [
       "<Figure size 864x288 with 1 Axes>"
      ]
     },
     "metadata": {
      "needs_background": "light"
     },
     "output_type": "display_data"
    }
   ],
   "source": [
    "%matplotlib inline\n",
    "display(df_fairness)\n",
    "# since age is a one-hot encoded variable;\n",
    "# for plotting values in non-encoded space we make use of the `one_hot_value_mappings` dict\n",
    "\n",
    "groups_disp, groups  = list(one_hot_value_mappings['age'].keys()), list(one_hot_value_mappings['age'].values())\n",
    "\n",
    "feature_scores = df_fairness[[f\"Group details ({g})\" for g in groups]]\n",
    "feature_lower_bounds = df_fairness[[f + ' lower bound' for f in feature_scores]]\n",
    "feature_upper_bounds = df_fairness[[f + ' upper bound' for f in feature_scores]]\n",
    "\n",
    "fig, ax = plt.subplots(figsize=[12,4])\n",
    "ax.set_title('age burdens by model', fontsize=20)\n",
    "colors = ['tab:blue', 'tab:orange', 'tab:green', 'tab:red', 'tab:pink']\n",
    "width = 0.4\n",
    "\n",
    "ax.set_xticks(np.arange(len(groups))+width)\n",
    "ax.set_xticklabels(groups_disp)\n",
    "\n",
    "for idx in range(len(df_fairness)):\n",
    "    central_values = list(feature_scores.iloc[idx])\n",
    "    lower_bounds = list(feature_lower_bounds.iloc[idx])\n",
    "    upper_bounds = list(feature_upper_bounds.iloc[idx])\n",
    "    lower_errors = [central_values[i] - lower_bounds[i] for i in range(len(central_values))]\n",
    "    upper_errors = [upper_bounds[i] - central_values[i] for i in range(len(central_values))]\n",
    "\n",
    "    ax.bar([width/2+idx*width+f_idx for f_idx in range(len(groups))],\n",
    "            central_values,\n",
    "            width,\n",
    "            yerr=[lower_errors, upper_errors],\n",
    "            color=colors[idx],\n",
    "            label=df_fairness.index[idx],\n",
    "            capsize=10)\n",
    "\n",
    "fig.legend(fontsize=14, bbox_to_anchor=(1.1,.6))\n",
    "fig.tight_layout()\n",
    "fig.subplots_adjust(right=0.8) \n",
    "plt.show()"
   ]
  },
  {
   "cell_type": "markdown",
   "metadata": {},
   "source": [
    "### Feature Fairness by model "
   ]
  },
  {
   "cell_type": "code",
   "execution_count": 22,
   "metadata": {},
   "outputs": [
    {
     "data": {
      "text/html": [
       "<div>\n",
       "<style scoped>\n",
       "    .dataframe tbody tr th:only-of-type {\n",
       "        vertical-align: middle;\n",
       "    }\n",
       "\n",
       "    .dataframe tbody tr th {\n",
       "        vertical-align: top;\n",
       "    }\n",
       "\n",
       "    .dataframe thead th {\n",
       "        text-align: right;\n",
       "    }\n",
       "</style>\n",
       "<table border=\"1\" class=\"dataframe\">\n",
       "  <thead>\n",
       "    <tr style=\"text-align: right;\">\n",
       "      <th></th>\n",
       "      <th>context</th>\n",
       "      <th>type</th>\n",
       "      <th>overall fairness</th>\n",
       "      <th>overall fairness lower bound</th>\n",
       "      <th>overall fairness upper bound</th>\n",
       "      <th>Feature (age)</th>\n",
       "      <th>Feature (age) lower bound</th>\n",
       "      <th>Feature (age) upper bound</th>\n",
       "      <th>Group details (&lt;= 25 years)</th>\n",
       "      <th>Group details (&lt;= 25 years) lower bound</th>\n",
       "      <th>...</th>\n",
       "      <th>Group details (1.595) upper bound</th>\n",
       "      <th>Group details (1.609)</th>\n",
       "      <th>Group details (1.609) lower bound</th>\n",
       "      <th>Group details (1.609) upper bound</th>\n",
       "      <th>Group details (1.706)</th>\n",
       "      <th>Group details (1.706) lower bound</th>\n",
       "      <th>Group details (1.706) upper bound</th>\n",
       "      <th>Group details (1.72)</th>\n",
       "      <th>Group details (1.72) lower bound</th>\n",
       "      <th>Group details (1.72) upper bound</th>\n",
       "    </tr>\n",
       "  </thead>\n",
       "  <tbody>\n",
       "    <tr>\n",
       "      <th>german_credit_multiclass (burden)</th>\n",
       "      <td>german_credit_multiclass</td>\n",
       "      <td>burden</td>\n",
       "      <td>70.83216</td>\n",
       "      <td>64.767297</td>\n",
       "      <td>76.690575</td>\n",
       "      <td>70.981655</td>\n",
       "      <td>64.815911</td>\n",
       "      <td>77.099945</td>\n",
       "      <td>0.110067</td>\n",
       "      <td>0.099192</td>\n",
       "      <td>...</td>\n",
       "      <td>0.065188</td>\n",
       "      <td>0.050742</td>\n",
       "      <td>0.03571</td>\n",
       "      <td>0.065869</td>\n",
       "      <td>0.090405</td>\n",
       "      <td>0.08136</td>\n",
       "      <td>0.099903</td>\n",
       "      <td>0.098874</td>\n",
       "      <td>0.076323</td>\n",
       "      <td>0.121234</td>\n",
       "    </tr>\n",
       "  </tbody>\n",
       "</table>\n",
       "<p>1 rows × 29 columns</p>\n",
       "</div>"
      ],
      "text/plain": [
       "                                                    context    type  \\\n",
       "german_credit_multiclass (burden)  german_credit_multiclass  burden   \n",
       "\n",
       "                                   overall fairness  \\\n",
       "german_credit_multiclass (burden)          70.83216   \n",
       "\n",
       "                                   overall fairness lower bound  \\\n",
       "german_credit_multiclass (burden)                     64.767297   \n",
       "\n",
       "                                   overall fairness upper bound  \\\n",
       "german_credit_multiclass (burden)                     76.690575   \n",
       "\n",
       "                                   Feature (age)  Feature (age) lower bound  \\\n",
       "german_credit_multiclass (burden)      70.981655                  64.815911   \n",
       "\n",
       "                                   Feature (age) upper bound  \\\n",
       "german_credit_multiclass (burden)                  77.099945   \n",
       "\n",
       "                                   Group details (<= 25 years)  \\\n",
       "german_credit_multiclass (burden)                     0.110067   \n",
       "\n",
       "                                   Group details (<= 25 years) lower bound  \\\n",
       "german_credit_multiclass (burden)                                 0.099192   \n",
       "\n",
       "                                   ...  Group details (1.595) upper bound  \\\n",
       "german_credit_multiclass (burden)  ...                           0.065188   \n",
       "\n",
       "                                   Group details (1.609)  \\\n",
       "german_credit_multiclass (burden)               0.050742   \n",
       "\n",
       "                                   Group details (1.609) lower bound  \\\n",
       "german_credit_multiclass (burden)                            0.03571   \n",
       "\n",
       "                                   Group details (1.609) upper bound  \\\n",
       "german_credit_multiclass (burden)                           0.065869   \n",
       "\n",
       "                                   Group details (1.706)  \\\n",
       "german_credit_multiclass (burden)               0.090405   \n",
       "\n",
       "                                   Group details (1.706) lower bound  \\\n",
       "german_credit_multiclass (burden)                            0.08136   \n",
       "\n",
       "                                   Group details (1.706) upper bound  \\\n",
       "german_credit_multiclass (burden)                           0.099903   \n",
       "\n",
       "                                   Group details (1.72)  \\\n",
       "german_credit_multiclass (burden)              0.098874   \n",
       "\n",
       "                                   Group details (1.72) lower bound  \\\n",
       "german_credit_multiclass (burden)                          0.076323   \n",
       "\n",
       "                                   Group details (1.72) upper bound  \n",
       "german_credit_multiclass (burden)                          0.121234  \n",
       "\n",
       "[1 rows x 29 columns]"
      ]
     },
     "metadata": {},
     "output_type": "display_data"
    },
    {
     "name": "stdout",
     "output_type": "stream",
     "text": [
      "\n",
      "\n"
     ]
    },
    {
     "data": {
      "image/png": "[encoded data removed]",
      "text/plain": [
       "<Figure size 864x288 with 1 Axes>"
      ]
     },
     "metadata": {
      "needs_background": "light"
     },
     "output_type": "display_data"
    }
   ],
   "source": [
    "display(df_fairness)\n",
    "\n",
    "print(\"\\n\")\n",
    "\n",
    "# Let's chart the fairness measure by feature for each model together with its confidence bounds for\n",
    "# easier visual comparison:\n",
    "%matplotlib inline\n",
    "import matplotlib.pyplot as plt\n",
    "\n",
    "features = ['Feature (age)', 'Feature (status)']\n",
    "feature_scores = df_fairness[features]\n",
    "feature_lower_bounds = df_fairness[[f + ' lower bound' for f in features]]\n",
    "feature_upper_bounds = df_fairness[[f + ' upper bound' for f in features]]\n",
    "\n",
    "fig, ax = plt.subplots(figsize=[12,4])\n",
    "ax.set_title('Feature fairness by model', fontsize=20)\n",
    "colors = ['tab:blue', 'tab:orange', 'tab:green', 'tab:red', 'tab:pink']\n",
    "width = 0.4\n",
    "\n",
    "ax.set_xticks(np.arange(len(features))+width)\n",
    "ax.set_xticklabels(features)\n",
    "\n",
    "for idx in range(len(df_fairness)):\n",
    "    central_values = list(feature_scores.iloc[idx])\n",
    "    lower_bounds = list(feature_lower_bounds.iloc[idx])\n",
    "    upper_bounds = list(feature_upper_bounds.iloc[idx])\n",
    "    lower_errors = [central_values[i] - lower_bounds[i] for i in range(len(central_values))]\n",
    "    upper_errors = [upper_bounds[i] - central_values[i] for i in range(len(central_values))]\n",
    "\n",
    "    ax.bar([width/2+idx*width+f_idx for f_idx in range(len(features))],\n",
    "            central_values,\n",
    "            width,\n",
    "            yerr=[lower_errors, upper_errors],\n",
    "            color=colors[idx],\n",
    "            label=df_fairness.index[idx],\n",
    "            capsize=10)\n",
    "\n",
    "fig.legend(fontsize=14, bbox_to_anchor=(1.1,.6))\n",
    "fig.tight_layout()\n",
    "fig.subplots_adjust(right=0.8) \n",
    "plt.show()"
   ]
  },
  {
   "cell_type": "markdown",
   "metadata": {},
   "source": [
    "### Robustness by model\n",
    "\n",
    "- The following cell shows how to extract Certifai Robustness Score from the scan results object\n",
    "- The high Robustness score indicates the given model needs to change larger no. of features to alter the prediction outcomes\n",
    "- please refer to official documentation for [Certifai Robustness](https://cognitivescale.github.io/cortex-certifai/docs/factors/robustness)"
   ]
  },
  {
   "cell_type": "code",
   "execution_count": 23,
   "metadata": {},
   "outputs": [
    {
     "data": {
      "text/html": [
       "<div>\n",
       "<style scoped>\n",
       "    .dataframe tbody tr th:only-of-type {\n",
       "        vertical-align: middle;\n",
       "    }\n",
       "\n",
       "    .dataframe tbody tr th {\n",
       "        vertical-align: top;\n",
       "    }\n",
       "\n",
       "    .dataframe thead th {\n",
       "        text-align: right;\n",
       "    }\n",
       "</style>\n",
       "<table border=\"1\" class=\"dataframe\">\n",
       "  <thead>\n",
       "    <tr style=\"text-align: right;\">\n",
       "      <th></th>\n",
       "      <th>context</th>\n",
       "      <th>robustness</th>\n",
       "      <th>robustness lower bound</th>\n",
       "      <th>robustness upper bound</th>\n",
       "    </tr>\n",
       "  </thead>\n",
       "  <tbody>\n",
       "    <tr>\n",
       "      <th>german_credit_multiclass</th>\n",
       "      <td>german_credit_multiclass</td>\n",
       "      <td>83.657468</td>\n",
       "      <td>79.746539</td>\n",
       "      <td>87.186372</td>\n",
       "    </tr>\n",
       "  </tbody>\n",
       "</table>\n",
       "</div>"
      ],
      "text/plain": [
       "                                           context  robustness  \\\n",
       "german_credit_multiclass  german_credit_multiclass   83.657468   \n",
       "\n",
       "                          robustness lower bound  robustness upper bound  \n",
       "german_credit_multiclass               79.746539               87.186372  "
      ]
     },
     "metadata": {},
     "output_type": "display_data"
    },
    {
     "data": {
      "image/png": "[encoded data removed]",
      "text/plain": [
       "<Figure size 864x288 with 1 Axes>"
      ]
     },
     "metadata": {
      "needs_background": "light"
     },
     "output_type": "display_data"
    }
   ],
   "source": [
    "df_robustness = construct_scores_dataframe(scores('robustness', result), include_confidence=True)\n",
    "display(df_robustness)\n",
    "\n",
    "%matplotlib inline\n",
    "import matplotlib.pyplot as plt\n",
    "\n",
    "features = ['robustness']\n",
    "feature_scores = df_robustness[features]\n",
    "feature_lower_bounds = df_robustness[[f + ' lower bound' for f in features]]\n",
    "feature_upper_bounds = df_robustness[[f + ' upper bound' for f in features]]\n",
    "\n",
    "fig, ax = plt.subplots(figsize=[12,4])\n",
    "ax.set_title('Robustness', fontsize=20)\n",
    "colors = ['tab:blue', 'tab:orange', 'tab:green', 'tab:red', 'tab:pink']\n",
    "width = 0.4\n",
    "\n",
    "ax.set_xticks(np.arange(len(features))+width)\n",
    "ax.set_xticklabels(features)\n",
    "\n",
    "for idx in range(len(df_robustness)):\n",
    "    central_values = list(feature_scores.iloc[idx])\n",
    "    lower_bounds = list(feature_lower_bounds.iloc[idx])\n",
    "    upper_bounds = list(feature_upper_bounds.iloc[idx])\n",
    "    lower_errors = [central_values[i] - lower_bounds[i] for i in range(len(central_values))]\n",
    "    upper_errors = [upper_bounds[i] - central_values[i] for i in range(len(central_values))]\n",
    "\n",
    "    ax.errorbar([width/2+idx*width+f_idx for f_idx in range(len(features))],\n",
    "            central_values,\n",
    "            yerr=[lower_errors, upper_errors],\n",
    "            color=colors[idx],\n",
    "            label=df_robustness.index[idx],\n",
    "            capsize=10)\n",
    "    \n",
    "    ax.scatter([width/2+idx*width+f_idx for f_idx in range(len(features))], central_values,s=500)\n",
    "\n",
    "fig.legend(fontsize=14, bbox_to_anchor=(1.1,.6))\n",
    "fig.tight_layout()\n",
    "fig.subplots_adjust(right=0.8) \n",
    "plt.show()"
   ]
  },
  {
   "cell_type": "markdown",
   "metadata": {},
   "source": [
    "### Explainability by model \n",
    "\n",
    "- the following cell shows how to extract Certifai Explainability Score from the scan results object\n",
    "- please refer to official documentation for [Certifai Explainability](https://cognitivescale.github.io/cortex-certifai/docs/factors/explainability)"
   ]
  },
  {
   "cell_type": "code",
   "execution_count": 24,
   "metadata": {},
   "outputs": [
    {
     "data": {
      "text/html": [
       "<div>\n",
       "<style scoped>\n",
       "    .dataframe tbody tr th:only-of-type {\n",
       "        vertical-align: middle;\n",
       "    }\n",
       "\n",
       "    .dataframe tbody tr th {\n",
       "        vertical-align: top;\n",
       "    }\n",
       "\n",
       "    .dataframe thead th {\n",
       "        text-align: right;\n",
       "    }\n",
       "</style>\n",
       "<table border=\"1\" class=\"dataframe\">\n",
       "  <thead>\n",
       "    <tr style=\"text-align: right;\">\n",
       "      <th></th>\n",
       "      <th>context</th>\n",
       "      <th>explainability</th>\n",
       "      <th>Num features (1)</th>\n",
       "      <th>Num features (10)</th>\n",
       "      <th>Num features (2)</th>\n",
       "      <th>Num features (3)</th>\n",
       "      <th>Num features (4)</th>\n",
       "      <th>Num features (5)</th>\n",
       "      <th>Num features (6)</th>\n",
       "      <th>Num features (7)</th>\n",
       "      <th>Num features (8)</th>\n",
       "      <th>Num features (9)</th>\n",
       "    </tr>\n",
       "  </thead>\n",
       "  <tbody>\n",
       "    <tr>\n",
       "      <th>german_credit_multiclass</th>\n",
       "      <td>german_credit_multiclass</td>\n",
       "      <td>96.875</td>\n",
       "      <td>75.78125</td>\n",
       "      <td>0.0</td>\n",
       "      <td>19.53125</td>\n",
       "      <td>4.6875</td>\n",
       "      <td>0.0</td>\n",
       "      <td>0.0</td>\n",
       "      <td>0.0</td>\n",
       "      <td>0.0</td>\n",
       "      <td>0.0</td>\n",
       "      <td>0.0</td>\n",
       "    </tr>\n",
       "  </tbody>\n",
       "</table>\n",
       "</div>"
      ],
      "text/plain": [
       "                                           context  explainability  \\\n",
       "german_credit_multiclass  german_credit_multiclass          96.875   \n",
       "\n",
       "                          Num features (1)  Num features (10)  \\\n",
       "german_credit_multiclass          75.78125                0.0   \n",
       "\n",
       "                          Num features (2)  Num features (3)  \\\n",
       "german_credit_multiclass          19.53125            4.6875   \n",
       "\n",
       "                          Num features (4)  Num features (5)  \\\n",
       "german_credit_multiclass               0.0               0.0   \n",
       "\n",
       "                          Num features (6)  Num features (7)  \\\n",
       "german_credit_multiclass               0.0               0.0   \n",
       "\n",
       "                          Num features (8)  Num features (9)  \n",
       "german_credit_multiclass               0.0               0.0  "
      ]
     },
     "metadata": {},
     "output_type": "display_data"
    },
    {
     "data": {
      "image/png": "[encoded data removed]",
      "text/plain": [
       "<Figure size 864x288 with 1 Axes>"
      ]
     },
     "metadata": {
      "needs_background": "light"
     },
     "output_type": "display_data"
    }
   ],
   "source": [
    "%matplotlib inline\n",
    "import matplotlib.pyplot as plt\n",
    "\n",
    "df_explainability= construct_scores_dataframe(scores('explainability', result), include_confidence=True)\n",
    "display(df_explainability)\n",
    "\n",
    "\n",
    "features = ['Num features (1)', 'Num features (2)', 'Num features (3)', 'Num features (4)', 'Num features (5)', 'Num features (6)', 'Num features (7)', 'Num features (8)', 'Num features (9)', 'Num features (10)']\n",
    "features_disp = [i for i in range(1,11)]\n",
    "feature_scores = df_explainability[features]\n",
    "\n",
    "fig, ax = plt.subplots(figsize=[12,4])\n",
    "ax.set_title('Explainability by no of features', fontsize=20)\n",
    "colors = ['tab:blue', 'tab:orange', 'tab:green', 'tab:red', 'tab:pink']\n",
    "width = 0.4\n",
    "\n",
    "ax.set_xticks(np.arange(len(features))+width)\n",
    "ax.set_xticklabels(features_disp)\n",
    "ax.set_xlabel(\"Num. of features\")\n",
    "ax.set_ylabel(\"Explainability score\")\n",
    "\n",
    "for idx in range(len(df_explainability)):\n",
    "    central_values = list(feature_scores.iloc[idx])\n",
    "\n",
    "    ax.bar([width/2+idx*width+f_idx for f_idx in range(len(features))],\n",
    "            central_values,\n",
    "            width,align='edge',\n",
    "            color=colors[idx],\n",
    "            label=df_explainability.index[idx],\n",
    "            capsize=10)\n",
    "\n",
    "fig.legend(fontsize=14, bbox_to_anchor=(1.1,.6))\n",
    "fig.tight_layout()\n",
    "fig.subplots_adjust(right=0.8) \n",
    "plt.show()"
   ]
  },
  {
   "cell_type": "code",
   "execution_count": null,
   "metadata": {},
   "outputs": [],
   "source": []
  }
 ],
 "metadata": {
  "kernelspec": {
   "display_name": "Python 3",
   "language": "python",
   "name": "python3"
  },
  "language_info": {
   "codemirror_mode": {
    "name": "ipython",
    "version": 3
   },
   "file_extension": ".py",
   "mimetype": "text/x-python",
   "name": "python",
   "nbconvert_exporter": "python",
   "pygments_lexer": "ipython3",
   "version": "3.7.7"
  }
 },
 "nbformat": 4,
 "nbformat_minor": 4
}
