{
 "cells": [
  {
   "cell_type": "code",
   "execution_count": 1,
   "metadata": {},
   "outputs": [],
   "source": [
    "import pandas as pd\n",
    "import os\n",
    "import joblib\n",
    "import numpy as np\n",
    "import random\n",
    "from sklearn.model_selection import train_test_split\n",
    "from sklearn import preprocessing\n",
    "from sklearn.linear_model import LogisticRegression\n",
    "from sklearn.metrics import accuracy_score\n",
    "from sklearn.model_selection import GridSearchCV\n",
    "from sklearn.pipeline import Pipeline"
   ]
  },
  {
   "cell_type": "code",
   "execution_count": 2,
   "metadata": {},
   "outputs": [],
   "source": [
    "# model training preparation\n",
    "base_path = '../..'\n",
    "all_data_file = f\"{base_path}/datasets/german_credit_eval_multiclass_encoded.csv\"\n",
    "\n",
    "df = pd.read_csv(all_data_file)\n",
    "\n",
    "cat_columns = [\n",
    "    'checkingstatus',\n",
    "    'history',\n",
    "    'purpose',\n",
    "    'savings',\n",
    "    'employ',\n",
    "    'status',\n",
    "    'others',\n",
    "    'property',\n",
    "    'age',\n",
    "    'otherplans',\n",
    "    'housing',\n",
    "    'job',\n",
    "    'telephone',\n",
    "    'foreign'\n",
    "    ]\n",
    "\n",
    "label_column = 'outcome'\n",
    "\n",
    "# Separate outcome\n",
    "y = df[label_column]\n",
    "X = df.drop(label_column, axis=1)\n",
    "\n",
    "X_train, X_test, y_train, y_test = train_test_split(X, y, test_size=0.20, random_state=42)"
   ]
  },
  {
   "cell_type": "code",
   "execution_count": 3,
   "metadata": {},
   "outputs": [
    {
     "name": "stdout",
     "output_type": "stream",
     "text": [
      "Writing model_encoder.py\n"
     ]
    }
   ],
   "source": [
    "%%writefile model_encoder.py\n",
    "\n",
    "from sklearn.base import BaseEstimator, TransformerMixin\n",
    "from sklearn.pipeline import Pipeline\n",
    "from certifai.common.utils.encoding import CatEncoder\n",
    "import numpy as np\n",
    "\n",
    "class TransformerCustom(BaseEstimator, TransformerMixin):\n",
    "    def __init__(self, \n",
    "                 cat_columns,\n",
    "                 normalize=True,\n",
    "                 cat_column_value_names=None,\n",
    "                 data_encoded=False,\n",
    "                 string_equivalence=True,\n",
    "                 numeric=None):\n",
    "        \n",
    "        self.encoder = None\n",
    "        self._cat_column_value_names = cat_column_value_names\n",
    "        self._normalize = normalize\n",
    "        self._data_encoded = data_encoded\n",
    "        self._cat_columns = cat_columns\n",
    "        self._string_equivalence = string_equivalence\n",
    "        self._numeric = numeric\n",
    "\n",
    "    def fit(self, X, y=None):\n",
    "        self.encoder = CatEncoder(self._cat_columns,\n",
    "                                  X,self._normalize,\n",
    "                                  self._cat_column_value_names,\n",
    "                                  self._data_encoded,\n",
    "                                  self._string_equivalence,\n",
    "                                  self._numeric)\n",
    "        \n",
    "        return self\n",
    "\n",
    "    def transform(self, X):\n",
    "        if isinstance(X,np.ndarray):\n",
    "            return self.encoder(X)\n",
    "        return self.encoder(X.values)\n"
   ]
  },
  {
   "cell_type": "code",
   "execution_count": 4,
   "metadata": {},
   "outputs": [
    {
     "data": {
      "text/plain": [
       "0.69"
      ]
     },
     "execution_count": 4,
     "metadata": {},
     "output_type": "execute_result"
    }
   ],
   "source": [
    "from model_encoder import TransformerCustom\n",
    "parameters = {'C': (0.5, 1.0, 2.0), 'solver': ['lbfgs'], 'max_iter': [1000]}\n",
    "transformer_pipeline = Pipeline( steps = [ ( 'transformer', TransformerCustom(cat_columns=[]))])\n",
    "full_pipeline_m = Pipeline( steps = [ ( 'full_pipeline', transformer_pipeline),\n",
    "\n",
    "                                  ( 'model', GridSearchCV(LogisticRegression(), parameters, cv=3) ) ] )\n",
    "full_pipeline_m.fit( X_train, y_train)\n",
    "y_pred = full_pipeline_m.predict(X_test.values)\n",
    "accuracy = full_pipeline_m.score(X_test, y_test)\n",
    "accuracy"
   ]
  },
  {
   "cell_type": "code",
   "execution_count": 5,
   "metadata": {},
   "outputs": [
    {
     "data": {
      "text/plain": [
       "['models/german_credit_multiclass.joblib']"
      ]
     },
     "execution_count": 5,
     "metadata": {},
     "output_type": "execute_result"
    }
   ],
   "source": [
    "# model persistence. dump trained model binary along with encoder to disk\n",
    "# first create a model artifact name. used later for model persistence\n",
    "model = full_pipeline_m\n",
    "model_artifact_key = 'german_credit_multiclass'\n",
    "model_dir = 'models'\n",
    "if not os.path.exists(model_dir):\n",
    "     os.makedirs(model_dir)\n",
    "model_path = f'{model_dir}/{model_artifact_key}.joblib'\n",
    "joblib.dump(model, model_path)"
   ]
  },
  {
   "cell_type": "code",
   "execution_count": null,
   "metadata": {},
   "outputs": [],
   "source": []
  }
 ],
 "metadata": {
  "kernelspec": {
   "display_name": "Python 3",
   "language": "python",
   "name": "python3"
  },
  "language_info": {
   "codemirror_mode": {
    "name": "ipython",
    "version": 3
   },
   "file_extension": ".py",
   "mimetype": "text/x-python",
   "name": "python",
   "nbconvert_exporter": "python",
   "pygments_lexer": "ipython3",
   "version": "3.7.7"
  }
 },
 "nbformat": 4,
 "nbformat_minor": 4
}
