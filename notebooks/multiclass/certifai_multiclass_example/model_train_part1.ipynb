{
 "cells": [
  {
   "cell_type": "code",
   "execution_count": 1,
   "metadata": {},
   "outputs": [],
   "source": [
    "import pandas as pd\n",
    "import os\n",
    "import joblib\n",
    "import numpy as np\n",
    "import random\n",
    "from sklearn.model_selection import train_test_split\n",
    "from sklearn import preprocessing\n",
    "from sklearn.preprocessing import StandardScaler\n",
    "from sklearn.linear_model import LogisticRegression\n",
    "from sklearn.metrics import accuracy_score\n",
    "from sklearn.model_selection import GridSearchCV\n",
    "from sklearn.pipeline import Pipeline"
   ]
  },
  {
   "cell_type": "code",
   "execution_count": 2,
   "metadata": {},
   "outputs": [
    {
     "name": "stdout",
     "output_type": "stream",
     "text": [
      "Certifai version: 1.3.3\n",
      "Scanner build: 1.3.3-260-g24ae833d\n",
      "sklearn version is 0.23.2\n"
     ]
    }
   ],
   "source": [
    "!certifai --version\n",
    "import sklearn as scikit\n",
    "print(f'sklearn version is {scikit.__version__}')"
   ]
  },
  {
   "cell_type": "code",
   "execution_count": 3,
   "metadata": {},
   "outputs": [],
   "source": [
    "# for reproducibility purposes; use pinned version\n",
    "assert scikit.__version__ >= '0.23.1', 'scikit-learn version mismatch, `pip install scikit-learn>=0.23.1` to install right sklearn version for this notebook'\n",
    "assert np.__version__     >= '1.16.2' , 'numpy version mismatch, `pip install numpy>=1.16.2` to install right numpy version for this notebook'"
   ]
  },
  {
   "cell_type": "code",
   "execution_count": 4,
   "metadata": {},
   "outputs": [],
   "source": [
    "# model training preparation\n",
    "base_path = '../..'\n",
    "all_data_file = f\"{base_path}/datasets/german_credit_eval_multiclass_encoded.csv\"\n",
    "\n",
    "df = pd.read_csv(all_data_file)\n",
    "\n",
    "cat_columns = [\n",
    "    'checkingstatus',\n",
    "    'history',\n",
    "    'purpose',\n",
    "    'savings',\n",
    "    'employ',\n",
    "    'status',\n",
    "    'others',\n",
    "    'property',\n",
    "    'age',\n",
    "    'otherplans',\n",
    "    'housing',\n",
    "    'job',\n",
    "    'telephone',\n",
    "    'foreign'\n",
    "    ]\n",
    "\n",
    "label_column = 'outcome'\n",
    "\n",
    "# Separate outcome\n",
    "y = df[label_column]\n",
    "X = df.drop(label_column, axis=1)\n",
    "\n",
    "X_train, X_test, y_train, y_test = train_test_split(X, y, test_size=0.20, random_state=42)"
   ]
  },
  {
   "cell_type": "code",
   "execution_count": 5,
   "metadata": {},
   "outputs": [
    {
     "data": {
      "text/plain": [
       "0.655"
      ]
     },
     "execution_count": 5,
     "metadata": {},
     "output_type": "execute_result"
    }
   ],
   "source": [
    "# from model_encoder import TransformerCustom\n",
    "parameters = {'C': (0.5, 1.0, 2.0), 'solver': ['lbfgs'], 'max_iter': [1000]}\n",
    "transformer_pipeline = Pipeline( steps = [ ( 'scaler', StandardScaler())])\n",
    "full_pipeline_m = Pipeline( steps = [ ( 'full_pipeline', transformer_pipeline),\n",
    "                                  ( 'model', GridSearchCV(LogisticRegression(), parameters, cv=5) ) ] )\n",
    "full_pipeline_m.fit( X_train, y_train)\n",
    "y_pred = full_pipeline_m.predict(X_test.values)\n",
    "accuracy = full_pipeline_m.score(X_test, y_test)\n",
    "accuracy"
   ]
  },
  {
   "cell_type": "code",
   "execution_count": 6,
   "metadata": {},
   "outputs": [
    {
     "data": {
      "text/plain": [
       "['models/german_credit_multiclass.joblib']"
      ]
     },
     "execution_count": 6,
     "metadata": {},
     "output_type": "execute_result"
    }
   ],
   "source": [
    "# model persistence. dump trained model binary along with encoder to disk\n",
    "# first create a model artifact name. used later for model persistence\n",
    "model = full_pipeline_m\n",
    "model_artifact_key = 'german_credit_multiclass'\n",
    "model_dir = 'models'\n",
    "if not os.path.exists(model_dir):\n",
    "     os.makedirs(model_dir)\n",
    "model_path = f'{model_dir}/{model_artifact_key}.joblib'\n",
    "joblib.dump(model, model_path)"
   ]
  },
  {
   "cell_type": "code",
   "execution_count": null,
   "metadata": {},
   "outputs": [],
   "source": []
  }
 ],
 "metadata": {
  "kernelspec": {
   "display_name": "Python 3",
   "language": "python",
   "name": "python3"
  },
  "language_info": {
   "codemirror_mode": {
    "name": "ipython",
    "version": 3
   },
   "file_extension": ".py",
   "mimetype": "text/x-python",
   "name": "python",
   "nbconvert_exporter": "python",
   "pygments_lexer": "ipython3",
   "version": "3.6.10"
  }
 },
 "nbformat": 4,
 "nbformat_minor": 4
}
