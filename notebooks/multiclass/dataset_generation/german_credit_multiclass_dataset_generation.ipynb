{
 "cells": [
  {
   "cell_type": "markdown",
   "metadata": {},
   "source": [
    "### Requirements to generate german credit multiclass csv\n",
    "\n",
    "- keras (tensorflow backend)\n",
    "- numpy\n",
    "- certifai_common(encoder for model training)\n",
    "- scikit-learn"
   ]
  },
  {
   "cell_type": "code",
   "execution_count": 33,
   "metadata": {},
   "outputs": [
    {
     "name": "stdout",
     "output_type": "stream",
     "text": [
      "keras version 2.3.1\n",
      "tensorflow version 1.14.0\n"
     ]
    }
   ],
   "source": [
    "import keras as keras_version_check\n",
    "import tensorflow as tf_version_check\n",
    "print(f'keras version {keras_version_check.__version__}')\n",
    "print(f'tensorflow version {tf_version_check.__version__}')"
   ]
  },
  {
   "cell_type": "code",
   "execution_count": 14,
   "metadata": {
    "scrolled": true
   },
   "outputs": [
    {
     "name": "stdout",
     "output_type": "stream",
     "text": [
      "Train on 800 samples, validate on 200 samples\n",
      "Epoch 1/100\n",
      "800/800 [==============================] - 0s 424us/step - loss: 0.5672 - accuracy: 0.7100 - val_loss: 0.5189 - val_accuracy: 0.7650\n",
      "\n",
      "Epoch 00001: accuracy improved from -inf to 0.71000, saving model to ./best_model_keras\n",
      "Epoch 2/100\n",
      "800/800 [==============================] - 0s 166us/step - loss: 0.4861 - accuracy: 0.7625 - val_loss: 0.4781 - val_accuracy: 0.7700\n",
      "\n",
      "Epoch 00002: accuracy improved from 0.71000 to 0.76250, saving model to ./best_model_keras\n",
      "Epoch 3/100\n",
      "800/800 [==============================] - 0s 215us/step - loss: 0.4500 - accuracy: 0.7825 - val_loss: 0.4692 - val_accuracy: 0.8050\n",
      "\n",
      "Epoch 00003: accuracy improved from 0.76250 to 0.78250, saving model to ./best_model_keras\n",
      "Epoch 4/100\n",
      "800/800 [==============================] - 0s 213us/step - loss: 0.4263 - accuracy: 0.8112 - val_loss: 0.4836 - val_accuracy: 0.7550\n",
      "\n",
      "Epoch 00004: accuracy improved from 0.78250 to 0.81125, saving model to ./best_model_keras\n",
      "Epoch 5/100\n",
      "800/800 [==============================] - 0s 229us/step - loss: 0.4059 - accuracy: 0.8062 - val_loss: 0.4725 - val_accuracy: 0.7700\n",
      "\n",
      "Epoch 00005: accuracy did not improve from 0.81125\n",
      "Epoch 6/100\n",
      "800/800 [==============================] - 0s 234us/step - loss: 0.3856 - accuracy: 0.8275 - val_loss: 0.4749 - val_accuracy: 0.7800\n",
      "\n",
      "Epoch 00006: accuracy improved from 0.81125 to 0.82750, saving model to ./best_model_keras\n",
      "Epoch 7/100\n",
      "800/800 [==============================] - 0s 181us/step - loss: 0.3625 - accuracy: 0.8413 - val_loss: 0.4817 - val_accuracy: 0.7600\n",
      "\n",
      "Epoch 00007: accuracy improved from 0.82750 to 0.84125, saving model to ./best_model_keras\n",
      "Epoch 8/100\n",
      "800/800 [==============================] - 0s 170us/step - loss: 0.3466 - accuracy: 0.8475 - val_loss: 0.5021 - val_accuracy: 0.7600\n",
      "\n",
      "Epoch 00008: accuracy improved from 0.84125 to 0.84750, saving model to ./best_model_keras\n",
      "Epoch 9/100\n",
      "800/800 [==============================] - 0s 171us/step - loss: 0.3221 - accuracy: 0.8700 - val_loss: 0.4983 - val_accuracy: 0.7650\n",
      "\n",
      "Epoch 00009: accuracy improved from 0.84750 to 0.87000, saving model to ./best_model_keras\n",
      "Epoch 10/100\n",
      "800/800 [==============================] - 0s 179us/step - loss: 0.3016 - accuracy: 0.8725 - val_loss: 0.5164 - val_accuracy: 0.7500\n",
      "\n",
      "Epoch 00010: accuracy improved from 0.87000 to 0.87250, saving model to ./best_model_keras\n",
      "Epoch 11/100\n",
      "800/800 [==============================] - 0s 202us/step - loss: 0.2859 - accuracy: 0.8813 - val_loss: 0.5152 - val_accuracy: 0.7650\n",
      "\n",
      "Epoch 00011: accuracy improved from 0.87250 to 0.88125, saving model to ./best_model_keras\n",
      "Epoch 12/100\n",
      "800/800 [==============================] - 0s 205us/step - loss: 0.2660 - accuracy: 0.9038 - val_loss: 0.5650 - val_accuracy: 0.7150\n",
      "\n",
      "Epoch 00012: accuracy improved from 0.88125 to 0.90375, saving model to ./best_model_keras\n",
      "Epoch 13/100\n",
      "800/800 [==============================] - 0s 192us/step - loss: 0.2440 - accuracy: 0.9075 - val_loss: 0.5468 - val_accuracy: 0.7800\n",
      "\n",
      "Epoch 00013: accuracy improved from 0.90375 to 0.90750, saving model to ./best_model_keras\n",
      "Epoch 14/100\n",
      "800/800 [==============================] - 0s 199us/step - loss: 0.2231 - accuracy: 0.9262 - val_loss: 0.5607 - val_accuracy: 0.7650\n",
      "\n",
      "Epoch 00014: accuracy improved from 0.90750 to 0.92625, saving model to ./best_model_keras\n",
      "Epoch 15/100\n",
      "800/800 [==============================] - 0s 193us/step - loss: 0.2035 - accuracy: 0.9312 - val_loss: 0.5859 - val_accuracy: 0.7450\n",
      "\n",
      "Epoch 00015: accuracy improved from 0.92625 to 0.93125, saving model to ./best_model_keras\n",
      "Epoch 16/100\n",
      "800/800 [==============================] - 0s 155us/step - loss: 0.1888 - accuracy: 0.9362 - val_loss: 0.5904 - val_accuracy: 0.7550\n",
      "\n",
      "Epoch 00016: accuracy improved from 0.93125 to 0.93625, saving model to ./best_model_keras\n",
      "Epoch 17/100\n",
      "800/800 [==============================] - 0s 168us/step - loss: 0.1734 - accuracy: 0.9400 - val_loss: 0.5868 - val_accuracy: 0.7600\n",
      "\n",
      "Epoch 00017: accuracy improved from 0.93625 to 0.94000, saving model to ./best_model_keras\n",
      "Epoch 18/100\n",
      "800/800 [==============================] - 0s 190us/step - loss: 0.1554 - accuracy: 0.9500 - val_loss: 0.6061 - val_accuracy: 0.7850\n",
      "\n",
      "Epoch 00018: accuracy improved from 0.94000 to 0.95000, saving model to ./best_model_keras\n",
      "Epoch 19/100\n",
      "800/800 [==============================] - 0s 181us/step - loss: 0.1389 - accuracy: 0.9625 - val_loss: 0.5994 - val_accuracy: 0.8000\n",
      "\n",
      "Epoch 00019: accuracy improved from 0.95000 to 0.96250, saving model to ./best_model_keras\n",
      "Epoch 20/100\n",
      "800/800 [==============================] - 0s 190us/step - loss: 0.1308 - accuracy: 0.9638 - val_loss: 0.6821 - val_accuracy: 0.7350\n",
      "\n",
      "Epoch 00020: accuracy improved from 0.96250 to 0.96375, saving model to ./best_model_keras\n",
      "Epoch 21/100\n",
      "800/800 [==============================] - 0s 178us/step - loss: 0.1162 - accuracy: 0.9675 - val_loss: 0.6507 - val_accuracy: 0.7650\n",
      "\n",
      "Epoch 00021: accuracy improved from 0.96375 to 0.96750, saving model to ./best_model_keras\n",
      "\n",
      "Epoch 00021: ReduceLROnPlateau reducing learning rate to 0.0001.\n",
      "Epoch 22/100\n",
      "800/800 [==============================] - 0s 171us/step - loss: 0.0933 - accuracy: 0.9825 - val_loss: 0.6535 - val_accuracy: 0.7600\n",
      "\n",
      "Epoch 00022: accuracy improved from 0.96750 to 0.98250, saving model to ./best_model_keras\n",
      "Epoch 23/100\n",
      "800/800 [==============================] - 0s 165us/step - loss: 0.0915 - accuracy: 0.9850 - val_loss: 0.6554 - val_accuracy: 0.7600\n",
      "\n",
      "Epoch 00023: accuracy improved from 0.98250 to 0.98500, saving model to ./best_model_keras\n",
      "Epoch 24/100\n",
      "800/800 [==============================] - 0s 173us/step - loss: 0.0895 - accuracy: 0.9850 - val_loss: 0.6570 - val_accuracy: 0.7550\n",
      "\n",
      "Epoch 00024: accuracy did not improve from 0.98500\n",
      "Epoch 25/100\n",
      "800/800 [==============================] - 0s 172us/step - loss: 0.0880 - accuracy: 0.9875 - val_loss: 0.6609 - val_accuracy: 0.7600\n",
      "\n",
      "Epoch 00025: accuracy improved from 0.98500 to 0.98750, saving model to ./best_model_keras\n",
      "Epoch 26/100\n",
      "800/800 [==============================] - 0s 165us/step - loss: 0.0869 - accuracy: 0.9875 - val_loss: 0.6614 - val_accuracy: 0.7600\n",
      "\n",
      "Epoch 00026: accuracy did not improve from 0.98750\n",
      "Epoch 27/100\n",
      "800/800 [==============================] - 0s 190us/step - loss: 0.0853 - accuracy: 0.9887 - val_loss: 0.6673 - val_accuracy: 0.7600\n",
      "\n",
      "Epoch 00027: accuracy improved from 0.98750 to 0.98875, saving model to ./best_model_keras\n",
      "Epoch 28/100\n",
      "800/800 [==============================] - 0s 166us/step - loss: 0.0846 - accuracy: 0.9887 - val_loss: 0.6690 - val_accuracy: 0.7600\n",
      "\n",
      "Epoch 00028: accuracy did not improve from 0.98875\n",
      "Epoch 29/100\n",
      "800/800 [==============================] - 0s 192us/step - loss: 0.0832 - accuracy: 0.9875 - val_loss: 0.6684 - val_accuracy: 0.7600\n",
      "\n",
      "Epoch 00029: accuracy did not improve from 0.98875\n",
      "Epoch 30/100\n",
      "800/800 [==============================] - 0s 170us/step - loss: 0.0823 - accuracy: 0.9900 - val_loss: 0.6730 - val_accuracy: 0.7600\n",
      "\n",
      "Epoch 00030: accuracy improved from 0.98875 to 0.99000, saving model to ./best_model_keras\n",
      "Epoch 31/100\n",
      "800/800 [==============================] - 0s 154us/step - loss: 0.0813 - accuracy: 0.9875 - val_loss: 0.6750 - val_accuracy: 0.7600\n",
      "\n",
      "Epoch 00031: accuracy did not improve from 0.99000\n",
      "Epoch 32/100\n",
      "800/800 [==============================] - 0s 172us/step - loss: 0.0801 - accuracy: 0.9900 - val_loss: 0.6785 - val_accuracy: 0.7600\n",
      "\n",
      "Epoch 00032: accuracy did not improve from 0.99000\n",
      "Epoch 33/100\n",
      "800/800 [==============================] - 0s 191us/step - loss: 0.0792 - accuracy: 0.9875 - val_loss: 0.6814 - val_accuracy: 0.7550\n",
      "\n",
      "Epoch 00033: accuracy did not improve from 0.99000\n",
      "Epoch 34/100\n",
      "800/800 [==============================] - 0s 139us/step - loss: 0.0782 - accuracy: 0.9887 - val_loss: 0.6819 - val_accuracy: 0.7600\n",
      "\n",
      "Epoch 00034: accuracy did not improve from 0.99000\n",
      "Epoch 35/100\n",
      "800/800 [==============================] - 0s 130us/step - loss: 0.0769 - accuracy: 0.9900 - val_loss: 0.6840 - val_accuracy: 0.7550\n",
      "\n",
      "Epoch 00035: accuracy did not improve from 0.99000\n",
      "Epoch 36/100\n",
      "800/800 [==============================] - 0s 135us/step - loss: 0.0764 - accuracy: 0.9862 - val_loss: 0.6873 - val_accuracy: 0.7550\n",
      "\n",
      "Epoch 00036: accuracy did not improve from 0.99000\n",
      "Epoch 37/100\n"
     ]
    },
    {
     "name": "stdout",
     "output_type": "stream",
     "text": [
      "800/800 [==============================] - 0s 181us/step - loss: 0.0754 - accuracy: 0.9900 - val_loss: 0.6937 - val_accuracy: 0.7600\n",
      "\n",
      "Epoch 00037: accuracy did not improve from 0.99000\n",
      "Epoch 38/100\n",
      "800/800 [==============================] - 0s 175us/step - loss: 0.0743 - accuracy: 0.9900 - val_loss: 0.6934 - val_accuracy: 0.7550\n",
      "\n",
      "Epoch 00038: accuracy did not improve from 0.99000\n",
      "Epoch 39/100\n",
      "800/800 [==============================] - 0s 186us/step - loss: 0.0731 - accuracy: 0.9900 - val_loss: 0.6965 - val_accuracy: 0.7600\n",
      "\n",
      "Epoch 00039: accuracy did not improve from 0.99000\n",
      "Epoch 40/100\n",
      "800/800 [==============================] - 0s 144us/step - loss: 0.0721 - accuracy: 0.9887 - val_loss: 0.7004 - val_accuracy: 0.7550\n",
      "\n",
      "Epoch 00040: accuracy did not improve from 0.99000\n",
      "Epoch 41/100\n",
      "800/800 [==============================] - 0s 163us/step - loss: 0.0710 - accuracy: 0.9887 - val_loss: 0.7037 - val_accuracy: 0.7600\n",
      "\n",
      "Epoch 00041: accuracy did not improve from 0.99000\n",
      "Epoch 42/100\n",
      "800/800 [==============================] - 0s 196us/step - loss: 0.0701 - accuracy: 0.9887 - val_loss: 0.7035 - val_accuracy: 0.7550\n",
      "\n",
      "Epoch 00042: accuracy did not improve from 0.99000\n",
      "Epoch 43/100\n",
      "800/800 [==============================] - 0s 166us/step - loss: 0.0689 - accuracy: 0.9912 - val_loss: 0.7030 - val_accuracy: 0.7550\n",
      "\n",
      "Epoch 00043: accuracy improved from 0.99000 to 0.99125, saving model to ./best_model_keras\n",
      "Epoch 44/100\n",
      "800/800 [==============================] - 0s 189us/step - loss: 0.0685 - accuracy: 0.9912 - val_loss: 0.7075 - val_accuracy: 0.7550\n",
      "\n",
      "Epoch 00044: accuracy did not improve from 0.99125\n",
      "Epoch 45/100\n",
      "800/800 [==============================] - 0s 180us/step - loss: 0.0672 - accuracy: 0.9900 - val_loss: 0.7131 - val_accuracy: 0.7550\n",
      "\n",
      "Epoch 00045: accuracy did not improve from 0.99125\n",
      "Epoch 46/100\n",
      "800/800 [==============================] - 0s 179us/step - loss: 0.0663 - accuracy: 0.9887 - val_loss: 0.7125 - val_accuracy: 0.7550\n",
      "\n",
      "Epoch 00046: accuracy did not improve from 0.99125\n",
      "Epoch 47/100\n",
      "800/800 [==============================] - 0s 165us/step - loss: 0.0652 - accuracy: 0.9900 - val_loss: 0.7178 - val_accuracy: 0.7550\n",
      "\n",
      "Epoch 00047: accuracy did not improve from 0.99125\n",
      "Epoch 48/100\n",
      "800/800 [==============================] - 0s 171us/step - loss: 0.0644 - accuracy: 0.9900 - val_loss: 0.7185 - val_accuracy: 0.7550\n",
      "\n",
      "Epoch 00048: accuracy did not improve from 0.99125\n",
      "Epoch 49/100\n",
      "800/800 [==============================] - 0s 170us/step - loss: 0.0635 - accuracy: 0.9912 - val_loss: 0.7193 - val_accuracy: 0.7550\n",
      "\n",
      "Epoch 00049: accuracy did not improve from 0.99125\n",
      "Epoch 50/100\n",
      "800/800 [==============================] - 0s 179us/step - loss: 0.0627 - accuracy: 0.9925 - val_loss: 0.7237 - val_accuracy: 0.7550\n",
      "\n",
      "Epoch 00050: accuracy improved from 0.99125 to 0.99250, saving model to ./best_model_keras\n",
      "Epoch 51/100\n",
      "800/800 [==============================] - 0s 169us/step - loss: 0.0617 - accuracy: 0.9912 - val_loss: 0.7290 - val_accuracy: 0.7550\n",
      "\n",
      "Epoch 00051: accuracy did not improve from 0.99250\n",
      "Epoch 52/100\n",
      "800/800 [==============================] - 0s 171us/step - loss: 0.0610 - accuracy: 0.9925 - val_loss: 0.7286 - val_accuracy: 0.7550\n",
      "\n",
      "Epoch 00052: accuracy did not improve from 0.99250\n",
      "Epoch 53/100\n",
      "800/800 [==============================] - 0s 174us/step - loss: 0.0602 - accuracy: 0.9925 - val_loss: 0.7287 - val_accuracy: 0.7550\n",
      "\n",
      "Epoch 00053: accuracy did not improve from 0.99250\n",
      "Epoch 54/100\n",
      "800/800 [==============================] - 0s 169us/step - loss: 0.0591 - accuracy: 0.9912 - val_loss: 0.7370 - val_accuracy: 0.7600\n",
      "\n",
      "Epoch 00054: accuracy did not improve from 0.99250\n",
      "Epoch 55/100\n",
      "800/800 [==============================] - 0s 143us/step - loss: 0.0583 - accuracy: 0.9925 - val_loss: 0.7352 - val_accuracy: 0.7550\n",
      "\n",
      "Epoch 00055: accuracy did not improve from 0.99250\n",
      "Epoch 56/100\n",
      "800/800 [==============================] - 0s 175us/step - loss: 0.0575 - accuracy: 0.9925 - val_loss: 0.7439 - val_accuracy: 0.7600\n",
      "\n",
      "Epoch 00056: accuracy did not improve from 0.99250\n",
      "Epoch 57/100\n",
      "800/800 [==============================] - 0s 148us/step - loss: 0.0566 - accuracy: 0.9925 - val_loss: 0.7434 - val_accuracy: 0.7550\n",
      "\n",
      "Epoch 00057: accuracy did not improve from 0.99250\n",
      "Epoch 58/100\n",
      "800/800 [==============================] - 0s 167us/step - loss: 0.0556 - accuracy: 0.9925 - val_loss: 0.7470 - val_accuracy: 0.7550\n",
      "\n",
      "Epoch 00058: accuracy did not improve from 0.99250\n",
      "Epoch 59/100\n",
      "800/800 [==============================] - 0s 155us/step - loss: 0.0549 - accuracy: 0.9925 - val_loss: 0.7489 - val_accuracy: 0.7550\n",
      "\n",
      "Epoch 00059: accuracy did not improve from 0.99250\n",
      "Epoch 60/100\n",
      "800/800 [==============================] - 0s 203us/step - loss: 0.0546 - accuracy: 0.9925 - val_loss: 0.7497 - val_accuracy: 0.7550\n",
      "\n",
      "Epoch 00060: accuracy did not improve from 0.99250\n",
      "Epoch 61/100\n",
      "800/800 [==============================] - 0s 172us/step - loss: 0.0530 - accuracy: 0.9912 - val_loss: 0.7599 - val_accuracy: 0.7600\n",
      "\n",
      "Epoch 00061: accuracy did not improve from 0.99250\n",
      "Epoch 62/100\n",
      "800/800 [==============================] - 0s 177us/step - loss: 0.0525 - accuracy: 0.9925 - val_loss: 0.7595 - val_accuracy: 0.7550\n",
      "\n",
      "Epoch 00062: accuracy did not improve from 0.99250\n",
      "Epoch 63/100\n",
      "800/800 [==============================] - 0s 156us/step - loss: 0.0517 - accuracy: 0.9912 - val_loss: 0.7584 - val_accuracy: 0.7550\n",
      "\n",
      "Epoch 00063: accuracy did not improve from 0.99250\n",
      "Epoch 64/100\n",
      "800/800 [==============================] - 0s 166us/step - loss: 0.0507 - accuracy: 0.9925 - val_loss: 0.7635 - val_accuracy: 0.7550\n",
      "\n",
      "Epoch 00064: accuracy did not improve from 0.99250\n",
      "Epoch 65/100\n",
      "800/800 [==============================] - 0s 161us/step - loss: 0.0502 - accuracy: 0.9925 - val_loss: 0.7694 - val_accuracy: 0.7600\n",
      "\n",
      "Epoch 00065: accuracy did not improve from 0.99250\n",
      "Epoch 66/100\n",
      "800/800 [==============================] - 0s 136us/step - loss: 0.0494 - accuracy: 0.9925 - val_loss: 0.7709 - val_accuracy: 0.7550\n",
      "\n",
      "Epoch 00066: accuracy did not improve from 0.99250\n",
      "Epoch 67/100\n",
      "800/800 [==============================] - 0s 146us/step - loss: 0.0487 - accuracy: 0.9925 - val_loss: 0.7714 - val_accuracy: 0.7550\n",
      "\n",
      "Epoch 00067: accuracy did not improve from 0.99250\n",
      "Epoch 68/100\n",
      "800/800 [==============================] - 0s 150us/step - loss: 0.0477 - accuracy: 0.9925 - val_loss: 0.7786 - val_accuracy: 0.7550\n",
      "\n",
      "Epoch 00068: accuracy did not improve from 0.99250\n",
      "Epoch 69/100\n",
      "800/800 [==============================] - 0s 140us/step - loss: 0.0473 - accuracy: 0.9925 - val_loss: 0.7769 - val_accuracy: 0.7550\n",
      "\n",
      "Epoch 00069: accuracy did not improve from 0.99250\n",
      "Epoch 70/100\n",
      "800/800 [==============================] - 0s 159us/step - loss: 0.0463 - accuracy: 0.9925 - val_loss: 0.7847 - val_accuracy: 0.7600\n",
      "\n",
      "Epoch 00070: accuracy did not improve from 0.99250\n",
      "Epoch 71/100\n",
      "800/800 [==============================] - 0s 164us/step - loss: 0.0459 - accuracy: 0.9925 - val_loss: 0.7915 - val_accuracy: 0.7650\n",
      "\n",
      "Epoch 00071: accuracy did not improve from 0.99250\n",
      "Epoch 72/100\n",
      "800/800 [==============================] - 0s 192us/step - loss: 0.0453 - accuracy: 0.9925 - val_loss: 0.7900 - val_accuracy: 0.7550\n",
      "\n",
      "Epoch 00072: accuracy did not improve from 0.99250\n",
      "Epoch 73/100\n",
      "800/800 [==============================] - 0s 200us/step - loss: 0.0442 - accuracy: 0.9937 - val_loss: 0.7928 - val_accuracy: 0.7550\n",
      "\n",
      "Epoch 00073: accuracy improved from 0.99250 to 0.99375, saving model to ./best_model_keras\n",
      "Epoch 74/100\n",
      "800/800 [==============================] - 0s 194us/step - loss: 0.0437 - accuracy: 0.9937 - val_loss: 0.7967 - val_accuracy: 0.7550\n",
      "\n",
      "Epoch 00074: accuracy did not improve from 0.99375\n",
      "Epoch 75/100\n",
      "800/800 [==============================] - 0s 194us/step - loss: 0.0427 - accuracy: 0.9950 - val_loss: 0.7998 - val_accuracy: 0.7550\n",
      "\n",
      "Epoch 00075: accuracy improved from 0.99375 to 0.99500, saving model to ./best_model_keras\n",
      "Epoch 76/100\n",
      "800/800 [==============================] - 0s 172us/step - loss: 0.0421 - accuracy: 0.9937 - val_loss: 0.8080 - val_accuracy: 0.7650\n",
      "\n",
      "Epoch 00076: accuracy did not improve from 0.99500\n",
      "Epoch 77/100\n",
      "800/800 [==============================] - 0s 192us/step - loss: 0.0414 - accuracy: 0.9925 - val_loss: 0.8028 - val_accuracy: 0.7550\n"
     ]
    },
    {
     "name": "stdout",
     "output_type": "stream",
     "text": [
      "\n",
      "Epoch 00077: accuracy did not improve from 0.99500\n",
      "Epoch 78/100\n",
      "800/800 [==============================] - 0s 187us/step - loss: 0.0406 - accuracy: 0.9937 - val_loss: 0.8121 - val_accuracy: 0.7600\n",
      "\n",
      "Epoch 00078: accuracy did not improve from 0.99500\n",
      "Epoch 79/100\n",
      "800/800 [==============================] - 0s 194us/step - loss: 0.0401 - accuracy: 0.9937 - val_loss: 0.8119 - val_accuracy: 0.7550\n",
      "\n",
      "Epoch 00079: accuracy did not improve from 0.99500\n",
      "Epoch 80/100\n",
      "800/800 [==============================] - 0s 158us/step - loss: 0.0392 - accuracy: 0.9937 - val_loss: 0.8143 - val_accuracy: 0.7550\n",
      "\n",
      "Epoch 00080: accuracy did not improve from 0.99500\n",
      "Epoch 81/100\n",
      "800/800 [==============================] - 0s 151us/step - loss: 0.0387 - accuracy: 0.9962 - val_loss: 0.8194 - val_accuracy: 0.7550\n",
      "\n",
      "Epoch 00081: accuracy improved from 0.99500 to 0.99625, saving model to ./best_model_keras\n",
      "Epoch 82/100\n",
      "800/800 [==============================] - 0s 161us/step - loss: 0.0380 - accuracy: 0.9962 - val_loss: 0.8228 - val_accuracy: 0.7600\n",
      "\n",
      "Epoch 00082: accuracy did not improve from 0.99625\n",
      "Epoch 83/100\n",
      "800/800 [==============================] - 0s 138us/step - loss: 0.0373 - accuracy: 0.9950 - val_loss: 0.8241 - val_accuracy: 0.7550\n",
      "\n",
      "Epoch 00083: accuracy did not improve from 0.99625\n",
      "Epoch 84/100\n",
      "800/800 [==============================] - 0s 127us/step - loss: 0.0369 - accuracy: 0.9950 - val_loss: 0.8259 - val_accuracy: 0.7550\n",
      "\n",
      "Epoch 00084: accuracy did not improve from 0.99625\n",
      "Epoch 85/100\n",
      "800/800 [==============================] - 0s 133us/step - loss: 0.0362 - accuracy: 0.9962 - val_loss: 0.8353 - val_accuracy: 0.7600\n",
      "\n",
      "Epoch 00085: accuracy did not improve from 0.99625\n",
      "Epoch 86/100\n",
      "800/800 [==============================] - 0s 163us/step - loss: 0.0355 - accuracy: 0.9962 - val_loss: 0.8380 - val_accuracy: 0.7550\n",
      "\n",
      "Epoch 00086: accuracy did not improve from 0.99625\n",
      "Epoch 87/100\n",
      "800/800 [==============================] - 0s 177us/step - loss: 0.0349 - accuracy: 0.9962 - val_loss: 0.8353 - val_accuracy: 0.7550\n",
      "\n",
      "Epoch 00087: accuracy did not improve from 0.99625\n",
      "Epoch 88/100\n",
      "800/800 [==============================] - 0s 157us/step - loss: 0.0344 - accuracy: 0.9962 - val_loss: 0.8459 - val_accuracy: 0.7600\n",
      "\n",
      "Epoch 00088: accuracy did not improve from 0.99625\n",
      "Epoch 89/100\n",
      "800/800 [==============================] - 0s 173us/step - loss: 0.0339 - accuracy: 0.9962 - val_loss: 0.8472 - val_accuracy: 0.7550\n",
      "\n",
      "Epoch 00089: accuracy did not improve from 0.99625\n",
      "Epoch 90/100\n",
      "800/800 [==============================] - 0s 190us/step - loss: 0.0337 - accuracy: 0.9975 - val_loss: 0.8451 - val_accuracy: 0.7550\n",
      "\n",
      "Epoch 00090: accuracy improved from 0.99625 to 0.99750, saving model to ./best_model_keras\n",
      "Epoch 91/100\n",
      "800/800 [==============================] - ETA: 0s - loss: 0.0336 - accuracy: 0.99 - 0s 195us/step - loss: 0.0325 - accuracy: 0.9987 - val_loss: 0.8593 - val_accuracy: 0.7550\n",
      "\n",
      "Epoch 00091: accuracy improved from 0.99750 to 0.99875, saving model to ./best_model_keras\n",
      "Epoch 92/100\n",
      "800/800 [==============================] - 0s 179us/step - loss: 0.0321 - accuracy: 0.9987 - val_loss: 0.8566 - val_accuracy: 0.7550\n",
      "\n",
      "Epoch 00092: accuracy did not improve from 0.99875\n",
      "Epoch 93/100\n",
      "800/800 [==============================] - 0s 178us/step - loss: 0.0316 - accuracy: 0.9975 - val_loss: 0.8586 - val_accuracy: 0.7550\n",
      "\n",
      "Epoch 00093: accuracy did not improve from 0.99875\n",
      "Epoch 94/100\n",
      "800/800 [==============================] - 0s 171us/step - loss: 0.0312 - accuracy: 0.9975 - val_loss: 0.8675 - val_accuracy: 0.7600\n",
      "\n",
      "Epoch 00094: accuracy did not improve from 0.99875\n",
      "Epoch 95/100\n",
      "800/800 [==============================] - 0s 153us/step - loss: 0.0307 - accuracy: 0.9987 - val_loss: 0.8715 - val_accuracy: 0.7600\n",
      "\n",
      "Epoch 00095: accuracy did not improve from 0.99875\n",
      "Epoch 96/100\n",
      "800/800 [==============================] - 0s 158us/step - loss: 0.0300 - accuracy: 0.9987 - val_loss: 0.8664 - val_accuracy: 0.7550\n",
      "\n",
      "Epoch 00096: accuracy did not improve from 0.99875\n",
      "Epoch 97/100\n",
      "800/800 [==============================] - 0s 180us/step - loss: 0.0298 - accuracy: 0.9987 - val_loss: 0.8733 - val_accuracy: 0.7650\n",
      "\n",
      "Epoch 00097: accuracy did not improve from 0.99875\n",
      "Epoch 98/100\n",
      "800/800 [==============================] - 0s 166us/step - loss: 0.0291 - accuracy: 0.9987 - val_loss: 0.8749 - val_accuracy: 0.7550\n",
      "\n",
      "Epoch 00098: accuracy did not improve from 0.99875\n",
      "Epoch 99/100\n",
      "800/800 [==============================] - 0s 159us/step - loss: 0.0288 - accuracy: 0.9987 - val_loss: 0.8842 - val_accuracy: 0.7550\n",
      "\n",
      "Epoch 00099: accuracy did not improve from 0.99875\n",
      "Epoch 100/100\n",
      "800/800 [==============================] - 0s 145us/step - loss: 0.0282 - accuracy: 0.9987 - val_loss: 0.8772 - val_accuracy: 0.7550\n",
      "\n",
      "Epoch 00100: accuracy did not improve from 0.99875\n",
      "1000/1000 [==============================] - 0s 27us/step\n",
      "Accuracy: 95.00\n"
     ]
    }
   ],
   "source": [
    "import pandas as pd\n",
    "from sklearn.model_selection import train_test_split\n",
    "import numpy as np\n",
    "import random\n",
    "from certifai.common.utils.encoding import CatEncoder\n",
    "from keras.callbacks import ReduceLROnPlateau,EarlyStopping,ModelCheckpoint\n",
    "from keras.models import Sequential\n",
    "from keras import regularizers\n",
    "from keras import optimizers\n",
    "from keras.layers import Dense, Dropout\n",
    "import os\n",
    "import random\n",
    "import tensorflow as tf\n",
    "seed = 42\n",
    "\n",
    "os.environ['PYTHONHASHSEED']=str(seed)\n",
    "np.random.seed(seed)\n",
    "random.seed(seed)\n",
    "\n",
    "try:\n",
    "    tf.random.set_seed(seed)\n",
    "except AttributeError:\n",
    "    tf.set_random_seed(seed)\n",
    "\n",
    "base_path = '../..'\n",
    "all_data_file = f\"{base_path}/datasets/german_credit_eval.csv\"\n",
    "\n",
    "df = pd.read_csv(all_data_file)\n",
    "\n",
    "cat_columns = [\n",
    "    'checkingstatus',\n",
    "    'history',\n",
    "    'purpose',\n",
    "    'savings',\n",
    "    'employ',\n",
    "    'status',\n",
    "    'others',\n",
    "    'property',\n",
    "    'age',\n",
    "    'otherplans',\n",
    "    'housing',\n",
    "    'job',\n",
    "    'telephone',\n",
    "    'foreign'\n",
    "    ]\n",
    "\n",
    "label_column = 'outcome'\n",
    "\n",
    "# Separate outcome\n",
    "y = df[label_column]\n",
    "X = df.drop(label_column, axis=1)\n",
    "\n",
    "encoder = CatEncoder(cat_columns, X)\n",
    "\n",
    "# NN separate for probability scoring label \n",
    "y_model = np.asarray([(1,0) if x==1 else (0,1) for x in y ])\n",
    "\n",
    "best_model_path = os.path.join('.', 'best_model_keras')\n",
    "es = EarlyStopping(monitor='accuracy', mode='min', verbose=1,\n",
    "                   patience=100, min_delta=0.0001)\n",
    "\n",
    "rlp = ReduceLROnPlateau(monitor='accuracy', factor=0.02, patience=20, verbose=1, mode='min',\n",
    "                        min_delta=0.001, cooldown=1, min_lr=0.0001)\n",
    "mcp = ModelCheckpoint(best_model_path, monitor='accuracy', verbose=1,\n",
    "                      save_best_only=True, save_weights_only=False, mode='max')\n",
    "\n",
    "model = Sequential()\n",
    "model.add(Dense(60, input_dim=encoder(X.values).shape[1], activation='relu'))\n",
    "model.add(Dense(8, activation='relu'))\n",
    "model.add(Dense(2, activation='softmax'))\n",
    "model.compile(loss='binary_crossentropy', optimizer='adam', metrics=['accuracy'])\n",
    "model.fit(encoder(X.values), y_model, epochs=100, batch_size=10, callbacks=[mcp,rlp,es],validation_split=0.2)\n",
    "_, accuracy = model.evaluate(encoder(X.values), y_model)\n",
    "print('Accuracy: %.2f' % (accuracy*100))"
   ]
  },
  {
   "cell_type": "code",
   "execution_count": 22,
   "metadata": {},
   "outputs": [
    {
     "data": {
      "text/plain": [
       "1    700\n",
       "2    300\n",
       "Name: outcome, dtype: int64"
      ]
     },
     "execution_count": 22,
     "metadata": {},
     "output_type": "execute_result"
    }
   ],
   "source": [
    "# initial value counts of outcome label\n",
    "df['outcome'].value_counts()"
   ]
  },
  {
   "cell_type": "code",
   "execution_count": 23,
   "metadata": {},
   "outputs": [
    {
     "data": {
      "text/plain": [
       "0.95"
      ]
     },
     "execution_count": 23,
     "metadata": {},
     "output_type": "execute_result"
    }
   ],
   "source": [
    "y_preds = model.predict(encoder(X.values))\n",
    "y_classes = np.argmax(y_preds,axis=1)\n",
    "y_actual = np.where(y==1, 0,1)\n",
    "np.mean(y_actual == y_classes)"
   ]
  },
  {
   "cell_type": "markdown",
   "metadata": {},
   "source": [
    "### creating new label"
   ]
  },
  {
   "cell_type": "code",
   "execution_count": 24,
   "metadata": {},
   "outputs": [
    {
     "data": {
      "text/plain": [
       "(530,)"
      ]
     },
     "execution_count": 24,
     "metadata": {},
     "output_type": "execute_result"
    }
   ],
   "source": [
    "# loan_granted 1\n",
    "new_label_1 = y_preds[y_preds[:,0] > 0.98][:,0]\n",
    "new_label_1.shape"
   ]
  },
  {
   "cell_type": "code",
   "execution_count": 25,
   "metadata": {},
   "outputs": [
    {
     "data": {
      "text/plain": [
       "(284,)"
      ]
     },
     "execution_count": 25,
     "metadata": {},
     "output_type": "execute_result"
    }
   ],
   "source": [
    "#loan_denied 2\n",
    "new_label_2 = y_preds[y_preds[:,0] < 0.3][:,0]\n",
    "new_label_2.shape"
   ]
  },
  {
   "cell_type": "code",
   "execution_count": 26,
   "metadata": {},
   "outputs": [
    {
     "data": {
      "text/plain": [
       "(186,)"
      ]
     },
     "execution_count": 26,
     "metadata": {},
     "output_type": "execute_result"
    }
   ],
   "source": [
    "# further_inspection 3\n",
    "new_label_3 = y_preds[(y_preds[:,0] > 0.3) & (y_preds[:,0] < 0.98)][:,0]\n",
    "new_label_3.shape"
   ]
  },
  {
   "cell_type": "markdown",
   "metadata": {},
   "source": [
    "### arrange the new labels to be appended to dataset"
   ]
  },
  {
   "cell_type": "code",
   "execution_count": 27,
   "metadata": {},
   "outputs": [],
   "source": [
    "new_label = []\n",
    "for z in y_preds:\n",
    "    prob_class_1 = z[0]\n",
    "    if prob_class_1 > 0.98:\n",
    "        new_label.append(1)\n",
    "    elif prob_class_1 < 0.4:\n",
    "        new_label.append(2)\n",
    "    else:\n",
    "        new_label.append(3)"
   ]
  },
  {
   "cell_type": "code",
   "execution_count": 28,
   "metadata": {},
   "outputs": [
    {
     "data": {
      "text/plain": [
       "0.789"
      ]
     },
     "execution_count": 28,
     "metadata": {},
     "output_type": "execute_result"
    }
   ],
   "source": [
    "# test for sanity of new labels\n",
    "np.mean(y==new_label)"
   ]
  },
  {
   "cell_type": "markdown",
   "metadata": {},
   "source": [
    "### create dataset with new labels"
   ]
  },
  {
   "cell_type": "code",
   "execution_count": 29,
   "metadata": {},
   "outputs": [],
   "source": [
    "df_new = df.copy()\n",
    "df_new[label_column] = new_label"
   ]
  },
  {
   "cell_type": "markdown",
   "metadata": {},
   "source": [
    "### check new outcome label counts"
   ]
  },
  {
   "cell_type": "code",
   "execution_count": 30,
   "metadata": {},
   "outputs": [
    {
     "data": {
      "text/plain": [
       "1    530\n",
       "2    292\n",
       "3    178\n",
       "Name: outcome, dtype: int64"
      ]
     },
     "execution_count": 30,
     "metadata": {},
     "output_type": "execute_result"
    }
   ],
   "source": [
    "df_new['outcome'].value_counts()"
   ]
  },
  {
   "cell_type": "markdown",
   "metadata": {},
   "source": [
    "### dump the new dataset as csv"
   ]
  },
  {
   "cell_type": "code",
   "execution_count": 31,
   "metadata": {},
   "outputs": [],
   "source": [
    "save_as = f\"{base_path}/datasets/german_credit_eval_multiclass.csv\"\n",
    "df_new.to_csv(save_as,index=False)"
   ]
  },
  {
   "cell_type": "markdown",
   "metadata": {},
   "source": [
    "### check file is saved correctly"
   ]
  },
  {
   "cell_type": "code",
   "execution_count": 32,
   "metadata": {},
   "outputs": [
    {
     "name": "stdout",
     "output_type": "stream",
     "text": [
      "german_credit_eval_multiclass.csv\r\n"
     ]
    }
   ],
   "source": [
    "!ls $base_path/datasets | grep multiclass.csv"
   ]
  },
  {
   "cell_type": "code",
   "execution_count": null,
   "metadata": {},
   "outputs": [],
   "source": []
  }
 ],
 "metadata": {
  "kernelspec": {
   "display_name": "Python 3",
   "language": "python",
   "name": "python3"
  },
  "language_info": {
   "codemirror_mode": {
    "name": "ipython",
    "version": 3
   },
   "file_extension": ".py",
   "mimetype": "text/x-python",
   "name": "python",
   "nbconvert_exporter": "python",
   "pygments_lexer": "ipython3",
   "version": "3.7.7"
  }
 },
 "nbformat": 4,
 "nbformat_minor": 4
}
