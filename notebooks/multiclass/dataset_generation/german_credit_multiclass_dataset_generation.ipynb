{
 "cells": [
  {
   "cell_type": "markdown",
   "metadata": {},
   "source": [
    "### Requirements to generate german credit multiclass csv\n",
    "\n",
    "- keras (tensorflow backend)\n",
    "- numpy\n",
    "- certifai_common(encoder for model training)\n",
    "- scikit-learn"
   ]
  },
  {
   "cell_type": "code",
   "execution_count": 1,
   "metadata": {},
   "outputs": [
    {
     "name": "stderr",
     "output_type": "stream",
     "text": [
      "Using TensorFlow backend.\n",
      "/Users/akumar/miniconda/envs/hsbc-v1.3.3/lib/python3.7/site-packages/tensorflow/python/framework/dtypes.py:516: FutureWarning: Passing (type, 1) or '1type' as a synonym of type is deprecated; in a future version of numpy, it will be understood as (type, (1,)) / '(1,)type'.\n",
      "  _np_qint8 = np.dtype([(\"qint8\", np.int8, 1)])\n",
      "/Users/akumar/miniconda/envs/hsbc-v1.3.3/lib/python3.7/site-packages/tensorflow/python/framework/dtypes.py:517: FutureWarning: Passing (type, 1) or '1type' as a synonym of type is deprecated; in a future version of numpy, it will be understood as (type, (1,)) / '(1,)type'.\n",
      "  _np_quint8 = np.dtype([(\"quint8\", np.uint8, 1)])\n",
      "/Users/akumar/miniconda/envs/hsbc-v1.3.3/lib/python3.7/site-packages/tensorflow/python/framework/dtypes.py:518: FutureWarning: Passing (type, 1) or '1type' as a synonym of type is deprecated; in a future version of numpy, it will be understood as (type, (1,)) / '(1,)type'.\n",
      "  _np_qint16 = np.dtype([(\"qint16\", np.int16, 1)])\n",
      "/Users/akumar/miniconda/envs/hsbc-v1.3.3/lib/python3.7/site-packages/tensorflow/python/framework/dtypes.py:519: FutureWarning: Passing (type, 1) or '1type' as a synonym of type is deprecated; in a future version of numpy, it will be understood as (type, (1,)) / '(1,)type'.\n",
      "  _np_quint16 = np.dtype([(\"quint16\", np.uint16, 1)])\n",
      "/Users/akumar/miniconda/envs/hsbc-v1.3.3/lib/python3.7/site-packages/tensorflow/python/framework/dtypes.py:520: FutureWarning: Passing (type, 1) or '1type' as a synonym of type is deprecated; in a future version of numpy, it will be understood as (type, (1,)) / '(1,)type'.\n",
      "  _np_qint32 = np.dtype([(\"qint32\", np.int32, 1)])\n",
      "/Users/akumar/miniconda/envs/hsbc-v1.3.3/lib/python3.7/site-packages/tensorflow/python/framework/dtypes.py:525: FutureWarning: Passing (type, 1) or '1type' as a synonym of type is deprecated; in a future version of numpy, it will be understood as (type, (1,)) / '(1,)type'.\n",
      "  np_resource = np.dtype([(\"resource\", np.ubyte, 1)])\n"
     ]
    },
    {
     "name": "stdout",
     "output_type": "stream",
     "text": [
      "keras version 2.3.1\n",
      "tensorflow version 1.14.0\n"
     ]
    },
    {
     "name": "stderr",
     "output_type": "stream",
     "text": [
      "/Users/akumar/miniconda/envs/hsbc-v1.3.3/lib/python3.7/site-packages/tensorboard/compat/tensorflow_stub/dtypes.py:541: FutureWarning: Passing (type, 1) or '1type' as a synonym of type is deprecated; in a future version of numpy, it will be understood as (type, (1,)) / '(1,)type'.\n",
      "  _np_qint8 = np.dtype([(\"qint8\", np.int8, 1)])\n",
      "/Users/akumar/miniconda/envs/hsbc-v1.3.3/lib/python3.7/site-packages/tensorboard/compat/tensorflow_stub/dtypes.py:542: FutureWarning: Passing (type, 1) or '1type' as a synonym of type is deprecated; in a future version of numpy, it will be understood as (type, (1,)) / '(1,)type'.\n",
      "  _np_quint8 = np.dtype([(\"quint8\", np.uint8, 1)])\n",
      "/Users/akumar/miniconda/envs/hsbc-v1.3.3/lib/python3.7/site-packages/tensorboard/compat/tensorflow_stub/dtypes.py:543: FutureWarning: Passing (type, 1) or '1type' as a synonym of type is deprecated; in a future version of numpy, it will be understood as (type, (1,)) / '(1,)type'.\n",
      "  _np_qint16 = np.dtype([(\"qint16\", np.int16, 1)])\n",
      "/Users/akumar/miniconda/envs/hsbc-v1.3.3/lib/python3.7/site-packages/tensorboard/compat/tensorflow_stub/dtypes.py:544: FutureWarning: Passing (type, 1) or '1type' as a synonym of type is deprecated; in a future version of numpy, it will be understood as (type, (1,)) / '(1,)type'.\n",
      "  _np_quint16 = np.dtype([(\"quint16\", np.uint16, 1)])\n",
      "/Users/akumar/miniconda/envs/hsbc-v1.3.3/lib/python3.7/site-packages/tensorboard/compat/tensorflow_stub/dtypes.py:545: FutureWarning: Passing (type, 1) or '1type' as a synonym of type is deprecated; in a future version of numpy, it will be understood as (type, (1,)) / '(1,)type'.\n",
      "  _np_qint32 = np.dtype([(\"qint32\", np.int32, 1)])\n",
      "/Users/akumar/miniconda/envs/hsbc-v1.3.3/lib/python3.7/site-packages/tensorboard/compat/tensorflow_stub/dtypes.py:550: FutureWarning: Passing (type, 1) or '1type' as a synonym of type is deprecated; in a future version of numpy, it will be understood as (type, (1,)) / '(1,)type'.\n",
      "  np_resource = np.dtype([(\"resource\", np.ubyte, 1)])\n"
     ]
    }
   ],
   "source": [
    "import keras as keras_version_check\n",
    "import tensorflow as tf_version_check\n",
    "print(f'keras version {keras_version_check.__version__}')\n",
    "print(f'tensorflow version {tf_version_check.__version__}')"
   ]
  },
  {
   "cell_type": "code",
   "execution_count": 2,
   "metadata": {
    "scrolled": true
   },
   "outputs": [
    {
     "name": "stdout",
     "output_type": "stream",
     "text": [
      "WARNING:tensorflow:From /Users/akumar/miniconda/envs/hsbc-v1.3.3/lib/python3.7/site-packages/tensorflow/python/ops/math_grad.py:1250: add_dispatch_support.<locals>.wrapper (from tensorflow.python.ops.array_ops) is deprecated and will be removed in a future version.\n",
      "Instructions for updating:\n",
      "Use tf.where in 2.0, which has the same broadcast rule as np.where\n",
      "WARNING:tensorflow:From /Users/akumar/miniconda/envs/hsbc-v1.3.3/lib/python3.7/site-packages/keras/backend/tensorflow_backend.py:422: The name tf.global_variables is deprecated. Please use tf.compat.v1.global_variables instead.\n",
      "\n",
      "Train on 800 samples, validate on 200 samples\n",
      "Epoch 1/100\n",
      "800/800 [==============================] - 0s 466us/step - loss: 0.5672 - accuracy: 0.7100 - val_loss: 0.5189 - val_accuracy: 0.7650\n",
      "\n",
      "Epoch 00001: accuracy improved from -inf to 0.71000, saving model to ./best_model_keras\n",
      "Epoch 2/100\n",
      "800/800 [==============================] - 0s 343us/step - loss: 0.4861 - accuracy: 0.7625 - val_loss: 0.4781 - val_accuracy: 0.7700\n",
      "\n",
      "Epoch 00002: accuracy improved from 0.71000 to 0.76250, saving model to ./best_model_keras\n",
      "Epoch 3/100\n",
      "800/800 [==============================] - 0s 252us/step - loss: 0.4502 - accuracy: 0.7825 - val_loss: 0.4692 - val_accuracy: 0.8050\n",
      "\n",
      "Epoch 00003: accuracy improved from 0.76250 to 0.78250, saving model to ./best_model_keras\n",
      "Epoch 4/100\n",
      "800/800 [==============================] - 0s 165us/step - loss: 0.4264 - accuracy: 0.8112 - val_loss: 0.4837 - val_accuracy: 0.7550\n",
      "\n",
      "Epoch 00004: accuracy improved from 0.78250 to 0.81125, saving model to ./best_model_keras\n",
      "Epoch 5/100\n",
      "800/800 [==============================] - 0s 190us/step - loss: 0.4058 - accuracy: 0.8062 - val_loss: 0.4723 - val_accuracy: 0.7700\n",
      "\n",
      "Epoch 00005: accuracy did not improve from 0.81125\n",
      "Epoch 6/100\n",
      "800/800 [==============================] - 0s 209us/step - loss: 0.3856 - accuracy: 0.8275 - val_loss: 0.4753 - val_accuracy: 0.7750\n",
      "\n",
      "Epoch 00006: accuracy improved from 0.81125 to 0.82750, saving model to ./best_model_keras\n",
      "Epoch 7/100\n",
      "800/800 [==============================] - 0s 227us/step - loss: 0.3627 - accuracy: 0.8400 - val_loss: 0.4829 - val_accuracy: 0.7600\n",
      "\n",
      "Epoch 00007: accuracy improved from 0.82750 to 0.84000, saving model to ./best_model_keras\n",
      "Epoch 8/100\n",
      "800/800 [==============================] - 0s 307us/step - loss: 0.3467 - accuracy: 0.8475 - val_loss: 0.5033 - val_accuracy: 0.7600\n",
      "\n",
      "Epoch 00008: accuracy improved from 0.84000 to 0.84750, saving model to ./best_model_keras\n",
      "Epoch 9/100\n",
      "800/800 [==============================] - 0s 228us/step - loss: 0.3221 - accuracy: 0.8725 - val_loss: 0.4996 - val_accuracy: 0.7550\n",
      "\n",
      "Epoch 00009: accuracy improved from 0.84750 to 0.87250, saving model to ./best_model_keras\n",
      "Epoch 10/100\n",
      "800/800 [==============================] - 0s 174us/step - loss: 0.3027 - accuracy: 0.8725 - val_loss: 0.5209 - val_accuracy: 0.7450\n",
      "\n",
      "Epoch 00010: accuracy did not improve from 0.87250\n",
      "Epoch 11/100\n",
      "800/800 [==============================] - 0s 157us/step - loss: 0.2870 - accuracy: 0.8800 - val_loss: 0.5176 - val_accuracy: 0.7600\n",
      "\n",
      "Epoch 00011: accuracy improved from 0.87250 to 0.88000, saving model to ./best_model_keras\n",
      "Epoch 12/100\n",
      "800/800 [==============================] - 0s 118us/step - loss: 0.2667 - accuracy: 0.9025 - val_loss: 0.5681 - val_accuracy: 0.7100\n",
      "\n",
      "Epoch 00012: accuracy improved from 0.88000 to 0.90250, saving model to ./best_model_keras\n",
      "Epoch 13/100\n",
      "800/800 [==============================] - 0s 112us/step - loss: 0.2437 - accuracy: 0.9125 - val_loss: 0.5623 - val_accuracy: 0.7600\n",
      "\n",
      "Epoch 00013: accuracy improved from 0.90250 to 0.91250, saving model to ./best_model_keras\n",
      "Epoch 14/100\n",
      "800/800 [==============================] - 0s 100us/step - loss: 0.2237 - accuracy: 0.9212 - val_loss: 0.5703 - val_accuracy: 0.7650\n",
      "\n",
      "Epoch 00014: accuracy improved from 0.91250 to 0.92125, saving model to ./best_model_keras\n",
      "Epoch 15/100\n",
      "800/800 [==============================] - 0s 134us/step - loss: 0.2037 - accuracy: 0.9275 - val_loss: 0.5917 - val_accuracy: 0.7400\n",
      "\n",
      "Epoch 00015: accuracy improved from 0.92125 to 0.92750, saving model to ./best_model_keras\n",
      "Epoch 16/100\n",
      "800/800 [==============================] - 0s 135us/step - loss: 0.1889 - accuracy: 0.9337 - val_loss: 0.5973 - val_accuracy: 0.7650\n",
      "\n",
      "Epoch 00016: accuracy improved from 0.92750 to 0.93375, saving model to ./best_model_keras\n",
      "Epoch 17/100\n",
      "800/800 [==============================] - 0s 160us/step - loss: 0.1727 - accuracy: 0.9413 - val_loss: 0.5846 - val_accuracy: 0.7600\n",
      "\n",
      "Epoch 00017: accuracy improved from 0.93375 to 0.94125, saving model to ./best_model_keras\n",
      "Epoch 18/100\n",
      "800/800 [==============================] - 0s 198us/step - loss: 0.1546 - accuracy: 0.9488 - val_loss: 0.6074 - val_accuracy: 0.7950\n",
      "\n",
      "Epoch 00018: accuracy improved from 0.94125 to 0.94875, saving model to ./best_model_keras\n",
      "Epoch 19/100\n",
      "800/800 [==============================] - 0s 327us/step - loss: 0.1395 - accuracy: 0.9663 - val_loss: 0.6122 - val_accuracy: 0.7850\n",
      "\n",
      "Epoch 00019: accuracy improved from 0.94875 to 0.96625, saving model to ./best_model_keras\n",
      "Epoch 20/100\n",
      "800/800 [==============================] - 0s 168us/step - loss: 0.1295 - accuracy: 0.9688 - val_loss: 0.6883 - val_accuracy: 0.7250\n",
      "\n",
      "Epoch 00020: accuracy improved from 0.96625 to 0.96875, saving model to ./best_model_keras\n",
      "Epoch 21/100\n",
      "800/800 [==============================] - 0s 149us/step - loss: 0.1153 - accuracy: 0.9675 - val_loss: 0.6552 - val_accuracy: 0.7850\n",
      "\n",
      "Epoch 00021: accuracy did not improve from 0.96875\n",
      "\n",
      "Epoch 00021: ReduceLROnPlateau reducing learning rate to 0.0001.\n",
      "Epoch 22/100\n",
      "800/800 [==============================] - 0s 150us/step - loss: 0.0923 - accuracy: 0.9812 - val_loss: 0.6592 - val_accuracy: 0.7700\n",
      "\n",
      "Epoch 00022: accuracy improved from 0.96875 to 0.98125, saving model to ./best_model_keras\n",
      "Epoch 23/100\n",
      "800/800 [==============================] - 0s 167us/step - loss: 0.0906 - accuracy: 0.9825 - val_loss: 0.6606 - val_accuracy: 0.7700\n",
      "\n",
      "Epoch 00023: accuracy improved from 0.98125 to 0.98250, saving model to ./best_model_keras\n",
      "Epoch 24/100\n",
      "800/800 [==============================] - 0s 224us/step - loss: 0.0886 - accuracy: 0.9850 - val_loss: 0.6624 - val_accuracy: 0.7750\n",
      "\n",
      "Epoch 00024: accuracy improved from 0.98250 to 0.98500, saving model to ./best_model_keras\n",
      "Epoch 25/100\n",
      "800/800 [==============================] - 0s 174us/step - loss: 0.0872 - accuracy: 0.9850 - val_loss: 0.6657 - val_accuracy: 0.7750\n",
      "\n",
      "Epoch 00025: accuracy did not improve from 0.98500\n",
      "Epoch 26/100\n",
      "800/800 [==============================] - 0s 156us/step - loss: 0.0859 - accuracy: 0.9875 - val_loss: 0.6670 - val_accuracy: 0.7800\n",
      "\n",
      "Epoch 00026: accuracy improved from 0.98500 to 0.98750, saving model to ./best_model_keras\n",
      "Epoch 27/100\n",
      "800/800 [==============================] - 0s 169us/step - loss: 0.0845 - accuracy: 0.9862 - val_loss: 0.6721 - val_accuracy: 0.7750\n",
      "\n",
      "Epoch 00027: accuracy did not improve from 0.98750\n",
      "Epoch 28/100\n",
      "800/800 [==============================] - 0s 149us/step - loss: 0.0839 - accuracy: 0.9862 - val_loss: 0.6723 - val_accuracy: 0.7750\n",
      "\n",
      "Epoch 00028: accuracy did not improve from 0.98750\n",
      "Epoch 29/100\n",
      "800/800 [==============================] - 0s 203us/step - loss: 0.0824 - accuracy: 0.9887 - val_loss: 0.6729 - val_accuracy: 0.7800\n",
      "\n",
      "Epoch 00029: accuracy improved from 0.98750 to 0.98875, saving model to ./best_model_keras\n",
      "Epoch 30/100\n",
      "800/800 [==============================] - 0s 266us/step - loss: 0.0816 - accuracy: 0.9887 - val_loss: 0.6775 - val_accuracy: 0.7750\n",
      "\n",
      "Epoch 00030: accuracy did not improve from 0.98875\n",
      "Epoch 31/100\n",
      "800/800 [==============================] - 0s 198us/step - loss: 0.0806 - accuracy: 0.9887 - val_loss: 0.6795 - val_accuracy: 0.7750\n",
      "\n",
      "Epoch 00031: accuracy did not improve from 0.98875\n",
      "Epoch 32/100\n",
      "800/800 [==============================] - 0s 133us/step - loss: 0.0795 - accuracy: 0.9887 - val_loss: 0.6829 - val_accuracy: 0.7750\n",
      "\n",
      "Epoch 00032: accuracy did not improve from 0.98875\n",
      "Epoch 33/100\n",
      "800/800 [==============================] - 0s 132us/step - loss: 0.0785 - accuracy: 0.9875 - val_loss: 0.6862 - val_accuracy: 0.7750\n",
      "\n",
      "Epoch 00033: accuracy did not improve from 0.98875\n",
      "Epoch 34/100\n"
     ]
    },
    {
     "name": "stdout",
     "output_type": "stream",
     "text": [
      "800/800 [==============================] - 0s 118us/step - loss: 0.0775 - accuracy: 0.9875 - val_loss: 0.6866 - val_accuracy: 0.7750\n",
      "\n",
      "Epoch 00034: accuracy did not improve from 0.98875\n",
      "Epoch 35/100\n",
      "800/800 [==============================] - 0s 127us/step - loss: 0.0762 - accuracy: 0.9887 - val_loss: 0.6892 - val_accuracy: 0.7750\n",
      "\n",
      "Epoch 00035: accuracy did not improve from 0.98875\n",
      "Epoch 36/100\n",
      "800/800 [==============================] - 0s 138us/step - loss: 0.0756 - accuracy: 0.9862 - val_loss: 0.6912 - val_accuracy: 0.7750\n",
      "\n",
      "Epoch 00036: accuracy did not improve from 0.98875\n",
      "Epoch 37/100\n",
      "800/800 [==============================] - 0s 162us/step - loss: 0.0748 - accuracy: 0.9887 - val_loss: 0.6976 - val_accuracy: 0.7650\n",
      "\n",
      "Epoch 00037: accuracy did not improve from 0.98875\n",
      "Epoch 38/100\n",
      "800/800 [==============================] - 0s 134us/step - loss: 0.0736 - accuracy: 0.9887 - val_loss: 0.6983 - val_accuracy: 0.7750\n",
      "\n",
      "Epoch 00038: accuracy did not improve from 0.98875\n",
      "Epoch 39/100\n",
      "800/800 [==============================] - 0s 131us/step - loss: 0.0724 - accuracy: 0.9887 - val_loss: 0.7012 - val_accuracy: 0.7650\n",
      "\n",
      "Epoch 00039: accuracy did not improve from 0.98875\n",
      "Epoch 40/100\n",
      "800/800 [==============================] - 0s 134us/step - loss: 0.0713 - accuracy: 0.9875 - val_loss: 0.7042 - val_accuracy: 0.7700\n",
      "\n",
      "Epoch 00040: accuracy did not improve from 0.98875\n",
      "Epoch 41/100\n",
      "800/800 [==============================] - 0s 133us/step - loss: 0.0702 - accuracy: 0.9887 - val_loss: 0.7080 - val_accuracy: 0.7650\n",
      "\n",
      "Epoch 00041: accuracy did not improve from 0.98875\n",
      "Epoch 42/100\n",
      "800/800 [==============================] - 0s 126us/step - loss: 0.0694 - accuracy: 0.9875 - val_loss: 0.7085 - val_accuracy: 0.7750\n",
      "\n",
      "Epoch 00042: accuracy did not improve from 0.98875\n",
      "Epoch 43/100\n",
      "800/800 [==============================] - 0s 144us/step - loss: 0.0681 - accuracy: 0.9887 - val_loss: 0.7074 - val_accuracy: 0.7650\n",
      "\n",
      "Epoch 00043: accuracy did not improve from 0.98875\n",
      "Epoch 44/100\n",
      "800/800 [==============================] - 0s 142us/step - loss: 0.0678 - accuracy: 0.9900 - val_loss: 0.7110 - val_accuracy: 0.7750\n",
      "\n",
      "Epoch 00044: accuracy improved from 0.98875 to 0.99000, saving model to ./best_model_keras\n",
      "Epoch 45/100\n",
      "800/800 [==============================] - 0s 132us/step - loss: 0.0665 - accuracy: 0.9887 - val_loss: 0.7174 - val_accuracy: 0.7700\n",
      "\n",
      "Epoch 00045: accuracy did not improve from 0.99000\n",
      "Epoch 46/100\n",
      "800/800 [==============================] - 0s 151us/step - loss: 0.0655 - accuracy: 0.9900 - val_loss: 0.7168 - val_accuracy: 0.7750\n",
      "\n",
      "Epoch 00046: accuracy did not improve from 0.99000\n",
      "Epoch 47/100\n",
      "800/800 [==============================] - 0s 121us/step - loss: 0.0645 - accuracy: 0.9900 - val_loss: 0.7215 - val_accuracy: 0.7650\n",
      "\n",
      "Epoch 00047: accuracy did not improve from 0.99000\n",
      "Epoch 48/100\n",
      "800/800 [==============================] - 0s 130us/step - loss: 0.0636 - accuracy: 0.9912 - val_loss: 0.7215 - val_accuracy: 0.7750\n",
      "\n",
      "Epoch 00048: accuracy improved from 0.99000 to 0.99125, saving model to ./best_model_keras\n",
      "Epoch 49/100\n",
      "800/800 [==============================] - 0s 132us/step - loss: 0.0628 - accuracy: 0.9912 - val_loss: 0.7231 - val_accuracy: 0.7650\n",
      "\n",
      "Epoch 00049: accuracy did not improve from 0.99125\n",
      "Epoch 50/100\n",
      "800/800 [==============================] - 0s 151us/step - loss: 0.0620 - accuracy: 0.9925 - val_loss: 0.7281 - val_accuracy: 0.7650\n",
      "\n",
      "Epoch 00050: accuracy improved from 0.99125 to 0.99250, saving model to ./best_model_keras\n",
      "Epoch 51/100\n",
      "800/800 [==============================] - 0s 162us/step - loss: 0.0610 - accuracy: 0.9912 - val_loss: 0.7312 - val_accuracy: 0.7650\n",
      "\n",
      "Epoch 00051: accuracy did not improve from 0.99250\n",
      "Epoch 52/100\n",
      "800/800 [==============================] - 0s 160us/step - loss: 0.0602 - accuracy: 0.9925 - val_loss: 0.7320 - val_accuracy: 0.7750\n",
      "\n",
      "Epoch 00052: accuracy did not improve from 0.99250\n",
      "Epoch 53/100\n",
      "800/800 [==============================] - 0s 187us/step - loss: 0.0594 - accuracy: 0.9925 - val_loss: 0.7333 - val_accuracy: 0.7700\n",
      "\n",
      "Epoch 00053: accuracy did not improve from 0.99250\n",
      "Epoch 54/100\n",
      "800/800 [==============================] - 0s 174us/step - loss: 0.0583 - accuracy: 0.9912 - val_loss: 0.7406 - val_accuracy: 0.7550\n",
      "\n",
      "Epoch 00054: accuracy did not improve from 0.99250\n",
      "Epoch 55/100\n",
      "800/800 [==============================] - 0s 138us/step - loss: 0.0575 - accuracy: 0.9925 - val_loss: 0.7370 - val_accuracy: 0.7750\n",
      "\n",
      "Epoch 00055: accuracy did not improve from 0.99250\n",
      "Epoch 56/100\n",
      "800/800 [==============================] - 0s 146us/step - loss: 0.0568 - accuracy: 0.9925 - val_loss: 0.7477 - val_accuracy: 0.7550\n",
      "\n",
      "Epoch 00056: accuracy did not improve from 0.99250\n",
      "Epoch 57/100\n",
      "800/800 [==============================] - 0s 155us/step - loss: 0.0559 - accuracy: 0.9925 - val_loss: 0.7463 - val_accuracy: 0.7800\n",
      "\n",
      "Epoch 00057: accuracy did not improve from 0.99250\n",
      "Epoch 58/100\n",
      "800/800 [==============================] - 0s 147us/step - loss: 0.0550 - accuracy: 0.9925 - val_loss: 0.7510 - val_accuracy: 0.7600\n",
      "\n",
      "Epoch 00058: accuracy did not improve from 0.99250\n",
      "Epoch 59/100\n",
      "800/800 [==============================] - 0s 140us/step - loss: 0.0541 - accuracy: 0.9925 - val_loss: 0.7528 - val_accuracy: 0.7700\n",
      "\n",
      "Epoch 00059: accuracy did not improve from 0.99250\n",
      "Epoch 60/100\n",
      "800/800 [==============================] - 0s 139us/step - loss: 0.0540 - accuracy: 0.9925 - val_loss: 0.7523 - val_accuracy: 0.7800\n",
      "\n",
      "Epoch 00060: accuracy did not improve from 0.99250\n",
      "Epoch 61/100\n",
      "800/800 [==============================] - 0s 159us/step - loss: 0.0523 - accuracy: 0.9912 - val_loss: 0.7651 - val_accuracy: 0.7550\n",
      "\n",
      "Epoch 00061: accuracy did not improve from 0.99250\n",
      "Epoch 62/100\n",
      "800/800 [==============================] - 0s 177us/step - loss: 0.0519 - accuracy: 0.9925 - val_loss: 0.7624 - val_accuracy: 0.7600\n",
      "\n",
      "Epoch 00062: accuracy did not improve from 0.99250\n",
      "Epoch 63/100\n",
      "800/800 [==============================] - 0s 171us/step - loss: 0.0510 - accuracy: 0.9925 - val_loss: 0.7620 - val_accuracy: 0.7750\n",
      "\n",
      "Epoch 00063: accuracy did not improve from 0.99250\n",
      "Epoch 64/100\n",
      "800/800 [==============================] - 0s 165us/step - loss: 0.0501 - accuracy: 0.9925 - val_loss: 0.7660 - val_accuracy: 0.7750\n",
      "\n",
      "Epoch 00064: accuracy did not improve from 0.99250\n",
      "Epoch 65/100\n",
      "800/800 [==============================] - 0s 159us/step - loss: 0.0496 - accuracy: 0.9925 - val_loss: 0.7725 - val_accuracy: 0.7550\n",
      "\n",
      "Epoch 00065: accuracy did not improve from 0.99250\n",
      "Epoch 66/100\n",
      "800/800 [==============================] - 0s 150us/step - loss: 0.0489 - accuracy: 0.9925 - val_loss: 0.7728 - val_accuracy: 0.7600\n",
      "\n",
      "Epoch 00066: accuracy did not improve from 0.99250\n",
      "Epoch 67/100\n",
      "800/800 [==============================] - 0s 140us/step - loss: 0.0481 - accuracy: 0.9925 - val_loss: 0.7756 - val_accuracy: 0.7650\n",
      "\n",
      "Epoch 00067: accuracy did not improve from 0.99250\n",
      "Epoch 68/100\n",
      "800/800 [==============================] - 0s 141us/step - loss: 0.0472 - accuracy: 0.9925 - val_loss: 0.7814 - val_accuracy: 0.7700\n",
      "\n",
      "Epoch 00068: accuracy did not improve from 0.99250\n",
      "Epoch 69/100\n",
      "800/800 [==============================] - 0s 165us/step - loss: 0.0468 - accuracy: 0.9925 - val_loss: 0.7805 - val_accuracy: 0.7700\n",
      "\n",
      "Epoch 00069: accuracy did not improve from 0.99250\n",
      "Epoch 70/100\n",
      "800/800 [==============================] - 0s 166us/step - loss: 0.0459 - accuracy: 0.9925 - val_loss: 0.7889 - val_accuracy: 0.7650\n",
      "\n",
      "Epoch 00070: accuracy did not improve from 0.99250\n",
      "Epoch 71/100\n",
      "800/800 [==============================] - 0s 164us/step - loss: 0.0454 - accuracy: 0.9925 - val_loss: 0.7959 - val_accuracy: 0.7550\n",
      "\n",
      "Epoch 00071: accuracy did not improve from 0.99250\n",
      "Epoch 72/100\n",
      "800/800 [==============================] - 0s 167us/step - loss: 0.0448 - accuracy: 0.9925 - val_loss: 0.7925 - val_accuracy: 0.7650\n",
      "\n",
      "Epoch 00072: accuracy did not improve from 0.99250\n",
      "Epoch 73/100\n",
      "800/800 [==============================] - 0s 162us/step - loss: 0.0439 - accuracy: 0.9937 - val_loss: 0.7966 - val_accuracy: 0.7650\n",
      "\n",
      "Epoch 00073: accuracy improved from 0.99250 to 0.99375, saving model to ./best_model_keras\n",
      "Epoch 74/100\n",
      "800/800 [==============================] - 0s 139us/step - loss: 0.0434 - accuracy: 0.9937 - val_loss: 0.7996 - val_accuracy: 0.7700\n"
     ]
    },
    {
     "name": "stdout",
     "output_type": "stream",
     "text": [
      "\n",
      "Epoch 00074: accuracy did not improve from 0.99375\n",
      "Epoch 75/100\n",
      "800/800 [==============================] - 0s 138us/step - loss: 0.0424 - accuracy: 0.9937 - val_loss: 0.8016 - val_accuracy: 0.7650\n",
      "\n",
      "Epoch 00075: accuracy did not improve from 0.99375\n",
      "Epoch 76/100\n",
      "800/800 [==============================] - 0s 145us/step - loss: 0.0419 - accuracy: 0.9925 - val_loss: 0.8116 - val_accuracy: 0.7600\n",
      "\n",
      "Epoch 00076: accuracy did not improve from 0.99375\n",
      "Epoch 77/100\n",
      "800/800 [==============================] - 0s 165us/step - loss: 0.0412 - accuracy: 0.9937 - val_loss: 0.8065 - val_accuracy: 0.7700\n",
      "\n",
      "Epoch 00077: accuracy did not improve from 0.99375\n",
      "Epoch 78/100\n",
      "800/800 [==============================] - 0s 152us/step - loss: 0.0405 - accuracy: 0.9937 - val_loss: 0.8171 - val_accuracy: 0.7600\n",
      "\n",
      "Epoch 00078: accuracy did not improve from 0.99375\n",
      "Epoch 79/100\n",
      "800/800 [==============================] - 0s 142us/step - loss: 0.0400 - accuracy: 0.9937 - val_loss: 0.8181 - val_accuracy: 0.7650\n",
      "\n",
      "Epoch 00079: accuracy did not improve from 0.99375\n",
      "Epoch 80/100\n",
      "800/800 [==============================] - 0s 131us/step - loss: 0.0391 - accuracy: 0.9950 - val_loss: 0.8196 - val_accuracy: 0.7650\n",
      "\n",
      "Epoch 00080: accuracy improved from 0.99375 to 0.99500, saving model to ./best_model_keras\n",
      "Epoch 81/100\n",
      "800/800 [==============================] - 0s 128us/step - loss: 0.0386 - accuracy: 0.9937 - val_loss: 0.8255 - val_accuracy: 0.7650\n",
      "\n",
      "Epoch 00081: accuracy did not improve from 0.99500\n",
      "Epoch 82/100\n",
      "800/800 [==============================] - 0s 133us/step - loss: 0.0381 - accuracy: 0.9937 - val_loss: 0.8281 - val_accuracy: 0.7650\n",
      "\n",
      "Epoch 00082: accuracy did not improve from 0.99500\n",
      "Epoch 83/100\n",
      "800/800 [==============================] - 0s 134us/step - loss: 0.0374 - accuracy: 0.9937 - val_loss: 0.8312 - val_accuracy: 0.7650\n",
      "\n",
      "Epoch 00083: accuracy did not improve from 0.99500\n",
      "Epoch 84/100\n",
      "800/800 [==============================] - 0s 127us/step - loss: 0.0369 - accuracy: 0.9937 - val_loss: 0.8313 - val_accuracy: 0.7650\n",
      "\n",
      "Epoch 00084: accuracy did not improve from 0.99500\n",
      "Epoch 85/100\n",
      "800/800 [==============================] - 0s 139us/step - loss: 0.0362 - accuracy: 0.9950 - val_loss: 0.8429 - val_accuracy: 0.7650\n",
      "\n",
      "Epoch 00085: accuracy did not improve from 0.99500\n",
      "Epoch 86/100\n",
      "800/800 [==============================] - 0s 129us/step - loss: 0.0356 - accuracy: 0.9937 - val_loss: 0.8448 - val_accuracy: 0.7650\n",
      "\n",
      "Epoch 00086: accuracy did not improve from 0.99500\n",
      "Epoch 87/100\n",
      "800/800 [==============================] - 0s 133us/step - loss: 0.0350 - accuracy: 0.9950 - val_loss: 0.8421 - val_accuracy: 0.7650\n",
      "\n",
      "Epoch 00087: accuracy did not improve from 0.99500\n",
      "Epoch 88/100\n",
      "800/800 [==============================] - 0s 137us/step - loss: 0.0344 - accuracy: 0.9962 - val_loss: 0.8533 - val_accuracy: 0.7650\n",
      "\n",
      "Epoch 00088: accuracy improved from 0.99500 to 0.99625, saving model to ./best_model_keras\n",
      "Epoch 89/100\n",
      "800/800 [==============================] - 0s 141us/step - loss: 0.0340 - accuracy: 0.9950 - val_loss: 0.8543 - val_accuracy: 0.7650\n",
      "\n",
      "Epoch 00089: accuracy did not improve from 0.99625\n",
      "Epoch 90/100\n",
      "800/800 [==============================] - 0s 146us/step - loss: 0.0338 - accuracy: 0.9950 - val_loss: 0.8521 - val_accuracy: 0.7650\n",
      "\n",
      "Epoch 00090: accuracy did not improve from 0.99625\n",
      "Epoch 91/100\n",
      "800/800 [==============================] - 0s 145us/step - loss: 0.0326 - accuracy: 0.9950 - val_loss: 0.8674 - val_accuracy: 0.7600\n",
      "\n",
      "Epoch 00091: accuracy did not improve from 0.99625\n",
      "Epoch 92/100\n",
      "800/800 [==============================] - 0s 139us/step - loss: 0.0322 - accuracy: 0.9950 - val_loss: 0.8659 - val_accuracy: 0.7700\n",
      "\n",
      "Epoch 00092: accuracy did not improve from 0.99625\n",
      "Epoch 93/100\n",
      "800/800 [==============================] - 0s 139us/step - loss: 0.0317 - accuracy: 0.9950 - val_loss: 0.8668 - val_accuracy: 0.7650\n",
      "\n",
      "Epoch 00093: accuracy did not improve from 0.99625\n",
      "Epoch 94/100\n",
      "800/800 [==============================] - 0s 154us/step - loss: 0.0312 - accuracy: 0.9962 - val_loss: 0.8770 - val_accuracy: 0.7700\n",
      "\n",
      "Epoch 00094: accuracy did not improve from 0.99625\n",
      "Epoch 95/100\n",
      "800/800 [==============================] - 0s 153us/step - loss: 0.0308 - accuracy: 0.9962 - val_loss: 0.8842 - val_accuracy: 0.7600\n",
      "\n",
      "Epoch 00095: accuracy did not improve from 0.99625\n",
      "Epoch 96/100\n",
      "800/800 [==============================] - 0s 175us/step - loss: 0.0300 - accuracy: 0.9962 - val_loss: 0.8780 - val_accuracy: 0.7600\n",
      "\n",
      "Epoch 00096: accuracy did not improve from 0.99625\n",
      "Epoch 97/100\n",
      "800/800 [==============================] - 0s 155us/step - loss: 0.0298 - accuracy: 0.9937 - val_loss: 0.8854 - val_accuracy: 0.7700\n",
      "\n",
      "Epoch 00097: accuracy did not improve from 0.99625\n",
      "Epoch 98/100\n",
      "800/800 [==============================] - 0s 138us/step - loss: 0.0291 - accuracy: 0.9962 - val_loss: 0.8866 - val_accuracy: 0.7650\n",
      "\n",
      "Epoch 00098: accuracy did not improve from 0.99625\n",
      "Epoch 99/100\n",
      "800/800 [==============================] - 0s 136us/step - loss: 0.0286 - accuracy: 0.9962 - val_loss: 0.8971 - val_accuracy: 0.7650\n",
      "\n",
      "Epoch 00099: accuracy did not improve from 0.99625\n",
      "Epoch 100/100\n",
      "800/800 [==============================] - 0s 137us/step - loss: 0.0282 - accuracy: 0.9975 - val_loss: 0.8877 - val_accuracy: 0.7650\n",
      "\n",
      "Epoch 00100: accuracy improved from 0.99625 to 0.99750, saving model to ./best_model_keras\n",
      "1000/1000 [==============================] - 0s 18us/step\n",
      "Accuracy: 95.10\n"
     ]
    }
   ],
   "source": [
    "import pandas as pd\n",
    "from sklearn.model_selection import train_test_split\n",
    "import numpy as np\n",
    "import random\n",
    "from certifai.common.utils.encoding import CatEncoder\n",
    "from keras.callbacks import ReduceLROnPlateau,EarlyStopping,ModelCheckpoint\n",
    "from keras.models import Sequential\n",
    "from keras import regularizers\n",
    "from keras import optimizers\n",
    "from keras.layers import Dense, Dropout\n",
    "import os\n",
    "import random\n",
    "import tensorflow as tf\n",
    "seed = 42\n",
    "\n",
    "os.environ['PYTHONHASHSEED']=str(seed)\n",
    "np.random.seed(seed)\n",
    "random.seed(seed)\n",
    "\n",
    "try:\n",
    "    tf.random.set_seed(seed)\n",
    "except AttributeError:\n",
    "    tf.set_random_seed(seed)\n",
    "\n",
    "base_path = '../..'\n",
    "all_data_file = f\"{base_path}/datasets/german_credit_eval.csv\"\n",
    "\n",
    "df = pd.read_csv(all_data_file)\n",
    "\n",
    "cat_columns = [\n",
    "    'checkingstatus',\n",
    "    'history',\n",
    "    'purpose',\n",
    "    'savings',\n",
    "    'employ',\n",
    "    'status',\n",
    "    'others',\n",
    "    'property',\n",
    "    'age',\n",
    "    'otherplans',\n",
    "    'housing',\n",
    "    'job',\n",
    "    'telephone',\n",
    "    'foreign'\n",
    "    ]\n",
    "\n",
    "label_column = 'outcome'\n",
    "\n",
    "# Separate outcome\n",
    "y = df[label_column]\n",
    "X = df.drop(label_column, axis=1)\n",
    "\n",
    "encoder = CatEncoder(cat_columns, X)\n",
    "\n",
    "# NN separate for probability scoring label \n",
    "y_model = np.asarray([(1,0) if x==1 else (0,1) for x in y ])\n",
    "\n",
    "best_model_path = os.path.join('.', 'best_model_keras')\n",
    "es = EarlyStopping(monitor='accuracy', mode='min', verbose=1,\n",
    "                   patience=100, min_delta=0.0001)\n",
    "\n",
    "rlp = ReduceLROnPlateau(monitor='accuracy', factor=0.02, patience=20, verbose=1, mode='min',\n",
    "                        min_delta=0.001, cooldown=1, min_lr=0.0001)\n",
    "mcp = ModelCheckpoint(best_model_path, monitor='accuracy', verbose=1,\n",
    "                      save_best_only=True, save_weights_only=False, mode='max')\n",
    "\n",
    "model = Sequential()\n",
    "model.add(Dense(60, input_dim=encoder(X.values).shape[1], activation='relu'))\n",
    "model.add(Dense(8, activation='relu'))\n",
    "model.add(Dense(2, activation='softmax'))\n",
    "model.compile(loss='binary_crossentropy', optimizer='adam', metrics=['accuracy'])\n",
    "model.fit(encoder(X.values), y_model, epochs=100, batch_size=10, callbacks=[mcp,rlp,es],validation_split=0.2)\n",
    "_, accuracy = model.evaluate(encoder(X.values), y_model)\n",
    "print('Accuracy: %.2f' % (accuracy*100))"
   ]
  },
  {
   "cell_type": "code",
   "execution_count": 3,
   "metadata": {},
   "outputs": [
    {
     "data": {
      "text/plain": [
       "1    700\n",
       "2    300\n",
       "Name: outcome, dtype: int64"
      ]
     },
     "execution_count": 3,
     "metadata": {},
     "output_type": "execute_result"
    }
   ],
   "source": [
    "# initial value counts of outcome label\n",
    "df['outcome'].value_counts()"
   ]
  },
  {
   "cell_type": "code",
   "execution_count": 4,
   "metadata": {},
   "outputs": [
    {
     "data": {
      "text/plain": [
       "0.951"
      ]
     },
     "execution_count": 4,
     "metadata": {},
     "output_type": "execute_result"
    }
   ],
   "source": [
    "y_preds = model.predict(encoder(X.values))\n",
    "y_classes = np.argmax(y_preds,axis=1)\n",
    "y_actual = np.where(y==1, 0,1)\n",
    "np.mean(y_actual == y_classes)"
   ]
  },
  {
   "cell_type": "markdown",
   "metadata": {},
   "source": [
    "### creating new label"
   ]
  },
  {
   "cell_type": "code",
   "execution_count": 5,
   "metadata": {},
   "outputs": [
    {
     "data": {
      "text/plain": [
       "(539,)"
      ]
     },
     "execution_count": 5,
     "metadata": {},
     "output_type": "execute_result"
    }
   ],
   "source": [
    "# loan_granted 1\n",
    "new_label_1 = y_preds[y_preds[:,0] > 0.98][:,0]\n",
    "new_label_1.shape"
   ]
  },
  {
   "cell_type": "code",
   "execution_count": 6,
   "metadata": {},
   "outputs": [
    {
     "data": {
      "text/plain": [
       "(285,)"
      ]
     },
     "execution_count": 6,
     "metadata": {},
     "output_type": "execute_result"
    }
   ],
   "source": [
    "#loan_denied 2\n",
    "new_label_2 = y_preds[y_preds[:,0] < 0.3][:,0]\n",
    "new_label_2.shape"
   ]
  },
  {
   "cell_type": "code",
   "execution_count": 7,
   "metadata": {},
   "outputs": [
    {
     "data": {
      "text/plain": [
       "(176,)"
      ]
     },
     "execution_count": 7,
     "metadata": {},
     "output_type": "execute_result"
    }
   ],
   "source": [
    "# further_inspection 3\n",
    "new_label_3 = y_preds[(y_preds[:,0] > 0.3) & (y_preds[:,0] < 0.98)][:,0]\n",
    "new_label_3.shape"
   ]
  },
  {
   "cell_type": "markdown",
   "metadata": {},
   "source": [
    "### arrange the new labels to be appended to dataset"
   ]
  },
  {
   "cell_type": "code",
   "execution_count": 8,
   "metadata": {},
   "outputs": [],
   "source": [
    "new_label = []\n",
    "for z in y_preds:\n",
    "    prob_class_1 = z[0]\n",
    "    if prob_class_1 > 0.98:\n",
    "        new_label.append(1)\n",
    "    elif prob_class_1 < 0.3:\n",
    "        new_label.append(2)\n",
    "    else:\n",
    "        new_label.append(3)"
   ]
  },
  {
   "cell_type": "code",
   "execution_count": 9,
   "metadata": {},
   "outputs": [
    {
     "data": {
      "text/plain": [
       "0.795"
      ]
     },
     "execution_count": 9,
     "metadata": {},
     "output_type": "execute_result"
    }
   ],
   "source": [
    "# test for sanity of new labels\n",
    "np.mean(y==new_label)"
   ]
  },
  {
   "cell_type": "markdown",
   "metadata": {},
   "source": [
    "### create dataset with new labels"
   ]
  },
  {
   "cell_type": "code",
   "execution_count": 10,
   "metadata": {},
   "outputs": [],
   "source": [
    "df_new = df.copy()\n",
    "df_new[label_column] = new_label"
   ]
  },
  {
   "cell_type": "markdown",
   "metadata": {},
   "source": [
    "### check new outcome label counts"
   ]
  },
  {
   "cell_type": "code",
   "execution_count": 11,
   "metadata": {},
   "outputs": [
    {
     "data": {
      "text/plain": [
       "1    539\n",
       "2    285\n",
       "3    176\n",
       "Name: outcome, dtype: int64"
      ]
     },
     "execution_count": 11,
     "metadata": {},
     "output_type": "execute_result"
    }
   ],
   "source": [
    "df_new['outcome'].value_counts()"
   ]
  },
  {
   "cell_type": "markdown",
   "metadata": {},
   "source": [
    "### dump the new dataset as csv"
   ]
  },
  {
   "cell_type": "code",
   "execution_count": 12,
   "metadata": {},
   "outputs": [],
   "source": [
    "save_as = f\"{base_path}/datasets/german_credit_eval_multiclass.csv\"\n",
    "df_new.to_csv(save_as,index=False)"
   ]
  },
  {
   "cell_type": "markdown",
   "metadata": {},
   "source": [
    "### check file is saved correctly"
   ]
  },
  {
   "cell_type": "code",
   "execution_count": 13,
   "metadata": {},
   "outputs": [
    {
     "name": "stdout",
     "output_type": "stream",
     "text": [
      "german_credit_eval_multiclass.csv\r\n"
     ]
    }
   ],
   "source": [
    "!ls $base_path/datasets | grep multiclass.csv"
   ]
  },
  {
   "cell_type": "code",
   "execution_count": null,
   "metadata": {},
   "outputs": [],
   "source": []
  }
 ],
 "metadata": {
  "kernelspec": {
   "display_name": "Python 3",
   "language": "python",
   "name": "python3"
  },
  "language_info": {
   "codemirror_mode": {
    "name": "ipython",
    "version": 3
   },
   "file_extension": ".py",
   "mimetype": "text/x-python",
   "name": "python",
   "nbconvert_exporter": "python",
   "pygments_lexer": "ipython3",
   "version": "3.7.7"
  }
 },
 "nbformat": 4,
 "nbformat_minor": 4
}
