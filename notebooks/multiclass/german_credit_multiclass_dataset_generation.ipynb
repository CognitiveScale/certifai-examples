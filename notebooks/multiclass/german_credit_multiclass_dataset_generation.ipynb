{
 "cells": [
  {
   "cell_type": "code",
   "execution_count": 35,
   "metadata": {
    "scrolled": true
   },
   "outputs": [
    {
     "name": "stdout",
     "output_type": "stream",
     "text": [
      "Train on 800 samples, validate on 200 samples\n",
      "Epoch 1/100\n",
      "800/800 [==============================] - 1s 633us/step - loss: 0.5866 - accuracy: 0.7038 - val_loss: 0.5489 - val_accuracy: 0.7325\n",
      "\n",
      "Epoch 00001: accuracy improved from -inf to 0.70375, saving model to ./best_model_keras\n",
      "Epoch 2/100\n",
      "800/800 [==============================] - 0s 190us/step - loss: 0.5167 - accuracy: 0.7337 - val_loss: 0.4970 - val_accuracy: 0.7675\n",
      "\n",
      "Epoch 00002: accuracy improved from 0.70375 to 0.73375, saving model to ./best_model_keras\n",
      "Epoch 3/100\n",
      "800/800 [==============================] - 0s 182us/step - loss: 0.4751 - accuracy: 0.7681 - val_loss: 0.4760 - val_accuracy: 0.7850\n",
      "\n",
      "Epoch 00003: accuracy improved from 0.73375 to 0.76812, saving model to ./best_model_keras\n",
      "Epoch 4/100\n",
      "800/800 [==============================] - 0s 172us/step - loss: 0.4514 - accuracy: 0.7944 - val_loss: 0.4787 - val_accuracy: 0.7675\n",
      "\n",
      "Epoch 00004: accuracy improved from 0.76812 to 0.79438, saving model to ./best_model_keras\n",
      "Epoch 5/100\n",
      "800/800 [==============================] - 0s 137us/step - loss: 0.4321 - accuracy: 0.7975 - val_loss: 0.4690 - val_accuracy: 0.7750\n",
      "\n",
      "Epoch 00005: accuracy improved from 0.79438 to 0.79750, saving model to ./best_model_keras\n",
      "Epoch 6/100\n",
      "800/800 [==============================] - 0s 129us/step - loss: 0.4165 - accuracy: 0.8050 - val_loss: 0.4679 - val_accuracy: 0.8050\n",
      "\n",
      "Epoch 00006: accuracy improved from 0.79750 to 0.80500, saving model to ./best_model_keras\n",
      "Epoch 7/100\n",
      "800/800 [==============================] - 0s 139us/step - loss: 0.3973 - accuracy: 0.8169 - val_loss: 0.4716 - val_accuracy: 0.8050\n",
      "\n",
      "Epoch 00007: accuracy improved from 0.80500 to 0.81687, saving model to ./best_model_keras\n",
      "Epoch 8/100\n",
      "800/800 [==============================] - 0s 170us/step - loss: 0.3841 - accuracy: 0.8238 - val_loss: 0.4797 - val_accuracy: 0.7750\n",
      "\n",
      "Epoch 00008: accuracy improved from 0.81687 to 0.82375, saving model to ./best_model_keras\n",
      "Epoch 9/100\n",
      "800/800 [==============================] - 0s 128us/step - loss: 0.3644 - accuracy: 0.8294 - val_loss: 0.4832 - val_accuracy: 0.7675\n",
      "\n",
      "Epoch 00009: accuracy improved from 0.82375 to 0.82938, saving model to ./best_model_keras\n",
      "Epoch 10/100\n",
      "800/800 [==============================] - 0s 130us/step - loss: 0.3482 - accuracy: 0.8431 - val_loss: 0.4889 - val_accuracy: 0.7600\n",
      "\n",
      "Epoch 00010: accuracy improved from 0.82938 to 0.84312, saving model to ./best_model_keras\n",
      "Epoch 11/100\n",
      "800/800 [==============================] - 0s 127us/step - loss: 0.3332 - accuracy: 0.8500 - val_loss: 0.4958 - val_accuracy: 0.7625\n",
      "\n",
      "Epoch 00011: accuracy improved from 0.84312 to 0.85000, saving model to ./best_model_keras\n",
      "Epoch 12/100\n",
      "800/800 [==============================] - 0s 119us/step - loss: 0.3161 - accuracy: 0.8700 - val_loss: 0.5088 - val_accuracy: 0.7300\n",
      "\n",
      "Epoch 00012: accuracy improved from 0.85000 to 0.87000, saving model to ./best_model_keras\n",
      "Epoch 13/100\n",
      "800/800 [==============================] - 0s 122us/step - loss: 0.2958 - accuracy: 0.8825 - val_loss: 0.5159 - val_accuracy: 0.7625\n",
      "\n",
      "Epoch 00013: accuracy improved from 0.87000 to 0.88250, saving model to ./best_model_keras\n",
      "Epoch 14/100\n",
      "800/800 [==============================] - 0s 115us/step - loss: 0.2764 - accuracy: 0.8963 - val_loss: 0.5242 - val_accuracy: 0.7700\n",
      "\n",
      "Epoch 00014: accuracy improved from 0.88250 to 0.89625, saving model to ./best_model_keras\n",
      "Epoch 15/100\n",
      "800/800 [==============================] - 0s 113us/step - loss: 0.2593 - accuracy: 0.9000 - val_loss: 0.5331 - val_accuracy: 0.7575\n",
      "\n",
      "Epoch 00015: accuracy improved from 0.89625 to 0.90000, saving model to ./best_model_keras\n",
      "Epoch 16/100\n",
      "800/800 [==============================] - 0s 127us/step - loss: 0.2429 - accuracy: 0.9056 - val_loss: 0.5474 - val_accuracy: 0.7450\n",
      "\n",
      "Epoch 00016: accuracy improved from 0.90000 to 0.90562, saving model to ./best_model_keras\n",
      "Epoch 17/100\n",
      "800/800 [==============================] - 0s 120us/step - loss: 0.2254 - accuracy: 0.9194 - val_loss: 0.5486 - val_accuracy: 0.7450\n",
      "\n",
      "Epoch 00017: accuracy improved from 0.90562 to 0.91938, saving model to ./best_model_keras\n",
      "Epoch 18/100\n",
      "800/800 [==============================] - 0s 122us/step - loss: 0.2074 - accuracy: 0.9337 - val_loss: 0.5642 - val_accuracy: 0.7825\n",
      "\n",
      "Epoch 00018: accuracy improved from 0.91938 to 0.93375, saving model to ./best_model_keras\n",
      "Epoch 19/100\n",
      "800/800 [==============================] - 0s 116us/step - loss: 0.1916 - accuracy: 0.9419 - val_loss: 0.5705 - val_accuracy: 0.7775\n",
      "\n",
      "Epoch 00019: accuracy improved from 0.93375 to 0.94187, saving model to ./best_model_keras\n",
      "Epoch 20/100\n",
      "800/800 [==============================] - 0s 116us/step - loss: 0.1791 - accuracy: 0.9419 - val_loss: 0.6230 - val_accuracy: 0.7000\n",
      "\n",
      "Epoch 00020: accuracy did not improve from 0.94187\n",
      "Epoch 21/100\n",
      "800/800 [==============================] - 0s 131us/step - loss: 0.1672 - accuracy: 0.9456 - val_loss: 0.6045 - val_accuracy: 0.7800\n",
      "\n",
      "Epoch 00021: accuracy improved from 0.94187 to 0.94563, saving model to ./best_model_keras\n",
      "\n",
      "Epoch 00021: ReduceLROnPlateau reducing learning rate to 0.0001.\n",
      "Epoch 22/100\n",
      "800/800 [==============================] - 0s 106us/step - loss: 0.1405 - accuracy: 0.9638 - val_loss: 0.6080 - val_accuracy: 0.7625\n",
      "\n",
      "Epoch 00022: accuracy improved from 0.94563 to 0.96375, saving model to ./best_model_keras\n",
      "Epoch 23/100\n",
      "800/800 [==============================] - 0s 135us/step - loss: 0.1386 - accuracy: 0.9700 - val_loss: 0.6089 - val_accuracy: 0.7625\n",
      "\n",
      "Epoch 00023: accuracy improved from 0.96375 to 0.97000, saving model to ./best_model_keras\n",
      "Epoch 24/100\n",
      "800/800 [==============================] - 0s 150us/step - loss: 0.1362 - accuracy: 0.9694 - val_loss: 0.6104 - val_accuracy: 0.7700\n",
      "\n",
      "Epoch 00024: accuracy did not improve from 0.97000\n",
      "Epoch 25/100\n",
      "800/800 [==============================] - 0s 123us/step - loss: 0.1344 - accuracy: 0.9694 - val_loss: 0.6131 - val_accuracy: 0.7675\n",
      "\n",
      "Epoch 00025: accuracy did not improve from 0.97000\n",
      "Epoch 26/100\n",
      "800/800 [==============================] - 0s 121us/step - loss: 0.1329 - accuracy: 0.9706 - val_loss: 0.6139 - val_accuracy: 0.7750\n",
      "\n",
      "Epoch 00026: accuracy improved from 0.97000 to 0.97062, saving model to ./best_model_keras\n",
      "Epoch 27/100\n",
      "800/800 [==============================] - 0s 114us/step - loss: 0.1314 - accuracy: 0.9712 - val_loss: 0.6174 - val_accuracy: 0.7700\n",
      "\n",
      "Epoch 00027: accuracy improved from 0.97062 to 0.97125, saving model to ./best_model_keras\n",
      "Epoch 28/100\n",
      "800/800 [==============================] - 0s 112us/step - loss: 0.1305 - accuracy: 0.9706 - val_loss: 0.6188 - val_accuracy: 0.7700\n",
      "\n",
      "Epoch 00028: accuracy did not improve from 0.97125\n",
      "Epoch 29/100\n",
      "800/800 [==============================] - 0s 108us/step - loss: 0.1289 - accuracy: 0.9719 - val_loss: 0.6186 - val_accuracy: 0.7800\n",
      "\n",
      "Epoch 00029: accuracy improved from 0.97125 to 0.97188, saving model to ./best_model_keras\n",
      "Epoch 30/100\n",
      "800/800 [==============================] - 0s 112us/step - loss: 0.1277 - accuracy: 0.9719 - val_loss: 0.6221 - val_accuracy: 0.7725\n",
      "\n",
      "Epoch 00030: accuracy did not improve from 0.97188\n",
      "Epoch 31/100\n",
      "800/800 [==============================] - 0s 107us/step - loss: 0.1264 - accuracy: 0.9737 - val_loss: 0.6246 - val_accuracy: 0.7725\n",
      "\n",
      "Epoch 00031: accuracy improved from 0.97188 to 0.97375, saving model to ./best_model_keras\n",
      "Epoch 32/100\n",
      "800/800 [==============================] - 0s 133us/step - loss: 0.1250 - accuracy: 0.9712 - val_loss: 0.6256 - val_accuracy: 0.7750\n",
      "\n",
      "Epoch 00032: accuracy did not improve from 0.97375\n",
      "Epoch 33/100\n",
      "800/800 [==============================] - 0s 126us/step - loss: 0.1241 - accuracy: 0.9719 - val_loss: 0.6278 - val_accuracy: 0.7750\n",
      "\n",
      "Epoch 00033: accuracy did not improve from 0.97375\n",
      "Epoch 34/100\n",
      "800/800 [==============================] - 0s 125us/step - loss: 0.1226 - accuracy: 0.9750 - val_loss: 0.6297 - val_accuracy: 0.7750\n",
      "\n",
      "Epoch 00034: accuracy improved from 0.97375 to 0.97500, saving model to ./best_model_keras\n",
      "Epoch 35/100\n",
      "800/800 [==============================] - 0s 110us/step - loss: 0.1211 - accuracy: 0.9744 - val_loss: 0.6314 - val_accuracy: 0.7775\n",
      "\n",
      "Epoch 00035: accuracy did not improve from 0.97500\n",
      "Epoch 36/100\n"
     ]
    },
    {
     "name": "stdout",
     "output_type": "stream",
     "text": [
      "800/800 [==============================] - 0s 119us/step - loss: 0.1204 - accuracy: 0.9725 - val_loss: 0.6338 - val_accuracy: 0.7750\n",
      "\n",
      "Epoch 00036: accuracy did not improve from 0.97500\n",
      "Epoch 37/100\n",
      "800/800 [==============================] - 0s 117us/step - loss: 0.1193 - accuracy: 0.9725 - val_loss: 0.6387 - val_accuracy: 0.7675\n",
      "\n",
      "Epoch 00037: accuracy did not improve from 0.97500\n",
      "Epoch 38/100\n",
      "800/800 [==============================] - 0s 110us/step - loss: 0.1178 - accuracy: 0.9725 - val_loss: 0.6386 - val_accuracy: 0.7750\n",
      "\n",
      "Epoch 00038: accuracy did not improve from 0.97500\n",
      "Epoch 39/100\n",
      "800/800 [==============================] - 0s 115us/step - loss: 0.1167 - accuracy: 0.9744 - val_loss: 0.6408 - val_accuracy: 0.7700\n",
      "\n",
      "Epoch 00039: accuracy did not improve from 0.97500\n",
      "Epoch 40/100\n",
      "800/800 [==============================] - 0s 111us/step - loss: 0.1155 - accuracy: 0.9750 - val_loss: 0.6425 - val_accuracy: 0.7750\n",
      "\n",
      "Epoch 00040: accuracy did not improve from 0.97500\n",
      "Epoch 41/100\n",
      "800/800 [==============================] - 0s 117us/step - loss: 0.1144 - accuracy: 0.9737 - val_loss: 0.6439 - val_accuracy: 0.7675\n",
      "\n",
      "Epoch 00041: accuracy did not improve from 0.97500\n",
      "Epoch 42/100\n",
      "800/800 [==============================] - 0s 122us/step - loss: 0.1130 - accuracy: 0.9762 - val_loss: 0.6454 - val_accuracy: 0.7775\n",
      "\n",
      "Epoch 00042: accuracy improved from 0.97500 to 0.97625, saving model to ./best_model_keras\n",
      "Epoch 43/100\n",
      "800/800 [==============================] - 0s 120us/step - loss: 0.1115 - accuracy: 0.9794 - val_loss: 0.6444 - val_accuracy: 0.7850\n",
      "\n",
      "Epoch 00043: accuracy improved from 0.97625 to 0.97938, saving model to ./best_model_keras\n",
      "Epoch 44/100\n",
      "800/800 [==============================] - 0s 113us/step - loss: 0.1111 - accuracy: 0.9762 - val_loss: 0.6464 - val_accuracy: 0.7775\n",
      "\n",
      "Epoch 00044: accuracy did not improve from 0.97938\n",
      "Epoch 45/100\n",
      "800/800 [==============================] - 0s 107us/step - loss: 0.1095 - accuracy: 0.9762 - val_loss: 0.6511 - val_accuracy: 0.7750\n",
      "\n",
      "Epoch 00045: accuracy did not improve from 0.97938\n",
      "Epoch 46/100\n",
      "800/800 [==============================] - 0s 105us/step - loss: 0.1084 - accuracy: 0.9781 - val_loss: 0.6518 - val_accuracy: 0.7775\n",
      "\n",
      "Epoch 00046: accuracy did not improve from 0.97938\n",
      "Epoch 47/100\n",
      "800/800 [==============================] - 0s 106us/step - loss: 0.1072 - accuracy: 0.9756 - val_loss: 0.6543 - val_accuracy: 0.7825\n",
      "\n",
      "Epoch 00047: accuracy did not improve from 0.97938\n",
      "Epoch 48/100\n",
      "800/800 [==============================] - 0s 108us/step - loss: 0.1061 - accuracy: 0.9806 - val_loss: 0.6560 - val_accuracy: 0.7825\n",
      "\n",
      "Epoch 00048: accuracy improved from 0.97938 to 0.98062, saving model to ./best_model_keras\n",
      "Epoch 49/100\n",
      "800/800 [==============================] - 0s 114us/step - loss: 0.1049 - accuracy: 0.9787 - val_loss: 0.6564 - val_accuracy: 0.7800\n",
      "\n",
      "Epoch 00049: accuracy did not improve from 0.98062\n",
      "Epoch 50/100\n",
      "800/800 [==============================] - 0s 106us/step - loss: 0.1037 - accuracy: 0.9806 - val_loss: 0.6597 - val_accuracy: 0.7825\n",
      "\n",
      "Epoch 00050: accuracy did not improve from 0.98062\n",
      "Epoch 51/100\n",
      "800/800 [==============================] - 0s 112us/step - loss: 0.1027 - accuracy: 0.9812 - val_loss: 0.6646 - val_accuracy: 0.7750\n",
      "\n",
      "Epoch 00051: accuracy improved from 0.98062 to 0.98125, saving model to ./best_model_keras\n",
      "Epoch 52/100\n",
      "800/800 [==============================] - 0s 124us/step - loss: 0.1018 - accuracy: 0.9800 - val_loss: 0.6639 - val_accuracy: 0.7825\n",
      "\n",
      "Epoch 00052: accuracy did not improve from 0.98125\n",
      "Epoch 53/100\n",
      "800/800 [==============================] - 0s 133us/step - loss: 0.1007 - accuracy: 0.9800 - val_loss: 0.6650 - val_accuracy: 0.7825\n",
      "\n",
      "Epoch 00053: accuracy did not improve from 0.98125\n",
      "Epoch 54/100\n",
      "800/800 [==============================] - 0s 111us/step - loss: 0.0993 - accuracy: 0.9800 - val_loss: 0.6689 - val_accuracy: 0.7800\n",
      "\n",
      "Epoch 00054: accuracy did not improve from 0.98125\n",
      "Epoch 55/100\n",
      "800/800 [==============================] - 0s 107us/step - loss: 0.0985 - accuracy: 0.9825 - val_loss: 0.6696 - val_accuracy: 0.7825\n",
      "\n",
      "Epoch 00055: accuracy improved from 0.98125 to 0.98250, saving model to ./best_model_keras\n",
      "Epoch 56/100\n",
      "800/800 [==============================] - 0s 118us/step - loss: 0.0973 - accuracy: 0.9806 - val_loss: 0.6744 - val_accuracy: 0.7825\n",
      "\n",
      "Epoch 00056: accuracy did not improve from 0.98250\n",
      "Epoch 57/100\n",
      "800/800 [==============================] - 0s 105us/step - loss: 0.0960 - accuracy: 0.9819 - val_loss: 0.6737 - val_accuracy: 0.7825\n",
      "\n",
      "Epoch 00057: accuracy did not improve from 0.98250\n",
      "Epoch 58/100\n",
      "800/800 [==============================] - 0s 111us/step - loss: 0.0950 - accuracy: 0.9819 - val_loss: 0.6752 - val_accuracy: 0.7825\n",
      "\n",
      "Epoch 00058: accuracy did not improve from 0.98250\n",
      "Epoch 59/100\n",
      "800/800 [==============================] - 0s 120us/step - loss: 0.0941 - accuracy: 0.9831 - val_loss: 0.6790 - val_accuracy: 0.7825\n",
      "\n",
      "Epoch 00059: accuracy improved from 0.98250 to 0.98312, saving model to ./best_model_keras\n",
      "Epoch 60/100\n",
      "800/800 [==============================] - 0s 120us/step - loss: 0.0939 - accuracy: 0.9819 - val_loss: 0.6775 - val_accuracy: 0.7850\n",
      "\n",
      "Epoch 00060: accuracy did not improve from 0.98312\n",
      "Epoch 61/100\n",
      "800/800 [==============================] - 0s 111us/step - loss: 0.0916 - accuracy: 0.9844 - val_loss: 0.6866 - val_accuracy: 0.7700\n",
      "\n",
      "Epoch 00061: accuracy improved from 0.98312 to 0.98438, saving model to ./best_model_keras\n",
      "Epoch 62/100\n",
      "800/800 [==============================] - 0s 115us/step - loss: 0.0913 - accuracy: 0.9831 - val_loss: 0.6857 - val_accuracy: 0.7775\n",
      "\n",
      "Epoch 00062: accuracy did not improve from 0.98438\n",
      "Epoch 63/100\n",
      "800/800 [==============================] - 0s 114us/step - loss: 0.0901 - accuracy: 0.9831 - val_loss: 0.6862 - val_accuracy: 0.7850\n",
      "\n",
      "Epoch 00063: accuracy did not improve from 0.98438\n",
      "Epoch 64/100\n",
      "800/800 [==============================] - 0s 127us/step - loss: 0.0888 - accuracy: 0.9844 - val_loss: 0.6884 - val_accuracy: 0.7850\n",
      "\n",
      "Epoch 00064: accuracy did not improve from 0.98438\n",
      "Epoch 65/100\n",
      "800/800 [==============================] - 0s 113us/step - loss: 0.0882 - accuracy: 0.9844 - val_loss: 0.6933 - val_accuracy: 0.7775\n",
      "\n",
      "Epoch 00065: accuracy did not improve from 0.98438\n",
      "Epoch 66/100\n",
      "800/800 [==============================] - 0s 118us/step - loss: 0.0873 - accuracy: 0.9831 - val_loss: 0.6942 - val_accuracy: 0.7800\n",
      "\n",
      "Epoch 00066: accuracy did not improve from 0.98438\n",
      "Epoch 67/100\n",
      "800/800 [==============================] - 0s 113us/step - loss: 0.0861 - accuracy: 0.9850 - val_loss: 0.6932 - val_accuracy: 0.7850\n",
      "\n",
      "Epoch 00067: accuracy improved from 0.98438 to 0.98500, saving model to ./best_model_keras\n",
      "Epoch 68/100\n",
      "800/800 [==============================] - 0s 117us/step - loss: 0.0849 - accuracy: 0.9862 - val_loss: 0.6991 - val_accuracy: 0.7775\n",
      "\n",
      "Epoch 00068: accuracy improved from 0.98500 to 0.98625, saving model to ./best_model_keras\n",
      "Epoch 69/100\n",
      "800/800 [==============================] - 0s 124us/step - loss: 0.0844 - accuracy: 0.9856 - val_loss: 0.6988 - val_accuracy: 0.7850\n",
      "\n",
      "Epoch 00069: accuracy did not improve from 0.98625\n",
      "Epoch 70/100\n",
      "800/800 [==============================] - 0s 124us/step - loss: 0.0832 - accuracy: 0.9856 - val_loss: 0.7041 - val_accuracy: 0.7750\n",
      "\n",
      "Epoch 00070: accuracy did not improve from 0.98625\n",
      "Epoch 71/100\n",
      "800/800 [==============================] - 0s 128us/step - loss: 0.0827 - accuracy: 0.9875 - val_loss: 0.7070 - val_accuracy: 0.7750\n",
      "\n",
      "Epoch 00071: accuracy improved from 0.98625 to 0.98750, saving model to ./best_model_keras\n",
      "Epoch 72/100\n",
      "800/800 [==============================] - 0s 118us/step - loss: 0.0816 - accuracy: 0.9844 - val_loss: 0.7084 - val_accuracy: 0.7750\n",
      "\n",
      "Epoch 00072: accuracy did not improve from 0.98750\n",
      "Epoch 73/100\n",
      "800/800 [==============================] - 0s 108us/step - loss: 0.0805 - accuracy: 0.9869 - val_loss: 0.7090 - val_accuracy: 0.7800\n",
      "\n",
      "Epoch 00073: accuracy did not improve from 0.98750\n",
      "Epoch 74/100\n",
      "800/800 [==============================] - 0s 106us/step - loss: 0.0799 - accuracy: 0.9862 - val_loss: 0.7125 - val_accuracy: 0.7825\n",
      "\n",
      "Epoch 00074: accuracy did not improve from 0.98750\n",
      "Epoch 75/100\n"
     ]
    },
    {
     "name": "stdout",
     "output_type": "stream",
     "text": [
      "800/800 [==============================] - 0s 109us/step - loss: 0.0785 - accuracy: 0.9875 - val_loss: 0.7149 - val_accuracy: 0.7775\n",
      "\n",
      "Epoch 00075: accuracy did not improve from 0.98750\n",
      "Epoch 76/100\n",
      "800/800 [==============================] - 0s 114us/step - loss: 0.0775 - accuracy: 0.9875 - val_loss: 0.7206 - val_accuracy: 0.7700\n",
      "\n",
      "Epoch 00076: accuracy did not improve from 0.98750\n",
      "Epoch 77/100\n",
      "800/800 [==============================] - 0s 110us/step - loss: 0.0769 - accuracy: 0.9881 - val_loss: 0.7186 - val_accuracy: 0.7825\n",
      "\n",
      "Epoch 00077: accuracy improved from 0.98750 to 0.98813, saving model to ./best_model_keras\n",
      "Epoch 78/100\n",
      "800/800 [==============================] - 0s 118us/step - loss: 0.0761 - accuracy: 0.9887 - val_loss: 0.7222 - val_accuracy: 0.7750\n",
      "\n",
      "Epoch 00078: accuracy improved from 0.98813 to 0.98875, saving model to ./best_model_keras\n",
      "Epoch 79/100\n",
      "800/800 [==============================] - 0s 110us/step - loss: 0.0751 - accuracy: 0.9894 - val_loss: 0.7244 - val_accuracy: 0.7750\n",
      "\n",
      "Epoch 00079: accuracy improved from 0.98875 to 0.98937, saving model to ./best_model_keras\n",
      "Epoch 80/100\n",
      "800/800 [==============================] - 0s 122us/step - loss: 0.0741 - accuracy: 0.9894 - val_loss: 0.7278 - val_accuracy: 0.7725\n",
      "\n",
      "Epoch 00080: accuracy did not improve from 0.98937\n",
      "Epoch 81/100\n",
      "800/800 [==============================] - 0s 121us/step - loss: 0.0734 - accuracy: 0.9900 - val_loss: 0.7316 - val_accuracy: 0.7725\n",
      "\n",
      "Epoch 00081: accuracy improved from 0.98937 to 0.99000, saving model to ./best_model_keras\n",
      "Epoch 82/100\n",
      "800/800 [==============================] - 0s 124us/step - loss: 0.0725 - accuracy: 0.9887 - val_loss: 0.7333 - val_accuracy: 0.7725\n",
      "\n",
      "Epoch 00082: accuracy did not improve from 0.99000\n",
      "Epoch 83/100\n",
      "800/800 [==============================] - 0s 113us/step - loss: 0.0715 - accuracy: 0.9900 - val_loss: 0.7355 - val_accuracy: 0.7725\n",
      "\n",
      "Epoch 00083: accuracy did not improve from 0.99000\n",
      "Epoch 84/100\n",
      "800/800 [==============================] - 0s 107us/step - loss: 0.0708 - accuracy: 0.9894 - val_loss: 0.7372 - val_accuracy: 0.7725\n",
      "\n",
      "Epoch 00084: accuracy did not improve from 0.99000\n",
      "Epoch 85/100\n",
      "800/800 [==============================] - 0s 111us/step - loss: 0.0699 - accuracy: 0.9900 - val_loss: 0.7403 - val_accuracy: 0.7700\n",
      "\n",
      "Epoch 00085: accuracy did not improve from 0.99000\n",
      "Epoch 86/100\n",
      "800/800 [==============================] - 0s 113us/step - loss: 0.0689 - accuracy: 0.9900 - val_loss: 0.7431 - val_accuracy: 0.7725\n",
      "\n",
      "Epoch 00086: accuracy did not improve from 0.99000\n",
      "Epoch 87/100\n",
      "800/800 [==============================] - 0s 106us/step - loss: 0.0681 - accuracy: 0.9900 - val_loss: 0.7424 - val_accuracy: 0.7750\n",
      "\n",
      "Epoch 00087: accuracy did not improve from 0.99000\n",
      "Epoch 88/100\n",
      "800/800 [==============================] - 0s 108us/step - loss: 0.0675 - accuracy: 0.9906 - val_loss: 0.7512 - val_accuracy: 0.7675\n",
      "\n",
      "Epoch 00088: accuracy improved from 0.99000 to 0.99063, saving model to ./best_model_keras\n",
      "Epoch 89/100\n",
      "800/800 [==============================] - 0s 109us/step - loss: 0.0666 - accuracy: 0.9906 - val_loss: 0.7495 - val_accuracy: 0.7750\n",
      "\n",
      "Epoch 00089: accuracy did not improve from 0.99063\n",
      "Epoch 90/100\n",
      "800/800 [==============================] - 0s 107us/step - loss: 0.0662 - accuracy: 0.9912 - val_loss: 0.7505 - val_accuracy: 0.7800\n",
      "\n",
      "Epoch 00090: accuracy improved from 0.99063 to 0.99125, saving model to ./best_model_keras\n",
      "Epoch 91/100\n",
      "800/800 [==============================] - 0s 123us/step - loss: 0.0649 - accuracy: 0.9894 - val_loss: 0.7582 - val_accuracy: 0.7625\n",
      "\n",
      "Epoch 00091: accuracy did not improve from 0.99125\n",
      "Epoch 92/100\n",
      "800/800 [==============================] - 0s 116us/step - loss: 0.0641 - accuracy: 0.9906 - val_loss: 0.7584 - val_accuracy: 0.7675\n",
      "\n",
      "Epoch 00092: accuracy did not improve from 0.99125\n",
      "Epoch 93/100\n",
      "800/800 [==============================] - 0s 111us/step - loss: 0.0633 - accuracy: 0.9906 - val_loss: 0.7603 - val_accuracy: 0.7750\n",
      "\n",
      "Epoch 00093: accuracy did not improve from 0.99125\n",
      "Epoch 94/100\n",
      "800/800 [==============================] - 0s 110us/step - loss: 0.0626 - accuracy: 0.9906 - val_loss: 0.7656 - val_accuracy: 0.7650\n",
      "\n",
      "Epoch 00094: accuracy did not improve from 0.99125\n",
      "Epoch 95/100\n",
      "800/800 [==============================] - 0s 117us/step - loss: 0.0621 - accuracy: 0.9912 - val_loss: 0.7714 - val_accuracy: 0.7600\n",
      "\n",
      "Epoch 00095: accuracy did not improve from 0.99125\n",
      "Epoch 96/100\n",
      "800/800 [==============================] - 0s 109us/step - loss: 0.0609 - accuracy: 0.9912 - val_loss: 0.7681 - val_accuracy: 0.7725\n",
      "\n",
      "Epoch 00096: accuracy did not improve from 0.99125\n",
      "Epoch 97/100\n",
      "800/800 [==============================] - 0s 112us/step - loss: 0.0604 - accuracy: 0.9919 - val_loss: 0.7740 - val_accuracy: 0.7650\n",
      "\n",
      "Epoch 00097: accuracy improved from 0.99125 to 0.99187, saving model to ./best_model_keras\n",
      "Epoch 98/100\n",
      "800/800 [==============================] - 0s 116us/step - loss: 0.0596 - accuracy: 0.9919 - val_loss: 0.7749 - val_accuracy: 0.7700\n",
      "\n",
      "Epoch 00098: accuracy did not improve from 0.99187\n",
      "Epoch 99/100\n",
      "800/800 [==============================] - 0s 109us/step - loss: 0.0590 - accuracy: 0.9919 - val_loss: 0.7800 - val_accuracy: 0.7625\n",
      "\n",
      "Epoch 00099: accuracy did not improve from 0.99187\n",
      "Epoch 100/100\n",
      "800/800 [==============================] - 0s 111us/step - loss: 0.0581 - accuracy: 0.9912 - val_loss: 0.7771 - val_accuracy: 0.7775\n",
      "\n",
      "Epoch 00100: accuracy did not improve from 0.99187\n",
      "1000/1000 [==============================] - 0s 15us/step\n",
      "Accuracy: 94.85\n"
     ]
    }
   ],
   "source": [
    "import pandas as pd\n",
    "from IPython.display import display\n",
    "from sklearn.model_selection import train_test_split\n",
    "import numpy as np\n",
    "import random\n",
    "from certifai.common.utils.encoding import CatEncoder\n",
    "from keras.callbacks import ReduceLROnPlateau,EarlyStopping,ModelCheckpoint\n",
    "from keras.models import Sequential\n",
    "from keras import regularizers\n",
    "from keras import optimizers\n",
    "from keras.layers import Dense, Dropout\n",
    "import os\n",
    "import random\n",
    "import tensorflow as tf\n",
    "seed = 42\n",
    "\n",
    "os.environ['PYTHONHASHSEED']=str(seed)\n",
    "np.random.seed(seed)\n",
    "random.seed(seed)\n",
    "tf.random.set_random_seed(seed)\n",
    "\n",
    "base_path = '..'\n",
    "all_data_file = f\"{base_path}/datasets/german_credit_eval.csv\"\n",
    "\n",
    "df = pd.read_csv(all_data_file)\n",
    "\n",
    "cat_columns = [\n",
    "    'checkingstatus',\n",
    "    'history',\n",
    "    'purpose',\n",
    "    'savings',\n",
    "    'employ',\n",
    "    'status',\n",
    "    'others',\n",
    "    'property',\n",
    "    'age',\n",
    "    'otherplans',\n",
    "    'housing',\n",
    "    'job',\n",
    "    'telephone',\n",
    "    'foreign'\n",
    "    ]\n",
    "\n",
    "label_column = 'outcome'\n",
    "\n",
    "# Separate outcome\n",
    "y = df[label_column]\n",
    "X = df.drop(label_column, axis=1)\n",
    "\n",
    "encoder = CatEncoder(cat_columns, X)\n",
    "\n",
    "# NN separate for probability scoring label \n",
    "y_model = np.asarray([(1,0) if x==1 else (0,1) for x in y ])\n",
    "\n",
    "best_model_path = os.path.join('.', 'best_model_keras')\n",
    "es = EarlyStopping(monitor='accuracy', mode='min', verbose=1,\n",
    "                   patience=100, min_delta=0.0001)\n",
    "\n",
    "rlp = ReduceLROnPlateau(monitor='accuracy', factor=0.02, patience=20, verbose=1, mode='min',\n",
    "                        min_delta=0.001, cooldown=1, min_lr=0.0001)\n",
    "mcp = ModelCheckpoint(best_model_path, monitor='accuracy', verbose=1,\n",
    "                      save_best_only=True, save_weights_only=False, mode='max')\n",
    "\n",
    "model = Sequential()\n",
    "model.add(Dense(60, input_dim=encoder(X.values).shape[1], activation='relu'))\n",
    "model.add(Dense(8, activation='relu'))\n",
    "model.add(Dense(2, activation='sigmoid'))\n",
    "model.compile(loss='binary_crossentropy', optimizer='adam', metrics=['accuracy'])\n",
    "model.fit(encoder(X.values), y_model, epochs=100, batch_size=10, callbacks=[mcp,rlp,es],validation_split=0.2)\n",
    "_, accuracy = model.evaluate(encoder(X.values), y_model)\n",
    "print('Accuracy: %.2f' % (accuracy*100))"
   ]
  },
  {
   "cell_type": "code",
   "execution_count": 36,
   "metadata": {},
   "outputs": [
    {
     "data": {
      "text/plain": [
       "1    700\n",
       "2    300\n",
       "Name: outcome, dtype: int64"
      ]
     },
     "execution_count": 36,
     "metadata": {},
     "output_type": "execute_result"
    }
   ],
   "source": [
    "# initial value counts of outcome label\n",
    "df['outcome'].value_counts()"
   ]
  },
  {
   "cell_type": "code",
   "execution_count": 37,
   "metadata": {},
   "outputs": [
    {
     "data": {
      "text/plain": [
       "0.948"
      ]
     },
     "execution_count": 37,
     "metadata": {},
     "output_type": "execute_result"
    }
   ],
   "source": [
    "y_preds = model.predict(encoder(X.values))\n",
    "y_classes = np.argmax(y_preds,axis=1)\n",
    "y_actual = np.where(y==1, 0,1)\n",
    "np.mean(y_actual == y_classes)"
   ]
  },
  {
   "cell_type": "code",
   "execution_count": 38,
   "metadata": {},
   "outputs": [],
   "source": [
    "class_1_threshold = 0.95\n",
    "class_2_threshold = 0.4"
   ]
  },
  {
   "cell_type": "code",
   "execution_count": 39,
   "metadata": {},
   "outputs": [
    {
     "data": {
      "text/plain": [
       "(718,)"
      ]
     },
     "execution_count": 39,
     "metadata": {},
     "output_type": "execute_result"
    }
   ],
   "source": [
    "y_class_1 = y_preds[y_preds[:,0] > class_2_threshold][:,0]\n",
    "y_class_1.shape"
   ]
  },
  {
   "cell_type": "code",
   "execution_count": 40,
   "metadata": {},
   "outputs": [
    {
     "data": {
      "text/plain": [
       "(165,)"
      ]
     },
     "execution_count": 40,
     "metadata": {},
     "output_type": "execute_result"
    }
   ],
   "source": [
    "y_class_2 = y_preds[y_preds[:,1] > class_1_threshold][:,1]\n",
    "y_class_2.shape"
   ]
  },
  {
   "cell_type": "code",
   "execution_count": 41,
   "metadata": {},
   "outputs": [
    {
     "data": {
      "text/plain": [
       "161"
      ]
     },
     "execution_count": 41,
     "metadata": {},
     "output_type": "execute_result"
    }
   ],
   "source": [
    "y_class_1 = y_preds[y_preds[:,0] > class_2_threshold][:,0]\n",
    "np.sum(y_class_1 < class_1_threshold)"
   ]
  },
  {
   "cell_type": "markdown",
   "metadata": {},
   "source": [
    "### creating new label"
   ]
  },
  {
   "cell_type": "code",
   "execution_count": 42,
   "metadata": {},
   "outputs": [
    {
     "data": {
      "text/plain": [
       "(557,)"
      ]
     },
     "execution_count": 42,
     "metadata": {},
     "output_type": "execute_result"
    }
   ],
   "source": [
    "# loan_granted 1\n",
    "new_label_1 = y_preds[y_preds[:,0] > class_1_threshold][:,0]\n",
    "new_label_1.shape"
   ]
  },
  {
   "cell_type": "code",
   "execution_count": 43,
   "metadata": {},
   "outputs": [
    {
     "data": {
      "text/plain": [
       "(282,)"
      ]
     },
     "execution_count": 43,
     "metadata": {},
     "output_type": "execute_result"
    }
   ],
   "source": [
    "#loan_denied 2\n",
    "new_label_2 = y_preds[y_preds[:,0] < class_2_threshold][:,0]\n",
    "new_label_2.shape"
   ]
  },
  {
   "cell_type": "code",
   "execution_count": 44,
   "metadata": {},
   "outputs": [
    {
     "data": {
      "text/plain": [
       "(161,)"
      ]
     },
     "execution_count": 44,
     "metadata": {},
     "output_type": "execute_result"
    }
   ],
   "source": [
    "# further_inspection 3\n",
    "new_label_3 = y_preds[(y_preds[:,0] > class_2_threshold) & (y_preds[:,0] < class_1_threshold)][:,0]\n",
    "new_label_3.shape"
   ]
  },
  {
   "cell_type": "markdown",
   "metadata": {},
   "source": [
    "### arrange the new labels to be appended to dataset"
   ]
  },
  {
   "cell_type": "code",
   "execution_count": 45,
   "metadata": {},
   "outputs": [],
   "source": [
    "new_label = []\n",
    "for z in y_preds:\n",
    "    prob_class_1 = z[0]\n",
    "    if prob_class_1 > class_1_threshold:\n",
    "        new_label.append(1)\n",
    "    elif prob_class_1 < class_2_threshold:\n",
    "        new_label.append(2)\n",
    "    else:\n",
    "        new_label.append(3)"
   ]
  },
  {
   "cell_type": "code",
   "execution_count": 46,
   "metadata": {},
   "outputs": [
    {
     "data": {
      "text/plain": [
       "0.81"
      ]
     },
     "execution_count": 46,
     "metadata": {},
     "output_type": "execute_result"
    }
   ],
   "source": [
    "np.mean(y==new_label)"
   ]
  },
  {
   "cell_type": "markdown",
   "metadata": {},
   "source": [
    "### create dataset with new labels"
   ]
  },
  {
   "cell_type": "code",
   "execution_count": 47,
   "metadata": {},
   "outputs": [],
   "source": [
    "df_new = df.copy()\n",
    "df_new[label_column] = new_label"
   ]
  },
  {
   "cell_type": "markdown",
   "metadata": {},
   "source": [
    "### check new outcome label counts"
   ]
  },
  {
   "cell_type": "code",
   "execution_count": 48,
   "metadata": {},
   "outputs": [
    {
     "data": {
      "text/plain": [
       "1    557\n",
       "2    282\n",
       "3    161\n",
       "Name: outcome, dtype: int64"
      ]
     },
     "execution_count": 48,
     "metadata": {},
     "output_type": "execute_result"
    }
   ],
   "source": [
    "df_new['outcome'].value_counts()"
   ]
  },
  {
   "cell_type": "markdown",
   "metadata": {},
   "source": [
    "### dump the new dataset as csv"
   ]
  },
  {
   "cell_type": "code",
   "execution_count": 49,
   "metadata": {},
   "outputs": [],
   "source": [
    "save_as = f\"{base_path}/datasets/german_credit_eval_multiclass.csv\"\n",
    "df_new.to_csv(save_as,index=False)"
   ]
  },
  {
   "cell_type": "markdown",
   "metadata": {},
   "source": [
    "### check file is saved correctly"
   ]
  },
  {
   "cell_type": "code",
   "execution_count": 50,
   "metadata": {},
   "outputs": [
    {
     "name": "stdout",
     "output_type": "stream",
     "text": [
      "german_credit_eval_multiclass.csv\r\n"
     ]
    }
   ],
   "source": [
    "!ls $base_path/datasets | grep multiclass"
   ]
  },
  {
   "cell_type": "code",
   "execution_count": null,
   "metadata": {},
   "outputs": [],
   "source": []
  }
 ],
 "metadata": {
  "kernelspec": {
   "display_name": "Python 3",
   "language": "python",
   "name": "python3"
  },
  "language_info": {
   "codemirror_mode": {
    "name": "ipython",
    "version": 3
   },
   "file_extension": ".py",
   "mimetype": "text/x-python",
   "name": "python",
   "nbconvert_exporter": "python",
   "pygments_lexer": "ipython3",
   "version": "3.7.7"
  }
 },
 "nbformat": 4,
 "nbformat_minor": 4
}
