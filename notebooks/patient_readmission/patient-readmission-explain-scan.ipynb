{
 "cells": [
  {
   "cell_type": "markdown",
   "metadata": {
    "_uuid": "90d890b7e4ff4dbbb27e2b59e50e942c7bb0078c"
   },
   "source": [
    "Copyright (c) 2020. Cognitive Scale Inc. All rights reserved.\n",
    "Licensed under CognitiveScale Example Code [License](https://github.com/CognitiveScale/cortex-certifai-examples/blob/7998b8a481fccd467463deb1fc46d19622079b0e/LICENSE.md)\n",
    "\n",
    "# Introduction\n",
    "\n",
    "This is the second notebook in this example of how to scan models using Certifai. If you have not already done so, please run the [first notebook](patient-readmission-train.ipynb) to train the models to be explained.\n",
    "\n",
    "In this notebook, we will:\n",
    "1. Create a Certifai scan object with the information Certifai needs to explain the models\n",
    "2. Run the explanations scan and save its definition for future use\n",
    "3. View the results in the Console\n",
    "\n",
    "See the [third notebook](patient-readmission-explain-results.ipynb) for how to work with the results of the explanations scan in a notebook."
   ]
  },
  {
   "cell_type": "code",
   "execution_count": 1,
   "metadata": {
    "_kg_hide-input": true,
    "_kg_hide-output": true,
    "_uuid": "fba09007b76132d605daa699b39a5fc92ff87ee1",
    "execution": {
     "iopub.execute_input": "2023-01-06T20:01:48.987448Z",
     "iopub.status.busy": "2023-01-06T20:01:48.987137Z",
     "iopub.status.idle": "2023-01-06T20:01:50.844410Z",
     "shell.execute_reply": "2023-01-06T20:01:50.843266Z"
    }
   },
   "outputs": [],
   "source": [
    "import numpy as np\n",
    "import pandas as pd\n",
    "import pickle\n",
    "import pprint\n",
    "\n",
    "from certifai.scanner.builder import (CertifaiScanBuilder, CertifaiPredictorWrapper, CertifaiModel,\n",
    "                                      CertifaiDataset, CertifaiDatasetSource, CertifaiGroupingFeature,\n",
    "                                      CertifaiPredictionTask, CertifaiTaskOutcomes, CertifaiOutcomeValue,\n",
    "                                      CertifaiFeatureDataType, CertifaiFeatureSchema, CertifaiDataSchema)"
   ]
  },
  {
   "cell_type": "markdown",
   "metadata": {
    "_uuid": "a4490db86a8bb5bdc7bc81d17da9f0a3b690b90c"
   },
   "source": [
    "# Creating the Certifai Scan object\n",
    "\n",
    "In this section, we create a Certifai scan object containing with the information Certifai needs to run a scan that explains the models. This information consists of:\n",
    "* Metadata about the prediction task being performed\n",
    "* What evaluations to run\n",
    "* The models to be scanned\n",
    "* The datasets to be used\n",
    "* Metadata about the datasets that is needed for the scan"
   ]
  },
  {
   "cell_type": "markdown",
   "metadata": {},
   "source": [
    "Create a Certifai scan object, providing metadata about the prediction task that is performed by the models. Define the evaluations to be performed, which in this case is just 'explanation'."
   ]
  },
  {
   "cell_type": "code",
   "execution_count": 2,
   "metadata": {
    "execution": {
     "iopub.execute_input": "2023-01-06T20:01:50.848246Z",
     "iopub.status.busy": "2023-01-06T20:01:50.848059Z",
     "iopub.status.idle": "2023-01-06T20:01:50.852055Z",
     "shell.execute_reply": "2023-01-06T20:01:50.851439Z"
    }
   },
   "outputs": [],
   "source": [
    "task = CertifaiPredictionTask(CertifaiTaskOutcomes.classification(\n",
    "    [\n",
    "        CertifaiOutcomeValue(0, name='Not Readmitted', favorable=True),\n",
    "        CertifaiOutcomeValue(1, name='Readmitted')\n",
    "    ]),\n",
    "    prediction_description='Determine whether a patient will be readmitted')\n",
    "\n",
    "scan = CertifaiScanBuilder.create('readmission',\n",
    "                                  prediction_task=task)\n",
    "scan.add_evaluation_type('explanation')"
   ]
  },
  {
   "cell_type": "markdown",
   "metadata": {},
   "source": [
    "Load the two models we saved in the first notebook, and wrap them so that they can be called by Certifai. Add these models into the scan object."
   ]
  },
  {
   "cell_type": "code",
   "execution_count": 3,
   "metadata": {
    "execution": {
     "iopub.execute_input": "2023-01-06T20:01:50.855048Z",
     "iopub.status.busy": "2023-01-06T20:01:50.854873Z",
     "iopub.status.idle": "2023-01-06T20:01:50.861961Z",
     "shell.execute_reply": "2023-01-06T20:01:50.860988Z"
    }
   },
   "outputs": [],
   "source": [
    "for model_name in ['logit', 'mlp']:\n",
    "    with open(f'readmission_{model_name}.pkl', 'rb') as f:\n",
    "        saved = pickle.load(f)\n",
    "        model = CertifaiPredictorWrapper(saved.get('model'))\n",
    "        scan.add_model(CertifaiModel(model_name, local_predictor=model))"
   ]
  },
  {
   "cell_type": "markdown",
   "metadata": {},
   "source": [
    "Create a 100-row sample of the full dataset, for which explanations will be generated."
   ]
  },
  {
   "cell_type": "code",
   "execution_count": 4,
   "metadata": {
    "execution": {
     "iopub.execute_input": "2023-01-06T20:01:50.865493Z",
     "iopub.status.busy": "2023-01-06T20:01:50.865302Z",
     "iopub.status.idle": "2023-01-06T20:01:51.398898Z",
     "shell.execute_reply": "2023-01-06T20:01:51.397960Z"
    }
   },
   "outputs": [],
   "source": [
    "df = pd.read_csv('diabetic_data_processed.csv')\n",
    "explain_df = df.sample(100)\n",
    "explain_df.to_csv('diabetic_data_explain.csv', index=False)"
   ]
  },
  {
   "cell_type": "markdown",
   "metadata": {},
   "source": [
    "Add the full evaluation and the explanation datasets to the scan. The evaluation dataset is used by Certifai to create an initial population for the genetic algorithm used in the scan, and needs to be a representative sample of the expected data (minimum c. 1K rows, ideally 10-50K rows, larger is OK). The explanation dataset contains the points to be explained. Note the time to run the scan will depend linearly on the size of the explanation dataset, so it is best to keep this relatively small at least initially."
   ]
  },
  {
   "cell_type": "code",
   "execution_count": 5,
   "metadata": {
    "execution": {
     "iopub.execute_input": "2023-01-06T20:01:51.402669Z",
     "iopub.status.busy": "2023-01-06T20:01:51.402435Z",
     "iopub.status.idle": "2023-01-06T20:01:51.406318Z",
     "shell.execute_reply": "2023-01-06T20:01:51.405743Z"
    }
   },
   "outputs": [],
   "source": [
    "eval_dataset = CertifaiDataset('evaluation',\n",
    "                               CertifaiDatasetSource.csv('diabetic_data_processed.csv'))\n",
    "scan.add_dataset(eval_dataset)\n",
    "scan.evaluation_dataset_id = 'evaluation'\n",
    "\n",
    "explan_dataset = CertifaiDataset('explanation', CertifaiDatasetSource.csv('diabetic_data_explain.csv'))\n",
    "scan.add_dataset(explan_dataset)\n",
    "scan.explanation_dataset_id = 'explanation'"
   ]
  },
  {
   "cell_type": "markdown",
   "metadata": {},
   "source": [
    "Read in the metadata about one-hot encoding that we saved in the first notebook and use this to define the feature schema in the scan object. This lets Certifai know the value mappings to columns for both the analysis and when presenting explanations."
   ]
  },
  {
   "cell_type": "code",
   "execution_count": 6,
   "metadata": {
    "execution": {
     "iopub.execute_input": "2023-01-06T20:01:51.409701Z",
     "iopub.status.busy": "2023-01-06T20:01:51.409487Z",
     "iopub.status.idle": "2023-01-06T20:01:51.413926Z",
     "shell.execute_reply": "2023-01-06T20:01:51.413435Z"
    }
   },
   "outputs": [],
   "source": [
    "with open('cat_value_mappings.pkl', 'rb') as f:\n",
    "    cat_value_mappings = pickle.load(f)\n",
    "\n",
    "cat_features = []\n",
    "for feature, value_columns in cat_value_mappings.items():\n",
    "    data_type = CertifaiFeatureDataType.categorical(value_columns=value_columns.items())\n",
    "    feature_schema = CertifaiFeatureSchema(name=feature, data_type=data_type)\n",
    "    cat_features.append(feature_schema)"
   ]
  },
  {
   "cell_type": "markdown",
   "metadata": {},
   "source": [
    "Certifai infers small-cardinality integers to be categorical. In this use case, there are a set of features that should be treated as numeric as they have an ordering, so we explicitly define their types in the schema."
   ]
  },
  {
   "cell_type": "code",
   "execution_count": 7,
   "metadata": {
    "execution": {
     "iopub.execute_input": "2023-01-06T20:01:51.417290Z",
     "iopub.status.busy": "2023-01-06T20:01:51.416875Z",
     "iopub.status.idle": "2023-01-06T20:01:51.421018Z",
     "shell.execute_reply": "2023-01-06T20:01:51.420336Z"
    }
   },
   "outputs": [],
   "source": [
    "num_features = []\n",
    "for feature in [col for col in df.columns if col.startswith('num') or col == 'age']:\n",
    "    data_type = CertifaiFeatureDataType.int()\n",
    "    num_features.append(CertifaiFeatureSchema(name=feature, data_type=data_type))\n",
    "schema = CertifaiDataSchema(features=cat_features + num_features)\n",
    "scan.dataset_schema = schema"
   ]
  },
  {
   "cell_type": "markdown",
   "metadata": {},
   "source": [
    "Tell Certifai about the label/outcome column in the dataset, so that it won't be passed in the predict calls or used in the genetic algorithm. "
   ]
  },
  {
   "cell_type": "code",
   "execution_count": 8,
   "metadata": {
    "execution": {
     "iopub.execute_input": "2023-01-06T20:01:51.423985Z",
     "iopub.status.busy": "2023-01-06T20:01:51.423819Z",
     "iopub.status.idle": "2023-01-06T20:01:51.426538Z",
     "shell.execute_reply": "2023-01-06T20:01:51.426019Z"
    }
   },
   "outputs": [],
   "source": [
    "scan.dataset_schema.outcome_feature_name = 'readmitted'"
   ]
  },
  {
   "cell_type": "markdown",
   "metadata": {},
   "source": [
    "# Run the Explanations Scan\n",
    "\n",
    "Run the scan, saving the results in the `reports` folder. "
   ]
  },
  {
   "cell_type": "code",
   "execution_count": 9,
   "metadata": {
    "execution": {
     "iopub.execute_input": "2023-01-06T20:01:51.429210Z",
     "iopub.status.busy": "2023-01-06T20:01:51.429043Z",
     "iopub.status.idle": "2023-01-06T20:03:26.078965Z",
     "shell.execute_reply": "2023-01-06T20:03:26.078211Z"
    }
   },
   "outputs": [
    {
     "name": "stdout",
     "output_type": "stream",
     "text": [
      "Starting scan with model_use_case_id: 'readmission' and scan_id: '025543f8e4a4'\n",
      "[--------------------] 2023-01-06 14:01:55.186951 - 0 of 2 reports (0.0% complete) - Running explanation evaluation for model: logit\n",
      "[##########----------] 2023-01-06 14:02:39.338844 - 1 of 2 reports (50.0% complete) - Running explanation evaluation for model: mlp\n",
      "[####################] 2023-01-06 14:03:26.011343 - 2 of 2 reports (100.0% complete) - Completed all evaluations\n"
     ]
    }
   ],
   "source": [
    "results = scan.run(write_reports=True)"
   ]
  },
  {
   "cell_type": "markdown",
   "metadata": {},
   "source": [
    "Save the scan definition as a yaml file so that it can be rerun in the future, either in a notebook or from the CLI. This is useful for example to get explanations for additional datapoints, for updated models, or for a model that has been deployed as a service. The warning message on saving reminds you that you will need to update the predict endpoint before using the definition."
   ]
  },
  {
   "cell_type": "code",
   "execution_count": 10,
   "metadata": {
    "execution": {
     "iopub.execute_input": "2023-01-06T20:03:26.082698Z",
     "iopub.status.busy": "2023-01-06T20:03:26.082201Z",
     "iopub.status.idle": "2023-01-06T20:03:26.142219Z",
     "shell.execute_reply": "2023-01-06T20:03:26.141433Z"
    }
   },
   "outputs": [
    {
     "name": "stderr",
     "output_type": "stream",
     "text": [
      "2023-01-06 14:03:26,108 root   WARNING  The model 'logit' was locally defined and cannot be represented within a scan definition because it doesn't have a 'predict_endpoint'. A default value of '<UNKNOWN_ENDPOINT>' will be used in the exported YAML for the models 'predict_endpoint'. Before running a scan with the exported YAML, you should deploy the model and update the 'logit' models metadata in the scan definition.\n",
      "2023-01-06 14:03:26,109 root   WARNING  The model 'mlp' was locally defined and cannot be represented within a scan definition because it doesn't have a 'predict_endpoint'. A default value of '<UNKNOWN_ENDPOINT>' will be used in the exported YAML for the models 'predict_endpoint'. Before running a scan with the exported YAML, you should deploy the model and update the 'mlp' models metadata in the scan definition.\n"
     ]
    }
   ],
   "source": [
    "with open('explain-scan-def.yaml', \"w\") as f:\n",
    "    scan.save(f)"
   ]
  },
  {
   "cell_type": "markdown",
   "metadata": {},
   "source": [
    "The scan definition can be loaded into a new notebook using `CertifaiScanBuilder.from_file('explain-scan-def.yaml')`."
   ]
  },
  {
   "cell_type": "markdown",
   "metadata": {},
   "source": [
    "# View the Results\n",
    "\n",
    "The results can be viewed in the Certifai console using the CLI command `certifai console`, run from this folder. \n",
    "Go to `http://localhost:8000` in your browser. \n",
    "\n",
    "The results can also be analyzed in the same notebook; or analyzed later in a separate notebook. See the [third notebook](patient-readmission-explain-results.ipynb) for how to load and work with the results of the explanations scan in a separate notebook."
   ]
  }
 ],
 "metadata": {
  "kernelspec": {
   "display_name": "Python 3",
   "language": "python",
   "name": "python3"
  },
  "language_info": {
   "codemirror_mode": {
    "name": "ipython",
    "version": 3
   },
   "file_extension": ".py",
   "mimetype": "text/x-python",
   "name": "python",
   "nbconvert_exporter": "python",
   "pygments_lexer": "ipython3",
   "version": "3.8.15"
  }
 },
 "nbformat": 4,
 "nbformat_minor": 1
}
