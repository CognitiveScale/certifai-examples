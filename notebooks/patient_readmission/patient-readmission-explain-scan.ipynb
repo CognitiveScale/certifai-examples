{
 "cells": [
  {
   "cell_type": "markdown",
   "metadata": {
    "_uuid": "90d890b7e4ff4dbbb27e2b59e50e942c7bb0078c"
   },
   "source": [
    "# Introduction\n",
    "\n",
    "This is the second notebook in this example of how to scan models using Certifai. If you have not already done so, please run the [first notebook](patient-readmission-train.ipynb) to train the models to be explained.\n",
    "\n",
    "In this notebook, we will:\n",
    "1. Create a Certifai scan object with the information Certifai needs to explain the models\n",
    "2. Run the explanations scan and save its definition for future use\n",
    "3. View the results in the Console\n",
    "\n",
    "See the [third notebook](patient-readmission-explain-results.ipynb) for how to work with the results of the explanations scan in a notebook."
   ]
  },
  {
   "cell_type": "code",
   "execution_count": 1,
   "metadata": {
    "_kg_hide-input": true,
    "_kg_hide-output": true,
    "_uuid": "fba09007b76132d605daa699b39a5fc92ff87ee1"
   },
   "outputs": [],
   "source": [
    "import numpy as np\n",
    "import pandas as pd\n",
    "import pickle\n",
    "import pprint\n",
    "\n",
    "from certifai.scanner.builder import (CertifaiScanBuilder, CertifaiPredictorWrapper, CertifaiModel,\n",
    "                                      CertifaiDataset, CertifaiDatasetSource, CertifaiGroupingFeature,\n",
    "                                      CertifaiPredictionTask, CertifaiTaskOutcomes, CertifaiOutcomeValue,\n",
    "                                      CertifaiFeatureDataType, CertifaiFeatureSchema, CertifaiDataSchema)"
   ]
  },
  {
   "cell_type": "markdown",
   "metadata": {
    "_uuid": "a4490db86a8bb5bdc7bc81d17da9f0a3b690b90c"
   },
   "source": [
    "# Creating the Certifai Scan object\n",
    "\n",
    "In this section, we create a Certifai scan object containing with the information Certifai needs to run a scan that explains the models. This information consists of:\n",
    "* Metadata about the prediction task being performed\n",
    "* What evaluations to run\n",
    "* The models to be scanned\n",
    "* The datasets to be used\n",
    "* Metadata about the datasets that is needed for the scan"
   ]
  },
  {
   "cell_type": "markdown",
   "metadata": {},
   "source": [
    "Create a Certifai scan object, providing metadata about the prediction task that is performed by the models. Define the evaluations to be performed, which in this case is just 'explanation'."
   ]
  },
  {
   "cell_type": "code",
   "execution_count": 2,
   "metadata": {},
   "outputs": [],
   "source": [
    "task = CertifaiPredictionTask(CertifaiTaskOutcomes.classification(\n",
    "    [\n",
    "        CertifaiOutcomeValue(0, name='Not Readmitted', favorable=True),\n",
    "        CertifaiOutcomeValue(1, name='Readmitted')\n",
    "    ]),\n",
    "    prediction_description='Determine whether a patient will be readmitted')\n",
    "\n",
    "scan = CertifaiScanBuilder.create('readmission',\n",
    "                                  prediction_task=task)\n",
    "scan.add_evaluation_type('explanation')"
   ]
  },
  {
   "cell_type": "markdown",
   "metadata": {},
   "source": [
    "Load the two models we saved in the first notebook, and wrap them so that they can be called by Certifai. Add these models into the scan object."
   ]
  },
  {
   "cell_type": "code",
   "execution_count": 3,
   "metadata": {},
   "outputs": [],
   "source": [
    "from encoder import Encoder\n",
    "\n",
    "for model_name in ['logit', 'mlp']:\n",
    "    with open(f'readmission_{model_name}.pkl', 'rb') as f:\n",
    "        saved = pickle.load(f)\n",
    "        model = CertifaiPredictorWrapper(saved.get('model'), encoder=Encoder())\n",
    "        scan.add_model(CertifaiModel(model_name, local_predictor=model))"
   ]
  },
  {
   "cell_type": "markdown",
   "metadata": {},
   "source": [
    "Create a 100-row sample of the full dataset, for which explanations will be generated."
   ]
  },
  {
   "cell_type": "code",
   "execution_count": 4,
   "metadata": {},
   "outputs": [],
   "source": [
    "df = pd.read_csv('diabetic_data_processed.csv')\n",
    "explain_df = df.sample(100)\n",
    "explain_df.to_csv('diabetic_data_explain.csv', index=False)"
   ]
  },
  {
   "cell_type": "markdown",
   "metadata": {},
   "source": [
    "Add the full evaluation and the explanation datasets to the scan. The evaluation dataset is used by Certifai to create an initial population for the genetic algorithm used in the scan, and needs to be a representative sample of the expected data (minimum c. 1K rows, ideally 10-50K rows, larger is OK). The explanation dataset contains the points to be explained. Note the time to run the scan will depend linearly on the size of the explanation dataset, so it is best to keep this relatively small at least initially."
   ]
  },
  {
   "cell_type": "code",
   "execution_count": 5,
   "metadata": {},
   "outputs": [],
   "source": [
    "eval_dataset = CertifaiDataset('evaluation',\n",
    "                               CertifaiDatasetSource.csv('diabetic_data_processed.csv'))\n",
    "scan.add_dataset(eval_dataset)\n",
    "scan.evaluation_dataset_id = 'evaluation'\n",
    "\n",
    "explan_dataset = CertifaiDataset('explanation', CertifaiDatasetSource.csv('diabetic_data_explain.csv'))\n",
    "scan.add_dataset(explan_dataset)\n",
    "scan.explanation_dataset_id = 'explanation'"
   ]
  },
  {
   "cell_type": "markdown",
   "metadata": {},
   "source": [
    "Read in the metadata about one-hot encoding that we saved in the first notebook and use this to define the feature schema in the scan object. This lets Certifai know the value mappings to columns for both the analysis and when presenting explanations."
   ]
  },
  {
   "cell_type": "code",
   "execution_count": 6,
   "metadata": {},
   "outputs": [],
   "source": [
    "with open('cat_value_mappings.pkl', 'rb') as f:\n",
    "    cat_value_mappings = pickle.load(f)\n",
    "\n",
    "cat_features = []\n",
    "for feature, value_columns in cat_value_mappings.items():\n",
    "    data_type = CertifaiFeatureDataType.categorical(value_columns=value_columns.items())\n",
    "    feature_schema = CertifaiFeatureSchema(name=feature, data_type=data_type)\n",
    "    cat_features.append(feature_schema)\n",
    "schema = CertifaiDataSchema(features=cat_features)\n",
    "scan.dataset_schema = schema\n"
   ]
  },
  {
   "cell_type": "markdown",
   "metadata": {},
   "source": [
    "Tell Certifai about the label/outcome column in the dataset, so that it won't be passed in the predict calls or used in the genetic algorithm. "
   ]
  },
  {
   "cell_type": "code",
   "execution_count": 7,
   "metadata": {},
   "outputs": [],
   "source": [
    "scan.dataset_schema.outcome_feature_name = 'readmitted'"
   ]
  },
  {
   "cell_type": "markdown",
   "metadata": {},
   "source": [
    "# Run the Explanations Scan\n",
    "\n",
    "Run the scan, saving the results in the `reports` folder. "
   ]
  },
  {
   "cell_type": "code",
   "execution_count": 8,
   "metadata": {},
   "outputs": [
    {
     "name": "stdout",
     "output_type": "stream",
     "text": [
      "Starting scan with model_use_case_id: 'readmission' and scan_id: '5c54861f2e8a'\n",
      "[--------------------] 2020-10-04 12:20:03.419482 - 0 of 2 reports (0.0% complete) - Running explanation evaluation for model: logit\n",
      "[##########----------] 2020-10-04 12:20:43.433004 - 1 of 2 reports (50.0% complete) - Running explanation evaluation for model: mlp\n",
      "[####################] 2020-10-04 12:21:39.721667 - 2 of 2 reports (100.0% complete) - Completed all evaluations\n"
     ]
    }
   ],
   "source": [
    "results = scan.run(write_reports=True)"
   ]
  },
  {
   "cell_type": "markdown",
   "metadata": {},
   "source": [
    "Save the scan definition as a yaml file so that it can be rerun in the future, either in a notebook or from the CLI. This is useful for example to get explanations for additional datapoints, for updated models, or for a model that has been deployed as a service."
   ]
  },
  {
   "cell_type": "code",
   "execution_count": 9,
   "metadata": {},
   "outputs": [],
   "source": [
    "with open('explain-scan-def.yaml', \"w\") as f:\n",
    "    scan.save(f)"
   ]
  },
  {
   "cell_type": "markdown",
   "metadata": {},
   "source": [
    "The scan definition can be loaded into a new notebook using `CertifaiScanBuilder.from_file('explain-scan-def.yaml')`."
   ]
  },
  {
   "cell_type": "markdown",
   "metadata": {},
   "source": [
    "# View the Results\n",
    "\n",
    "The results can be viewed in the Certifai console using the CLI command `certifai console`, run from this folder. \n",
    "Go to `http://localhost:8000` in your browser. \n",
    "\n",
    "The results can also be analyzed in the same notebook; or analyzed later in a separate notebook. See the [third notebook](patient-readmission-explain-results.ipynb) for how to load and work with the results of the explanations scan in a separate notebook."
   ]
  }
 ],
 "metadata": {
  "kernelspec": {
   "display_name": "Python 3",
   "language": "python",
   "name": "python3"
  },
  "language_info": {
   "codemirror_mode": {
    "name": "ipython",
    "version": 3
   },
   "file_extension": ".py",
   "mimetype": "text/x-python",
   "name": "python",
   "nbconvert_exporter": "python",
   "pygments_lexer": "ipython3",
   "version": "3.6.12"
  }
 },
 "nbformat": 4,
 "nbformat_minor": 1
}
