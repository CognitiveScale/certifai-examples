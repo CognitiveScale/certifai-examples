{
 "cells": [
  {
   "cell_type": "markdown",
   "metadata": {
    "_uuid": "90d890b7e4ff4dbbb27e2b59e50e942c7bb0078c"
   },
   "source": [
    "Copyright (c) 2020. Cognitive Scale Inc. All rights reserved.\n",
    "Licensed under CognitiveScale Example Code [License](https://github.com/CognitiveScale/cortex-certifai-examples/blob/7998b8a481fccd467463deb1fc46d19622079b0e/LICENSE.md)\n",
    "\n",
    "# Introduction\n",
    "\n",
    "This is the sixth notebook in this example of how to explain models using Certifai. If you have not already done so, please run the [first notebook](patient-readmission-train.ipynb) to train the models to be explained and the [fifth notebook](patient-readmission-sampling-scan.ipynb) to create explanations using counterfactual sampling.\n",
    "\n",
    "In this notebook, we will:\n",
    "1. Load the previously saved explanation reports from the previous notebook\n",
    "2. Convert the counterfactuals into a dataframe and display them\n",
    "3. Compare the number of feature changes in the counterfactuals between the previous scans"
   ]
  },
  {
   "cell_type": "code",
   "execution_count": 1,
   "metadata": {
    "_kg_hide-input": true,
    "_kg_hide-output": true,
    "_uuid": "fba09007b76132d605daa699b39a5fc92ff87ee1"
   },
   "outputs": [],
   "source": [
    "import numpy as np\n",
    "import pandas as pd\n",
    "from pprint import pprint\n",
    "\n",
    "from certifai.scanner.report_reader import ScanReportReader\n",
    "from certifai.scanner.explanation_utils import (explanations, construct_explanations_dataframe, counterfactual_changes,\n",
    "                                                counterfactual_feature_frequency, drop_metadata_columns)\n",
    "from certifai.scanner.builder import ExplanationType\n",
    "from IPython.display import display, Markdown\n",
    "import matplotlib.pyplot as plt"
   ]
  },
  {
   "cell_type": "markdown",
   "metadata": {
    "_uuid": "a4490db86a8bb5bdc7bc81d17da9f0a3b690b90c"
   },
   "source": [
    "# Loading the Explanations Reports\n",
    "\n",
    "To load the report, we need to know the use case ID ('readmission') and the scan ID.\n",
    "\n",
    "List the available use cases, and the scans within the 'readmission' use case."
   ]
  },
  {
   "cell_type": "code",
   "execution_count": 2,
   "metadata": {},
   "outputs": [
    {
     "name": "stdout",
     "output_type": "stream",
     "text": [
      "              date        evals       scan id\n",
      "0  20211012T191107  explanation  9bdb2bc8dfd5\n",
      "1  20211012T190847  explanation  56c3cf74279e\n"
     ]
    }
   ],
   "source": [
    "reader = ScanReportReader(\"reports\")\n",
    "reader.list_usecases()\n",
    "scans = reader.list_scans('readmission')\n",
    "data=[[s['date'], ', '.join(s['reportTypes']), s['id']] for s in scans]\n",
    "df = pd.DataFrame(data, columns=['date', 'evals', 'scan id']).sort_values(by=['date'], ascending=False)\n",
    "print(df)"
   ]
  },
  {
   "cell_type": "markdown",
   "metadata": {},
   "source": [
    "Below we load the two latest explanation scans. This notebook assumes that it is being run directly after the [previous notebook](patient-readmission-sampling-scan.ipynb). was did not have access to the model. "
   ]
  },
  {
   "cell_type": "code",
   "execution_count": 3,
   "metadata": {},
   "outputs": [],
   "source": [
    "def _verify_sampling_scan_without_model(scan):\n",
    "    scan_id = scan['explanation']['logit']['scan']['scan_id']\n",
    "    is_sampling = scan['explanation']['logit']['sampling_explanations']\n",
    "    no_model_access = scan['explanation']['logit'].get('no_model_access', False)\n",
    "    assert is_sampling and no_model_access, f'Scan {scan_id} did not involve counterfactual sampling without model access! Was the previous notebook run before this?'\n",
    "    \n",
    "    \n",
    "def _verify_sampling_scan_with_model(scan):\n",
    "    scan_id = scan['explanation']['logit']['scan']['scan_id']\n",
    "    is_sampling = scan['explanation']['logit']['sampling_explanations']\n",
    "    no_model_access = scan['explanation']['logit'].get('no_model_access', False)\n",
    "    assert is_sampling and not no_model_access, f'Scan {scan_id} did not involve counterfactual sampling with model access! Was the previous notebook run before this?'\n",
    "\n",
    "\n",
    "latest_explanation = df[df.evals == 'explanation'].iloc[0]\n",
    "scan_without_model_access = reader.load_scan('readmission', latest_explanation['scan id'])\n",
    "_verify_sampling_scan_without_model(scan_without_model_access)\n",
    "\n",
    "previous_explanation = df[df.evals == 'explanation'].iloc[1]\n",
    "scan_with_model_access = reader.load_scan('readmission', previous_explanation['scan id'])\n",
    "_verify_sampling_scan_with_model(scan_with_model_access)"
   ]
  },
  {
   "cell_type": "markdown",
   "metadata": {},
   "source": [
    "# Extract the explanations\n",
    "\n",
    "In this section we'll construct a dataframe containing all of the original instances, and their counterfactuals. We'll then print out the first two for the logit and mlp models."
   ]
  },
  {
   "cell_type": "code",
   "execution_count": 4,
   "metadata": {},
   "outputs": [],
   "source": [
    "max_displayed = 1\n",
    "model = 'logit'\n",
    "pd.set_option('display.max_columns', None) # print all cols\n",
    "\n",
    "def display_explanations(df):\n",
    "    for row in range(1,max_displayed+1):\n",
    "        df_instances = df[(df['model']==model) & (df['row']==row)]\n",
    "        df_original = df_instances[df_instances['instance']=='original']\n",
    "        display(Markdown(f'### Explanation of model {model} prediction row {row}\\n'))\n",
    "        display(Markdown('**Original Instance**'))\n",
    "        display(df_original)\n",
    "        orig_prediction=df_original['prediction'].iloc[0]\n",
    "        display(Markdown(f'**Original Prediction**: {\"Readmitted\" if orig_prediction == 1 else \"Not Readmitted\"}'))\n",
    "        display(Markdown('### Counterfactual Changes'))\n",
    "        changes = counterfactual_changes(df_instances)\n",
    "        display(changes)"
   ]
  },
  {
   "cell_type": "code",
   "execution_count": 5,
   "metadata": {},
   "outputs": [],
   "source": [
    "%matplotlib inline\n",
    "\n",
    "def plot_histogram(axs, top_10_features, model_id):\n",
    "    axs.bar(top_10_features.index, top_10_features.values)\n",
    "    axs.set_xticks(top_10_features.index)\n",
    "    axs.set_xlabel(\"Feature Name\", fontsize=15)\n",
    "    axs.set_title(f\"Model {model_id}\", fontsize=15)\n",
    "    axs.set_ylabel(\"Frequency of Change\", fontsize=15)\n",
    "    \n",
    "def plot_feature_change_frequency(explanation_df):\n",
    "    feature_freq = counterfactual_feature_frequency(explanation_df)\n",
    "    top_10_features = feature_freq.nlargest(10)\n",
    "\n",
    "    fig, (axs1) = plt.subplots(1, 1, figsize=[18,6])\n",
    "    fig.suptitle('Frequency of feature change', fontsize=20)\n",
    "    plot_histogram(axs1, top_10_features, model)\n",
    "    \n",
    "    fig.tight_layout()\n",
    "    plt.show()"
   ]
  },
  {
   "cell_type": "markdown",
   "metadata": {},
   "source": [
    "## Extract the explanations for the scan with model access\n",
    "\n",
    "Construct the dataframe containing the original instances and the counterfactual instances. Then print out the changed features for the first explained predictions of the logit model."
   ]
  },
  {
   "cell_type": "code",
   "execution_count": 6,
   "metadata": {},
   "outputs": [
    {
     "data": {
      "text/markdown": [
       "### Explanation of model logit prediction row 1\n"
      ],
      "text/plain": [
       "<IPython.core.display.Markdown object>"
      ]
     },
     "metadata": {},
     "output_type": "display_data"
    },
    {
     "data": {
      "text/markdown": [
       "**Original Instance**"
      ],
      "text/plain": [
       "<IPython.core.display.Markdown object>"
      ]
     },
     "metadata": {},
     "output_type": "display_data"
    },
    {
     "data": {
      "text/html": [
       "<div>\n",
       "<style scoped>\n",
       "    .dataframe tbody tr th:only-of-type {\n",
       "        vertical-align: middle;\n",
       "    }\n",
       "\n",
       "    .dataframe tbody tr th {\n",
       "        vertical-align: top;\n",
       "    }\n",
       "\n",
       "    .dataframe thead th {\n",
       "        text-align: right;\n",
       "    }\n",
       "</style>\n",
       "<table border=\"1\" class=\"dataframe\">\n",
       "  <thead>\n",
       "    <tr style=\"text-align: right;\">\n",
       "      <th></th>\n",
       "      <th>model</th>\n",
       "      <th>row</th>\n",
       "      <th>instance</th>\n",
       "      <th>cf_num</th>\n",
       "      <th>cf_type</th>\n",
       "      <th>prediction</th>\n",
       "      <th>fitness</th>\n",
       "      <th>contribution</th>\n",
       "      <th>age</th>\n",
       "      <th>time_in_hospital</th>\n",
       "      <th>num_lab_procedures</th>\n",
       "      <th>num_procedures</th>\n",
       "      <th>num_medications</th>\n",
       "      <th>number_outpatient</th>\n",
       "      <th>number_emergency</th>\n",
       "      <th>number_inpatient</th>\n",
       "      <th>number_diagnoses</th>\n",
       "      <th>race</th>\n",
       "      <th>gender</th>\n",
       "      <th>diag_1</th>\n",
       "      <th>diag_2</th>\n",
       "      <th>diag_3</th>\n",
       "      <th>max_glu_serum</th>\n",
       "      <th>A1Cresult</th>\n",
       "      <th>metformin</th>\n",
       "      <th>repaglinide</th>\n",
       "      <th>nateglinide</th>\n",
       "      <th>chlorpropamide</th>\n",
       "      <th>glimepiride</th>\n",
       "      <th>acetohexamide</th>\n",
       "      <th>glipizide</th>\n",
       "      <th>glyburide</th>\n",
       "      <th>tolbutamide</th>\n",
       "      <th>pioglitazone</th>\n",
       "      <th>rosiglitazone</th>\n",
       "      <th>acarbose</th>\n",
       "      <th>miglitol</th>\n",
       "      <th>troglitazone</th>\n",
       "      <th>tolazamide</th>\n",
       "      <th>insulin</th>\n",
       "      <th>glyburide-metformin</th>\n",
       "      <th>glipizide-metformin</th>\n",
       "      <th>glimepiride-pioglitazone</th>\n",
       "      <th>metformin-rosiglitazone</th>\n",
       "      <th>metformin-pioglitazone</th>\n",
       "      <th>change</th>\n",
       "      <th>diabetesMed</th>\n",
       "    </tr>\n",
       "  </thead>\n",
       "  <tbody>\n",
       "    <tr>\n",
       "      <th>0</th>\n",
       "      <td>logit</td>\n",
       "      <td>1</td>\n",
       "      <td>original</td>\n",
       "      <td>0</td>\n",
       "      <td>original prediction</td>\n",
       "      <td>0</td>\n",
       "      <td>0.0</td>\n",
       "      <td>NaN</td>\n",
       "      <td>35</td>\n",
       "      <td>7</td>\n",
       "      <td>7</td>\n",
       "      <td>0</td>\n",
       "      <td>26</td>\n",
       "      <td>0</td>\n",
       "      <td>0</td>\n",
       "      <td>0</td>\n",
       "      <td>9</td>\n",
       "      <td>AfricanAmerican</td>\n",
       "      <td>Female</td>\n",
       "      <td>Respiratory</td>\n",
       "      <td>Circulatory</td>\n",
       "      <td>Circulatory</td>\n",
       "      <td>None</td>\n",
       "      <td>None</td>\n",
       "      <td>No</td>\n",
       "      <td>No</td>\n",
       "      <td>No</td>\n",
       "      <td>No</td>\n",
       "      <td>No</td>\n",
       "      <td>No</td>\n",
       "      <td>No</td>\n",
       "      <td>No</td>\n",
       "      <td>No</td>\n",
       "      <td>Steady</td>\n",
       "      <td>No</td>\n",
       "      <td>No</td>\n",
       "      <td>No</td>\n",
       "      <td>No</td>\n",
       "      <td>No</td>\n",
       "      <td>Steady</td>\n",
       "      <td>No</td>\n",
       "      <td>No</td>\n",
       "      <td>No</td>\n",
       "      <td>No</td>\n",
       "      <td>No</td>\n",
       "      <td>Ch</td>\n",
       "      <td>Yes</td>\n",
       "    </tr>\n",
       "  </tbody>\n",
       "</table>\n",
       "</div>"
      ],
      "text/plain": [
       "   model  row  instance  cf_num              cf_type  prediction  fitness  \\\n",
       "0  logit    1  original       0  original prediction           0      0.0   \n",
       "\n",
       "   contribution  age  time_in_hospital  num_lab_procedures  num_procedures  \\\n",
       "0           NaN   35                 7                   7               0   \n",
       "\n",
       "   num_medications  number_outpatient  number_emergency  number_inpatient  \\\n",
       "0               26                  0                 0                 0   \n",
       "\n",
       "   number_diagnoses             race  gender       diag_1       diag_2  \\\n",
       "0                 9  AfricanAmerican  Female  Respiratory  Circulatory   \n",
       "\n",
       "        diag_3 max_glu_serum A1Cresult metformin repaglinide nateglinide  \\\n",
       "0  Circulatory          None      None        No          No          No   \n",
       "\n",
       "  chlorpropamide glimepiride acetohexamide glipizide glyburide tolbutamide  \\\n",
       "0             No          No            No        No        No          No   \n",
       "\n",
       "  pioglitazone rosiglitazone acarbose miglitol troglitazone tolazamide  \\\n",
       "0       Steady            No       No       No           No         No   \n",
       "\n",
       "  insulin glyburide-metformin glipizide-metformin glimepiride-pioglitazone  \\\n",
       "0  Steady                  No                  No                       No   \n",
       "\n",
       "  metformin-rosiglitazone metformin-pioglitazone change diabetesMed  \n",
       "0                      No                     No     Ch         Yes  "
      ]
     },
     "metadata": {},
     "output_type": "display_data"
    },
    {
     "data": {
      "text/markdown": [
       "**Original Prediction**: Not Readmitted"
      ],
      "text/plain": [
       "<IPython.core.display.Markdown object>"
      ]
     },
     "metadata": {},
     "output_type": "display_data"
    },
    {
     "data": {
      "text/markdown": [
       "### Counterfactual Changes"
      ],
      "text/plain": [
       "<IPython.core.display.Markdown object>"
      ]
     },
     "metadata": {},
     "output_type": "display_data"
    },
    {
     "data": {
      "text/html": [
       "<div>\n",
       "<style scoped>\n",
       "    .dataframe tbody tr th:only-of-type {\n",
       "        vertical-align: middle;\n",
       "    }\n",
       "\n",
       "    .dataframe tbody tr th {\n",
       "        vertical-align: top;\n",
       "    }\n",
       "\n",
       "    .dataframe thead th {\n",
       "        text-align: right;\n",
       "    }\n",
       "</style>\n",
       "<table border=\"1\" class=\"dataframe\">\n",
       "  <thead>\n",
       "    <tr style=\"text-align: right;\">\n",
       "      <th></th>\n",
       "      <th>instance</th>\n",
       "      <th>cf_num</th>\n",
       "      <th>cf_type</th>\n",
       "      <th>prediction</th>\n",
       "      <th>fitness</th>\n",
       "      <th>number_inpatient</th>\n",
       "    </tr>\n",
       "  </thead>\n",
       "  <tbody>\n",
       "    <tr>\n",
       "      <th>0</th>\n",
       "      <td>original</td>\n",
       "      <td>0</td>\n",
       "      <td>original prediction</td>\n",
       "      <td>0</td>\n",
       "      <td>0.000000</td>\n",
       "      <td>0</td>\n",
       "    </tr>\n",
       "    <tr>\n",
       "      <th>0</th>\n",
       "      <td>counterfactual</td>\n",
       "      <td>1</td>\n",
       "      <td>prediction changed</td>\n",
       "      <td>1</td>\n",
       "      <td>1.262901</td>\n",
       "      <td>1</td>\n",
       "    </tr>\n",
       "  </tbody>\n",
       "</table>\n",
       "</div>"
      ],
      "text/plain": [
       "         instance  cf_num              cf_type  prediction   fitness  \\\n",
       "0        original       0  original prediction           0  0.000000   \n",
       "0  counterfactual       1   prediction changed           1  1.262901   \n",
       "\n",
       "   number_inpatient  \n",
       "0                 0  \n",
       "0                 1  "
      ]
     },
     "metadata": {},
     "output_type": "display_data"
    },
    {
     "data": {
      "image/png": "[encoded data removed]",
      "text/plain": [
       "<Figure size 1296x432 with 1 Axes>"
      ]
     },
     "metadata": {
      "needs_background": "light"
     },
     "output_type": "display_data"
    }
   ],
   "source": [
    "df_with_model_access = construct_explanations_dataframe(explanations(scan_with_model_access))\n",
    "display_explanations(df_with_model_access)\n",
    "plot_feature_change_frequency(df_with_model_access)"
   ]
  },
  {
   "cell_type": "markdown",
   "metadata": {},
   "source": [
    "## Extract the explanations for the scan without model access\n",
    "\n",
    "Construct the dataframe containing the original instances and the counterfactual instances. Then print out the changed features for the first explained prediction of the logit model."
   ]
  },
  {
   "cell_type": "code",
   "execution_count": 7,
   "metadata": {},
   "outputs": [
    {
     "data": {
      "text/markdown": [
       "### Explanation of model logit prediction row 1\n"
      ],
      "text/plain": [
       "<IPython.core.display.Markdown object>"
      ]
     },
     "metadata": {},
     "output_type": "display_data"
    },
    {
     "data": {
      "text/markdown": [
       "**Original Instance**"
      ],
      "text/plain": [
       "<IPython.core.display.Markdown object>"
      ]
     },
     "metadata": {},
     "output_type": "display_data"
    },
    {
     "data": {
      "text/html": [
       "<div>\n",
       "<style scoped>\n",
       "    .dataframe tbody tr th:only-of-type {\n",
       "        vertical-align: middle;\n",
       "    }\n",
       "\n",
       "    .dataframe tbody tr th {\n",
       "        vertical-align: top;\n",
       "    }\n",
       "\n",
       "    .dataframe thead th {\n",
       "        text-align: right;\n",
       "    }\n",
       "</style>\n",
       "<table border=\"1\" class=\"dataframe\">\n",
       "  <thead>\n",
       "    <tr style=\"text-align: right;\">\n",
       "      <th></th>\n",
       "      <th>model</th>\n",
       "      <th>row</th>\n",
       "      <th>instance</th>\n",
       "      <th>cf_num</th>\n",
       "      <th>cf_type</th>\n",
       "      <th>prediction</th>\n",
       "      <th>fitness</th>\n",
       "      <th>contribution</th>\n",
       "      <th>age</th>\n",
       "      <th>time_in_hospital</th>\n",
       "      <th>num_lab_procedures</th>\n",
       "      <th>num_procedures</th>\n",
       "      <th>num_medications</th>\n",
       "      <th>number_outpatient</th>\n",
       "      <th>number_emergency</th>\n",
       "      <th>number_inpatient</th>\n",
       "      <th>number_diagnoses</th>\n",
       "      <th>race</th>\n",
       "      <th>gender</th>\n",
       "      <th>diag_1</th>\n",
       "      <th>diag_2</th>\n",
       "      <th>diag_3</th>\n",
       "      <th>max_glu_serum</th>\n",
       "      <th>A1Cresult</th>\n",
       "      <th>metformin</th>\n",
       "      <th>repaglinide</th>\n",
       "      <th>nateglinide</th>\n",
       "      <th>chlorpropamide</th>\n",
       "      <th>glimepiride</th>\n",
       "      <th>acetohexamide</th>\n",
       "      <th>glipizide</th>\n",
       "      <th>glyburide</th>\n",
       "      <th>tolbutamide</th>\n",
       "      <th>pioglitazone</th>\n",
       "      <th>rosiglitazone</th>\n",
       "      <th>acarbose</th>\n",
       "      <th>miglitol</th>\n",
       "      <th>troglitazone</th>\n",
       "      <th>tolazamide</th>\n",
       "      <th>insulin</th>\n",
       "      <th>glyburide-metformin</th>\n",
       "      <th>glipizide-metformin</th>\n",
       "      <th>glimepiride-pioglitazone</th>\n",
       "      <th>metformin-rosiglitazone</th>\n",
       "      <th>metformin-pioglitazone</th>\n",
       "      <th>change</th>\n",
       "      <th>diabetesMed</th>\n",
       "    </tr>\n",
       "  </thead>\n",
       "  <tbody>\n",
       "    <tr>\n",
       "      <th>0</th>\n",
       "      <td>logit</td>\n",
       "      <td>1</td>\n",
       "      <td>original</td>\n",
       "      <td>0</td>\n",
       "      <td>original prediction</td>\n",
       "      <td>0.0</td>\n",
       "      <td>0.0</td>\n",
       "      <td>NaN</td>\n",
       "      <td>35</td>\n",
       "      <td>7</td>\n",
       "      <td>7</td>\n",
       "      <td>0</td>\n",
       "      <td>26</td>\n",
       "      <td>0</td>\n",
       "      <td>0</td>\n",
       "      <td>0</td>\n",
       "      <td>9</td>\n",
       "      <td>AfricanAmerican</td>\n",
       "      <td>Female</td>\n",
       "      <td>Respiratory</td>\n",
       "      <td>Circulatory</td>\n",
       "      <td>Circulatory</td>\n",
       "      <td>None</td>\n",
       "      <td>None</td>\n",
       "      <td>No</td>\n",
       "      <td>No</td>\n",
       "      <td>No</td>\n",
       "      <td>No</td>\n",
       "      <td>No</td>\n",
       "      <td>No</td>\n",
       "      <td>No</td>\n",
       "      <td>No</td>\n",
       "      <td>No</td>\n",
       "      <td>Steady</td>\n",
       "      <td>No</td>\n",
       "      <td>No</td>\n",
       "      <td>No</td>\n",
       "      <td>No</td>\n",
       "      <td>No</td>\n",
       "      <td>Steady</td>\n",
       "      <td>No</td>\n",
       "      <td>No</td>\n",
       "      <td>No</td>\n",
       "      <td>No</td>\n",
       "      <td>No</td>\n",
       "      <td>Ch</td>\n",
       "      <td>Yes</td>\n",
       "    </tr>\n",
       "  </tbody>\n",
       "</table>\n",
       "</div>"
      ],
      "text/plain": [
       "   model  row  instance  cf_num              cf_type  prediction  fitness  \\\n",
       "0  logit    1  original       0  original prediction         0.0      0.0   \n",
       "\n",
       "   contribution  age  time_in_hospital  num_lab_procedures  num_procedures  \\\n",
       "0           NaN   35                 7                   7               0   \n",
       "\n",
       "   num_medications  number_outpatient  number_emergency  number_inpatient  \\\n",
       "0               26                  0                 0                 0   \n",
       "\n",
       "   number_diagnoses             race  gender       diag_1       diag_2  \\\n",
       "0                 9  AfricanAmerican  Female  Respiratory  Circulatory   \n",
       "\n",
       "        diag_3 max_glu_serum A1Cresult metformin repaglinide nateglinide  \\\n",
       "0  Circulatory          None      None        No          No          No   \n",
       "\n",
       "  chlorpropamide glimepiride acetohexamide glipizide glyburide tolbutamide  \\\n",
       "0             No          No            No        No        No          No   \n",
       "\n",
       "  pioglitazone rosiglitazone acarbose miglitol troglitazone tolazamide  \\\n",
       "0       Steady            No       No       No           No         No   \n",
       "\n",
       "  insulin glyburide-metformin glipizide-metformin glimepiride-pioglitazone  \\\n",
       "0  Steady                  No                  No                       No   \n",
       "\n",
       "  metformin-rosiglitazone metformin-pioglitazone change diabetesMed  \n",
       "0                      No                     No     Ch         Yes  "
      ]
     },
     "metadata": {},
     "output_type": "display_data"
    },
    {
     "data": {
      "text/markdown": [
       "**Original Prediction**: Not Readmitted"
      ],
      "text/plain": [
       "<IPython.core.display.Markdown object>"
      ]
     },
     "metadata": {},
     "output_type": "display_data"
    },
    {
     "data": {
      "text/markdown": [
       "### Counterfactual Changes"
      ],
      "text/plain": [
       "<IPython.core.display.Markdown object>"
      ]
     },
     "metadata": {},
     "output_type": "display_data"
    },
    {
     "data": {
      "text/html": [
       "<div>\n",
       "<style scoped>\n",
       "    .dataframe tbody tr th:only-of-type {\n",
       "        vertical-align: middle;\n",
       "    }\n",
       "\n",
       "    .dataframe tbody tr th {\n",
       "        vertical-align: top;\n",
       "    }\n",
       "\n",
       "    .dataframe thead th {\n",
       "        text-align: right;\n",
       "    }\n",
       "</style>\n",
       "<table border=\"1\" class=\"dataframe\">\n",
       "  <thead>\n",
       "    <tr style=\"text-align: right;\">\n",
       "      <th></th>\n",
       "      <th>instance</th>\n",
       "      <th>cf_num</th>\n",
       "      <th>cf_type</th>\n",
       "      <th>prediction</th>\n",
       "      <th>fitness</th>\n",
       "      <th>age</th>\n",
       "      <th>num_lab_procedures</th>\n",
       "      <th>num_medications</th>\n",
       "      <th>number_inpatient</th>\n",
       "      <th>number_diagnoses</th>\n",
       "      <th>diag_2</th>\n",
       "      <th>pioglitazone</th>\n",
       "      <th>insulin</th>\n",
       "    </tr>\n",
       "  </thead>\n",
       "  <tbody>\n",
       "    <tr>\n",
       "      <th>0</th>\n",
       "      <td>original</td>\n",
       "      <td>0</td>\n",
       "      <td>original prediction</td>\n",
       "      <td>0.0</td>\n",
       "      <td>0.000000</td>\n",
       "      <td>35</td>\n",
       "      <td>7</td>\n",
       "      <td>26</td>\n",
       "      <td>0</td>\n",
       "      <td>9</td>\n",
       "      <td>Circulatory</td>\n",
       "      <td>Steady</td>\n",
       "      <td>Steady</td>\n",
       "    </tr>\n",
       "    <tr>\n",
       "      <th>0</th>\n",
       "      <td>counterfactual</td>\n",
       "      <td>1</td>\n",
       "      <td>prediction changed</td>\n",
       "      <td>1.0</td>\n",
       "      <td>0.115974</td>\n",
       "      <td>45</td>\n",
       "      <td>36</td>\n",
       "      <td>29</td>\n",
       "      <td>1</td>\n",
       "      <td>8</td>\n",
       "      <td>Respiratory</td>\n",
       "      <td>No</td>\n",
       "      <td>Down</td>\n",
       "    </tr>\n",
       "  </tbody>\n",
       "</table>\n",
       "</div>"
      ],
      "text/plain": [
       "         instance  cf_num              cf_type  prediction   fitness  age  \\\n",
       "0        original       0  original prediction         0.0  0.000000   35   \n",
       "0  counterfactual       1   prediction changed         1.0  0.115974   45   \n",
       "\n",
       "   num_lab_procedures  num_medications  number_inpatient  number_diagnoses  \\\n",
       "0                   7               26                 0                 9   \n",
       "0                  36               29                 1                 8   \n",
       "\n",
       "        diag_2 pioglitazone insulin  \n",
       "0  Circulatory       Steady  Steady  \n",
       "0  Respiratory           No    Down  "
      ]
     },
     "metadata": {},
     "output_type": "display_data"
    },
    {
     "data": {
      "image/png": "[encoded data removed]",
      "text/plain": [
       "<Figure size 1296x432 with 1 Axes>"
      ]
     },
     "metadata": {
      "needs_background": "light"
     },
     "output_type": "display_data"
    }
   ],
   "source": [
    "df_without_model_access = construct_explanations_dataframe(explanations(scan_without_model_access))\n",
    "display_explanations(df_without_model_access)\n",
    "plot_feature_change_frequency(df_without_model_access)"
   ]
  },
  {
   "cell_type": "markdown",
   "metadata": {},
   "source": [
    "### Comparing the frequency of feature changes between the two scans\n",
    "\n",
    "Below we collect the 15 most frequenty changed features from the scan with model access, and plot the frequency of change in both the scan with and without model access to make a direct comparison."
   ]
  },
  {
   "cell_type": "code",
   "execution_count": 8,
   "metadata": {},
   "outputs": [
    {
     "data": {
      "image/png": "[encoded data removed]",
      "text/plain": [
       "<Figure size 2160x432 with 1 Axes>"
      ]
     },
     "metadata": {
      "needs_background": "light"
     },
     "output_type": "display_data"
    }
   ],
   "source": [
    "freq_without_model = counterfactual_feature_frequency(df_without_model_access)\n",
    "freq_with_model = counterfactual_feature_frequency(df_with_model_access)\n",
    "\n",
    "def plot_histogram_together(axs, model_id):\n",
    "    n = 15\n",
    "    x = np.arange(n)  # the label locations\n",
    "    width = 0.35  # the width of the bars\n",
    "\n",
    "    # collect top N features from the scan with a model\n",
    "    top_n_features = freq_with_model.nlargest(n)\n",
    "    axs.bar(x - width/2, top_n_features.values, width, label='with model access')\n",
    "    axs.bar(x + width/2, freq_without_model[top_n_features.index.values], width, label='without model access')\n",
    "\n",
    "    axs.set_xticks(x)\n",
    "    axs.set_xticklabels(top_n_features.index)\n",
    "    axs.set_xlabel(\"Feature Name\", fontsize=15)\n",
    "    axs.set_title(f\"Model {model_id}\", fontsize=15)\n",
    "    axs.set_ylabel(\"Frequency of Change\", fontsize=15)\n",
    "    axs.legend()\n",
    "    \n",
    "    \n",
    "def plot_feature_change_frequency():\n",
    "    fig, (axs1) = plt.subplots(1, 1, figsize=[30,6])\n",
    "    fig.suptitle('Frequency of feature change', fontsize=20)\n",
    "    plot_histogram_together(axs1, model)\n",
    "    \n",
    "    fig.tight_layout()\n",
    "    plt.show()\n",
    "    \n",
    "plot_feature_change_frequency()"
   ]
  },
  {
   "cell_type": "markdown",
   "metadata": {},
   "source": [
    "Notice in the above plot that each feature was changed more often in the scan that did not have model access, compared to the scan that did. This is because when Certifai has access to the model, unnecessary feature changes can be removed from the counterfactual that is found within the dataset. "
   ]
  },
  {
   "cell_type": "code",
   "execution_count": null,
   "metadata": {},
   "outputs": [],
   "source": []
  }
 ],
 "metadata": {
  "kernelspec": {
   "display_name": "Python 3",
   "language": "python",
   "name": "python3"
  },
  "language_info": {
   "codemirror_mode": {
    "name": "ipython",
    "version": 3
   },
   "file_extension": ".py",
   "mimetype": "text/x-python",
   "name": "python",
   "nbconvert_exporter": "python",
   "pygments_lexer": "ipython3",
   "version": "3.6.13"
  }
 },
 "nbformat": 4,
 "nbformat_minor": 4
}
