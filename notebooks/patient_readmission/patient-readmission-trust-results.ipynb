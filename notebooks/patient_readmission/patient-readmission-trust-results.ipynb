{
 "cells": [
  {
   "cell_type": "markdown",
   "metadata": {
    "_uuid": "90d890b7e4ff4dbbb27e2b59e50e942c7bb0078c"
   },
   "source": [
    "Copyright (c) 2020. Cognitive Scale Inc. All rights reserved.\n",
    "Licensed under CognitiveScale Example Code [License](https://github.com/CognitiveScale/cortex-certifai-examples/blob/7998b8a481fccd467463deb1fc46d19622079b0e/LICENSE.md)\n",
    "\n",
    "# Introduction\n",
    "\n",
    "This fifth notebook shows you how to explore the trust score results in a notebook. If you have not already done so, please run the [fourth notebook](patient-readmission-trust-scan.ipynb) to scan the models for their trust scores.\n",
    "\n",
    "In this notebook, we will:\n",
    "1. Load the previously saved trust score reports\n",
    "2. Convert the results into a dataframe and display them\n"
   ]
  },
  {
   "cell_type": "code",
   "execution_count": 1,
   "metadata": {
    "_kg_hide-input": true,
    "_kg_hide-output": true,
    "_uuid": "fba09007b76132d605daa699b39a5fc92ff87ee1"
   },
   "outputs": [],
   "source": [
    "import numpy as np\n",
    "import pandas as pd\n",
    "from pprint import pprint\n",
    "\n",
    "from certifai.scanner.report_reader import ScanReportReader\n",
    "from certifai.scanner.report_utils import scores, construct_scores_dataframe\n",
    "from certifai.scanner.builder import ExplanationType\n",
    "from IPython.display import display, Markdown"
   ]
  },
  {
   "cell_type": "markdown",
   "metadata": {
    "_uuid": "a4490db86a8bb5bdc7bc81d17da9f0a3b690b90c"
   },
   "source": [
    "# Loading the Trust Score Reports\n",
    "\n",
    "To load the reports, we need to know the use case ID ('readmission') and the scan ID.\n",
    "\n",
    "List the available use cases, and the scans within the 'readmission' use case."
   ]
  },
  {
   "cell_type": "code",
   "execution_count": 2,
   "metadata": {},
   "outputs": [
    {
     "name": "stdout",
     "output_type": "stream",
     "text": [
      "              date                                      evals       scan id\n",
      "0  20201102T134851  explainability, fairness, atx, robustness  eafa5614d892\n",
      "1  20201102T131236                                explanation  c0e07952e6d6\n",
      "2  20201102T103533                                explanation  df7a42f2ab84\n",
      "3  20201102T102839                                explanation  b6de685a2712\n",
      "4  20201016T132038                                explanation  5683ba38b998\n",
      "5  20201011T151543  atx, fairness, robustness, explainability  4b13c55a4131\n",
      "6  20201011T141903                                explanation  7a2e8b64cbd6\n"
     ]
    }
   ],
   "source": [
    "reader = ScanReportReader(\"reports\")\n",
    "reader.list_usecases()\n",
    "scans = reader.list_scans('readmission')\n",
    "data=[[s['date'], ', '.join(s['reportTypes']), s['id']] for s in scans]\n",
    "df = pd.DataFrame(data, columns=['date', 'evals', 'scan id']).sort_values(by=['date'], ascending=False)\n",
    "print(df)"
   ]
  },
  {
   "cell_type": "raw",
   "metadata": {},
   "source": [
    "Locate the latest trust score scan and load it."
   ]
  },
  {
   "cell_type": "code",
   "execution_count": 3,
   "metadata": {},
   "outputs": [],
   "source": [
    "latest_scan = df[df['evals'].str.contains('fairness') & df['evals'].str.contains('robustness')].iloc[0]\n",
    "results = reader.load_scan('readmission', latest_scan['scan id'])"
   ]
  },
  {
   "cell_type": "markdown",
   "metadata": {},
   "source": [
    "# Extract the results\n",
    "\n",
    "In this section we'll construct dataframes containing the score results and display them."
   ]
  },
  {
   "cell_type": "markdown",
   "metadata": {},
   "source": [
    "Print out the fairness results."
   ]
  },
  {
   "cell_type": "code",
   "execution_count": 4,
   "metadata": {},
   "outputs": [
    {
     "data": {
      "text/html": [
       "<div>\n",
       "<style scoped>\n",
       "    .dataframe tbody tr th:only-of-type {\n",
       "        vertical-align: middle;\n",
       "    }\n",
       "\n",
       "    .dataframe tbody tr th {\n",
       "        vertical-align: top;\n",
       "    }\n",
       "\n",
       "    .dataframe thead th {\n",
       "        text-align: right;\n",
       "    }\n",
       "</style>\n",
       "<table border=\"1\" class=\"dataframe\">\n",
       "  <thead>\n",
       "    <tr style=\"text-align: right;\">\n",
       "      <th></th>\n",
       "      <th>context</th>\n",
       "      <th>type in []</th>\n",
       "      <th>fairness</th>\n",
       "      <th>Feature (age)</th>\n",
       "      <th>type in Feature (age)</th>\n",
       "      <th>Group details (15)</th>\n",
       "      <th>type in Feature (age)</th>\n",
       "      <th>Group details (25)</th>\n",
       "      <th>type in Feature (age)</th>\n",
       "      <th>Group details (35)</th>\n",
       "      <th>...</th>\n",
       "      <th>type in Feature (race)</th>\n",
       "      <th>Group details (Asian)</th>\n",
       "      <th>type in Feature (race)</th>\n",
       "      <th>Group details (Caucasian)</th>\n",
       "      <th>type in Feature (race)</th>\n",
       "      <th>Group details (Hispanic)</th>\n",
       "      <th>type in Feature (race)</th>\n",
       "      <th>Group details (Other)</th>\n",
       "      <th>type in Feature (race)</th>\n",
       "      <th>Group details (nan)</th>\n",
       "    </tr>\n",
       "  </thead>\n",
       "  <tbody>\n",
       "    <tr>\n",
       "      <th>mlp (burden)</th>\n",
       "      <td>mlp</td>\n",
       "      <td>burden</td>\n",
       "      <td>71.720752</td>\n",
       "      <td>75.494891</td>\n",
       "      <td>burden</td>\n",
       "      <td>0.056508</td>\n",
       "      <td>burden</td>\n",
       "      <td>0.132073</td>\n",
       "      <td>burden</td>\n",
       "      <td>0.087689</td>\n",
       "      <td>...</td>\n",
       "      <td>burden</td>\n",
       "      <td>0.036425</td>\n",
       "      <td>burden</td>\n",
       "      <td>0.086156</td>\n",
       "      <td>burden</td>\n",
       "      <td>0.080362</td>\n",
       "      <td>burden</td>\n",
       "      <td>0.064237</td>\n",
       "      <td>burden</td>\n",
       "      <td>0.017340</td>\n",
       "    </tr>\n",
       "    <tr>\n",
       "      <th>logit (burden)</th>\n",
       "      <td>logit</td>\n",
       "      <td>burden</td>\n",
       "      <td>59.551743</td>\n",
       "      <td>59.686611</td>\n",
       "      <td>burden</td>\n",
       "      <td>0.031334</td>\n",
       "      <td>burden</td>\n",
       "      <td>0.218283</td>\n",
       "      <td>burden</td>\n",
       "      <td>0.101127</td>\n",
       "      <td>...</td>\n",
       "      <td>burden</td>\n",
       "      <td>0.029677</td>\n",
       "      <td>burden</td>\n",
       "      <td>0.100519</td>\n",
       "      <td>burden</td>\n",
       "      <td>0.075701</td>\n",
       "      <td>burden</td>\n",
       "      <td>0.054516</td>\n",
       "      <td>burden</td>\n",
       "      <td>0.017773</td>\n",
       "    </tr>\n",
       "  </tbody>\n",
       "</table>\n",
       "<p>2 rows × 42 columns</p>\n",
       "</div>"
      ],
      "text/plain": [
       "               context type in []   fairness  Feature (age)  \\\n",
       "mlp (burden)       mlp     burden  71.720752      75.494891   \n",
       "logit (burden)   logit     burden  59.551743      59.686611   \n",
       "\n",
       "               type in Feature (age)  Group details (15)  \\\n",
       "mlp (burden)                  burden            0.056508   \n",
       "logit (burden)                burden            0.031334   \n",
       "\n",
       "               type in Feature (age)  Group details (25)  \\\n",
       "mlp (burden)                  burden            0.132073   \n",
       "logit (burden)                burden            0.218283   \n",
       "\n",
       "               type in Feature (age)  Group details (35)  ...  \\\n",
       "mlp (burden)                  burden            0.087689  ...   \n",
       "logit (burden)                burden            0.101127  ...   \n",
       "\n",
       "               type in Feature (race)  Group details (Asian)  \\\n",
       "mlp (burden)                   burden               0.036425   \n",
       "logit (burden)                 burden               0.029677   \n",
       "\n",
       "               type in Feature (race)  Group details (Caucasian)  \\\n",
       "mlp (burden)                   burden                   0.086156   \n",
       "logit (burden)                 burden                   0.100519   \n",
       "\n",
       "               type in Feature (race)  Group details (Hispanic)  \\\n",
       "mlp (burden)                   burden                  0.080362   \n",
       "logit (burden)                 burden                  0.075701   \n",
       "\n",
       "               type in Feature (race)  Group details (Other)  \\\n",
       "mlp (burden)                   burden               0.064237   \n",
       "logit (burden)                 burden               0.054516   \n",
       "\n",
       "               type in Feature (race)  Group details (nan)  \n",
       "mlp (burden)                   burden             0.017340  \n",
       "logit (burden)                 burden             0.017773  \n",
       "\n",
       "[2 rows x 42 columns]"
      ]
     },
     "metadata": {},
     "output_type": "display_data"
    }
   ],
   "source": [
    "df = construct_scores_dataframe(scores('fairness', results), include_confidence=False)\n",
    "display(df)"
   ]
  },
  {
   "cell_type": "markdown",
   "metadata": {},
   "source": [
    "For an example of visualizing the fairness results in a chart, see the [fairness metrics notebook](https://raw.githubusercontent.com/CognitiveScale/cortex-certifai-examples/sdk-model-examples/notebooks/fairness_metrics)."
   ]
  },
  {
   "cell_type": "markdown",
   "metadata": {},
   "source": [
    "Print out the robustness scores."
   ]
  },
  {
   "cell_type": "code",
   "execution_count": 5,
   "metadata": {},
   "outputs": [
    {
     "data": {
      "text/html": [
       "<div>\n",
       "<style scoped>\n",
       "    .dataframe tbody tr th:only-of-type {\n",
       "        vertical-align: middle;\n",
       "    }\n",
       "\n",
       "    .dataframe tbody tr th {\n",
       "        vertical-align: top;\n",
       "    }\n",
       "\n",
       "    .dataframe thead th {\n",
       "        text-align: right;\n",
       "    }\n",
       "</style>\n",
       "<table border=\"1\" class=\"dataframe\">\n",
       "  <thead>\n",
       "    <tr style=\"text-align: right;\">\n",
       "      <th></th>\n",
       "      <th>context</th>\n",
       "      <th>robustness</th>\n",
       "      <th>robustness lower bound</th>\n",
       "      <th>robustness upper bound</th>\n",
       "    </tr>\n",
       "  </thead>\n",
       "  <tbody>\n",
       "    <tr>\n",
       "      <th>mlp</th>\n",
       "      <td>mlp</td>\n",
       "      <td>70.003655</td>\n",
       "      <td>65.077138</td>\n",
       "      <td>74.713251</td>\n",
       "    </tr>\n",
       "    <tr>\n",
       "      <th>logit</th>\n",
       "      <td>logit</td>\n",
       "      <td>80.816004</td>\n",
       "      <td>76.619526</td>\n",
       "      <td>84.575458</td>\n",
       "    </tr>\n",
       "  </tbody>\n",
       "</table>\n",
       "</div>"
      ],
      "text/plain": [
       "      context  robustness  robustness lower bound  robustness upper bound\n",
       "mlp       mlp   70.003655               65.077138               74.713251\n",
       "logit   logit   80.816004               76.619526               84.575458"
      ]
     },
     "metadata": {},
     "output_type": "display_data"
    }
   ],
   "source": [
    "df = construct_scores_dataframe(scores('robustness', results), include_confidence=True)\n",
    "display(df)"
   ]
  },
  {
   "cell_type": "markdown",
   "metadata": {},
   "source": [
    "Print out the explainability scores."
   ]
  },
  {
   "cell_type": "code",
   "execution_count": 6,
   "metadata": {},
   "outputs": [
    {
     "data": {
      "text/html": [
       "<div>\n",
       "<style scoped>\n",
       "    .dataframe tbody tr th:only-of-type {\n",
       "        vertical-align: middle;\n",
       "    }\n",
       "\n",
       "    .dataframe tbody tr th {\n",
       "        vertical-align: top;\n",
       "    }\n",
       "\n",
       "    .dataframe thead th {\n",
       "        text-align: right;\n",
       "    }\n",
       "</style>\n",
       "<table border=\"1\" class=\"dataframe\">\n",
       "  <thead>\n",
       "    <tr style=\"text-align: right;\">\n",
       "      <th></th>\n",
       "      <th>context</th>\n",
       "      <th>explainability</th>\n",
       "      <th>Num features (1)</th>\n",
       "      <th>Num features (10)</th>\n",
       "      <th>Num features (2)</th>\n",
       "      <th>Num features (3)</th>\n",
       "      <th>Num features (4)</th>\n",
       "      <th>Num features (5)</th>\n",
       "      <th>Num features (6)</th>\n",
       "      <th>Num features (7)</th>\n",
       "      <th>Num features (8)</th>\n",
       "      <th>Num features (9)</th>\n",
       "    </tr>\n",
       "  </thead>\n",
       "  <tbody>\n",
       "    <tr>\n",
       "      <th>mlp</th>\n",
       "      <td>mlp</td>\n",
       "      <td>97.265625</td>\n",
       "      <td>75.78125</td>\n",
       "      <td>0.0</td>\n",
       "      <td>23.4375</td>\n",
       "      <td>0.00000</td>\n",
       "      <td>0.78125</td>\n",
       "      <td>0.0</td>\n",
       "      <td>0.0</td>\n",
       "      <td>0.0</td>\n",
       "      <td>0.0</td>\n",
       "      <td>0.0</td>\n",
       "    </tr>\n",
       "    <tr>\n",
       "      <th>logit</th>\n",
       "      <td>logit</td>\n",
       "      <td>97.617188</td>\n",
       "      <td>77.34375</td>\n",
       "      <td>0.0</td>\n",
       "      <td>21.8750</td>\n",
       "      <td>0.78125</td>\n",
       "      <td>0.00000</td>\n",
       "      <td>0.0</td>\n",
       "      <td>0.0</td>\n",
       "      <td>0.0</td>\n",
       "      <td>0.0</td>\n",
       "      <td>0.0</td>\n",
       "    </tr>\n",
       "  </tbody>\n",
       "</table>\n",
       "</div>"
      ],
      "text/plain": [
       "      context  explainability  Num features (1)  Num features (10)  \\\n",
       "mlp       mlp       97.265625          75.78125                0.0   \n",
       "logit   logit       97.617188          77.34375                0.0   \n",
       "\n",
       "       Num features (2)  Num features (3)  Num features (4)  Num features (5)  \\\n",
       "mlp             23.4375           0.00000           0.78125               0.0   \n",
       "logit           21.8750           0.78125           0.00000               0.0   \n",
       "\n",
       "       Num features (6)  Num features (7)  Num features (8)  Num features (9)  \n",
       "mlp                 0.0               0.0               0.0               0.0  \n",
       "logit               0.0               0.0               0.0               0.0  "
      ]
     },
     "metadata": {},
     "output_type": "display_data"
    }
   ],
   "source": [
    "df = construct_scores_dataframe(scores('explainability', results), include_confidence=False)\n",
    "display(df)"
   ]
  }
 ],
 "metadata": {
  "kernelspec": {
   "display_name": "Python 3",
   "language": "python",
   "name": "python3"
  },
  "language_info": {
   "codemirror_mode": {
    "name": "ipython",
    "version": 3
   },
   "file_extension": ".py",
   "mimetype": "text/x-python",
   "name": "python",
   "nbconvert_exporter": "python",
   "pygments_lexer": "ipython3",
   "version": "3.6.12"
  }
 },
 "nbformat": 4,
 "nbformat_minor": 1
}
