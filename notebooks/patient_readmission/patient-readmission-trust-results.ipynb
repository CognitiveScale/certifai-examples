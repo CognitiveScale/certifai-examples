{
 "cells": [
  {
   "cell_type": "markdown",
   "metadata": {
    "_uuid": "90d890b7e4ff4dbbb27e2b59e50e942c7bb0078c"
   },
   "source": [
    "# Introduction\n",
    "\n",
    "This fifth notebook shows you how to explore the trust score results in a notebook. If you have not already done so, please run the [fourth notebook](patient-readmission-trust-scan.ipynb) to scan the models for their trust scores.\n",
    "\n",
    "In this notebook, we will:\n",
    "1. Load the previously saved trust score reports\n",
    "2. Convert the results into a dataframe and display them\n"
   ]
  },
  {
   "cell_type": "code",
   "execution_count": 1,
   "metadata": {
    "_kg_hide-input": true,
    "_kg_hide-output": true,
    "_uuid": "fba09007b76132d605daa699b39a5fc92ff87ee1"
   },
   "outputs": [],
   "source": [
    "import numpy as np\n",
    "import pandas as pd\n",
    "from pprint import pprint\n",
    "\n",
    "from certifai.scanner.report_reader import ScanReportReader\n",
    "from certifai.scanner.report_utils import scores, construct_scores_dataframe\n",
    "from certifai.scanner.builder import ExplanationType\n",
    "from IPython.display import display, Markdown"
   ]
  },
  {
   "cell_type": "markdown",
   "metadata": {
    "_uuid": "a4490db86a8bb5bdc7bc81d17da9f0a3b690b90c"
   },
   "source": [
    "# Loading the Trust Score Reports\n",
    "\n",
    "To load the reports, we need to know the use case ID ('readmission') and the scan ID.\n",
    "\n",
    "List the available use cases, and the scans within the 'readmission' use case."
   ]
  },
  {
   "cell_type": "code",
   "execution_count": 2,
   "metadata": {},
   "outputs": [
    {
     "name": "stdout",
     "output_type": "stream",
     "text": [
      "              date                                      evals       scan id\n",
      "0  20201005T121825  fairness, explainability, atx, robustness  5fe6e58129e1\n",
      "1  20201005T112538                                explanation  7ecad399901a\n"
     ]
    }
   ],
   "source": [
    "reader = ScanReportReader(\"reports\")\n",
    "reader.list_usecases()\n",
    "scans = reader.list_scans('readmission')\n",
    "data=[[s['date'], ', '.join(s['reportTypes']), s['id']] for s in scans]\n",
    "df = pd.DataFrame(data, columns=['date', 'evals', 'scan id']).sort_values(by=['date'], ascending=False)\n",
    "print(df)"
   ]
  },
  {
   "cell_type": "raw",
   "metadata": {},
   "source": [
    "Locate the latest trust score scan and load it."
   ]
  },
  {
   "cell_type": "code",
   "execution_count": 3,
   "metadata": {},
   "outputs": [],
   "source": [
    "latest_scan = df[df['evals'].str.contains('fairness') & df['evals'].str.contains('robustness')].iloc[0]\n",
    "results = reader.load_scan('readmission', latest_scan['scan id'])"
   ]
  },
  {
   "cell_type": "markdown",
   "metadata": {},
   "source": [
    "# Extract the results\n",
    "\n",
    "In this section we'll construct dataframes containing the score results and display them."
   ]
  },
  {
   "cell_type": "markdown",
   "metadata": {},
   "source": [
    "Print out the fairness results."
   ]
  },
  {
   "cell_type": "code",
   "execution_count": 4,
   "metadata": {},
   "outputs": [
    {
     "data": {
      "text/html": [
       "<div>\n",
       "<style scoped>\n",
       "    .dataframe tbody tr th:only-of-type {\n",
       "        vertical-align: middle;\n",
       "    }\n",
       "\n",
       "    .dataframe tbody tr th {\n",
       "        vertical-align: top;\n",
       "    }\n",
       "\n",
       "    .dataframe thead th {\n",
       "        text-align: right;\n",
       "    }\n",
       "</style>\n",
       "<table border=\"1\" class=\"dataframe\">\n",
       "  <thead>\n",
       "    <tr style=\"text-align: right;\">\n",
       "      <th></th>\n",
       "      <th>context</th>\n",
       "      <th>type</th>\n",
       "      <th>overall fairness</th>\n",
       "      <th>Feature (age)</th>\n",
       "      <th>Group details (15)</th>\n",
       "      <th>Group details (25)</th>\n",
       "      <th>Group details (35)</th>\n",
       "      <th>Group details (45)</th>\n",
       "      <th>Group details (5)</th>\n",
       "      <th>Group details (55)</th>\n",
       "      <th>...</th>\n",
       "      <th>Feature (gender)</th>\n",
       "      <th>Group details (Female)</th>\n",
       "      <th>Group details (Male)</th>\n",
       "      <th>Feature (race)</th>\n",
       "      <th>Group details (AfricanAmerican)</th>\n",
       "      <th>Group details (Asian)</th>\n",
       "      <th>Group details (Caucasian)</th>\n",
       "      <th>Group details (Hispanic)</th>\n",
       "      <th>Group details (Other)</th>\n",
       "      <th>Group details (nan)</th>\n",
       "    </tr>\n",
       "  </thead>\n",
       "  <tbody>\n",
       "    <tr>\n",
       "      <th>mlp (burden)</th>\n",
       "      <td>mlp</td>\n",
       "      <td>burden</td>\n",
       "      <td>70.769926</td>\n",
       "      <td>74.396909</td>\n",
       "      <td>0.058918</td>\n",
       "      <td>0.139530</td>\n",
       "      <td>0.077514</td>\n",
       "      <td>0.099075</td>\n",
       "      <td>0.007507</td>\n",
       "      <td>0.067173</td>\n",
       "      <td>...</td>\n",
       "      <td>96.291689</td>\n",
       "      <td>0.076911</td>\n",
       "      <td>0.073275</td>\n",
       "      <td>71.206339</td>\n",
       "      <td>0.076212</td>\n",
       "      <td>0.032217</td>\n",
       "      <td>0.089581</td>\n",
       "      <td>0.078510</td>\n",
       "      <td>0.067697</td>\n",
       "      <td>0.018265</td>\n",
       "    </tr>\n",
       "    <tr>\n",
       "      <th>logit (burden)</th>\n",
       "      <td>logit</td>\n",
       "      <td>burden</td>\n",
       "      <td>56.444162</td>\n",
       "      <td>56.522626</td>\n",
       "      <td>0.026345</td>\n",
       "      <td>0.232635</td>\n",
       "      <td>0.093680</td>\n",
       "      <td>0.124612</td>\n",
       "      <td>0.000499</td>\n",
       "      <td>0.056315</td>\n",
       "      <td>...</td>\n",
       "      <td>84.492817</td>\n",
       "      <td>0.089148</td>\n",
       "      <td>0.065302</td>\n",
       "      <td>64.472649</td>\n",
       "      <td>0.079077</td>\n",
       "      <td>0.024983</td>\n",
       "      <td>0.097083</td>\n",
       "      <td>0.065481</td>\n",
       "      <td>0.067120</td>\n",
       "      <td>0.014053</td>\n",
       "    </tr>\n",
       "  </tbody>\n",
       "</table>\n",
       "<p>2 rows × 24 columns</p>\n",
       "</div>"
      ],
      "text/plain": [
       "               context    type  overall fairness  Feature (age)  \\\n",
       "mlp (burden)       mlp  burden         70.769926      74.396909   \n",
       "logit (burden)   logit  burden         56.444162      56.522626   \n",
       "\n",
       "                Group details (15)  Group details (25)  Group details (35)  \\\n",
       "mlp (burden)              0.058918            0.139530            0.077514   \n",
       "logit (burden)            0.026345            0.232635            0.093680   \n",
       "\n",
       "                Group details (45)  Group details (5)  Group details (55)  \\\n",
       "mlp (burden)              0.099075           0.007507            0.067173   \n",
       "logit (burden)            0.124612           0.000499            0.056315   \n",
       "\n",
       "                ...  Feature (gender)  Group details (Female)  \\\n",
       "mlp (burden)    ...         96.291689                0.076911   \n",
       "logit (burden)  ...         84.492817                0.089148   \n",
       "\n",
       "                Group details (Male)  Feature (race)  \\\n",
       "mlp (burden)                0.073275       71.206339   \n",
       "logit (burden)              0.065302       64.472649   \n",
       "\n",
       "                Group details (AfricanAmerican)  Group details (Asian)  \\\n",
       "mlp (burden)                           0.076212               0.032217   \n",
       "logit (burden)                         0.079077               0.024983   \n",
       "\n",
       "                Group details (Caucasian)  Group details (Hispanic)  \\\n",
       "mlp (burden)                     0.089581                  0.078510   \n",
       "logit (burden)                   0.097083                  0.065481   \n",
       "\n",
       "                Group details (Other)  Group details (nan)  \n",
       "mlp (burden)                 0.067697             0.018265  \n",
       "logit (burden)               0.067120             0.014053  \n",
       "\n",
       "[2 rows x 24 columns]"
      ]
     },
     "metadata": {},
     "output_type": "display_data"
    }
   ],
   "source": [
    "df = construct_scores_dataframe(scores('fairness', results), include_confidence=False)\n",
    "display(df)"
   ]
  },
  {
   "cell_type": "markdown",
   "metadata": {},
   "source": [
    "For an example of visualizing the fairness results in a chart, see the [fairness metrics notebook](https://raw.githubusercontent.com/CognitiveScale/cortex-certifai-examples/sdk-model-examples/notebooks/fairness_metrics)."
   ]
  },
  {
   "cell_type": "markdown",
   "metadata": {},
   "source": [
    "Print out the robustness scores."
   ]
  },
  {
   "cell_type": "code",
   "execution_count": 5,
   "metadata": {},
   "outputs": [
    {
     "data": {
      "text/html": [
       "<div>\n",
       "<style scoped>\n",
       "    .dataframe tbody tr th:only-of-type {\n",
       "        vertical-align: middle;\n",
       "    }\n",
       "\n",
       "    .dataframe tbody tr th {\n",
       "        vertical-align: top;\n",
       "    }\n",
       "\n",
       "    .dataframe thead th {\n",
       "        text-align: right;\n",
       "    }\n",
       "</style>\n",
       "<table border=\"1\" class=\"dataframe\">\n",
       "  <thead>\n",
       "    <tr style=\"text-align: right;\">\n",
       "      <th></th>\n",
       "      <th>context</th>\n",
       "      <th>robustness</th>\n",
       "      <th>robustness lower bound</th>\n",
       "      <th>robustness upper bound</th>\n",
       "    </tr>\n",
       "  </thead>\n",
       "  <tbody>\n",
       "    <tr>\n",
       "      <th>logit</th>\n",
       "      <td>logit</td>\n",
       "      <td>51.885452</td>\n",
       "      <td>48.761420</td>\n",
       "      <td>54.976354</td>\n",
       "    </tr>\n",
       "    <tr>\n",
       "      <th>mlp</th>\n",
       "      <td>mlp</td>\n",
       "      <td>50.988814</td>\n",
       "      <td>46.306286</td>\n",
       "      <td>55.818630</td>\n",
       "    </tr>\n",
       "  </tbody>\n",
       "</table>\n",
       "</div>"
      ],
      "text/plain": [
       "      context  robustness  robustness lower bound  robustness upper bound\n",
       "logit   logit   51.885452               48.761420               54.976354\n",
       "mlp       mlp   50.988814               46.306286               55.818630"
      ]
     },
     "metadata": {},
     "output_type": "display_data"
    }
   ],
   "source": [
    "df = construct_scores_dataframe(scores('robustness', results), include_confidence=True)\n",
    "display(df)"
   ]
  },
  {
   "cell_type": "markdown",
   "metadata": {},
   "source": [
    "Print out the explainability scores."
   ]
  },
  {
   "cell_type": "code",
   "execution_count": 6,
   "metadata": {},
   "outputs": [
    {
     "data": {
      "text/html": [
       "<div>\n",
       "<style scoped>\n",
       "    .dataframe tbody tr th:only-of-type {\n",
       "        vertical-align: middle;\n",
       "    }\n",
       "\n",
       "    .dataframe tbody tr th {\n",
       "        vertical-align: top;\n",
       "    }\n",
       "\n",
       "    .dataframe thead th {\n",
       "        text-align: right;\n",
       "    }\n",
       "</style>\n",
       "<table border=\"1\" class=\"dataframe\">\n",
       "  <thead>\n",
       "    <tr style=\"text-align: right;\">\n",
       "      <th></th>\n",
       "      <th>context</th>\n",
       "      <th>explainability</th>\n",
       "      <th>Num features (1)</th>\n",
       "      <th>Num features (10)</th>\n",
       "      <th>Num features (2)</th>\n",
       "      <th>Num features (3)</th>\n",
       "      <th>Num features (4)</th>\n",
       "      <th>Num features (5)</th>\n",
       "      <th>Num features (6)</th>\n",
       "      <th>Num features (7)</th>\n",
       "      <th>Num features (8)</th>\n",
       "      <th>Num features (9)</th>\n",
       "    </tr>\n",
       "  </thead>\n",
       "  <tbody>\n",
       "    <tr>\n",
       "      <th>mlp</th>\n",
       "      <td>mlp</td>\n",
       "      <td>96.093750</td>\n",
       "      <td>66.40625</td>\n",
       "      <td>0.0</td>\n",
       "      <td>31.25000</td>\n",
       "      <td>1.5625</td>\n",
       "      <td>0.78125</td>\n",
       "      <td>0.0</td>\n",
       "      <td>0.0</td>\n",
       "      <td>0.0</td>\n",
       "      <td>0.0</td>\n",
       "      <td>0.0</td>\n",
       "    </tr>\n",
       "    <tr>\n",
       "      <th>logit</th>\n",
       "      <td>logit</td>\n",
       "      <td>94.453125</td>\n",
       "      <td>53.90625</td>\n",
       "      <td>0.0</td>\n",
       "      <td>39.84375</td>\n",
       "      <td>6.2500</td>\n",
       "      <td>0.00000</td>\n",
       "      <td>0.0</td>\n",
       "      <td>0.0</td>\n",
       "      <td>0.0</td>\n",
       "      <td>0.0</td>\n",
       "      <td>0.0</td>\n",
       "    </tr>\n",
       "  </tbody>\n",
       "</table>\n",
       "</div>"
      ],
      "text/plain": [
       "      context  explainability  Num features (1)  Num features (10)  \\\n",
       "mlp       mlp       96.093750          66.40625                0.0   \n",
       "logit   logit       94.453125          53.90625                0.0   \n",
       "\n",
       "       Num features (2)  Num features (3)  Num features (4)  Num features (5)  \\\n",
       "mlp            31.25000            1.5625           0.78125               0.0   \n",
       "logit          39.84375            6.2500           0.00000               0.0   \n",
       "\n",
       "       Num features (6)  Num features (7)  Num features (8)  Num features (9)  \n",
       "mlp                 0.0               0.0               0.0               0.0  \n",
       "logit               0.0               0.0               0.0               0.0  "
      ]
     },
     "metadata": {},
     "output_type": "display_data"
    }
   ],
   "source": [
    "df = construct_scores_dataframe(scores('explainability', results), include_confidence=False)\n",
    "display(df)"
   ]
  }
 ],
 "metadata": {
  "kernelspec": {
   "display_name": "Python 3",
   "language": "python",
   "name": "python3"
  },
  "language_info": {
   "codemirror_mode": {
    "name": "ipython",
    "version": 3
   },
   "file_extension": ".py",
   "mimetype": "text/x-python",
   "name": "python",
   "nbconvert_exporter": "python",
   "pygments_lexer": "ipython3",
   "version": "3.6.12"
  }
 },
 "nbformat": 4,
 "nbformat_minor": 1
}
