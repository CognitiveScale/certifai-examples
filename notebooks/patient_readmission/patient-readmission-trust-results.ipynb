{
 "cells": [
  {
   "cell_type": "markdown",
   "metadata": {
    "_uuid": "90d890b7e4ff4dbbb27e2b59e50e942c7bb0078c"
   },
   "source": [
    "Copyright (c) 2020. Cognitive Scale Inc. All rights reserved.\n",
    "Licensed under CognitiveScale Example Code [License](https://github.com/CognitiveScale/cortex-certifai-examples/blob/7998b8a481fccd467463deb1fc46d19622079b0e/LICENSE.md)\n",
    "\n",
    "# Introduction\n",
    "\n",
    "This fifth notebook shows you how to explore the trust score results in a notebook. If you have not already done so, please run the [fourth notebook](patient-readmission-trust-scan.ipynb) to scan the models for their trust scores.\n",
    "\n",
    "In this notebook, we will:\n",
    "1. Load the previously saved trust score reports\n",
    "2. Convert the results into a dataframe and display them\n"
   ]
  },
  {
   "cell_type": "code",
   "execution_count": 1,
   "metadata": {
    "_kg_hide-input": true,
    "_kg_hide-output": true,
    "_uuid": "fba09007b76132d605daa699b39a5fc92ff87ee1",
    "execution": {
     "iopub.execute_input": "2023-01-06T21:06:00.379741Z",
     "iopub.status.busy": "2023-01-06T21:06:00.379472Z",
     "iopub.status.idle": "2023-01-06T21:06:02.828228Z",
     "shell.execute_reply": "2023-01-06T21:06:02.827297Z"
    }
   },
   "outputs": [],
   "source": [
    "import numpy as np\n",
    "import pandas as pd\n",
    "from pprint import pprint\n",
    "\n",
    "from certifai.scanner.report_reader import ScanReportReader\n",
    "from certifai.scanner.report_utils import (\n",
    "    scores, construct_scores_dataframe, construct_feature_scores_dataframe, construct_overall_scores_dataframe,\n",
    "    construct_group_scores_dataframe)\n",
    "from certifai.scanner.builder import ExplanationType\n",
    "from IPython.display import display, Markdown"
   ]
  },
  {
   "cell_type": "markdown",
   "metadata": {
    "_uuid": "a4490db86a8bb5bdc7bc81d17da9f0a3b690b90c"
   },
   "source": [
    "# Loading the Trust Score Reports\n",
    "\n",
    "To load the reports, we need to know the use case ID ('readmission') and the scan ID.\n",
    "\n",
    "List the available use cases, and the scans within the 'readmission' use case."
   ]
  },
  {
   "cell_type": "code",
   "execution_count": 2,
   "metadata": {
    "execution": {
     "iopub.execute_input": "2023-01-06T21:06:02.832155Z",
     "iopub.status.busy": "2023-01-06T21:06:02.831922Z",
     "iopub.status.idle": "2023-01-06T21:06:02.855500Z",
     "shell.execute_reply": "2023-01-06T21:06:02.854901Z"
    }
   },
   "outputs": [
    {
     "name": "stdout",
     "output_type": "stream",
     "text": [
      "              date                                      evals       scan id\n",
      "0  20230106T143234  atx, explainability, fairness, robustness  7e0a4f5e3168\n",
      "1  20230106T140239                                explanation  025543f8e4a4\n"
     ]
    }
   ],
   "source": [
    "reader = ScanReportReader(\"reports\")\n",
    "reader.list_usecases()\n",
    "scans = reader.list_scans('readmission')\n",
    "data=[[s['date'], ', '.join(s['reportTypes']), s['id']] for s in scans]\n",
    "df = pd.DataFrame(data, columns=['date', 'evals', 'scan id']).sort_values(by=['date'], ascending=False)\n",
    "print(df)"
   ]
  },
  {
   "cell_type": "markdown",
   "metadata": {},
   "source": [
    "Locate the latest trust score scan and load it."
   ]
  },
  {
   "cell_type": "code",
   "execution_count": 3,
   "metadata": {
    "execution": {
     "iopub.execute_input": "2023-01-06T21:06:02.887989Z",
     "iopub.status.busy": "2023-01-06T21:06:02.887695Z",
     "iopub.status.idle": "2023-01-06T21:06:02.899788Z",
     "shell.execute_reply": "2023-01-06T21:06:02.898855Z"
    }
   },
   "outputs": [],
   "source": [
    "latest_scan = df[df['evals'].str.contains('fairness') & df['evals'].str.contains('robustness')].iloc[0]\n",
    "results = reader.load_scan('readmission', latest_scan['scan id'])"
   ]
  },
  {
   "cell_type": "markdown",
   "metadata": {},
   "source": [
    "# Extract the results\n",
    "\n",
    "In this section we'll construct dataframes containing the score results and display them."
   ]
  },
  {
   "cell_type": "markdown",
   "metadata": {},
   "source": [
    "Print out the overall fairness results."
   ]
  },
  {
   "cell_type": "code",
   "execution_count": 4,
   "metadata": {
    "execution": {
     "iopub.execute_input": "2023-01-06T21:06:02.903369Z",
     "iopub.status.busy": "2023-01-06T21:06:02.903155Z",
     "iopub.status.idle": "2023-01-06T21:06:02.915720Z",
     "shell.execute_reply": "2023-01-06T21:06:02.915179Z"
    }
   },
   "outputs": [
    {
     "data": {
      "text/html": [
       "<div>\n",
       "<style scoped>\n",
       "    .dataframe tbody tr th:only-of-type {\n",
       "        vertical-align: middle;\n",
       "    }\n",
       "\n",
       "    .dataframe tbody tr th {\n",
       "        vertical-align: top;\n",
       "    }\n",
       "\n",
       "    .dataframe thead th {\n",
       "        text-align: right;\n",
       "    }\n",
       "</style>\n",
       "<table border=\"1\" class=\"dataframe\">\n",
       "  <thead>\n",
       "    <tr style=\"text-align: right;\">\n",
       "      <th></th>\n",
       "      <th>context</th>\n",
       "      <th>eval type</th>\n",
       "      <th>score type</th>\n",
       "      <th>score</th>\n",
       "    </tr>\n",
       "  </thead>\n",
       "  <tbody>\n",
       "    <tr>\n",
       "      <th>0</th>\n",
       "      <td>mlp</td>\n",
       "      <td>fairness</td>\n",
       "      <td>burden</td>\n",
       "      <td>75.464094</td>\n",
       "    </tr>\n",
       "    <tr>\n",
       "      <th>1</th>\n",
       "      <td>logit</td>\n",
       "      <td>fairness</td>\n",
       "      <td>burden</td>\n",
       "      <td>61.007313</td>\n",
       "    </tr>\n",
       "  </tbody>\n",
       "</table>\n",
       "</div>"
      ],
      "text/plain": [
       "  context eval type score type      score\n",
       "0     mlp  fairness     burden  75.464094\n",
       "1   logit  fairness     burden  61.007313"
      ]
     },
     "metadata": {},
     "output_type": "display_data"
    }
   ],
   "source": [
    "fairness_scores = list(scores('fairness', results))\n",
    "display(construct_overall_scores_dataframe(fairness_scores, include_confidence=True))"
   ]
  },
  {
   "cell_type": "markdown",
   "metadata": {},
   "source": [
    "Print out the fairness scores by feature"
   ]
  },
  {
   "cell_type": "code",
   "execution_count": 5,
   "metadata": {
    "execution": {
     "iopub.execute_input": "2023-01-06T21:06:02.918837Z",
     "iopub.status.busy": "2023-01-06T21:06:02.918638Z",
     "iopub.status.idle": "2023-01-06T21:06:02.930793Z",
     "shell.execute_reply": "2023-01-06T21:06:02.930274Z"
    }
   },
   "outputs": [
    {
     "data": {
      "text/html": [
       "<div>\n",
       "<style scoped>\n",
       "    .dataframe tbody tr th:only-of-type {\n",
       "        vertical-align: middle;\n",
       "    }\n",
       "\n",
       "    .dataframe tbody tr th {\n",
       "        vertical-align: top;\n",
       "    }\n",
       "\n",
       "    .dataframe thead th {\n",
       "        text-align: right;\n",
       "    }\n",
       "</style>\n",
       "<table border=\"1\" class=\"dataframe\">\n",
       "  <thead>\n",
       "    <tr style=\"text-align: right;\">\n",
       "      <th></th>\n",
       "      <th>context</th>\n",
       "      <th>eval type</th>\n",
       "      <th>score type</th>\n",
       "      <th>age</th>\n",
       "      <th>age lower bound</th>\n",
       "      <th>age upper bound</th>\n",
       "      <th>gender</th>\n",
       "      <th>gender lower bound</th>\n",
       "      <th>gender upper bound</th>\n",
       "      <th>race</th>\n",
       "      <th>race lower bound</th>\n",
       "      <th>race upper bound</th>\n",
       "    </tr>\n",
       "  </thead>\n",
       "  <tbody>\n",
       "    <tr>\n",
       "      <th>0</th>\n",
       "      <td>mlp</td>\n",
       "      <td>fairness</td>\n",
       "      <td>burden</td>\n",
       "      <td>75.464094</td>\n",
       "      <td>70.206183</td>\n",
       "      <td>80.490767</td>\n",
       "      <td>83.827691</td>\n",
       "      <td>74.931745</td>\n",
       "      <td>93.031928</td>\n",
       "      <td>77.571753</td>\n",
       "      <td>68.967126</td>\n",
       "      <td>85.051824</td>\n",
       "    </tr>\n",
       "    <tr>\n",
       "      <th>1</th>\n",
       "      <td>logit</td>\n",
       "      <td>fairness</td>\n",
       "      <td>burden</td>\n",
       "      <td>61.007313</td>\n",
       "      <td>54.470172</td>\n",
       "      <td>67.479765</td>\n",
       "      <td>75.176488</td>\n",
       "      <td>62.948303</td>\n",
       "      <td>87.552332</td>\n",
       "      <td>67.394669</td>\n",
       "      <td>55.574481</td>\n",
       "      <td>78.272413</td>\n",
       "    </tr>\n",
       "  </tbody>\n",
       "</table>\n",
       "</div>"
      ],
      "text/plain": [
       "  context eval type score type        age  age lower bound  age upper bound  \\\n",
       "0     mlp  fairness     burden  75.464094        70.206183        80.490767   \n",
       "1   logit  fairness     burden  61.007313        54.470172        67.479765   \n",
       "\n",
       "      gender  gender lower bound  gender upper bound       race  \\\n",
       "0  83.827691           74.931745           93.031928  77.571753   \n",
       "1  75.176488           62.948303           87.552332  67.394669   \n",
       "\n",
       "   race lower bound  race upper bound  \n",
       "0         68.967126         85.051824  \n",
       "1         55.574481         78.272413  "
      ]
     },
     "metadata": {},
     "output_type": "display_data"
    }
   ],
   "source": [
    "display(construct_feature_scores_dataframe(fairness_scores, include_confidence=True))"
   ]
  },
  {
   "cell_type": "markdown",
   "metadata": {},
   "source": [
    "Print out the detailed fairness scores"
   ]
  },
  {
   "cell_type": "code",
   "execution_count": 6,
   "metadata": {
    "execution": {
     "iopub.execute_input": "2023-01-06T21:06:02.933962Z",
     "iopub.status.busy": "2023-01-06T21:06:02.933768Z",
     "iopub.status.idle": "2023-01-06T21:06:02.949400Z",
     "shell.execute_reply": "2023-01-06T21:06:02.948859Z"
    }
   },
   "outputs": [
    {
     "data": {
      "text/html": [
       "<div>\n",
       "<style scoped>\n",
       "    .dataframe tbody tr th:only-of-type {\n",
       "        vertical-align: middle;\n",
       "    }\n",
       "\n",
       "    .dataframe tbody tr th {\n",
       "        vertical-align: top;\n",
       "    }\n",
       "\n",
       "    .dataframe thead th {\n",
       "        text-align: right;\n",
       "    }\n",
       "</style>\n",
       "<table border=\"1\" class=\"dataframe\">\n",
       "  <thead>\n",
       "    <tr style=\"text-align: right;\">\n",
       "      <th></th>\n",
       "      <th>context</th>\n",
       "      <th>eval type</th>\n",
       "      <th>score type</th>\n",
       "      <th>value type</th>\n",
       "      <th>age - above 95</th>\n",
       "      <th>age - above 95 lower bound</th>\n",
       "      <th>age - above 95 upper bound</th>\n",
       "      <th>age - up to 05</th>\n",
       "      <th>age - up to 05 lower bound</th>\n",
       "      <th>age - up to 05 upper bound</th>\n",
       "      <th>...</th>\n",
       "      <th>race - Caucasian upper bound</th>\n",
       "      <th>race - Hispanic</th>\n",
       "      <th>race - Hispanic lower bound</th>\n",
       "      <th>race - Hispanic upper bound</th>\n",
       "      <th>race - Other</th>\n",
       "      <th>race - Other lower bound</th>\n",
       "      <th>race - Other upper bound</th>\n",
       "      <th>race - nan</th>\n",
       "      <th>race - nan lower bound</th>\n",
       "      <th>race - nan upper bound</th>\n",
       "    </tr>\n",
       "  </thead>\n",
       "  <tbody>\n",
       "    <tr>\n",
       "      <th>0</th>\n",
       "      <td>mlp</td>\n",
       "      <td>fairness</td>\n",
       "      <td>burden</td>\n",
       "      <td>burden</td>\n",
       "      <td>0.047856</td>\n",
       "      <td>0.030541</td>\n",
       "      <td>0.067316</td>\n",
       "      <td>0.009824</td>\n",
       "      <td>0.004795</td>\n",
       "      <td>0.016341</td>\n",
       "      <td>...</td>\n",
       "      <td>0.054469</td>\n",
       "      <td>0.066944</td>\n",
       "      <td>0.047179</td>\n",
       "      <td>0.094781</td>\n",
       "      <td>0.032699</td>\n",
       "      <td>0.021137</td>\n",
       "      <td>0.046125</td>\n",
       "      <td>0.047368</td>\n",
       "      <td>0.022346</td>\n",
       "      <td>0.074074</td>\n",
       "    </tr>\n",
       "    <tr>\n",
       "      <th>1</th>\n",
       "      <td>logit</td>\n",
       "      <td>fairness</td>\n",
       "      <td>burden</td>\n",
       "      <td>burden</td>\n",
       "      <td>0.094095</td>\n",
       "      <td>0.067194</td>\n",
       "      <td>0.127176</td>\n",
       "      <td>0.000960</td>\n",
       "      <td>0.000000</td>\n",
       "      <td>0.002951</td>\n",
       "      <td>...</td>\n",
       "      <td>0.044432</td>\n",
       "      <td>0.038516</td>\n",
       "      <td>0.025315</td>\n",
       "      <td>0.055519</td>\n",
       "      <td>0.017527</td>\n",
       "      <td>0.008425</td>\n",
       "      <td>0.029536</td>\n",
       "      <td>0.015306</td>\n",
       "      <td>0.000000</td>\n",
       "      <td>0.032609</td>\n",
       "    </tr>\n",
       "  </tbody>\n",
       "</table>\n",
       "<p>2 rows × 58 columns</p>\n",
       "</div>"
      ],
      "text/plain": [
       "  context eval type score type value type  age - above 95  \\\n",
       "0     mlp  fairness     burden     burden        0.047856   \n",
       "1   logit  fairness     burden     burden        0.094095   \n",
       "\n",
       "   age - above 95 lower bound  age - above 95 upper bound  age - up to 05  \\\n",
       "0                    0.030541                    0.067316        0.009824   \n",
       "1                    0.067194                    0.127176        0.000960   \n",
       "\n",
       "   age - up to 05 lower bound  age - up to 05 upper bound  ...  \\\n",
       "0                    0.004795                    0.016341  ...   \n",
       "1                    0.000000                    0.002951  ...   \n",
       "\n",
       "   race - Caucasian upper bound  race - Hispanic  race - Hispanic lower bound  \\\n",
       "0                      0.054469         0.066944                     0.047179   \n",
       "1                      0.044432         0.038516                     0.025315   \n",
       "\n",
       "   race - Hispanic upper bound  race - Other  race - Other lower bound  \\\n",
       "0                     0.094781      0.032699                  0.021137   \n",
       "1                     0.055519      0.017527                  0.008425   \n",
       "\n",
       "   race - Other upper bound  race - nan  race - nan lower bound  \\\n",
       "0                  0.046125    0.047368                0.022346   \n",
       "1                  0.029536    0.015306                0.000000   \n",
       "\n",
       "   race - nan upper bound  \n",
       "0                0.074074  \n",
       "1                0.032609  \n",
       "\n",
       "[2 rows x 58 columns]"
      ]
     },
     "metadata": {},
     "output_type": "display_data"
    }
   ],
   "source": [
    "display(construct_group_scores_dataframe(fairness_scores, include_confidence=True))"
   ]
  },
  {
   "cell_type": "markdown",
   "metadata": {},
   "source": [
    "For an example of visualizing the fairness results in a chart, see the [fairness metrics notebook](https://github.com/CognitiveScale/cortex-certifai-examples/blob/master/notebooks/fairness_metrics/FairnessMetrics.ipynb)."
   ]
  },
  {
   "cell_type": "markdown",
   "metadata": {},
   "source": [
    "Print out the robustness scores."
   ]
  },
  {
   "cell_type": "code",
   "execution_count": 7,
   "metadata": {
    "execution": {
     "iopub.execute_input": "2023-01-06T21:06:02.952496Z",
     "iopub.status.busy": "2023-01-06T21:06:02.952303Z",
     "iopub.status.idle": "2023-01-06T21:06:02.959951Z",
     "shell.execute_reply": "2023-01-06T21:06:02.959416Z"
    }
   },
   "outputs": [
    {
     "data": {
      "text/html": [
       "<div>\n",
       "<style scoped>\n",
       "    .dataframe tbody tr th:only-of-type {\n",
       "        vertical-align: middle;\n",
       "    }\n",
       "\n",
       "    .dataframe tbody tr th {\n",
       "        vertical-align: top;\n",
       "    }\n",
       "\n",
       "    .dataframe thead th {\n",
       "        text-align: right;\n",
       "    }\n",
       "</style>\n",
       "<table border=\"1\" class=\"dataframe\">\n",
       "  <thead>\n",
       "    <tr style=\"text-align: right;\">\n",
       "      <th></th>\n",
       "      <th>context</th>\n",
       "      <th>robustness</th>\n",
       "      <th>robustness lower bound</th>\n",
       "      <th>robustness upper bound</th>\n",
       "    </tr>\n",
       "  </thead>\n",
       "  <tbody>\n",
       "    <tr>\n",
       "      <th>logit</th>\n",
       "      <td>logit</td>\n",
       "      <td>80.549076</td>\n",
       "      <td>76.406660</td>\n",
       "      <td>84.236577</td>\n",
       "    </tr>\n",
       "    <tr>\n",
       "      <th>mlp</th>\n",
       "      <td>mlp</td>\n",
       "      <td>65.788375</td>\n",
       "      <td>60.572259</td>\n",
       "      <td>70.833897</td>\n",
       "    </tr>\n",
       "  </tbody>\n",
       "</table>\n",
       "</div>"
      ],
      "text/plain": [
       "      context  robustness  robustness lower bound  robustness upper bound\n",
       "logit   logit   80.549076               76.406660               84.236577\n",
       "mlp       mlp   65.788375               60.572259               70.833897"
      ]
     },
     "metadata": {},
     "output_type": "display_data"
    }
   ],
   "source": [
    "df = construct_scores_dataframe(scores('robustness', results), include_confidence=True)\n",
    "display(df)"
   ]
  },
  {
   "cell_type": "markdown",
   "metadata": {},
   "source": [
    "Print out the explainability scores."
   ]
  },
  {
   "cell_type": "code",
   "execution_count": 8,
   "metadata": {
    "execution": {
     "iopub.execute_input": "2023-01-06T21:06:02.962787Z",
     "iopub.status.busy": "2023-01-06T21:06:02.962621Z",
     "iopub.status.idle": "2023-01-06T21:06:02.974524Z",
     "shell.execute_reply": "2023-01-06T21:06:02.973857Z"
    }
   },
   "outputs": [
    {
     "data": {
      "text/html": [
       "<div>\n",
       "<style scoped>\n",
       "    .dataframe tbody tr th:only-of-type {\n",
       "        vertical-align: middle;\n",
       "    }\n",
       "\n",
       "    .dataframe tbody tr th {\n",
       "        vertical-align: top;\n",
       "    }\n",
       "\n",
       "    .dataframe thead th {\n",
       "        text-align: right;\n",
       "    }\n",
       "</style>\n",
       "<table border=\"1\" class=\"dataframe\">\n",
       "  <thead>\n",
       "    <tr style=\"text-align: right;\">\n",
       "      <th></th>\n",
       "      <th>context</th>\n",
       "      <th>explainability</th>\n",
       "      <th>Num features (1)</th>\n",
       "      <th>Num features (10)</th>\n",
       "      <th>Num features (2)</th>\n",
       "      <th>Num features (3)</th>\n",
       "      <th>Num features (4)</th>\n",
       "      <th>Num features (5)</th>\n",
       "      <th>Num features (6)</th>\n",
       "      <th>Num features (7)</th>\n",
       "      <th>Num features (8)</th>\n",
       "      <th>Num features (9)</th>\n",
       "    </tr>\n",
       "  </thead>\n",
       "  <tbody>\n",
       "    <tr>\n",
       "      <th>logit</th>\n",
       "      <td>logit</td>\n",
       "      <td>97.421875</td>\n",
       "      <td>76.5625</td>\n",
       "      <td>0.0</td>\n",
       "      <td>21.87500</td>\n",
       "      <td>1.56250</td>\n",
       "      <td>0.0</td>\n",
       "      <td>0.0</td>\n",
       "      <td>0.0</td>\n",
       "      <td>0.0</td>\n",
       "      <td>0.0</td>\n",
       "      <td>0.0</td>\n",
       "    </tr>\n",
       "    <tr>\n",
       "      <th>mlp</th>\n",
       "      <td>mlp</td>\n",
       "      <td>96.523438</td>\n",
       "      <td>68.7500</td>\n",
       "      <td>0.0</td>\n",
       "      <td>28.90625</td>\n",
       "      <td>2.34375</td>\n",
       "      <td>0.0</td>\n",
       "      <td>0.0</td>\n",
       "      <td>0.0</td>\n",
       "      <td>0.0</td>\n",
       "      <td>0.0</td>\n",
       "      <td>0.0</td>\n",
       "    </tr>\n",
       "  </tbody>\n",
       "</table>\n",
       "</div>"
      ],
      "text/plain": [
       "      context  explainability  Num features (1)  Num features (10)  \\\n",
       "logit   logit       97.421875           76.5625                0.0   \n",
       "mlp       mlp       96.523438           68.7500                0.0   \n",
       "\n",
       "       Num features (2)  Num features (3)  Num features (4)  Num features (5)  \\\n",
       "logit          21.87500           1.56250               0.0               0.0   \n",
       "mlp            28.90625           2.34375               0.0               0.0   \n",
       "\n",
       "       Num features (6)  Num features (7)  Num features (8)  Num features (9)  \n",
       "logit               0.0               0.0               0.0               0.0  \n",
       "mlp                 0.0               0.0               0.0               0.0  "
      ]
     },
     "metadata": {},
     "output_type": "display_data"
    }
   ],
   "source": [
    "df = construct_scores_dataframe(scores('explainability', results), include_confidence=False)\n",
    "display(df)"
   ]
  }
 ],
 "metadata": {
  "kernelspec": {
   "display_name": "Python 3 (ipykernel)",
   "language": "python",
   "name": "python3"
  },
  "language_info": {
   "codemirror_mode": {
    "name": "ipython",
    "version": 3
   },
   "file_extension": ".py",
   "mimetype": "text/x-python",
   "name": "python",
   "nbconvert_exporter": "python",
   "pygments_lexer": "ipython3",
   "version": "3.8.15"
  }
 },
 "nbformat": 4,
 "nbformat_minor": 1
}
