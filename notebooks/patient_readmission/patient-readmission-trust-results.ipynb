{
 "cells": [
  {
   "cell_type": "markdown",
   "metadata": {
    "_uuid": "90d890b7e4ff4dbbb27e2b59e50e942c7bb0078c"
   },
   "source": [
    "Copyright (c) 2020. Cognitive Scale Inc. All rights reserved.\n",
    "Licensed under CognitiveScale Example Code [License](https://github.com/CognitiveScale/cortex-certifai-examples/blob/7998b8a481fccd467463deb1fc46d19622079b0e/LICENSE.md)\n",
    "\n",
    "# Introduction\n",
    "\n",
    "This fifth notebook shows you how to explore the trust score results in a notebook. If you have not already done so, please run the [fourth notebook](patient-readmission-trust-scan.ipynb) to scan the models for their trust scores.\n",
    "\n",
    "In this notebook, we will:\n",
    "1. Load the previously saved trust score reports\n",
    "2. Convert the results into a dataframe and display them\n"
   ]
  },
  {
   "cell_type": "code",
   "execution_count": 1,
   "metadata": {
    "_kg_hide-input": true,
    "_kg_hide-output": true,
    "_uuid": "fba09007b76132d605daa699b39a5fc92ff87ee1"
   },
   "outputs": [],
   "source": [
    "import numpy as np\n",
    "import pandas as pd\n",
    "from pprint import pprint\n",
    "\n",
    "from certifai.scanner.report_reader import ScanReportReader\n",
    "from certifai.scanner.report_utils import (\n",
    "    scores, construct_scores_dataframe, construct_feature_scores_dataframe, construct_overall_scores_dataframe,\n",
    "    construct_group_scores_dataframe)\n",
    "from certifai.scanner.builder import ExplanationType\n",
    "from IPython.display import display, Markdown"
   ]
  },
  {
   "cell_type": "markdown",
   "metadata": {
    "_uuid": "a4490db86a8bb5bdc7bc81d17da9f0a3b690b90c"
   },
   "source": [
    "# Loading the Trust Score Reports\n",
    "\n",
    "To load the reports, we need to know the use case ID ('readmission') and the scan ID.\n",
    "\n",
    "List the available use cases, and the scans within the 'readmission' use case."
   ]
  },
  {
   "cell_type": "code",
   "execution_count": 2,
   "metadata": {},
   "outputs": [
    {
     "name": "stdout",
     "output_type": "stream",
     "text": [
      "              date                                      evals       scan id\n",
      "0  20201204T092603  explainability, fairness, atx, robustness  9a4c16e5931f\n",
      "1  20201204T084020                                explanation  aee134c9b4e9\n"
     ]
    }
   ],
   "source": [
    "reader = ScanReportReader(\"reports\")\n",
    "reader.list_usecases()\n",
    "scans = reader.list_scans('readmission')\n",
    "data=[[s['date'], ', '.join(s['reportTypes']), s['id']] for s in scans]\n",
    "df = pd.DataFrame(data, columns=['date', 'evals', 'scan id']).sort_values(by=['date'], ascending=False)\n",
    "print(df)"
   ]
  },
  {
   "cell_type": "markdown",
   "metadata": {},
   "source": [
    "Locate the latest trust score scan and load it."
   ]
  },
  {
   "cell_type": "code",
   "execution_count": 3,
   "metadata": {},
   "outputs": [],
   "source": [
    "latest_scan = df[df['evals'].str.contains('fairness') & df['evals'].str.contains('robustness')].iloc[0]\n",
    "results = reader.load_scan('readmission', latest_scan['scan id'])"
   ]
  },
  {
   "cell_type": "markdown",
   "metadata": {},
   "source": [
    "# Extract the results\n",
    "\n",
    "In this section we'll construct dataframes containing the score results and display them."
   ]
  },
  {
   "cell_type": "markdown",
   "metadata": {},
   "source": [
    "Print out the overall fairness results."
   ]
  },
  {
   "cell_type": "code",
   "execution_count": 4,
   "metadata": {},
   "outputs": [
    {
     "data": {
      "text/html": [
       "<div>\n",
       "<style scoped>\n",
       "    .dataframe tbody tr th:only-of-type {\n",
       "        vertical-align: middle;\n",
       "    }\n",
       "\n",
       "    .dataframe tbody tr th {\n",
       "        vertical-align: top;\n",
       "    }\n",
       "\n",
       "    .dataframe thead th {\n",
       "        text-align: right;\n",
       "    }\n",
       "</style>\n",
       "<table border=\"1\" class=\"dataframe\">\n",
       "  <thead>\n",
       "    <tr style=\"text-align: right;\">\n",
       "      <th></th>\n",
       "      <th>context</th>\n",
       "      <th>eval type</th>\n",
       "      <th>score type</th>\n",
       "      <th>score</th>\n",
       "      <th>score lower bound</th>\n",
       "      <th>score upper bound</th>\n",
       "    </tr>\n",
       "  </thead>\n",
       "  <tbody>\n",
       "    <tr>\n",
       "      <th>0</th>\n",
       "      <td>logit</td>\n",
       "      <td>fairness</td>\n",
       "      <td>burden</td>\n",
       "      <td>56.780386</td>\n",
       "      <td>50.018976</td>\n",
       "      <td>62.938135</td>\n",
       "    </tr>\n",
       "    <tr>\n",
       "      <th>1</th>\n",
       "      <td>mlp</td>\n",
       "      <td>fairness</td>\n",
       "      <td>burden</td>\n",
       "      <td>64.347055</td>\n",
       "      <td>56.078975</td>\n",
       "      <td>71.632597</td>\n",
       "    </tr>\n",
       "  </tbody>\n",
       "</table>\n",
       "</div>"
      ],
      "text/plain": [
       "  context eval type score type      score  score lower bound  \\\n",
       "0   logit  fairness     burden  56.780386          50.018976   \n",
       "1     mlp  fairness     burden  64.347055          56.078975   \n",
       "\n",
       "   score upper bound  \n",
       "0          62.938135  \n",
       "1          71.632597  "
      ]
     },
     "metadata": {},
     "output_type": "display_data"
    }
   ],
   "source": [
    "fairness_scores = list(scores('fairness', results))\n",
    "display(construct_overall_scores_dataframe(fairness_scores, include_confidence=True))"
   ]
  },
  {
   "cell_type": "markdown",
   "metadata": {},
   "source": [
    "Print out the fairness scores by feature"
   ]
  },
  {
   "cell_type": "code",
   "execution_count": 5,
   "metadata": {},
   "outputs": [
    {
     "data": {
      "text/html": [
       "<div>\n",
       "<style scoped>\n",
       "    .dataframe tbody tr th:only-of-type {\n",
       "        vertical-align: middle;\n",
       "    }\n",
       "\n",
       "    .dataframe tbody tr th {\n",
       "        vertical-align: top;\n",
       "    }\n",
       "\n",
       "    .dataframe thead th {\n",
       "        text-align: right;\n",
       "    }\n",
       "</style>\n",
       "<table border=\"1\" class=\"dataframe\">\n",
       "  <thead>\n",
       "    <tr style=\"text-align: right;\">\n",
       "      <th></th>\n",
       "      <th>context</th>\n",
       "      <th>eval type</th>\n",
       "      <th>score type</th>\n",
       "      <th>age</th>\n",
       "      <th>age lower bound</th>\n",
       "      <th>age upper bound</th>\n",
       "      <th>gender</th>\n",
       "      <th>gender lower bound</th>\n",
       "      <th>gender upper bound</th>\n",
       "      <th>race</th>\n",
       "      <th>race lower bound</th>\n",
       "      <th>race upper bound</th>\n",
       "    </tr>\n",
       "  </thead>\n",
       "  <tbody>\n",
       "    <tr>\n",
       "      <th>0</th>\n",
       "      <td>logit</td>\n",
       "      <td>fairness</td>\n",
       "      <td>burden</td>\n",
       "      <td>59.378397</td>\n",
       "      <td>53.162254</td>\n",
       "      <td>65.556422</td>\n",
       "      <td>78.21444</td>\n",
       "      <td>65.787082</td>\n",
       "      <td>90.454043</td>\n",
       "      <td>58.426784</td>\n",
       "      <td>50.321139</td>\n",
       "      <td>66.360269</td>\n",
       "    </tr>\n",
       "    <tr>\n",
       "      <th>1</th>\n",
       "      <td>mlp</td>\n",
       "      <td>fairness</td>\n",
       "      <td>burden</td>\n",
       "      <td>74.248612</td>\n",
       "      <td>69.106686</td>\n",
       "      <td>79.326453</td>\n",
       "      <td>82.86353</td>\n",
       "      <td>74.469198</td>\n",
       "      <td>92.070642</td>\n",
       "      <td>64.347055</td>\n",
       "      <td>56.078975</td>\n",
       "      <td>71.771835</td>\n",
       "    </tr>\n",
       "  </tbody>\n",
       "</table>\n",
       "</div>"
      ],
      "text/plain": [
       "  context eval type score type        age  age lower bound  age upper bound  \\\n",
       "0   logit  fairness     burden  59.378397        53.162254        65.556422   \n",
       "1     mlp  fairness     burden  74.248612        69.106686        79.326453   \n",
       "\n",
       "     gender  gender lower bound  gender upper bound       race  \\\n",
       "0  78.21444           65.787082           90.454043  58.426784   \n",
       "1  82.86353           74.469198           92.070642  64.347055   \n",
       "\n",
       "   race lower bound  race upper bound  \n",
       "0         50.321139         66.360269  \n",
       "1         56.078975         71.771835  "
      ]
     },
     "metadata": {},
     "output_type": "display_data"
    }
   ],
   "source": [
    "display(construct_feature_scores_dataframe(fairness_scores, include_confidence=True))"
   ]
  },
  {
   "cell_type": "markdown",
   "metadata": {},
   "source": [
    "Print out the detailed fairness scores"
   ]
  },
  {
   "cell_type": "code",
   "execution_count": 6,
   "metadata": {},
   "outputs": [
    {
     "data": {
      "text/html": [
       "<div>\n",
       "<style scoped>\n",
       "    .dataframe tbody tr th:only-of-type {\n",
       "        vertical-align: middle;\n",
       "    }\n",
       "\n",
       "    .dataframe tbody tr th {\n",
       "        vertical-align: top;\n",
       "    }\n",
       "\n",
       "    .dataframe thead th {\n",
       "        text-align: right;\n",
       "    }\n",
       "</style>\n",
       "<table border=\"1\" class=\"dataframe\">\n",
       "  <thead>\n",
       "    <tr style=\"text-align: right;\">\n",
       "      <th></th>\n",
       "      <th>context</th>\n",
       "      <th>eval type</th>\n",
       "      <th>score type</th>\n",
       "      <th>value type</th>\n",
       "      <th>age - 15</th>\n",
       "      <th>age - 15 lower bound</th>\n",
       "      <th>age - 15 upper bound</th>\n",
       "      <th>age - 25</th>\n",
       "      <th>age - 25 lower bound</th>\n",
       "      <th>age - 25 upper bound</th>\n",
       "      <th>...</th>\n",
       "      <th>race - Caucasian upper bound</th>\n",
       "      <th>race - Hispanic</th>\n",
       "      <th>race - Hispanic lower bound</th>\n",
       "      <th>race - Hispanic upper bound</th>\n",
       "      <th>race - Other</th>\n",
       "      <th>race - Other lower bound</th>\n",
       "      <th>race - Other upper bound</th>\n",
       "      <th>race - nan</th>\n",
       "      <th>race - nan lower bound</th>\n",
       "      <th>race - nan upper bound</th>\n",
       "    </tr>\n",
       "  </thead>\n",
       "  <tbody>\n",
       "    <tr>\n",
       "      <th>0</th>\n",
       "      <td>logit</td>\n",
       "      <td>fairness</td>\n",
       "      <td>burden</td>\n",
       "      <td>burden</td>\n",
       "      <td>0.042295</td>\n",
       "      <td>0.028121</td>\n",
       "      <td>0.058176</td>\n",
       "      <td>0.048553</td>\n",
       "      <td>0.021672</td>\n",
       "      <td>0.084202</td>\n",
       "      <td>...</td>\n",
       "      <td>0.044633</td>\n",
       "      <td>0.039058</td>\n",
       "      <td>0.025239</td>\n",
       "      <td>0.058705</td>\n",
       "      <td>0.017581</td>\n",
       "      <td>0.008425</td>\n",
       "      <td>0.029549</td>\n",
       "      <td>0.002436</td>\n",
       "      <td>0.000000</td>\n",
       "      <td>0.005221</td>\n",
       "    </tr>\n",
       "    <tr>\n",
       "      <th>1</th>\n",
       "      <td>mlp</td>\n",
       "      <td>fairness</td>\n",
       "      <td>burden</td>\n",
       "      <td>burden</td>\n",
       "      <td>0.080654</td>\n",
       "      <td>0.059399</td>\n",
       "      <td>0.105131</td>\n",
       "      <td>0.052011</td>\n",
       "      <td>0.038256</td>\n",
       "      <td>0.068210</td>\n",
       "      <td>...</td>\n",
       "      <td>0.054095</td>\n",
       "      <td>0.072680</td>\n",
       "      <td>0.050700</td>\n",
       "      <td>0.103020</td>\n",
       "      <td>0.032921</td>\n",
       "      <td>0.021367</td>\n",
       "      <td>0.046239</td>\n",
       "      <td>0.007532</td>\n",
       "      <td>0.003083</td>\n",
       "      <td>0.013656</td>\n",
       "    </tr>\n",
       "  </tbody>\n",
       "</table>\n",
       "<p>2 rows × 58 columns</p>\n",
       "</div>"
      ],
      "text/plain": [
       "  context eval type score type value type  age - 15  age - 15 lower bound  \\\n",
       "0   logit  fairness     burden     burden  0.042295              0.028121   \n",
       "1     mlp  fairness     burden     burden  0.080654              0.059399   \n",
       "\n",
       "   age - 15 upper bound  age - 25  age - 25 lower bound  age - 25 upper bound  \\\n",
       "0              0.058176  0.048553              0.021672              0.084202   \n",
       "1              0.105131  0.052011              0.038256              0.068210   \n",
       "\n",
       "   ...  race - Caucasian upper bound  race - Hispanic  \\\n",
       "0  ...                      0.044633         0.039058   \n",
       "1  ...                      0.054095         0.072680   \n",
       "\n",
       "   race - Hispanic lower bound  race - Hispanic upper bound  race - Other  \\\n",
       "0                     0.025239                     0.058705      0.017581   \n",
       "1                     0.050700                     0.103020      0.032921   \n",
       "\n",
       "   race - Other lower bound  race - Other upper bound  race - nan  \\\n",
       "0                  0.008425                  0.029549    0.002436   \n",
       "1                  0.021367                  0.046239    0.007532   \n",
       "\n",
       "   race - nan lower bound  race - nan upper bound  \n",
       "0                0.000000                0.005221  \n",
       "1                0.003083                0.013656  \n",
       "\n",
       "[2 rows x 58 columns]"
      ]
     },
     "metadata": {},
     "output_type": "display_data"
    }
   ],
   "source": [
    "display(construct_group_scores_dataframe(fairness_scores, include_confidence=True))"
   ]
  },
  {
   "cell_type": "markdown",
   "metadata": {},
   "source": [
    "For an example of visualizing the fairness results in a chart, see the [fairness metrics notebook](https://github.com/CognitiveScale/cortex-certifai-examples/blob/master/notebooks/fairness_metrics/FairnessMetrics.ipynb)."
   ]
  },
  {
   "cell_type": "markdown",
   "metadata": {},
   "source": [
    "Print out the robustness scores."
   ]
  },
  {
   "cell_type": "code",
   "execution_count": 7,
   "metadata": {},
   "outputs": [
    {
     "data": {
      "text/html": [
       "<div>\n",
       "<style scoped>\n",
       "    .dataframe tbody tr th:only-of-type {\n",
       "        vertical-align: middle;\n",
       "    }\n",
       "\n",
       "    .dataframe tbody tr th {\n",
       "        vertical-align: top;\n",
       "    }\n",
       "\n",
       "    .dataframe thead th {\n",
       "        text-align: right;\n",
       "    }\n",
       "</style>\n",
       "<table border=\"1\" class=\"dataframe\">\n",
       "  <thead>\n",
       "    <tr style=\"text-align: right;\">\n",
       "      <th></th>\n",
       "      <th>context</th>\n",
       "      <th>robustness</th>\n",
       "      <th>robustness lower bound</th>\n",
       "      <th>robustness upper bound</th>\n",
       "    </tr>\n",
       "  </thead>\n",
       "  <tbody>\n",
       "    <tr>\n",
       "      <th>mlp</th>\n",
       "      <td>mlp</td>\n",
       "      <td>66.866121</td>\n",
       "      <td>61.640160</td>\n",
       "      <td>71.767569</td>\n",
       "    </tr>\n",
       "    <tr>\n",
       "      <th>logit</th>\n",
       "      <td>logit</td>\n",
       "      <td>80.519300</td>\n",
       "      <td>76.261203</td>\n",
       "      <td>84.208782</td>\n",
       "    </tr>\n",
       "  </tbody>\n",
       "</table>\n",
       "</div>"
      ],
      "text/plain": [
       "      context  robustness  robustness lower bound  robustness upper bound\n",
       "mlp       mlp   66.866121               61.640160               71.767569\n",
       "logit   logit   80.519300               76.261203               84.208782"
      ]
     },
     "metadata": {},
     "output_type": "display_data"
    }
   ],
   "source": [
    "df = construct_scores_dataframe(scores('robustness', results), include_confidence=True)\n",
    "display(df)"
   ]
  },
  {
   "cell_type": "markdown",
   "metadata": {},
   "source": [
    "Print out the explainability scores."
   ]
  },
  {
   "cell_type": "code",
   "execution_count": 8,
   "metadata": {},
   "outputs": [
    {
     "data": {
      "text/html": [
       "<div>\n",
       "<style scoped>\n",
       "    .dataframe tbody tr th:only-of-type {\n",
       "        vertical-align: middle;\n",
       "    }\n",
       "\n",
       "    .dataframe tbody tr th {\n",
       "        vertical-align: top;\n",
       "    }\n",
       "\n",
       "    .dataframe thead th {\n",
       "        text-align: right;\n",
       "    }\n",
       "</style>\n",
       "<table border=\"1\" class=\"dataframe\">\n",
       "  <thead>\n",
       "    <tr style=\"text-align: right;\">\n",
       "      <th></th>\n",
       "      <th>context</th>\n",
       "      <th>explainability</th>\n",
       "      <th>Num features (1)</th>\n",
       "      <th>Num features (10)</th>\n",
       "      <th>Num features (2)</th>\n",
       "      <th>Num features (3)</th>\n",
       "      <th>Num features (4)</th>\n",
       "      <th>Num features (5)</th>\n",
       "      <th>Num features (6)</th>\n",
       "      <th>Num features (7)</th>\n",
       "      <th>Num features (8)</th>\n",
       "      <th>Num features (9)</th>\n",
       "    </tr>\n",
       "  </thead>\n",
       "  <tbody>\n",
       "    <tr>\n",
       "      <th>mlp</th>\n",
       "      <td>mlp</td>\n",
       "      <td>96.796875</td>\n",
       "      <td>70.3125</td>\n",
       "      <td>0.0</td>\n",
       "      <td>28.1250</td>\n",
       "      <td>1.56250</td>\n",
       "      <td>0.0</td>\n",
       "      <td>0.0</td>\n",
       "      <td>0.00000</td>\n",
       "      <td>0.0</td>\n",
       "      <td>0.0</td>\n",
       "      <td>0.0</td>\n",
       "    </tr>\n",
       "    <tr>\n",
       "      <th>logit</th>\n",
       "      <td>logit</td>\n",
       "      <td>96.601562</td>\n",
       "      <td>76.5625</td>\n",
       "      <td>0.0</td>\n",
       "      <td>20.3125</td>\n",
       "      <td>2.34375</td>\n",
       "      <td>0.0</td>\n",
       "      <td>0.0</td>\n",
       "      <td>0.78125</td>\n",
       "      <td>0.0</td>\n",
       "      <td>0.0</td>\n",
       "      <td>0.0</td>\n",
       "    </tr>\n",
       "  </tbody>\n",
       "</table>\n",
       "</div>"
      ],
      "text/plain": [
       "      context  explainability  Num features (1)  Num features (10)  \\\n",
       "mlp       mlp       96.796875           70.3125                0.0   \n",
       "logit   logit       96.601562           76.5625                0.0   \n",
       "\n",
       "       Num features (2)  Num features (3)  Num features (4)  Num features (5)  \\\n",
       "mlp             28.1250           1.56250               0.0               0.0   \n",
       "logit           20.3125           2.34375               0.0               0.0   \n",
       "\n",
       "       Num features (6)  Num features (7)  Num features (8)  Num features (9)  \n",
       "mlp             0.00000               0.0               0.0               0.0  \n",
       "logit           0.78125               0.0               0.0               0.0  "
      ]
     },
     "metadata": {},
     "output_type": "display_data"
    }
   ],
   "source": [
    "df = construct_scores_dataframe(scores('explainability', results), include_confidence=False)\n",
    "display(df)"
   ]
  }
 ],
 "metadata": {
  "kernelspec": {
   "display_name": "Python 3",
   "language": "python",
   "name": "python3"
  },
  "language_info": {
   "codemirror_mode": {
    "name": "ipython",
    "version": 3
   },
   "file_extension": ".py",
   "mimetype": "text/x-python",
   "name": "python",
   "nbconvert_exporter": "python",
   "pygments_lexer": "ipython3",
   "version": "3.6.12"
  }
 },
 "nbformat": 4,
 "nbformat_minor": 1
}
