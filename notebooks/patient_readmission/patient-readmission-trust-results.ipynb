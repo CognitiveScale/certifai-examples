{
 "cells": [
  {
   "cell_type": "markdown",
   "metadata": {
    "_uuid": "90d890b7e4ff4dbbb27e2b59e50e942c7bb0078c"
   },
   "source": [
    "# Introduction\n",
    "\n",
    "This fifth notebook shows you how to explore the trust score results in a notebook. If you have not already done so, please run the [fourth notebook](patient-readmission-trust-scan.ipynb) to scan the models for their trust scores.\n",
    "\n",
    "In this notebook, we will:\n",
    "1. Load the previously saved trust score reports\n",
    "2. Convert the results into a dataframe and display them\n"
   ]
  },
  {
   "cell_type": "code",
   "execution_count": 1,
   "metadata": {
    "_kg_hide-input": true,
    "_kg_hide-output": true,
    "_uuid": "fba09007b76132d605daa699b39a5fc92ff87ee1"
   },
   "outputs": [],
   "source": [
    "import numpy as np\n",
    "import pandas as pd\n",
    "from pprint import pprint\n",
    "\n",
    "from certifai.scanner.report_reader import ScanReportReader\n",
    "from certifai.scanner.report_utils import scores, construct_scores_dataframe\n",
    "from certifai.scanner.builder import ExplanationType\n",
    "from IPython.display import display, Markdown"
   ]
  },
  {
   "cell_type": "markdown",
   "metadata": {
    "_uuid": "a4490db86a8bb5bdc7bc81d17da9f0a3b690b90c"
   },
   "source": [
    "# Loading the Trust Score Reports\n",
    "\n",
    "To load the reports, we need to know the use case ID ('readmission') and the scan ID.\n",
    "\n",
    "List the available use cases, and the scans within the 'readmission' use case."
   ]
  },
  {
   "cell_type": "code",
   "execution_count": 2,
   "metadata": {},
   "outputs": [
    {
     "name": "stdout",
     "output_type": "stream",
     "text": [
      "              date                                      evals       scan id\n",
      "0  20201004T141144                              fairness, atx  98bbe86c99d0\n",
      "1  20201004T131121  robustness, fairness, explainability, atx  e9ffd5d26bb7\n",
      "2  20201004T122043                                explanation  5c54861f2e8a\n",
      "3  20201004T105121                                explanation  700a8c0e9c86\n",
      "4  20201004T104721                                explanation  4ed8ce9304b8\n",
      "5  20201004T104504                                explanation  8cfbc13c5900\n",
      "6  20201004T104419                                explanation  863495d8b85c\n",
      "7  20201004T101611                                explanation  794cc03f0b4d\n"
     ]
    }
   ],
   "source": [
    "reader = ScanReportReader(\"reports\")\n",
    "reader.list_usecases()\n",
    "scans = reader.list_scans('readmission')\n",
    "data=[[s['date'], ', '.join(s['reportTypes']), s['id']] for s in scans]\n",
    "df = pd.DataFrame(data, columns=['date', 'evals', 'scan id']).sort_values(by=['date'], ascending=False)\n",
    "print(df)"
   ]
  },
  {
   "cell_type": "raw",
   "metadata": {},
   "source": [
    "Locate the latest trust score scan and load it."
   ]
  },
  {
   "cell_type": "code",
   "execution_count": 3,
   "metadata": {},
   "outputs": [],
   "source": [
    "latest_scan = df[df['evals'].str.contains('fairness') & df['evals'].str.contains('robustness')].iloc[0]\n",
    "results = reader.load_scan('readmission', latest_scan['scan id'])"
   ]
  },
  {
   "cell_type": "markdown",
   "metadata": {},
   "source": [
    "# Extract the results\n",
    "\n",
    "In this section we'll construct dataframes containing the score results and display them."
   ]
  },
  {
   "cell_type": "markdown",
   "metadata": {},
   "source": [
    "Print out the fairness results."
   ]
  },
  {
   "cell_type": "code",
   "execution_count": 4,
   "metadata": {},
   "outputs": [
    {
     "data": {
      "text/html": [
       "<div>\n",
       "<style scoped>\n",
       "    .dataframe tbody tr th:only-of-type {\n",
       "        vertical-align: middle;\n",
       "    }\n",
       "\n",
       "    .dataframe tbody tr th {\n",
       "        vertical-align: top;\n",
       "    }\n",
       "\n",
       "    .dataframe thead th {\n",
       "        text-align: right;\n",
       "    }\n",
       "</style>\n",
       "<table border=\"1\" class=\"dataframe\">\n",
       "  <thead>\n",
       "    <tr style=\"text-align: right;\">\n",
       "      <th></th>\n",
       "      <th>context</th>\n",
       "      <th>type</th>\n",
       "      <th>overall fairness</th>\n",
       "      <th>Feature (age)</th>\n",
       "      <th>Group details (15)</th>\n",
       "      <th>Group details (25)</th>\n",
       "      <th>Group details (35)</th>\n",
       "      <th>Group details (45)</th>\n",
       "      <th>Group details (5)</th>\n",
       "      <th>Group details (55)</th>\n",
       "      <th>...</th>\n",
       "      <th>Feature (gender)</th>\n",
       "      <th>Group details (Female)</th>\n",
       "      <th>Group details (Male)</th>\n",
       "      <th>Feature (race)</th>\n",
       "      <th>Group details (AfricanAmerican)</th>\n",
       "      <th>Group details (Asian)</th>\n",
       "      <th>Group details (Caucasian)</th>\n",
       "      <th>Group details (Hispanic)</th>\n",
       "      <th>Group details (Other)</th>\n",
       "      <th>Group details (nan)</th>\n",
       "    </tr>\n",
       "  </thead>\n",
       "  <tbody>\n",
       "    <tr>\n",
       "      <th>logit (burden)</th>\n",
       "      <td>logit</td>\n",
       "      <td>burden</td>\n",
       "      <td>56.175510</td>\n",
       "      <td>56.237860</td>\n",
       "      <td>0.026482</td>\n",
       "      <td>0.234150</td>\n",
       "      <td>0.093466</td>\n",
       "      <td>0.124085</td>\n",
       "      <td>0.000493</td>\n",
       "      <td>0.055415</td>\n",
       "      <td>...</td>\n",
       "      <td>84.721827</td>\n",
       "      <td>0.088344</td>\n",
       "      <td>0.065051</td>\n",
       "      <td>64.198991</td>\n",
       "      <td>0.079880</td>\n",
       "      <td>0.024047</td>\n",
       "      <td>0.096890</td>\n",
       "      <td>0.065421</td>\n",
       "      <td>0.065434</td>\n",
       "      <td>0.014086</td>\n",
       "    </tr>\n",
       "    <tr>\n",
       "      <th>mlp (burden)</th>\n",
       "      <td>mlp</td>\n",
       "      <td>burden</td>\n",
       "      <td>71.895673</td>\n",
       "      <td>77.140629</td>\n",
       "      <td>0.043008</td>\n",
       "      <td>0.107225</td>\n",
       "      <td>0.068858</td>\n",
       "      <td>0.074807</td>\n",
       "      <td>0.010121</td>\n",
       "      <td>0.067391</td>\n",
       "      <td>...</td>\n",
       "      <td>88.830662</td>\n",
       "      <td>0.074335</td>\n",
       "      <td>0.059524</td>\n",
       "      <td>71.926641</td>\n",
       "      <td>0.064545</td>\n",
       "      <td>0.034484</td>\n",
       "      <td>0.078982</td>\n",
       "      <td>0.082273</td>\n",
       "      <td>0.059485</td>\n",
       "      <td>0.018051</td>\n",
       "    </tr>\n",
       "  </tbody>\n",
       "</table>\n",
       "<p>2 rows × 24 columns</p>\n",
       "</div>"
      ],
      "text/plain": [
       "               context    type  overall fairness  Feature (age)  \\\n",
       "logit (burden)   logit  burden         56.175510      56.237860   \n",
       "mlp (burden)       mlp  burden         71.895673      77.140629   \n",
       "\n",
       "                Group details (15)  Group details (25)  Group details (35)  \\\n",
       "logit (burden)            0.026482            0.234150            0.093466   \n",
       "mlp (burden)              0.043008            0.107225            0.068858   \n",
       "\n",
       "                Group details (45)  Group details (5)  Group details (55)  \\\n",
       "logit (burden)            0.124085           0.000493            0.055415   \n",
       "mlp (burden)              0.074807           0.010121            0.067391   \n",
       "\n",
       "                ...  Feature (gender)  Group details (Female)  \\\n",
       "logit (burden)  ...         84.721827                0.088344   \n",
       "mlp (burden)    ...         88.830662                0.074335   \n",
       "\n",
       "                Group details (Male)  Feature (race)  \\\n",
       "logit (burden)              0.065051       64.198991   \n",
       "mlp (burden)                0.059524       71.926641   \n",
       "\n",
       "                Group details (AfricanAmerican)  Group details (Asian)  \\\n",
       "logit (burden)                         0.079880               0.024047   \n",
       "mlp (burden)                           0.064545               0.034484   \n",
       "\n",
       "                Group details (Caucasian)  Group details (Hispanic)  \\\n",
       "logit (burden)                   0.096890                  0.065421   \n",
       "mlp (burden)                     0.078982                  0.082273   \n",
       "\n",
       "                Group details (Other)  Group details (nan)  \n",
       "logit (burden)               0.065434             0.014086  \n",
       "mlp (burden)                 0.059485             0.018051  \n",
       "\n",
       "[2 rows x 24 columns]"
      ]
     },
     "metadata": {},
     "output_type": "display_data"
    }
   ],
   "source": [
    "df = construct_scores_dataframe(scores('fairness', results), include_confidence=False)\n",
    "age_cols = [str(col) for col in df.columns if '5' in col]\n",
    "display(df)"
   ]
  },
  {
   "cell_type": "markdown",
   "metadata": {},
   "source": [
    "For an example of visualizing the fairness results in a chart, see the [fairness metrics notebook](https://raw.githubusercontent.com/CognitiveScale/cortex-certifai-examples/sdk-model-examples/notebooks/fairness_metrics)."
   ]
  },
  {
   "cell_type": "markdown",
   "metadata": {},
   "source": [
    "Print out the robustness scores."
   ]
  },
  {
   "cell_type": "code",
   "execution_count": 5,
   "metadata": {},
   "outputs": [
    {
     "data": {
      "text/html": [
       "<div>\n",
       "<style scoped>\n",
       "    .dataframe tbody tr th:only-of-type {\n",
       "        vertical-align: middle;\n",
       "    }\n",
       "\n",
       "    .dataframe tbody tr th {\n",
       "        vertical-align: top;\n",
       "    }\n",
       "\n",
       "    .dataframe thead th {\n",
       "        text-align: right;\n",
       "    }\n",
       "</style>\n",
       "<table border=\"1\" class=\"dataframe\">\n",
       "  <thead>\n",
       "    <tr style=\"text-align: right;\">\n",
       "      <th></th>\n",
       "      <th>context</th>\n",
       "      <th>robustness</th>\n",
       "      <th>robustness lower bound</th>\n",
       "      <th>robustness upper bound</th>\n",
       "    </tr>\n",
       "  </thead>\n",
       "  <tbody>\n",
       "    <tr>\n",
       "      <th>mlp</th>\n",
       "      <td>mlp</td>\n",
       "      <td>47.700394</td>\n",
       "      <td>42.569500</td>\n",
       "      <td>52.792079</td>\n",
       "    </tr>\n",
       "    <tr>\n",
       "      <th>logit</th>\n",
       "      <td>logit</td>\n",
       "      <td>52.326452</td>\n",
       "      <td>49.128134</td>\n",
       "      <td>55.520053</td>\n",
       "    </tr>\n",
       "  </tbody>\n",
       "</table>\n",
       "</div>"
      ],
      "text/plain": [
       "      context  robustness  robustness lower bound  robustness upper bound\n",
       "mlp       mlp   47.700394               42.569500               52.792079\n",
       "logit   logit   52.326452               49.128134               55.520053"
      ]
     },
     "metadata": {},
     "output_type": "display_data"
    }
   ],
   "source": [
    "df = construct_scores_dataframe(scores('robustness', results), include_confidence=True)\n",
    "display(df)"
   ]
  },
  {
   "cell_type": "markdown",
   "metadata": {},
   "source": [
    "Print out the explainability scores."
   ]
  },
  {
   "cell_type": "code",
   "execution_count": 6,
   "metadata": {},
   "outputs": [
    {
     "data": {
      "text/html": [
       "<div>\n",
       "<style scoped>\n",
       "    .dataframe tbody tr th:only-of-type {\n",
       "        vertical-align: middle;\n",
       "    }\n",
       "\n",
       "    .dataframe tbody tr th {\n",
       "        vertical-align: top;\n",
       "    }\n",
       "\n",
       "    .dataframe thead th {\n",
       "        text-align: right;\n",
       "    }\n",
       "</style>\n",
       "<table border=\"1\" class=\"dataframe\">\n",
       "  <thead>\n",
       "    <tr style=\"text-align: right;\">\n",
       "      <th></th>\n",
       "      <th>context</th>\n",
       "      <th>explainability</th>\n",
       "      <th>Num features (1)</th>\n",
       "      <th>Num features (10)</th>\n",
       "      <th>Num features (2)</th>\n",
       "      <th>Num features (3)</th>\n",
       "      <th>Num features (4)</th>\n",
       "      <th>Num features (5)</th>\n",
       "      <th>Num features (6)</th>\n",
       "      <th>Num features (7)</th>\n",
       "      <th>Num features (8)</th>\n",
       "      <th>Num features (9)</th>\n",
       "    </tr>\n",
       "  </thead>\n",
       "  <tbody>\n",
       "    <tr>\n",
       "      <th>logit</th>\n",
       "      <td>logit</td>\n",
       "      <td>94.726562</td>\n",
       "      <td>53.1250</td>\n",
       "      <td>0.0</td>\n",
       "      <td>42.96875</td>\n",
       "      <td>3.90625</td>\n",
       "      <td>0.0</td>\n",
       "      <td>0.0</td>\n",
       "      <td>0.0</td>\n",
       "      <td>0.0</td>\n",
       "      <td>0.0</td>\n",
       "      <td>0.0</td>\n",
       "    </tr>\n",
       "    <tr>\n",
       "      <th>mlp</th>\n",
       "      <td>mlp</td>\n",
       "      <td>96.640625</td>\n",
       "      <td>73.4375</td>\n",
       "      <td>0.0</td>\n",
       "      <td>21.87500</td>\n",
       "      <td>4.68750</td>\n",
       "      <td>0.0</td>\n",
       "      <td>0.0</td>\n",
       "      <td>0.0</td>\n",
       "      <td>0.0</td>\n",
       "      <td>0.0</td>\n",
       "      <td>0.0</td>\n",
       "    </tr>\n",
       "  </tbody>\n",
       "</table>\n",
       "</div>"
      ],
      "text/plain": [
       "      context  explainability  Num features (1)  Num features (10)  \\\n",
       "logit   logit       94.726562           53.1250                0.0   \n",
       "mlp       mlp       96.640625           73.4375                0.0   \n",
       "\n",
       "       Num features (2)  Num features (3)  Num features (4)  Num features (5)  \\\n",
       "logit          42.96875           3.90625               0.0               0.0   \n",
       "mlp            21.87500           4.68750               0.0               0.0   \n",
       "\n",
       "       Num features (6)  Num features (7)  Num features (8)  Num features (9)  \n",
       "logit               0.0               0.0               0.0               0.0  \n",
       "mlp                 0.0               0.0               0.0               0.0  "
      ]
     },
     "metadata": {},
     "output_type": "display_data"
    }
   ],
   "source": [
    "df = construct_scores_dataframe(scores('explainability', results), include_confidence=False)\n",
    "display(df)"
   ]
  }
 ],
 "metadata": {
  "kernelspec": {
   "display_name": "Python 3",
   "language": "python",
   "name": "python3"
  },
  "language_info": {
   "codemirror_mode": {
    "name": "ipython",
    "version": 3
   },
   "file_extension": ".py",
   "mimetype": "text/x-python",
   "name": "python",
   "nbconvert_exporter": "python",
   "pygments_lexer": "ipython3",
   "version": "3.6.12"
  }
 },
 "nbformat": 4,
 "nbformat_minor": 1
}
