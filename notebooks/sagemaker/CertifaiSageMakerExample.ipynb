{
 "cells": [
  {
   "cell_type": "markdown",
   "metadata": {},
   "source": [
    "Copyright (c) 2020. Cognitive Scale Inc. All rights reserved.\n",
    "Licensed under CognitiveScale Example Code [License](https://github.com/CognitiveScale/cortex-certifai-examples/blob/7998b8a481fccd467463deb1fc46d19622079b0e/LICENSE.md)\n"
   ]
  },
  {
   "cell_type": "markdown",
   "metadata": {},
   "source": [
    "\n",
    "\n",
    "# Running Cortex Certifai Scan on Sklearn model built and deployed on AWS Sagemaker using Certifai Model Connectors\n",
    "\n",
    "\n",
    "In this tutorial we will create sklearn models to classify german credit loan risk (predict whether loan will be granted or not). Models are built using Scikit-learn with [Sagemaker](https://sagemaker.readthedocs.io/en/stable/using_sklearn.html) by utilizing the pre-built container. Cortex Certifai provides first class support for various machine learning platforms including aws-sagemaker. We will then use [Cortex Certifai Toolkit](https://www.cognitivescale.com/download-certifai/) to launch fairness evaluation on the hosted models"
   ]
  },
  {
   "cell_type": "markdown",
   "metadata": {},
   "source": [
    "### Prerequisites\n",
    "\n",
    "This notebook was created and tested on an ml.m4.xlarge sagemaker notebook instance. However you can also run it locally by making sure you have the [aws profile](https://docs.aws.amazon.com/cli/latest/reference/configure/) configured and following dependencies installed on your system\n",
    "\n",
    "\n",
    "- python>=3.6.2,<=3.7\n",
    "- scikit-learn==0.23.1\n",
    "- numpy==1.18.1\n",
    "- pandas\n",
    "- sagemaker==1.58.2\n",
    "- boto3 >= 1.0.0,< 2.0.0\n",
    "- ipython\n",
    "- matplotlib\n",
    "- jupyter\n",
    "- [optional for configuring aws profile] awscli==1.18.61\n",
    "- wget (when running locally on mac/windows)\n",
    "- certifai_toolkit>=1.12.14\n",
    "\n",
    "> **Please note**: this tutorial assumes you have downloaded the [Cortex Certifai Toolkit](https://www.cognitivescale.com/download-certifai/) and uploaded it to your `S3` bucket which will be later used to install certifai packages.\n",
    "> Also make sure you have configured aws with right roles and region for using S3 bucket and sagemaker utilities."
   ]
  },
  {
   "cell_type": "markdown",
   "metadata": {},
   "source": [
    "### First, lets create our Sagemaker session and role and create a S3 prefix to use for the notebook example.\n"
   ]
  },
  {
   "cell_type": "markdown",
   "metadata": {},
   "source": [
    "#### [optional for local uage] sagemaker iam role guide setting up permissions (roles) for running this notebook locally\n",
    "- follow the [sagemaker-iam-role-documentation](https://docs.aws.amazon.com/glue/latest/dg/create-an-iam-role-sagemaker-notebook.html) for creating an `iam-role`\n",
    "\n",
    "> this notebook was built using iam-role `AmazonSageMakerFullAccess`\n",
    "\n",
    "make sure `~/.aws/configure` looks like below\n",
    "\n",
    "\n",
    "```\n",
    "[default]\n",
    "region = <aws-region>\n",
    "output = <YAML>\n",
    "role_arn = <aws_iam_role>\n",
    "source_profile = default\n",
    "```\n",
    "and `~/.aws/credentials` has the necessary access and secret access keys\n",
    "\n",
    "```\n",
    "[default]\n",
    "aws_access_key_id = <access_key_id>\n",
    "aws_secret_access_key = <secret_access_key>\n",
    "```\n",
    "\n",
    "**PleaseNote**:  Once you have the execution role setup (using iam-role guide from above), you must enable `Trust Policy` which specifies who is allowed to assume the associated role. If this is missing you might get an **error \n",
    "user <user1\\> unable to  STS AssumeRole**. Refer to [trust-policy-iam-role](https://aws.amazon.com/blogs/security/how-to-use-a-single-iam-user-to-easily-access-all-your-accounts-by-using-the-aws-cli/)"
   ]
  },
  {
   "cell_type": "markdown",
   "metadata": {},
   "source": [
    "### Install Scikit-Learn"
   ]
  },
  {
   "cell_type": "code",
   "execution_count": 1,
   "metadata": {},
   "outputs": [
    {
     "name": "stdout",
     "output_type": "stream",
     "text": [
      "Requirement already satisfied: scikit-learn==0.23.1 in /Users/administrator/anaconda3/envs/certifai36/lib/python3.6/site-packages (0.23.1)\n",
      "Requirement already satisfied: numpy>=1.13.3 in /Users/administrator/anaconda3/envs/certifai36/lib/python3.6/site-packages (from scikit-learn==0.23.1) (1.18.1)\n",
      "Requirement already satisfied: scipy>=0.19.1 in /Users/administrator/anaconda3/envs/certifai36/lib/python3.6/site-packages (from scikit-learn==0.23.1) (1.5.4)\n",
      "Requirement already satisfied: joblib>=0.11 in /Users/administrator/anaconda3/envs/certifai36/lib/python3.6/site-packages (from scikit-learn==0.23.1) (0.17.0)\n",
      "Requirement already satisfied: threadpoolctl>=2.0.0 in /Users/administrator/anaconda3/envs/certifai36/lib/python3.6/site-packages (from scikit-learn==0.23.1) (2.1.0)\n"
     ]
    }
   ],
   "source": [
    "!pip install scikit-learn==0.23.1"
   ]
  },
  {
   "cell_type": "code",
   "execution_count": 2,
   "metadata": {},
   "outputs": [],
   "source": [
    "# S3 prefix\n",
    "prefix = 'german-credit-certifai'\n",
    "\n",
    "import sagemaker\n",
    "from sagemaker import get_execution_role\n",
    "\n",
    "sagemaker_session = sagemaker.Session()\n",
    "\n",
    "# Get a SageMaker-compatible role used by this Notebook Instance.(set role in ~/.aws/config when running locally)\n",
    "role = get_execution_role()"
   ]
  },
  {
   "cell_type": "markdown",
   "metadata": {},
   "source": [
    "### Download german credit dataset from UCI "
   ]
  },
  {
   "cell_type": "markdown",
   "metadata": {},
   "source": [
    "- on macOS wget can be installed via homebrew `brew install wget`\n",
    "- on windows download wget from [here](http://gnuwin32.sourceforge.net/packages/wget.htm)"
   ]
  },
  {
   "cell_type": "code",
   "execution_count": 3,
   "metadata": {},
   "outputs": [
    {
     "name": "stdout",
     "output_type": "stream",
     "text": [
      "--2020-11-26 17:08:49--  https://archive.ics.uci.edu/ml/machine-learning-databases/statlog/german/german.data\n",
      "Resolving archive.ics.uci.edu (archive.ics.uci.edu)... 128.195.10.252\n",
      "Connecting to archive.ics.uci.edu (archive.ics.uci.edu)|128.195.10.252|:443... connected.\n",
      "HTTP request sent, awaiting response... 200 OK\n",
      "Length: 79793 (78K) [application/x-httpd-php]\n",
      "Saving to: ‘german_credit.csv’\n",
      "\n",
      "german_credit.csv   100%[===================>]  77.92K   154KB/s    in 0.5s    \n",
      "\n",
      "2020-11-26 17:08:50 (154 KB/s) - ‘german_credit.csv’ saved [79793/79793]\n",
      "\n"
     ]
    }
   ],
   "source": [
    "!wget https://archive.ics.uci.edu/ml/machine-learning-databases/statlog/german/german.data -O german_credit.csv"
   ]
  },
  {
   "cell_type": "markdown",
   "metadata": {},
   "source": [
    "### Convert downloaded raw dataset to encoded csv"
   ]
  },
  {
   "cell_type": "code",
   "execution_count": 4,
   "metadata": {},
   "outputs": [
    {
     "name": "stdout",
     "output_type": "stream",
     "text": [
      "saving decoded data as data/german_credit-decoded.csv\n"
     ]
    }
   ],
   "source": [
    "from decode_data import make_decoded_data\n",
    "!mkdir -p ./data\n",
    "make_decoded_data(\"data/german_credit-decoded.csv\")"
   ]
  },
  {
   "cell_type": "markdown",
   "metadata": {},
   "source": [
    "\n",
    "\n",
    "### Test to confirm correct version of scikit-learn and numpy are installed\n"
   ]
  },
  {
   "cell_type": "code",
   "execution_count": 5,
   "metadata": {},
   "outputs": [],
   "source": [
    "import sklearn as sklearn_version_test\n",
    "import numpy as numpy_version_test\n",
    "assert sklearn_version_test.__version__ == '0.23.1', 'scikit-learn version mismatch, `!pip install scikit-learn==0.22.1` paste this command in a cell to install right sklearn version for this notebook'\n",
    "assert numpy_version_test.__version__   == '1.18.1', 'numpy version mismatch, `!pip install numpy==1.18.1` paste this command in a cell to install right numpy version for this notebook'"
   ]
  },
  {
   "cell_type": "markdown",
   "metadata": {},
   "source": [
    "### Upload the encoded dataset to S3 for training "
   ]
  },
  {
   "cell_type": "code",
   "execution_count": 6,
   "metadata": {},
   "outputs": [],
   "source": [
    "WORK_DIRECTORY = 'data'\n",
    "train_input = sagemaker_session.upload_data(WORK_DIRECTORY, key_prefix=\"{}/{}\".format(prefix, WORK_DIRECTORY) )"
   ]
  },
  {
   "cell_type": "markdown",
   "metadata": {},
   "source": [
    "### Create a Scikit-learn script to train with "
   ]
  },
  {
   "cell_type": "markdown",
   "metadata": {},
   "source": [
    "SageMaker can run a scikit-learn script using the SKLearn estimator. When executed on SageMaker a number of environment variables are available to access properties of the training environment, such as:\n",
    "\n",
    "- SM_MODEL_DIR: A string representing the path to the directory to write model artifacts to. Any artifacts saved in this folder are uploaded to S3 for model hosting after the training job completes.\n",
    "-  SM_OUTPUT_DIR: A string representing the filesystem path to write output artifacts to. Output artifacts may include checkpoints, graphs, and other files to save, not including model artifacts. These artifacts are compressed and uploaded to S3 to the same S3 prefix as the model artifacts.\n",
    "\n",
    "Supposing two input channels, 'train' and 'test', were used in the call to the SKLearn estimator's fit() method, the following environment variables will be set, following the format SM_CHANNEL_[channel_name]:\n",
    "\n",
    "    SM_CHANNEL_TRAIN: A string representing the path to the directory containing data in the 'train' channel\n",
    "    SM_CHANNEL_TEST: Same as above, but for the 'test' channel.\n",
    "\n",
    "A typical training script loads data from the input channels, configures training with hyperparameters, trains a model, and saves a model to model_dir so that it can be hosted later. Hyperparameters are passed to script as arguments and can be retrieved with an argparse.ArgumentParser instance. For example, the script that we will run in this notebook is the below:"
   ]
  },
  {
   "cell_type": "markdown",
   "metadata": {},
   "source": [
    "### Create encoder for the encoding categorical features\n",
    "\n",
    "Note all extra modules and files must be in a directory to be uploaded to sagemaker. We create a directory name `source_dir` and add our files"
   ]
  },
  {
   "cell_type": "code",
   "execution_count": 7,
   "metadata": {},
   "outputs": [],
   "source": [
    "!mkdir -p source_dir"
   ]
  },
  {
   "cell_type": "code",
   "execution_count": 8,
   "metadata": {},
   "outputs": [
    {
     "name": "stdout",
     "output_type": "stream",
     "text": [
      "Writing source_dir/cat_encoder.py\n"
     ]
    }
   ],
   "source": [
    "%%writefile source_dir/cat_encoder.py\n",
    "\n",
    "from sklearn import preprocessing\n",
    "from sklearn.preprocessing import StandardScaler\n",
    "import numpy as np\n",
    "\n",
    "class CatEncoder:\n",
    "    def __init__(self, cat_columns, data, normalize: bool=True):\n",
    "        self.cat_indexes = [data.columns.get_loc(name) for name in cat_columns]\n",
    "        self.num_indexes = [idx for idx in range(len(data.columns)) if idx not in self.cat_indexes]\n",
    "        self.encoder = preprocessing.OneHotEncoder()\n",
    "        self.encoder.fit(data[cat_columns])\n",
    "        self.num_columns = list(data.columns[self.num_indexes])\n",
    "        self.cat_columns = cat_columns\n",
    "        cat_transformed_names = self.encoder.get_feature_names(input_features=self.cat_columns)\n",
    "        self._transformed_column_names =  self.num_columns + list(cat_transformed_names)\n",
    "        if normalize:\n",
    "            self.normalizer = StandardScaler()\n",
    "            self.normalizer.fit(data.iloc[:, self.num_indexes])\n",
    "        else:\n",
    "            self.normalizer = None\n",
    "\n",
    "    def __call__(self, x):\n",
    "        numeric = x[:, self.num_indexes]\n",
    "        if self.normalizer is not None:\n",
    "            numeric = self.normalizer.transform(numeric)\n",
    "        categorical = self.encoder.transform(x[:, self.cat_indexes]).toarray()\n",
    "        return np.concatenate((numeric, categorical), axis=1)\n",
    "\n",
    "    @property\n",
    "    def transformed_features(self):\n",
    "        return self._transformed_column_names\n"
   ]
  },
  {
   "cell_type": "markdown",
   "metadata": {},
   "source": [
    "### Create requirements.txt file for any training/inference specific python packages/versions"
   ]
  },
  {
   "cell_type": "code",
   "execution_count": 9,
   "metadata": {},
   "outputs": [
    {
     "name": "stdout",
     "output_type": "stream",
     "text": [
      "Writing source_dir/requirements.txt\n"
     ]
    }
   ],
   "source": [
    "%%writefile source_dir/requirements.txt\n",
    "scikit-learn==0.22.1\n",
    "numpy==1.18.1"
   ]
  },
  {
   "cell_type": "markdown",
   "metadata": {},
   "source": [
    "### Create logistic model training and inference script"
   ]
  },
  {
   "cell_type": "code",
   "execution_count": 10,
   "metadata": {},
   "outputs": [
    {
     "name": "stdout",
     "output_type": "stream",
     "text": [
      "Writing source_dir/logistic_script.py\n"
     ]
    }
   ],
   "source": [
    "%%writefile source_dir/logistic_script.py\n",
    "\n",
    "import argparse\n",
    "import os\n",
    "import pandas as pd\n",
    "import numpy as np\n",
    "from sklearn.linear_model import LogisticRegression\n",
    "from sklearn.model_selection import GridSearchCV\n",
    "from sklearn.model_selection import train_test_split\n",
    "import random\n",
    "import joblib\n",
    "import numpy as np\n",
    "from cat_encoder import CatEncoder\n",
    "import json\n",
    "\n",
    "# inference functions ---------------\n",
    "def model_fn(model_dir):\n",
    "    print(f'listing model dir {os.listdir(model_dir)}' )\n",
    "    clf = joblib.load(os.path.join(model_dir,'german_credit_logit.joblib'))\n",
    "    print(clf)\n",
    "    return clf\n",
    "\n",
    "\n",
    "def input_fn(request_body, request_content_type):\n",
    "    \"\"\"An input_fn that loads a json bytes string. \n",
    "    Certifai invokes model with the json schema -> {\"payload\": {\"instances\": [ [6,107,88,0,0,36.8,0.727,31], [5,100,80,0,0,31.9,0.61,33] ]}}\n",
    "    \"\"\"\n",
    "    if request_content_type == \"application/json\":\n",
    "        input_data  = json.loads(request_body).get('payload', {}).get('instances', [])\n",
    "        data  = np.array(input_data, dtype=object)\n",
    "        data  = data if data.ndim == 2 else np.reshape(data, (1, -1))\n",
    "        return data\n",
    "    else:\n",
    "        raise Exception(f'content type {request_content_type} not supported')\n",
    "\n",
    "def predict_fn(input_data, clf):\n",
    "    \"\"\"certifai expects model response with json\n",
    "    schema -> {\"payload\": {\"predictions\": [1,0]} }\n",
    "    \"\"\"\n",
    "    model = clf.get('model')\n",
    "    encoder = clf.get('encoder')\n",
    "    try:\n",
    "        prediction = model.predict(encoder(input_data))\n",
    "        print(prediction)\n",
    "        return {\"payload\":{ \"predictions\": prediction.tolist()} }\n",
    "    except Exception as e:\n",
    "        return {\"payload\":{ \"error\": str(e)}}\n",
    "                \n",
    "\n",
    "\n",
    "if __name__ =='__main__':\n",
    "    print('extracting arguments')\n",
    "    parser = argparse.ArgumentParser()\n",
    "\n",
    "    # Data, model, and output directories\n",
    "    parser.add_argument('--model-dir', type=str, default=os.environ.get('SM_MODEL_DIR'))\n",
    "    parser.add_argument('--train', type=str, default=os.environ.get('SM_CHANNEL_TRAIN'))\n",
    "    parser.add_argument('--train-file', type=str, default='german_credit-decoded.csv')\n",
    "    \n",
    "    # hyperparams for training\n",
    "    parser.add_argument('--max_iter', type=list,  default=[1000])\n",
    "    parser.add_argument('--solver',   type=list,  default= ['lbfgs'])\n",
    "    parser.add_argument('--C',        type=tuple, default=(0.5, 1.0, 2.0))\n",
    "\n",
    "    args, _ = parser.parse_known_args()    \n",
    "    \n",
    "    print('reading data')\n",
    "    df = pd.read_csv(os.path.join(args.train, args.train_file))\n",
    "    cat_columns = [\n",
    "    'checkingstatus',\n",
    "    'history',\n",
    "    'purpose',\n",
    "    'savings',\n",
    "    'employ',\n",
    "    'status',\n",
    "    'others',\n",
    "    'property',\n",
    "    'age',\n",
    "    'otherplans',\n",
    "    'housing',\n",
    "    'job',\n",
    "    'telephone',\n",
    "    'foreign'\n",
    "    ]\n",
    "\n",
    "    label_column = 'outcome'\n",
    "    y = df[label_column]\n",
    "    X = df.drop(label_column, axis=1)\n",
    "    X_train, X_test, y_train, y_test = train_test_split(X, y, test_size=0.20, random_state=42)\n",
    "    \n",
    "    # apply categorical encoder to data     \n",
    "    encoder = CatEncoder(cat_columns, X)\n",
    "    \n",
    "    parameters = {'C':args.C, 'solver':args.solver, 'max_iter':args.max_iter}\n",
    "    \n",
    "    m = LogisticRegression()\n",
    "    model = GridSearchCV(m, parameters, cv=3)\n",
    "    model.fit(encoder(X_train.values), y_train)\n",
    "\n",
    "    # Assess on the test data\n",
    "    accuracy = model.score(encoder(X_test.values), y_test)\n",
    "    print(f\"Model accuracy is {accuracy}\")\n",
    "  \n",
    "    # create artifact object with model and encoder\n",
    "    model_path = os.path.join(args.model_dir, 'german_credit_logit')\n",
    "    model_path = f'{model_path}.joblib'\n",
    "    model_obj = {\n",
    "        \"model\":model,\n",
    "        \"encoder\":encoder\n",
    "    }\n",
    "    joblib.dump(value=model_obj, filename=model_path)\n",
    "    print(f'model {model_obj} saved on disk as {model_path}')\n"
   ]
  },
  {
   "cell_type": "markdown",
   "metadata": {},
   "source": [
    "### training logistic model locally"
   ]
  },
  {
   "cell_type": "code",
   "execution_count": 11,
   "metadata": {},
   "outputs": [
    {
     "name": "stdout",
     "output_type": "stream",
     "text": [
      "extracting arguments\n",
      "reading data\n",
      "Model accuracy is 0.805\n",
      "model {'model': GridSearchCV(cv=3, estimator=LogisticRegression(),\n",
      "             param_grid={'C': (0.5, 1.0, 2.0), 'max_iter': [1000],\n",
      "                         'solver': ['lbfgs']}), 'encoder': <cat_encoder.CatEncoder object at 0x112a9dda0>} saved on disk as ./german_credit_logit.joblib\n"
     ]
    }
   ],
   "source": [
    "! python source_dir/logistic_script.py --model-dir ./ \\\n",
    "                   --train ./data \\"
   ]
  },
  {
   "cell_type": "markdown",
   "metadata": {},
   "source": [
    "### Create SageMaker Scikit Estimator for logistic model"
   ]
  },
  {
   "cell_type": "markdown",
   "metadata": {},
   "source": [
    "To run our Scikit-learn training script on SageMaker, we construct a sagemaker.sklearn.estimator.sklearn estimator, which accepts several constructor arguments:\n",
    "\n",
    "-    entry_point: The path to the Python script SageMaker runs for training and prediction.\n",
    "-    role: Role ARN\n",
    "-    train_instance_type (optional): The type of SageMaker instances for training. Note: Because Scikit-learn does not natively support GPU training, Sagemaker Scikit-learn does not currently support training on GPU instance types.\n",
    "-    sagemaker_session (optional): The session used to train on Sagemaker.\n",
    "-    hyperparameters (optional): A dictionary passed to the train function as hyperparameters.\n"
   ]
  },
  {
   "cell_type": "code",
   "execution_count": 13,
   "metadata": {},
   "outputs": [],
   "source": [
    "from sagemaker.sklearn.estimator import SKLearn\n",
    "\n",
    "sklearn_logistic = SKLearn(\n",
    "    entry_point='logistic_script.py',\n",
    "    framework_version=\"0.23-1\",\n",
    "    py_version=\"py3\",\n",
    "    source_dir='source_dir',\n",
    "    train_instance_type=\"ml.c4.xlarge\",\n",
    "    role=role,\n",
    "    sagemaker_session=sagemaker_session\n",
    "    )\n"
   ]
  },
  {
   "cell_type": "markdown",
   "metadata": {},
   "source": [
    "### Train SKLearn logistic model Estimator on german credit encoded data uploaded to S3\n",
    "Training is very simple, just call fit on the Estimator. This will start a SageMaker Training job that will download the data for us, invoke our scikit-learn code (in the provided script file inside the source_dir), and save any model artifacts that the script creates."
   ]
  },
  {
   "cell_type": "code",
   "execution_count": 14,
   "metadata": {},
   "outputs": [
    {
     "name": "stdout",
     "output_type": "stream",
     "text": [
      "2020-11-26 11:40:13 Starting - Starting the training job...\n",
      "2020-11-26 11:40:15 Starting - Launching requested ML instances...\n",
      "2020-11-26 11:41:21 Starting - Preparing the instances for training......\n",
      "2020-11-26 11:42:09 Downloading - Downloading input data...\n",
      "2020-11-26 11:43:01 Training - Training image download completed. Training in progress..\u001b[34m2020-11-26 11:43:01,272 sagemaker-training-toolkit INFO     Imported framework sagemaker_sklearn_container.training\u001b[0m\n",
      "\u001b[34m2020-11-26 11:43:01,274 sagemaker-training-toolkit INFO     No GPUs detected (normal if no gpus installed)\u001b[0m\n",
      "\u001b[34m2020-11-26 11:43:01,283 sagemaker_sklearn_container.training INFO     Invoking user training script.\u001b[0m\n",
      "\u001b[34m2020-11-26 11:43:01,657 sagemaker-training-toolkit INFO     Installing dependencies from requirements.txt:\u001b[0m\n",
      "\u001b[34m/miniconda3/bin/python -m pip install -r requirements.txt\u001b[0m\n",
      "\u001b[34mCollecting scikit-learn==0.22.1\n",
      "  Downloading scikit_learn-0.22.1-cp37-cp37m-manylinux1_x86_64.whl (7.0 MB)\u001b[0m\n",
      "\u001b[34mCollecting numpy==1.18.1\n",
      "  Downloading numpy-1.18.1-cp37-cp37m-manylinux1_x86_64.whl (20.1 MB)\u001b[0m\n",
      "\u001b[34mRequirement already satisfied: scipy>=0.17.0 in /miniconda3/lib/python3.7/site-packages (from scikit-learn==0.22.1->-r requirements.txt (line 1)) (1.5.3)\u001b[0m\n",
      "\u001b[34mRequirement already satisfied: joblib>=0.11 in /miniconda3/lib/python3.7/site-packages (from scikit-learn==0.22.1->-r requirements.txt (line 1)) (0.17.0)\u001b[0m\n",
      "\u001b[34mInstalling collected packages: numpy, scikit-learn\n",
      "  Attempting uninstall: numpy\n",
      "    Found existing installation: numpy 1.19.2\u001b[0m\n",
      "\u001b[34m    Uninstalling numpy-1.19.2:\n",
      "      Successfully uninstalled numpy-1.19.2\u001b[0m\n",
      "\u001b[34m  Attempting uninstall: scikit-learn\n",
      "    Found existing installation: scikit-learn 0.23.2\n",
      "    Uninstalling scikit-learn-0.23.2:\n",
      "      Successfully uninstalled scikit-learn-0.23.2\u001b[0m\n",
      "\u001b[34mERROR: After October 2020 you may experience errors when installing or updating packages. This is because pip will change the way that it resolves dependency conflicts.\n",
      "\u001b[0m\n",
      "\u001b[34mWe recommend you use --use-feature=2020-resolver to test your packages with the new resolver before it becomes the default.\n",
      "\u001b[0m\n",
      "\u001b[34msagemaker-sklearn-container 2.0 requires scikit-learn==0.23.2, but you'll have scikit-learn 0.22.1 which is incompatible.\u001b[0m\n",
      "\u001b[34mSuccessfully installed numpy-1.19.2 scikit-learn-0.22.1\u001b[0m\n",
      "\u001b[34m2020-11-26 11:43:07,576 sagemaker-training-toolkit INFO     No GPUs detected (normal if no gpus installed)\u001b[0m\n",
      "\u001b[34m2020-11-26 11:43:07,590 sagemaker-training-toolkit INFO     No GPUs detected (normal if no gpus installed)\u001b[0m\n",
      "\u001b[34m2020-11-26 11:43:07,601 sagemaker-training-toolkit INFO     No GPUs detected (normal if no gpus installed)\u001b[0m\n",
      "\u001b[34m2020-11-26 11:43:07,611 sagemaker-training-toolkit INFO     Invoking user script\n",
      "\u001b[0m\n",
      "\u001b[34mTraining Env:\n",
      "\u001b[0m\n",
      "\u001b[34m{\n",
      "    \"additional_framework_parameters\": {},\n",
      "    \"channel_input_dirs\": {\n",
      "        \"train\": \"/opt/ml/input/data/train\"\n",
      "    },\n",
      "    \"current_host\": \"algo-1\",\n",
      "    \"framework_module\": \"sagemaker_sklearn_container.training:main\",\n",
      "    \"hosts\": [\n",
      "        \"algo-1\"\n",
      "    ],\n",
      "    \"hyperparameters\": {},\n",
      "    \"input_config_dir\": \"/opt/ml/input/config\",\n",
      "    \"input_data_config\": {\n",
      "        \"train\": {\n",
      "            \"TrainingInputMode\": \"File\",\n",
      "            \"S3DistributionType\": \"FullyReplicated\",\n",
      "            \"RecordWrapperType\": \"None\"\n",
      "        }\n",
      "    },\n",
      "    \"input_dir\": \"/opt/ml/input\",\n",
      "    \"is_master\": true,\n",
      "    \"job_name\": \"sagemaker-scikit-learn-2020-11-26-11-40-11-022\",\n",
      "    \"log_level\": 20,\n",
      "    \"master_hostname\": \"algo-1\",\n",
      "    \"model_dir\": \"/opt/ml/model\",\n",
      "    \"module_dir\": \"s3://sagemaker-us-east-2-446250691921/sagemaker-scikit-learn-2020-11-26-11-40-11-022/source/sourcedir.tar.gz\",\n",
      "    \"module_name\": \"logistic_script\",\n",
      "    \"network_interface_name\": \"eth0\",\n",
      "    \"num_cpus\": 4,\n",
      "    \"num_gpus\": 0,\n",
      "    \"output_data_dir\": \"/opt/ml/output/data\",\n",
      "    \"output_dir\": \"/opt/ml/output\",\n",
      "    \"output_intermediate_dir\": \"/opt/ml/output/intermediate\",\n",
      "    \"resource_config\": {\n",
      "        \"current_host\": \"algo-1\",\n",
      "        \"hosts\": [\n",
      "            \"algo-1\"\n",
      "        ],\n",
      "        \"network_interface_name\": \"eth0\"\n",
      "    },\n",
      "    \"user_entry_point\": \"logistic_script.py\"\u001b[0m\n",
      "\u001b[34m}\n",
      "\u001b[0m\n",
      "\u001b[34mEnvironment variables:\n",
      "\u001b[0m\n",
      "\u001b[34mSM_HOSTS=[\"algo-1\"]\u001b[0m\n",
      "\u001b[34mSM_NETWORK_INTERFACE_NAME=eth0\u001b[0m\n",
      "\u001b[34mSM_HPS={}\u001b[0m\n",
      "\u001b[34mSM_USER_ENTRY_POINT=logistic_script.py\u001b[0m\n",
      "\u001b[34mSM_FRAMEWORK_PARAMS={}\u001b[0m\n",
      "\u001b[34mSM_RESOURCE_CONFIG={\"current_host\":\"algo-1\",\"hosts\":[\"algo-1\"],\"network_interface_name\":\"eth0\"}\u001b[0m\n",
      "\u001b[34mSM_INPUT_DATA_CONFIG={\"train\":{\"RecordWrapperType\":\"None\",\"S3DistributionType\":\"FullyReplicated\",\"TrainingInputMode\":\"File\"}}\u001b[0m\n",
      "\u001b[34mSM_OUTPUT_DATA_DIR=/opt/ml/output/data\u001b[0m\n",
      "\u001b[34mSM_CHANNELS=[\"train\"]\u001b[0m\n",
      "\u001b[34mSM_CURRENT_HOST=algo-1\u001b[0m\n",
      "\u001b[34mSM_MODULE_NAME=logistic_script\u001b[0m\n",
      "\u001b[34mSM_LOG_LEVEL=20\u001b[0m\n",
      "\u001b[34mSM_FRAMEWORK_MODULE=sagemaker_sklearn_container.training:main\u001b[0m\n",
      "\u001b[34mSM_INPUT_DIR=/opt/ml/input\u001b[0m\n",
      "\u001b[34mSM_INPUT_CONFIG_DIR=/opt/ml/input/config\u001b[0m\n",
      "\u001b[34mSM_OUTPUT_DIR=/opt/ml/output\u001b[0m\n",
      "\u001b[34mSM_NUM_CPUS=4\u001b[0m\n",
      "\u001b[34mSM_NUM_GPUS=0\u001b[0m\n",
      "\u001b[34mSM_MODEL_DIR=/opt/ml/model\u001b[0m\n",
      "\u001b[34mSM_MODULE_DIR=s3://sagemaker-us-east-2-446250691921/sagemaker-scikit-learn-2020-11-26-11-40-11-022/source/sourcedir.tar.gz\u001b[0m\n",
      "\u001b[34mSM_TRAINING_ENV={\"additional_framework_parameters\":{},\"channel_input_dirs\":{\"train\":\"/opt/ml/input/data/train\"},\"current_host\":\"algo-1\",\"framework_module\":\"sagemaker_sklearn_container.training:main\",\"hosts\":[\"algo-1\"],\"hyperparameters\":{},\"input_config_dir\":\"/opt/ml/input/config\",\"input_data_config\":{\"train\":{\"RecordWrapperType\":\"None\",\"S3DistributionType\":\"FullyReplicated\",\"TrainingInputMode\":\"File\"}},\"input_dir\":\"/opt/ml/input\",\"is_master\":true,\"job_name\":\"sagemaker-scikit-learn-2020-11-26-11-40-11-022\",\"log_level\":20,\"master_hostname\":\"algo-1\",\"model_dir\":\"/opt/ml/model\",\"module_dir\":\"s3://sagemaker-us-east-2-446250691921/sagemaker-scikit-learn-2020-11-26-11-40-11-022/source/sourcedir.tar.gz\",\"module_name\":\"logistic_script\",\"network_interface_name\":\"eth0\",\"num_cpus\":4,\"num_gpus\":0,\"output_data_dir\":\"/opt/ml/output/data\",\"output_dir\":\"/opt/ml/output\",\"output_intermediate_dir\":\"/opt/ml/output/intermediate\",\"resource_config\":{\"current_host\":\"algo-1\",\"hosts\":[\"algo-1\"],\"network_interface_name\":\"eth0\"},\"user_entry_point\":\"logistic_script.py\"}\u001b[0m\n",
      "\u001b[34mSM_USER_ARGS=[]\u001b[0m\n",
      "\u001b[34mSM_OUTPUT_INTERMEDIATE_DIR=/opt/ml/output/intermediate\u001b[0m\n",
      "\u001b[34mSM_CHANNEL_TRAIN=/opt/ml/input/data/train\u001b[0m\n",
      "\u001b[34mPYTHONPATH=/opt/ml/code:/miniconda3/bin:/miniconda3/lib/python37.zip:/miniconda3/lib/python3.7:/miniconda3/lib/python3.7/lib-dynload:/miniconda3/lib/python3.7/site-packages\n",
      "\u001b[0m\n",
      "\u001b[34mInvoking script with the following command:\n",
      "\u001b[0m\n",
      "\u001b[34m/miniconda3/bin/python logistic_script.py\n",
      "\n",
      "\u001b[0m\n",
      "\u001b[34mextracting arguments\u001b[0m\n",
      "\u001b[34mreading data\u001b[0m\n",
      "\u001b[34mModel accuracy is 0.805\u001b[0m\n",
      "\u001b[34mmodel {'model': GridSearchCV(cv=3, error_score=nan,\n",
      "             estimator=LogisticRegression(C=1.0, class_weight=None, dual=False,\n",
      "                                          fit_intercept=True,\n",
      "                                          intercept_scaling=1, l1_ratio=None,\n",
      "                                          max_iter=100, multi_class='auto',\n",
      "                                          n_jobs=None, penalty='l2',\n",
      "                                          random_state=None, solver='lbfgs',\n",
      "                                          tol=0.0001, verbose=0,\n",
      "                                          warm_start=False),\n",
      "             iid='deprecated', n_jobs=None,\n",
      "             param_grid={'C': (0.5, 1.0, 2.0), 'max_iter': [1000],\n",
      "                         'solver': ['lbfgs']},\n",
      "             pre_dispatch='2*n_jobs', refit=True, return_train_score=False,\n",
      "             scoring=None, verbose=0), 'encoder': <cat_encoder.CatEncoder object at 0x7efd740483d0>} saved on disk as /opt/ml/model/german_credit_logit.joblib\u001b[0m\n",
      "\u001b[34m2020-11-26 11:43:09,319 sagemaker-training-toolkit INFO     Reporting training SUCCESS\u001b[0m\n",
      "\n",
      "2020-11-26 11:43:18 Uploading - Uploading generated training model\n",
      "2020-11-26 11:43:18 Completed - Training job completed\n",
      "Training seconds: 69\n",
      "Billable seconds: 69\n"
     ]
    }
   ],
   "source": [
    "sklearn_logistic.fit({'train': train_input})"
   ]
  },
  {
   "cell_type": "markdown",
   "metadata": {},
   "source": [
    "### Similarly create svm model training and inference script"
   ]
  },
  {
   "cell_type": "code",
   "execution_count": 15,
   "metadata": {},
   "outputs": [
    {
     "name": "stdout",
     "output_type": "stream",
     "text": [
      "Writing source_dir/svm_script.py\n"
     ]
    }
   ],
   "source": [
    "%%writefile source_dir/svm_script.py\n",
    "\n",
    "import argparse\n",
    "import os\n",
    "import pandas as pd\n",
    "import numpy as np\n",
    "from sklearn import svm\n",
    "from sklearn.model_selection import GridSearchCV\n",
    "from sklearn.model_selection import train_test_split\n",
    "import random\n",
    "import joblib\n",
    "import numpy as np\n",
    "from cat_encoder import CatEncoder\n",
    "import json\n",
    "\n",
    "# inference functions ---------------\n",
    "def model_fn(model_dir):\n",
    "    print(f'listing model dir {os.listdir(model_dir)}' )\n",
    "    clf = joblib.load(os.path.join(model_dir,'german_credit_svm.joblib'))\n",
    "    print(clf)\n",
    "    return clf\n",
    "\n",
    "\n",
    "def input_fn(request_body, request_content_type):\n",
    "    \"\"\"An input_fn that loads a json bytes string\"\"\"\n",
    "    if request_content_type == \"application/json\":\n",
    "        input_data  = json.loads(request_body).get('payload', {}).get('instances', [])\n",
    "        data  = np.array(input_data, dtype=object)\n",
    "        data  = data if data.ndim == 2 else np.reshape(data, (1, -1))\n",
    "        return data\n",
    "    else:\n",
    "        raise Exception(f'content type {request_content_type} not supported')\n",
    "\n",
    "def predict_fn(input_data, clf):\n",
    "    model = clf.get('model')\n",
    "    encoder = clf.get('encoder')\n",
    "    try:\n",
    "        prediction = model.predict(encoder(input_data))\n",
    "        print(prediction)\n",
    "        return {\"payload\":{ \"predictions\": prediction.tolist()} }\n",
    "    except Exception as e:\n",
    "        return {\"payload\":{ \"error\": str(e)}}\n",
    "                \n",
    "\n",
    "\n",
    "if __name__ =='__main__':\n",
    "    print('extracting arguments')\n",
    "    parser = argparse.ArgumentParser()\n",
    "\n",
    "    # Data, model, and output directories\n",
    "    parser.add_argument('--model-dir', type=str, default=os.environ.get('SM_MODEL_DIR'))\n",
    "    parser.add_argument('--train', type=str, default=os.environ.get('SM_CHANNEL_TRAIN'))\n",
    "    parser.add_argument('--train-file', type=str, default='german_credit-decoded.csv')\n",
    "    \n",
    "    # hyperparams for training\n",
    "    parser.add_argument('--kernel', type=list,  default= ['linear', 'rbf', 'poly'])\n",
    "    parser.add_argument('--gamma',  type=list,  default= ['auto'])\n",
    "    parser.add_argument('--C',      type=list,  default= [0.1, .5, 1, 2, 4, 10])\n",
    "\n",
    "    args, _ = parser.parse_known_args()    \n",
    "    \n",
    "    print('reading data')\n",
    "    df = pd.read_csv(os.path.join(args.train, args.train_file))\n",
    "    cat_columns = [\n",
    "    'checkingstatus',\n",
    "    'history',\n",
    "    'purpose',\n",
    "    'savings',\n",
    "    'employ',\n",
    "    'status',\n",
    "    'others',\n",
    "    'property',\n",
    "    'age',\n",
    "    'otherplans',\n",
    "    'housing',\n",
    "    'job',\n",
    "    'telephone',\n",
    "    'foreign'\n",
    "    ]\n",
    "\n",
    "    label_column = 'outcome'\n",
    "    y = df[label_column]\n",
    "    X = df.drop(label_column, axis=1)\n",
    "    X_train, X_test, y_train, y_test = train_test_split(X, y, test_size=0.20, random_state=42)\n",
    "    \n",
    "    # apply categorical encoder to data     \n",
    "    encoder = CatEncoder(cat_columns, X)\n",
    "        \n",
    "    parameters={'kernel':args.kernel, 'C':args.C, 'gamma':args.gamma}\n",
    "    m = svm.SVC()\n",
    "    model = GridSearchCV(m, parameters, cv=3)\n",
    "    model.fit(encoder(X_train.values), y_train)\n",
    "\n",
    "    # Assess on the test data\n",
    "    accuracy = model.score(encoder(X_test.values), y_test)\n",
    "    print(f\"Model accuracy is {accuracy}\")\n",
    "  \n",
    "    # create artifact object with model and encoder\n",
    "    model_path = os.path.join(args.model_dir, 'german_credit_svm')\n",
    "    model_path = f'{model_path}.joblib'\n",
    "    model_obj = {\n",
    "        \"model\":model,\n",
    "        \"encoder\":encoder\n",
    "    }\n",
    "    joblib.dump(value=model_obj, filename=model_path)\n",
    "    print(f'model {model_obj} saved on disk as {model_path}')\n"
   ]
  },
  {
   "cell_type": "markdown",
   "metadata": {},
   "source": [
    "### training svm model locally"
   ]
  },
  {
   "cell_type": "code",
   "execution_count": 16,
   "metadata": {},
   "outputs": [
    {
     "name": "stdout",
     "output_type": "stream",
     "text": [
      "extracting arguments\n",
      "reading data\n",
      "Model accuracy is 0.81\n",
      "model {'model': GridSearchCV(cv=3, estimator=SVC(),\n",
      "             param_grid={'C': [0.1, 0.5, 1, 2, 4, 10], 'gamma': ['auto'],\n",
      "                         'kernel': ['linear', 'rbf', 'poly']}), 'encoder': <cat_encoder.CatEncoder object at 0x113b26ef0>} saved on disk as ./german_credit_svm.joblib\n"
     ]
    }
   ],
   "source": [
    "! python source_dir/svm_script.py --model-dir ./ \\\n",
    "                   --train ./data "
   ]
  },
  {
   "cell_type": "markdown",
   "metadata": {},
   "source": [
    "### Similarly create SageMaker Scikit Estimator for svm model"
   ]
  },
  {
   "cell_type": "code",
   "execution_count": 18,
   "metadata": {},
   "outputs": [],
   "source": [
    "from sagemaker.sklearn.estimator import SKLearn\n",
    "\n",
    "sklearn_svm = SKLearn(\n",
    "    entry_point='svm_script.py',\n",
    "    framework_version=\"0.23-1\",\n",
    "    py_version=\"py3\",\n",
    "    source_dir='source_dir',\n",
    "    train_instance_type=\"ml.c4.xlarge\",\n",
    "    role=role,\n",
    "    sagemaker_session=sagemaker_session\n",
    "    )\n"
   ]
  },
  {
   "cell_type": "markdown",
   "metadata": {},
   "source": [
    "### Train SKLearn svm model Estimator on german credit encoded data uploaded to S3\n"
   ]
  },
  {
   "cell_type": "code",
   "execution_count": 19,
   "metadata": {},
   "outputs": [
    {
     "name": "stdout",
     "output_type": "stream",
     "text": [
      "2020-11-26 11:49:50 Starting - Starting the training job...\n",
      "2020-11-26 11:49:52 Starting - Launching requested ML instances...\n",
      "2020-11-26 11:50:56 Starting - Preparing the instances for training......\n",
      "2020-11-26 11:52:01 Downloading - Downloading input data...\n",
      "2020-11-26 11:52:25 Training - Downloading the training image..\u001b[34m2020-11-26 11:52:45,581 sagemaker-training-toolkit INFO     Imported framework sagemaker_sklearn_container.training\u001b[0m\n",
      "\u001b[34m2020-11-26 11:52:45,583 sagemaker-training-toolkit INFO     No GPUs detected (normal if no gpus installed)\u001b[0m\n",
      "\u001b[34m2020-11-26 11:52:45,592 sagemaker_sklearn_container.training INFO     Invoking user training script.\u001b[0m\n",
      "\u001b[34m2020-11-26 11:52:45,972 sagemaker-training-toolkit INFO     Installing dependencies from requirements.txt:\u001b[0m\n",
      "\u001b[34m/miniconda3/bin/python -m pip install -r requirements.txt\u001b[0m\n",
      "\u001b[34mCollecting scikit-learn==0.22.1\n",
      "  Downloading scikit_learn-0.22.1-cp37-cp37m-manylinux1_x86_64.whl (7.0 MB)\u001b[0m\n",
      "\u001b[34mCollecting numpy==1.18.1\n",
      "  Downloading numpy-1.18.1-cp37-cp37m-manylinux1_x86_64.whl (20.1 MB)\u001b[0m\n",
      "\u001b[34mRequirement already satisfied: scipy>=0.17.0 in /miniconda3/lib/python3.7/site-packages (from scikit-learn==0.22.1->-r requirements.txt (line 1)) (1.5.3)\u001b[0m\n",
      "\u001b[34mRequirement already satisfied: joblib>=0.11 in /miniconda3/lib/python3.7/site-packages (from scikit-learn==0.22.1->-r requirements.txt (line 1)) (0.17.0)\u001b[0m\n",
      "\u001b[34mInstalling collected packages: numpy, scikit-learn\n",
      "  Attempting uninstall: numpy\n",
      "    Found existing installation: numpy 1.19.2\n",
      "    Uninstalling numpy-1.19.2:\n",
      "      Successfully uninstalled numpy-1.19.2\u001b[0m\n",
      "\u001b[34m  Attempting uninstall: scikit-learn\n",
      "    Found existing installation: scikit-learn 0.23.2\n",
      "    Uninstalling scikit-learn-0.23.2:\n",
      "      Successfully uninstalled scikit-learn-0.23.2\u001b[0m\n",
      "\u001b[34mERROR: After October 2020 you may experience errors when installing or updating packages. This is because pip will change the way that it resolves dependency conflicts.\n",
      "\u001b[0m\n",
      "\u001b[34mWe recommend you use --use-feature=2020-resolver to test your packages with the new resolver before it becomes the default.\n",
      "\u001b[0m\n",
      "\u001b[34msagemaker-sklearn-container 2.0 requires scikit-learn==0.23.2, but you'll have scikit-learn 0.22.1 which is incompatible.\u001b[0m\n",
      "\u001b[34mSuccessfully installed numpy-1.19.2 scikit-learn-0.22.1\u001b[0m\n",
      "\u001b[34m2020-11-26 11:52:51,936 sagemaker-training-toolkit INFO     No GPUs detected (normal if no gpus installed)\u001b[0m\n",
      "\u001b[34m2020-11-26 11:52:51,950 sagemaker-training-toolkit INFO     No GPUs detected (normal if no gpus installed)\u001b[0m\n",
      "\u001b[34m2020-11-26 11:52:51,961 sagemaker-training-toolkit INFO     No GPUs detected (normal if no gpus installed)\u001b[0m\n",
      "\u001b[34m2020-11-26 11:52:51,971 sagemaker-training-toolkit INFO     Invoking user script\n",
      "\u001b[0m\n",
      "\u001b[34mTraining Env:\n",
      "\u001b[0m\n",
      "\u001b[34m{\n",
      "    \"additional_framework_parameters\": {},\n",
      "    \"channel_input_dirs\": {\n",
      "        \"train\": \"/opt/ml/input/data/train\"\n",
      "    },\n",
      "    \"current_host\": \"algo-1\",\n",
      "    \"framework_module\": \"sagemaker_sklearn_container.training:main\",\n",
      "    \"hosts\": [\n",
      "        \"algo-1\"\n",
      "    ],\n",
      "    \"hyperparameters\": {},\n",
      "    \"input_config_dir\": \"/opt/ml/input/config\",\n",
      "    \"input_data_config\": {\n",
      "        \"train\": {\n",
      "            \"TrainingInputMode\": \"File\",\n",
      "            \"S3DistributionType\": \"FullyReplicated\",\n",
      "            \"RecordWrapperType\": \"None\"\n",
      "        }\n",
      "    },\n",
      "    \"input_dir\": \"/opt/ml/input\",\n",
      "    \"is_master\": true,\n",
      "    \"job_name\": \"sagemaker-scikit-learn-2020-11-26-11-49-47-323\",\n",
      "    \"log_level\": 20,\n",
      "    \"master_hostname\": \"algo-1\",\n",
      "    \"model_dir\": \"/opt/ml/model\",\n",
      "    \"module_dir\": \"s3://sagemaker-us-east-2-446250691921/sagemaker-scikit-learn-2020-11-26-11-49-47-323/source/sourcedir.tar.gz\",\n",
      "    \"module_name\": \"svm_script\",\n",
      "    \"network_interface_name\": \"eth0\",\n",
      "    \"num_cpus\": 4,\n",
      "    \"num_gpus\": 0,\n",
      "    \"output_data_dir\": \"/opt/ml/output/data\",\n",
      "    \"output_dir\": \"/opt/ml/output\",\n",
      "    \"output_intermediate_dir\": \"/opt/ml/output/intermediate\",\n",
      "    \"resource_config\": {\n",
      "        \"current_host\": \"algo-1\",\n",
      "        \"hosts\": [\n",
      "            \"algo-1\"\n",
      "        ],\n",
      "        \"network_interface_name\": \"eth0\"\n",
      "    },\n",
      "    \"user_entry_point\": \"svm_script.py\"\u001b[0m\n",
      "\u001b[34m}\n",
      "\u001b[0m\n",
      "\u001b[34mEnvironment variables:\n",
      "\u001b[0m\n",
      "\u001b[34mSM_HOSTS=[\"algo-1\"]\u001b[0m\n",
      "\u001b[34mSM_NETWORK_INTERFACE_NAME=eth0\u001b[0m\n",
      "\u001b[34mSM_HPS={}\u001b[0m\n",
      "\u001b[34mSM_USER_ENTRY_POINT=svm_script.py\u001b[0m\n",
      "\u001b[34mSM_FRAMEWORK_PARAMS={}\u001b[0m\n",
      "\u001b[34mSM_RESOURCE_CONFIG={\"current_host\":\"algo-1\",\"hosts\":[\"algo-1\"],\"network_interface_name\":\"eth0\"}\u001b[0m\n",
      "\u001b[34mSM_INPUT_DATA_CONFIG={\"train\":{\"RecordWrapperType\":\"None\",\"S3DistributionType\":\"FullyReplicated\",\"TrainingInputMode\":\"File\"}}\u001b[0m\n",
      "\u001b[34mSM_OUTPUT_DATA_DIR=/opt/ml/output/data\u001b[0m\n",
      "\u001b[34mSM_CHANNELS=[\"train\"]\u001b[0m\n",
      "\u001b[34mSM_CURRENT_HOST=algo-1\u001b[0m\n",
      "\u001b[34mSM_MODULE_NAME=svm_script\u001b[0m\n",
      "\u001b[34mSM_LOG_LEVEL=20\u001b[0m\n",
      "\u001b[34mSM_FRAMEWORK_MODULE=sagemaker_sklearn_container.training:main\u001b[0m\n",
      "\u001b[34mSM_INPUT_DIR=/opt/ml/input\u001b[0m\n",
      "\u001b[34mSM_INPUT_CONFIG_DIR=/opt/ml/input/config\u001b[0m\n",
      "\u001b[34mSM_OUTPUT_DIR=/opt/ml/output\u001b[0m\n",
      "\u001b[34mSM_NUM_CPUS=4\u001b[0m\n",
      "\u001b[34mSM_NUM_GPUS=0\u001b[0m\n",
      "\u001b[34mSM_MODEL_DIR=/opt/ml/model\u001b[0m\n",
      "\u001b[34mSM_MODULE_DIR=s3://sagemaker-us-east-2-446250691921/sagemaker-scikit-learn-2020-11-26-11-49-47-323/source/sourcedir.tar.gz\u001b[0m\n",
      "\u001b[34mSM_TRAINING_ENV={\"additional_framework_parameters\":{},\"channel_input_dirs\":{\"train\":\"/opt/ml/input/data/train\"},\"current_host\":\"algo-1\",\"framework_module\":\"sagemaker_sklearn_container.training:main\",\"hosts\":[\"algo-1\"],\"hyperparameters\":{},\"input_config_dir\":\"/opt/ml/input/config\",\"input_data_config\":{\"train\":{\"RecordWrapperType\":\"None\",\"S3DistributionType\":\"FullyReplicated\",\"TrainingInputMode\":\"File\"}},\"input_dir\":\"/opt/ml/input\",\"is_master\":true,\"job_name\":\"sagemaker-scikit-learn-2020-11-26-11-49-47-323\",\"log_level\":20,\"master_hostname\":\"algo-1\",\"model_dir\":\"/opt/ml/model\",\"module_dir\":\"s3://sagemaker-us-east-2-446250691921/sagemaker-scikit-learn-2020-11-26-11-49-47-323/source/sourcedir.tar.gz\",\"module_name\":\"svm_script\",\"network_interface_name\":\"eth0\",\"num_cpus\":4,\"num_gpus\":0,\"output_data_dir\":\"/opt/ml/output/data\",\"output_dir\":\"/opt/ml/output\",\"output_intermediate_dir\":\"/opt/ml/output/intermediate\",\"resource_config\":{\"current_host\":\"algo-1\",\"hosts\":[\"algo-1\"],\"network_interface_name\":\"eth0\"},\"user_entry_point\":\"svm_script.py\"}\u001b[0m\n",
      "\u001b[34mSM_USER_ARGS=[]\u001b[0m\n",
      "\u001b[34mSM_OUTPUT_INTERMEDIATE_DIR=/opt/ml/output/intermediate\u001b[0m\n",
      "\u001b[34mSM_CHANNEL_TRAIN=/opt/ml/input/data/train\u001b[0m\n",
      "\u001b[34mPYTHONPATH=/opt/ml/code:/miniconda3/bin:/miniconda3/lib/python37.zip:/miniconda3/lib/python3.7:/miniconda3/lib/python3.7/lib-dynload:/miniconda3/lib/python3.7/site-packages\n",
      "\u001b[0m\n",
      "\u001b[34mInvoking script with the following command:\n",
      "\u001b[0m\n",
      "\u001b[34m/miniconda3/bin/python svm_script.py\n",
      "\n",
      "\u001b[0m\n",
      "\u001b[34mextracting arguments\u001b[0m\n",
      "\u001b[34mreading data\u001b[0m\n",
      "\u001b[34mModel accuracy is 0.81\u001b[0m\n",
      "\u001b[34mmodel {'model': GridSearchCV(cv=3, error_score=nan,\n",
      "             estimator=SVC(C=1.0, break_ties=False, cache_size=200,\n",
      "                           class_weight=None, coef0=0.0,\n",
      "                           decision_function_shape='ovr', degree=3,\n",
      "                           gamma='scale', kernel='rbf', max_iter=-1,\n",
      "                           probability=False, random_state=None, shrinking=True,\n",
      "                           tol=0.001, verbose=False),\n",
      "             iid='deprecated', n_jobs=None,\n",
      "             param_grid={'C': [0.1, 0.5, 1, 2, 4, 10], 'gamma': ['auto'],\n",
      "                         'kernel': ['linear', 'rbf', 'poly']},\n",
      "             pre_dispatch='2*n_jobs', refit=True, return_train_score=False,\n",
      "             scoring=None, verbose=0), 'encoder': <cat_encoder.CatEncoder object at 0x7f3a0ba14ad0>} saved on disk as /opt/ml/model/german_credit_svm.joblib\u001b[0m\n",
      "\u001b[34m2020-11-26 11:52:54,877 sagemaker-training-toolkit INFO     Reporting training SUCCESS\u001b[0m\n",
      "\n",
      "2020-11-26 11:53:16 Uploading - Uploading generated training model\n",
      "2020-11-26 11:53:16 Completed - Training job completed\n",
      "Training seconds: 75\n",
      "Billable seconds: 75\n"
     ]
    }
   ],
   "source": [
    "sklearn_svm.fit({'train': train_input})"
   ]
  },
  {
   "cell_type": "markdown",
   "metadata": {},
   "source": [
    "### Using the trained model to make inference requests "
   ]
  },
  {
   "cell_type": "markdown",
   "metadata": {},
   "source": [
    "### Deploy the models\n",
    "\n",
    "**Note:** this might take a few minutes"
   ]
  },
  {
   "cell_type": "code",
   "execution_count": 20,
   "metadata": {},
   "outputs": [
    {
     "name": "stdout",
     "output_type": "stream",
     "text": [
      "------------!"
     ]
    }
   ],
   "source": [
    "predictor_logistic = sklearn_logistic.deploy(initial_instance_count=1, instance_type=\"ml.m4.xlarge\")"
   ]
  },
  {
   "cell_type": "code",
   "execution_count": 21,
   "metadata": {},
   "outputs": [
    {
     "name": "stdout",
     "output_type": "stream",
     "text": [
      "-------------!"
     ]
    }
   ],
   "source": [
    "predictor_svm      = sklearn_svm.deploy(initial_instance_count=1, instance_type=\"ml.m4.xlarge\")"
   ]
  },
  {
   "cell_type": "markdown",
   "metadata": {},
   "source": [
    "### Test model predictions"
   ]
  },
  {
   "cell_type": "code",
   "execution_count": 22,
   "metadata": {},
   "outputs": [
    {
     "name": "stdout",
     "output_type": "stream",
     "text": [
      "{'payload': {'predictions': [1]}}\n"
     ]
    }
   ],
   "source": [
    "import numpy as np\n",
    "import json\n",
    "idata = json.dumps({\"payload\":{\n",
    "    \"instances\":[\n",
    "            \"... < 0 DM\",\n",
    "            6,\n",
    "            \"critical account/ other credits existing (not at this bank)\",\n",
    "            \"radio/television\",\n",
    "            1169,\n",
    "            \"unknown/ no savings account\",\n",
    "            \".. >= 7 years\",\n",
    "            4,\n",
    "            \"male : single\",\n",
    "            \"others - none\",\n",
    "            4,\n",
    "            \"real estate\",\n",
    "            \"> 25 years\",\n",
    "            \"none\",\n",
    "            \"own\",\n",
    "            2,\n",
    "            \"skilled employee / official\",\n",
    "            1,\n",
    "            \"phone - yes, registered under the customers name\",\n",
    "            \"foreign - yes\"\n",
    "        ]}})\n",
    "\n",
    "import boto3\n",
    "import botocore\n",
    "import json\n",
    "from botocore.exceptions import HTTPClientError\n",
    "client=boto3.client('sagemaker-runtime')\n",
    "try:\n",
    "    resp = client.invoke_endpoint(EndpointName=predictor_logistic.endpoint,Body=idata)\n",
    "    print(json.loads(resp['Body'].read()))\n",
    "except botocore.exceptions.ClientError as error:\n",
    "    print(error)"
   ]
  },
  {
   "cell_type": "markdown",
   "metadata": {},
   "source": [
    "### Set Cortex Certifai Toolkit path"
   ]
  },
  {
   "cell_type": "markdown",
   "metadata": {},
   "source": [
    "- [optional] update the `certifai_toolkit_path` to a local file path where the downloaded toolkit from S3 bucket will be saved\n",
    "- this will be used in the next cell to install cortex certifai python packages\n"
   ]
  },
  {
   "cell_type": "markdown",
   "metadata": {},
   "source": [
    "### Download toolkit from S3 bucket to current environment"
   ]
  },
  {
   "cell_type": "code",
   "execution_count": 23,
   "metadata": {},
   "outputs": [],
   "source": [
    "import os\n",
    "from os.path import expanduser\n",
    "home = expanduser('~')\n",
    "certifai_toolkit = 'certifai_toolkit.zip'\n",
    "s3 = boto3.client('s3')\n",
    "s3.download_file('S3_BUCKET_NAME', 'S3_OBJECT_NAME', certifai_toolkit)"
   ]
  },
  {
   "cell_type": "markdown",
   "metadata": {},
   "source": [
    "### unzip and extract cortex_certifai_toolkit"
   ]
  },
  {
   "cell_type": "code",
   "execution_count": 24,
   "metadata": {},
   "outputs": [
    {
     "name": "stdout",
     "output_type": "stream",
     "text": [
      "Certifai Version: 1.3.5\r\n",
      "Scanner build: 1.3.5-81-gec04b930\r\n",
      "Console build: 1.3.5-149-ge576d67\r\n",
      "Reference Models build: 1.3.5-8-g5965926\r\n"
     ]
    }
   ],
   "source": [
    "!rm -rf certifai_toolkit\n",
    "!unzip -q -d certifai_toolkit $certifai_toolkit\n",
    "!cat certifai_toolkit/version.txt"
   ]
  },
  {
   "cell_type": "markdown",
   "metadata": {},
   "source": [
    "### Install required certifai packages (optional packages are left for user to install)¶\n",
    "\n",
    "initiating a Cortex Certifai scan requires following python packages to be installed in the current local environment. We will be using `cortex-certifai-connectors` package which provided first class support for sagemaker models\n",
    "\n",
    "required-packages\n",
    "\n",
    "-    cortex-certifai-scanner\n",
    "-    cortex-certifai-engine\n",
    "-    cortex-certifai-common\n",
    "-    cortex-certifai-connectors\n",
    "\n",
    "optional-packages\n",
    "\n",
    "-   cortex-certifai-client\n",
    "-   cortex-certifai-console\n",
    "\n",
    "**NOTE:** Make sure to install `cortex-certifai-engine` package for correct python version, by default it will install for `$certifai_toolkitpackages/python3.6` in the cell below. python 3.6/7/8 are supported"
   ]
  },
  {
   "cell_type": "code",
   "execution_count": 25,
   "metadata": {},
   "outputs": [
    {
     "name": "stdout",
     "output_type": "stream",
     "text": [
      "Processing ./certifai_toolkit/packages/all/cortex-certifai-model-sdk-1.3.5-81-gec04b930.zip\n",
      "Collecting flask\n",
      "  Downloading Flask-1.1.2-py2.py3-none-any.whl (94 kB)\n",
      "\u001b[K     |████████████████████████████████| 94 kB 2.3 MB/s eta 0:00:011\n",
      "\u001b[?25hRequirement already satisfied: numpy in /Users/administrator/anaconda3/envs/certifai36/lib/python3.6/site-packages (from cortex-certifai-model-sdk==1.3.5) (1.18.1)\n",
      "Collecting werkzeug>=0.15\n",
      "  Downloading Werkzeug-1.0.1-py2.py3-none-any.whl (298 kB)\n",
      "\u001b[K     |████████████████████████████████| 298 kB 17.7 MB/s eta 0:00:01\n",
      "\u001b[?25hCollecting dill\n",
      "  Downloading dill-0.3.3-py2.py3-none-any.whl (81 kB)\n",
      "\u001b[K     |████████████████████████████████| 81 kB 16.3 MB/s eta 0:00:01\n",
      "\u001b[?25hCollecting gevent==20.6.2\n",
      "  Downloading gevent-20.6.2-cp36-cp36m-macosx_10_9_x86_64.whl (1.7 MB)\n",
      "\u001b[K     |████████████████████████████████| 1.7 MB 46.3 MB/s eta 0:00:01\n",
      "\u001b[?25hCollecting gunicorn==20.0.4\n",
      "  Downloading gunicorn-20.0.4-py2.py3-none-any.whl (77 kB)\n",
      "\u001b[K     |████████████████████████████████| 77 kB 13.9 MB/s eta 0:00:01\n",
      "\u001b[?25hCollecting greenlet==0.4.16\n",
      "  Downloading greenlet-0.4.16.tar.gz (60 kB)\n",
      "\u001b[K     |████████████████████████████████| 60 kB 12.9 MB/s eta 0:00:01\n",
      "\u001b[?25hRequirement already satisfied: Jinja2>=2.10.1 in /Users/administrator/anaconda3/envs/certifai36/lib/python3.6/site-packages (from flask->cortex-certifai-model-sdk==1.3.5) (2.11.2)\n",
      "Collecting click>=5.1\n",
      "  Downloading click-7.1.2-py2.py3-none-any.whl (82 kB)\n",
      "\u001b[K     |████████████████████████████████| 82 kB 2.2 MB/s  eta 0:00:01\n",
      "\u001b[?25hCollecting itsdangerous>=0.24\n",
      "  Downloading itsdangerous-1.1.0-py2.py3-none-any.whl (16 kB)\n",
      "Requirement already satisfied: setuptools in /Users/administrator/anaconda3/envs/certifai36/lib/python3.6/site-packages (from gevent==20.6.2->cortex-certifai-model-sdk==1.3.5) (50.3.1.post20201107)\n",
      "Collecting zope.event\n",
      "  Downloading zope.event-4.5.0-py2.py3-none-any.whl (6.8 kB)\n",
      "Collecting zope.interface\n",
      "  Downloading zope.interface-5.2.0-cp36-cp36m-macosx_10_6_intel.whl (204 kB)\n",
      "\u001b[K     |████████████████████████████████| 204 kB 2.6 MB/s eta 0:00:01\n",
      "\u001b[?25hRequirement already satisfied: MarkupSafe>=0.23 in /Users/administrator/anaconda3/envs/certifai36/lib/python3.6/site-packages (from Jinja2>=2.10.1->flask->cortex-certifai-model-sdk==1.3.5) (1.1.1)\n",
      "Building wheels for collected packages: cortex-certifai-model-sdk, greenlet\n",
      "  Building wheel for cortex-certifai-model-sdk (setup.py) ... \u001b[?25ldone\n",
      "\u001b[?25h  Created wheel for cortex-certifai-model-sdk: filename=cortex_certifai_model_sdk-1.3.5-py3-none-any.whl size=10045 sha256=2acb30e294456630ae95163db54361115d6cf00368dfe54d37e33b8ff85f9073\n",
      "  Stored in directory: /Users/administrator/Library/Caches/pip/wheels/1b/5e/76/8ac597dc84d88368cadbdcbd9dc82262892336349cbc54db82\n",
      "  Building wheel for greenlet (setup.py) ... \u001b[?25ldone\n",
      "\u001b[?25h  Created wheel for greenlet: filename=greenlet-0.4.16-cp36-cp36m-macosx_10_9_x86_64.whl size=17374 sha256=2cc89d65581d476688d97560794cc2bd7774030ba2274d15f1b2ef0eba2d54a7\n",
      "  Stored in directory: /Users/administrator/Library/Caches/pip/wheels/7f/3a/c8/c1972109e5f45e7c151afa67d3c5a07e0a0dd592345ac12c73\n",
      "Successfully built cortex-certifai-model-sdk greenlet\n",
      "Installing collected packages: click, werkzeug, itsdangerous, flask, dill, zope.event, zope.interface, greenlet, gevent, gunicorn, cortex-certifai-model-sdk\n",
      "Successfully installed click-7.1.2 cortex-certifai-model-sdk-1.3.5 dill-0.3.3 flask-1.1.2 gevent-20.6.2 greenlet-0.4.16 gunicorn-20.0.4 itsdangerous-1.1.0 werkzeug-1.0.1 zope.event-4.5.0 zope.interface-5.2.0\n",
      "Processing ./certifai_toolkit/packages/all/cortex-certifai-scanner-1.3.5-81-gec04b930.zip\n",
      "Requirement already satisfied: numpy<1.20,>=1.16.2 in /Users/administrator/anaconda3/envs/certifai36/lib/python3.6/site-packages (from cortex-certifai-scanner==1.3.5) (1.18.1)\n",
      "Requirement already satisfied: pandas<=1.0.3,>=0.23.4 in /Users/administrator/anaconda3/envs/certifai36/lib/python3.6/site-packages (from cortex-certifai-scanner==1.3.5) (1.0.3)\n",
      "Collecting marshmallow<4.0,>=3.0.0\n",
      "  Downloading marshmallow-3.9.1-py2.py3-none-any.whl (46 kB)\n",
      "\u001b[K     |████████████████████████████████| 46 kB 475 kB/s eta 0:00:011\n",
      "\u001b[?25hRequirement already satisfied: pyyaml<6.0,>=3.13 in /Users/administrator/anaconda3/envs/certifai36/lib/python3.6/site-packages (from cortex-certifai-scanner==1.3.5) (5.3.1)\n",
      "Requirement already satisfied: python-dateutil<3.0,>=2.6.1 in /Users/administrator/anaconda3/envs/certifai36/lib/python3.6/site-packages (from cortex-certifai-scanner==1.3.5) (2.8.1)\n",
      "Requirement already satisfied: Jinja2<3.0,>=2.10.3 in /Users/administrator/anaconda3/envs/certifai36/lib/python3.6/site-packages (from cortex-certifai-scanner==1.3.5) (2.11.2)\n",
      "Collecting dataclasses<1.0,>=0.6\n",
      "  Downloading dataclasses-0.8-py3-none-any.whl (19 kB)\n",
      "Requirement already satisfied: pytz>=2017.2 in /Users/administrator/anaconda3/envs/certifai36/lib/python3.6/site-packages (from pandas<=1.0.3,>=0.23.4->cortex-certifai-scanner==1.3.5) (2020.4)\n",
      "Requirement already satisfied: six>=1.5 in /Users/administrator/anaconda3/envs/certifai36/lib/python3.6/site-packages (from python-dateutil<3.0,>=2.6.1->cortex-certifai-scanner==1.3.5) (1.15.0)\n",
      "Requirement already satisfied: MarkupSafe>=0.23 in /Users/administrator/anaconda3/envs/certifai36/lib/python3.6/site-packages (from Jinja2<3.0,>=2.10.3->cortex-certifai-scanner==1.3.5) (1.1.1)\n",
      "Building wheels for collected packages: cortex-certifai-scanner\n",
      "  Building wheel for cortex-certifai-scanner (setup.py) ... \u001b[?25ldone\n",
      "\u001b[?25h  Created wheel for cortex-certifai-scanner: filename=cortex_certifai_scanner-1.3.5-py3-none-any.whl size=97209 sha256=d4c0c9d27d453cd1dc1d42b41ecac773651a9ab1e6c598fe5a7e75b26d9247e6\n",
      "  Stored in directory: /Users/administrator/Library/Caches/pip/wheels/78/f5/9c/46d119cd3634c0d3b6d58a0dc798943b462ddd8ab86a70b934\n",
      "Successfully built cortex-certifai-scanner\n",
      "Installing collected packages: marshmallow, dataclasses, cortex-certifai-scanner\n",
      "Successfully installed cortex-certifai-scanner-1.3.5 dataclasses-0.8 marshmallow-3.9.1\n",
      "Processing ./certifai_toolkit/packages/all/cortex-certifai-connectors-1.3.5-81-gec04b930.zip\n",
      "Requirement already satisfied: boto3<2.0.0,>=1.0.0 in /Users/administrator/anaconda3/envs/certifai36/lib/python3.6/site-packages (from cortex-certifai-connectors==1.3.5) (1.16.25)\n",
      "Collecting pydantic>=1.5.1\n",
      "  Downloading pydantic-1.7.2-cp36-cp36m-macosx_10_9_x86_64.whl (2.4 MB)\n",
      "\u001b[K     |████████████████████████████████| 2.4 MB 4.6 MB/s eta 0:00:01\n",
      "\u001b[?25hRequirement already satisfied: numpy<1.20,>=1.16.2 in /Users/administrator/anaconda3/envs/certifai36/lib/python3.6/site-packages (from cortex-certifai-connectors==1.3.5) (1.18.1)\n",
      "Requirement already satisfied: s3transfer<0.4.0,>=0.3.0 in /Users/administrator/anaconda3/envs/certifai36/lib/python3.6/site-packages (from boto3<2.0.0,>=1.0.0->cortex-certifai-connectors==1.3.5) (0.3.3)\n",
      "Requirement already satisfied: jmespath<1.0.0,>=0.7.1 in /Users/administrator/anaconda3/envs/certifai36/lib/python3.6/site-packages (from boto3<2.0.0,>=1.0.0->cortex-certifai-connectors==1.3.5) (0.10.0)\n",
      "Collecting botocore<1.20.0,>=1.19.25\n",
      "  Using cached botocore-1.19.25-py2.py3-none-any.whl (6.9 MB)\n",
      "Requirement already satisfied: dataclasses>=0.6; python_version < \"3.7\" in /Users/administrator/anaconda3/envs/certifai36/lib/python3.6/site-packages (from pydantic>=1.5.1->cortex-certifai-connectors==1.3.5) (0.8)\n",
      "Requirement already satisfied: urllib3<1.27,>=1.25.4; python_version != \"3.4\" in /Users/administrator/anaconda3/envs/certifai36/lib/python3.6/site-packages (from botocore<1.20.0,>=1.19.25->boto3<2.0.0,>=1.0.0->cortex-certifai-connectors==1.3.5) (1.25.11)\n",
      "Requirement already satisfied: python-dateutil<3.0.0,>=2.1 in /Users/administrator/anaconda3/envs/certifai36/lib/python3.6/site-packages (from botocore<1.20.0,>=1.19.25->boto3<2.0.0,>=1.0.0->cortex-certifai-connectors==1.3.5) (2.8.1)\n",
      "Requirement already satisfied: six>=1.5 in /Users/administrator/anaconda3/envs/certifai36/lib/python3.6/site-packages (from python-dateutil<3.0.0,>=2.1->botocore<1.20.0,>=1.19.25->boto3<2.0.0,>=1.0.0->cortex-certifai-connectors==1.3.5) (1.15.0)\n",
      "Building wheels for collected packages: cortex-certifai-connectors\n"
     ]
    },
    {
     "name": "stdout",
     "output_type": "stream",
     "text": [
      "  Building wheel for cortex-certifai-connectors (setup.py) ... \u001b[?25ldone\n",
      "\u001b[?25h  Created wheel for cortex-certifai-connectors: filename=cortex_certifai_connectors-1.3.5-py3-none-any.whl size=14694 sha256=38f8b9f979e1fe5147f09bc742d3c83bd5f8852af09ed0d6950c4933ba5640e7\n",
      "  Stored in directory: /Users/administrator/Library/Caches/pip/wheels/9d/a0/65/dbd3044c2f62001d97c0ccfe352d517ad5d8a372bcc60f4f30\n",
      "Successfully built cortex-certifai-connectors\n",
      "Installing collected packages: pydantic, cortex-certifai-connectors, botocore\n",
      "  Attempting uninstall: botocore\n",
      "    Found existing installation: botocore 1.16.11\n",
      "    Uninstalling botocore-1.16.11:\n",
      "      Successfully uninstalled botocore-1.16.11\n",
      "\u001b[31mERROR: After October 2020 you may experience errors when installing or updating packages. This is because pip will change the way that it resolves dependency conflicts.\n",
      "\n",
      "We recommend you use --use-feature=2020-resolver to test your packages with the new resolver before it becomes the default.\n",
      "\n",
      "awscli 1.18.61 requires botocore==1.16.11, but you'll have botocore 1.19.25 which is incompatible.\u001b[0m\n",
      "Successfully installed botocore-1.19.25 cortex-certifai-connectors-1.3.5 pydantic-1.7.2\n",
      "Processing ./certifai_toolkit/packages/all/cortex-certifai-client-1.3.5-81-gec04b930.zip\n",
      "Collecting questionary==1.4.0\n",
      "  Downloading questionary-1.4.0-py3-none-any.whl (30 kB)\n",
      "Collecting kubernetes<=11.0,>=9.0\n",
      "  Downloading kubernetes-11.0.0-py3-none-any.whl (1.5 MB)\n",
      "\u001b[K     |████████████████████████████████| 1.5 MB 4.5 MB/s eta 0:00:01\n",
      "\u001b[?25hCollecting prompt-toolkit~=2.0\n",
      "  Downloading prompt_toolkit-2.0.10-py3-none-any.whl (340 kB)\n",
      "\u001b[K     |████████████████████████████████| 340 kB 15.7 MB/s eta 0:00:01\n",
      "\u001b[?25hCollecting requests-oauthlib\n",
      "  Downloading requests_oauthlib-1.3.0-py2.py3-none-any.whl (23 kB)\n",
      "Collecting google-auth>=1.0.1\n",
      "  Downloading google_auth-1.23.0-py2.py3-none-any.whl (114 kB)\n",
      "\u001b[K     |████████████████████████████████| 114 kB 20.5 MB/s eta 0:00:01\n",
      "\u001b[?25hCollecting requests\n",
      "  Downloading requests-2.25.0-py2.py3-none-any.whl (61 kB)\n",
      "\u001b[K     |████████████████████████████████| 61 kB 11.9 MB/s eta 0:00:01\n",
      "\u001b[?25hRequirement already satisfied: pyyaml>=3.12 in /Users/administrator/anaconda3/envs/certifai36/lib/python3.6/site-packages (from kubernetes<=11.0,>=9.0->cortex-certifai-client==1.3.5) (5.3.1)\n",
      "Requirement already satisfied: urllib3>=1.24.2 in /Users/administrator/anaconda3/envs/certifai36/lib/python3.6/site-packages (from kubernetes<=11.0,>=9.0->cortex-certifai-client==1.3.5) (1.25.11)\n",
      "Requirement already satisfied: certifi>=14.05.14 in /Users/administrator/anaconda3/envs/certifai36/lib/python3.6/site-packages (from kubernetes<=11.0,>=9.0->cortex-certifai-client==1.3.5) (2020.11.8)\n",
      "Requirement already satisfied: six>=1.9.0 in /Users/administrator/anaconda3/envs/certifai36/lib/python3.6/site-packages (from kubernetes<=11.0,>=9.0->cortex-certifai-client==1.3.5) (1.15.0)\n",
      "Collecting websocket-client!=0.40.0,!=0.41.*,!=0.42.*,>=0.32.0\n",
      "  Downloading websocket_client-0.57.0-py2.py3-none-any.whl (200 kB)\n",
      "\u001b[K     |████████████████████████████████| 200 kB 17.0 MB/s eta 0:00:01\n",
      "\u001b[?25hRequirement already satisfied: python-dateutil>=2.5.3 in /Users/administrator/anaconda3/envs/certifai36/lib/python3.6/site-packages (from kubernetes<=11.0,>=9.0->cortex-certifai-client==1.3.5) (2.8.1)\n",
      "Requirement already satisfied: setuptools>=21.0.0 in /Users/administrator/anaconda3/envs/certifai36/lib/python3.6/site-packages (from kubernetes<=11.0,>=9.0->cortex-certifai-client==1.3.5) (50.3.1.post20201107)\n",
      "Requirement already satisfied: wcwidth in /Users/administrator/anaconda3/envs/certifai36/lib/python3.6/site-packages (from prompt-toolkit~=2.0->questionary==1.4.0->cortex-certifai-client==1.3.5) (0.2.5)\n",
      "Collecting oauthlib>=3.0.0\n",
      "  Downloading oauthlib-3.1.0-py2.py3-none-any.whl (147 kB)\n",
      "\u001b[K     |████████████████████████████████| 147 kB 15.3 MB/s eta 0:00:01\n",
      "\u001b[?25hCollecting pyasn1-modules>=0.2.1\n",
      "  Downloading pyasn1_modules-0.2.8-py2.py3-none-any.whl (155 kB)\n",
      "\u001b[K     |████████████████████████████████| 155 kB 13.5 MB/s eta 0:00:01\n",
      "\u001b[?25hCollecting cachetools<5.0,>=2.0.0\n",
      "  Downloading cachetools-4.1.1-py3-none-any.whl (10 kB)\n",
      "Requirement already satisfied: rsa<5,>=3.1.4; python_version >= \"3.5\" in /Users/administrator/anaconda3/envs/certifai36/lib/python3.6/site-packages (from google-auth>=1.0.1->kubernetes<=11.0,>=9.0->cortex-certifai-client==1.3.5) (3.4.2)\n",
      "Collecting chardet<4,>=3.0.2\n",
      "  Downloading chardet-3.0.4-py2.py3-none-any.whl (133 kB)\n",
      "\u001b[K     |████████████████████████████████| 133 kB 12.6 MB/s eta 0:00:01\n",
      "\u001b[?25hCollecting idna<3,>=2.5\n",
      "  Downloading idna-2.10-py2.py3-none-any.whl (58 kB)\n",
      "\u001b[K     |████████████████████████████████| 58 kB 6.5 MB/s  eta 0:00:01\n",
      "\u001b[?25hRequirement already satisfied: pyasn1<0.5.0,>=0.4.6 in /Users/administrator/anaconda3/envs/certifai36/lib/python3.6/site-packages (from pyasn1-modules>=0.2.1->google-auth>=1.0.1->kubernetes<=11.0,>=9.0->cortex-certifai-client==1.3.5) (0.4.8)\n",
      "Building wheels for collected packages: cortex-certifai-client\n",
      "  Building wheel for cortex-certifai-client (setup.py) ... \u001b[?25ldone\n",
      "\u001b[?25h  Created wheel for cortex-certifai-client: filename=cortex_certifai_client-1.3.5-py3-none-any.whl size=30371 sha256=f4dfd5379a0e6c54c3bcb7c631f498fb4bf049075f6631dd15261ba712c810cb\n",
      "  Stored in directory: /Users/administrator/Library/Caches/pip/wheels/55/39/37/f32277898c9e8408e50c9fc4959cd33b1c1303d29163570948\n",
      "Successfully built cortex-certifai-client\n",
      "Installing collected packages: prompt-toolkit, questionary, oauthlib, chardet, idna, requests, requests-oauthlib, pyasn1-modules, cachetools, google-auth, websocket-client, kubernetes, cortex-certifai-client\n",
      "  Attempting uninstall: prompt-toolkit\n",
      "    Found existing installation: prompt-toolkit 3.0.8\n",
      "    Uninstalling prompt-toolkit-3.0.8:\n",
      "      Successfully uninstalled prompt-toolkit-3.0.8\n",
      "Successfully installed cachetools-4.1.1 chardet-3.0.4 cortex-certifai-client-1.3.5 google-auth-1.23.0 idna-2.10 kubernetes-11.0.0 oauthlib-3.1.0 prompt-toolkit-2.0.10 pyasn1-modules-0.2.8 questionary-1.4.0 requests-2.25.0 requests-oauthlib-1.3.0 websocket-client-0.57.0\n",
      "Processing ./certifai_toolkit/packages/all/cortex-certifai-common-1.3.5-81-gec04b930.zip\n",
      "Requirement already satisfied: requests<3.0,>=2.12.4 in /Users/administrator/anaconda3/envs/certifai36/lib/python3.6/site-packages (from cortex-certifai-common==1.3.5) (2.25.0)\n",
      "Requirement already satisfied: urllib3<2.0,>=1.24.3 in /Users/administrator/anaconda3/envs/certifai36/lib/python3.6/site-packages (from cortex-certifai-common==1.3.5) (1.25.11)\n",
      "Requirement already satisfied: numpy<1.20,>=1.16.2 in /Users/administrator/anaconda3/envs/certifai36/lib/python3.6/site-packages (from cortex-certifai-common==1.3.5) (1.18.1)\n",
      "Requirement already satisfied: pandas<=1.0.3,>=0.23.4 in /Users/administrator/anaconda3/envs/certifai36/lib/python3.6/site-packages (from cortex-certifai-common==1.3.5) (1.0.3)\n",
      "Requirement already satisfied: scipy<2.0,>=1.1.0 in /Users/administrator/anaconda3/envs/certifai36/lib/python3.6/site-packages (from cortex-certifai-common==1.3.5) (1.5.4)\n",
      "Requirement already satisfied: python-dateutil<3.0,>=2.6.1 in /Users/administrator/anaconda3/envs/certifai36/lib/python3.6/site-packages (from cortex-certifai-common==1.3.5) (2.8.1)\n",
      "Collecting toolz<1.0,>=0.10.0\n",
      "  Downloading toolz-0.11.1-py3-none-any.whl (55 kB)\n",
      "\u001b[K     |████████████████████████████████| 55 kB 2.1 MB/s eta 0:00:011\n",
      "\u001b[?25hCollecting typing_extensions<4.0,>=3.6.6\n",
      "  Downloading typing_extensions-3.7.4.3-py3-none-any.whl (22 kB)\n",
      "Requirement already satisfied: scikit-learn<0.24,>=0.20.3 in /Users/administrator/anaconda3/envs/certifai36/lib/python3.6/site-packages (from cortex-certifai-common==1.3.5) (0.23.1)\n",
      "Requirement already satisfied: certifi>=2017.4.17 in /Users/administrator/anaconda3/envs/certifai36/lib/python3.6/site-packages (from requests<3.0,>=2.12.4->cortex-certifai-common==1.3.5) (2020.11.8)\n",
      "Requirement already satisfied: idna<3,>=2.5 in /Users/administrator/anaconda3/envs/certifai36/lib/python3.6/site-packages (from requests<3.0,>=2.12.4->cortex-certifai-common==1.3.5) (2.10)\n",
      "Requirement already satisfied: chardet<4,>=3.0.2 in /Users/administrator/anaconda3/envs/certifai36/lib/python3.6/site-packages (from requests<3.0,>=2.12.4->cortex-certifai-common==1.3.5) (3.0.4)\n",
      "Requirement already satisfied: pytz>=2017.2 in /Users/administrator/anaconda3/envs/certifai36/lib/python3.6/site-packages (from pandas<=1.0.3,>=0.23.4->cortex-certifai-common==1.3.5) (2020.4)\n",
      "Requirement already satisfied: six>=1.5 in /Users/administrator/anaconda3/envs/certifai36/lib/python3.6/site-packages (from python-dateutil<3.0,>=2.6.1->cortex-certifai-common==1.3.5) (1.15.0)\n",
      "Requirement already satisfied: threadpoolctl>=2.0.0 in /Users/administrator/anaconda3/envs/certifai36/lib/python3.6/site-packages (from scikit-learn<0.24,>=0.20.3->cortex-certifai-common==1.3.5) (2.1.0)\n",
      "Requirement already satisfied: joblib>=0.11 in /Users/administrator/anaconda3/envs/certifai36/lib/python3.6/site-packages (from scikit-learn<0.24,>=0.20.3->cortex-certifai-common==1.3.5) (0.17.0)\n",
      "Building wheels for collected packages: cortex-certifai-common\n"
     ]
    },
    {
     "name": "stdout",
     "output_type": "stream",
     "text": [
      "  Building wheel for cortex-certifai-common (setup.py) ... \u001b[?25ldone\n",
      "\u001b[?25h  Created wheel for cortex-certifai-common: filename=cortex_certifai_common-1.3.5-py3-none-any.whl size=81433 sha256=b731a3c8ce72e92506959b7f4915447505cebd3a8f5aaa18de097c9cd6db6cfc\n",
      "  Stored in directory: /Users/administrator/Library/Caches/pip/wheels/26/ea/ca/3175a343819517882405eec621c165dd6f9e8bd858ff838a79\n",
      "Successfully built cortex-certifai-common\n",
      "Installing collected packages: toolz, typing-extensions, cortex-certifai-common\n",
      "Successfully installed cortex-certifai-common-1.3.5 toolz-0.11.1 typing-extensions-3.7.4.3\n",
      "Processing ./certifai_toolkit/packages/all/cortex-certifai-policy-1.3.5-81-gec04b930.zip\n",
      "Requirement already satisfied: marshmallow<4.0,>=3.0.0 in /Users/administrator/anaconda3/envs/certifai36/lib/python3.6/site-packages (from cortex-certifai-policy==1.3.5) (3.9.1)\n",
      "Requirement already satisfied: dataclasses<1.0,>=0.6 in /Users/administrator/anaconda3/envs/certifai36/lib/python3.6/site-packages (from cortex-certifai-policy==1.3.5) (0.8)\n",
      "Building wheels for collected packages: cortex-certifai-policy\n",
      "  Building wheel for cortex-certifai-policy (setup.py) ... \u001b[?25ldone\n",
      "\u001b[?25h  Created wheel for cortex-certifai-policy: filename=cortex_certifai_policy-1.3.5-py3-none-any.whl size=17207 sha256=ba7cd714c139f33c423e872a867f55ca81aebf02cf8a0c431aed8558880a5c71\n",
      "  Stored in directory: /Users/administrator/Library/Caches/pip/wheels/ea/a9/d2/90716aaaa713e5795f4a77f96759cca1f8329a48678a8f0da7\n",
      "Successfully built cortex-certifai-policy\n",
      "Installing collected packages: cortex-certifai-policy\n",
      "Successfully installed cortex-certifai-policy-1.3.5\n",
      "Processing ./certifai_toolkit/packages/python3.6/cortex-certifai-engine-1.3.5-81-gec04b930-py3.6.12.zip\n",
      "Requirement already satisfied: numpy<1.20,>=1.16.2 in /Users/administrator/anaconda3/envs/certifai36/lib/python3.6/site-packages (from cortex-certifai-engine==1.3.5) (1.18.1)\n",
      "Requirement already satisfied: pandas<=1.0.3,>=0.23.4 in /Users/administrator/anaconda3/envs/certifai36/lib/python3.6/site-packages (from cortex-certifai-engine==1.3.5) (1.0.3)\n",
      "Requirement already satisfied: scikit-learn<0.24,>=0.20.3 in /Users/administrator/anaconda3/envs/certifai36/lib/python3.6/site-packages (from cortex-certifai-engine==1.3.5) (0.23.1)\n",
      "Requirement already satisfied: scipy<2.0,>=1.1.0 in /Users/administrator/anaconda3/envs/certifai36/lib/python3.6/site-packages (from cortex-certifai-engine==1.3.5) (1.5.4)\n",
      "Requirement already satisfied: toolz<1.0,>=0.10.0 in /Users/administrator/anaconda3/envs/certifai36/lib/python3.6/site-packages (from cortex-certifai-engine==1.3.5) (0.11.1)\n",
      "Collecting rsa<5.0,>=4.0\n",
      "  Downloading rsa-4.6-py3-none-any.whl (47 kB)\n",
      "\u001b[K     |████████████████████████████████| 47 kB 2.2 MB/s eta 0:00:011\n",
      "\u001b[?25hCollecting cuid<0.4,>=0.3\n",
      "  Downloading cuid-0.3.tar.gz (3.9 kB)\n",
      "Requirement already satisfied: pyyaml<6.0,>=3.13 in /Users/administrator/anaconda3/envs/certifai36/lib/python3.6/site-packages (from cortex-certifai-engine==1.3.5) (5.3.1)\n",
      "Collecting shap>=0.31.0\n",
      "  Downloading shap-0.37.0.tar.gz (326 kB)\n",
      "\u001b[K     |████████████████████████████████| 326 kB 6.7 MB/s eta 0:00:01\n",
      "\u001b[?25hRequirement already satisfied: python-dateutil>=2.6.1 in /Users/administrator/anaconda3/envs/certifai36/lib/python3.6/site-packages (from pandas<=1.0.3,>=0.23.4->cortex-certifai-engine==1.3.5) (2.8.1)\n",
      "Requirement already satisfied: pytz>=2017.2 in /Users/administrator/anaconda3/envs/certifai36/lib/python3.6/site-packages (from pandas<=1.0.3,>=0.23.4->cortex-certifai-engine==1.3.5) (2020.4)\n",
      "Requirement already satisfied: joblib>=0.11 in /Users/administrator/anaconda3/envs/certifai36/lib/python3.6/site-packages (from scikit-learn<0.24,>=0.20.3->cortex-certifai-engine==1.3.5) (0.17.0)\n",
      "Requirement already satisfied: threadpoolctl>=2.0.0 in /Users/administrator/anaconda3/envs/certifai36/lib/python3.6/site-packages (from scikit-learn<0.24,>=0.20.3->cortex-certifai-engine==1.3.5) (2.1.0)\n",
      "Requirement already satisfied: pyasn1>=0.1.3 in /Users/administrator/anaconda3/envs/certifai36/lib/python3.6/site-packages (from rsa<5.0,>=4.0->cortex-certifai-engine==1.3.5) (0.4.8)\n",
      "Collecting tqdm>4.25.0\n",
      "  Downloading tqdm-4.53.0-py2.py3-none-any.whl (70 kB)\n",
      "\u001b[K     |████████████████████████████████| 70 kB 10.2 MB/s eta 0:00:01\n",
      "\u001b[?25hCollecting slicer==0.0.3\n",
      "  Downloading slicer-0.0.3-py3-none-any.whl (11 kB)\n",
      "Collecting numba\n",
      "  Downloading numba-0.51.2-cp36-cp36m-macosx_10_14_x86_64.whl (2.2 MB)\n",
      "\u001b[K     |████████████████████████████████| 2.2 MB 16.2 MB/s eta 0:00:01\n",
      "\u001b[?25hRequirement already satisfied: six>=1.5 in /Users/administrator/anaconda3/envs/certifai36/lib/python3.6/site-packages (from python-dateutil>=2.6.1->pandas<=1.0.3,>=0.23.4->cortex-certifai-engine==1.3.5) (1.15.0)\n",
      "Requirement already satisfied: setuptools in /Users/administrator/anaconda3/envs/certifai36/lib/python3.6/site-packages (from numba->shap>=0.31.0->cortex-certifai-engine==1.3.5) (50.3.1.post20201107)\n",
      "Collecting llvmlite<0.35,>=0.34.0.dev0\n",
      "  Downloading llvmlite-0.34.0-cp36-cp36m-macosx_10_9_x86_64.whl (18.4 MB)\n",
      "\u001b[K     |████████████████████████████████| 18.4 MB 16.0 MB/s eta 0:00:01\n",
      "\u001b[?25hBuilding wheels for collected packages: cortex-certifai-engine, cuid, shap\n",
      "  Building wheel for cortex-certifai-engine (setup.py) ... \u001b[?25ldone\n",
      "\u001b[?25h  Created wheel for cortex-certifai-engine: filename=cortex_certifai_engine-1.3.5-py3-none-any.whl size=2320934 sha256=f18b036e98cf3f8280c9598e21805e77e72cacf82dd179dbfa727d21036003ab\n",
      "  Stored in directory: /Users/administrator/Library/Caches/pip/wheels/2f/92/43/69b228c8083dcd5eb24d94f24bec944962b3db3b0f5b4dabdf\n",
      "  Building wheel for cuid (setup.py) ... \u001b[?25ldone\n",
      "\u001b[?25h  Created wheel for cuid: filename=cuid-0.3-py2.py3-none-any.whl size=3651 sha256=d2dafc5921389e74140044aedac964fe8b6fbc01392b1759a93ac3d44467e6fa\n",
      "  Stored in directory: /Users/administrator/Library/Caches/pip/wheels/4c/28/44/96d10e02cd2573b83cb5de9edea8a8b2e692bb0da8c53cfade\n",
      "  Building wheel for shap (setup.py) ... \u001b[?25ldone\n",
      "\u001b[?25h  Created wheel for shap: filename=shap-0.37.0-cp36-cp36m-macosx_10_9_x86_64.whl size=379081 sha256=c31db9968edf49d379c42922cce29eafdc50a5b6c824bcab1cd3bceaba84b467\n",
      "  Stored in directory: /Users/administrator/Library/Caches/pip/wheels/9f/f0/81/55d1fce3ccceacb520abc45e88f3d2de2959cd079f712b5f85\n",
      "Successfully built cortex-certifai-engine cuid shap\n",
      "Installing collected packages: rsa, cuid, tqdm, slicer, llvmlite, numba, shap, cortex-certifai-engine\n",
      "  Attempting uninstall: rsa\n",
      "    Found existing installation: rsa 3.4.2\n",
      "    Uninstalling rsa-3.4.2:\n",
      "      Successfully uninstalled rsa-3.4.2\n",
      "\u001b[31mERROR: After October 2020 you may experience errors when installing or updating packages. This is because pip will change the way that it resolves dependency conflicts.\n",
      "\n",
      "We recommend you use --use-feature=2020-resolver to test your packages with the new resolver before it becomes the default.\n",
      "\n",
      "awscli 1.18.61 requires botocore==1.16.11, but you'll have botocore 1.19.25 which is incompatible.\n",
      "awscli 1.18.61 requires rsa<=3.5.0,>=3.1.2, but you'll have rsa 4.6 which is incompatible.\u001b[0m\n",
      "Successfully installed cortex-certifai-engine-1.3.5 cuid-0.3 llvmlite-0.34.0 numba-0.51.2 rsa-4.6 shap-0.37.0 slicer-0.0.3 tqdm-4.53.0\n"
     ]
    }
   ],
   "source": [
    "!find certifai_toolkit/packages/all       -type f ! -name \"*console-*\" | xargs -I % sh -c 'pip install % ' ;\n",
    "!find certifai_toolkit/packages/python3.6 -type f   -name \"*engine-*\"                      | xargs -I % sh -c 'pip install % ' ;"
   ]
  },
  {
   "cell_type": "markdown",
   "metadata": {},
   "source": [
    "### Using Cortex Certifai python-package to launch a scan\n"
   ]
  },
  {
   "cell_type": "code",
   "execution_count": 26,
   "metadata": {},
   "outputs": [],
   "source": [
    "from certifai.scanner.builder import (CertifaiScanBuilder, CertifaiPredictorWrapper, CertifaiModel,\n",
    "                                      CertifaiDataset, CertifaiGroupingFeature, CertifaiDatasetSource,\n",
    "                                      CertifaiPredictionTask, CertifaiTaskOutcomes, CertifaiOutcomeValue,\n",
    "                                      CertifaiModelConnector, CertifaiModelMetric)\n",
    "from certifai.scanner.report_utils import scores, construct_scores_dataframe\n",
    "import pandas as pd"
   ]
  },
  {
   "cell_type": "markdown",
   "metadata": {},
   "source": [
    "\n",
    "### define cortex certifai task type\n",
    "\n",
    "-    CertifaiTaskOutcomes : cortex certifai supports classification as well as regression models. here we have an example of binary-classification (e.g. predict whether loan should be granted or not)\n",
    "-    CertifaiOutcomeValue : define the different outcomes possible from the model predictions. here we have a model that predicts either 1(loan granted) or 2(loan denied)\n",
    "\n",
    "Note: Please refer to [Certifai Api Docs](https://cognitivescale.github.io/cortex-certifai/certifai-api-ref/certifai.scanner.builder.html) for more details\n"
   ]
  },
  {
   "cell_type": "code",
   "execution_count": 27,
   "metadata": {},
   "outputs": [],
   "source": [
    "base_path = '.'\n",
    "all_data_file = f\"{base_path}/data/german_credit-decoded.csv\""
   ]
  },
  {
   "cell_type": "code",
   "execution_count": 28,
   "metadata": {},
   "outputs": [],
   "source": [
    "task = CertifaiPredictionTask(CertifaiTaskOutcomes.classification(\n",
    "    [\n",
    "        CertifaiOutcomeValue(1, name='Loan granted', favorable=True),\n",
    "        CertifaiOutcomeValue(2, name='Loan denied')\n",
    "    ]),\n",
    "    prediction_description='Determine whether a loan should be granted')\n",
    "\n",
    "scan = CertifaiScanBuilder.create('test_user_case',\n",
    "                                  prediction_task=task)"
   ]
  },
  {
   "cell_type": "markdown",
   "metadata": {},
   "source": [
    "\n",
    "### add logistic and svm models sagemaker models deployed above\n"
   ]
  },
  {
   "cell_type": "code",
   "execution_count": 29,
   "metadata": {},
   "outputs": [],
   "source": [
    "# Add the SageMaker model\n",
    "sagemaker_connector = CertifaiModelConnector('sagemaker', 'certifai.connectors.sagemaker', 'SageMakerModel')\n",
    "first_model = CertifaiModel('logit_sagemaker',\n",
    "                            predict_endpoint=predictor_logistic.endpoint,\n",
    "                            connector=sagemaker_connector)\n",
    "scan.add_model(first_model)\n",
    "second_model = CertifaiModel('svm_sagemaker',\n",
    "                            predict_endpoint=predictor_svm.endpoint,\n",
    "                            connector=sagemaker_connector)\n",
    "scan.add_model(second_model)"
   ]
  },
  {
   "cell_type": "markdown",
   "metadata": {},
   "source": [
    "\n",
    "### add the evaluation dataset to scan object\n",
    "\n",
    "-    evaluation dataset dataset to be used by cortex certifai to evaluate the model against\n",
    "\n"
   ]
  },
  {
   "cell_type": "code",
   "execution_count": 30,
   "metadata": {},
   "outputs": [],
   "source": [
    "# Add the eval dataset\n",
    "eval_dataset = CertifaiDataset('evaluation',\n",
    "                               CertifaiDatasetSource.csv(all_data_file))\n",
    "scan.add_dataset(eval_dataset)"
   ]
  },
  {
   "cell_type": "markdown",
   "metadata": {},
   "source": [
    "### evaluating model fairness\n",
    "\n",
    "-   add fairness as evaluation type to scan object\n",
    "-   create an evaluation_dataset_id to refer to added evaluation datset"
   ]
  },
  {
   "cell_type": "code",
   "execution_count": 31,
   "metadata": {},
   "outputs": [],
   "source": [
    "\n",
    "# Setup an evaluation for fairness on the above dataset using the model\n",
    "# We'll look at disparity between groups defined by marital status and age\n",
    "scan.add_fairness_grouping_feature(CertifaiGroupingFeature('age'))\n",
    "scan.add_fairness_grouping_feature(CertifaiGroupingFeature('status'))\n",
    "scan.add_evaluation_type('fairness')\n",
    "scan.evaluation_dataset_id = 'evaluation'"
   ]
  },
  {
   "cell_type": "code",
   "execution_count": 32,
   "metadata": {},
   "outputs": [],
   "source": [
    "# Because the dataset contains a ground truth outcome column which the model does not\n",
    "# expect to receive as input we need to state that in the dataset schema (since it cannot\n",
    "# be inferred from the CSV)\n",
    "scan.dataset_schema.outcome_feature_name = 'outcome'"
   ]
  },
  {
   "cell_type": "code",
   "execution_count": 33,
   "metadata": {},
   "outputs": [
    {
     "name": "stderr",
     "output_type": "stream",
     "text": [
      "2020-11-26 17:40:29,696 root   WARNING  Insufficient examples of some fairness classes to guarantee convergence (smallest class size is for 'male : divorced/separated' with 50 samples)\n"
     ]
    },
    {
     "name": "stdout",
     "output_type": "stream",
     "text": [
      "Starting scan with model_use_case_id: 'test_user_case' and scan_id: 'd41307abb85f'\n",
      "[--------------------] 2020-11-26 17:40:29.688426 - 0 of 2 reports (0.0% complete) - Running fairness evaluation for model: logit_sagemaker\n"
     ]
    },
    {
     "name": "stderr",
     "output_type": "stream",
     "text": [
      "2020-11-26 17:42:17,303 root   WARNING  Examples of protected class ('status', 'male : divorced/separated') exhausted before convergence after 50 samples\n",
      "2020-11-26 17:43:02,779 root   WARNING  Examples of protected class ('status', 'male : married/widowed') exhausted before convergence after 92 samples\n",
      "2020-11-26 17:45:23,024 root   WARNING  Examples of protected class ('status', 'female : divorced/separated/married') exhausted before convergence after 310 samples\n",
      "2020-11-26 17:46:20,855 root   WARNING  Examples of protected class ('age', '> 25 years') exhausted before convergence after 1000 samples\n",
      "2020-11-26 17:46:20,856 root   WARNING  Examples of protected class ('status', 'male : single') exhausted before convergence after 548 samples\n",
      "2020-11-26 17:46:30,124 root   WARNING  Insufficient examples of some fairness classes to guarantee convergence (smallest class size is for 'male : divorced/separated' with 50 samples)\n"
     ]
    },
    {
     "name": "stdout",
     "output_type": "stream",
     "text": [
      "[##########----------] 2020-11-26 17:46:30.117053 - 1 of 2 reports (50.0% complete) - Running fairness evaluation for model: svm_sagemaker\n"
     ]
    },
    {
     "name": "stderr",
     "output_type": "stream",
     "text": [
      "2020-11-26 17:48:50,467 root   WARNING  Examples of protected class ('status', 'male : divorced/separated') exhausted before convergence after 50 samples\n",
      "2020-11-26 17:49:59,947 root   WARNING  Examples of protected class ('status', 'male : married/widowed') exhausted before convergence after 92 samples\n",
      "2020-11-26 17:53:41,922 root   WARNING  Examples of protected class ('status', 'female : divorced/separated/married') exhausted before convergence after 310 samples\n",
      "2020-11-26 17:54:50,528 root   WARNING  Examples of protected class ('age', '> 25 years') exhausted before convergence after 999 samples\n",
      "2020-11-26 17:54:50,529 root   WARNING  Examples of protected class ('status', 'male : single') exhausted before convergence after 547 samples\n"
     ]
    },
    {
     "name": "stdout",
     "output_type": "stream",
     "text": [
      "[####################] 2020-11-26 17:54:59.683886 - 2 of 2 reports (100.0% complete) - Completed all evaluations\n"
     ]
    }
   ],
   "source": [
    "# Run the scan.\n",
    "# By default this will write the results into individual report files (one per model and evaluation\n",
    "# type) in the 'reports' directory relative to the Jupyter root.  This may be disabled by specifying\n",
    "# `write_reports=False` as below\n",
    "# The result is a dictionary of dictionaries of reports.  The top level dict key is the evaluation type\n",
    "# and the second level key is model id.\n",
    "# Reports saved as JSON (which `write_reports=True` will do) may be visualized in the console app\n",
    "result = scan.run(write_reports=False)"
   ]
  },
  {
   "cell_type": "markdown",
   "metadata": {},
   "source": [
    "\n",
    "### Analayze Fairness Results\n"
   ]
  },
  {
   "cell_type": "code",
   "execution_count": 34,
   "metadata": {},
   "outputs": [
    {
     "data": {
      "text/html": [
       "<div>\n",
       "<style scoped>\n",
       "    .dataframe tbody tr th:only-of-type {\n",
       "        vertical-align: middle;\n",
       "    }\n",
       "\n",
       "    .dataframe tbody tr th {\n",
       "        vertical-align: top;\n",
       "    }\n",
       "\n",
       "    .dataframe thead th {\n",
       "        text-align: right;\n",
       "    }\n",
       "</style>\n",
       "<table border=\"1\" class=\"dataframe\">\n",
       "  <thead>\n",
       "    <tr style=\"text-align: right;\">\n",
       "      <th></th>\n",
       "      <th>context</th>\n",
       "      <th>type</th>\n",
       "      <th>overall fairness</th>\n",
       "      <th>Feature (age)</th>\n",
       "      <th>Group details (&gt; 25 years)</th>\n",
       "      <th>Feature (status)</th>\n",
       "      <th>Group details (female : divorced/separated/married)</th>\n",
       "      <th>Group details (male : divorced/separated)</th>\n",
       "      <th>Group details (male : married/widowed)</th>\n",
       "      <th>Group details (male : single)</th>\n",
       "    </tr>\n",
       "  </thead>\n",
       "  <tbody>\n",
       "    <tr>\n",
       "      <th>logit_sagemaker (burden)</th>\n",
       "      <td>logit_sagemaker</td>\n",
       "      <td>burden</td>\n",
       "      <td>74.918814</td>\n",
       "      <td>100.0</td>\n",
       "      <td>0.048185</td>\n",
       "      <td>74.918814</td>\n",
       "      <td>0.068202</td>\n",
       "      <td>0.070117</td>\n",
       "      <td>0.032206</td>\n",
       "      <td>0.037323</td>\n",
       "    </tr>\n",
       "    <tr>\n",
       "      <th>svm_sagemaker (burden)</th>\n",
       "      <td>svm_sagemaker</td>\n",
       "      <td>burden</td>\n",
       "      <td>75.660392</td>\n",
       "      <td>100.0</td>\n",
       "      <td>0.048989</td>\n",
       "      <td>75.660392</td>\n",
       "      <td>0.064648</td>\n",
       "      <td>0.071231</td>\n",
       "      <td>0.030885</td>\n",
       "      <td>0.041159</td>\n",
       "    </tr>\n",
       "  </tbody>\n",
       "</table>\n",
       "</div>"
      ],
      "text/plain": [
       "                                  context    type  overall fairness  \\\n",
       "logit_sagemaker (burden)  logit_sagemaker  burden         74.918814   \n",
       "svm_sagemaker (burden)      svm_sagemaker  burden         75.660392   \n",
       "\n",
       "                          Feature (age)  Group details (> 25 years)  \\\n",
       "logit_sagemaker (burden)          100.0                    0.048185   \n",
       "svm_sagemaker (burden)            100.0                    0.048989   \n",
       "\n",
       "                          Feature (status)  \\\n",
       "logit_sagemaker (burden)         74.918814   \n",
       "svm_sagemaker (burden)           75.660392   \n",
       "\n",
       "                          Group details (female : divorced/separated/married)  \\\n",
       "logit_sagemaker (burden)                                           0.068202     \n",
       "svm_sagemaker (burden)                                             0.064648     \n",
       "\n",
       "                          Group details (male : divorced/separated)  \\\n",
       "logit_sagemaker (burden)                                   0.070117   \n",
       "svm_sagemaker (burden)                                     0.071231   \n",
       "\n",
       "                          Group details (male : married/widowed)  \\\n",
       "logit_sagemaker (burden)                                0.032206   \n",
       "svm_sagemaker (burden)                                  0.030885   \n",
       "\n",
       "                          Group details (male : single)  \n",
       "logit_sagemaker (burden)                       0.037323  \n",
       "svm_sagemaker (burden)                         0.041159  "
      ]
     },
     "metadata": {},
     "output_type": "display_data"
    }
   ],
   "source": [
    "# The result is a dictionary keyed on analysis, containing reports keyed on model id\n",
    "# The console app is the recommended way to view these, by saving the results to file\n",
    "# (see previous cell), but programmatic analysis of the result here is also possible\n",
    "df = construct_scores_dataframe(scores('fairness', result), include_confidence=False)\n",
    "display(df)"
   ]
  },
  {
   "cell_type": "markdown",
   "metadata": {},
   "source": [
    "\n",
    "### fairness by model\n"
   ]
  },
  {
   "cell_type": "code",
   "execution_count": 35,
   "metadata": {},
   "outputs": [
    {
     "data": {
      "text/html": [
       "<div>\n",
       "<style scoped>\n",
       "    .dataframe tbody tr th:only-of-type {\n",
       "        vertical-align: middle;\n",
       "    }\n",
       "\n",
       "    .dataframe tbody tr th {\n",
       "        vertical-align: top;\n",
       "    }\n",
       "\n",
       "    .dataframe thead th {\n",
       "        text-align: right;\n",
       "    }\n",
       "</style>\n",
       "<table border=\"1\" class=\"dataframe\">\n",
       "  <thead>\n",
       "    <tr style=\"text-align: right;\">\n",
       "      <th></th>\n",
       "      <th>context</th>\n",
       "      <th>type</th>\n",
       "      <th>overall fairness</th>\n",
       "      <th>overall fairness lower bound</th>\n",
       "      <th>overall fairness upper bound</th>\n",
       "      <th>Feature (age)</th>\n",
       "      <th>Feature (age) lower bound</th>\n",
       "      <th>Feature (age) upper bound</th>\n",
       "      <th>Group details (&gt; 25 years)</th>\n",
       "      <th>Group details (&gt; 25 years) lower bound</th>\n",
       "      <th>...</th>\n",
       "      <th>Group details (female : divorced/separated/married) upper bound</th>\n",
       "      <th>Group details (male : divorced/separated)</th>\n",
       "      <th>Group details (male : divorced/separated) lower bound</th>\n",
       "      <th>Group details (male : divorced/separated) upper bound</th>\n",
       "      <th>Group details (male : married/widowed)</th>\n",
       "      <th>Group details (male : married/widowed) lower bound</th>\n",
       "      <th>Group details (male : married/widowed) upper bound</th>\n",
       "      <th>Group details (male : single)</th>\n",
       "      <th>Group details (male : single) lower bound</th>\n",
       "      <th>Group details (male : single) upper bound</th>\n",
       "    </tr>\n",
       "  </thead>\n",
       "  <tbody>\n",
       "    <tr>\n",
       "      <th>logit_sagemaker (burden)</th>\n",
       "      <td>logit_sagemaker</td>\n",
       "      <td>burden</td>\n",
       "      <td>74.918814</td>\n",
       "      <td>65.153574</td>\n",
       "      <td>83.369134</td>\n",
       "      <td>100.0</td>\n",
       "      <td>100.0</td>\n",
       "      <td>100.0</td>\n",
       "      <td>0.048185</td>\n",
       "      <td>0.042871</td>\n",
       "      <td>...</td>\n",
       "      <td>0.079074</td>\n",
       "      <td>0.070117</td>\n",
       "      <td>0.045978</td>\n",
       "      <td>0.096528</td>\n",
       "      <td>0.032206</td>\n",
       "      <td>0.020428</td>\n",
       "      <td>0.045656</td>\n",
       "      <td>0.037323</td>\n",
       "      <td>0.031083</td>\n",
       "      <td>0.044004</td>\n",
       "    </tr>\n",
       "    <tr>\n",
       "      <th>svm_sagemaker (burden)</th>\n",
       "      <td>svm_sagemaker</td>\n",
       "      <td>burden</td>\n",
       "      <td>75.660392</td>\n",
       "      <td>64.796499</td>\n",
       "      <td>85.119045</td>\n",
       "      <td>100.0</td>\n",
       "      <td>100.0</td>\n",
       "      <td>100.0</td>\n",
       "      <td>0.048989</td>\n",
       "      <td>0.043974</td>\n",
       "      <td>...</td>\n",
       "      <td>0.075285</td>\n",
       "      <td>0.071231</td>\n",
       "      <td>0.046415</td>\n",
       "      <td>0.098047</td>\n",
       "      <td>0.030885</td>\n",
       "      <td>0.018627</td>\n",
       "      <td>0.043628</td>\n",
       "      <td>0.041159</td>\n",
       "      <td>0.034638</td>\n",
       "      <td>0.048163</td>\n",
       "    </tr>\n",
       "  </tbody>\n",
       "</table>\n",
       "<p>2 rows × 26 columns</p>\n",
       "</div>"
      ],
      "text/plain": [
       "                                  context    type  overall fairness  \\\n",
       "logit_sagemaker (burden)  logit_sagemaker  burden         74.918814   \n",
       "svm_sagemaker (burden)      svm_sagemaker  burden         75.660392   \n",
       "\n",
       "                          overall fairness lower bound  \\\n",
       "logit_sagemaker (burden)                     65.153574   \n",
       "svm_sagemaker (burden)                       64.796499   \n",
       "\n",
       "                          overall fairness upper bound  Feature (age)  \\\n",
       "logit_sagemaker (burden)                     83.369134          100.0   \n",
       "svm_sagemaker (burden)                       85.119045          100.0   \n",
       "\n",
       "                          Feature (age) lower bound  \\\n",
       "logit_sagemaker (burden)                      100.0   \n",
       "svm_sagemaker (burden)                        100.0   \n",
       "\n",
       "                          Feature (age) upper bound  \\\n",
       "logit_sagemaker (burden)                      100.0   \n",
       "svm_sagemaker (burden)                        100.0   \n",
       "\n",
       "                          Group details (> 25 years)  \\\n",
       "logit_sagemaker (burden)                    0.048185   \n",
       "svm_sagemaker (burden)                      0.048989   \n",
       "\n",
       "                          Group details (> 25 years) lower bound  ...  \\\n",
       "logit_sagemaker (burden)                                0.042871  ...   \n",
       "svm_sagemaker (burden)                                  0.043974  ...   \n",
       "\n",
       "                          Group details (female : divorced/separated/married) upper bound  \\\n",
       "logit_sagemaker (burden)                                           0.079074                 \n",
       "svm_sagemaker (burden)                                             0.075285                 \n",
       "\n",
       "                          Group details (male : divorced/separated)  \\\n",
       "logit_sagemaker (burden)                                   0.070117   \n",
       "svm_sagemaker (burden)                                     0.071231   \n",
       "\n",
       "                          Group details (male : divorced/separated) lower bound  \\\n",
       "logit_sagemaker (burden)                                           0.045978       \n",
       "svm_sagemaker (burden)                                             0.046415       \n",
       "\n",
       "                          Group details (male : divorced/separated) upper bound  \\\n",
       "logit_sagemaker (burden)                                           0.096528       \n",
       "svm_sagemaker (burden)                                             0.098047       \n",
       "\n",
       "                          Group details (male : married/widowed)  \\\n",
       "logit_sagemaker (burden)                                0.032206   \n",
       "svm_sagemaker (burden)                                  0.030885   \n",
       "\n",
       "                          Group details (male : married/widowed) lower bound  \\\n",
       "logit_sagemaker (burden)                                           0.020428    \n",
       "svm_sagemaker (burden)                                             0.018627    \n",
       "\n",
       "                          Group details (male : married/widowed) upper bound  \\\n",
       "logit_sagemaker (burden)                                           0.045656    \n",
       "svm_sagemaker (burden)                                             0.043628    \n",
       "\n",
       "                          Group details (male : single)  \\\n",
       "logit_sagemaker (burden)                       0.037323   \n",
       "svm_sagemaker (burden)                         0.041159   \n",
       "\n",
       "                          Group details (male : single) lower bound  \\\n",
       "logit_sagemaker (burden)                                   0.031083   \n",
       "svm_sagemaker (burden)                                     0.034638   \n",
       "\n",
       "                          Group details (male : single) upper bound  \n",
       "logit_sagemaker (burden)                                   0.044004  \n",
       "svm_sagemaker (burden)                                     0.048163  \n",
       "\n",
       "[2 rows x 26 columns]"
      ]
     },
     "metadata": {},
     "output_type": "display_data"
    },
    {
     "name": "stdout",
     "output_type": "stream",
     "text": [
      "\n",
      "\n"
     ]
    },
    {
     "data": {
      "image/png": "[encoded data removed]",
      "text/plain": [
       "<Figure size 864x288 with 1 Axes>"
      ]
     },
     "metadata": {
      "needs_background": "light"
     },
     "output_type": "display_data"
    }
   ],
   "source": [
    "# Many scores also come with 95% confidence bounds, which we omitted above for the sake of brevity, but\n",
    "# we can include those also.  In the example here we include the confidence bounds but only display the scores\n",
    "# to a reduced level of detail to keep a smallish table for display purposes\n",
    "df = construct_scores_dataframe(scores('fairness', result, max_depth=1))\n",
    "display(df)\n",
    "\n",
    "print(\"\\n\")\n",
    "\n",
    "# Let's chart the fairness measure by feature for each model together with its confidence bounds for\n",
    "# easier visual comparison:\n",
    "%matplotlib inline\n",
    "import matplotlib.pyplot as plt\n",
    "\n",
    "features = ['Feature (status)', 'Feature (age)']\n",
    "feature_scores = df[features]\n",
    "feature_lower_bounds = df[[f + ' lower bound' for f in features]]\n",
    "feature_upper_bounds = df[[f + ' upper bound' for f in features]]\n",
    "\n",
    "fig, ax = plt.subplots(figsize=[12,4])\n",
    "ax.set_title('Feature fairness by model', fontsize=20)\n",
    "colors = ['tab:blue', 'tab:orange', 'tab:green', 'tab:red', 'tab:pink']\n",
    "width = 0.4\n",
    "\n",
    "ax.set_xticks(np.arange(len(features))+width)\n",
    "ax.set_xticklabels(features)\n",
    "\n",
    "for idx in range(len(df)):\n",
    "    central_values = list(feature_scores.iloc[idx])\n",
    "    lower_bounds = list(feature_lower_bounds.iloc[idx])\n",
    "    upper_bounds = list(feature_upper_bounds.iloc[idx])\n",
    "    lower_errors = [central_values[i] - lower_bounds[i] for i in range(len(central_values))]\n",
    "    upper_errors = [upper_bounds[i] - central_values[i] for i in range(len(central_values))]\n",
    "\n",
    "    ax.bar([width/2+idx*width+f_idx for f_idx in range(len(features))],\n",
    "            central_values,\n",
    "            width,\n",
    "            yerr=[lower_errors, upper_errors],\n",
    "            color=colors[idx],\n",
    "            label=df.index[idx],\n",
    "            capsize=10)\n",
    "\n",
    "fig.legend(fontsize=14, bbox_to_anchor=(1.1,.6))\n",
    "fig.tight_layout()\n",
    "fig.subplots_adjust(right=0.8) \n",
    "plt.show()"
   ]
  },
  {
   "cell_type": "markdown",
   "metadata": {},
   "source": [
    "### Endpoint cleanup\n",
    "\n",
    "delete the containers created after evaluation is complete"
   ]
  },
  {
   "cell_type": "code",
   "execution_count": 36,
   "metadata": {},
   "outputs": [],
   "source": [
    "sklearn_svm.delete_endpoint()\n",
    "sklearn_logistic.delete_endpoint()"
   ]
  },
  {
   "cell_type": "code",
   "execution_count": null,
   "metadata": {},
   "outputs": [],
   "source": []
  }
 ],
 "metadata": {
  "kernelspec": {
   "display_name": "Python 3",
   "language": "python",
   "name": "python3"
  },
  "language_info": {
   "codemirror_mode": {
    "name": "ipython",
    "version": 3
   },
   "file_extension": ".py",
   "mimetype": "text/x-python",
   "name": "python",
   "nbconvert_exporter": "python",
   "pygments_lexer": "ipython3",
   "version": "3.6.12"
  }
 },
 "nbformat": 4,
 "nbformat_minor": 4
}
