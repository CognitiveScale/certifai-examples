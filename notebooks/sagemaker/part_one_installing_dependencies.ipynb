{
 "cells": [
  {
   "cell_type": "markdown",
   "id": "928f997e",
   "metadata": {},
   "source": [
    "## Installing Cortex Certifai and Pre-requisite Dependencies"
   ]
  },
  {
   "cell_type": "markdown",
   "id": "b84bbe94",
   "metadata": {},
   "source": [
    "Creating local and remote environments/dependencies will be covered in this notebook.\n",
    "\n",
    "You can alternatively use [Conda](https://docs.conda.io/projects/conda/en/latest/user-guide/install/) to create the local environment with the `certifai_sagemaker_model_env.yml` file provided with the notebook.\n",
    "- python=3.8\n",
    "- scikit-learn==1.0.1\n",
    "- numpy==1.21.5\n",
    "- pandas\n",
    "- sagemaker==2.127.0\n",
    "- boto3 >= 1.0.0,< 2.0.0\n",
    "- ipython\n",
    "- matplotlib\n",
    "- jupyter\n",
    "\n",
    "Other dependencies:\n",
    "- [AWS CLI](https://docs.aws.amazon.com/cli/latest/userguide/getting-started-install.html) (optional for configuring aws profile)\n",
    "- wget (when running locally on mac/windows)\n",
    "- Certifai Toolkit >=1.3.16\n",
    "\n",
    "> **Please note**: this tutorial assumes you have downloaded the [Cortex Certifai Toolkit](https://www.cognitivescale.com/download-certifai/) and uploaded it to your `S3` bucket which will be later used to install certifai packages.\n",
    "> Also make sure you have configured aws with right roles and region for using S3 bucket and sagemaker utilities.\n",
    "\n",
    "Open your favorite terminal and cd into the  folder where this notebook is located to execute the below commands\n",
    "\n",
    "- `conda env create -f certifai_sagemaker_model_env.yml`: will create local conda env with the necessary python packages for working through the notebook\n",
    "- `jupyter-notebook`: to launch jupyter notebook sesssion. \n",
    "\n",
    "**Note**: Installing Cortex Certifai packages will be covered below."
   ]
  },
  {
   "cell_type": "markdown",
   "id": "710cdbd2",
   "metadata": {},
   "source": [
    "### (Optional) Download toolkit from S3 bucket to current environment\n",
    "- If you would like to download the Certifai toolkit from an S3 bucket, then set `download_toolkit` to `True` in the below cell.\n",
    "- Update the `S3_BUCKET_NAME` and `S3_OBJECT_NAME` values to the location of the toolkit in S3\n",
    "\n",
    "#### Set Cortex Certifai Toolkit path\n",
    "- Update the `certifai_toolkit` variable to a local file path where the downloaded toolkit from S3 bucket will be saved\n",
    "- This will be used later to install the Cortex Certifai python packages"
   ]
  },
  {
   "cell_type": "code",
   "execution_count": 1,
   "id": "15f4a6f5",
   "metadata": {},
   "outputs": [],
   "source": [
    "import os\n",
    "\n",
    "download_toolkit = os.getenv(\"DOWNLOAD_TOOLKIT_S3\") is not None\n",
    "if download_toolkit:\n",
    "    certifai_toolkit = 'certifai_toolkit.zip'\n",
    "    s3 = boto3.client('s3')\n",
    "    s3.download_file('S3_BUCKET_NAME', 'S3_OBJECT_NAME', certifai_toolkit)"
   ]
  },
  {
   "cell_type": "markdown",
   "id": "84cb70cb",
   "metadata": {},
   "source": [
    "### (Optional) Unzip and extract the Cortex Certifai Toolkit\n",
    "\n",
    "Uncomment the following cell to extract the Certifai Toolkit contents to `~/Downloads/toolkit`."
   ]
  },
  {
   "cell_type": "code",
   "execution_count": 2,
   "id": "dcdf36d3",
   "metadata": {},
   "outputs": [],
   "source": [
    "#!rm -rf toolkit\n",
    "#!unzip -q -d toolkit $certifai_toolkit\n",
    "#!cat toolkit/version.txt"
   ]
  },
  {
   "cell_type": "code",
   "execution_count": 3,
   "id": "8cb22d29",
   "metadata": {
    "execution": {
     "iopub.execute_input": "2023-01-25T21:14:18.205236Z",
     "iopub.status.busy": "2023-01-25T21:14:18.204899Z",
     "iopub.status.idle": "2023-01-25T21:14:18.221414Z",
     "shell.execute_reply": "2023-01-25T21:14:18.220476Z"
    }
   },
   "outputs": [
    {
     "name": "stdout",
     "output_type": "stream",
     "text": [
      "Toolkit Path: /Users/laguirre/cortex/cortex-certifai-examples/notebooks/sagemaker/../../artifacts/toolkit\n"
     ]
    }
   ],
   "source": [
    "import os\n",
    "\n",
    "home = os.path.expanduser(\"~\")\n",
    "default_certifai_toolkit_path = os.path.join(home, 'Downloads', 'toolkit')\n",
    "certifai_toolkit_path = os.getenv('TOOLKIT_WORK_DIR', default_certifai_toolkit_path)\n",
    "print(f'Toolkit Path: {certifai_toolkit_path}')"
   ]
  },
  {
   "cell_type": "markdown",
   "id": "f6620b73",
   "metadata": {},
   "source": [
    "### Install required certifai packages (optional packages are left for user to install)¶\n",
    "\n",
    "Initiating a Cortex Certifai scan requires following python packages to be installed in the current local environment. We will be using `cortex-certifai-connectors` package which provided first class support for SageMaker models.\n",
    "\n",
    "required-packages\n",
    "\n",
    "-    cortex-certifai-scanner\n",
    "-    cortex-certifai-engine\n",
    "-    cortex-certifai-common\n",
    "-    cortex-certifai-connectors\n",
    "\n",
    "optional-packages\n",
    "\n",
    "-   cortex-certifai-client\n",
    "-   cortex-certifai-console\n",
    "\n",
    "**NOTE:** Make sure to install `cortex-certifai-engine` package for correct python version, by default it will install for `$certifai_toolkitpackages/python3.8` in the cell below."
   ]
  },
  {
   "cell_type": "markdown",
   "id": "4ecb6181",
   "metadata": {},
   "source": [
    "### Install required certifai packages (optional packages are left for user to install)\n",
    "\n",
    "The following installation assumes you are using Python 3.8. If you are using a different version, then update the file path used below."
   ]
  },
  {
   "cell_type": "code",
   "execution_count": 4,
   "id": "a723c6d1",
   "metadata": {
    "execution": {
     "iopub.execute_input": "2023-01-25T21:14:20.519612Z",
     "iopub.status.busy": "2023-01-25T21:14:20.519196Z",
     "iopub.status.idle": "2023-01-25T21:15:07.698378Z",
     "shell.execute_reply": "2023-01-25T21:15:07.696569Z"
    }
   },
   "outputs": [
    {
     "name": "stdout",
     "output_type": "stream",
     "text": [
      "Processing /Users/laguirre/cortex/cortex-certifai-examples/artifacts/toolkit/packages/all/cortex-certifai-common-1.3.16-22-g6c7acbb6.zip\n",
      "  Preparing metadata (setup.py) ... \u001b[?25ldone\n",
      "\u001b[?25hRequirement already satisfied: requests<3.0,>=2.20.0 in /Users/laguirre/miniconda3/envs/certifai-sagemaker-model-env/lib/python3.8/site-packages (from cortex-certifai-common==1.3.16) (2.28.2)\n",
      "Requirement already satisfied: urllib3<1.27.0,>=1.24.3 in /Users/laguirre/miniconda3/envs/certifai-sagemaker-model-env/lib/python3.8/site-packages (from cortex-certifai-common==1.3.16) (1.26.14)\n",
      "Requirement already satisfied: numpy<1.22,>=1.16.2 in /Users/laguirre/miniconda3/envs/certifai-sagemaker-model-env/lib/python3.8/site-packages (from cortex-certifai-common==1.3.16) (1.21.5)\n",
      "Collecting pandas<1.5,>=0.23.4\n",
      "  Using cached pandas-1.4.4-cp38-cp38-macosx_10_9_x86_64.whl (11.4 MB)\n",
      "Collecting scipy<1.8,>=1.1.0\n",
      "  Using cached scipy-1.7.3-cp38-cp38-macosx_10_9_x86_64.whl (33.0 MB)\n",
      "Requirement already satisfied: python-dateutil<3.0,>=2.6.1 in /Users/laguirre/miniconda3/envs/certifai-sagemaker-model-env/lib/python3.8/site-packages (from cortex-certifai-common==1.3.16) (2.8.2)\n",
      "Collecting toolz<1.0,>=0.10.0\n",
      "  Using cached toolz-0.12.0-py3-none-any.whl (55 kB)\n",
      "Requirement already satisfied: typing_extensions<5.0,>=3.6.6 in /Users/laguirre/miniconda3/envs/certifai-sagemaker-model-env/lib/python3.8/site-packages (from cortex-certifai-common==1.3.16) (4.4.0)\n",
      "Requirement already satisfied: scikit-learn<1.1,>=0.20.3 in /Users/laguirre/miniconda3/envs/certifai-sagemaker-model-env/lib/python3.8/site-packages (from cortex-certifai-common==1.3.16) (1.0.1)\n",
      "Collecting pyyaml<6.0,>=3.13\n",
      "  Using cached PyYAML-5.4.1-cp38-cp38-macosx_10_9_x86_64.whl (253 kB)\n",
      "Collecting pygtrie==2.4.2\n",
      "  Using cached pygtrie-2.4.2-py3-none-any.whl\n",
      "Requirement already satisfied: pytz>=2020.1 in /Users/laguirre/miniconda3/envs/certifai-sagemaker-model-env/lib/python3.8/site-packages (from pandas<1.5,>=0.23.4->cortex-certifai-common==1.3.16) (2022.7.1)\n",
      "Requirement already satisfied: six>=1.5 in /Users/laguirre/miniconda3/envs/certifai-sagemaker-model-env/lib/python3.8/site-packages (from python-dateutil<3.0,>=2.6.1->cortex-certifai-common==1.3.16) (1.16.0)\n",
      "Requirement already satisfied: certifi>=2017.4.17 in /Users/laguirre/miniconda3/envs/certifai-sagemaker-model-env/lib/python3.8/site-packages (from requests<3.0,>=2.20.0->cortex-certifai-common==1.3.16) (2022.12.7)\n",
      "Requirement already satisfied: idna<4,>=2.5 in /Users/laguirre/miniconda3/envs/certifai-sagemaker-model-env/lib/python3.8/site-packages (from requests<3.0,>=2.20.0->cortex-certifai-common==1.3.16) (3.4)\n",
      "Requirement already satisfied: charset-normalizer<4,>=2 in /Users/laguirre/miniconda3/envs/certifai-sagemaker-model-env/lib/python3.8/site-packages (from requests<3.0,>=2.20.0->cortex-certifai-common==1.3.16) (2.1.1)\n",
      "Requirement already satisfied: threadpoolctl>=2.0.0 in /Users/laguirre/miniconda3/envs/certifai-sagemaker-model-env/lib/python3.8/site-packages (from scikit-learn<1.1,>=0.20.3->cortex-certifai-common==1.3.16) (3.1.0)\n",
      "Requirement already satisfied: joblib>=0.11 in /Users/laguirre/miniconda3/envs/certifai-sagemaker-model-env/lib/python3.8/site-packages (from scikit-learn<1.1,>=0.20.3->cortex-certifai-common==1.3.16) (1.2.0)\n",
      "Building wheels for collected packages: cortex-certifai-common\n",
      "  Building wheel for cortex-certifai-common (setup.py) ... \u001b[?25ldone\n",
      "\u001b[?25h  Created wheel for cortex-certifai-common: filename=cortex_certifai_common-1.3.16-py3-none-any.whl size=117640 sha256=bb8c0fdd6e5506c18c96efbd547737093590075f160c573746b1febf7165c40f\n",
      "  Stored in directory: /Users/laguirre/Library/Caches/pip/wheels/35/15/e7/d526793f859fe7e78144a03ff3263a8242dae434aba492b07c\n",
      "Successfully built cortex-certifai-common\n",
      "Installing collected packages: pygtrie, toolz, scipy, pyyaml, pandas, cortex-certifai-common\n",
      "  Attempting uninstall: scipy\n",
      "    Found existing installation: scipy 1.10.0\n",
      "    Uninstalling scipy-1.10.0:\n",
      "      Successfully uninstalled scipy-1.10.0\n",
      "  Attempting uninstall: pyyaml\n",
      "    Found existing installation: PyYAML 6.0\n",
      "    Uninstalling PyYAML-6.0:\n",
      "      Successfully uninstalled PyYAML-6.0\n",
      "  Attempting uninstall: pandas\n",
      "    Found existing installation: pandas 1.5.3\n",
      "    Uninstalling pandas-1.5.3:\n",
      "      Successfully uninstalled pandas-1.5.3\n",
      "Successfully installed cortex-certifai-common-1.3.16 pandas-1.4.4 pygtrie-2.4.2 pyyaml-5.4.1 scipy-1.7.3 toolz-0.12.0\n",
      "Processing /Users/laguirre/cortex/cortex-certifai-examples/artifacts/toolkit/packages/all/cortex-certifai-connectors-1.3.16-22-g6c7acbb6.zip\n",
      "  Preparing metadata (setup.py) ... \u001b[?25ldone\n",
      "\u001b[?25hRequirement already satisfied: boto3<2.0.0,>=1.0.0 in /Users/laguirre/miniconda3/envs/certifai-sagemaker-model-env/lib/python3.8/site-packages (from cortex-certifai-connectors==1.3.16) (1.26.57)\n",
      "Collecting pydantic>=1.5.1\n",
      "  Using cached pydantic-1.10.4-cp38-cp38-macosx_10_9_x86_64.whl (2.9 MB)\n",
      "Requirement already satisfied: numpy<1.22,>=1.16.2 in /Users/laguirre/miniconda3/envs/certifai-sagemaker-model-env/lib/python3.8/site-packages (from cortex-certifai-connectors==1.3.16) (1.21.5)\n",
      "Requirement already satisfied: botocore<1.30.0,>=1.29.57 in /Users/laguirre/miniconda3/envs/certifai-sagemaker-model-env/lib/python3.8/site-packages (from boto3<2.0.0,>=1.0.0->cortex-certifai-connectors==1.3.16) (1.29.57)\n",
      "Requirement already satisfied: s3transfer<0.7.0,>=0.6.0 in /Users/laguirre/miniconda3/envs/certifai-sagemaker-model-env/lib/python3.8/site-packages (from boto3<2.0.0,>=1.0.0->cortex-certifai-connectors==1.3.16) (0.6.0)\n",
      "Requirement already satisfied: jmespath<2.0.0,>=0.7.1 in /Users/laguirre/miniconda3/envs/certifai-sagemaker-model-env/lib/python3.8/site-packages (from boto3<2.0.0,>=1.0.0->cortex-certifai-connectors==1.3.16) (1.0.1)\n",
      "Requirement already satisfied: typing-extensions>=4.2.0 in /Users/laguirre/miniconda3/envs/certifai-sagemaker-model-env/lib/python3.8/site-packages (from pydantic>=1.5.1->cortex-certifai-connectors==1.3.16) (4.4.0)\n",
      "Requirement already satisfied: urllib3<1.27,>=1.25.4 in /Users/laguirre/miniconda3/envs/certifai-sagemaker-model-env/lib/python3.8/site-packages (from botocore<1.30.0,>=1.29.57->boto3<2.0.0,>=1.0.0->cortex-certifai-connectors==1.3.16) (1.26.14)\n",
      "Requirement already satisfied: python-dateutil<3.0.0,>=2.1 in /Users/laguirre/miniconda3/envs/certifai-sagemaker-model-env/lib/python3.8/site-packages (from botocore<1.30.0,>=1.29.57->boto3<2.0.0,>=1.0.0->cortex-certifai-connectors==1.3.16) (2.8.2)\n",
      "Requirement already satisfied: six>=1.5 in /Users/laguirre/miniconda3/envs/certifai-sagemaker-model-env/lib/python3.8/site-packages (from python-dateutil<3.0.0,>=2.1->botocore<1.30.0,>=1.29.57->boto3<2.0.0,>=1.0.0->cortex-certifai-connectors==1.3.16) (1.16.0)\n",
      "Building wheels for collected packages: cortex-certifai-connectors\n",
      "  Building wheel for cortex-certifai-connectors (setup.py) ... \u001b[?25ldone\n",
      "\u001b[?25h  Created wheel for cortex-certifai-connectors: filename=cortex_certifai_connectors-1.3.16-py3-none-any.whl size=14878 sha256=b40b4f90c4f7a4d92c32660c763d8e6b7726c3198f731126ad4add1853a2a324\n",
      "  Stored in directory: /Users/laguirre/Library/Caches/pip/wheels/39/b4/ba/9dd327d3e34afc7812ace53936cda3d9542a5ac11403ee9220\n",
      "Successfully built cortex-certifai-connectors\n",
      "Installing collected packages: pydantic, cortex-certifai-connectors\n",
      "Successfully installed cortex-certifai-connectors-1.3.16 pydantic-1.10.4\n",
      "Processing /Users/laguirre/cortex/cortex-certifai-examples/artifacts/toolkit/packages/all/cortex-certifai-scanner-1.3.16-22-g6c7acbb6.zip\n",
      "  Preparing metadata (setup.py) ... \u001b[?25ldone\n",
      "\u001b[?25hRequirement already satisfied: numpy<1.22,>=1.16.2 in /Users/laguirre/miniconda3/envs/certifai-sagemaker-model-env/lib/python3.8/site-packages (from cortex-certifai-scanner==1.3.16) (1.21.5)\n",
      "Requirement already satisfied: pandas<1.5,>=0.23.4 in /Users/laguirre/miniconda3/envs/certifai-sagemaker-model-env/lib/python3.8/site-packages (from cortex-certifai-scanner==1.3.16) (1.4.4)\n",
      "Collecting marshmallow<4.0,>=3.13.0\n",
      "  Using cached marshmallow-3.19.0-py3-none-any.whl (49 kB)\n",
      "Requirement already satisfied: pyyaml<6.0,>=3.13 in /Users/laguirre/miniconda3/envs/certifai-sagemaker-model-env/lib/python3.8/site-packages (from cortex-certifai-scanner==1.3.16) (5.4.1)\n",
      "Requirement already satisfied: python-dateutil<3.0,>=2.6.1 in /Users/laguirre/miniconda3/envs/certifai-sagemaker-model-env/lib/python3.8/site-packages (from cortex-certifai-scanner==1.3.16) (2.8.2)\n",
      "Requirement already satisfied: Jinja2>=2.10.3 in /Users/laguirre/miniconda3/envs/certifai-sagemaker-model-env/lib/python3.8/site-packages (from cortex-certifai-scanner==1.3.16) (3.1.2)\n",
      "Requirement already satisfied: MarkupSafe>=2.0 in /Users/laguirre/miniconda3/envs/certifai-sagemaker-model-env/lib/python3.8/site-packages (from Jinja2>=2.10.3->cortex-certifai-scanner==1.3.16) (2.1.2)\n",
      "Requirement already satisfied: packaging>=17.0 in /Users/laguirre/miniconda3/envs/certifai-sagemaker-model-env/lib/python3.8/site-packages (from marshmallow<4.0,>=3.13.0->cortex-certifai-scanner==1.3.16) (23.0)\n",
      "Requirement already satisfied: pytz>=2020.1 in /Users/laguirre/miniconda3/envs/certifai-sagemaker-model-env/lib/python3.8/site-packages (from pandas<1.5,>=0.23.4->cortex-certifai-scanner==1.3.16) (2022.7.1)\n",
      "Requirement already satisfied: six>=1.5 in /Users/laguirre/miniconda3/envs/certifai-sagemaker-model-env/lib/python3.8/site-packages (from python-dateutil<3.0,>=2.6.1->cortex-certifai-scanner==1.3.16) (1.16.0)\n",
      "Building wheels for collected packages: cortex-certifai-scanner\n"
     ]
    },
    {
     "name": "stdout",
     "output_type": "stream",
     "text": [
      "  Building wheel for cortex-certifai-scanner (setup.py) ... \u001b[?25ldone\n",
      "\u001b[?25h  Created wheel for cortex-certifai-scanner: filename=cortex_certifai_scanner-1.3.16-py3-none-any.whl size=147194 sha256=0f33e336090410df9dc11770d70761b0bc2e9108493330725c6e4fd4d03b00c8\n",
      "  Stored in directory: /Users/laguirre/Library/Caches/pip/wheels/f1/7e/a6/d6adb10ffbeaa13c637672f3920cc485b3b08d48634ea5ce98\n",
      "Successfully built cortex-certifai-scanner\n",
      "Installing collected packages: marshmallow, cortex-certifai-scanner\n",
      "Successfully installed cortex-certifai-scanner-1.3.16 marshmallow-3.19.0\n",
      "Processing /Users/laguirre/cortex/cortex-certifai-examples/artifacts/toolkit/packages/all/cortex-certifai-policy-1.3.16-22-g6c7acbb6.zip\n",
      "  Preparing metadata (setup.py) ... \u001b[?25ldone\n",
      "\u001b[?25hRequirement already satisfied: marshmallow<4.0,>=3.0.0 in /Users/laguirre/miniconda3/envs/certifai-sagemaker-model-env/lib/python3.8/site-packages (from cortex-certifai-policy==1.3.16) (3.19.0)\n",
      "Requirement already satisfied: packaging>=17.0 in /Users/laguirre/miniconda3/envs/certifai-sagemaker-model-env/lib/python3.8/site-packages (from marshmallow<4.0,>=3.0.0->cortex-certifai-policy==1.3.16) (23.0)\n",
      "Building wheels for collected packages: cortex-certifai-policy\n",
      "  Building wheel for cortex-certifai-policy (setup.py) ... \u001b[?25ldone\n",
      "\u001b[?25h  Created wheel for cortex-certifai-policy: filename=cortex_certifai_policy-1.3.16-py3-none-any.whl size=25397 sha256=d5c9cb213f35d9bd033d08ebbdcee604127bd1f50be9ff44e456cb7a72984882\n",
      "  Stored in directory: /Users/laguirre/Library/Caches/pip/wheels/d6/11/33/7aa49b355b621822fd29d4704a36710fcf4ff91306f54422d0\n",
      "Successfully built cortex-certifai-policy\n",
      "Installing collected packages: cortex-certifai-policy\n",
      "Successfully installed cortex-certifai-policy-1.3.16\n",
      "Processing /Users/laguirre/cortex/cortex-certifai-examples/artifacts/toolkit/packages/all/cortex-certifai-model-sdk-1.3.16-22-g6c7acbb6.zip\n",
      "  Preparing metadata (setup.py) ... \u001b[?25ldone\n",
      "\u001b[?25hCollecting flask\n",
      "  Using cached Flask-2.2.2-py3-none-any.whl (101 kB)\n",
      "Requirement already satisfied: numpy in /Users/laguirre/miniconda3/envs/certifai-sagemaker-model-env/lib/python3.8/site-packages (from cortex-certifai-model-sdk==1.3.16) (1.21.5)\n",
      "Collecting werkzeug<2.1,>=0.15\n",
      "  Using cached Werkzeug-2.0.3-py3-none-any.whl (289 kB)\n",
      "Collecting dill<=0.3.4\n",
      "  Using cached dill-0.3.4-py2.py3-none-any.whl (86 kB)\n",
      "Collecting gevent==21.12.0\n",
      "  Using cached gevent-21.12.0-cp38-cp38-macosx_10_14_x86_64.whl (1.9 MB)\n",
      "Collecting greenlet<2.0,>=1.1.0\n",
      "  Using cached greenlet-1.1.3.post0-cp38-cp38-macosx_10_15_x86_64.whl (93 kB)\n",
      "Collecting gunicorn==20.1.0\n",
      "  Using cached gunicorn-20.1.0-py3-none-any.whl (79 kB)\n",
      "Collecting zope.event\n",
      "  Using cached zope.event-4.6-py2.py3-none-any.whl (6.8 kB)\n",
      "Requirement already satisfied: setuptools in /Users/laguirre/miniconda3/envs/certifai-sagemaker-model-env/lib/python3.8/site-packages (from gevent==21.12.0->cortex-certifai-model-sdk==1.3.16) (66.1.1)\n",
      "Collecting zope.interface\n",
      "  Using cached zope.interface-5.5.2-cp38-cp38-macosx_10_9_x86_64.whl (209 kB)\n",
      "Requirement already satisfied: Jinja2>=3.0 in /Users/laguirre/miniconda3/envs/certifai-sagemaker-model-env/lib/python3.8/site-packages (from flask->cortex-certifai-model-sdk==1.3.16) (3.1.2)\n",
      "Collecting itsdangerous>=2.0\n",
      "  Using cached itsdangerous-2.1.2-py3-none-any.whl (15 kB)\n",
      "Collecting flask\n",
      "  Using cached Flask-2.2.1-py3-none-any.whl (101 kB)\n",
      "  Using cached Flask-2.2.0-py3-none-any.whl (101 kB)\n",
      "  Using cached Flask-2.1.3-py3-none-any.whl (95 kB)\n",
      "Collecting click>=8.0\n",
      "  Using cached click-8.1.3-py3-none-any.whl (96 kB)\n",
      "Requirement already satisfied: importlib-metadata>=3.6.0 in /Users/laguirre/miniconda3/envs/certifai-sagemaker-model-env/lib/python3.8/site-packages (from flask->cortex-certifai-model-sdk==1.3.16) (4.13.0)\n",
      "Requirement already satisfied: zipp>=0.5 in /Users/laguirre/miniconda3/envs/certifai-sagemaker-model-env/lib/python3.8/site-packages (from importlib-metadata>=3.6.0->flask->cortex-certifai-model-sdk==1.3.16) (3.11.0)\n",
      "Requirement already satisfied: MarkupSafe>=2.0 in /Users/laguirre/miniconda3/envs/certifai-sagemaker-model-env/lib/python3.8/site-packages (from Jinja2>=3.0->flask->cortex-certifai-model-sdk==1.3.16) (2.1.2)\n",
      "Building wheels for collected packages: cortex-certifai-model-sdk\n",
      "  Building wheel for cortex-certifai-model-sdk (setup.py) ... \u001b[?25ldone\n",
      "\u001b[?25h  Created wheel for cortex-certifai-model-sdk: filename=cortex_certifai_model_sdk-1.3.16-py3-none-any.whl size=20605 sha256=d69cb38c737f0246504ea6f10c73c89d9dc2f49dfa52a44e13c66177fd958d9f\n",
      "  Stored in directory: /Users/laguirre/Library/Caches/pip/wheels/67/23/11/6c908526949c6ee171115806f3b48c7dc1cd3bffeba40aec14\n",
      "Successfully built cortex-certifai-model-sdk\n",
      "Installing collected packages: zope.interface, zope.event, werkzeug, itsdangerous, gunicorn, greenlet, dill, click, gevent, flask, cortex-certifai-model-sdk\n",
      "  Attempting uninstall: dill\n",
      "    Found existing installation: dill 0.3.6\n",
      "    Uninstalling dill-0.3.6:\n",
      "      Successfully uninstalled dill-0.3.6\n",
      "\u001b[31mERROR: pip's dependency resolver does not currently take into account all the packages that are installed. This behaviour is the source of the following dependency conflicts.\n",
      "pathos 0.3.0 requires dill>=0.3.6, but you have dill 0.3.4 which is incompatible.\n",
      "multiprocess 0.70.14 requires dill>=0.3.6, but you have dill 0.3.4 which is incompatible.\u001b[0m\u001b[31m\n",
      "\u001b[0mSuccessfully installed click-8.1.3 cortex-certifai-model-sdk-1.3.16 dill-0.3.4 flask-2.1.3 gevent-21.12.0 greenlet-1.1.3.post0 gunicorn-20.1.0 itsdangerous-2.1.2 werkzeug-2.0.3 zope.event-4.6 zope.interface-5.5.2\n",
      "Processing /Users/laguirre/cortex/cortex-certifai-examples/artifacts/toolkit/packages/python3.8/cortex-certifai-engine-1.3.16-22-g6c7acbb6-py3.8.15.zip\n",
      "  Preparing metadata (setup.py) ... \u001b[?25ldone\n",
      "\u001b[?25hRequirement already satisfied: numpy<1.22,>=1.16.2 in /Users/laguirre/miniconda3/envs/certifai-sagemaker-model-env/lib/python3.8/site-packages (from cortex-certifai-engine==1.3.16) (1.21.5)\n",
      "Requirement already satisfied: pandas<1.5,>=0.23.4 in /Users/laguirre/miniconda3/envs/certifai-sagemaker-model-env/lib/python3.8/site-packages (from cortex-certifai-engine==1.3.16) (1.4.4)\n",
      "Requirement already satisfied: scikit-learn<1.1,>=0.20.3 in /Users/laguirre/miniconda3/envs/certifai-sagemaker-model-env/lib/python3.8/site-packages (from cortex-certifai-engine==1.3.16) (1.0.1)\n",
      "Requirement already satisfied: scipy<1.8,>=1.1.0 in /Users/laguirre/miniconda3/envs/certifai-sagemaker-model-env/lib/python3.8/site-packages (from cortex-certifai-engine==1.3.16) (1.7.3)\n",
      "Requirement already satisfied: toolz<1.0,>=0.10.0 in /Users/laguirre/miniconda3/envs/certifai-sagemaker-model-env/lib/python3.8/site-packages (from cortex-certifai-engine==1.3.16) (0.12.0)\n",
      "Collecting rsa<5.0,>=4.0\n",
      "  Using cached rsa-4.9-py3-none-any.whl (34 kB)\n",
      "Collecting cuid<0.4,>=0.3\n",
      "  Using cached cuid-0.3-py2.py3-none-any.whl\n",
      "Requirement already satisfied: pyyaml<6.0,>=3.13 in /Users/laguirre/miniconda3/envs/certifai-sagemaker-model-env/lib/python3.8/site-packages (from cortex-certifai-engine==1.3.16) (5.4.1)\n",
      "Collecting shap>=0.31.0\n",
      "  Using cached shap-0.41.0-cp38-cp38-macosx_10_9_x86_64.whl (436 kB)\n",
      "Requirement already satisfied: python-dateutil>=2.8.1 in /Users/laguirre/miniconda3/envs/certifai-sagemaker-model-env/lib/python3.8/site-packages (from pandas<1.5,>=0.23.4->cortex-certifai-engine==1.3.16) (2.8.2)\n",
      "Requirement already satisfied: pytz>=2020.1 in /Users/laguirre/miniconda3/envs/certifai-sagemaker-model-env/lib/python3.8/site-packages (from pandas<1.5,>=0.23.4->cortex-certifai-engine==1.3.16) (2022.7.1)\n",
      "Collecting pyasn1>=0.1.3\n",
      "  Using cached pyasn1-0.4.8-py2.py3-none-any.whl (77 kB)\n",
      "Requirement already satisfied: threadpoolctl>=2.0.0 in /Users/laguirre/miniconda3/envs/certifai-sagemaker-model-env/lib/python3.8/site-packages (from scikit-learn<1.1,>=0.20.3->cortex-certifai-engine==1.3.16) (3.1.0)\n",
      "Requirement already satisfied: joblib>=0.11 in /Users/laguirre/miniconda3/envs/certifai-sagemaker-model-env/lib/python3.8/site-packages (from scikit-learn<1.1,>=0.20.3->cortex-certifai-engine==1.3.16) (1.2.0)\n",
      "Collecting tqdm>4.25.0\n",
      "  Using cached tqdm-4.64.1-py2.py3-none-any.whl (78 kB)\n",
      "Collecting numba\n",
      "  Using cached numba-0.56.4-cp38-cp38-macosx_10_14_x86_64.whl (2.4 MB)\n"
     ]
    },
    {
     "name": "stdout",
     "output_type": "stream",
     "text": [
      "Collecting cloudpickle\n",
      "  Using cached cloudpickle-2.2.1-py3-none-any.whl (25 kB)\n",
      "Collecting slicer==0.0.7\n",
      "  Using cached slicer-0.0.7-py3-none-any.whl (14 kB)\n",
      "Requirement already satisfied: packaging>20.9 in /Users/laguirre/miniconda3/envs/certifai-sagemaker-model-env/lib/python3.8/site-packages (from shap>=0.31.0->cortex-certifai-engine==1.3.16) (23.0)\n",
      "Requirement already satisfied: six>=1.5 in /Users/laguirre/miniconda3/envs/certifai-sagemaker-model-env/lib/python3.8/site-packages (from python-dateutil>=2.8.1->pandas<1.5,>=0.23.4->cortex-certifai-engine==1.3.16) (1.16.0)\n",
      "Requirement already satisfied: setuptools in /Users/laguirre/miniconda3/envs/certifai-sagemaker-model-env/lib/python3.8/site-packages (from numba->shap>=0.31.0->cortex-certifai-engine==1.3.16) (66.1.1)\n",
      "Collecting llvmlite<0.40,>=0.39.0dev0\n",
      "  Using cached llvmlite-0.39.1-cp38-cp38-macosx_10_9_x86_64.whl (25.5 MB)\n",
      "Requirement already satisfied: importlib-metadata in /Users/laguirre/miniconda3/envs/certifai-sagemaker-model-env/lib/python3.8/site-packages (from numba->shap>=0.31.0->cortex-certifai-engine==1.3.16) (4.13.0)\n",
      "Requirement already satisfied: zipp>=0.5 in /Users/laguirre/miniconda3/envs/certifai-sagemaker-model-env/lib/python3.8/site-packages (from importlib-metadata->numba->shap>=0.31.0->cortex-certifai-engine==1.3.16) (3.11.0)\n",
      "Building wheels for collected packages: cortex-certifai-engine\n",
      "  Building wheel for cortex-certifai-engine (setup.py) ... \u001b[?25ldone\n",
      "\u001b[?25h  Created wheel for cortex-certifai-engine: filename=cortex_certifai_engine-1.3.16-py3-none-any.whl size=2656606 sha256=3795f16898080a765050852d3d0c99f3000fba537ac81f55c04a946b140b268b\n",
      "  Stored in directory: /Users/laguirre/Library/Caches/pip/wheels/be/7e/99/efd15b71d84121c40e16738588420efffeb496f7deee74d74f\n",
      "Successfully built cortex-certifai-engine\n",
      "Installing collected packages: pyasn1, cuid, tqdm, slicer, rsa, llvmlite, cloudpickle, numba, shap, cortex-certifai-engine\n",
      "Successfully installed cloudpickle-2.2.1 cortex-certifai-engine-1.3.16 cuid-0.3 llvmlite-0.39.1 numba-0.56.4 pyasn1-0.4.8 rsa-4.9 shap-0.41.0 slicer-0.0.7 tqdm-4.64.1\n"
     ]
    }
   ],
   "source": [
    "!find $certifai_toolkit_path/packages/all       -type f ! -name \"*console-*\" ! -name \"*client-*\" | xargs -I % sh -c 'pip install % ' ;\n",
    "!find $certifai_toolkit_path/packages/python3.8 -type f   -name \"*engine-*\"                      | xargs -I % sh -c 'pip install % ' ;\n",
    "\n",
    "# Note: If using different Python versions activate the relevant conda env and kernel and use below steps to install packages\n",
    "# %cd /path to toolkit\n",
    "# %pip install packages/all/*\n",
    "# %pip install packages/python<#version, e.g 3.7/3.8>/*"
   ]
  },
  {
   "cell_type": "code",
   "execution_count": 5,
   "id": "1cf62edc",
   "metadata": {
    "execution": {
     "iopub.execute_input": "2023-01-25T21:15:07.703428Z",
     "iopub.status.busy": "2023-01-25T21:15:07.702859Z",
     "iopub.status.idle": "2023-01-25T21:15:07.713120Z",
     "shell.execute_reply": "2023-01-25T21:15:07.712514Z"
    }
   },
   "outputs": [
    {
     "data": {
      "text/plain": [
       "'1.3.16'"
      ]
     },
     "execution_count": 5,
     "metadata": {},
     "output_type": "execute_result"
    }
   ],
   "source": [
    "# make sure certifai package was installed correctly\n",
    "from certifai.scanner.version import get_version\n",
    "get_version()"
   ]
  }
 ],
 "metadata": {
  "kernelspec": {
   "display_name": "Python 3 (ipykernel)",
   "language": "python",
   "name": "python3"
  },
  "language_info": {
   "codemirror_mode": {
    "name": "ipython",
    "version": 3
   },
   "file_extension": ".py",
   "mimetype": "text/x-python",
   "name": "python",
   "nbconvert_exporter": "python",
   "pygments_lexer": "ipython3",
   "version": "3.8.15"
  }
 },
 "nbformat": 4,
 "nbformat_minor": 5
}
