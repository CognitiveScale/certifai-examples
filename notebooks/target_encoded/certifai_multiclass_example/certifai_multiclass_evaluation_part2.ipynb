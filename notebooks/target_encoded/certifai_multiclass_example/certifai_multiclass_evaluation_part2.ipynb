{
 "cells": [
  {
   "cell_type": "markdown",
   "metadata": {},
   "source": [
    "Copyright (c) 2020. Cognitive Scale Inc. All rights reserved.\n",
    "Licensed under CognitiveScale Example Code [License](https://github.com/CognitiveScale/cortex-certifai-examples/blob/7998b8a481fccd467463deb1fc46d19622079b0e/LICENSE.md)\n"
   ]
  },
  {
   "cell_type": "markdown",
   "metadata": {},
   "source": [
    "## Building a Cortex Certifai scan programatically\n",
    "\n",
    "In this notebook we'll build up a scan definition from first principles, against a local model trained within the notebook. We will then run that scan and save its results. \n",
    "\n",
    "- Load the dataset and model from disk\n",
    "- Create scan definition using Certifai Builder Api\n",
    "- Refer to the [Cortex Certifai documentation](https://cognitivescale.github.io/cortex-certifai/docs/about) for detailed information about Cortex Certifai.\n",
    "- Refer to [Cortex Certifai Examples Github](https://github.com/CognitiveScale/cortex-certifai-examples) for more self start tutorials\n",
    "\n",
    "*Please Note*: this notebook assumes: \n",
    "- trained model and dataset is available within the environment\n",
    "- Cortex Certifai toolkit and model dependencies are installed\n"
   ]
  },
  {
   "cell_type": "code",
   "execution_count": 1,
   "metadata": {},
   "outputs": [],
   "source": [
    "import pandas as pd\n",
    "import matplotlib.pyplot as plt\n",
    "from IPython.display import display\n",
    "import numpy as np\n",
    "from certifai.scanner.builder import (CertifaiScanBuilder, CertifaiPredictorWrapper, CertifaiModel, CertifaiModelMetric,\n",
    "                                      CertifaiDataset, CertifaiGroupingFeature, CertifaiDatasetSource,\n",
    "                                      CertifaiPredictionTask, CertifaiTaskOutcomes, CertifaiOutcomeValue, CertifaiModelMetric,\n",
    "                                      CertifaiFeatureDataType,CertifaiFeatureSchema, CertifaiDataSchema,CertifaiFeatureRestriction)\n",
    "from certifai.scanner.report_utils import scores, construct_scores_dataframe\n",
    "from certifai.common.utils.encoding import CatEncoder\n",
    "import joblib"
   ]
  },
  {
   "cell_type": "code",
   "execution_count": 2,
   "metadata": {},
   "outputs": [
    {
     "name": "stdout",
     "output_type": "stream",
     "text": [
      "sklearn version is 0.23.2\n",
      "numpy version is 1.19.1 \n",
      "Certifai version: 1.3.4\n",
      "Scanner build: 1.3.4-126-g06d3fae5\n",
      "Console build: 1.3.4-188-g1e18d8e\n"
     ]
    }
   ],
   "source": [
    "# check required packages and their version\n",
    "import sklearn as scikit\n",
    "print(f'sklearn version is {scikit.__version__}')\n",
    "print(f'numpy version is {np.__version__} ')\n",
    "!certifai --version"
   ]
  },
  {
   "cell_type": "code",
   "execution_count": 3,
   "metadata": {},
   "outputs": [],
   "source": [
    "seed = 42\n",
    "np.random.seed(seed)"
   ]
  },
  {
   "cell_type": "markdown",
   "metadata": {},
   "source": [
    "\n",
    "### Load pre-trained model from disk along with encoder (if present)\n",
    "\n",
    "- replace model_path variable below to point to stored model binary on disk\n"
   ]
  },
  {
   "cell_type": "code",
   "execution_count": 4,
   "metadata": {},
   "outputs": [
    {
     "name": "stdout",
     "output_type": "stream",
     "text": [
      "loading models/german_credit_multiclass.joblib\n",
      "Pipeline(steps=[('full_pipeline',\n",
      "                 Pipeline(steps=[('scaler', StandardScaler())])),\n",
      "                ('model',\n",
      "                 GridSearchCV(cv=5, estimator=LogisticRegression(),\n",
      "                              param_grid={'C': (0.5, 1.0, 2.0),\n",
      "                                          'max_iter': [1000],\n",
      "                                          'solver': ['lbfgs']}))])\n"
     ]
    }
   ],
   "source": [
    "# load model \n",
    "model_path = 'models/german_credit_multiclass.joblib'\n",
    "print(f'loading {model_path}')\n",
    "try:\n",
    "    model = joblib.load(model_path)\n",
    "except FileNotFoundError as e:\n",
    "    print(f'model `{model_path}` not found. Looks like model has not been trained or file location is wrong')\n",
    "    raise Exception(str(e))\n",
    "print(model)"
   ]
  },
  {
   "cell_type": "code",
   "execution_count": 5,
   "metadata": {},
   "outputs": [],
   "source": [
    "base_path = '../..'\n",
    "all_data_file = f\"{base_path}/datasets/german_credit_eval_multiclass_encoded.csv\"\n",
    "\n",
    "df = pd.read_csv(all_data_file)\n",
    "\n",
    "one_hot_encoded_cat_cols = [\n",
    "         'checkingstatus',\n",
    "         'others',\n",
    "         'age',\n",
    "         'job',\n",
    "         'employ',\n",
    "         'property',\n",
    "         'foreign',\n",
    "         'history',\n",
    "         'savings',\n",
    "         'purpose',\n",
    "         'housing'       \n",
    "        ]\n",
    "\n",
    "target_encoded_cat_cols = ['otherplans', 'status', 'telephone']\n",
    "value_encoded_cat_cols =  []\n",
    "label_column = 'outcome'\n"
   ]
  },
  {
   "cell_type": "code",
   "execution_count": 6,
   "metadata": {},
   "outputs": [],
   "source": [
    "# create a mini certifai explanation dataset\n",
    "expln_mini_data_file = f\"{base_path}/datasets/german_credit_eval_multiclass_encoded_expln.csv\"\n",
    "df[:100].to_csv(expln_mini_data_file, index=False)"
   ]
  },
  {
   "cell_type": "markdown",
   "metadata": {},
   "source": [
    "###  target_encoded string categorical to floating point encoding"
   ]
  },
  {
   "cell_type": "markdown",
   "metadata": {},
   "source": [
    "### Load Dataset and create one-hot feature-value mappings dict\n",
    "\n",
    "- our dataset has one-hot feature values encoded as dataset columns along with target_encoded categoricals\n",
    "- these one-hot encoded features present as column have column names delimited using `_` e.g. `age_<= 25 years`  `age_> 25 years` etc.\n",
    "- we create one hot value mappings for each  one-hot encoded feature below\n",
    "(e.g. `feature`: {`column_name_correponding_to_feature`: `features_value_in_column_for_given_feature`} )\n",
    "    ```\n",
    "    'age': {'age_<= 25 years': '<= 25 years', \n",
    "    'age_> 25 years': '> 25 years'}\n",
    "   ```\n",
    "- `one_hot_value_mappings` created above will be used later used to create `CertifaiDatasetSchema` \n",
    "> **Please Note**: this is only needed in-case dataset already has one-hot encoded feature as columns. Also if you already have the persisted mappings with same schema you can use that as well"
   ]
  },
  {
   "cell_type": "code",
   "execution_count": 7,
   "metadata": {},
   "outputs": [],
   "source": [
    "from collections import defaultdict\n",
    "mappings = defaultdict(list)\n",
    "for col in df.columns.to_list():\n",
    "    col_list = []\n",
    "    feature_name,feature_value = col.split('_')[0], col.split('_')[1:]\n",
    "    if feature_name in one_hot_encoded_cat_cols:\n",
    "        if feature_value:\n",
    "            mappings[feature_name].append('_'.join(feature_value))\n",
    "\n",
    "# create a mapping from {feature -> {1-hot_column_name_in_csv: feature_value }} using the feature `mapping` list\n",
    "\n",
    "\"\"\"\n",
    "workclass:\n",
    "     workclass_Local-gov -> Local-gov\n",
    "     workclass_Self-emp-inc -> Self-emp-inc\n",
    "\"\"\"\n",
    "one_hot_value_mappings = {}\n",
    "for k,v in mappings.items():\n",
    "    one_hot_value_mappings[k] = { f'{k}_{cols}':cols  for cols in v} "
   ]
  },
  {
   "cell_type": "markdown",
   "metadata": {},
   "source": [
    "### Construct target encoder mappings \n",
    "- to generate target_mappings using `category_encoders.target_encoder.TargetEncoder` (from category-encoders package) `te` object we can use the below snippet\n",
    "```\n",
    "target_mappings = {}\n",
    "for feature in target_encode_cat_cols:\n",
    "    feature_mappings = {}\n",
    "    for ordinal_mapping in te.ordinal_encoder.category_mapping:\n",
    "        if ordinal_mapping['col'] == feature:\n",
    "            mapping = ordinal_mapping['mapping']\n",
    "            for idx, ordinal in enumerate(mapping):\n",
    "                label = mapping.index[idx]\n",
    "                if not (isinstance(label, float) and np.isnan(label)):\n",
    "                    feature_mappings[label] = te.mapping[feature][ordinal]\n",
    "            break\n",
    "    target_mappings[feature] = feature_mappings\n",
    "```    "
   ]
  },
  {
   "cell_type": "code",
   "execution_count": 8,
   "metadata": {},
   "outputs": [
    {
     "name": "stdout",
     "output_type": "stream",
     "text": [
      "dict_keys(['one_hot_encoded_mappings', 'target_encoded_mappings'])\n",
      "---------\n",
      "target encoded value mappings ->\n",
      "{'status': {'male : single': 1.594890510948905, 'female : divorced/separated/married': 1.706451612903226, 'male : married/widowed': 1.608695652173913, 'male : divorced/separated': 1.72}, 'telephone': {'phone - none': 1.7080536912751678, 'phone - yes, registered under the customers name': 1.5321782178217822}, 'otherplans': {'none': 1.628992628992629, 'stores': 1.6808510638297873, 'bank': 1.669064748201439}}\n"
     ]
    }
   ],
   "source": [
    "# above cell demonstrates how to create the mappings\n",
    "# we use the persisted value mappings created using same code from above\n",
    "# we also get the target_encoded mappings\n",
    "import json\n",
    "with open('../dataset_generation/cat_mappings.json', 'r') as fl:\n",
    "    mappings = json.load(fl)   \n",
    "print(mappings.keys())\n",
    "one_hot_value_mappings = mappings.get('one_hot_encoded_mappings')\n",
    "target_mappings = mappings.get('target_encoded_mappings')\n",
    "print(f'---------\\ntarget encoded value mappings ->\\n{target_mappings}')\n"
   ]
  },
  {
   "cell_type": "markdown",
   "metadata": {},
   "source": [
    "## Certifai Evaluation Setup"
   ]
  },
  {
   "cell_type": "markdown",
   "metadata": {},
   "source": [
    "### create Certifai model proxy\n",
    "\n",
    "- [CertifaiPredictorWrapper](https://cognitivescale.github.io/cortex-certifai/certifai-api-ref-1.3.2/certifai.scanner.builder.html?highlight=certifaipredictorwrapper#certifai.scanner.builder.CertifaiPredictorWrapper) api is used to wrap model objects with encoder/decoder callables\n",
    "- if model has encoding, decoding capabilities built into it, `encoder`/`decoder` kwargs need not be provided"
   ]
  },
  {
   "cell_type": "code",
   "execution_count": 9,
   "metadata": {},
   "outputs": [],
   "source": [
    "model_proxy = CertifaiPredictorWrapper(model)"
   ]
  },
  {
   "cell_type": "markdown",
   "metadata": {},
   "source": [
    "### test wrapped model_proxy predicts"
   ]
  },
  {
   "cell_type": "code",
   "execution_count": 10,
   "metadata": {},
   "outputs": [],
   "source": [
    "# # test to assert wrapped certifai model predicts == raw model predicts\n",
    "assert (model_proxy.model.predict(df.drop(label_column,axis=1)[:10].values) == \n",
    "        model.predict(df.drop(label_column, axis=1)[:10].values)).all"
   ]
  },
  {
   "cell_type": "markdown",
   "metadata": {},
   "source": [
    "\n",
    "### define  Certifai task type\n",
    "\n",
    "- CertifaiTaskOutcomes : Cortex Certifai supports classification as well as regression models. Here we have an example of multiclass classificaton (e.g. Determine whether a loan should be granted)\n",
    "- CertifaiOutcomeValue : define the outcomes possible from the model predictions. here we have a multiclass classification model that predicts whether loan will be \n",
    "- `granted`,\n",
    "- `denied` or sent for\n",
    "- `further inspection`\n",
    "\n",
    "\n",
    "Note: Please refer to Certifai Api [docs](https://cognitivescale.github.io/cortex-certifai/certifai-api-ref/certifai.scanner.builder.html) for more details"
   ]
  },
  {
   "cell_type": "code",
   "execution_count": 11,
   "metadata": {},
   "outputs": [],
   "source": [
    "# Create Certifai evaluation task and add that to scan object\n",
    "# First define the possible prediction outcomes\n",
    "\n",
    "task = CertifaiPredictionTask(CertifaiTaskOutcomes.classification(\n",
    "    [\n",
    "        CertifaiOutcomeValue(1, name='Loan granted', favorable=True),\n",
    "        CertifaiOutcomeValue(2, name='Loan denied', favorable=False),\n",
    "        CertifaiOutcomeValue(3, name='further inspection', favorable=False)\n",
    "    ],\n",
    "    favorable_outcome_group_name = 'Loan Granted',\n",
    "    unfavorable_outcome_group_name = 'Loan Denied or subject to futher inspection'\n",
    "),\n",
    "                     \n",
    "    prediction_description='Determine whether a loan should be granted')\n",
    "\n",
    "scan = CertifaiScanBuilder.create('german_credit_multiclass',\n",
    "                                  prediction_task=task)"
   ]
  },
  {
   "cell_type": "markdown",
   "metadata": {},
   "source": [
    "### add the model to be evaluated from above"
   ]
  },
  {
   "cell_type": "code",
   "execution_count": 12,
   "metadata": {},
   "outputs": [],
   "source": [
    "first_model = CertifaiModel('german_credit_multiclass', local_predictor=model_proxy)\n",
    "scan.add_model(first_model)"
   ]
  },
  {
   "cell_type": "markdown",
   "metadata": {},
   "source": [
    "### create `CertifaiFeatureSchema` using categorical mappings dict from above\n",
    "\n",
    "- for one-hot encoded features we use `one_hot_value_mappings` from above to let Certifai know the different features values along with data types for that particular feature\n",
    "- for target encoded and value encoded features we let Certifai know their unique sets of values\n",
    "- define [CertifaiFeatureDataType](https://cognitivescale.github.io/cortex-certifai/certifai-api-ref-1.3.2/certifai.scanner.builder.html?highlight=certifaifeaturedatatype#certifai.scanner.builder.CertifaiFeatureDataType) for categorical features\n",
    "- define [CertifaiFeatureSchema](https://cognitivescale.github.io/cortex-certifai/certifai-api-ref-1.3.2/certifai.scanner.builder.html?highlight=certifaifeatureschema#certifai.scanner.builder.CertifaiFeatureSchema) for the datatype created above\n",
    "- add the schema to [CertifaiDataSchema](https://cognitivescale.github.io/cortex-certifai/certifai-api-ref-1.3.2/certifai.scanner.builder.html?highlight=certifaidataschema#certifai.scanner.builder.CertifaiDataSchema)"
   ]
  },
  {
   "cell_type": "code",
   "execution_count": 13,
   "metadata": {},
   "outputs": [],
   "source": [
    "cat_features = []\n",
    "for feature in one_hot_encoded_cat_cols + target_encoded_cat_cols + value_encoded_cat_cols:\n",
    "    if feature in one_hot_value_mappings:\n",
    "        data_type = CertifaiFeatureDataType.categorical(value_columns=one_hot_value_mappings[feature].items())\n",
    "        feature_schema = CertifaiFeatureSchema(name=feature,\n",
    "                                               data_type=data_type)\n",
    "        cat_features.append(feature_schema)\n",
    "\n",
    "    elif feature in target_encoded_cat_cols:\n",
    "        data_type = CertifaiFeatureDataType.categorical(values=list(target_mappings[feature].keys()),\n",
    "                                                        target_encodings=list(target_mappings[feature].values()))\n",
    "        feature_schema = CertifaiFeatureSchema(name=feature,\n",
    "                                               data_type=data_type)\n",
    "        cat_features.append(feature_schema)\n",
    "\n",
    "    elif feature in df.columns:\n",
    "        data_type = CertifaiFeatureDataType.categorical(values=sorted(df[feature].unique().tolist()))\n",
    "        feature_schema = CertifaiFeatureSchema(name=feature,\n",
    "                                               data_type=data_type)\n",
    "        cat_features.append(feature_schema)\n",
    "        \n",
    "# certifai dataset schema combining numerical categorical, 1-hot and target encoded features\n",
    "schema = CertifaiDataSchema(features=cat_features)\n",
    "scan.dataset_schema = schema   "
   ]
  },
  {
   "cell_type": "markdown",
   "metadata": {},
   "source": [
    "### Add Certifai Evaluation "
   ]
  },
  {
   "cell_type": "code",
   "execution_count": 14,
   "metadata": {},
   "outputs": [],
   "source": [
    "# certifai evaluation setup\n",
    "\n",
    "# Add the explanation dataset. Here we run explanations for first 100 rows from the dataset\n",
    "\n",
    "expn_dataset = CertifaiDataset('explanation',\n",
    "                               CertifaiDatasetSource.csv(expln_mini_data_file))\n",
    "scan.add_dataset(expn_dataset)\n",
    "scan.explanation_dataset_id = 'explanation'\n",
    "\n",
    "\n",
    "# add the evaluation for performance, explainability, robustness, fairness\n",
    "scan.add_evaluation_type('explanation')\n",
    "scan.add_evaluation_type('explainability')\n",
    "scan.add_evaluation_type('robustness')\n",
    "scan.add_evaluation_type('fairness')\n",
    "scan.add_metric(CertifaiModelMetric('accuracy', certifai_metric='accuracy'))\n",
    "scan.atx_performance_metric = 'accuracy'\n",
    "scan.add_evaluation_type('performance')\n",
    "\n",
    "\n",
    "# add fairness features\n",
    "\n",
    "# set fairness features\n",
    "fairness_fields = ['status', 'age']\n",
    "\n",
    "for feature in fairness_fields:\n",
    "    scan.add_fairness_grouping_feature(CertifaiGroupingFeature(feature))\n",
    "\n",
    "# add the evaluation dataset from dataframe loaded at the start of the notebook        \n",
    "eval_dataset = CertifaiDataset('evaluation',\n",
    "                           CertifaiDatasetSource.csv(all_data_file))\n",
    "scan.add_dataset(eval_dataset)\n",
    "scan.evaluation_dataset_id = 'evaluation'\n",
    "scan.test_dataset_id = 'evaluation'"
   ]
  },
  {
   "cell_type": "markdown",
   "metadata": {},
   "source": [
    "### specify target column if present in dataset"
   ]
  },
  {
   "cell_type": "code",
   "execution_count": 15,
   "metadata": {},
   "outputs": [],
   "source": [
    "# Because the dataset contains a ground truth outcome column which the model does not\n",
    "# expect to receive as input we need to state that in the dataset schema (since it cannot\n",
    "# be inferred from the CSV)\n",
    "scan.dataset_schema.outcome_feature_name = label_column"
   ]
  },
  {
   "cell_type": "code",
   "execution_count": 16,
   "metadata": {
    "scrolled": true
   },
   "outputs": [],
   "source": [
    "# generate and save the scan definition\n",
    "generated_scan_def = scan.extract_yaml()\n",
    "local_scan_definition_file = 'target_encoded_gcredit_multiclass_scan_def.yaml'\n",
    "\n",
    "with open(local_scan_definition_file, 'w') as f:\n",
    "    scan.save(f)"
   ]
  },
  {
   "cell_type": "markdown",
   "metadata": {},
   "source": [
    "### Initiate scan"
   ]
  },
  {
   "cell_type": "code",
   "execution_count": 17,
   "metadata": {
    "scrolled": true
   },
   "outputs": [
    {
     "name": "stdout",
     "output_type": "stream",
     "text": [
      "Starting scan with model_use_case_id: 'german_credit_multiclass' and scan_id: 'a27a80a46737'\n",
      "[--------------------] 2020-08-28 16:14:05.589710 - 0 of 5 reports (0.0% complete) - Running explanation evaluation for model: german_credit_multiclass\n",
      "[####----------------] 2020-08-28 16:14:57.435987 - 1 of 5 reports (20.0% complete) - Running explainability evaluation for model: german_credit_multiclass\n",
      "[########------------] 2020-08-28 16:16:03.607421 - 2 of 5 reports (40.0% complete) - Running robustness evaluation for model: german_credit_multiclass\n"
     ]
    },
    {
     "name": "stderr",
     "output_type": "stream",
     "text": [
      "2020-08-28 16:17:02,326 root   WARNING  Insufficient examples of some fairness classes to guarantee convergence (smallest class size is for 'male : divorced/separated' with 50 samples)\n"
     ]
    },
    {
     "name": "stdout",
     "output_type": "stream",
     "text": [
      "[############--------] 2020-08-28 16:17:02.307743 - 3 of 5 reports (60.0% complete) - Running fairness evaluation for model: german_credit_multiclass\n"
     ]
    },
    {
     "name": "stderr",
     "output_type": "stream",
     "text": [
      "2020-08-28 16:17:56,975 root   WARNING  Examples of protected class ('status', 'male : divorced/separated') exhausted before convergence after 50 samples\n",
      "2020-08-28 16:18:26,294 root   WARNING  Examples of protected class ('status', 'male : married/widowed') exhausted before convergence after 92 samples\n",
      "2020-08-28 16:19:07,918 root   WARNING  Examples of protected class ('age', '<= 25 years') exhausted before convergence after 190 samples\n",
      "2020-08-28 16:19:35,120 root   WARNING  Examples of protected class ('status', 'female : divorced/separated/married') exhausted before convergence after 310 samples\n",
      "2020-08-28 16:19:54,616 root   WARNING  Examples of protected class ('age', '> 25 years') exhausted before convergence after 810 samples\n",
      "2020-08-28 16:19:54,618 root   WARNING  Examples of protected class ('status', 'male : single') exhausted before convergence after 548 samples\n"
     ]
    },
    {
     "name": "stdout",
     "output_type": "stream",
     "text": [
      "[################----] 2020-08-28 16:20:09.856489 - 4 of 5 reports (80.0% complete) - Running performance evaluation for model: german_credit_multiclass\n",
      "[####################] 2020-08-28 16:20:09.872263 - 5 of 5 reports (100.0% complete) - Completed all evaluations\n"
     ]
    }
   ],
   "source": [
    "# start the scan\n",
    "result = scan.run(base_path='.' , write_reports=True)"
   ]
  },
  {
   "cell_type": "markdown",
   "metadata": {},
   "source": [
    "## Visualize Results"
   ]
  },
  {
   "cell_type": "markdown",
   "metadata": {},
   "source": [
    "### fairness"
   ]
  },
  {
   "cell_type": "code",
   "execution_count": 18,
   "metadata": {},
   "outputs": [
    {
     "data": {
      "text/html": [
       "<div>\n",
       "<style scoped>\n",
       "    .dataframe tbody tr th:only-of-type {\n",
       "        vertical-align: middle;\n",
       "    }\n",
       "\n",
       "    .dataframe tbody tr th {\n",
       "        vertical-align: top;\n",
       "    }\n",
       "\n",
       "    .dataframe thead th {\n",
       "        text-align: right;\n",
       "    }\n",
       "</style>\n",
       "<table border=\"1\" class=\"dataframe\">\n",
       "  <thead>\n",
       "    <tr style=\"text-align: right;\">\n",
       "      <th></th>\n",
       "      <th>context</th>\n",
       "      <th>type</th>\n",
       "      <th>overall fairness</th>\n",
       "      <th>overall fairness lower bound</th>\n",
       "      <th>overall fairness upper bound</th>\n",
       "      <th>Feature (age)</th>\n",
       "      <th>Feature (age) lower bound</th>\n",
       "      <th>Feature (age) upper bound</th>\n",
       "      <th>Group details (&lt;= 25 years)</th>\n",
       "      <th>Group details (&lt;= 25 years) lower bound</th>\n",
       "      <th>...</th>\n",
       "      <th>Group details (female : divorced/separated/married) upper bound</th>\n",
       "      <th>Group details (male : divorced/separated)</th>\n",
       "      <th>Group details (male : divorced/separated) lower bound</th>\n",
       "      <th>Group details (male : divorced/separated) upper bound</th>\n",
       "      <th>Group details (male : married/widowed)</th>\n",
       "      <th>Group details (male : married/widowed) lower bound</th>\n",
       "      <th>Group details (male : married/widowed) upper bound</th>\n",
       "      <th>Group details (male : single)</th>\n",
       "      <th>Group details (male : single) lower bound</th>\n",
       "      <th>Group details (male : single) upper bound</th>\n",
       "    </tr>\n",
       "  </thead>\n",
       "  <tbody>\n",
       "    <tr>\n",
       "      <th>german_credit_multiclass (burden)</th>\n",
       "      <td>german_credit_multiclass</td>\n",
       "      <td>burden</td>\n",
       "      <td>70.728802</td>\n",
       "      <td>64.679422</td>\n",
       "      <td>76.547412</td>\n",
       "      <td>70.890122</td>\n",
       "      <td>64.69536</td>\n",
       "      <td>76.982085</td>\n",
       "      <td>0.110096</td>\n",
       "      <td>0.099204</td>\n",
       "      <td>...</td>\n",
       "      <td>0.099684</td>\n",
       "      <td>0.098819</td>\n",
       "      <td>0.07626</td>\n",
       "      <td>0.121236</td>\n",
       "      <td>0.050922</td>\n",
       "      <td>0.035967</td>\n",
       "      <td>0.066038</td>\n",
       "      <td>0.058816</td>\n",
       "      <td>0.052502</td>\n",
       "      <td>0.065192</td>\n",
       "    </tr>\n",
       "  </tbody>\n",
       "</table>\n",
       "<p>1 rows × 29 columns</p>\n",
       "</div>"
      ],
      "text/plain": [
       "                                                    context    type  \\\n",
       "german_credit_multiclass (burden)  german_credit_multiclass  burden   \n",
       "\n",
       "                                   overall fairness  \\\n",
       "german_credit_multiclass (burden)         70.728802   \n",
       "\n",
       "                                   overall fairness lower bound  \\\n",
       "german_credit_multiclass (burden)                     64.679422   \n",
       "\n",
       "                                   overall fairness upper bound  \\\n",
       "german_credit_multiclass (burden)                     76.547412   \n",
       "\n",
       "                                   Feature (age)  Feature (age) lower bound  \\\n",
       "german_credit_multiclass (burden)      70.890122                   64.69536   \n",
       "\n",
       "                                   Feature (age) upper bound  \\\n",
       "german_credit_multiclass (burden)                  76.982085   \n",
       "\n",
       "                                   Group details (<= 25 years)  \\\n",
       "german_credit_multiclass (burden)                     0.110096   \n",
       "\n",
       "                                   Group details (<= 25 years) lower bound  \\\n",
       "german_credit_multiclass (burden)                                 0.099204   \n",
       "\n",
       "                                   ...  \\\n",
       "german_credit_multiclass (burden)  ...   \n",
       "\n",
       "                                   Group details (female : divorced/separated/married) upper bound  \\\n",
       "german_credit_multiclass (burden)                                           0.099684                 \n",
       "\n",
       "                                   Group details (male : divorced/separated)  \\\n",
       "german_credit_multiclass (burden)                                   0.098819   \n",
       "\n",
       "                                   Group details (male : divorced/separated) lower bound  \\\n",
       "german_credit_multiclass (burden)                                            0.07626       \n",
       "\n",
       "                                   Group details (male : divorced/separated) upper bound  \\\n",
       "german_credit_multiclass (burden)                                           0.121236       \n",
       "\n",
       "                                   Group details (male : married/widowed)  \\\n",
       "german_credit_multiclass (burden)                                0.050922   \n",
       "\n",
       "                                   Group details (male : married/widowed) lower bound  \\\n",
       "german_credit_multiclass (burden)                                           0.035967    \n",
       "\n",
       "                                   Group details (male : married/widowed) upper bound  \\\n",
       "german_credit_multiclass (burden)                                           0.066038    \n",
       "\n",
       "                                   Group details (male : single)  \\\n",
       "german_credit_multiclass (burden)                       0.058816   \n",
       "\n",
       "                                   Group details (male : single) lower bound  \\\n",
       "german_credit_multiclass (burden)                                   0.052502   \n",
       "\n",
       "                                   Group details (male : single) upper bound  \n",
       "german_credit_multiclass (burden)                                   0.065192  \n",
       "\n",
       "[1 rows x 29 columns]"
      ]
     },
     "metadata": {},
     "output_type": "display_data"
    }
   ],
   "source": [
    "df_fairness = construct_scores_dataframe(scores('fairness', result), include_confidence=True)\n",
    "display(df_fairness)"
   ]
  },
  {
   "cell_type": "markdown",
   "metadata": {},
   "source": [
    "###  (fairness) status burdens by model"
   ]
  },
  {
   "cell_type": "code",
   "execution_count": 19,
   "metadata": {},
   "outputs": [
    {
     "data": {
      "text/html": [
       "<div>\n",
       "<style scoped>\n",
       "    .dataframe tbody tr th:only-of-type {\n",
       "        vertical-align: middle;\n",
       "    }\n",
       "\n",
       "    .dataframe tbody tr th {\n",
       "        vertical-align: top;\n",
       "    }\n",
       "\n",
       "    .dataframe thead th {\n",
       "        text-align: right;\n",
       "    }\n",
       "</style>\n",
       "<table border=\"1\" class=\"dataframe\">\n",
       "  <thead>\n",
       "    <tr style=\"text-align: right;\">\n",
       "      <th></th>\n",
       "      <th>context</th>\n",
       "      <th>type</th>\n",
       "      <th>overall fairness</th>\n",
       "      <th>overall fairness lower bound</th>\n",
       "      <th>overall fairness upper bound</th>\n",
       "      <th>Feature (age)</th>\n",
       "      <th>Feature (age) lower bound</th>\n",
       "      <th>Feature (age) upper bound</th>\n",
       "      <th>Group details (&lt;= 25 years)</th>\n",
       "      <th>Group details (&lt;= 25 years) lower bound</th>\n",
       "      <th>...</th>\n",
       "      <th>Group details (female : divorced/separated/married) upper bound</th>\n",
       "      <th>Group details (male : divorced/separated)</th>\n",
       "      <th>Group details (male : divorced/separated) lower bound</th>\n",
       "      <th>Group details (male : divorced/separated) upper bound</th>\n",
       "      <th>Group details (male : married/widowed)</th>\n",
       "      <th>Group details (male : married/widowed) lower bound</th>\n",
       "      <th>Group details (male : married/widowed) upper bound</th>\n",
       "      <th>Group details (male : single)</th>\n",
       "      <th>Group details (male : single) lower bound</th>\n",
       "      <th>Group details (male : single) upper bound</th>\n",
       "    </tr>\n",
       "  </thead>\n",
       "  <tbody>\n",
       "    <tr>\n",
       "      <th>german_credit_multiclass (burden)</th>\n",
       "      <td>german_credit_multiclass</td>\n",
       "      <td>burden</td>\n",
       "      <td>70.728802</td>\n",
       "      <td>64.679422</td>\n",
       "      <td>76.547412</td>\n",
       "      <td>70.890122</td>\n",
       "      <td>64.69536</td>\n",
       "      <td>76.982085</td>\n",
       "      <td>0.110096</td>\n",
       "      <td>0.099204</td>\n",
       "      <td>...</td>\n",
       "      <td>0.099684</td>\n",
       "      <td>0.098819</td>\n",
       "      <td>0.07626</td>\n",
       "      <td>0.121236</td>\n",
       "      <td>0.050922</td>\n",
       "      <td>0.035967</td>\n",
       "      <td>0.066038</td>\n",
       "      <td>0.058816</td>\n",
       "      <td>0.052502</td>\n",
       "      <td>0.065192</td>\n",
       "    </tr>\n",
       "  </tbody>\n",
       "</table>\n",
       "<p>1 rows × 29 columns</p>\n",
       "</div>"
      ],
      "text/plain": [
       "                                                    context    type  \\\n",
       "german_credit_multiclass (burden)  german_credit_multiclass  burden   \n",
       "\n",
       "                                   overall fairness  \\\n",
       "german_credit_multiclass (burden)         70.728802   \n",
       "\n",
       "                                   overall fairness lower bound  \\\n",
       "german_credit_multiclass (burden)                     64.679422   \n",
       "\n",
       "                                   overall fairness upper bound  \\\n",
       "german_credit_multiclass (burden)                     76.547412   \n",
       "\n",
       "                                   Feature (age)  Feature (age) lower bound  \\\n",
       "german_credit_multiclass (burden)      70.890122                   64.69536   \n",
       "\n",
       "                                   Feature (age) upper bound  \\\n",
       "german_credit_multiclass (burden)                  76.982085   \n",
       "\n",
       "                                   Group details (<= 25 years)  \\\n",
       "german_credit_multiclass (burden)                     0.110096   \n",
       "\n",
       "                                   Group details (<= 25 years) lower bound  \\\n",
       "german_credit_multiclass (burden)                                 0.099204   \n",
       "\n",
       "                                   ...  \\\n",
       "german_credit_multiclass (burden)  ...   \n",
       "\n",
       "                                   Group details (female : divorced/separated/married) upper bound  \\\n",
       "german_credit_multiclass (burden)                                           0.099684                 \n",
       "\n",
       "                                   Group details (male : divorced/separated)  \\\n",
       "german_credit_multiclass (burden)                                   0.098819   \n",
       "\n",
       "                                   Group details (male : divorced/separated) lower bound  \\\n",
       "german_credit_multiclass (burden)                                            0.07626       \n",
       "\n",
       "                                   Group details (male : divorced/separated) upper bound  \\\n",
       "german_credit_multiclass (burden)                                           0.121236       \n",
       "\n",
       "                                   Group details (male : married/widowed)  \\\n",
       "german_credit_multiclass (burden)                                0.050922   \n",
       "\n",
       "                                   Group details (male : married/widowed) lower bound  \\\n",
       "german_credit_multiclass (burden)                                           0.035967    \n",
       "\n",
       "                                   Group details (male : married/widowed) upper bound  \\\n",
       "german_credit_multiclass (burden)                                           0.066038    \n",
       "\n",
       "                                   Group details (male : single)  \\\n",
       "german_credit_multiclass (burden)                       0.058816   \n",
       "\n",
       "                                   Group details (male : single) lower bound  \\\n",
       "german_credit_multiclass (burden)                                   0.052502   \n",
       "\n",
       "                                   Group details (male : single) upper bound  \n",
       "german_credit_multiclass (burden)                                   0.065192  \n",
       "\n",
       "[1 rows x 29 columns]"
      ]
     },
     "metadata": {},
     "output_type": "display_data"
    },
    {
     "data": {
      "image/png": "[encoded data removed]",
      "text/plain": [
       "<Figure size 864x288 with 1 Axes>"
      ]
     },
     "metadata": {
      "needs_background": "light"
     },
     "output_type": "display_data"
    }
   ],
   "source": [
    "%matplotlib inline\n",
    "display(df_fairness)\n",
    "\n",
    "# since status is a target encoded variable;\n",
    "# for plotting values in non-encoded space we make use of the `target_mappings` dict\n",
    "\n",
    "groups  = list(target_mappings['status'].keys())\n",
    "\n",
    "feature_scores = df_fairness[[f\"Group details ({g})\" for g in groups]]\n",
    "feature_lower_bounds = df_fairness[[f + ' lower bound' for f in feature_scores]]\n",
    "feature_upper_bounds = df_fairness[[f + ' upper bound' for f in feature_scores]]\n",
    "\n",
    "fig, ax = plt.subplots(figsize=[12,4])\n",
    "ax.set_title('status burdens by model', fontsize=20)\n",
    "colors = ['tab:blue', 'tab:orange', 'tab:green', 'tab:red', 'tab:pink']\n",
    "width = 0.4\n",
    "\n",
    "ax.set_xticks(np.arange(len(groups))+width)\n",
    "ax.set_xticklabels(groups)\n",
    "\n",
    "for idx in range(len(df_fairness)):\n",
    "    central_values = list(feature_scores.iloc[idx])\n",
    "    lower_bounds = list(feature_lower_bounds.iloc[idx])\n",
    "    upper_bounds = list(feature_upper_bounds.iloc[idx])\n",
    "    lower_errors = [central_values[i] - lower_bounds[i] for i in range(len(central_values))]\n",
    "    upper_errors = [upper_bounds[i] - central_values[i] for i in range(len(central_values))]\n",
    "\n",
    "    ax.bar([width/2+idx*width+f_idx for f_idx in range(len(groups))],\n",
    "            central_values,\n",
    "            width,\n",
    "            yerr=[lower_errors, upper_errors],\n",
    "            color=colors[idx],\n",
    "            label=df_fairness.index[idx],\n",
    "            capsize=10)\n",
    "\n",
    "fig.legend(fontsize=14, bbox_to_anchor=(1.1,.6))\n",
    "fig.tight_layout()\n",
    "fig.subplots_adjust(right=0.8) \n",
    "plt.show()"
   ]
  },
  {
   "cell_type": "markdown",
   "metadata": {},
   "source": [
    "### (fairness) age burdens by model"
   ]
  },
  {
   "cell_type": "code",
   "execution_count": 20,
   "metadata": {
    "scrolled": false
   },
   "outputs": [
    {
     "data": {
      "text/html": [
       "<div>\n",
       "<style scoped>\n",
       "    .dataframe tbody tr th:only-of-type {\n",
       "        vertical-align: middle;\n",
       "    }\n",
       "\n",
       "    .dataframe tbody tr th {\n",
       "        vertical-align: top;\n",
       "    }\n",
       "\n",
       "    .dataframe thead th {\n",
       "        text-align: right;\n",
       "    }\n",
       "</style>\n",
       "<table border=\"1\" class=\"dataframe\">\n",
       "  <thead>\n",
       "    <tr style=\"text-align: right;\">\n",
       "      <th></th>\n",
       "      <th>context</th>\n",
       "      <th>type</th>\n",
       "      <th>overall fairness</th>\n",
       "      <th>overall fairness lower bound</th>\n",
       "      <th>overall fairness upper bound</th>\n",
       "      <th>Feature (age)</th>\n",
       "      <th>Feature (age) lower bound</th>\n",
       "      <th>Feature (age) upper bound</th>\n",
       "      <th>Group details (&lt;= 25 years)</th>\n",
       "      <th>Group details (&lt;= 25 years) lower bound</th>\n",
       "      <th>...</th>\n",
       "      <th>Group details (female : divorced/separated/married) upper bound</th>\n",
       "      <th>Group details (male : divorced/separated)</th>\n",
       "      <th>Group details (male : divorced/separated) lower bound</th>\n",
       "      <th>Group details (male : divorced/separated) upper bound</th>\n",
       "      <th>Group details (male : married/widowed)</th>\n",
       "      <th>Group details (male : married/widowed) lower bound</th>\n",
       "      <th>Group details (male : married/widowed) upper bound</th>\n",
       "      <th>Group details (male : single)</th>\n",
       "      <th>Group details (male : single) lower bound</th>\n",
       "      <th>Group details (male : single) upper bound</th>\n",
       "    </tr>\n",
       "  </thead>\n",
       "  <tbody>\n",
       "    <tr>\n",
       "      <th>german_credit_multiclass (burden)</th>\n",
       "      <td>german_credit_multiclass</td>\n",
       "      <td>burden</td>\n",
       "      <td>70.728802</td>\n",
       "      <td>64.679422</td>\n",
       "      <td>76.547412</td>\n",
       "      <td>70.890122</td>\n",
       "      <td>64.69536</td>\n",
       "      <td>76.982085</td>\n",
       "      <td>0.110096</td>\n",
       "      <td>0.099204</td>\n",
       "      <td>...</td>\n",
       "      <td>0.099684</td>\n",
       "      <td>0.098819</td>\n",
       "      <td>0.07626</td>\n",
       "      <td>0.121236</td>\n",
       "      <td>0.050922</td>\n",
       "      <td>0.035967</td>\n",
       "      <td>0.066038</td>\n",
       "      <td>0.058816</td>\n",
       "      <td>0.052502</td>\n",
       "      <td>0.065192</td>\n",
       "    </tr>\n",
       "  </tbody>\n",
       "</table>\n",
       "<p>1 rows × 29 columns</p>\n",
       "</div>"
      ],
      "text/plain": [
       "                                                    context    type  \\\n",
       "german_credit_multiclass (burden)  german_credit_multiclass  burden   \n",
       "\n",
       "                                   overall fairness  \\\n",
       "german_credit_multiclass (burden)         70.728802   \n",
       "\n",
       "                                   overall fairness lower bound  \\\n",
       "german_credit_multiclass (burden)                     64.679422   \n",
       "\n",
       "                                   overall fairness upper bound  \\\n",
       "german_credit_multiclass (burden)                     76.547412   \n",
       "\n",
       "                                   Feature (age)  Feature (age) lower bound  \\\n",
       "german_credit_multiclass (burden)      70.890122                   64.69536   \n",
       "\n",
       "                                   Feature (age) upper bound  \\\n",
       "german_credit_multiclass (burden)                  76.982085   \n",
       "\n",
       "                                   Group details (<= 25 years)  \\\n",
       "german_credit_multiclass (burden)                     0.110096   \n",
       "\n",
       "                                   Group details (<= 25 years) lower bound  \\\n",
       "german_credit_multiclass (burden)                                 0.099204   \n",
       "\n",
       "                                   ...  \\\n",
       "german_credit_multiclass (burden)  ...   \n",
       "\n",
       "                                   Group details (female : divorced/separated/married) upper bound  \\\n",
       "german_credit_multiclass (burden)                                           0.099684                 \n",
       "\n",
       "                                   Group details (male : divorced/separated)  \\\n",
       "german_credit_multiclass (burden)                                   0.098819   \n",
       "\n",
       "                                   Group details (male : divorced/separated) lower bound  \\\n",
       "german_credit_multiclass (burden)                                            0.07626       \n",
       "\n",
       "                                   Group details (male : divorced/separated) upper bound  \\\n",
       "german_credit_multiclass (burden)                                           0.121236       \n",
       "\n",
       "                                   Group details (male : married/widowed)  \\\n",
       "german_credit_multiclass (burden)                                0.050922   \n",
       "\n",
       "                                   Group details (male : married/widowed) lower bound  \\\n",
       "german_credit_multiclass (burden)                                           0.035967    \n",
       "\n",
       "                                   Group details (male : married/widowed) upper bound  \\\n",
       "german_credit_multiclass (burden)                                           0.066038    \n",
       "\n",
       "                                   Group details (male : single)  \\\n",
       "german_credit_multiclass (burden)                       0.058816   \n",
       "\n",
       "                                   Group details (male : single) lower bound  \\\n",
       "german_credit_multiclass (burden)                                   0.052502   \n",
       "\n",
       "                                   Group details (male : single) upper bound  \n",
       "german_credit_multiclass (burden)                                   0.065192  \n",
       "\n",
       "[1 rows x 29 columns]"
      ]
     },
     "metadata": {},
     "output_type": "display_data"
    },
    {
     "data": {
      "image/png": "[encoded data removed]",
      "text/plain": [
       "<Figure size 864x288 with 1 Axes>"
      ]
     },
     "metadata": {
      "needs_background": "light"
     },
     "output_type": "display_data"
    }
   ],
   "source": [
    "%matplotlib inline\n",
    "display(df_fairness)\n",
    "# since age is a one-hot encoded variable;\n",
    "# for plotting values in non-encoded space we make use of the `one_hot_value_mappings` dict\n",
    "\n",
    "groups_disp, groups  = list(one_hot_value_mappings['age'].keys()), list(one_hot_value_mappings['age'].values())\n",
    "\n",
    "feature_scores = df_fairness[[f\"Group details ({g})\" for g in groups]]\n",
    "feature_lower_bounds = df_fairness[[f + ' lower bound' for f in feature_scores]]\n",
    "feature_upper_bounds = df_fairness[[f + ' upper bound' for f in feature_scores]]\n",
    "\n",
    "fig, ax = plt.subplots(figsize=[12,4])\n",
    "ax.set_title('age burdens by model', fontsize=20)\n",
    "colors = ['tab:blue', 'tab:orange', 'tab:green', 'tab:red', 'tab:pink']\n",
    "width = 0.4\n",
    "\n",
    "ax.set_xticks(np.arange(len(groups))+width)\n",
    "ax.set_xticklabels(groups_disp)\n",
    "\n",
    "for idx in range(len(df_fairness)):\n",
    "    central_values = list(feature_scores.iloc[idx])\n",
    "    lower_bounds = list(feature_lower_bounds.iloc[idx])\n",
    "    upper_bounds = list(feature_upper_bounds.iloc[idx])\n",
    "    lower_errors = [central_values[i] - lower_bounds[i] for i in range(len(central_values))]\n",
    "    upper_errors = [upper_bounds[i] - central_values[i] for i in range(len(central_values))]\n",
    "\n",
    "    ax.bar([width/2+idx*width+f_idx for f_idx in range(len(groups))],\n",
    "            central_values,\n",
    "            width,\n",
    "            yerr=[lower_errors, upper_errors],\n",
    "            color=colors[idx],\n",
    "            label=df_fairness.index[idx],\n",
    "            capsize=10)\n",
    "\n",
    "fig.legend(fontsize=14, bbox_to_anchor=(1.1,.6))\n",
    "fig.tight_layout()\n",
    "fig.subplots_adjust(right=0.8) \n",
    "plt.show()"
   ]
  },
  {
   "cell_type": "markdown",
   "metadata": {},
   "source": [
    "### Feature Fairness by model "
   ]
  },
  {
   "cell_type": "code",
   "execution_count": 21,
   "metadata": {},
   "outputs": [
    {
     "data": {
      "text/html": [
       "<div>\n",
       "<style scoped>\n",
       "    .dataframe tbody tr th:only-of-type {\n",
       "        vertical-align: middle;\n",
       "    }\n",
       "\n",
       "    .dataframe tbody tr th {\n",
       "        vertical-align: top;\n",
       "    }\n",
       "\n",
       "    .dataframe thead th {\n",
       "        text-align: right;\n",
       "    }\n",
       "</style>\n",
       "<table border=\"1\" class=\"dataframe\">\n",
       "  <thead>\n",
       "    <tr style=\"text-align: right;\">\n",
       "      <th></th>\n",
       "      <th>context</th>\n",
       "      <th>type</th>\n",
       "      <th>overall fairness</th>\n",
       "      <th>overall fairness lower bound</th>\n",
       "      <th>overall fairness upper bound</th>\n",
       "      <th>Feature (age)</th>\n",
       "      <th>Feature (age) lower bound</th>\n",
       "      <th>Feature (age) upper bound</th>\n",
       "      <th>Group details (&lt;= 25 years)</th>\n",
       "      <th>Group details (&lt;= 25 years) lower bound</th>\n",
       "      <th>...</th>\n",
       "      <th>Group details (female : divorced/separated/married) upper bound</th>\n",
       "      <th>Group details (male : divorced/separated)</th>\n",
       "      <th>Group details (male : divorced/separated) lower bound</th>\n",
       "      <th>Group details (male : divorced/separated) upper bound</th>\n",
       "      <th>Group details (male : married/widowed)</th>\n",
       "      <th>Group details (male : married/widowed) lower bound</th>\n",
       "      <th>Group details (male : married/widowed) upper bound</th>\n",
       "      <th>Group details (male : single)</th>\n",
       "      <th>Group details (male : single) lower bound</th>\n",
       "      <th>Group details (male : single) upper bound</th>\n",
       "    </tr>\n",
       "  </thead>\n",
       "  <tbody>\n",
       "    <tr>\n",
       "      <th>german_credit_multiclass (burden)</th>\n",
       "      <td>german_credit_multiclass</td>\n",
       "      <td>burden</td>\n",
       "      <td>70.728802</td>\n",
       "      <td>64.679422</td>\n",
       "      <td>76.547412</td>\n",
       "      <td>70.890122</td>\n",
       "      <td>64.69536</td>\n",
       "      <td>76.982085</td>\n",
       "      <td>0.110096</td>\n",
       "      <td>0.099204</td>\n",
       "      <td>...</td>\n",
       "      <td>0.099684</td>\n",
       "      <td>0.098819</td>\n",
       "      <td>0.07626</td>\n",
       "      <td>0.121236</td>\n",
       "      <td>0.050922</td>\n",
       "      <td>0.035967</td>\n",
       "      <td>0.066038</td>\n",
       "      <td>0.058816</td>\n",
       "      <td>0.052502</td>\n",
       "      <td>0.065192</td>\n",
       "    </tr>\n",
       "  </tbody>\n",
       "</table>\n",
       "<p>1 rows × 29 columns</p>\n",
       "</div>"
      ],
      "text/plain": [
       "                                                    context    type  \\\n",
       "german_credit_multiclass (burden)  german_credit_multiclass  burden   \n",
       "\n",
       "                                   overall fairness  \\\n",
       "german_credit_multiclass (burden)         70.728802   \n",
       "\n",
       "                                   overall fairness lower bound  \\\n",
       "german_credit_multiclass (burden)                     64.679422   \n",
       "\n",
       "                                   overall fairness upper bound  \\\n",
       "german_credit_multiclass (burden)                     76.547412   \n",
       "\n",
       "                                   Feature (age)  Feature (age) lower bound  \\\n",
       "german_credit_multiclass (burden)      70.890122                   64.69536   \n",
       "\n",
       "                                   Feature (age) upper bound  \\\n",
       "german_credit_multiclass (burden)                  76.982085   \n",
       "\n",
       "                                   Group details (<= 25 years)  \\\n",
       "german_credit_multiclass (burden)                     0.110096   \n",
       "\n",
       "                                   Group details (<= 25 years) lower bound  \\\n",
       "german_credit_multiclass (burden)                                 0.099204   \n",
       "\n",
       "                                   ...  \\\n",
       "german_credit_multiclass (burden)  ...   \n",
       "\n",
       "                                   Group details (female : divorced/separated/married) upper bound  \\\n",
       "german_credit_multiclass (burden)                                           0.099684                 \n",
       "\n",
       "                                   Group details (male : divorced/separated)  \\\n",
       "german_credit_multiclass (burden)                                   0.098819   \n",
       "\n",
       "                                   Group details (male : divorced/separated) lower bound  \\\n",
       "german_credit_multiclass (burden)                                            0.07626       \n",
       "\n",
       "                                   Group details (male : divorced/separated) upper bound  \\\n",
       "german_credit_multiclass (burden)                                           0.121236       \n",
       "\n",
       "                                   Group details (male : married/widowed)  \\\n",
       "german_credit_multiclass (burden)                                0.050922   \n",
       "\n",
       "                                   Group details (male : married/widowed) lower bound  \\\n",
       "german_credit_multiclass (burden)                                           0.035967    \n",
       "\n",
       "                                   Group details (male : married/widowed) upper bound  \\\n",
       "german_credit_multiclass (burden)                                           0.066038    \n",
       "\n",
       "                                   Group details (male : single)  \\\n",
       "german_credit_multiclass (burden)                       0.058816   \n",
       "\n",
       "                                   Group details (male : single) lower bound  \\\n",
       "german_credit_multiclass (burden)                                   0.052502   \n",
       "\n",
       "                                   Group details (male : single) upper bound  \n",
       "german_credit_multiclass (burden)                                   0.065192  \n",
       "\n",
       "[1 rows x 29 columns]"
      ]
     },
     "metadata": {},
     "output_type": "display_data"
    },
    {
     "name": "stdout",
     "output_type": "stream",
     "text": [
      "\n",
      "\n"
     ]
    },
    {
     "data": {
      "image/png": "[encoded data removed]",
      "text/plain": [
       "<Figure size 864x288 with 1 Axes>"
      ]
     },
     "metadata": {
      "needs_background": "light"
     },
     "output_type": "display_data"
    }
   ],
   "source": [
    "display(df_fairness)\n",
    "\n",
    "print(\"\\n\")\n",
    "\n",
    "# Let's chart the fairness measure by feature for each model together with its confidence bounds for\n",
    "# easier visual comparison:\n",
    "%matplotlib inline\n",
    "import matplotlib.pyplot as plt\n",
    "\n",
    "features = ['Feature (age)', 'Feature (status)']\n",
    "feature_scores = df_fairness[features]\n",
    "feature_lower_bounds = df_fairness[[f + ' lower bound' for f in features]]\n",
    "feature_upper_bounds = df_fairness[[f + ' upper bound' for f in features]]\n",
    "\n",
    "fig, ax = plt.subplots(figsize=[12,4])\n",
    "ax.set_title('Feature fairness by model', fontsize=20)\n",
    "colors = ['tab:blue', 'tab:orange', 'tab:green', 'tab:red', 'tab:pink']\n",
    "width = 0.4\n",
    "\n",
    "ax.set_xticks(np.arange(len(features))+width)\n",
    "ax.set_xticklabels(features)\n",
    "\n",
    "for idx in range(len(df_fairness)):\n",
    "    central_values = list(feature_scores.iloc[idx])\n",
    "    lower_bounds = list(feature_lower_bounds.iloc[idx])\n",
    "    upper_bounds = list(feature_upper_bounds.iloc[idx])\n",
    "    lower_errors = [central_values[i] - lower_bounds[i] for i in range(len(central_values))]\n",
    "    upper_errors = [upper_bounds[i] - central_values[i] for i in range(len(central_values))]\n",
    "\n",
    "    ax.bar([width/2+idx*width+f_idx for f_idx in range(len(features))],\n",
    "            central_values,\n",
    "            width,\n",
    "            yerr=[lower_errors, upper_errors],\n",
    "            color=colors[idx],\n",
    "            label=df_fairness.index[idx],\n",
    "            capsize=10)\n",
    "\n",
    "fig.legend(fontsize=14, bbox_to_anchor=(1.1,.6))\n",
    "fig.tight_layout()\n",
    "fig.subplots_adjust(right=0.8) \n",
    "plt.show()"
   ]
  },
  {
   "cell_type": "markdown",
   "metadata": {},
   "source": [
    "### Robustness by model\n",
    "\n",
    "- The following cell shows how to extract Certifai Robustness Score from the scan results object\n",
    "- The high Robustness score indicates the given model needs to change larger no. of features to alter the prediction outcomes\n",
    "- please refer to official documentation for [Certifai Robustness](https://cognitivescale.github.io/cortex-certifai/docs/factors/robustness)"
   ]
  },
  {
   "cell_type": "code",
   "execution_count": 22,
   "metadata": {},
   "outputs": [
    {
     "data": {
      "text/html": [
       "<div>\n",
       "<style scoped>\n",
       "    .dataframe tbody tr th:only-of-type {\n",
       "        vertical-align: middle;\n",
       "    }\n",
       "\n",
       "    .dataframe tbody tr th {\n",
       "        vertical-align: top;\n",
       "    }\n",
       "\n",
       "    .dataframe thead th {\n",
       "        text-align: right;\n",
       "    }\n",
       "</style>\n",
       "<table border=\"1\" class=\"dataframe\">\n",
       "  <thead>\n",
       "    <tr style=\"text-align: right;\">\n",
       "      <th></th>\n",
       "      <th>context</th>\n",
       "      <th>robustness</th>\n",
       "      <th>robustness lower bound</th>\n",
       "      <th>robustness upper bound</th>\n",
       "    </tr>\n",
       "  </thead>\n",
       "  <tbody>\n",
       "    <tr>\n",
       "      <th>german_credit_multiclass</th>\n",
       "      <td>german_credit_multiclass</td>\n",
       "      <td>84.383323</td>\n",
       "      <td>81.017637</td>\n",
       "      <td>87.504103</td>\n",
       "    </tr>\n",
       "  </tbody>\n",
       "</table>\n",
       "</div>"
      ],
      "text/plain": [
       "                                           context  robustness  \\\n",
       "german_credit_multiclass  german_credit_multiclass   84.383323   \n",
       "\n",
       "                          robustness lower bound  robustness upper bound  \n",
       "german_credit_multiclass               81.017637               87.504103  "
      ]
     },
     "metadata": {},
     "output_type": "display_data"
    },
    {
     "data": {
      "image/png": "[encoded data removed]",
      "text/plain": [
       "<Figure size 864x288 with 1 Axes>"
      ]
     },
     "metadata": {
      "needs_background": "light"
     },
     "output_type": "display_data"
    }
   ],
   "source": [
    "df_robustness = construct_scores_dataframe(scores('robustness', result), include_confidence=True)\n",
    "display(df_robustness)\n",
    "\n",
    "%matplotlib inline\n",
    "import matplotlib.pyplot as plt\n",
    "\n",
    "features = ['robustness']\n",
    "feature_scores = df_robustness[features]\n",
    "feature_lower_bounds = df_robustness[[f + ' lower bound' for f in features]]\n",
    "feature_upper_bounds = df_robustness[[f + ' upper bound' for f in features]]\n",
    "\n",
    "fig, ax = plt.subplots(figsize=[12,4])\n",
    "ax.set_title('Robustness', fontsize=20)\n",
    "colors = ['tab:blue', 'tab:orange', 'tab:green', 'tab:red', 'tab:pink']\n",
    "width = 0.4\n",
    "\n",
    "ax.set_xticks(np.arange(len(features))+width)\n",
    "ax.set_xticklabels(features)\n",
    "\n",
    "for idx in range(len(df_robustness)):\n",
    "    central_values = list(feature_scores.iloc[idx])\n",
    "    lower_bounds = list(feature_lower_bounds.iloc[idx])\n",
    "    upper_bounds = list(feature_upper_bounds.iloc[idx])\n",
    "    lower_errors = [central_values[i] - lower_bounds[i] for i in range(len(central_values))]\n",
    "    upper_errors = [upper_bounds[i] - central_values[i] for i in range(len(central_values))]\n",
    "\n",
    "    ax.errorbar([width/2+idx*width+f_idx for f_idx in range(len(features))],\n",
    "            central_values,\n",
    "            yerr=[lower_errors, upper_errors],\n",
    "            color=colors[idx],\n",
    "            label=df_robustness.index[idx],\n",
    "            capsize=10)\n",
    "    \n",
    "    ax.scatter([width/2+idx*width+f_idx for f_idx in range(len(features))], central_values,s=500)\n",
    "\n",
    "fig.legend(fontsize=14, bbox_to_anchor=(1.1,.6))\n",
    "fig.tight_layout()\n",
    "fig.subplots_adjust(right=0.8) \n",
    "plt.show()"
   ]
  },
  {
   "cell_type": "markdown",
   "metadata": {},
   "source": [
    "### Explainability by model \n",
    "\n",
    "- the following cell shows how to extract Certifai Explainability Score from the scan results object\n",
    "- please refer to official documentation for [Certifai Explainability](https://cognitivescale.github.io/cortex-certifai/docs/factors/explainability)"
   ]
  },
  {
   "cell_type": "code",
   "execution_count": 23,
   "metadata": {},
   "outputs": [
    {
     "data": {
      "text/html": [
       "<div>\n",
       "<style scoped>\n",
       "    .dataframe tbody tr th:only-of-type {\n",
       "        vertical-align: middle;\n",
       "    }\n",
       "\n",
       "    .dataframe tbody tr th {\n",
       "        vertical-align: top;\n",
       "    }\n",
       "\n",
       "    .dataframe thead th {\n",
       "        text-align: right;\n",
       "    }\n",
       "</style>\n",
       "<table border=\"1\" class=\"dataframe\">\n",
       "  <thead>\n",
       "    <tr style=\"text-align: right;\">\n",
       "      <th></th>\n",
       "      <th>context</th>\n",
       "      <th>explainability</th>\n",
       "      <th>Num features (1)</th>\n",
       "      <th>Num features (10)</th>\n",
       "      <th>Num features (2)</th>\n",
       "      <th>Num features (3)</th>\n",
       "      <th>Num features (4)</th>\n",
       "      <th>Num features (5)</th>\n",
       "      <th>Num features (6)</th>\n",
       "      <th>Num features (7)</th>\n",
       "      <th>Num features (8)</th>\n",
       "      <th>Num features (9)</th>\n",
       "    </tr>\n",
       "  </thead>\n",
       "  <tbody>\n",
       "    <tr>\n",
       "      <th>german_credit_multiclass</th>\n",
       "      <td>german_credit_multiclass</td>\n",
       "      <td>96.523438</td>\n",
       "      <td>73.4375</td>\n",
       "      <td>0.0</td>\n",
       "      <td>21.09375</td>\n",
       "      <td>5.46875</td>\n",
       "      <td>0.0</td>\n",
       "      <td>0.0</td>\n",
       "      <td>0.0</td>\n",
       "      <td>0.0</td>\n",
       "      <td>0.0</td>\n",
       "      <td>0.0</td>\n",
       "    </tr>\n",
       "  </tbody>\n",
       "</table>\n",
       "</div>"
      ],
      "text/plain": [
       "                                           context  explainability  \\\n",
       "german_credit_multiclass  german_credit_multiclass       96.523438   \n",
       "\n",
       "                          Num features (1)  Num features (10)  \\\n",
       "german_credit_multiclass           73.4375                0.0   \n",
       "\n",
       "                          Num features (2)  Num features (3)  \\\n",
       "german_credit_multiclass          21.09375           5.46875   \n",
       "\n",
       "                          Num features (4)  Num features (5)  \\\n",
       "german_credit_multiclass               0.0               0.0   \n",
       "\n",
       "                          Num features (6)  Num features (7)  \\\n",
       "german_credit_multiclass               0.0               0.0   \n",
       "\n",
       "                          Num features (8)  Num features (9)  \n",
       "german_credit_multiclass               0.0               0.0  "
      ]
     },
     "metadata": {},
     "output_type": "display_data"
    },
    {
     "data": {
      "image/png": "[encoded data removed]",
      "text/plain": [
       "<Figure size 864x288 with 1 Axes>"
      ]
     },
     "metadata": {
      "needs_background": "light"
     },
     "output_type": "display_data"
    }
   ],
   "source": [
    "%matplotlib inline\n",
    "import matplotlib.pyplot as plt\n",
    "\n",
    "df_explainability= construct_scores_dataframe(scores('explainability', result), include_confidence=True)\n",
    "display(df_explainability)\n",
    "\n",
    "\n",
    "features = ['Num features (1)', 'Num features (2)', 'Num features (3)', 'Num features (4)', 'Num features (5)', 'Num features (6)', 'Num features (7)', 'Num features (8)', 'Num features (9)', 'Num features (10)']\n",
    "features_disp = [i for i in range(1,11)]\n",
    "feature_scores = df_explainability[features]\n",
    "\n",
    "fig, ax = plt.subplots(figsize=[12,4])\n",
    "ax.set_title('Explainability by no of features', fontsize=20)\n",
    "colors = ['tab:blue', 'tab:orange', 'tab:green', 'tab:red', 'tab:pink']\n",
    "width = 0.4\n",
    "\n",
    "ax.set_xticks(np.arange(len(features))+width)\n",
    "ax.set_xticklabels(features_disp)\n",
    "ax.set_xlabel(\"Num. of features\")\n",
    "ax.set_ylabel(\"Explainability score\")\n",
    "\n",
    "for idx in range(len(df_explainability)):\n",
    "    central_values = list(feature_scores.iloc[idx])\n",
    "\n",
    "    ax.bar([width/2+idx*width+f_idx for f_idx in range(len(features))],\n",
    "            central_values,\n",
    "            width,align='edge',\n",
    "            color=colors[idx],\n",
    "            label=df_explainability.index[idx],\n",
    "            capsize=10)\n",
    "\n",
    "fig.legend(fontsize=14, bbox_to_anchor=(1.1,.6))\n",
    "fig.tight_layout()\n",
    "fig.subplots_adjust(right=0.8) \n",
    "plt.show()"
   ]
  },
  {
   "cell_type": "code",
   "execution_count": null,
   "metadata": {},
   "outputs": [],
   "source": []
  }
 ],
 "metadata": {
  "kernelspec": {
   "display_name": "Python 3",
   "language": "python",
   "name": "python3"
  },
  "language_info": {
   "codemirror_mode": {
    "name": "ipython",
    "version": 3
   },
   "file_extension": ".py",
   "mimetype": "text/x-python",
   "name": "python",
   "nbconvert_exporter": "python",
   "pygments_lexer": "ipython3",
   "version": "3.6.10"
  }
 },
 "nbformat": 4,
 "nbformat_minor": 4
}
