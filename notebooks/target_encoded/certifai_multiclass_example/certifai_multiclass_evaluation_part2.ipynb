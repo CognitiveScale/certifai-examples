{
 "cells": [
  {
   "cell_type": "markdown",
   "metadata": {},
   "source": [
    "Copyright (c) 2020. Cognitive Scale Inc. All rights reserved.\n",
    "Licensed under CognitiveScale Example Code [License](https://github.com/CognitiveScale/cortex-certifai-examples/blob/7998b8a481fccd467463deb1fc46d19622079b0e/LICENSE.md)\n"
   ]
  },
  {
   "cell_type": "markdown",
   "metadata": {},
   "source": [
    "## Building a Cortex Certifai scan programatically\n",
    "\n",
    "In this notebook we'll build up a scan definition from first principles, against a local model trained within the notebook. We will then run that scan and save its results. \n",
    "\n",
    "- Load the dataset and model from disk\n",
    "- Create scan definition using Certifai Builder Api\n",
    "- Refer to the [Cortex Certifai documentation](https://cognitivescale.github.io/cortex-certifai/docs/about) for detailed information about Cortex Certifai.\n",
    "- Refer to [Cortex Certifai Examples Github](https://github.com/CognitiveScale/cortex-certifai-examples) for more self start tutorials\n",
    "\n",
    "*Please Note*: this notebook assumes: \n",
    "- trained model and dataset is available within the environment\n",
    "- Cortex Certifai toolkit and model dependencies are installed\n"
   ]
  },
  {
   "cell_type": "code",
   "execution_count": 1,
   "metadata": {
    "execution": {
     "iopub.execute_input": "2023-01-20T02:04:00.728454Z",
     "iopub.status.busy": "2023-01-20T02:04:00.728094Z",
     "iopub.status.idle": "2023-01-20T02:04:03.429782Z",
     "shell.execute_reply": "2023-01-20T02:04:03.429102Z"
    }
   },
   "outputs": [],
   "source": [
    "import pandas as pd\n",
    "import matplotlib.pyplot as plt\n",
    "from IPython.display import display\n",
    "import numpy as np\n",
    "from certifai.scanner.builder import (CertifaiScanBuilder, CertifaiPredictorWrapper, CertifaiModel, CertifaiModelMetric,\n",
    "                                      CertifaiDataset, CertifaiGroupingFeature, CertifaiDatasetSource,\n",
    "                                      CertifaiPredictionTask, CertifaiTaskOutcomes, CertifaiOutcomeValue, CertifaiModelMetric,\n",
    "                                      CertifaiFeatureDataType,CertifaiFeatureSchema, CertifaiDataSchema,CertifaiFeatureRestriction)\n",
    "from certifai.scanner.report_utils import scores, construct_scores_dataframe\n",
    "from certifai.common.utils.encoding import CatEncoder\n",
    "import joblib"
   ]
  },
  {
   "cell_type": "code",
   "execution_count": 2,
   "metadata": {
    "execution": {
     "iopub.execute_input": "2023-01-20T02:04:03.433212Z",
     "iopub.status.busy": "2023-01-20T02:04:03.433002Z",
     "iopub.status.idle": "2023-01-20T02:04:07.052863Z",
     "shell.execute_reply": "2023-01-20T02:04:07.051941Z"
    }
   },
   "outputs": [
    {
     "name": "stdout",
     "output_type": "stream",
     "text": [
      "sklearn version is 1.0.2\n",
      "numpy version is 1.21.6 \n",
      "Certifai version: 1.3.16\r\n",
      "Scanner build: 1.3.16-31-g647f507f\r\n"
     ]
    }
   ],
   "source": [
    "# check required packages and their version\n",
    "import sklearn as scikit\n",
    "print(f'sklearn version is {scikit.__version__}')\n",
    "print(f'numpy version is {np.__version__} ')\n",
    "!certifai --version"
   ]
  },
  {
   "cell_type": "code",
   "execution_count": 3,
   "metadata": {
    "execution": {
     "iopub.execute_input": "2023-01-20T02:04:07.057317Z",
     "iopub.status.busy": "2023-01-20T02:04:07.057063Z",
     "iopub.status.idle": "2023-01-20T02:04:07.061779Z",
     "shell.execute_reply": "2023-01-20T02:04:07.061125Z"
    }
   },
   "outputs": [],
   "source": [
    "seed = 42\n",
    "np.random.seed(seed)"
   ]
  },
  {
   "cell_type": "markdown",
   "metadata": {},
   "source": [
    "\n",
    "### Load pre-trained model from disk along with encoder (if present)\n",
    "\n",
    "- replace model_path variable below to point to stored model binary on disk\n"
   ]
  },
  {
   "cell_type": "code",
   "execution_count": 4,
   "metadata": {
    "execution": {
     "iopub.execute_input": "2023-01-20T02:04:07.065165Z",
     "iopub.status.busy": "2023-01-20T02:04:07.064959Z",
     "iopub.status.idle": "2023-01-20T02:04:07.080519Z",
     "shell.execute_reply": "2023-01-20T02:04:07.079922Z"
    }
   },
   "outputs": [
    {
     "name": "stdout",
     "output_type": "stream",
     "text": [
      "loading models/german_credit_multiclass.joblib\n",
      "Pipeline(steps=[('full_pipeline',\n",
      "                 Pipeline(steps=[('scaler', StandardScaler())])),\n",
      "                ('model',\n",
      "                 GridSearchCV(cv=5, estimator=LogisticRegression(),\n",
      "                              param_grid={'C': (0.5, 1.0, 2.0),\n",
      "                                          'max_iter': [1000],\n",
      "                                          'solver': ['lbfgs']}))])\n"
     ]
    }
   ],
   "source": [
    "# load model \n",
    "model_path = 'models/german_credit_multiclass.joblib'\n",
    "print(f'loading {model_path}')\n",
    "try:\n",
    "    model = joblib.load(model_path)\n",
    "except FileNotFoundError as e:\n",
    "    print(f'model `{model_path}` not found. Looks like model has not been trained or file location is wrong')\n",
    "    raise Exception(str(e))\n",
    "print(model)"
   ]
  },
  {
   "cell_type": "code",
   "execution_count": 5,
   "metadata": {
    "execution": {
     "iopub.execute_input": "2023-01-20T02:04:07.083584Z",
     "iopub.status.busy": "2023-01-20T02:04:07.083390Z",
     "iopub.status.idle": "2023-01-20T02:04:07.099764Z",
     "shell.execute_reply": "2023-01-20T02:04:07.098894Z"
    }
   },
   "outputs": [],
   "source": [
    "base_path = '../..'\n",
    "all_data_file = f\"{base_path}/datasets/german_credit_eval_multiclass_encoded.csv\"\n",
    "\n",
    "df = pd.read_csv(all_data_file)\n",
    "\n",
    "one_hot_encoded_cat_cols = [\n",
    "         'checkingstatus',\n",
    "         'others',\n",
    "         'age',\n",
    "         'job',\n",
    "         'employ',\n",
    "         'property',\n",
    "         'foreign',\n",
    "         'history',\n",
    "         'savings',\n",
    "         'purpose',\n",
    "         'housing'       \n",
    "        ]\n",
    "\n",
    "target_encoded_cat_cols = ['otherplans', 'status', 'telephone']\n",
    "value_encoded_cat_cols =  []\n",
    "label_column = 'outcome'\n"
   ]
  },
  {
   "cell_type": "code",
   "execution_count": 6,
   "metadata": {
    "execution": {
     "iopub.execute_input": "2023-01-20T02:04:07.103213Z",
     "iopub.status.busy": "2023-01-20T02:04:07.102980Z",
     "iopub.status.idle": "2023-01-20T02:04:07.111943Z",
     "shell.execute_reply": "2023-01-20T02:04:07.111063Z"
    }
   },
   "outputs": [],
   "source": [
    "# create a mini certifai explanation dataset\n",
    "expln_mini_data_file = f\"{base_path}/datasets/german_credit_eval_multiclass_encoded_expln.csv\"\n",
    "df[:100].to_csv(expln_mini_data_file, index=False)"
   ]
  },
  {
   "cell_type": "markdown",
   "metadata": {},
   "source": [
    "###  target_encoded string categorical to floating point encoding"
   ]
  },
  {
   "cell_type": "markdown",
   "metadata": {},
   "source": [
    "### Load Dataset and create one-hot feature-value mappings dict\n",
    "\n",
    "- our dataset has one-hot feature values encoded as dataset columns along with target_encoded categoricals\n",
    "- these one-hot encoded features present as column have column names delimited using `_` e.g. `age_<= 25 years`  `age_> 25 years` etc.\n",
    "- we create one hot value mappings for each  one-hot encoded feature below\n",
    "(e.g. `feature`: {`column_name_correponding_to_feature`: `features_value_in_column_for_given_feature`} )\n",
    "    ```\n",
    "    'age': {'age_<= 25 years': '<= 25 years', \n",
    "    'age_> 25 years': '> 25 years'}\n",
    "   ```\n",
    "- `one_hot_value_mappings` created above will be used later used to create `CertifaiDatasetSchema` \n",
    "> **Please Note**: this is only needed in-case dataset already has one-hot encoded feature as columns. Also if you already have the persisted mappings with same schema you can use that as well"
   ]
  },
  {
   "cell_type": "code",
   "execution_count": 7,
   "metadata": {
    "execution": {
     "iopub.execute_input": "2023-01-20T02:04:07.115477Z",
     "iopub.status.busy": "2023-01-20T02:04:07.115264Z",
     "iopub.status.idle": "2023-01-20T02:04:07.120692Z",
     "shell.execute_reply": "2023-01-20T02:04:07.120105Z"
    }
   },
   "outputs": [],
   "source": [
    "from collections import defaultdict\n",
    "mappings = defaultdict(list)\n",
    "for col in df.columns.to_list():\n",
    "    col_list = []\n",
    "    feature_name,feature_value = col.split('_')[0], col.split('_')[1:]\n",
    "    if feature_name in one_hot_encoded_cat_cols:\n",
    "        if feature_value:\n",
    "            mappings[feature_name].append('_'.join(feature_value))\n",
    "\n",
    "# create a mapping from {feature -> {1-hot_column_name_in_csv: feature_value }} using the feature `mapping` list\n",
    "\n",
    "\"\"\"\n",
    "workclass:\n",
    "     workclass_Local-gov -> Local-gov\n",
    "     workclass_Self-emp-inc -> Self-emp-inc\n",
    "\"\"\"\n",
    "one_hot_value_mappings = {}\n",
    "for k,v in mappings.items():\n",
    "    one_hot_value_mappings[k] = { f'{k}_{cols}':cols  for cols in v} "
   ]
  },
  {
   "cell_type": "markdown",
   "metadata": {},
   "source": [
    "### Construct target encoder mappings \n",
    "- to generate target_mappings using `category_encoders.target_encoder.TargetEncoder` (from category-encoders package) `te` object we can use the below snippet\n",
    "```\n",
    "target_mappings = {}\n",
    "for feature in target_encode_cat_cols:\n",
    "    feature_mappings = {}\n",
    "    for ordinal_mapping in te.ordinal_encoder.category_mapping:\n",
    "        if ordinal_mapping['col'] == feature:\n",
    "            mapping = ordinal_mapping['mapping']\n",
    "            for idx, ordinal in enumerate(mapping):\n",
    "                label = mapping.index[idx]\n",
    "                if not (isinstance(label, float) and np.isnan(label)):\n",
    "                    feature_mappings[label] = te.mapping[feature][ordinal]\n",
    "            break\n",
    "    target_mappings[feature] = feature_mappings\n",
    "```    "
   ]
  },
  {
   "cell_type": "code",
   "execution_count": 8,
   "metadata": {
    "execution": {
     "iopub.execute_input": "2023-01-20T02:04:07.123660Z",
     "iopub.status.busy": "2023-01-20T02:04:07.123485Z",
     "iopub.status.idle": "2023-01-20T02:04:07.128390Z",
     "shell.execute_reply": "2023-01-20T02:04:07.127805Z"
    }
   },
   "outputs": [
    {
     "name": "stdout",
     "output_type": "stream",
     "text": [
      "dict_keys(['one_hot_encoded_mappings', 'target_encoded_mappings'])\n",
      "---------\n",
      "target encoded value mappings ->\n",
      "{'status': {'male : single': 1.4762773722627738, 'female : divorced/separated/married': 1.59999999999998, 'male : married/widowed': 1.5108778688426723, 'male : divorced/separated': 1.5581978168192525}, 'telephone': {'phone - none': 1.5906040268456376, 'phone - yes, registered under the customers name': 1.4207920792079207}, 'otherplans': {'none': 1.515970515970516, 'stores': 1.5512272565961795, 'bank': 1.5467624217811897}}\n"
     ]
    }
   ],
   "source": [
    "# above cell demonstrates how to create the mappings\n",
    "# we use the persisted value mappings created using same code from above\n",
    "# we also get the target_encoded mappings\n",
    "import json\n",
    "with open('../dataset_generation/cat_mappings.json', 'r') as fl:\n",
    "    mappings = json.load(fl)   \n",
    "print(mappings.keys())\n",
    "one_hot_value_mappings = mappings.get('one_hot_encoded_mappings')\n",
    "target_mappings = mappings.get('target_encoded_mappings')\n",
    "print(f'---------\\ntarget encoded value mappings ->\\n{target_mappings}')\n"
   ]
  },
  {
   "cell_type": "markdown",
   "metadata": {},
   "source": [
    "## Certifai Evaluation Setup"
   ]
  },
  {
   "cell_type": "markdown",
   "metadata": {},
   "source": [
    "### create Certifai model proxy\n",
    "\n",
    "- [CertifaiPredictorWrapper](https://cognitivescale.github.io/cortex-certifai/docs/reference/api/) API is used to wrap model objects with encoder/decoder callables\n",
    "- if model has encoding, decoding capabilities built into it, `encoder`/`decoder` kwargs need not be provided"
   ]
  },
  {
   "cell_type": "code",
   "execution_count": 9,
   "metadata": {
    "execution": {
     "iopub.execute_input": "2023-01-20T02:04:07.131247Z",
     "iopub.status.busy": "2023-01-20T02:04:07.131078Z",
     "iopub.status.idle": "2023-01-20T02:04:07.134017Z",
     "shell.execute_reply": "2023-01-20T02:04:07.133454Z"
    }
   },
   "outputs": [],
   "source": [
    "model_proxy = CertifaiPredictorWrapper(model)"
   ]
  },
  {
   "cell_type": "markdown",
   "metadata": {},
   "source": [
    "### test wrapped model_proxy predicts"
   ]
  },
  {
   "cell_type": "code",
   "execution_count": 10,
   "metadata": {
    "execution": {
     "iopub.execute_input": "2023-01-20T02:04:07.136735Z",
     "iopub.status.busy": "2023-01-20T02:04:07.136569Z",
     "iopub.status.idle": "2023-01-20T02:04:07.142524Z",
     "shell.execute_reply": "2023-01-20T02:04:07.141961Z"
    }
   },
   "outputs": [],
   "source": [
    "# # test to assert wrapped certifai model predicts == raw model predicts\n",
    "assert (model_proxy.model.predict(df.drop(label_column,axis=1)[:10].values) == \n",
    "        model.predict(df.drop(label_column, axis=1)[:10].values)).all"
   ]
  },
  {
   "cell_type": "markdown",
   "metadata": {},
   "source": [
    "\n",
    "### define  Certifai task type\n",
    "\n",
    "- CertifaiTaskOutcomes : Cortex Certifai supports classification as well as regression models. Here we have an example of multiclass classificaton (e.g. Determine whether a loan should be granted)\n",
    "- CertifaiOutcomeValue : define the outcomes possible from the model predictions. here we have a multiclass classification model that predicts whether loan will be \n",
    "- `granted`,\n",
    "- `denied` or sent for\n",
    "- `further inspection`\n",
    "\n",
    "\n",
    "Note: Please refer to Certifai API [documentation](https://cognitivescale.github.io/cortex-certifai/docs/reference/api/) for more details."
   ]
  },
  {
   "cell_type": "code",
   "execution_count": 11,
   "metadata": {
    "execution": {
     "iopub.execute_input": "2023-01-20T02:04:07.145222Z",
     "iopub.status.busy": "2023-01-20T02:04:07.145054Z",
     "iopub.status.idle": "2023-01-20T02:04:07.149826Z",
     "shell.execute_reply": "2023-01-20T02:04:07.149254Z"
    }
   },
   "outputs": [],
   "source": [
    "# Create Certifai evaluation task and add that to scan object\n",
    "# First define the possible prediction outcomes\n",
    "\n",
    "task = CertifaiPredictionTask(CertifaiTaskOutcomes.classification(\n",
    "    [\n",
    "        CertifaiOutcomeValue(1, name='Loan granted', favorable=True),\n",
    "        CertifaiOutcomeValue(2, name='Loan denied', favorable=False),\n",
    "        CertifaiOutcomeValue(3, name='further inspection', favorable=False)\n",
    "    ],\n",
    "    favorable_outcome_group_name = 'Loan Granted',\n",
    "    unfavorable_outcome_group_name = 'Loan Denied or subject to futher inspection'\n",
    "),\n",
    "                     \n",
    "    prediction_description='Determine whether a loan should be granted')\n",
    "\n",
    "scan = CertifaiScanBuilder.create('german_credit_multiclass',\n",
    "                                  prediction_task=task)"
   ]
  },
  {
   "cell_type": "markdown",
   "metadata": {},
   "source": [
    "### add the model to be evaluated from above"
   ]
  },
  {
   "cell_type": "code",
   "execution_count": 12,
   "metadata": {
    "execution": {
     "iopub.execute_input": "2023-01-20T02:04:07.152823Z",
     "iopub.status.busy": "2023-01-20T02:04:07.152653Z",
     "iopub.status.idle": "2023-01-20T02:04:07.155809Z",
     "shell.execute_reply": "2023-01-20T02:04:07.155264Z"
    }
   },
   "outputs": [],
   "source": [
    "first_model = CertifaiModel('german_credit_multiclass', local_predictor=model_proxy)\n",
    "scan.add_model(first_model)"
   ]
  },
  {
   "cell_type": "markdown",
   "metadata": {},
   "source": [
    "### create `CertifaiFeatureSchema` using categorical mappings dict from above\n",
    "\n",
    "- for one-hot encoded features we use `one_hot_value_mappings` from above to let Certifai know the different features values along with data types for that particular feature\n",
    "- for target encoded and value encoded features we let Certifai know their unique sets of values\n",
    "- define [CertifaiFeatureDataType](https://cognitivescale.github.io/cortex-certifai/docs/reference/api/) for categorical features\n",
    "- define [CertifaiFeatureSchema](https://cognitivescale.github.io/cortex-certifai/docs/reference/api/) for the datatype created above\n",
    "- add the schema to [CertifaiDataSchema](https://cognitivescale.github.io/cortex-certifai/docs/reference/api/)"
   ]
  },
  {
   "cell_type": "code",
   "execution_count": 13,
   "metadata": {
    "execution": {
     "iopub.execute_input": "2023-01-20T02:04:07.158668Z",
     "iopub.status.busy": "2023-01-20T02:04:07.158500Z",
     "iopub.status.idle": "2023-01-20T02:04:07.164351Z",
     "shell.execute_reply": "2023-01-20T02:04:07.163799Z"
    }
   },
   "outputs": [],
   "source": [
    "cat_features = []\n",
    "for feature in one_hot_encoded_cat_cols + target_encoded_cat_cols + value_encoded_cat_cols:\n",
    "    if feature in one_hot_value_mappings:\n",
    "        data_type = CertifaiFeatureDataType.categorical(value_columns=one_hot_value_mappings[feature].items())\n",
    "        feature_schema = CertifaiFeatureSchema(name=feature,\n",
    "                                               data_type=data_type)\n",
    "        cat_features.append(feature_schema)\n",
    "\n",
    "    elif feature in target_encoded_cat_cols:\n",
    "        data_type = CertifaiFeatureDataType.categorical(values=list(target_mappings[feature].keys()),\n",
    "                                                        target_encodings=list(target_mappings[feature].values()))\n",
    "        feature_schema = CertifaiFeatureSchema(name=feature,\n",
    "                                               data_type=data_type)\n",
    "        cat_features.append(feature_schema)\n",
    "\n",
    "    elif feature in df.columns:\n",
    "        data_type = CertifaiFeatureDataType.categorical(values=sorted(df[feature].unique().tolist()))\n",
    "        feature_schema = CertifaiFeatureSchema(name=feature,\n",
    "                                               data_type=data_type)\n",
    "        cat_features.append(feature_schema)\n",
    "        \n",
    "# certifai dataset schema combining numerical categorical, 1-hot and target encoded features\n",
    "schema = CertifaiDataSchema(features=cat_features)\n",
    "scan.dataset_schema = schema   "
   ]
  },
  {
   "cell_type": "markdown",
   "metadata": {},
   "source": [
    "### Add Certifai Evaluation "
   ]
  },
  {
   "cell_type": "code",
   "execution_count": 14,
   "metadata": {
    "execution": {
     "iopub.execute_input": "2023-01-20T02:04:07.167306Z",
     "iopub.status.busy": "2023-01-20T02:04:07.167129Z",
     "iopub.status.idle": "2023-01-20T02:04:07.172481Z",
     "shell.execute_reply": "2023-01-20T02:04:07.171977Z"
    }
   },
   "outputs": [],
   "source": [
    "# certifai evaluation setup\n",
    "\n",
    "# Add the explanation dataset. Here we run explanations for first 100 rows from the dataset\n",
    "\n",
    "expn_dataset = CertifaiDataset('explanation',\n",
    "                               CertifaiDatasetSource.csv(expln_mini_data_file))\n",
    "scan.add_dataset(expn_dataset)\n",
    "scan.explanation_dataset_id = 'explanation'\n",
    "\n",
    "\n",
    "# add the evaluation for performance, explainability, robustness, fairness\n",
    "scan.add_evaluation_type('explanation')\n",
    "scan.add_evaluation_type('explainability')\n",
    "scan.add_evaluation_type('robustness')\n",
    "scan.add_evaluation_type('fairness')\n",
    "scan.add_metric(CertifaiModelMetric('accuracy', certifai_metric='accuracy'))\n",
    "scan.atx_performance_metric = 'accuracy'\n",
    "scan.add_evaluation_type('performance')\n",
    "\n",
    "\n",
    "# add fairness features\n",
    "\n",
    "# set fairness features\n",
    "fairness_fields = ['status', 'age']\n",
    "\n",
    "for feature in fairness_fields:\n",
    "    scan.add_fairness_grouping_feature(CertifaiGroupingFeature(feature))\n",
    "\n",
    "# add the evaluation dataset from dataframe loaded at the start of the notebook        \n",
    "eval_dataset = CertifaiDataset('evaluation',\n",
    "                           CertifaiDatasetSource.csv(all_data_file))\n",
    "scan.add_dataset(eval_dataset)\n",
    "scan.evaluation_dataset_id = 'evaluation'\n",
    "scan.test_dataset_id = 'evaluation'"
   ]
  },
  {
   "cell_type": "markdown",
   "metadata": {},
   "source": [
    "### specify target column if present in dataset"
   ]
  },
  {
   "cell_type": "code",
   "execution_count": 15,
   "metadata": {
    "execution": {
     "iopub.execute_input": "2023-01-20T02:04:07.175411Z",
     "iopub.status.busy": "2023-01-20T02:04:07.175222Z",
     "iopub.status.idle": "2023-01-20T02:04:07.178822Z",
     "shell.execute_reply": "2023-01-20T02:04:07.178233Z"
    }
   },
   "outputs": [],
   "source": [
    "# Because the dataset contains a ground truth outcome column which the model does not\n",
    "# expect to receive as input we need to state that in the dataset schema (since it cannot\n",
    "# be inferred from the CSV)\n",
    "scan.dataset_schema.outcome_feature_name = label_column"
   ]
  },
  {
   "cell_type": "code",
   "execution_count": 16,
   "metadata": {
    "execution": {
     "iopub.execute_input": "2023-01-20T02:04:07.181697Z",
     "iopub.status.busy": "2023-01-20T02:04:07.181510Z",
     "iopub.status.idle": "2023-01-20T02:04:07.254618Z",
     "shell.execute_reply": "2023-01-20T02:04:07.253982Z"
    },
    "scrolled": true
   },
   "outputs": [
    {
     "name": "stderr",
     "output_type": "stream",
     "text": [
      "2023-01-19 20:04:07,186 root   WARNING  The model 'german_credit_multiclass' was locally defined and cannot be represented within a scan definition because it doesn't have a 'predict_endpoint'. A default value of '<UNKNOWN_ENDPOINT>' will be used in the exported YAML for the models 'predict_endpoint'. Before running a scan with the exported YAML, you should deploy the model and update the 'german_credit_multiclass' models metadata in the scan definition.\n",
      "2023-01-19 20:04:07,221 root   WARNING  The model 'german_credit_multiclass' was locally defined and cannot be represented within a scan definition because it doesn't have a 'predict_endpoint'. A default value of '<UNKNOWN_ENDPOINT>' will be used in the exported YAML for the models 'predict_endpoint'. Before running a scan with the exported YAML, you should deploy the model and update the 'german_credit_multiclass' models metadata in the scan definition.\n"
     ]
    }
   ],
   "source": [
    "# generate and save the scan definition\n",
    "generated_scan_def = scan.extract_yaml()\n",
    "local_scan_definition_file = 'target_encoded_gcredit_multiclass_scan_def.yaml'\n",
    "\n",
    "with open(local_scan_definition_file, 'w') as f:\n",
    "    scan.save(f)"
   ]
  },
  {
   "cell_type": "markdown",
   "metadata": {},
   "source": [
    "### Initiate scan"
   ]
  },
  {
   "cell_type": "code",
   "execution_count": 17,
   "metadata": {
    "execution": {
     "iopub.execute_input": "2023-01-20T02:04:07.258448Z",
     "iopub.status.busy": "2023-01-20T02:04:07.258175Z",
     "iopub.status.idle": "2023-01-20T02:09:57.572991Z",
     "shell.execute_reply": "2023-01-20T02:09:57.572283Z"
    },
    "scrolled": true
   },
   "outputs": [
    {
     "name": "stdout",
     "output_type": "stream",
     "text": [
      "Starting scan with model_use_case_id: 'german_credit_multiclass' and scan_id: '20495d4683ab'\n",
      "[--------------------] 2023-01-19 20:04:07.375344 - 0 of 6 reports (0.0% complete) - Running explanation evaluation for model: german_credit_multiclass\n",
      "[###-----------------] 2023-01-19 20:05:01.748592 - 1 of 6 reports (16.67% complete) - Running explainability evaluation for model: german_credit_multiclass\n",
      "[######--------------] 2023-01-19 20:06:09.919600 - 2 of 6 reports (33.33% complete) - Running robustness evaluation for model: german_credit_multiclass\n"
     ]
    },
    {
     "name": "stderr",
     "output_type": "stream",
     "text": [
      "2023-01-19 20:07:09,109 root   WARNING  Insufficient examples of some fairness classes to guarantee convergence (smallest included class size is for status='male : divorced/separated' with 50 samples)\n"
     ]
    },
    {
     "name": "stdout",
     "output_type": "stream",
     "text": [
      "[##########----------] 2023-01-19 20:07:09.096261 - 3 of 6 reports (50.0% complete) - Running fairness evaluation for model: german_credit_multiclass\n"
     ]
    },
    {
     "name": "stderr",
     "output_type": "stream",
     "text": [
      "2023-01-19 20:08:06,854 root   WARNING  Examples of protected class ('status', 'male : divorced/separated') exhausted before convergence after 50 samples\n",
      "2023-01-19 20:08:20,497 root   WARNING  Examples of protected class ('status', 'male : married/widowed') exhausted before convergence after 92 samples\n",
      "2023-01-19 20:08:58,817 root   WARNING  Examples of protected class ('age', '<= 25 years') exhausted before convergence after 190 samples\n",
      "2023-01-19 20:09:25,902 root   WARNING  Examples of protected class ('status', 'female : divorced/separated/married') exhausted before convergence after 310 samples\n",
      "2023-01-19 20:09:43,158 root   WARNING  Examples of protected class ('status', 'male : single') exhausted before convergence after 548 samples\n",
      "2023-01-19 20:09:43,159 root   WARNING  Examples of protected class ('age', '> 25 years') exhausted before convergence after 810 samples\n"
     ]
    },
    {
     "name": "stdout",
     "output_type": "stream",
     "text": [
      "[#############-------] 2023-01-19 20:09:57.549055 - 4 of 6 reports (66.67% complete) - Running performance evaluation for model: german_credit_multiclass\n",
      "[################----] 2023-01-19 20:09:57.566751 - 5 of 6 reports (83.33% complete) - Running atx evaluation for model: german_credit_multiclass\n",
      "[####################] 2023-01-19 20:09:57.569749 - 6 of 6 reports (100.0% complete) - Completed all evaluations\n"
     ]
    }
   ],
   "source": [
    "# start the scan\n",
    "result = scan.run(base_path='.' , write_reports=True)"
   ]
  },
  {
   "cell_type": "markdown",
   "metadata": {},
   "source": [
    "## Visualize Results"
   ]
  },
  {
   "cell_type": "markdown",
   "metadata": {},
   "source": [
    "### fairness"
   ]
  },
  {
   "cell_type": "code",
   "execution_count": 18,
   "metadata": {
    "execution": {
     "iopub.execute_input": "2023-01-20T02:09:57.576874Z",
     "iopub.status.busy": "2023-01-20T02:09:57.576592Z",
     "iopub.status.idle": "2023-01-20T02:09:57.602602Z",
     "shell.execute_reply": "2023-01-20T02:09:57.602014Z"
    }
   },
   "outputs": [
    {
     "data": {
      "text/html": [
       "<div>\n",
       "<style scoped>\n",
       "    .dataframe tbody tr th:only-of-type {\n",
       "        vertical-align: middle;\n",
       "    }\n",
       "\n",
       "    .dataframe tbody tr th {\n",
       "        vertical-align: top;\n",
       "    }\n",
       "\n",
       "    .dataframe thead th {\n",
       "        text-align: right;\n",
       "    }\n",
       "</style>\n",
       "<table border=\"1\" class=\"dataframe\">\n",
       "  <thead>\n",
       "    <tr style=\"text-align: right;\">\n",
       "      <th></th>\n",
       "      <th>context</th>\n",
       "      <th>type</th>\n",
       "      <th>fairness</th>\n",
       "      <th>Feature (age)</th>\n",
       "      <th>Feature (age) lower bound</th>\n",
       "      <th>Feature (age) upper bound</th>\n",
       "      <th>type in Feature (age)</th>\n",
       "      <th>Group details (&lt;= 25 years)</th>\n",
       "      <th>Group details (&lt;= 25 years) lower bound</th>\n",
       "      <th>Group details (&lt;= 25 years) upper bound</th>\n",
       "      <th>...</th>\n",
       "      <th>Group details (male : divorced/separated) lower bound</th>\n",
       "      <th>Group details (male : divorced/separated) upper bound</th>\n",
       "      <th>type in Feature (status)</th>\n",
       "      <th>Group details (male : married/widowed)</th>\n",
       "      <th>Group details (male : married/widowed) lower bound</th>\n",
       "      <th>Group details (male : married/widowed) upper bound</th>\n",
       "      <th>type in Feature (status)</th>\n",
       "      <th>Group details (male : single)</th>\n",
       "      <th>Group details (male : single) lower bound</th>\n",
       "      <th>Group details (male : single) upper bound</th>\n",
       "    </tr>\n",
       "  </thead>\n",
       "  <tbody>\n",
       "    <tr>\n",
       "      <th>german_credit_multiclass (burden)</th>\n",
       "      <td>german_credit_multiclass</td>\n",
       "      <td>burden</td>\n",
       "      <td>73.098042</td>\n",
       "      <td>73.098042</td>\n",
       "      <td>66.423246</td>\n",
       "      <td>80.803324</td>\n",
       "      <td>burden</td>\n",
       "      <td>0.096419</td>\n",
       "      <td>0.084086</td>\n",
       "      <td>0.108157</td>\n",
       "      <td>...</td>\n",
       "      <td>0.053846</td>\n",
       "      <td>0.1</td>\n",
       "      <td>burden</td>\n",
       "      <td>0.041863</td>\n",
       "      <td>0.028709</td>\n",
       "      <td>0.055683</td>\n",
       "      <td>burden</td>\n",
       "      <td>0.054698</td>\n",
       "      <td>0.048562</td>\n",
       "      <td>0.061</td>\n",
       "    </tr>\n",
       "  </tbody>\n",
       "</table>\n",
       "<p>1 rows × 33 columns</p>\n",
       "</div>"
      ],
      "text/plain": [
       "                                                    context    type  \\\n",
       "german_credit_multiclass (burden)  german_credit_multiclass  burden   \n",
       "\n",
       "                                    fairness  Feature (age)  \\\n",
       "german_credit_multiclass (burden)  73.098042      73.098042   \n",
       "\n",
       "                                   Feature (age) lower bound  \\\n",
       "german_credit_multiclass (burden)                  66.423246   \n",
       "\n",
       "                                   Feature (age) upper bound  \\\n",
       "german_credit_multiclass (burden)                  80.803324   \n",
       "\n",
       "                                  type in Feature (age)  \\\n",
       "german_credit_multiclass (burden)                burden   \n",
       "\n",
       "                                   Group details (<= 25 years)  \\\n",
       "german_credit_multiclass (burden)                     0.096419   \n",
       "\n",
       "                                   Group details (<= 25 years) lower bound  \\\n",
       "german_credit_multiclass (burden)                                 0.084086   \n",
       "\n",
       "                                   Group details (<= 25 years) upper bound  \\\n",
       "german_credit_multiclass (burden)                                 0.108157   \n",
       "\n",
       "                                   ...  \\\n",
       "german_credit_multiclass (burden)  ...   \n",
       "\n",
       "                                  Group details (male : divorced/separated) lower bound  \\\n",
       "german_credit_multiclass (burden)                                           0.053846      \n",
       "\n",
       "                                   Group details (male : divorced/separated) upper bound  \\\n",
       "german_credit_multiclass (burden)                                                0.1       \n",
       "\n",
       "                                   type in Feature (status)  \\\n",
       "german_credit_multiclass (burden)                    burden   \n",
       "\n",
       "                                   Group details (male : married/widowed)  \\\n",
       "german_credit_multiclass (burden)                                0.041863   \n",
       "\n",
       "                                   Group details (male : married/widowed) lower bound  \\\n",
       "german_credit_multiclass (burden)                                           0.028709    \n",
       "\n",
       "                                   Group details (male : married/widowed) upper bound  \\\n",
       "german_credit_multiclass (burden)                                           0.055683    \n",
       "\n",
       "                                   type in Feature (status)  \\\n",
       "german_credit_multiclass (burden)                    burden   \n",
       "\n",
       "                                  Group details (male : single)  \\\n",
       "german_credit_multiclass (burden)                      0.054698   \n",
       "\n",
       "                                   Group details (male : single) lower bound  \\\n",
       "german_credit_multiclass (burden)                                   0.048562   \n",
       "\n",
       "                                   Group details (male : single) upper bound  \n",
       "german_credit_multiclass (burden)                                      0.061  \n",
       "\n",
       "[1 rows x 33 columns]"
      ]
     },
     "metadata": {},
     "output_type": "display_data"
    }
   ],
   "source": [
    "df_fairness = construct_scores_dataframe(scores('fairness', result), include_confidence=True)\n",
    "display(df_fairness)"
   ]
  },
  {
   "cell_type": "markdown",
   "metadata": {},
   "source": [
    "###  (fairness) status burdens by model"
   ]
  },
  {
   "cell_type": "code",
   "execution_count": 19,
   "metadata": {
    "execution": {
     "iopub.execute_input": "2023-01-20T02:09:57.605881Z",
     "iopub.status.busy": "2023-01-20T02:09:57.605676Z",
     "iopub.status.idle": "2023-01-20T02:09:58.121852Z",
     "shell.execute_reply": "2023-01-20T02:09:58.120158Z"
    }
   },
   "outputs": [
    {
     "data": {
      "text/html": [
       "<div>\n",
       "<style scoped>\n",
       "    .dataframe tbody tr th:only-of-type {\n",
       "        vertical-align: middle;\n",
       "    }\n",
       "\n",
       "    .dataframe tbody tr th {\n",
       "        vertical-align: top;\n",
       "    }\n",
       "\n",
       "    .dataframe thead th {\n",
       "        text-align: right;\n",
       "    }\n",
       "</style>\n",
       "<table border=\"1\" class=\"dataframe\">\n",
       "  <thead>\n",
       "    <tr style=\"text-align: right;\">\n",
       "      <th></th>\n",
       "      <th>context</th>\n",
       "      <th>type</th>\n",
       "      <th>fairness</th>\n",
       "      <th>Feature (age)</th>\n",
       "      <th>Feature (age) lower bound</th>\n",
       "      <th>Feature (age) upper bound</th>\n",
       "      <th>type in Feature (age)</th>\n",
       "      <th>Group details (&lt;= 25 years)</th>\n",
       "      <th>Group details (&lt;= 25 years) lower bound</th>\n",
       "      <th>Group details (&lt;= 25 years) upper bound</th>\n",
       "      <th>type in Feature (age)</th>\n",
       "      <th>Group details (&gt; 25 years)</th>\n",
       "      <th>Group details (&gt; 25 years) lower bound</th>\n",
       "      <th>Group details (&gt; 25 years) upper bound</th>\n",
       "      <th>Feature (status)</th>\n",
       "      <th>Feature (status) lower bound</th>\n",
       "      <th>Feature (status) upper bound</th>\n",
       "      <th>type in Feature (status)</th>\n",
       "      <th>Group details (female : divorced/separated/married)</th>\n",
       "      <th>Group details (female : divorced/separated/married) lower bound</th>\n",
       "      <th>Group details (female : divorced/separated/married) upper bound</th>\n",
       "      <th>type in Feature (status)</th>\n",
       "      <th>Group details (male : divorced/separated)</th>\n",
       "      <th>Group details (male : divorced/separated) lower bound</th>\n",
       "      <th>Group details (male : divorced/separated) upper bound</th>\n",
       "      <th>type in Feature (status)</th>\n",
       "      <th>Group details (male : married/widowed)</th>\n",
       "      <th>Group details (male : married/widowed) lower bound</th>\n",
       "      <th>Group details (male : married/widowed) upper bound</th>\n",
       "      <th>type in Feature (status)</th>\n",
       "      <th>Group details (male : single)</th>\n",
       "      <th>Group details (male : single) lower bound</th>\n",
       "      <th>Group details (male : single) upper bound</th>\n",
       "    </tr>\n",
       "  </thead>\n",
       "  <tbody>\n",
       "    <tr>\n",
       "      <th>german_credit_multiclass (burden)</th>\n",
       "      <td>german_credit_multiclass</td>\n",
       "      <td>burden</td>\n",
       "      <td>73.098042</td>\n",
       "      <td>73.098042</td>\n",
       "      <td>66.423246</td>\n",
       "      <td>80.803324</td>\n",
       "      <td>burden</td>\n",
       "      <td>0.096419</td>\n",
       "      <td>0.084086</td>\n",
       "      <td>0.108157</td>\n",
       "      <td>burden</td>\n",
       "      <td>0.055454</td>\n",
       "      <td>0.050338</td>\n",
       "      <td>0.060871</td>\n",
       "      <td>80.319882</td>\n",
       "      <td>72.480605</td>\n",
       "      <td>87.273055</td>\n",
       "      <td>burden</td>\n",
       "      <td>0.082582</td>\n",
       "      <td>0.073564</td>\n",
       "      <td>0.091792</td>\n",
       "      <td>burden</td>\n",
       "      <td>0.076</td>\n",
       "      <td>0.053846</td>\n",
       "      <td>0.1</td>\n",
       "      <td>burden</td>\n",
       "      <td>0.041863</td>\n",
       "      <td>0.028709</td>\n",
       "      <td>0.055683</td>\n",
       "      <td>burden</td>\n",
       "      <td>0.054698</td>\n",
       "      <td>0.048562</td>\n",
       "      <td>0.061</td>\n",
       "    </tr>\n",
       "  </tbody>\n",
       "</table>\n",
       "</div>"
      ],
      "text/plain": [
       "                                                    context    type  \\\n",
       "german_credit_multiclass (burden)  german_credit_multiclass  burden   \n",
       "\n",
       "                                    fairness  Feature (age)  \\\n",
       "german_credit_multiclass (burden)  73.098042      73.098042   \n",
       "\n",
       "                                   Feature (age) lower bound  \\\n",
       "german_credit_multiclass (burden)                  66.423246   \n",
       "\n",
       "                                   Feature (age) upper bound  \\\n",
       "german_credit_multiclass (burden)                  80.803324   \n",
       "\n",
       "                                  type in Feature (age)  \\\n",
       "german_credit_multiclass (burden)                burden   \n",
       "\n",
       "                                   Group details (<= 25 years)  \\\n",
       "german_credit_multiclass (burden)                     0.096419   \n",
       "\n",
       "                                   Group details (<= 25 years) lower bound  \\\n",
       "german_credit_multiclass (burden)                                 0.084086   \n",
       "\n",
       "                                   Group details (<= 25 years) upper bound  \\\n",
       "german_credit_multiclass (burden)                                 0.108157   \n",
       "\n",
       "                                  type in Feature (age)  \\\n",
       "german_credit_multiclass (burden)                burden   \n",
       "\n",
       "                                   Group details (> 25 years)  \\\n",
       "german_credit_multiclass (burden)                    0.055454   \n",
       "\n",
       "                                   Group details (> 25 years) lower bound  \\\n",
       "german_credit_multiclass (burden)                                0.050338   \n",
       "\n",
       "                                   Group details (> 25 years) upper bound  \\\n",
       "german_credit_multiclass (burden)                                0.060871   \n",
       "\n",
       "                                   Feature (status)  \\\n",
       "german_credit_multiclass (burden)         80.319882   \n",
       "\n",
       "                                   Feature (status) lower bound  \\\n",
       "german_credit_multiclass (burden)                     72.480605   \n",
       "\n",
       "                                   Feature (status) upper bound  \\\n",
       "german_credit_multiclass (burden)                     87.273055   \n",
       "\n",
       "                                  type in Feature (status)  \\\n",
       "german_credit_multiclass (burden)                   burden   \n",
       "\n",
       "                                   Group details (female : divorced/separated/married)  \\\n",
       "german_credit_multiclass (burden)                                           0.082582     \n",
       "\n",
       "                                   Group details (female : divorced/separated/married) lower bound  \\\n",
       "german_credit_multiclass (burden)                                           0.073564                 \n",
       "\n",
       "                                   Group details (female : divorced/separated/married) upper bound  \\\n",
       "german_credit_multiclass (burden)                                           0.091792                 \n",
       "\n",
       "                                  type in Feature (status)  \\\n",
       "german_credit_multiclass (burden)                   burden   \n",
       "\n",
       "                                   Group details (male : divorced/separated)  \\\n",
       "german_credit_multiclass (burden)                                      0.076   \n",
       "\n",
       "                                   Group details (male : divorced/separated) lower bound  \\\n",
       "german_credit_multiclass (burden)                                           0.053846       \n",
       "\n",
       "                                   Group details (male : divorced/separated) upper bound  \\\n",
       "german_credit_multiclass (burden)                                                0.1       \n",
       "\n",
       "                                  type in Feature (status)  \\\n",
       "german_credit_multiclass (burden)                   burden   \n",
       "\n",
       "                                   Group details (male : married/widowed)  \\\n",
       "german_credit_multiclass (burden)                                0.041863   \n",
       "\n",
       "                                   Group details (male : married/widowed) lower bound  \\\n",
       "german_credit_multiclass (burden)                                           0.028709    \n",
       "\n",
       "                                   Group details (male : married/widowed) upper bound  \\\n",
       "german_credit_multiclass (burden)                                           0.055683    \n",
       "\n",
       "                                  type in Feature (status)  \\\n",
       "german_credit_multiclass (burden)                   burden   \n",
       "\n",
       "                                   Group details (male : single)  \\\n",
       "german_credit_multiclass (burden)                       0.054698   \n",
       "\n",
       "                                   Group details (male : single) lower bound  \\\n",
       "german_credit_multiclass (burden)                                   0.048562   \n",
       "\n",
       "                                   Group details (male : single) upper bound  \n",
       "german_credit_multiclass (burden)                                      0.061  "
      ]
     },
     "metadata": {},
     "output_type": "display_data"
    },
    {
     "data": {
      "image/png": "[encoded data removed]",
      "text/plain": [
       "<Figure size 1200x400 with 1 Axes>"
      ]
     },
     "metadata": {},
     "output_type": "display_data"
    }
   ],
   "source": [
    "%matplotlib inline\n",
    "pd.set_option('display.max_column', 100)\n",
    "display(df_fairness)\n",
    "\n",
    "# since status is a target encoded variable;\n",
    "# for plotting values in non-encoded space we make use of the `target_mappings` dict\n",
    "\n",
    "groups  = list(target_mappings['status'].keys())\n",
    "\n",
    "feature_scores = df_fairness[[f\"Group details ({g})\" for g in groups]]\n",
    "feature_lower_bounds = df_fairness[[f + ' lower bound' for f in feature_scores]]\n",
    "feature_upper_bounds = df_fairness[[f + ' upper bound' for f in feature_scores]]\n",
    "\n",
    "fig, ax = plt.subplots(figsize=[12,4])\n",
    "ax.set_title('status burdens by model', fontsize=20)\n",
    "colors = ['tab:blue', 'tab:orange', 'tab:green', 'tab:red', 'tab:pink']\n",
    "width = 0.4\n",
    "\n",
    "ax.set_xticks(np.arange(len(groups))+width)\n",
    "ax.set_xticklabels(groups)\n",
    "\n",
    "for idx in range(len(df_fairness)):\n",
    "    central_values = list(feature_scores.iloc[idx])\n",
    "    lower_bounds = list(feature_lower_bounds.iloc[idx])\n",
    "    upper_bounds = list(feature_upper_bounds.iloc[idx])\n",
    "    lower_errors = [central_values[i] - lower_bounds[i] for i in range(len(central_values))]\n",
    "    upper_errors = [upper_bounds[i] - central_values[i] for i in range(len(central_values))]\n",
    "\n",
    "    ax.bar([width/2+idx*width+f_idx for f_idx in range(len(groups))],\n",
    "            central_values,\n",
    "            width,\n",
    "            yerr=[lower_errors, upper_errors],\n",
    "            color=colors[idx],\n",
    "            label=df_fairness.index[idx],\n",
    "            capsize=10)\n",
    "\n",
    "fig.legend(fontsize=14, bbox_to_anchor=(1.1,.6))\n",
    "fig.tight_layout()\n",
    "fig.subplots_adjust(right=0.8) \n",
    "plt.show()"
   ]
  },
  {
   "cell_type": "markdown",
   "metadata": {},
   "source": [
    "### (fairness) age burdens by model"
   ]
  },
  {
   "cell_type": "code",
   "execution_count": 20,
   "metadata": {
    "execution": {
     "iopub.execute_input": "2023-01-20T02:09:58.128035Z",
     "iopub.status.busy": "2023-01-20T02:09:58.127679Z",
     "iopub.status.idle": "2023-01-20T02:09:58.313774Z",
     "shell.execute_reply": "2023-01-20T02:09:58.312994Z"
    },
    "scrolled": false
   },
   "outputs": [
    {
     "data": {
      "text/html": [
       "<div>\n",
       "<style scoped>\n",
       "    .dataframe tbody tr th:only-of-type {\n",
       "        vertical-align: middle;\n",
       "    }\n",
       "\n",
       "    .dataframe tbody tr th {\n",
       "        vertical-align: top;\n",
       "    }\n",
       "\n",
       "    .dataframe thead th {\n",
       "        text-align: right;\n",
       "    }\n",
       "</style>\n",
       "<table border=\"1\" class=\"dataframe\">\n",
       "  <thead>\n",
       "    <tr style=\"text-align: right;\">\n",
       "      <th></th>\n",
       "      <th>context</th>\n",
       "      <th>type</th>\n",
       "      <th>fairness</th>\n",
       "      <th>Feature (age)</th>\n",
       "      <th>Feature (age) lower bound</th>\n",
       "      <th>Feature (age) upper bound</th>\n",
       "      <th>type in Feature (age)</th>\n",
       "      <th>Group details (&lt;= 25 years)</th>\n",
       "      <th>Group details (&lt;= 25 years) lower bound</th>\n",
       "      <th>Group details (&lt;= 25 years) upper bound</th>\n",
       "      <th>type in Feature (age)</th>\n",
       "      <th>Group details (&gt; 25 years)</th>\n",
       "      <th>Group details (&gt; 25 years) lower bound</th>\n",
       "      <th>Group details (&gt; 25 years) upper bound</th>\n",
       "      <th>Feature (status)</th>\n",
       "      <th>Feature (status) lower bound</th>\n",
       "      <th>Feature (status) upper bound</th>\n",
       "      <th>type in Feature (status)</th>\n",
       "      <th>Group details (female : divorced/separated/married)</th>\n",
       "      <th>Group details (female : divorced/separated/married) lower bound</th>\n",
       "      <th>Group details (female : divorced/separated/married) upper bound</th>\n",
       "      <th>type in Feature (status)</th>\n",
       "      <th>Group details (male : divorced/separated)</th>\n",
       "      <th>Group details (male : divorced/separated) lower bound</th>\n",
       "      <th>Group details (male : divorced/separated) upper bound</th>\n",
       "      <th>type in Feature (status)</th>\n",
       "      <th>Group details (male : married/widowed)</th>\n",
       "      <th>Group details (male : married/widowed) lower bound</th>\n",
       "      <th>Group details (male : married/widowed) upper bound</th>\n",
       "      <th>type in Feature (status)</th>\n",
       "      <th>Group details (male : single)</th>\n",
       "      <th>Group details (male : single) lower bound</th>\n",
       "      <th>Group details (male : single) upper bound</th>\n",
       "    </tr>\n",
       "  </thead>\n",
       "  <tbody>\n",
       "    <tr>\n",
       "      <th>german_credit_multiclass (burden)</th>\n",
       "      <td>german_credit_multiclass</td>\n",
       "      <td>burden</td>\n",
       "      <td>73.098042</td>\n",
       "      <td>73.098042</td>\n",
       "      <td>66.423246</td>\n",
       "      <td>80.803324</td>\n",
       "      <td>burden</td>\n",
       "      <td>0.096419</td>\n",
       "      <td>0.084086</td>\n",
       "      <td>0.108157</td>\n",
       "      <td>burden</td>\n",
       "      <td>0.055454</td>\n",
       "      <td>0.050338</td>\n",
       "      <td>0.060871</td>\n",
       "      <td>80.319882</td>\n",
       "      <td>72.480605</td>\n",
       "      <td>87.273055</td>\n",
       "      <td>burden</td>\n",
       "      <td>0.082582</td>\n",
       "      <td>0.073564</td>\n",
       "      <td>0.091792</td>\n",
       "      <td>burden</td>\n",
       "      <td>0.076</td>\n",
       "      <td>0.053846</td>\n",
       "      <td>0.1</td>\n",
       "      <td>burden</td>\n",
       "      <td>0.041863</td>\n",
       "      <td>0.028709</td>\n",
       "      <td>0.055683</td>\n",
       "      <td>burden</td>\n",
       "      <td>0.054698</td>\n",
       "      <td>0.048562</td>\n",
       "      <td>0.061</td>\n",
       "    </tr>\n",
       "  </tbody>\n",
       "</table>\n",
       "</div>"
      ],
      "text/plain": [
       "                                                    context    type  \\\n",
       "german_credit_multiclass (burden)  german_credit_multiclass  burden   \n",
       "\n",
       "                                    fairness  Feature (age)  \\\n",
       "german_credit_multiclass (burden)  73.098042      73.098042   \n",
       "\n",
       "                                   Feature (age) lower bound  \\\n",
       "german_credit_multiclass (burden)                  66.423246   \n",
       "\n",
       "                                   Feature (age) upper bound  \\\n",
       "german_credit_multiclass (burden)                  80.803324   \n",
       "\n",
       "                                  type in Feature (age)  \\\n",
       "german_credit_multiclass (burden)                burden   \n",
       "\n",
       "                                   Group details (<= 25 years)  \\\n",
       "german_credit_multiclass (burden)                     0.096419   \n",
       "\n",
       "                                   Group details (<= 25 years) lower bound  \\\n",
       "german_credit_multiclass (burden)                                 0.084086   \n",
       "\n",
       "                                   Group details (<= 25 years) upper bound  \\\n",
       "german_credit_multiclass (burden)                                 0.108157   \n",
       "\n",
       "                                  type in Feature (age)  \\\n",
       "german_credit_multiclass (burden)                burden   \n",
       "\n",
       "                                   Group details (> 25 years)  \\\n",
       "german_credit_multiclass (burden)                    0.055454   \n",
       "\n",
       "                                   Group details (> 25 years) lower bound  \\\n",
       "german_credit_multiclass (burden)                                0.050338   \n",
       "\n",
       "                                   Group details (> 25 years) upper bound  \\\n",
       "german_credit_multiclass (burden)                                0.060871   \n",
       "\n",
       "                                   Feature (status)  \\\n",
       "german_credit_multiclass (burden)         80.319882   \n",
       "\n",
       "                                   Feature (status) lower bound  \\\n",
       "german_credit_multiclass (burden)                     72.480605   \n",
       "\n",
       "                                   Feature (status) upper bound  \\\n",
       "german_credit_multiclass (burden)                     87.273055   \n",
       "\n",
       "                                  type in Feature (status)  \\\n",
       "german_credit_multiclass (burden)                   burden   \n",
       "\n",
       "                                   Group details (female : divorced/separated/married)  \\\n",
       "german_credit_multiclass (burden)                                           0.082582     \n",
       "\n",
       "                                   Group details (female : divorced/separated/married) lower bound  \\\n",
       "german_credit_multiclass (burden)                                           0.073564                 \n",
       "\n",
       "                                   Group details (female : divorced/separated/married) upper bound  \\\n",
       "german_credit_multiclass (burden)                                           0.091792                 \n",
       "\n",
       "                                  type in Feature (status)  \\\n",
       "german_credit_multiclass (burden)                   burden   \n",
       "\n",
       "                                   Group details (male : divorced/separated)  \\\n",
       "german_credit_multiclass (burden)                                      0.076   \n",
       "\n",
       "                                   Group details (male : divorced/separated) lower bound  \\\n",
       "german_credit_multiclass (burden)                                           0.053846       \n",
       "\n",
       "                                   Group details (male : divorced/separated) upper bound  \\\n",
       "german_credit_multiclass (burden)                                                0.1       \n",
       "\n",
       "                                  type in Feature (status)  \\\n",
       "german_credit_multiclass (burden)                   burden   \n",
       "\n",
       "                                   Group details (male : married/widowed)  \\\n",
       "german_credit_multiclass (burden)                                0.041863   \n",
       "\n",
       "                                   Group details (male : married/widowed) lower bound  \\\n",
       "german_credit_multiclass (burden)                                           0.028709    \n",
       "\n",
       "                                   Group details (male : married/widowed) upper bound  \\\n",
       "german_credit_multiclass (burden)                                           0.055683    \n",
       "\n",
       "                                  type in Feature (status)  \\\n",
       "german_credit_multiclass (burden)                   burden   \n",
       "\n",
       "                                   Group details (male : single)  \\\n",
       "german_credit_multiclass (burden)                       0.054698   \n",
       "\n",
       "                                   Group details (male : single) lower bound  \\\n",
       "german_credit_multiclass (burden)                                   0.048562   \n",
       "\n",
       "                                   Group details (male : single) upper bound  \n",
       "german_credit_multiclass (burden)                                      0.061  "
      ]
     },
     "metadata": {},
     "output_type": "display_data"
    },
    {
     "data": {
      "image/png": "[encoded data removed]",
      "text/plain": [
       "<Figure size 1200x400 with 1 Axes>"
      ]
     },
     "metadata": {},
     "output_type": "display_data"
    }
   ],
   "source": [
    "%matplotlib inline\n",
    "display(df_fairness)\n",
    "# since age is a one-hot encoded variable;\n",
    "# for plotting values in non-encoded space we make use of the `one_hot_value_mappings` dict\n",
    "\n",
    "groups_disp, groups  = list(one_hot_value_mappings['age'].keys()), list(one_hot_value_mappings['age'].values())\n",
    "\n",
    "feature_scores = df_fairness[[f\"Group details ({g})\" for g in groups]]\n",
    "feature_lower_bounds = df_fairness[[f + ' lower bound' for f in feature_scores]]\n",
    "feature_upper_bounds = df_fairness[[f + ' upper bound' for f in feature_scores]]\n",
    "\n",
    "fig, ax = plt.subplots(figsize=[12,4])\n",
    "ax.set_title('age burdens by model', fontsize=20)\n",
    "colors = ['tab:blue', 'tab:orange', 'tab:green', 'tab:red', 'tab:pink']\n",
    "width = 0.4\n",
    "\n",
    "ax.set_xticks(np.arange(len(groups))+width)\n",
    "ax.set_xticklabels(groups_disp)\n",
    "\n",
    "for idx in range(len(df_fairness)):\n",
    "    central_values = list(feature_scores.iloc[idx])\n",
    "    lower_bounds = list(feature_lower_bounds.iloc[idx])\n",
    "    upper_bounds = list(feature_upper_bounds.iloc[idx])\n",
    "    lower_errors = [central_values[i] - lower_bounds[i] for i in range(len(central_values))]\n",
    "    upper_errors = [upper_bounds[i] - central_values[i] for i in range(len(central_values))]\n",
    "\n",
    "    ax.bar([width/2+idx*width+f_idx for f_idx in range(len(groups))],\n",
    "            central_values,\n",
    "            width,\n",
    "            yerr=[lower_errors, upper_errors],\n",
    "            color=colors[idx],\n",
    "            label=df_fairness.index[idx],\n",
    "            capsize=10)\n",
    "\n",
    "fig.legend(fontsize=14, bbox_to_anchor=(1.1,.6))\n",
    "fig.tight_layout()\n",
    "fig.subplots_adjust(right=0.8) \n",
    "plt.show()"
   ]
  },
  {
   "cell_type": "markdown",
   "metadata": {},
   "source": [
    "### Feature Fairness by model "
   ]
  },
  {
   "cell_type": "code",
   "execution_count": 21,
   "metadata": {
    "execution": {
     "iopub.execute_input": "2023-01-20T02:09:58.317401Z",
     "iopub.status.busy": "2023-01-20T02:09:58.317158Z",
     "iopub.status.idle": "2023-01-20T02:09:58.497600Z",
     "shell.execute_reply": "2023-01-20T02:09:58.496906Z"
    }
   },
   "outputs": [
    {
     "data": {
      "text/html": [
       "<div>\n",
       "<style scoped>\n",
       "    .dataframe tbody tr th:only-of-type {\n",
       "        vertical-align: middle;\n",
       "    }\n",
       "\n",
       "    .dataframe tbody tr th {\n",
       "        vertical-align: top;\n",
       "    }\n",
       "\n",
       "    .dataframe thead th {\n",
       "        text-align: right;\n",
       "    }\n",
       "</style>\n",
       "<table border=\"1\" class=\"dataframe\">\n",
       "  <thead>\n",
       "    <tr style=\"text-align: right;\">\n",
       "      <th></th>\n",
       "      <th>context</th>\n",
       "      <th>type</th>\n",
       "      <th>fairness</th>\n",
       "      <th>Feature (age)</th>\n",
       "      <th>Feature (age) lower bound</th>\n",
       "      <th>Feature (age) upper bound</th>\n",
       "      <th>type in Feature (age)</th>\n",
       "      <th>Group details (&lt;= 25 years)</th>\n",
       "      <th>Group details (&lt;= 25 years) lower bound</th>\n",
       "      <th>Group details (&lt;= 25 years) upper bound</th>\n",
       "      <th>type in Feature (age)</th>\n",
       "      <th>Group details (&gt; 25 years)</th>\n",
       "      <th>Group details (&gt; 25 years) lower bound</th>\n",
       "      <th>Group details (&gt; 25 years) upper bound</th>\n",
       "      <th>Feature (status)</th>\n",
       "      <th>Feature (status) lower bound</th>\n",
       "      <th>Feature (status) upper bound</th>\n",
       "      <th>type in Feature (status)</th>\n",
       "      <th>Group details (female : divorced/separated/married)</th>\n",
       "      <th>Group details (female : divorced/separated/married) lower bound</th>\n",
       "      <th>Group details (female : divorced/separated/married) upper bound</th>\n",
       "      <th>type in Feature (status)</th>\n",
       "      <th>Group details (male : divorced/separated)</th>\n",
       "      <th>Group details (male : divorced/separated) lower bound</th>\n",
       "      <th>Group details (male : divorced/separated) upper bound</th>\n",
       "      <th>type in Feature (status)</th>\n",
       "      <th>Group details (male : married/widowed)</th>\n",
       "      <th>Group details (male : married/widowed) lower bound</th>\n",
       "      <th>Group details (male : married/widowed) upper bound</th>\n",
       "      <th>type in Feature (status)</th>\n",
       "      <th>Group details (male : single)</th>\n",
       "      <th>Group details (male : single) lower bound</th>\n",
       "      <th>Group details (male : single) upper bound</th>\n",
       "    </tr>\n",
       "  </thead>\n",
       "  <tbody>\n",
       "    <tr>\n",
       "      <th>german_credit_multiclass (burden)</th>\n",
       "      <td>german_credit_multiclass</td>\n",
       "      <td>burden</td>\n",
       "      <td>73.098042</td>\n",
       "      <td>73.098042</td>\n",
       "      <td>66.423246</td>\n",
       "      <td>80.803324</td>\n",
       "      <td>burden</td>\n",
       "      <td>0.096419</td>\n",
       "      <td>0.084086</td>\n",
       "      <td>0.108157</td>\n",
       "      <td>burden</td>\n",
       "      <td>0.055454</td>\n",
       "      <td>0.050338</td>\n",
       "      <td>0.060871</td>\n",
       "      <td>80.319882</td>\n",
       "      <td>72.480605</td>\n",
       "      <td>87.273055</td>\n",
       "      <td>burden</td>\n",
       "      <td>0.082582</td>\n",
       "      <td>0.073564</td>\n",
       "      <td>0.091792</td>\n",
       "      <td>burden</td>\n",
       "      <td>0.076</td>\n",
       "      <td>0.053846</td>\n",
       "      <td>0.1</td>\n",
       "      <td>burden</td>\n",
       "      <td>0.041863</td>\n",
       "      <td>0.028709</td>\n",
       "      <td>0.055683</td>\n",
       "      <td>burden</td>\n",
       "      <td>0.054698</td>\n",
       "      <td>0.048562</td>\n",
       "      <td>0.061</td>\n",
       "    </tr>\n",
       "  </tbody>\n",
       "</table>\n",
       "</div>"
      ],
      "text/plain": [
       "                                                    context    type  \\\n",
       "german_credit_multiclass (burden)  german_credit_multiclass  burden   \n",
       "\n",
       "                                    fairness  Feature (age)  \\\n",
       "german_credit_multiclass (burden)  73.098042      73.098042   \n",
       "\n",
       "                                   Feature (age) lower bound  \\\n",
       "german_credit_multiclass (burden)                  66.423246   \n",
       "\n",
       "                                   Feature (age) upper bound  \\\n",
       "german_credit_multiclass (burden)                  80.803324   \n",
       "\n",
       "                                  type in Feature (age)  \\\n",
       "german_credit_multiclass (burden)                burden   \n",
       "\n",
       "                                   Group details (<= 25 years)  \\\n",
       "german_credit_multiclass (burden)                     0.096419   \n",
       "\n",
       "                                   Group details (<= 25 years) lower bound  \\\n",
       "german_credit_multiclass (burden)                                 0.084086   \n",
       "\n",
       "                                   Group details (<= 25 years) upper bound  \\\n",
       "german_credit_multiclass (burden)                                 0.108157   \n",
       "\n",
       "                                  type in Feature (age)  \\\n",
       "german_credit_multiclass (burden)                burden   \n",
       "\n",
       "                                   Group details (> 25 years)  \\\n",
       "german_credit_multiclass (burden)                    0.055454   \n",
       "\n",
       "                                   Group details (> 25 years) lower bound  \\\n",
       "german_credit_multiclass (burden)                                0.050338   \n",
       "\n",
       "                                   Group details (> 25 years) upper bound  \\\n",
       "german_credit_multiclass (burden)                                0.060871   \n",
       "\n",
       "                                   Feature (status)  \\\n",
       "german_credit_multiclass (burden)         80.319882   \n",
       "\n",
       "                                   Feature (status) lower bound  \\\n",
       "german_credit_multiclass (burden)                     72.480605   \n",
       "\n",
       "                                   Feature (status) upper bound  \\\n",
       "german_credit_multiclass (burden)                     87.273055   \n",
       "\n",
       "                                  type in Feature (status)  \\\n",
       "german_credit_multiclass (burden)                   burden   \n",
       "\n",
       "                                   Group details (female : divorced/separated/married)  \\\n",
       "german_credit_multiclass (burden)                                           0.082582     \n",
       "\n",
       "                                   Group details (female : divorced/separated/married) lower bound  \\\n",
       "german_credit_multiclass (burden)                                           0.073564                 \n",
       "\n",
       "                                   Group details (female : divorced/separated/married) upper bound  \\\n",
       "german_credit_multiclass (burden)                                           0.091792                 \n",
       "\n",
       "                                  type in Feature (status)  \\\n",
       "german_credit_multiclass (burden)                   burden   \n",
       "\n",
       "                                   Group details (male : divorced/separated)  \\\n",
       "german_credit_multiclass (burden)                                      0.076   \n",
       "\n",
       "                                   Group details (male : divorced/separated) lower bound  \\\n",
       "german_credit_multiclass (burden)                                           0.053846       \n",
       "\n",
       "                                   Group details (male : divorced/separated) upper bound  \\\n",
       "german_credit_multiclass (burden)                                                0.1       \n",
       "\n",
       "                                  type in Feature (status)  \\\n",
       "german_credit_multiclass (burden)                   burden   \n",
       "\n",
       "                                   Group details (male : married/widowed)  \\\n",
       "german_credit_multiclass (burden)                                0.041863   \n",
       "\n",
       "                                   Group details (male : married/widowed) lower bound  \\\n",
       "german_credit_multiclass (burden)                                           0.028709    \n",
       "\n",
       "                                   Group details (male : married/widowed) upper bound  \\\n",
       "german_credit_multiclass (burden)                                           0.055683    \n",
       "\n",
       "                                  type in Feature (status)  \\\n",
       "german_credit_multiclass (burden)                   burden   \n",
       "\n",
       "                                   Group details (male : single)  \\\n",
       "german_credit_multiclass (burden)                       0.054698   \n",
       "\n",
       "                                   Group details (male : single) lower bound  \\\n",
       "german_credit_multiclass (burden)                                   0.048562   \n",
       "\n",
       "                                   Group details (male : single) upper bound  \n",
       "german_credit_multiclass (burden)                                      0.061  "
      ]
     },
     "metadata": {},
     "output_type": "display_data"
    },
    {
     "name": "stdout",
     "output_type": "stream",
     "text": [
      "\n",
      "\n"
     ]
    },
    {
     "data": {
      "image/png": "[encoded data removed]",
      "text/plain": [
       "<Figure size 1200x400 with 1 Axes>"
      ]
     },
     "metadata": {},
     "output_type": "display_data"
    }
   ],
   "source": [
    "display(df_fairness)\n",
    "\n",
    "print(\"\\n\")\n",
    "\n",
    "# Let's chart the fairness measure by feature for each model together with its confidence bounds for\n",
    "# easier visual comparison:\n",
    "%matplotlib inline\n",
    "import matplotlib.pyplot as plt\n",
    "\n",
    "features = ['Feature (age)', 'Feature (status)']\n",
    "feature_scores = df_fairness[features]\n",
    "feature_lower_bounds = df_fairness[[f + ' lower bound' for f in features]]\n",
    "feature_upper_bounds = df_fairness[[f + ' upper bound' for f in features]]\n",
    "\n",
    "fig, ax = plt.subplots(figsize=[12,4])\n",
    "ax.set_title('Feature fairness by model', fontsize=20)\n",
    "colors = ['tab:blue', 'tab:orange', 'tab:green', 'tab:red', 'tab:pink']\n",
    "width = 0.4\n",
    "\n",
    "ax.set_xticks(np.arange(len(features))+width)\n",
    "ax.set_xticklabels(features)\n",
    "\n",
    "for idx in range(len(df_fairness)):\n",
    "    central_values = list(feature_scores.iloc[idx])\n",
    "    lower_bounds = list(feature_lower_bounds.iloc[idx])\n",
    "    upper_bounds = list(feature_upper_bounds.iloc[idx])\n",
    "    lower_errors = [central_values[i] - lower_bounds[i] for i in range(len(central_values))]\n",
    "    upper_errors = [upper_bounds[i] - central_values[i] for i in range(len(central_values))]\n",
    "\n",
    "    ax.bar([width/2+idx*width+f_idx for f_idx in range(len(features))],\n",
    "            central_values,\n",
    "            width,\n",
    "            yerr=[lower_errors, upper_errors],\n",
    "            color=colors[idx],\n",
    "            label=df_fairness.index[idx],\n",
    "            capsize=10)\n",
    "\n",
    "fig.legend(fontsize=14, bbox_to_anchor=(1.1,.6))\n",
    "fig.tight_layout()\n",
    "fig.subplots_adjust(right=0.8) \n",
    "plt.show()"
   ]
  },
  {
   "cell_type": "markdown",
   "metadata": {},
   "source": [
    "### Robustness by model\n",
    "\n",
    "- The following cell shows how to extract Certifai Robustness Score from the scan results object\n",
    "- The high Robustness score indicates the given model needs to change larger no. of features to alter the prediction outcomes\n",
    "- please refer to official documentation for [Certifai Robustness](https://cognitivescale.github.io/cortex-certifai/docs/information/factors/robustness)"
   ]
  },
  {
   "cell_type": "code",
   "execution_count": 22,
   "metadata": {
    "execution": {
     "iopub.execute_input": "2023-01-20T02:09:58.501317Z",
     "iopub.status.busy": "2023-01-20T02:09:58.501071Z",
     "iopub.status.idle": "2023-01-20T02:09:58.686054Z",
     "shell.execute_reply": "2023-01-20T02:09:58.685345Z"
    }
   },
   "outputs": [
    {
     "data": {
      "text/html": [
       "<div>\n",
       "<style scoped>\n",
       "    .dataframe tbody tr th:only-of-type {\n",
       "        vertical-align: middle;\n",
       "    }\n",
       "\n",
       "    .dataframe tbody tr th {\n",
       "        vertical-align: top;\n",
       "    }\n",
       "\n",
       "    .dataframe thead th {\n",
       "        text-align: right;\n",
       "    }\n",
       "</style>\n",
       "<table border=\"1\" class=\"dataframe\">\n",
       "  <thead>\n",
       "    <tr style=\"text-align: right;\">\n",
       "      <th></th>\n",
       "      <th>context</th>\n",
       "      <th>robustness</th>\n",
       "      <th>robustness lower bound</th>\n",
       "      <th>robustness upper bound</th>\n",
       "    </tr>\n",
       "  </thead>\n",
       "  <tbody>\n",
       "    <tr>\n",
       "      <th>german_credit_multiclass</th>\n",
       "      <td>german_credit_multiclass</td>\n",
       "      <td>82.430915</td>\n",
       "      <td>78.420941</td>\n",
       "      <td>86.227454</td>\n",
       "    </tr>\n",
       "  </tbody>\n",
       "</table>\n",
       "</div>"
      ],
      "text/plain": [
       "                                           context  robustness  \\\n",
       "german_credit_multiclass  german_credit_multiclass   82.430915   \n",
       "\n",
       "                          robustness lower bound  robustness upper bound  \n",
       "german_credit_multiclass               78.420941               86.227454  "
      ]
     },
     "metadata": {},
     "output_type": "display_data"
    },
    {
     "data": {
      "image/png": "[encoded data removed]",
      "text/plain": [
       "<Figure size 1200x400 with 1 Axes>"
      ]
     },
     "metadata": {},
     "output_type": "display_data"
    }
   ],
   "source": [
    "df_robustness = construct_scores_dataframe(scores('robustness', result), include_confidence=True)\n",
    "display(df_robustness)\n",
    "\n",
    "%matplotlib inline\n",
    "import matplotlib.pyplot as plt\n",
    "\n",
    "features = ['robustness']\n",
    "feature_scores = df_robustness[features]\n",
    "feature_lower_bounds = df_robustness[[f + ' lower bound' for f in features]]\n",
    "feature_upper_bounds = df_robustness[[f + ' upper bound' for f in features]]\n",
    "\n",
    "fig, ax = plt.subplots(figsize=[12,4])\n",
    "ax.set_title('Robustness', fontsize=20)\n",
    "colors = ['tab:blue', 'tab:orange', 'tab:green', 'tab:red', 'tab:pink']\n",
    "width = 0.4\n",
    "\n",
    "ax.set_xticks(np.arange(len(features))+width)\n",
    "ax.set_xticklabels(features)\n",
    "\n",
    "for idx in range(len(df_robustness)):\n",
    "    central_values = list(feature_scores.iloc[idx])\n",
    "    lower_bounds = list(feature_lower_bounds.iloc[idx])\n",
    "    upper_bounds = list(feature_upper_bounds.iloc[idx])\n",
    "    lower_errors = [central_values[i] - lower_bounds[i] for i in range(len(central_values))]\n",
    "    upper_errors = [upper_bounds[i] - central_values[i] for i in range(len(central_values))]\n",
    "\n",
    "    ax.errorbar([width/2+idx*width+f_idx for f_idx in range(len(features))],\n",
    "            central_values,\n",
    "            yerr=[lower_errors, upper_errors],\n",
    "            color=colors[idx],\n",
    "            label=df_robustness.index[idx],\n",
    "            capsize=10)\n",
    "    \n",
    "    ax.scatter([width/2+idx*width+f_idx for f_idx in range(len(features))], central_values,s=500)\n",
    "\n",
    "fig.legend(fontsize=14, bbox_to_anchor=(1.1,.6))\n",
    "fig.tight_layout()\n",
    "fig.subplots_adjust(right=0.8) \n",
    "plt.show()"
   ]
  },
  {
   "cell_type": "markdown",
   "metadata": {},
   "source": [
    "### Explainability by model \n",
    "\n",
    "- the following cell shows how to extract Certifai Explainability Score from the scan results object\n",
    "- please refer to official documentation for [Certifai Explainability](https://cognitivescale.github.io/cortex-certifai/docs/information/factors/explainability)"
   ]
  },
  {
   "cell_type": "code",
   "execution_count": 23,
   "metadata": {
    "execution": {
     "iopub.execute_input": "2023-01-20T02:09:58.689871Z",
     "iopub.status.busy": "2023-01-20T02:09:58.689651Z",
     "iopub.status.idle": "2023-01-20T02:09:58.923693Z",
     "shell.execute_reply": "2023-01-20T02:09:58.922986Z"
    }
   },
   "outputs": [
    {
     "data": {
      "text/html": [
       "<div>\n",
       "<style scoped>\n",
       "    .dataframe tbody tr th:only-of-type {\n",
       "        vertical-align: middle;\n",
       "    }\n",
       "\n",
       "    .dataframe tbody tr th {\n",
       "        vertical-align: top;\n",
       "    }\n",
       "\n",
       "    .dataframe thead th {\n",
       "        text-align: right;\n",
       "    }\n",
       "</style>\n",
       "<table border=\"1\" class=\"dataframe\">\n",
       "  <thead>\n",
       "    <tr style=\"text-align: right;\">\n",
       "      <th></th>\n",
       "      <th>context</th>\n",
       "      <th>explainability</th>\n",
       "      <th>Num features (1)</th>\n",
       "      <th>Num features (10)</th>\n",
       "      <th>Num features (2)</th>\n",
       "      <th>Num features (3)</th>\n",
       "      <th>Num features (4)</th>\n",
       "      <th>Num features (5)</th>\n",
       "      <th>Num features (6)</th>\n",
       "      <th>Num features (7)</th>\n",
       "      <th>Num features (8)</th>\n",
       "      <th>Num features (9)</th>\n",
       "    </tr>\n",
       "  </thead>\n",
       "  <tbody>\n",
       "    <tr>\n",
       "      <th>german_credit_multiclass</th>\n",
       "      <td>german_credit_multiclass</td>\n",
       "      <td>96.445312</td>\n",
       "      <td>70.3125</td>\n",
       "      <td>0.0</td>\n",
       "      <td>25.78125</td>\n",
       "      <td>3.90625</td>\n",
       "      <td>0.0</td>\n",
       "      <td>0.0</td>\n",
       "      <td>0.0</td>\n",
       "      <td>0.0</td>\n",
       "      <td>0.0</td>\n",
       "      <td>0.0</td>\n",
       "    </tr>\n",
       "  </tbody>\n",
       "</table>\n",
       "</div>"
      ],
      "text/plain": [
       "                                           context  explainability  \\\n",
       "german_credit_multiclass  german_credit_multiclass       96.445312   \n",
       "\n",
       "                          Num features (1)  Num features (10)  \\\n",
       "german_credit_multiclass           70.3125                0.0   \n",
       "\n",
       "                          Num features (2)  Num features (3)  \\\n",
       "german_credit_multiclass          25.78125           3.90625   \n",
       "\n",
       "                          Num features (4)  Num features (5)  \\\n",
       "german_credit_multiclass               0.0               0.0   \n",
       "\n",
       "                          Num features (6)  Num features (7)  \\\n",
       "german_credit_multiclass               0.0               0.0   \n",
       "\n",
       "                          Num features (8)  Num features (9)  \n",
       "german_credit_multiclass               0.0               0.0  "
      ]
     },
     "metadata": {},
     "output_type": "display_data"
    },
    {
     "data": {
      "image/png": "[encoded data removed]",
      "text/plain": [
       "<Figure size 1200x400 with 1 Axes>"
      ]
     },
     "metadata": {},
     "output_type": "display_data"
    }
   ],
   "source": [
    "%matplotlib inline\n",
    "import matplotlib.pyplot as plt\n",
    "\n",
    "df_explainability= construct_scores_dataframe(scores('explainability', result), include_confidence=True)\n",
    "display(df_explainability)\n",
    "\n",
    "\n",
    "features = ['Num features (1)', 'Num features (2)', 'Num features (3)', 'Num features (4)', 'Num features (5)', 'Num features (6)', 'Num features (7)', 'Num features (8)', 'Num features (9)', 'Num features (10)']\n",
    "features_disp = [i for i in range(1,11)]\n",
    "feature_scores = df_explainability[features]\n",
    "\n",
    "fig, ax = plt.subplots(figsize=[12,4])\n",
    "ax.set_title('Explainability by no of features', fontsize=20)\n",
    "colors = ['tab:blue', 'tab:orange', 'tab:green', 'tab:red', 'tab:pink']\n",
    "width = 0.4\n",
    "\n",
    "ax.set_xticks(np.arange(len(features))+width)\n",
    "ax.set_xticklabels(features_disp)\n",
    "ax.set_xlabel(\"Num. of features\")\n",
    "ax.set_ylabel(\"Explainability score\")\n",
    "\n",
    "for idx in range(len(df_explainability)):\n",
    "    central_values = list(feature_scores.iloc[idx])\n",
    "\n",
    "    ax.bar([width/2+idx*width+f_idx for f_idx in range(len(features))],\n",
    "            central_values,\n",
    "            width,align='edge',\n",
    "            color=colors[idx],\n",
    "            label=df_explainability.index[idx],\n",
    "            capsize=10)\n",
    "\n",
    "fig.legend(fontsize=14, bbox_to_anchor=(1.1,.6))\n",
    "fig.tight_layout()\n",
    "fig.subplots_adjust(right=0.8) \n",
    "plt.show()"
   ]
  },
  {
   "cell_type": "code",
   "execution_count": null,
   "metadata": {},
   "outputs": [],
   "source": []
  }
 ],
 "metadata": {
  "kernelspec": {
   "display_name": "Python 3 (ipykernel)",
   "language": "python",
   "name": "python3"
  },
  "language_info": {
   "codemirror_mode": {
    "name": "ipython",
    "version": 3
   },
   "file_extension": ".py",
   "mimetype": "text/x-python",
   "name": "python",
   "nbconvert_exporter": "python",
   "pygments_lexer": "ipython3",
   "version": "3.8.13"
  }
 },
 "nbformat": 4,
 "nbformat_minor": 4
}
