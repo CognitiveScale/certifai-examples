{
 "cells": [
  {
   "cell_type": "markdown",
   "metadata": {},
   "source": [
    "### Requirements to generate german credit multiclass csv\n",
    "\n",
    "- keras (tensorflow backend)\n",
    "- numpy\n",
    "- certifai_common(encoder for model training)\n",
    "- scikit-learn"
   ]
  },
  {
   "cell_type": "code",
   "execution_count": 1,
   "metadata": {
    "execution": {
     "iopub.execute_input": "2023-01-20T02:02:14.632974Z",
     "iopub.status.busy": "2023-01-20T02:02:14.632628Z",
     "iopub.status.idle": "2023-01-20T02:02:43.515205Z",
     "shell.execute_reply": "2023-01-20T02:02:43.514495Z"
    }
   },
   "outputs": [
    {
     "name": "stderr",
     "output_type": "stream",
     "text": [
      "2023-01-19 20:02:14.805447: I tensorflow/core/platform/cpu_feature_guard.cc:193] This TensorFlow binary is optimized with oneAPI Deep Neural Network Library (oneDNN) to use the following CPU instructions in performance-critical operations:  AVX2 FMA\n",
      "To enable them in other operations, rebuild TensorFlow with the appropriate compiler flags.\n"
     ]
    },
    {
     "name": "stdout",
     "output_type": "stream",
     "text": [
      "keras version 2.11.0\n",
      "tensorflow version 2.11.0\n"
     ]
    }
   ],
   "source": [
    "import keras as keras_version_check\n",
    "import tensorflow as tf_version_check\n",
    "print(f'keras version {keras_version_check.__version__}')\n",
    "print(f'tensorflow version {tf_version_check.__version__}')"
   ]
  },
  {
   "cell_type": "code",
   "execution_count": 2,
   "metadata": {
    "execution": {
     "iopub.execute_input": "2023-01-20T02:02:43.518957Z",
     "iopub.status.busy": "2023-01-20T02:02:43.518521Z",
     "iopub.status.idle": "2023-01-20T02:03:31.503271Z",
     "shell.execute_reply": "2023-01-20T02:03:31.502629Z"
    },
    "scrolled": true
   },
   "outputs": [
    {
     "name": "stdout",
     "output_type": "stream",
     "text": [
      "Epoch 1/100\n"
     ]
    },
    {
     "name": "stderr",
     "output_type": "stream",
     "text": [
      "2023-01-19 20:02:54.724123: I tensorflow/core/platform/cpu_feature_guard.cc:193] This TensorFlow binary is optimized with oneAPI Deep Neural Network Library (oneDNN) to use the following CPU instructions in performance-critical operations:  AVX2 FMA\n",
      "To enable them in other operations, rebuild TensorFlow with the appropriate compiler flags.\n"
     ]
    },
    {
     "name": "stdout",
     "output_type": "stream",
     "text": [
      "42/80 [==============>...............] - ETA: 0s - loss: 0.6889 - accuracy: 0.5452 \n",
      "Epoch 1: accuracy improved from -inf to 0.62500, saving model to ./best_model_keras\n",
      "80/80 [==============================] - 1s 11ms/step - loss: 0.6450 - accuracy: 0.6250 - val_loss: 0.5936 - val_accuracy: 0.6950 - lr: 0.0010\n",
      "Epoch 2/100\n",
      "49/80 [=================>............] - ETA: 0s - loss: 0.5528 - accuracy: 0.7143\n",
      "Epoch 2: accuracy improved from 0.62500 to 0.71125, saving model to ./best_model_keras\n",
      "80/80 [==============================] - 1s 8ms/step - loss: 0.5537 - accuracy: 0.7113 - val_loss: 0.5367 - val_accuracy: 0.7200 - lr: 0.0010\n",
      "Epoch 3/100\n",
      "55/80 [===================>..........] - ETA: 0s - loss: 0.5166 - accuracy: 0.7509\n",
      "Epoch 3: accuracy improved from 0.71125 to 0.75125, saving model to ./best_model_keras\n",
      "80/80 [==============================] - 1s 8ms/step - loss: 0.5068 - accuracy: 0.7513 - val_loss: 0.4977 - val_accuracy: 0.7850 - lr: 0.0010\n",
      "Epoch 4/100\n",
      "54/80 [===================>..........] - ETA: 0s - loss: 0.4746 - accuracy: 0.7704\n",
      "Epoch 4: accuracy improved from 0.75125 to 0.76875, saving model to ./best_model_keras\n",
      "80/80 [==============================] - 1s 9ms/step - loss: 0.4729 - accuracy: 0.7688 - val_loss: 0.4809 - val_accuracy: 0.7600 - lr: 0.0010\n",
      "Epoch 5/100\n",
      "47/80 [================>.............] - ETA: 0s - loss: 0.4372 - accuracy: 0.7830\n",
      "Epoch 5: accuracy improved from 0.76875 to 0.77500, saving model to ./best_model_keras\n",
      "80/80 [==============================] - 1s 8ms/step - loss: 0.4559 - accuracy: 0.7750 - val_loss: 0.4698 - val_accuracy: 0.7450 - lr: 0.0010\n",
      "Epoch 6/100\n",
      "53/80 [==================>...........] - ETA: 0s - loss: 0.4324 - accuracy: 0.7943\n",
      "Epoch 6: accuracy improved from 0.77500 to 0.78875, saving model to ./best_model_keras\n",
      "80/80 [==============================] - 1s 7ms/step - loss: 0.4399 - accuracy: 0.7887 - val_loss: 0.4670 - val_accuracy: 0.7450 - lr: 0.0010\n",
      "Epoch 7/100\n",
      "48/80 [=================>............] - ETA: 0s - loss: 0.4201 - accuracy: 0.8062\n",
      "Epoch 7: accuracy improved from 0.78875 to 0.79750, saving model to ./best_model_keras\n",
      "80/80 [==============================] - 1s 8ms/step - loss: 0.4288 - accuracy: 0.7975 - val_loss: 0.4693 - val_accuracy: 0.7550 - lr: 0.0010\n",
      "Epoch 8/100\n",
      "54/80 [===================>..........] - ETA: 0s - loss: 0.4148 - accuracy: 0.7944\n",
      "Epoch 8: accuracy did not improve from 0.79750\n",
      "80/80 [==============================] - 0s 1ms/step - loss: 0.4157 - accuracy: 0.7975 - val_loss: 0.4667 - val_accuracy: 0.7650 - lr: 0.0010\n",
      "Epoch 9/100\n",
      "45/80 [===============>..............] - ETA: 0s - loss: 0.3673 - accuracy: 0.8378\n",
      "Epoch 9: accuracy improved from 0.79750 to 0.81125, saving model to ./best_model_keras\n",
      "80/80 [==============================] - 1s 8ms/step - loss: 0.4018 - accuracy: 0.8112 - val_loss: 0.4707 - val_accuracy: 0.7600 - lr: 0.0010\n",
      "Epoch 10/100\n",
      "51/80 [==================>...........] - ETA: 0s - loss: 0.3709 - accuracy: 0.8294\n",
      "Epoch 10: accuracy improved from 0.81125 to 0.81750, saving model to ./best_model_keras\n",
      "80/80 [==============================] - 1s 7ms/step - loss: 0.3898 - accuracy: 0.8175 - val_loss: 0.4741 - val_accuracy: 0.7500 - lr: 0.0010\n",
      "Epoch 11/100\n",
      "52/80 [==================>...........] - ETA: 0s - loss: 0.3865 - accuracy: 0.8173\n",
      "Epoch 11: accuracy improved from 0.81750 to 0.82375, saving model to ./best_model_keras\n",
      "80/80 [==============================] - 1s 7ms/step - loss: 0.3776 - accuracy: 0.8238 - val_loss: 0.4724 - val_accuracy: 0.7750 - lr: 0.0010\n",
      "Epoch 12/100\n",
      "52/80 [==================>...........] - ETA: 0s - loss: 0.3716 - accuracy: 0.8288\n",
      "Epoch 12: accuracy improved from 0.82375 to 0.82750, saving model to ./best_model_keras\n",
      "80/80 [==============================] - 1s 8ms/step - loss: 0.3631 - accuracy: 0.8275 - val_loss: 0.4861 - val_accuracy: 0.7350 - lr: 0.0010\n",
      "Epoch 13/100\n",
      "53/80 [==================>...........] - ETA: 0s - loss: 0.3429 - accuracy: 0.8528\n",
      "Epoch 13: accuracy improved from 0.82750 to 0.84625, saving model to ./best_model_keras\n",
      "80/80 [==============================] - 1s 8ms/step - loss: 0.3528 - accuracy: 0.8462 - val_loss: 0.4988 - val_accuracy: 0.7300 - lr: 0.0010\n",
      "Epoch 14/100\n",
      "48/80 [=================>............] - ETA: 0s - loss: 0.3422 - accuracy: 0.8562\n",
      "Epoch 14: accuracy improved from 0.84625 to 0.85250, saving model to ./best_model_keras\n",
      "80/80 [==============================] - 1s 8ms/step - loss: 0.3375 - accuracy: 0.8525 - val_loss: 0.4898 - val_accuracy: 0.7550 - lr: 0.0010\n",
      "Epoch 15/100\n",
      "52/80 [==================>...........] - ETA: 0s - loss: 0.2999 - accuracy: 0.8827\n",
      "Epoch 15: accuracy improved from 0.85250 to 0.85875, saving model to ./best_model_keras\n",
      "80/80 [==============================] - 1s 11ms/step - loss: 0.3160 - accuracy: 0.8587 - val_loss: 0.5124 - val_accuracy: 0.7200 - lr: 0.0010\n",
      "Epoch 16/100\n",
      "54/80 [===================>..........] - ETA: 0s - loss: 0.3039 - accuracy: 0.8833\n",
      "Epoch 16: accuracy improved from 0.85875 to 0.88000, saving model to ./best_model_keras\n",
      "80/80 [==============================] - 1s 7ms/step - loss: 0.2991 - accuracy: 0.8800 - val_loss: 0.4991 - val_accuracy: 0.7650 - lr: 0.0010\n",
      "Epoch 17/100\n",
      "54/80 [===================>..........] - ETA: 0s - loss: 0.2842 - accuracy: 0.8852\n",
      "Epoch 17: accuracy did not improve from 0.88000\n",
      "80/80 [==============================] - 0s 1ms/step - loss: 0.2857 - accuracy: 0.8763 - val_loss: 0.5109 - val_accuracy: 0.7550 - lr: 0.0010\n",
      "Epoch 18/100\n",
      "57/80 [====================>.........] - ETA: 0s - loss: 0.2670 - accuracy: 0.8982\n",
      "Epoch 18: accuracy improved from 0.88000 to 0.90000, saving model to ./best_model_keras\n",
      "80/80 [==============================] - 1s 8ms/step - loss: 0.2638 - accuracy: 0.9000 - val_loss: 0.5164 - val_accuracy: 0.7550 - lr: 0.0010\n",
      "Epoch 19/100\n",
      "50/80 [=================>............] - ETA: 0s - loss: 0.2272 - accuracy: 0.9200\n",
      "Epoch 19: accuracy improved from 0.90000 to 0.90625, saving model to ./best_model_keras\n",
      "80/80 [==============================] - 1s 8ms/step - loss: 0.2498 - accuracy: 0.9062 - val_loss: 0.5301 - val_accuracy: 0.7800 - lr: 0.0010\n",
      "Epoch 20/100\n",
      "54/80 [===================>..........] - ETA: 0s - loss: 0.2377 - accuracy: 0.9111\n",
      "Epoch 20: accuracy improved from 0.90625 to 0.91750, saving model to ./best_model_keras\n",
      "80/80 [==============================] - 1s 8ms/step - loss: 0.2303 - accuracy: 0.9175 - val_loss: 0.5508 - val_accuracy: 0.7300 - lr: 0.0010\n",
      "Epoch 21/100\n",
      "52/80 [==================>...........] - ETA: 0s - loss: 0.1851 - accuracy: 0.9404\n",
      "Epoch 21: accuracy improved from 0.91750 to 0.92625, saving model to ./best_model_keras\n",
      "\n",
      "Epoch 21: ReduceLROnPlateau reducing learning rate to 0.0001.\n",
      "80/80 [==============================] - 1s 7ms/step - loss: 0.2150 - accuracy: 0.9262 - val_loss: 0.5607 - val_accuracy: 0.7850 - lr: 0.0010\n",
      "Epoch 22/100\n",
      "54/80 [===================>..........] - ETA: 0s - loss: 0.1789 - accuracy: 0.9556\n",
      "Epoch 22: accuracy improved from 0.92625 to 0.94875, saving model to ./best_model_keras\n",
      "80/80 [==============================] - 1s 8ms/step - loss: 0.1857 - accuracy: 0.9488 - val_loss: 0.5600 - val_accuracy: 0.7750 - lr: 1.0000e-04\n",
      "Epoch 23/100\n",
      "52/80 [==================>...........] - ETA: 0s - loss: 0.1859 - accuracy: 0.9519\n",
      "Epoch 23: accuracy improved from 0.94875 to 0.95125, saving model to ./best_model_keras\n",
      "80/80 [==============================] - 1s 8ms/step - loss: 0.1824 - accuracy: 0.9513 - val_loss: 0.5621 - val_accuracy: 0.7750 - lr: 1.0000e-04\n",
      "Epoch 24/100\n",
      "55/80 [===================>..........] - ETA: 0s - loss: 0.1819 - accuracy: 0.9582\n",
      "Epoch 24: accuracy improved from 0.95125 to 0.95375, saving model to ./best_model_keras\n",
      "80/80 [==============================] - 1s 8ms/step - loss: 0.1801 - accuracy: 0.9538 - val_loss: 0.5627 - val_accuracy: 0.7750 - lr: 1.0000e-04\n",
      "Epoch 25/100\n",
      "54/80 [===================>..........] - ETA: 0s - loss: 0.1697 - accuracy: 0.9611\n",
      "Epoch 25: accuracy did not improve from 0.95375\n",
      "80/80 [==============================] - 0s 1ms/step - loss: 0.1784 - accuracy: 0.9538 - val_loss: 0.5648 - val_accuracy: 0.7750 - lr: 1.0000e-04\n",
      "Epoch 26/100\n",
      "40/80 [==============>...............] - ETA: 0s - loss: 0.1836 - accuracy: 0.9450\n",
      "Epoch 26: accuracy did not improve from 0.95375\n",
      "80/80 [==============================] - 0s 2ms/step - loss: 0.1757 - accuracy: 0.9538 - val_loss: 0.5660 - val_accuracy: 0.7700 - lr: 1.0000e-04\n",
      "Epoch 27/100\n",
      "46/80 [================>.............] - ETA: 0s - loss: 0.1923 - accuracy: 0.9478\n",
      "Epoch 27: accuracy improved from 0.95375 to 0.95625, saving model to ./best_model_keras\n",
      "80/80 [==============================] - 1s 11ms/step - loss: 0.1743 - accuracy: 0.9563 - val_loss: 0.5682 - val_accuracy: 0.7750 - lr: 1.0000e-04\n",
      "Epoch 28/100\n",
      "53/80 [==================>...........] - ETA: 0s - loss: 0.1681 - accuracy: 0.9623\n",
      "Epoch 28: accuracy did not improve from 0.95625\n",
      "80/80 [==============================] - 0s 1ms/step - loss: 0.1721 - accuracy: 0.9563 - val_loss: 0.5689 - val_accuracy: 0.7700 - lr: 1.0000e-04\n",
      "Epoch 29/100\n",
      "47/80 [================>.............] - ETA: 0s - loss: 0.1879 - accuracy: 0.9426\n",
      "Epoch 29: accuracy did not improve from 0.95625\n",
      "80/80 [==============================] - 0s 2ms/step - loss: 0.1706 - accuracy: 0.9538 - val_loss: 0.5711 - val_accuracy: 0.7700 - lr: 1.0000e-04\n",
      "Epoch 30/100\n",
      "54/80 [===================>..........] - ETA: 0s - loss: 0.1860 - accuracy: 0.9481\n",
      "Epoch 30: accuracy did not improve from 0.95625\n",
      "80/80 [==============================] - 0s 1ms/step - loss: 0.1687 - accuracy: 0.9563 - val_loss: 0.5729 - val_accuracy: 0.7700 - lr: 1.0000e-04\n",
      "Epoch 31/100\n",
      "42/80 [==============>...............] - ETA: 0s - loss: 0.1808 - accuracy: 0.9500\n",
      "Epoch 31: accuracy improved from 0.95625 to 0.95750, saving model to ./best_model_keras\n",
      "80/80 [==============================] - 1s 7ms/step - loss: 0.1673 - accuracy: 0.9575 - val_loss: 0.5750 - val_accuracy: 0.7700 - lr: 1.0000e-04\n",
      "Epoch 32/100\n",
      "53/80 [==================>...........] - ETA: 0s - loss: 0.1687 - accuracy: 0.9528\n",
      "Epoch 32: accuracy did not improve from 0.95750\n",
      "80/80 [==============================] - 0s 1ms/step - loss: 0.1655 - accuracy: 0.9550 - val_loss: 0.5767 - val_accuracy: 0.7750 - lr: 1.0000e-04\n",
      "Epoch 33/100\n",
      "49/80 [=================>............] - ETA: 0s - loss: 0.1690 - accuracy: 0.9490\n",
      "Epoch 33: accuracy did not improve from 0.95750\n",
      "80/80 [==============================] - 0s 2ms/step - loss: 0.1637 - accuracy: 0.9550 - val_loss: 0.5781 - val_accuracy: 0.7700 - lr: 1.0000e-04\n",
      "Epoch 34/100\n",
      "53/80 [==================>...........] - ETA: 0s - loss: 0.1647 - accuracy: 0.9547\n",
      "Epoch 34: accuracy did not improve from 0.95750\n",
      "80/80 [==============================] - 0s 1ms/step - loss: 0.1620 - accuracy: 0.9575 - val_loss: 0.5801 - val_accuracy: 0.7700 - lr: 1.0000e-04\n",
      "Epoch 35/100\n",
      "54/80 [===================>..........] - ETA: 0s - loss: 0.1581 - accuracy: 0.9611\n",
      "Epoch 35: accuracy improved from 0.95750 to 0.95875, saving model to ./best_model_keras\n",
      "80/80 [==============================] - 1s 8ms/step - loss: 0.1612 - accuracy: 0.9588 - val_loss: 0.5819 - val_accuracy: 0.7700 - lr: 1.0000e-04\n",
      "Epoch 36/100\n",
      "53/80 [==================>...........] - ETA: 0s - loss: 0.1496 - accuracy: 0.9679\n",
      "Epoch 36: accuracy did not improve from 0.95875\n",
      "80/80 [==============================] - 0s 1ms/step - loss: 0.1594 - accuracy: 0.9575 - val_loss: 0.5831 - val_accuracy: 0.7750 - lr: 1.0000e-04\n",
      "Epoch 37/100\n",
      "56/80 [====================>.........] - ETA: 0s - loss: 0.1602 - accuracy: 0.9625\n",
      "Epoch 37: accuracy improved from 0.95875 to 0.96125, saving model to ./best_model_keras\n",
      "80/80 [==============================] - 1s 7ms/step - loss: 0.1580 - accuracy: 0.9613 - val_loss: 0.5857 - val_accuracy: 0.7700 - lr: 1.0000e-04\n",
      "Epoch 38/100\n",
      "54/80 [===================>..........] - ETA: 0s - loss: 0.1546 - accuracy: 0.9556\n",
      "Epoch 38: accuracy did not improve from 0.96125\n",
      "80/80 [==============================] - 0s 1ms/step - loss: 0.1567 - accuracy: 0.9600 - val_loss: 0.5872 - val_accuracy: 0.7700 - lr: 1.0000e-04\n",
      "Epoch 39/100\n",
      "56/80 [====================>.........] - ETA: 0s - loss: 0.1451 - accuracy: 0.9714\n",
      "Epoch 39: accuracy improved from 0.96125 to 0.96500, saving model to ./best_model_keras\n",
      "80/80 [==============================] - 1s 7ms/step - loss: 0.1550 - accuracy: 0.9650 - val_loss: 0.5891 - val_accuracy: 0.7650 - lr: 1.0000e-04\n",
      "Epoch 40/100\n",
      "53/80 [==================>...........] - ETA: 0s - loss: 0.1654 - accuracy: 0.9585\n",
      "Epoch 40: accuracy did not improve from 0.96500\n",
      "80/80 [==============================] - 0s 2ms/step - loss: 0.1534 - accuracy: 0.9638 - val_loss: 0.5903 - val_accuracy: 0.7700 - lr: 1.0000e-04\n",
      "Epoch 41/100\n",
      "45/80 [===============>..............] - ETA: 0s - loss: 0.1538 - accuracy: 0.9622\n",
      "Epoch 41: accuracy did not improve from 0.96500\n",
      "80/80 [==============================] - 0s 2ms/step - loss: 0.1516 - accuracy: 0.9638 - val_loss: 0.5939 - val_accuracy: 0.7700 - lr: 1.0000e-04\n",
      "Epoch 42/100\n",
      "53/80 [==================>...........] - ETA: 0s - loss: 0.1521 - accuracy: 0.9679\n",
      "Epoch 42: accuracy did not improve from 0.96500\n",
      "80/80 [==============================] - 0s 1ms/step - loss: 0.1506 - accuracy: 0.9650 - val_loss: 0.5947 - val_accuracy: 0.7700 - lr: 1.0000e-04\n",
      "Epoch 43/100\n",
      "49/80 [=================>............] - ETA: 0s - loss: 0.1406 - accuracy: 0.9571\n",
      "Epoch 43: accuracy did not improve from 0.96500\n",
      "80/80 [==============================] - 0s 2ms/step - loss: 0.1490 - accuracy: 0.9588 - val_loss: 0.5958 - val_accuracy: 0.7650 - lr: 1.0000e-04\n",
      "Epoch 44/100\n",
      "55/80 [===================>..........] - ETA: 0s - loss: 0.1558 - accuracy: 0.9564\n",
      "Epoch 44: accuracy did not improve from 0.96500\n",
      "80/80 [==============================] - 0s 1ms/step - loss: 0.1473 - accuracy: 0.9625 - val_loss: 0.5983 - val_accuracy: 0.7700 - lr: 1.0000e-04\n",
      "Epoch 45/100\n",
      "43/80 [===============>..............] - ETA: 0s - loss: 0.1355 - accuracy: 0.9628\n",
      "Epoch 45: accuracy did not improve from 0.96500\n",
      "80/80 [==============================] - 0s 2ms/step - loss: 0.1461 - accuracy: 0.9625 - val_loss: 0.6001 - val_accuracy: 0.7700 - lr: 1.0000e-04\n",
      "Epoch 46/100\n",
      "45/80 [===============>..............] - ETA: 0s - loss: 0.1360 - accuracy: 0.9689\n",
      "Epoch 46: accuracy did not improve from 0.96500\n",
      "80/80 [==============================] - 0s 2ms/step - loss: 0.1450 - accuracy: 0.9638 - val_loss: 0.6026 - val_accuracy: 0.7650 - lr: 1.0000e-04\n",
      "Epoch 47/100\n",
      "55/80 [===================>..........] - ETA: 0s - loss: 0.1377 - accuracy: 0.9727\n",
      "Epoch 47: accuracy improved from 0.96500 to 0.96625, saving model to ./best_model_keras\n",
      "80/80 [==============================] - 1s 9ms/step - loss: 0.1429 - accuracy: 0.9663 - val_loss: 0.6044 - val_accuracy: 0.7700 - lr: 1.0000e-04\n",
      "Epoch 48/100\n",
      "54/80 [===================>..........] - ETA: 0s - loss: 0.1395 - accuracy: 0.9704\n",
      "Epoch 48: accuracy improved from 0.96625 to 0.96750, saving model to ./best_model_keras\n",
      "80/80 [==============================] - 1s 7ms/step - loss: 0.1417 - accuracy: 0.9675 - val_loss: 0.6063 - val_accuracy: 0.7750 - lr: 1.0000e-04\n",
      "Epoch 49/100\n",
      "54/80 [===================>..........] - ETA: 0s - loss: 0.1530 - accuracy: 0.9556\n",
      "Epoch 49: accuracy did not improve from 0.96750\n",
      "80/80 [==============================] - 0s 1ms/step - loss: 0.1401 - accuracy: 0.9675 - val_loss: 0.6078 - val_accuracy: 0.7750 - lr: 1.0000e-04\n",
      "Epoch 50/100\n",
      "53/80 [==================>...........] - ETA: 0s - loss: 0.1420 - accuracy: 0.9679\n",
      "Epoch 50: accuracy improved from 0.96750 to 0.96875, saving model to ./best_model_keras\n",
      "80/80 [==============================] - 1s 9ms/step - loss: 0.1389 - accuracy: 0.9688 - val_loss: 0.6103 - val_accuracy: 0.7700 - lr: 1.0000e-04\n",
      "Epoch 51/100\n",
      "52/80 [==================>...........] - ETA: 0s - loss: 0.1365 - accuracy: 0.9692\n",
      "Epoch 51: accuracy did not improve from 0.96875\n",
      "80/80 [==============================] - 0s 1ms/step - loss: 0.1377 - accuracy: 0.9688 - val_loss: 0.6144 - val_accuracy: 0.7600 - lr: 1.0000e-04\n",
      "Epoch 52/100\n",
      "50/80 [=================>............] - ETA: 0s - loss: 0.1321 - accuracy: 0.9740\n",
      "Epoch 52: accuracy did not improve from 0.96875\n",
      "80/80 [==============================] - 0s 2ms/step - loss: 0.1362 - accuracy: 0.9688 - val_loss: 0.6148 - val_accuracy: 0.7600 - lr: 1.0000e-04\n",
      "Epoch 53/100\n",
      "60/80 [=====================>........] - ETA: 0s - loss: 0.1332 - accuracy: 0.9717\n",
      "Epoch 53: accuracy improved from 0.96875 to 0.97000, saving model to ./best_model_keras\n",
      "80/80 [==============================] - 1s 8ms/step - loss: 0.1352 - accuracy: 0.9700 - val_loss: 0.6171 - val_accuracy: 0.7600 - lr: 1.0000e-04\n",
      "Epoch 54/100\n",
      "54/80 [===================>..........] - ETA: 0s - loss: 0.1419 - accuracy: 0.9630\n",
      "Epoch 54: accuracy did not improve from 0.97000\n",
      "80/80 [==============================] - 0s 1ms/step - loss: 0.1337 - accuracy: 0.9700 - val_loss: 0.6186 - val_accuracy: 0.7550 - lr: 1.0000e-04\n",
      "Epoch 55/100\n",
      "52/80 [==================>...........] - ETA: 0s - loss: 0.1328 - accuracy: 0.9654\n",
      "Epoch 55: accuracy did not improve from 0.97000\n",
      "80/80 [==============================] - 0s 1ms/step - loss: 0.1323 - accuracy: 0.9675 - val_loss: 0.6219 - val_accuracy: 0.7600 - lr: 1.0000e-04\n",
      "Epoch 56/100\n",
      "48/80 [=================>............] - ETA: 0s - loss: 0.1216 - accuracy: 0.9708\n",
      "Epoch 56: accuracy did not improve from 0.97000\n",
      "80/80 [==============================] - 0s 3ms/step - loss: 0.1307 - accuracy: 0.9663 - val_loss: 0.6230 - val_accuracy: 0.7650 - lr: 1.0000e-04\n",
      "Epoch 57/100\n",
      "68/80 [========================>.....] - ETA: 0s - loss: 0.1264 - accuracy: 0.9750\n",
      "Epoch 57: accuracy improved from 0.97000 to 0.97250, saving model to ./best_model_keras\n",
      "80/80 [==============================] - 1s 10ms/step - loss: 0.1301 - accuracy: 0.9725 - val_loss: 0.6258 - val_accuracy: 0.7550 - lr: 1.0000e-04\n",
      "Epoch 58/100\n",
      "55/80 [===================>..........] - ETA: 0s - loss: 0.1306 - accuracy: 0.9673\n",
      "Epoch 58: accuracy did not improve from 0.97250\n",
      "80/80 [==============================] - 0s 1ms/step - loss: 0.1280 - accuracy: 0.9688 - val_loss: 0.6283 - val_accuracy: 0.7550 - lr: 1.0000e-04\n",
      "Epoch 59/100\n",
      "57/80 [====================>.........] - ETA: 0s - loss: 0.1240 - accuracy: 0.9737\n",
      "Epoch 59: accuracy did not improve from 0.97250\n",
      "80/80 [==============================] - 0s 1ms/step - loss: 0.1269 - accuracy: 0.9725 - val_loss: 0.6301 - val_accuracy: 0.7550 - lr: 1.0000e-04\n",
      "Epoch 60/100\n",
      "44/80 [===============>..............] - ETA: 0s - loss: 0.1322 - accuracy: 0.9659\n",
      "Epoch 60: accuracy did not improve from 0.97250\n",
      "80/80 [==============================] - 0s 2ms/step - loss: 0.1253 - accuracy: 0.9712 - val_loss: 0.6326 - val_accuracy: 0.7550 - lr: 1.0000e-04\n",
      "Epoch 61/100\n",
      "48/80 [=================>............] - ETA: 0s - loss: 0.1340 - accuracy: 0.9729\n",
      "Epoch 61: accuracy did not improve from 0.97250\n",
      "80/80 [==============================] - 0s 2ms/step - loss: 0.1236 - accuracy: 0.9712 - val_loss: 0.6353 - val_accuracy: 0.7550 - lr: 1.0000e-04\n",
      "Epoch 62/100\n",
      "47/80 [================>.............] - ETA: 0s - loss: 0.1254 - accuracy: 0.9702\n",
      "Epoch 62: accuracy did not improve from 0.97250\n",
      "80/80 [==============================] - 0s 2ms/step - loss: 0.1230 - accuracy: 0.9725 - val_loss: 0.6371 - val_accuracy: 0.7500 - lr: 1.0000e-04\n",
      "Epoch 63/100\n",
      "50/80 [=================>............] - ETA: 0s - loss: 0.1164 - accuracy: 0.9740\n",
      "Epoch 63: accuracy improved from 0.97250 to 0.97500, saving model to ./best_model_keras\n",
      "80/80 [==============================] - 1s 9ms/step - loss: 0.1215 - accuracy: 0.9750 - val_loss: 0.6393 - val_accuracy: 0.7550 - lr: 1.0000e-04\n",
      "Epoch 64/100\n",
      "51/80 [==================>...........] - ETA: 0s - loss: 0.1139 - accuracy: 0.9804\n",
      "Epoch 64: accuracy did not improve from 0.97500\n",
      "80/80 [==============================] - 0s 1ms/step - loss: 0.1203 - accuracy: 0.9750 - val_loss: 0.6416 - val_accuracy: 0.7550 - lr: 1.0000e-04\n",
      "Epoch 65/100\n",
      "49/80 [=================>............] - ETA: 0s - loss: 0.1089 - accuracy: 0.9816\n",
      "Epoch 65: accuracy improved from 0.97500 to 0.97625, saving model to ./best_model_keras\n",
      "80/80 [==============================] - 1s 9ms/step - loss: 0.1193 - accuracy: 0.9762 - val_loss: 0.6438 - val_accuracy: 0.7550 - lr: 1.0000e-04\n",
      "Epoch 66/100\n",
      "52/80 [==================>...........] - ETA: 0s - loss: 0.1083 - accuracy: 0.9788\n",
      "Epoch 66: accuracy did not improve from 0.97625\n",
      "80/80 [==============================] - 0s 1ms/step - loss: 0.1178 - accuracy: 0.9762 - val_loss: 0.6459 - val_accuracy: 0.7550 - lr: 1.0000e-04\n",
      "Epoch 67/100\n",
      "47/80 [================>.............] - ETA: 0s - loss: 0.1179 - accuracy: 0.9766\n",
      "Epoch 67: accuracy did not improve from 0.97625\n",
      "80/80 [==============================] - 0s 2ms/step - loss: 0.1163 - accuracy: 0.9762 - val_loss: 0.6497 - val_accuracy: 0.7500 - lr: 1.0000e-04\n",
      "Epoch 68/100\n",
      "46/80 [================>.............] - ETA: 0s - loss: 0.0917 - accuracy: 0.9870\n",
      "Epoch 68: accuracy improved from 0.97625 to 0.97750, saving model to ./best_model_keras\n",
      "80/80 [==============================] - 1s 7ms/step - loss: 0.1152 - accuracy: 0.9775 - val_loss: 0.6507 - val_accuracy: 0.7550 - lr: 1.0000e-04\n",
      "Epoch 69/100\n",
      "48/80 [=================>............] - ETA: 0s - loss: 0.1146 - accuracy: 0.9792\n",
      "Epoch 69: accuracy improved from 0.97750 to 0.97875, saving model to ./best_model_keras\n",
      "80/80 [==============================] - 1s 9ms/step - loss: 0.1140 - accuracy: 0.9787 - val_loss: 0.6531 - val_accuracy: 0.7550 - lr: 1.0000e-04\n",
      "Epoch 70/100\n",
      "48/80 [=================>............] - ETA: 0s - loss: 0.1157 - accuracy: 0.9792\n",
      "Epoch 70: accuracy improved from 0.97875 to 0.98125, saving model to ./best_model_keras\n",
      "80/80 [==============================] - 1s 9ms/step - loss: 0.1125 - accuracy: 0.9812 - val_loss: 0.6571 - val_accuracy: 0.7500 - lr: 1.0000e-04\n",
      "Epoch 71/100\n",
      "52/80 [==================>...........] - ETA: 0s - loss: 0.1083 - accuracy: 0.9808\n",
      "Epoch 71: accuracy did not improve from 0.98125\n",
      "80/80 [==============================] - 0s 1ms/step - loss: 0.1116 - accuracy: 0.9762 - val_loss: 0.6583 - val_accuracy: 0.7550 - lr: 1.0000e-04\n",
      "Epoch 72/100\n",
      "52/80 [==================>...........] - ETA: 0s - loss: 0.1116 - accuracy: 0.9808\n",
      "Epoch 72: accuracy did not improve from 0.98125\n",
      "80/80 [==============================] - 0s 2ms/step - loss: 0.1100 - accuracy: 0.9800 - val_loss: 0.6606 - val_accuracy: 0.7550 - lr: 1.0000e-04\n",
      "Epoch 73/100\n",
      "76/80 [===========================>..] - ETA: 0s - loss: 0.1089 - accuracy: 0.9803\n",
      "Epoch 73: accuracy did not improve from 0.98125\n",
      "80/80 [==============================] - 0s 2ms/step - loss: 0.1089 - accuracy: 0.9800 - val_loss: 0.6630 - val_accuracy: 0.7550 - lr: 1.0000e-04\n",
      "Epoch 74/100\n",
      "80/80 [==============================] - ETA: 0s - loss: 0.1076 - accuracy: 0.9800\n",
      "Epoch 74: accuracy did not improve from 0.98125\n",
      "80/80 [==============================] - 0s 2ms/step - loss: 0.1076 - accuracy: 0.9800 - val_loss: 0.6644 - val_accuracy: 0.7550 - lr: 1.0000e-04\n",
      "Epoch 75/100\n",
      "79/80 [============================>.] - ETA: 0s - loss: 0.1063 - accuracy: 0.9810\n",
      "Epoch 75: accuracy did not improve from 0.98125\n",
      "80/80 [==============================] - 0s 2ms/step - loss: 0.1064 - accuracy: 0.9800 - val_loss: 0.6686 - val_accuracy: 0.7550 - lr: 1.0000e-04\n",
      "Epoch 76/100\n",
      "78/80 [============================>.] - ETA: 0s - loss: 0.1045 - accuracy: 0.9808\n",
      "Epoch 76: accuracy did not improve from 0.98125\n",
      "80/80 [==============================] - 0s 2ms/step - loss: 0.1053 - accuracy: 0.9812 - val_loss: 0.6710 - val_accuracy: 0.7500 - lr: 1.0000e-04\n",
      "Epoch 77/100\n",
      "80/80 [==============================] - ETA: 0s - loss: 0.1043 - accuracy: 0.9825\n",
      "Epoch 77: accuracy improved from 0.98125 to 0.98250, saving model to ./best_model_keras\n",
      "80/80 [==============================] - 1s 8ms/step - loss: 0.1043 - accuracy: 0.9825 - val_loss: 0.6746 - val_accuracy: 0.7450 - lr: 1.0000e-04\n",
      "Epoch 78/100\n",
      "52/80 [==================>...........] - ETA: 0s - loss: 0.1068 - accuracy: 0.9769\n",
      "Epoch 78: accuracy did not improve from 0.98250\n",
      "80/80 [==============================] - 0s 2ms/step - loss: 0.1033 - accuracy: 0.9812 - val_loss: 0.6748 - val_accuracy: 0.7550 - lr: 1.0000e-04\n",
      "Epoch 79/100\n",
      "52/80 [==================>...........] - ETA: 0s - loss: 0.1090 - accuracy: 0.9788\n",
      "Epoch 79: accuracy did not improve from 0.98250\n",
      "80/80 [==============================] - 0s 2ms/step - loss: 0.1017 - accuracy: 0.9825 - val_loss: 0.6778 - val_accuracy: 0.7550 - lr: 1.0000e-04\n",
      "Epoch 80/100\n",
      "42/80 [==============>...............] - ETA: 0s - loss: 0.0875 - accuracy: 0.9857\n",
      "Epoch 80: accuracy improved from 0.98250 to 0.98375, saving model to ./best_model_keras\n",
      "80/80 [==============================] - 1s 7ms/step - loss: 0.1005 - accuracy: 0.9837 - val_loss: 0.6811 - val_accuracy: 0.7450 - lr: 1.0000e-04\n",
      "Epoch 81/100\n",
      "53/80 [==================>...........] - ETA: 0s - loss: 0.1043 - accuracy: 0.9811\n",
      "Epoch 81: accuracy did not improve from 0.98375\n",
      "80/80 [==============================] - 0s 2ms/step - loss: 0.0998 - accuracy: 0.9825 - val_loss: 0.6814 - val_accuracy: 0.7550 - lr: 1.0000e-04\n",
      "Epoch 82/100\n",
      "47/80 [================>.............] - ETA: 0s - loss: 0.1018 - accuracy: 0.9851\n",
      "Epoch 82: accuracy did not improve from 0.98375\n",
      "80/80 [==============================] - 0s 2ms/step - loss: 0.0984 - accuracy: 0.9837 - val_loss: 0.6853 - val_accuracy: 0.7550 - lr: 1.0000e-04\n",
      "Epoch 83/100\n",
      "77/80 [===========================>..] - ETA: 0s - loss: 0.0968 - accuracy: 0.9831\n",
      "Epoch 83: accuracy did not improve from 0.98375\n",
      "80/80 [==============================] - 0s 2ms/step - loss: 0.0969 - accuracy: 0.9837 - val_loss: 0.6865 - val_accuracy: 0.7550 - lr: 1.0000e-04\n",
      "Epoch 84/100\n",
      "80/80 [==============================] - ETA: 0s - loss: 0.0961 - accuracy: 0.9837\n",
      "Epoch 84: accuracy did not improve from 0.98375\n",
      "80/80 [==============================] - 0s 2ms/step - loss: 0.0961 - accuracy: 0.9837 - val_loss: 0.6894 - val_accuracy: 0.7550 - lr: 1.0000e-04\n",
      "Epoch 85/100\n",
      "42/80 [==============>...............] - ETA: 0s - loss: 0.0911 - accuracy: 0.9857\n",
      "Epoch 85: accuracy did not improve from 0.98375\n",
      "80/80 [==============================] - 0s 2ms/step - loss: 0.0953 - accuracy: 0.9837 - val_loss: 0.6934 - val_accuracy: 0.7550 - lr: 1.0000e-04\n",
      "Epoch 86/100\n",
      "74/80 [==========================>...] - ETA: 0s - loss: 0.0920 - accuracy: 0.9851\n",
      "Epoch 86: accuracy did not improve from 0.98375\n",
      "80/80 [==============================] - 0s 2ms/step - loss: 0.0939 - accuracy: 0.9837 - val_loss: 0.6948 - val_accuracy: 0.7550 - lr: 1.0000e-04\n",
      "Epoch 87/100\n",
      "80/80 [==============================] - ETA: 0s - loss: 0.0925 - accuracy: 0.9850\n",
      "Epoch 87: accuracy improved from 0.98375 to 0.98500, saving model to ./best_model_keras\n",
      "80/80 [==============================] - 1s 8ms/step - loss: 0.0925 - accuracy: 0.9850 - val_loss: 0.7015 - val_accuracy: 0.7500 - lr: 1.0000e-04\n",
      "Epoch 88/100\n",
      "52/80 [==================>...........] - ETA: 0s - loss: 0.0999 - accuracy: 0.9827\n",
      "Epoch 88: accuracy improved from 0.98500 to 0.98625, saving model to ./best_model_keras\n",
      "80/80 [==============================] - 1s 10ms/step - loss: 0.0925 - accuracy: 0.9862 - val_loss: 0.6995 - val_accuracy: 0.7550 - lr: 1.0000e-04\n",
      "Epoch 89/100\n",
      "50/80 [=================>............] - ETA: 0s - loss: 0.0814 - accuracy: 0.9900\n",
      "Epoch 89: accuracy did not improve from 0.98625\n",
      "80/80 [==============================] - 0s 1ms/step - loss: 0.0907 - accuracy: 0.9850 - val_loss: 0.7030 - val_accuracy: 0.7550 - lr: 1.0000e-04\n",
      "Epoch 90/100\n",
      "43/80 [===============>..............] - ETA: 0s - loss: 0.0828 - accuracy: 0.9884\n",
      "Epoch 90: accuracy did not improve from 0.98625\n",
      "80/80 [==============================] - 0s 2ms/step - loss: 0.0899 - accuracy: 0.9850 - val_loss: 0.7041 - val_accuracy: 0.7550 - lr: 1.0000e-04\n",
      "Epoch 91/100\n",
      "71/80 [=========================>....] - ETA: 0s - loss: 0.0890 - accuracy: 0.9831\n",
      "Epoch 91: accuracy did not improve from 0.98625\n",
      "80/80 [==============================] - 0s 2ms/step - loss: 0.0890 - accuracy: 0.9850 - val_loss: 0.7073 - val_accuracy: 0.7550 - lr: 1.0000e-04\n",
      "Epoch 92/100\n",
      "43/80 [===============>..............] - ETA: 0s - loss: 0.0814 - accuracy: 0.9860\n",
      "Epoch 92: accuracy did not improve from 0.98625\n",
      "80/80 [==============================] - 0s 2ms/step - loss: 0.0873 - accuracy: 0.9862 - val_loss: 0.7105 - val_accuracy: 0.7550 - lr: 1.0000e-04\n",
      "Epoch 93/100\n",
      "41/80 [==============>...............] - ETA: 0s - loss: 0.1028 - accuracy: 0.9780\n",
      "Epoch 93: accuracy did not improve from 0.98625\n",
      "80/80 [==============================] - 0s 2ms/step - loss: 0.0865 - accuracy: 0.9862 - val_loss: 0.7137 - val_accuracy: 0.7550 - lr: 1.0000e-04\n",
      "Epoch 94/100\n",
      "45/80 [===============>..............] - ETA: 0s - loss: 0.0844 - accuracy: 0.9844\n",
      "Epoch 94: accuracy did not improve from 0.98625\n",
      "80/80 [==============================] - 0s 2ms/step - loss: 0.0853 - accuracy: 0.9862 - val_loss: 0.7161 - val_accuracy: 0.7550 - lr: 1.0000e-04\n",
      "Epoch 95/100\n",
      "47/80 [================>.............] - ETA: 0s - loss: 0.0861 - accuracy: 0.9872\n",
      "Epoch 95: accuracy did not improve from 0.98625\n",
      "80/80 [==============================] - 0s 2ms/step - loss: 0.0844 - accuracy: 0.9862 - val_loss: 0.7199 - val_accuracy: 0.7550 - lr: 1.0000e-04\n",
      "Epoch 96/100\n",
      "46/80 [================>.............] - ETA: 0s - loss: 0.0875 - accuracy: 0.9848\n",
      "Epoch 96: accuracy did not improve from 0.98625\n",
      "80/80 [==============================] - 0s 2ms/step - loss: 0.0834 - accuracy: 0.9862 - val_loss: 0.7235 - val_accuracy: 0.7550 - lr: 1.0000e-04\n",
      "Epoch 97/100\n",
      "45/80 [===============>..............] - ETA: 0s - loss: 0.0781 - accuracy: 0.9911\n",
      "Epoch 97: accuracy improved from 0.98625 to 0.98750, saving model to ./best_model_keras\n",
      "80/80 [==============================] - 1s 9ms/step - loss: 0.0823 - accuracy: 0.9875 - val_loss: 0.7253 - val_accuracy: 0.7550 - lr: 1.0000e-04\n",
      "Epoch 98/100\n",
      "54/80 [===================>..........] - ETA: 0s - loss: 0.0734 - accuracy: 0.9870\n",
      "Epoch 98: accuracy did not improve from 0.98750\n",
      "80/80 [==============================] - 0s 1ms/step - loss: 0.0815 - accuracy: 0.9875 - val_loss: 0.7264 - val_accuracy: 0.7500 - lr: 1.0000e-04\n",
      "Epoch 99/100\n",
      "51/80 [==================>...........] - ETA: 0s - loss: 0.0818 - accuracy: 0.9922\n",
      "Epoch 99: accuracy improved from 0.98750 to 0.98875, saving model to ./best_model_keras\n",
      "80/80 [==============================] - 1s 7ms/step - loss: 0.0806 - accuracy: 0.9887 - val_loss: 0.7309 - val_accuracy: 0.7550 - lr: 1.0000e-04\n",
      "Epoch 100/100\n",
      "53/80 [==================>...........] - ETA: 0s - loss: 0.0767 - accuracy: 0.9868\n",
      "Epoch 100: accuracy did not improve from 0.98875\n",
      "80/80 [==============================] - 0s 1ms/step - loss: 0.0796 - accuracy: 0.9875 - val_loss: 0.7331 - val_accuracy: 0.7550 - lr: 1.0000e-04\n",
      "32/32 [==============================] - 0s 1ms/step - loss: 0.2088 - accuracy: 0.9430\n",
      "Accuracy: 94.30\n"
     ]
    }
   ],
   "source": [
    "import pandas as pd\n",
    "from sklearn.model_selection import train_test_split\n",
    "import numpy as np\n",
    "import random\n",
    "from certifai.common.utils.encoding import CatEncoder\n",
    "from keras.callbacks import ReduceLROnPlateau,EarlyStopping,ModelCheckpoint\n",
    "from keras.models import Sequential\n",
    "from keras import regularizers\n",
    "from keras import optimizers\n",
    "from keras.layers import Dense, Dropout\n",
    "import os\n",
    "import random\n",
    "import tensorflow as tf\n",
    "seed = 42\n",
    "\n",
    "os.environ['PYTHONHASHSEED']=str(seed)\n",
    "np.random.seed(seed)\n",
    "random.seed(seed)\n",
    "\n",
    "try:\n",
    "    tf.random.set_seed(seed)\n",
    "except AttributeError:\n",
    "    tf.set_random_seed(seed)\n",
    "\n",
    "base_path = '../..'\n",
    "all_data_file = f\"{base_path}/datasets/german_credit_eval.csv\"\n",
    "\n",
    "df = pd.read_csv(all_data_file)\n",
    "\n",
    "cat_columns = [\n",
    "    'checkingstatus',\n",
    "    'history',\n",
    "    'purpose',\n",
    "    'savings',\n",
    "    'employ',\n",
    "    'status',\n",
    "    'others',\n",
    "    'property',\n",
    "    'age',\n",
    "    'otherplans',\n",
    "    'housing',\n",
    "    'job',\n",
    "    'telephone',\n",
    "    'foreign'\n",
    "    ]\n",
    "\n",
    "label_column = 'outcome'\n",
    "\n",
    "# Separate outcome\n",
    "y = df[label_column]\n",
    "X = df.drop(label_column, axis=1)\n",
    "\n",
    "encoder = CatEncoder(cat_columns, X)\n",
    "\n",
    "# NN separate for probability scoring label \n",
    "y_model = np.asarray([(1,0) if x==1 else (0,1) for x in y ])\n",
    "\n",
    "best_model_path = os.path.join('.', 'best_model_keras')\n",
    "es = EarlyStopping(monitor='accuracy', mode='min', verbose=1,\n",
    "                   patience=100, min_delta=0.0001)\n",
    "\n",
    "rlp = ReduceLROnPlateau(monitor='accuracy', factor=0.02, patience=20, verbose=1, mode='min',\n",
    "                        min_delta=0.001, cooldown=1, min_lr=0.0001)\n",
    "mcp = ModelCheckpoint(best_model_path, monitor='accuracy', verbose=1,\n",
    "                      save_best_only=True, save_weights_only=False, mode='max')\n",
    "\n",
    "model = Sequential()\n",
    "model.add(Dense(60, input_dim=encoder(X.values).shape[1], activation='relu'))\n",
    "model.add(Dense(8, activation='relu'))\n",
    "model.add(Dense(2, activation='softmax'))\n",
    "model.compile(loss='binary_crossentropy', optimizer='adam', metrics=['accuracy'])\n",
    "model.fit(encoder(X.values), y_model, epochs=100, batch_size=10, callbacks=[mcp,rlp,es],validation_split=0.2)\n",
    "_, accuracy = model.evaluate(encoder(X.values), y_model)\n",
    "print('Accuracy: %.2f' % (accuracy*100))"
   ]
  },
  {
   "cell_type": "code",
   "execution_count": 3,
   "metadata": {
    "execution": {
     "iopub.execute_input": "2023-01-20T02:03:31.507512Z",
     "iopub.status.busy": "2023-01-20T02:03:31.507144Z",
     "iopub.status.idle": "2023-01-20T02:03:31.518938Z",
     "shell.execute_reply": "2023-01-20T02:03:31.518006Z"
    }
   },
   "outputs": [
    {
     "data": {
      "text/plain": [
       "1    700\n",
       "2    300\n",
       "Name: outcome, dtype: int64"
      ]
     },
     "execution_count": 3,
     "metadata": {},
     "output_type": "execute_result"
    }
   ],
   "source": [
    "# initial value counts of outcome label\n",
    "df['outcome'].value_counts()"
   ]
  },
  {
   "cell_type": "code",
   "execution_count": 4,
   "metadata": {
    "execution": {
     "iopub.execute_input": "2023-01-20T02:03:31.525026Z",
     "iopub.status.busy": "2023-01-20T02:03:31.524628Z",
     "iopub.status.idle": "2023-01-20T02:03:31.711201Z",
     "shell.execute_reply": "2023-01-20T02:03:31.710573Z"
    }
   },
   "outputs": [
    {
     "name": "stdout",
     "output_type": "stream",
     "text": [
      "32/32 [==============================] - 0s 834us/step\n"
     ]
    },
    {
     "data": {
      "text/plain": [
       "0.943"
      ]
     },
     "execution_count": 4,
     "metadata": {},
     "output_type": "execute_result"
    }
   ],
   "source": [
    "y_preds = model.predict(encoder(X.values))\n",
    "y_classes = np.argmax(y_preds,axis=1)\n",
    "y_actual = np.where(y==1, 0,1)\n",
    "np.mean(y_actual == y_classes)"
   ]
  },
  {
   "cell_type": "markdown",
   "metadata": {},
   "source": [
    "### creating new label"
   ]
  },
  {
   "cell_type": "code",
   "execution_count": 5,
   "metadata": {
    "execution": {
     "iopub.execute_input": "2023-01-20T02:03:31.714458Z",
     "iopub.status.busy": "2023-01-20T02:03:31.714243Z",
     "iopub.status.idle": "2023-01-20T02:03:31.718986Z",
     "shell.execute_reply": "2023-01-20T02:03:31.718371Z"
    }
   },
   "outputs": [
    {
     "data": {
      "text/plain": [
       "(598,)"
      ]
     },
     "execution_count": 5,
     "metadata": {},
     "output_type": "execute_result"
    }
   ],
   "source": [
    "# loan_granted 1\n",
    "new_label_1 = y_preds[y_preds[:,0] > 0.98][:,0]\n",
    "new_label_1.shape"
   ]
  },
  {
   "cell_type": "code",
   "execution_count": 6,
   "metadata": {
    "execution": {
     "iopub.execute_input": "2023-01-20T02:03:31.722236Z",
     "iopub.status.busy": "2023-01-20T02:03:31.722031Z",
     "iopub.status.idle": "2023-01-20T02:03:31.726340Z",
     "shell.execute_reply": "2023-01-20T02:03:31.725790Z"
    }
   },
   "outputs": [
    {
     "data": {
      "text/plain": [
       "(282,)"
      ]
     },
     "execution_count": 6,
     "metadata": {},
     "output_type": "execute_result"
    }
   ],
   "source": [
    "#loan_denied 2\n",
    "new_label_2 = y_preds[y_preds[:,0] < 0.3][:,0]\n",
    "new_label_2.shape"
   ]
  },
  {
   "cell_type": "code",
   "execution_count": 7,
   "metadata": {
    "execution": {
     "iopub.execute_input": "2023-01-20T02:03:31.729176Z",
     "iopub.status.busy": "2023-01-20T02:03:31.728991Z",
     "iopub.status.idle": "2023-01-20T02:03:31.733661Z",
     "shell.execute_reply": "2023-01-20T02:03:31.733127Z"
    }
   },
   "outputs": [
    {
     "data": {
      "text/plain": [
       "(120,)"
      ]
     },
     "execution_count": 7,
     "metadata": {},
     "output_type": "execute_result"
    }
   ],
   "source": [
    "# further_inspection 3\n",
    "new_label_3 = y_preds[(y_preds[:,0] > 0.3) & (y_preds[:,0] < 0.98)][:,0]\n",
    "new_label_3.shape"
   ]
  },
  {
   "cell_type": "markdown",
   "metadata": {},
   "source": [
    "### arrange the new labels to be appended to dataset"
   ]
  },
  {
   "cell_type": "code",
   "execution_count": 8,
   "metadata": {
    "execution": {
     "iopub.execute_input": "2023-01-20T02:03:31.736572Z",
     "iopub.status.busy": "2023-01-20T02:03:31.736389Z",
     "iopub.status.idle": "2023-01-20T02:03:31.742560Z",
     "shell.execute_reply": "2023-01-20T02:03:31.741841Z"
    }
   },
   "outputs": [],
   "source": [
    "new_label = []\n",
    "for z in y_preds:\n",
    "    prob_class_1 = z[0]\n",
    "    if prob_class_1 > 0.98:\n",
    "        new_label.append(1)\n",
    "    elif prob_class_1 < 0.3:\n",
    "        new_label.append(2)\n",
    "    else:\n",
    "        new_label.append(3)"
   ]
  },
  {
   "cell_type": "code",
   "execution_count": 9,
   "metadata": {
    "execution": {
     "iopub.execute_input": "2023-01-20T02:03:31.745543Z",
     "iopub.status.busy": "2023-01-20T02:03:31.745346Z",
     "iopub.status.idle": "2023-01-20T02:03:31.750040Z",
     "shell.execute_reply": "2023-01-20T02:03:31.749509Z"
    }
   },
   "outputs": [
    {
     "data": {
      "text/plain": [
       "0.845"
      ]
     },
     "execution_count": 9,
     "metadata": {},
     "output_type": "execute_result"
    }
   ],
   "source": [
    "# test for sanity of new labels\n",
    "np.mean(y==new_label)"
   ]
  },
  {
   "cell_type": "markdown",
   "metadata": {},
   "source": [
    "### create dataset with new labels"
   ]
  },
  {
   "cell_type": "code",
   "execution_count": 10,
   "metadata": {
    "execution": {
     "iopub.execute_input": "2023-01-20T02:03:31.752972Z",
     "iopub.status.busy": "2023-01-20T02:03:31.752790Z",
     "iopub.status.idle": "2023-01-20T02:03:31.756825Z",
     "shell.execute_reply": "2023-01-20T02:03:31.756198Z"
    }
   },
   "outputs": [],
   "source": [
    "df_new = df.copy()\n",
    "df_new[label_column] = new_label"
   ]
  },
  {
   "cell_type": "markdown",
   "metadata": {},
   "source": [
    "### check new outcome label counts"
   ]
  },
  {
   "cell_type": "code",
   "execution_count": 11,
   "metadata": {
    "execution": {
     "iopub.execute_input": "2023-01-20T02:03:31.759842Z",
     "iopub.status.busy": "2023-01-20T02:03:31.759654Z",
     "iopub.status.idle": "2023-01-20T02:03:31.764558Z",
     "shell.execute_reply": "2023-01-20T02:03:31.763993Z"
    }
   },
   "outputs": [
    {
     "data": {
      "text/plain": [
       "1    598\n",
       "2    282\n",
       "3    120\n",
       "Name: outcome, dtype: int64"
      ]
     },
     "execution_count": 11,
     "metadata": {},
     "output_type": "execute_result"
    }
   ],
   "source": [
    "df_new['outcome'].value_counts()"
   ]
  },
  {
   "cell_type": "markdown",
   "metadata": {},
   "source": [
    "### dump the new dataset as csv"
   ]
  },
  {
   "cell_type": "code",
   "execution_count": 12,
   "metadata": {
    "execution": {
     "iopub.execute_input": "2023-01-20T02:03:31.767639Z",
     "iopub.status.busy": "2023-01-20T02:03:31.767447Z",
     "iopub.status.idle": "2023-01-20T02:03:31.783768Z",
     "shell.execute_reply": "2023-01-20T02:03:31.782827Z"
    }
   },
   "outputs": [],
   "source": [
    "save_as = f\"{base_path}/datasets/german_credit_eval_multiclass.csv\"\n",
    "df_new.to_csv(save_as,index=False)"
   ]
  },
  {
   "cell_type": "markdown",
   "metadata": {},
   "source": [
    "### check file is saved correctly"
   ]
  },
  {
   "cell_type": "code",
   "execution_count": 13,
   "metadata": {
    "execution": {
     "iopub.execute_input": "2023-01-20T02:03:31.787254Z",
     "iopub.status.busy": "2023-01-20T02:03:31.787047Z",
     "iopub.status.idle": "2023-01-20T02:03:31.938380Z",
     "shell.execute_reply": "2023-01-20T02:03:31.936827Z"
    }
   },
   "outputs": [
    {
     "name": "stdout",
     "output_type": "stream",
     "text": [
      "german_credit_eval_multiclass.csv\r\n"
     ]
    }
   ],
   "source": [
    "!ls $base_path/datasets | grep multiclass.csv"
   ]
  },
  {
   "cell_type": "code",
   "execution_count": null,
   "metadata": {},
   "outputs": [],
   "source": []
  }
 ],
 "metadata": {
  "kernelspec": {
   "display_name": "Python 3 (ipykernel)",
   "language": "python",
   "name": "python3"
  },
  "language_info": {
   "codemirror_mode": {
    "name": "ipython",
    "version": 3
   },
   "file_extension": ".py",
   "mimetype": "text/x-python",
   "name": "python",
   "nbconvert_exporter": "python",
   "pygments_lexer": "ipython3",
   "version": "3.8.13"
  }
 },
 "nbformat": 4,
 "nbformat_minor": 4
}
